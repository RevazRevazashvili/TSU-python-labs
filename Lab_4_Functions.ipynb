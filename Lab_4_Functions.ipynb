{
  "nbformat": 4,
  "nbformat_minor": 0,
  "metadata": {
    "colab": {
      "provenance": [],
      "authorship_tag": "ABX9TyMVxNwPJt7dzRx0pzkUKlGf",
      "include_colab_link": true
    },
    "kernelspec": {
      "name": "python3",
      "display_name": "Python 3"
    },
    "language_info": {
      "name": "python"
    }
  },
  "cells": [
    {
      "cell_type": "markdown",
      "metadata": {
        "id": "view-in-github",
        "colab_type": "text"
      },
      "source": [
        "<a href=\"https://colab.research.google.com/github/RevazRevazashvili/TSU-python-labs/blob/main/Lab_4_Functions.ipynb\" target=\"_parent\"><img src=\"https://colab.research.google.com/assets/colab-badge.svg\" alt=\"Open In Colab\"/></a>"
      ]
    },
    {
      "cell_type": "markdown",
      "source": [
        "# სამომხმარებლო ფუნქციები"
      ],
      "metadata": {
        "id": "R3DHrg2lUhgm"
      }
    },
    {
      "cell_type": "code",
      "source": [
        "\"\"\"\n",
        "ფუნქცია საშუალებაა კოდის ფრაგმენტი შევასრულოთ კოდის სხვადასხვა ადგილას, ფუნქციის სახელით და პარამეტრებით(ასეთის არსებობის შემთხვევაში)\n",
        "\"\"\""
      ],
      "metadata": {
        "id": "9lFX_NSuUllq",
        "colab": {
          "base_uri": "https://localhost:8080/",
          "height": 36
        },
        "outputId": "cfbc2841-7880-409b-9b9c-2513154b8b01"
      },
      "execution_count": 51,
      "outputs": [
        {
          "output_type": "execute_result",
          "data": {
            "text/plain": [
              "'\\nფუნქცია საშუალებაა კოდის ფრაგმენტი შევასრულოთ კოდის სხვადასხვა ადგილას, ფუნქციის სახელით და პარამეტრებით(ასეთის არსებობის შემთხვევაში)\\n'"
            ],
            "application/vnd.google.colaboratory.intrinsic+json": {
              "type": "string"
            }
          },
          "metadata": {},
          "execution_count": 51
        }
      ]
    },
    {
      "cell_type": "markdown",
      "source": [
        "უპარამეტრო ფუნქცია"
      ],
      "metadata": {
        "id": "CZM9p360V5qR"
      }
    },
    {
      "cell_type": "code",
      "source": [
        "# ფუნქციის განსაზღვრა ხდება def keyword-ით\n",
        "\n",
        "def my_func():\n",
        "  pass # pass საშუალებაა ფუნქცია შევქმნათ რომელიც არ ასრულებს მოქმედებას"
      ],
      "metadata": {
        "id": "T-zhg48bU8Wl"
      },
      "execution_count": 52,
      "outputs": []
    },
    {
      "cell_type": "markdown",
      "source": [
        "პარამეტრიანი ფუნქცია"
      ],
      "metadata": {
        "id": "EqXcfK2XV8DJ"
      }
    },
    {
      "cell_type": "code",
      "source": [
        "# პარამეტრიანი ფუნქცია რომელიც ბეჭდავს არგუმენტად გადაცემულ პარამეტრს\n",
        "\n",
        "def my_func(a):\n",
        "  print(a)"
      ],
      "metadata": {
        "id": "GRW5R4qQVVtl"
      },
      "execution_count": 53,
      "outputs": []
    },
    {
      "cell_type": "code",
      "source": [
        "# ფუნქცია რომელიც ადარებს პარამეტრად გადაცემულ ორ მნიშვნელობას\n",
        "\n",
        "def greater(a,b):\n",
        "  return a if a > b else b\n",
        "\n",
        "\n",
        "greater(2,3)"
      ],
      "metadata": {
        "colab": {
          "base_uri": "https://localhost:8080/"
        },
        "id": "cb-6rXbQWQ_F",
        "outputId": "7f79940a-2190-4687-fc5e-1e68e78ebddf"
      },
      "execution_count": 54,
      "outputs": [
        {
          "output_type": "execute_result",
          "data": {
            "text/plain": [
              "3"
            ]
          },
          "metadata": {},
          "execution_count": 54
        }
      ]
    },
    {
      "cell_type": "code",
      "source": [
        "\"\"\"\n",
        "  პითონში ფუნქციას შეუძლია ერთზე მეტი მნიშვნელობის დაბრუნება return-ის საშუალებით\n",
        "\"\"\""
      ],
      "metadata": {
        "colab": {
          "base_uri": "https://localhost:8080/",
          "height": 36
        },
        "id": "zj83llr4Wej6",
        "outputId": "7f47fb1d-210e-4986-d491-85bc0ba2435e"
      },
      "execution_count": 55,
      "outputs": [
        {
          "output_type": "execute_result",
          "data": {
            "text/plain": [
              "'\\n  პითონში ფუნქციას შეუძლია ერთზე მეტი მნიშვნელობის დაბრუნება return-ის საშუალებით\\n'"
            ],
            "application/vnd.google.colaboratory.intrinsic+json": {
              "type": "string"
            }
          },
          "metadata": {},
          "execution_count": 55
        }
      ]
    },
    {
      "cell_type": "code",
      "source": [
        "# ფუნქცია რომელიც აბრუნებს პარამეტრად გადაცემული მნიშვნელობების ჯამსა და ნამრავლს\n",
        "\n",
        "def a_and_b(a, b):\n",
        "  return a+b, a*b\n",
        "\n",
        "x, y = a_and_b(2, 7)\n",
        "print(f\"x is {x}, y is {y}\")"
      ],
      "metadata": {
        "colab": {
          "base_uri": "https://localhost:8080/"
        },
        "id": "CLU4ChSeXi5k",
        "outputId": "4582cf4f-48ef-4f58-f9d2-ad90d50fd7c3"
      },
      "execution_count": 56,
      "outputs": [
        {
          "output_type": "stream",
          "name": "stdout",
          "text": [
            "x is 9, y is 14\n"
          ]
        }
      ]
    },
    {
      "cell_type": "code",
      "source": [
        "\"\"\"\n",
        "  ფუნქციას პარამეტრები შეგვიძლია ცხადად გადავცეთ, ცვლადების დასახელებებით\n",
        "\n",
        "\"\"\""
      ],
      "metadata": {
        "id": "mIRhI6z8YfQM",
        "colab": {
          "base_uri": "https://localhost:8080/",
          "height": 36
        },
        "outputId": "58d3ac3a-7272-47d3-f8b4-06b26c25d51b"
      },
      "execution_count": 57,
      "outputs": [
        {
          "output_type": "execute_result",
          "data": {
            "text/plain": [
              "'\\n  ფუნქციას პარამეტრები შეგვიძლია ცხადად გადავცეთ, ცვლადების დასახელებებით\\n\\n'"
            ],
            "application/vnd.google.colaboratory.intrinsic+json": {
              "type": "string"
            }
          },
          "metadata": {},
          "execution_count": 57
        }
      ]
    },
    {
      "cell_type": "code",
      "source": [
        "x, y = a_and_b(a=3, b=5)\n",
        "print(f\"x is {x}, y is {y}\")"
      ],
      "metadata": {
        "colab": {
          "base_uri": "https://localhost:8080/"
        },
        "id": "-x4pR3NQZCxB",
        "outputId": "7a2d6d00-6fb8-4614-b26d-d131b9d83d12"
      },
      "execution_count": 58,
      "outputs": [
        {
          "output_type": "stream",
          "name": "stdout",
          "text": [
            "x is 8, y is 15\n"
          ]
        }
      ]
    },
    {
      "cell_type": "code",
      "source": [
        "# პარამეტრების მიმდევრობას მნიშვნელობა არ აქვს\n",
        "\n",
        "x, y = a_and_b(b=5, a=3)\n",
        "print(f\"x is {x}, y is {y}\")"
      ],
      "metadata": {
        "colab": {
          "base_uri": "https://localhost:8080/"
        },
        "id": "spKvgHuuZLh4",
        "outputId": "fbd0a287-7872-42ab-a48f-1dbf84fec70e"
      },
      "execution_count": 59,
      "outputs": [
        {
          "output_type": "stream",
          "name": "stdout",
          "text": [
            "x is 8, y is 15\n"
          ]
        }
      ]
    },
    {
      "cell_type": "code",
      "source": [
        "\"\"\"\n",
        "თუ ფუნქციის გამოძახება ხშირად ხდება პარამეტრების ერთიდაიმავე მნიშვნელობების მიმართ, მაშინ უმჯობესია ასეთ შემთხვევაში პარამეტრებს განესაზღვროთ ე.წ. გაჩუმებით მნიშვნელობები.\n",
        "პარამეტრს, რომელსაც არ აქვს განსაზღვრული გაჩუმებითი მნიშვნელობა აუცილებელი პარამეტრი ეწოდება, ხოლო პარამეტრს გაჩუმებითი მნიშვნელობით კი - არააუცილებელი პარამეტრი.\n",
        "\n",
        "\"\"\""
      ],
      "metadata": {
        "id": "VuQM37b4aD8x",
        "colab": {
          "base_uri": "https://localhost:8080/",
          "height": 53
        },
        "outputId": "28eef740-7be8-4e73-91f7-fdf1537c2bcb"
      },
      "execution_count": 60,
      "outputs": [
        {
          "output_type": "execute_result",
          "data": {
            "text/plain": [
              "'\\nთუ ფუნქციის გამოძახება ხშირად ხდება პარამეტრების ერთიდაიმავე მნიშვნელობების მიმართ, მაშინ უმჯობესია ასეთ შემთხვევაში პარამეტრებს განესაზღვროთ ე.წ. გაჩუმებით მნიშვნელობები.\\nპარამეტრს, რომელსაც არ აქვს განსაზღვრული გაჩუმებითი მნიშვნელობა აუცილებელი პარამეტრი ეწოდება, ხოლო პარამეტრს გაჩუმებითი მნიშვნელობით კი - არააუცილებელი პარამეტრი.\\n\\n'"
            ],
            "application/vnd.google.colaboratory.intrinsic+json": {
              "type": "string"
            }
          },
          "metadata": {},
          "execution_count": 60
        }
      ]
    },
    {
      "cell_type": "code",
      "source": [
        "# ფუნქცია გაჩუმებითი მნიშვნელობით\n",
        "\n",
        "def user_func(a, b=2):\n",
        "  return a + b\n",
        "\n",
        "print(user_func(1))\n",
        "print(user_func(1, 9))"
      ],
      "metadata": {
        "colab": {
          "base_uri": "https://localhost:8080/"
        },
        "id": "nIsNbFSLhIjB",
        "outputId": "f46c0a93-bc5e-4249-a657-2bffc0f5c694"
      },
      "execution_count": 61,
      "outputs": [
        {
          "output_type": "stream",
          "name": "stdout",
          "text": [
            "3\n",
            "10\n"
          ]
        }
      ]
    },
    {
      "cell_type": "code",
      "source": [
        "\"\"\"\n",
        "*-ის გამოყენება პარამეტრების სიამდე მიუთითებს, რომ ყველა შემდეგი პარამეტრი უნდა იყოს მითითებული, როგორც keyword სიტყვების არგუმენტები.\n",
        "\n",
        "\"\"\""
      ],
      "metadata": {
        "colab": {
          "base_uri": "https://localhost:8080/",
          "height": 36
        },
        "id": "m2v4PLDWBCTK",
        "outputId": "553c0f4b-069b-4dad-e28f-c2defa0e7731"
      },
      "execution_count": 62,
      "outputs": [
        {
          "output_type": "execute_result",
          "data": {
            "text/plain": [
              "'\\n*-ის გამოყენება პარამეტრების სიამდე მიუთითებს, რომ ყველა შემდეგი პარამეტრი უნდა იყოს მითითებული, როგორც keyword სიტყვების არგუმენტები.\\n\\n'"
            ],
            "application/vnd.google.colaboratory.intrinsic+json": {
              "type": "string"
            }
          },
          "metadata": {},
          "execution_count": 62
        }
      ]
    },
    {
      "cell_type": "code",
      "source": [
        "# ფუნქცია რომელიც მოითხოვს, პარამეტრად გადაცემული არგუმენტების სახელებით დაკონკრეტებას\n",
        "\n",
        "def user_func(*, a, b, c=10):\n",
        "  return a + b + c\n",
        "c = user_func(1,2,1)\n",
        "c = user_func(a = 1, b = 5)\n"
      ],
      "metadata": {
        "id": "OZrBM-y4hVOn"
      },
      "execution_count": null,
      "outputs": []
    },
    {
      "cell_type": "code",
      "source": [
        "\"\"\"\n",
        "პარამეტრების სიაში '/' მიუთითებს, რომ ყველა პარამეტრი მანამდე უნდა იყოს მხოლოდ პოზიციური,\n",
        "რაც ნიშნავს, რომ მათი დაზუსტება შესაძლებელია მხოლოდ პოზიციით და არა საკვანძო სიტყვით.\n",
        "\n",
        "\"\"\""
      ],
      "metadata": {
        "id": "SB9NYh1mBhYH"
      },
      "execution_count": null,
      "outputs": []
    },
    {
      "cell_type": "code",
      "source": [
        "# ფუნქცია რომელიც არ მოითხოვს არგუმენტების სახელებით დაკონკრეტებას / ოპერატორამდე\n",
        "\n",
        "def user_func(a, b, /, c=10):\n",
        "  return a + b + c\n",
        "d = user_func(1, 5, c=9)\n",
        "d = user_func(1, c=5, b=15)\n"
      ],
      "metadata": {
        "id": "6Yu4ub6v_C_4"
      },
      "execution_count": null,
      "outputs": []
    },
    {
      "cell_type": "code",
      "source": [
        "\"\"\"\n",
        "Python ენა იძლევა ფუნქციის ერთხელ განმარტების და შემდეგ პარამეტრების სხვადასხვა რაოდენობის მიმართ გამოყენების საშუალებას. ამ მიზნით გამოიყენება სიმბოლო * ცვლადის სახელთან\n",
        "\n",
        "\"\"\""
      ],
      "metadata": {
        "id": "jYE_f4anCLqY"
      },
      "execution_count": null,
      "outputs": []
    },
    {
      "cell_type": "code",
      "source": [
        "def Sum(*t):\n",
        "  summ = 0\n",
        "  for i in t:\n",
        "      summ += i\n",
        "  return summ\n",
        "print(f\"Zero parameter: Sum() = { Sum() }\")\n",
        "print(f\"Two parameter: Sum(10, 20) = { Sum(10, 20) }\")\n",
        "print(f\"Three parameter: Sum(10, 20, 30) = { Sum(10, 20, 30) }\")"
      ],
      "metadata": {
        "id": "pFE-pkTRCNiL"
      },
      "execution_count": null,
      "outputs": []
    },
    {
      "cell_type": "code",
      "source": [
        "\"\"\"\n",
        "ასევე შესაძლებელია ფუნქციის პარამეტრთან ორი * სიმბოლოს გამოყენება, რომელიც იძლევა key=value ფორმით ფუნქციისთვის ნებისმიერი რაოდენობის პარამეტრების გადაცემის საშუალებას\n",
        "\n",
        "\"\"\""
      ],
      "metadata": {
        "id": "iqIZ5vN1Cbgr"
      },
      "execution_count": null,
      "outputs": []
    },
    {
      "cell_type": "code",
      "source": [
        "def Sum(**t):\n",
        "  summ = 0\n",
        "  for i in t.keys():\n",
        "      summ += t[i]\n",
        "  return summ\n",
        "\n",
        "print(f\"Zero parameter: Sum() = { Sum() }\")\n",
        "print(f\"Two parameter: Sum(10, 20) = { Sum(x=10, y=20) }\")\n",
        "print(f\"Three parameter: Sum(10, 20, 30) = { Sum(a=10, b=20, c=30) }\")\n"
      ],
      "metadata": {
        "id": "XbBS2IKFC_pI"
      },
      "execution_count": null,
      "outputs": []
    },
    {
      "cell_type": "code",
      "source": [
        "def Sum(**t):\n",
        "  summ = 0\n",
        "  for i in t.values():\n",
        "      summ += i\n",
        "  return summ\n",
        "\n",
        "print(f\"Zero parameter: Sum() = { Sum() }\")\n",
        "print(f\"Two parameter: Sum(10, 20) = { Sum(x=10, y=20) }\")\n",
        "print(f\"Three parameter: Sum(10, 20, 30) = { Sum(a=10, b=20, c=30) }\")"
      ],
      "metadata": {
        "id": "QoF4cRNsDJeb"
      },
      "execution_count": null,
      "outputs": []
    },
    {
      "cell_type": "code",
      "source": [
        "def Sum(**t):\n",
        "  summ = 0\n",
        "  for key, value in t.items():\n",
        "      summ += value\n",
        "  return summ\n",
        "\n",
        "print(f\"Zero parameter: Sum() = { Sum() }\")\n",
        "print(f\"Two parameter: Sum(10, 20) = { Sum(x=10, y=20) }\")\n",
        "print(f\"Three parameter: Sum(10, 20, 30) = { Sum(a=10, b=20, c=30) }\")"
      ],
      "metadata": {
        "id": "Ibg9rlGeDVcD"
      },
      "execution_count": null,
      "outputs": []
    },
    {
      "cell_type": "code",
      "source": [
        "\"\"\"\n",
        "Python ენაში შესაძლებელია ერთი ფუნქციისთვის პარამეტრად მეორე ფუნქციის გადაცემა.\n",
        "\n",
        "\"\"\""
      ],
      "metadata": {
        "id": "tYoh-P8eDvAJ"
      },
      "execution_count": null,
      "outputs": []
    },
    {
      "cell_type": "code",
      "source": [
        "# ფუნქცია როგორც სხვა ფუნქციის პარამეტრი\n",
        "\n",
        "def Sum(a, b):\n",
        "  return a + b\n",
        "\n",
        "def Print_Sum(f, a, b):\n",
        "\tprint(f\"{a} + {b} = {f(a, b)}\")\n",
        "\n",
        "Print_Sum(Sum, 1, 2)"
      ],
      "metadata": {
        "id": "vlDeMq28GMxU"
      },
      "execution_count": null,
      "outputs": []
    },
    {
      "cell_type": "code",
      "source": [
        "\"\"\"\n",
        "Python ენაში ასევე შესაძლებელია ერთი ფუნქციის შიგნით მეორე ფუნქციის განსაზღვრა.\n",
        "ამ შემთხვევაში გარე ფუნქციაში გამოცხადებული ცვლადები ხელმისაწვდომი იქნება შიდა ფუნქციისთვის, მაგრამ პირიქით არა\n",
        "\n",
        "\"\"\""
      ],
      "metadata": {
        "id": "Md_CKZuiGpf3"
      },
      "execution_count": null,
      "outputs": []
    },
    {
      "cell_type": "code",
      "source": [
        "# ფუნქცია ფუნქციაში\n",
        "\n",
        "def Print_Sum(a, b):\n",
        "  def Sum(a, b):\n",
        "    return a + b\n",
        "  print(f\"{a} + {b} = {Sum(a, b)}\")\n",
        "Print_Sum(1, 2)\n"
      ],
      "metadata": {
        "id": "p9H1VPLLGtEm"
      },
      "execution_count": null,
      "outputs": []
    },
    {
      "cell_type": "code",
      "source": [
        "\"\"\"\n",
        "Python ენა იძლევა სხვადასხვა სახის სპეციფიური ფუნქციების განსაზღვრის საშუალებას. ასეთი ფუნქციებია:\n",
        "  ანონიმური ფუნქციები\n",
        "  ფუნქცია-გენერატორები\n",
        "  ფუნქცია-დეკორატორები\n",
        "  რეკურსიული ფუნქცია\n",
        "\n",
        "\"\"\""
      ],
      "metadata": {
        "id": "0bx37VWqHI1t"
      },
      "execution_count": null,
      "outputs": []
    },
    {
      "cell_type": "markdown",
      "source": [
        "ანონიმური ფუნქციები"
      ],
      "metadata": {
        "id": "XNRTJqlPKsJo"
      }
    },
    {
      "cell_type": "code",
      "source": [
        "\"\"\"\n",
        "Python ენაში სამომხმარებლო ფუნქციების განმარტების გარდა შესაძლებელია ე.წ. ანონიმური (ე.წ. ლამბდა) ფუნქციის განმარტება.\n",
        "ფუნქცია არ აბრუნებს ჩვეულებრივ მნიშვნელობას. ის აბრუნებს მიმთითებელს ობიექტზე, რომელიც შეიძლება შენახული იქნას ცვლადში.\n",
        "ცვლადში დაბრუნებული მიმთითებელი იძლევა ფუნქციის მსგავსად ცვლადის გამოყენების საშუალებას.\n",
        "\n",
        "\"\"\""
      ],
      "metadata": {
        "id": "xIHpMJngKuo4"
      },
      "execution_count": null,
      "outputs": []
    },
    {
      "cell_type": "code",
      "source": [
        "printInfo = lambda: print(\"This is lambda function!\")\n",
        "summ = lambda x, y=30: x + y\n",
        "printInfo()\n",
        "print(f\"summ(10) = {summ(10)}\")"
      ],
      "metadata": {
        "id": "ISOzc5akNuQc"
      },
      "execution_count": null,
      "outputs": []
    },
    {
      "cell_type": "markdown",
      "source": [
        "ფუნქცია გენერატორი"
      ],
      "metadata": {
        "id": "c2fiEDROPqMS"
      }
    },
    {
      "cell_type": "code",
      "source": [
        "\"\"\"\n",
        "ფუნქცია-გენერატორი ეს არის ფუნქცია, რომელსაც ყოველი იტერაციისას რამდენიმე მნიშვნელობიდან შეუძლია დააბრუნოს მხოლოდ ერთი.\n",
        "ფუნქციის საქმიანობის შეჩერების და ფუნქციის გენერატორად გადაქცევის საშუალებას იძლევა გასაღები სიტყვა yield.\n",
        "\n",
        "\"\"\""
      ],
      "metadata": {
        "id": "yuuIl6O2N_2Z"
      },
      "execution_count": null,
      "outputs": []
    },
    {
      "cell_type": "markdown",
      "source": [
        "უპირატესობები\n",
        "\n",
        "1.   მეხსიერების ეფექტურობა: გენერატორები აწარმოებენ მნიშვნელობებს ერთდროულად, ვიდრე ერთდროულად ინახავენ ყველა მნიშვნელობას მეხსიერებაში. ეს განსაკუთრებით სასარგებლოა მონაცემთა დიდ ნაკრებებთან მუშაობისას, რადგან ამცირებს მეხსიერების მოხმარებას.\n",
        "2.   უსასრულო თანმიმდევრობა: გენერატორებს შეუძლიათ წარმოადგინონ უსასრულო მიმდევრობა, რაც შეუძლებელია რეგულარული სიებით. მაგალითად, შეგიძლიათ შექმნათ გენერატორი რიცხვების უსასრულო თანმიმდევრობისთვის მეხსიერების შეზღუდვების გარეშე.\n",
        "3.  ეფექტური გამეორება: გენერატორები მხარს უჭერენ ეფექტურ გამეორებას. თქვენ შეგიძლიათ გაიმეოროთ გენერატორის მიერ წარმოებული მნიშვნელობები for loop-ის ან სხვა გამეორების მექანიზმების გამოყენებით.\n",
        "\n"
      ],
      "metadata": {
        "id": "1hfIllpoT2rO"
      }
    },
    {
      "cell_type": "code",
      "source": [
        "def func_gen(x, y):\n",
        "  for number in range(x+1):\n",
        "      yield number ** y\n",
        "for n in func_gen(10, 2):\n",
        "    print(n, end=\"  \")"
      ],
      "metadata": {
        "id": "PQRGG33ZPvaZ"
      },
      "execution_count": null,
      "outputs": []
    },
    {
      "cell_type": "markdown",
      "source": [
        "ფუნქცია დეკორატორები"
      ],
      "metadata": {
        "id": "773uXaEYU9SD"
      }
    },
    {
      "cell_type": "code",
      "source": [
        "\"\"\"\n",
        "პითონში დეკორატორი არის დიზაინის ნიმუში, რომელიც საშუალებას გაძლევთ გააფართოვოთ ან შეცვალოთ ფუნქციების ან მეთოდების ქცევა მათი ფაქტობრივი კოდის შეცვლის გარეშე.\n",
        "დეკორატორებს ხშირად იყენებენ არსებული ფუნქციების ფუნქციონირების დასამატებლად სუფთა და მრავალჯერადი გამოყენების გზით.\n",
        "\n",
        "\"\"\""
      ],
      "metadata": {
        "id": "yyYHTjnkSeYU"
      },
      "execution_count": null,
      "outputs": []
    },
    {
      "cell_type": "code",
      "source": [
        "def func_dec(f):\n",
        "  print(f\"There was called function: {f.__name__ }\")\n",
        "  return f\n",
        "@func_dec\n",
        "def func(x):\n",
        "  return f\"x = { x }\"\n",
        "# @func_dec\n",
        "# def func1(y):\n",
        "#   return f\"y = { y }\"\n",
        "print(func(10))\n",
        "# print(func1(20))\n"
      ],
      "metadata": {
        "id": "0bGC9D7JQxYk"
      },
      "execution_count": null,
      "outputs": []
    },
    {
      "cell_type": "markdown",
      "source": [
        "რეკურსიული ფუნქციები"
      ],
      "metadata": {
        "id": "UI-OxHhelhyk"
      }
    },
    {
      "cell_type": "code",
      "source": [
        "\"\"\"\n",
        "რეკურსია ეს არის ფუნქციის შესაძლებლობა მიმართოს საკუთარ თავს, ხოლო ფუნქციას, რომელიც მიმართავს საკუთარ თავს რეკურსიული ფუნქცია ეწოდება.\n",
        "\n",
        "\"\"\""
      ],
      "metadata": {
        "id": "rSEF9YhzVtym"
      },
      "execution_count": null,
      "outputs": []
    },
    {
      "cell_type": "code",
      "source": [
        "def func_fact(n):\n",
        "  if n == 0 or n == 1:\n",
        "    return 1\n",
        "  else:\n",
        "    return x * func_fact(n - 1)\n",
        "print(f\"Factorial of {5} is {func_fact(5)}\")"
      ],
      "metadata": {
        "colab": {
          "base_uri": "https://localhost:8080/"
        },
        "id": "wug7-5zvlzHS",
        "outputId": "03cad6ba-4281-4b5c-fd70-ef8234049549"
      },
      "execution_count": 64,
      "outputs": [
        {
          "output_type": "stream",
          "name": "stdout",
          "text": [
            "Factorial of 5 is 4096\n"
          ]
        }
      ]
    },
    {
      "cell_type": "markdown",
      "source": [
        "#დოკუმენტირების სტრიქონი"
      ],
      "metadata": {
        "id": "td7Gjy7ImjeD"
      }
    },
    {
      "cell_type": "code",
      "source": [
        "\"\"\"\n",
        "Python ენა იძლევა ფუნქციის დოკუმენტირების საშუალებას. ამ მიზნით რეკომენდირებულია სამი ცალი ორმაგი აპოსტროფის (\") სიმბოლოს გამოყენება.\n",
        "შესაბამისი სტრიქონი უნდა მოდიოდეს უშუალოდ ფუნქციის სახელის შემდეგ.\n",
        "\n",
        "\"\"\""
      ],
      "metadata": {
        "id": "qaUNRYgOmipM"
      },
      "execution_count": null,
      "outputs": []
    },
    {
      "cell_type": "code",
      "source": [
        "def func(a, b):\n",
        "  \"\"\" ფუნქცია ითვლის ორი რიცხვის ჯამს და აბრუნებს შედეგს.\n",
        "      ფუნქცია პარამეტრად ღებულობს ორ მთელ მნიშვნელობას.\n",
        "               f(a, b) --> a + b\"\"\"\n",
        "  return a + b\n",
        "print(f\"docstring of func:\\n {func.__doc__}\")\n"
      ],
      "metadata": {
        "colab": {
          "base_uri": "https://localhost:8080/"
        },
        "id": "FczrCA4omvRd",
        "outputId": "3eb32a86-0e42-4992-92b0-fba4048af820"
      },
      "execution_count": 68,
      "outputs": [
        {
          "output_type": "stream",
          "name": "stdout",
          "text": [
            "docstring of func:\n",
            "  ფუნქცია ითვლის ორი რიცხვის ჯამს და აბრუნებს შედეგს.\n",
            "      ფუნქცია პარამეტრად ღებულობს ორ მთელ მნიშვნელობას. \n",
            "               f(a, b) --> a + b\n"
          ]
        }
      ]
    },
    {
      "cell_type": "markdown",
      "source": [
        "#გლობალური და ლოკალური ცვლადები"
      ],
      "metadata": {
        "id": "c5JpuYBxnPG_"
      }
    },
    {
      "cell_type": "code",
      "source": [
        "\"\"\"\n",
        "Python ენაში ცვლადი არის გლობალური თუ ის გამოყენებულია კოდის ფაილში განმარტებული ნებისმიერი ფუნქციის გარეთ.\n",
        "გლობალურ ცვლადზე მიმართვა შესაძლებელია პროგრამის ნებისმიერი ადგილიდან.\n",
        "\n",
        "ცვლადი არის ლოკალური, თუ მისი გამოცხადება მოხდა ფუნქციის ტანში. ლოკალურ ცვლადზე მიმართვა ფუნქციის განმარტების გარეთ გამოიწვევს შეცდომას.\n",
        "ფუნქციის შიგნით გლობალურ ცვლადზე ცვლილების განსახორციელებლად გამოიყენება გასაღები სიტყვა global.\n",
        "\n",
        "\"\"\""
      ],
      "metadata": {
        "id": "X3-u9Ykwm6vD"
      },
      "execution_count": null,
      "outputs": []
    },
    {
      "cell_type": "code",
      "source": [
        "glob = 10\n",
        "def func():\n",
        "  print(f\"global variable {glob}\")\n",
        "func()"
      ],
      "metadata": {
        "colab": {
          "base_uri": "https://localhost:8080/"
        },
        "id": "OPBTxZ8znh8n",
        "outputId": "78b9502d-a97c-47fa-f5e0-2309d2e25ef4"
      },
      "execution_count": 69,
      "outputs": [
        {
          "output_type": "stream",
          "name": "stdout",
          "text": [
            "global variable 10\n"
          ]
        }
      ]
    },
    {
      "cell_type": "code",
      "source": [
        "glob = 10\n",
        "def func():\n",
        "  global glob\n",
        "  print(f\"global variable {glob}\")\n",
        "func()\n"
      ],
      "metadata": {
        "colab": {
          "base_uri": "https://localhost:8080/"
        },
        "id": "yckS3FjwnlIK",
        "outputId": "d5b6d200-f5fb-44fa-9af9-9aac25cdc7ad"
      },
      "execution_count": 71,
      "outputs": [
        {
          "output_type": "stream",
          "name": "stdout",
          "text": [
            "global variable 10\n"
          ]
        }
      ]
    },
    {
      "cell_type": "code",
      "source": [
        "\"\"\"\n",
        "Python ენაში py გაფართოების ფაილი წარმოადგენს ცალკე აღებულ ობიექტს და მასაც სხვა ობიექტების მსგავსად განსაზღვრული აქვს ატრიბუტი __name__,\n",
        "რომელშიც ავტომატურად იწერება სახელი __main__. მკაცრი ტიპიზირების პროგრამირების ენების მსგავსად მთავარი ფუნქციის იმიტირების მიზნით\n",
        "კოდის ფაილში საზღვრავენ მეთოდს main() და მას მიმართავენ კონსტრუქციით:\n",
        "\n",
        "\"\"\""
      ],
      "metadata": {
        "id": "_wIyzbbDn9tw"
      },
      "execution_count": null,
      "outputs": []
    },
    {
      "cell_type": "code",
      "source": [
        "if __name__ == \"__main__\":\n",
        "  # execute only if run as a script\n",
        "  main()\n"
      ],
      "metadata": {
        "colab": {
          "base_uri": "https://localhost:8080/",
          "height": 210
        },
        "id": "0g66iqiPnrp-",
        "outputId": "7f0b7c49-32a3-48d1-f112-33f212f875bd"
      },
      "execution_count": 72,
      "outputs": [
        {
          "output_type": "error",
          "ename": "NameError",
          "evalue": "name 'main' is not defined",
          "traceback": [
            "\u001b[0;31m---------------------------------------------------------------------------\u001b[0m",
            "\u001b[0;31mNameError\u001b[0m                                 Traceback (most recent call last)",
            "\u001b[0;32m<ipython-input-72-4d7fa56ea07d>\u001b[0m in \u001b[0;36m<cell line: 1>\u001b[0;34m()\u001b[0m\n\u001b[1;32m      1\u001b[0m \u001b[0;32mif\u001b[0m \u001b[0m__name__\u001b[0m \u001b[0;34m==\u001b[0m \u001b[0;34m\"__main__\"\u001b[0m\u001b[0;34m:\u001b[0m\u001b[0;34m\u001b[0m\u001b[0;34m\u001b[0m\u001b[0m\n\u001b[1;32m      2\u001b[0m   \u001b[0;31m# execute only if run as a script\u001b[0m\u001b[0;34m\u001b[0m\u001b[0;34m\u001b[0m\u001b[0m\n\u001b[0;32m----> 3\u001b[0;31m   \u001b[0mmain\u001b[0m\u001b[0;34m(\u001b[0m\u001b[0;34m)\u001b[0m\u001b[0;34m\u001b[0m\u001b[0;34m\u001b[0m\u001b[0m\n\u001b[0m",
            "\u001b[0;31mNameError\u001b[0m: name 'main' is not defined"
          ]
        }
      ]
    },
    {
      "cell_type": "code",
      "source": [
        "\"\"\"\n",
        "Python ენაში არსებობს მოდული typing, რომელიც ფორმალურად იძლევა ტიპის მითითების საშუალებას.\n",
        "ფუნქციის შემთხვევაში ტიპის მითითება ამარტივებს ფუნქციისთვის გადასაცემი პარამეტრების და დასაბრუნებელი ტიპის დადგენის საშუალებას.\n",
        "\n",
        "\"\"\""
      ],
      "metadata": {
        "id": "aoiiI-6soOfM"
      },
      "execution_count": null,
      "outputs": []
    },
    {
      "cell_type": "markdown",
      "source": [
        "მოდული typing"
      ],
      "metadata": {
        "id": "jVxv73_5ptWy"
      }
    },
    {
      "cell_type": "code",
      "source": [
        "from typing import Type, TypeVar, List\n",
        "x: str = \"152\"   # ცვლადი სტრიქონული ტიპისაა\n",
        "array: List  = list(range(1, 11))\n",
        "def func(string: str, array: List) -> str:\n",
        "  ssum = 0\n",
        "  for numb in array:\n",
        "    ssum += numb\n",
        "  return f\"{string}: {ssum}\"\n",
        "\n",
        "lst = [i for i in range(10)]\n",
        "print(func(f\"მასივის ელემენტების ჯამი არის\", lst))\n"
      ],
      "metadata": {
        "colab": {
          "base_uri": "https://localhost:8080/"
        },
        "id": "aI7dX2SQonKp",
        "outputId": "85d98eaf-2605-4f04-8365-a01907e18377"
      },
      "execution_count": 75,
      "outputs": [
        {
          "output_type": "stream",
          "name": "stdout",
          "text": [
            "მასივის ელემენტების ჯამი არის: 45\n"
          ]
        }
      ]
    },
    {
      "cell_type": "markdown",
      "source": [
        "#სავარჯიშოები"
      ],
      "metadata": {
        "id": "pJKgr30VqCdR"
      }
    },
    {
      "cell_type": "markdown",
      "source": [
        "ფუნქციის სახით გააფორმეთ დავალებები:\n",
        "სავარჯიშო 1: 10-დან 18-ის ჩათვლით\n",
        "სავარჯიშო 2, 3 და 4: ყველა\n",
        "p.s. წინა თავების სავარჯიშოები"
      ],
      "metadata": {
        "id": "QSPCUGsBqHOM"
      }
    },
    {
      "cell_type": "code",
      "source": [],
      "metadata": {
        "id": "_mxjQYQIqFFu"
      },
      "execution_count": null,
      "outputs": []
    }
  ]
}