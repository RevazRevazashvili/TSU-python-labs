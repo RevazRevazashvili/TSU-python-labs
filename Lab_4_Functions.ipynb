{
  "nbformat": 4,
  "nbformat_minor": 0,
  "metadata": {
    "colab": {
      "provenance": [],
      "authorship_tag": "ABX9TyNpqsvqqPWDmFEiBWpSUCAE",
      "include_colab_link": true
    },
    "kernelspec": {
      "name": "python3",
      "display_name": "Python 3"
    },
    "language_info": {
      "name": "python"
    }
  },
  "cells": [
    {
      "cell_type": "markdown",
      "metadata": {
        "id": "view-in-github",
        "colab_type": "text"
      },
      "source": [
        "<a href=\"https://colab.research.google.com/github/RevazRevazashvili/TSU-python-labs/blob/main/Lab_4_Functions.ipynb\" target=\"_parent\"><img src=\"https://colab.research.google.com/assets/colab-badge.svg\" alt=\"Open In Colab\"/></a>"
      ]
    },
    {
      "cell_type": "markdown",
      "source": [
        "# სამომხმარებლო ფუნქციები"
      ],
      "metadata": {
        "id": "R3DHrg2lUhgm"
      }
    },
    {
      "cell_type": "code",
      "source": [
        "\"\"\"\n",
        "ფუნქცია საშუალებაა კოდის ფრაგმენტი შევასრულოთ კოდის სხვადასხვა ადგილას, ფუნქციის სახელით და პარამეტრებით(ასეთის არსებობის შემთხვევაში)\n",
        "\"\"\""
      ],
      "metadata": {
        "id": "9lFX_NSuUllq",
        "colab": {
          "base_uri": "https://localhost:8080/",
          "height": 36
        },
        "outputId": "cfbc2841-7880-409b-9b9c-2513154b8b01"
      },
      "execution_count": null,
      "outputs": [
        {
          "output_type": "execute_result",
          "data": {
            "text/plain": [
              "'\\nფუნქცია საშუალებაა კოდის ფრაგმენტი შევასრულოთ კოდის სხვადასხვა ადგილას, ფუნქციის სახელით და პარამეტრებით(ასეთის არსებობის შემთხვევაში)\\n'"
            ],
            "application/vnd.google.colaboratory.intrinsic+json": {
              "type": "string"
            }
          },
          "metadata": {},
          "execution_count": 51
        }
      ]
    },
    {
      "cell_type": "markdown",
      "source": [
        "უპარამეტრო ფუნქცია"
      ],
      "metadata": {
        "id": "CZM9p360V5qR"
      }
    },
    {
      "cell_type": "code",
      "source": [
        "# ფუნქციის განსაზღვრა ხდება def keyword-ით\n",
        "\n",
        "def my_func():\n",
        "  pass # pass საშუალებაა ფუნქცია შევქმნათ რომელიც არ ასრულებს მოქმედებას"
      ],
      "metadata": {
        "id": "T-zhg48bU8Wl"
      },
      "execution_count": 1,
      "outputs": []
    },
    {
      "cell_type": "markdown",
      "source": [
        "პარამეტრიანი ფუნქცია"
      ],
      "metadata": {
        "id": "EqXcfK2XV8DJ"
      }
    },
    {
      "cell_type": "code",
      "source": [
        "# პარამეტრიანი ფუნქცია რომელიც ბეჭდავს არგუმენტად გადაცემულ პარამეტრს\n",
        "\n",
        "def my_func(a):\n",
        "  print(a)"
      ],
      "metadata": {
        "id": "GRW5R4qQVVtl"
      },
      "execution_count": 2,
      "outputs": []
    },
    {
      "cell_type": "code",
      "source": [
        "my_func(1)"
      ],
      "metadata": {
        "id": "UEJikDjcXGgO",
        "outputId": "8c0d8a70-b593-4ea3-825d-3e00c05fbabc",
        "colab": {
          "base_uri": "https://localhost:8080/"
        }
      },
      "execution_count": 3,
      "outputs": [
        {
          "output_type": "stream",
          "name": "stdout",
          "text": [
            "1\n"
          ]
        }
      ]
    },
    {
      "cell_type": "code",
      "source": [
        "# ფუნქცია რომელიც ადარებს პარამეტრად გადაცემულ ორ მნიშვნელობას\n",
        "\n",
        "def greater(a,b):\n",
        "  return a if a > b else b\n",
        "\n",
        "\n",
        "greater(4,3)"
      ],
      "metadata": {
        "colab": {
          "base_uri": "https://localhost:8080/"
        },
        "id": "cb-6rXbQWQ_F",
        "outputId": "fc00ede3-bda9-43dc-fe66-bdeda7b837b4"
      },
      "execution_count": 4,
      "outputs": [
        {
          "output_type": "execute_result",
          "data": {
            "text/plain": [
              "4"
            ]
          },
          "metadata": {},
          "execution_count": 4
        }
      ]
    },
    {
      "cell_type": "code",
      "source": [
        "\"\"\"\n",
        "  პითონში ფუნქციას შეუძლია ერთზე მეტი მნიშვნელობის დაბრუნება return-ის საშუალებით\n",
        "\"\"\""
      ],
      "metadata": {
        "colab": {
          "base_uri": "https://localhost:8080/",
          "height": 36
        },
        "id": "zj83llr4Wej6",
        "outputId": "7f47fb1d-210e-4986-d491-85bc0ba2435e"
      },
      "execution_count": null,
      "outputs": [
        {
          "output_type": "execute_result",
          "data": {
            "text/plain": [
              "'\\n  პითონში ფუნქციას შეუძლია ერთზე მეტი მნიშვნელობის დაბრუნება return-ის საშუალებით\\n'"
            ],
            "application/vnd.google.colaboratory.intrinsic+json": {
              "type": "string"
            }
          },
          "metadata": {},
          "execution_count": 55
        }
      ]
    },
    {
      "cell_type": "code",
      "source": [
        "# ფუნქცია რომელიც აბრუნებს პარამეტრად გადაცემული მნიშვნელობების ჯამსა და ნამრავლს\n",
        "\n",
        "def a_and_b(a, b):\n",
        "  return a+b, a*b\n",
        "\n",
        "x, *y = a_and_b(2, 7)\n",
        "print(f\"x is {x}, y is {y}\")\n",
        "# print(type(y))"
      ],
      "metadata": {
        "colab": {
          "base_uri": "https://localhost:8080/"
        },
        "id": "CLU4ChSeXi5k",
        "outputId": "2a671f56-7b84-4442-fdbf-707c9398ade5"
      },
      "execution_count": 17,
      "outputs": [
        {
          "output_type": "stream",
          "name": "stdout",
          "text": [
            "x is 9, y is [14]\n"
          ]
        }
      ]
    },
    {
      "cell_type": "code",
      "source": [
        "\"\"\"\n",
        "  ფუნქციას პარამეტრები შეგვიძლია ცხადად გადავცეთ, ცვლადების დასახელებებით\n",
        "\n",
        "\"\"\""
      ],
      "metadata": {
        "id": "mIRhI6z8YfQM",
        "colab": {
          "base_uri": "https://localhost:8080/",
          "height": 36
        },
        "outputId": "58d3ac3a-7272-47d3-f8b4-06b26c25d51b"
      },
      "execution_count": null,
      "outputs": [
        {
          "output_type": "execute_result",
          "data": {
            "text/plain": [
              "'\\n  ფუნქციას პარამეტრები შეგვიძლია ცხადად გადავცეთ, ცვლადების დასახელებებით\\n\\n'"
            ],
            "application/vnd.google.colaboratory.intrinsic+json": {
              "type": "string"
            }
          },
          "metadata": {},
          "execution_count": 57
        }
      ]
    },
    {
      "cell_type": "code",
      "source": [
        "x, y = a_and_b(a=3, b=5)\n",
        "print(f\"x is {x}, y is {y}\")"
      ],
      "metadata": {
        "colab": {
          "base_uri": "https://localhost:8080/"
        },
        "id": "-x4pR3NQZCxB",
        "outputId": "59b12f99-be2d-4bdf-fc74-c262699210a5"
      },
      "execution_count": 18,
      "outputs": [
        {
          "output_type": "stream",
          "name": "stdout",
          "text": [
            "x is 8, y is 15\n"
          ]
        }
      ]
    },
    {
      "cell_type": "code",
      "source": [
        "# პარამეტრების მიმდევრობას მნიშვნელობა არ აქვს\n",
        "\n",
        "x, y = a_and_b(b=5, a=3)\n",
        "print(f\"x is {x}, y is {y}\")"
      ],
      "metadata": {
        "colab": {
          "base_uri": "https://localhost:8080/"
        },
        "id": "spKvgHuuZLh4",
        "outputId": "b1bd6e9d-cc4f-4814-f77b-3739e8c489d5"
      },
      "execution_count": 19,
      "outputs": [
        {
          "output_type": "stream",
          "name": "stdout",
          "text": [
            "x is 8, y is 15\n"
          ]
        }
      ]
    },
    {
      "cell_type": "code",
      "source": [
        "\"\"\"\n",
        "თუ ფუნქციის გამოძახება ხშირად ხდება პარამეტრების ერთიდაიმავე მნიშვნელობების მიმართ, მაშინ უმჯობესია ასეთ შემთხვევაში პარამეტრებს განესაზღვროთ ე.წ. გაჩუმებით მნიშვნელობები.\n",
        "პარამეტრს, რომელსაც არ აქვს განსაზღვრული გაჩუმებითი მნიშვნელობა აუცილებელი პარამეტრი ეწოდება, ხოლო პარამეტრს გაჩუმებითი მნიშვნელობით კი - არააუცილებელი პარამეტრი.\n",
        "\n",
        "\"\"\""
      ],
      "metadata": {
        "id": "VuQM37b4aD8x",
        "colab": {
          "base_uri": "https://localhost:8080/",
          "height": 53
        },
        "outputId": "28eef740-7be8-4e73-91f7-fdf1537c2bcb"
      },
      "execution_count": null,
      "outputs": [
        {
          "output_type": "execute_result",
          "data": {
            "text/plain": [
              "'\\nთუ ფუნქციის გამოძახება ხშირად ხდება პარამეტრების ერთიდაიმავე მნიშვნელობების მიმართ, მაშინ უმჯობესია ასეთ შემთხვევაში პარამეტრებს განესაზღვროთ ე.წ. გაჩუმებით მნიშვნელობები.\\nპარამეტრს, რომელსაც არ აქვს განსაზღვრული გაჩუმებითი მნიშვნელობა აუცილებელი პარამეტრი ეწოდება, ხოლო პარამეტრს გაჩუმებითი მნიშვნელობით კი - არააუცილებელი პარამეტრი.\\n\\n'"
            ],
            "application/vnd.google.colaboratory.intrinsic+json": {
              "type": "string"
            }
          },
          "metadata": {},
          "execution_count": 60
        }
      ]
    },
    {
      "cell_type": "code",
      "source": [
        "# ფუნქცია გაჩუმებითი მნიშვნელობით\n",
        "\n",
        "def user_func(a, b=2):\n",
        "  return a + b\n",
        "\n",
        "print(user_func(1))\n",
        "print(user_func(1, 9))"
      ],
      "metadata": {
        "colab": {
          "base_uri": "https://localhost:8080/"
        },
        "id": "nIsNbFSLhIjB",
        "outputId": "916d87c3-0b33-4804-aaea-ccde8a946d7d"
      },
      "execution_count": 21,
      "outputs": [
        {
          "output_type": "stream",
          "name": "stdout",
          "text": [
            "3\n",
            "10\n"
          ]
        }
      ]
    },
    {
      "cell_type": "code",
      "source": [
        "\"\"\"\n",
        "*-ის გამოყენება პარამეტრების სიამდე მიუთითებს, რომ ყველა შემდეგი პარამეტრი უნდა იყოს მითითებული, როგორც keyword სიტყვების არგუმენტები.\n",
        "\n",
        "\"\"\""
      ],
      "metadata": {
        "colab": {
          "base_uri": "https://localhost:8080/",
          "height": 36
        },
        "id": "m2v4PLDWBCTK",
        "outputId": "553c0f4b-069b-4dad-e28f-c2defa0e7731"
      },
      "execution_count": null,
      "outputs": [
        {
          "output_type": "execute_result",
          "data": {
            "text/plain": [
              "'\\n*-ის გამოყენება პარამეტრების სიამდე მიუთითებს, რომ ყველა შემდეგი პარამეტრი უნდა იყოს მითითებული, როგორც keyword სიტყვების არგუმენტები.\\n\\n'"
            ],
            "application/vnd.google.colaboratory.intrinsic+json": {
              "type": "string"
            }
          },
          "metadata": {},
          "execution_count": 62
        }
      ]
    },
    {
      "cell_type": "code",
      "source": [
        "# ფუნქცია რომელიც მოითხოვს, პარამეტრად გადაცემული არგუმენტების სახელებით დაკონკრეტებას\n",
        "\n",
        "def user_func(*, a, b, c=10):\n",
        "  return a + b + c\n",
        "# c = user_func(1,2,1)\n",
        "c = user_func(a = 1, b = 5)\n"
      ],
      "metadata": {
        "id": "OZrBM-y4hVOn"
      },
      "execution_count": 30,
      "outputs": []
    },
    {
      "cell_type": "code",
      "source": [
        "\"\"\"\n",
        "პარამეტრების სიაში '/' მიუთითებს, რომ ყველა პარამეტრი მანამდე უნდა იყოს მხოლოდ პოზიციური,\n",
        "რაც ნიშნავს, რომ მათი დაზუსტება შესაძლებელია მხოლოდ პოზიციით და არა საკვანძო სიტყვით.\n",
        "\n",
        "\"\"\""
      ],
      "metadata": {
        "id": "SB9NYh1mBhYH"
      },
      "execution_count": null,
      "outputs": []
    },
    {
      "cell_type": "code",
      "source": [
        "# ფუნქცია რომელიც არ მოითხოვს არგუმენტების სახელებით დაკონკრეტებას / ოპერატორამდე\n",
        "\n",
        "def user_func(a, b,/, c=10):\n",
        "  return a + b + c\n",
        "d = user_func(1, 5, c=9)\n",
        "d = user_func(1, c=5, b=15)\n"
      ],
      "metadata": {
        "id": "6Yu4ub6v_C_4",
        "outputId": "6aba3208-f2b8-4af6-9ba9-7f98b90e5fe3",
        "colab": {
          "base_uri": "https://localhost:8080/",
          "height": 176
        }
      },
      "execution_count": 33,
      "outputs": [
        {
          "output_type": "error",
          "ename": "TypeError",
          "evalue": "user_func() got some positional-only arguments passed as keyword arguments: 'b'",
          "traceback": [
            "\u001b[0;31m---------------------------------------------------------------------------\u001b[0m",
            "\u001b[0;31mTypeError\u001b[0m                                 Traceback (most recent call last)",
            "\u001b[0;32m<ipython-input-33-0aa1b3dc568a>\u001b[0m in \u001b[0;36m<cell line: 6>\u001b[0;34m()\u001b[0m\n\u001b[1;32m      4\u001b[0m   \u001b[0;32mreturn\u001b[0m \u001b[0ma\u001b[0m \u001b[0;34m+\u001b[0m \u001b[0mb\u001b[0m \u001b[0;34m+\u001b[0m \u001b[0mc\u001b[0m\u001b[0;34m\u001b[0m\u001b[0;34m\u001b[0m\u001b[0m\n\u001b[1;32m      5\u001b[0m \u001b[0md\u001b[0m \u001b[0;34m=\u001b[0m \u001b[0muser_func\u001b[0m\u001b[0;34m(\u001b[0m\u001b[0;36m1\u001b[0m\u001b[0;34m,\u001b[0m \u001b[0;36m5\u001b[0m\u001b[0;34m,\u001b[0m \u001b[0mc\u001b[0m\u001b[0;34m=\u001b[0m\u001b[0;36m9\u001b[0m\u001b[0;34m)\u001b[0m\u001b[0;34m\u001b[0m\u001b[0;34m\u001b[0m\u001b[0m\n\u001b[0;32m----> 6\u001b[0;31m \u001b[0md\u001b[0m \u001b[0;34m=\u001b[0m \u001b[0muser_func\u001b[0m\u001b[0;34m(\u001b[0m\u001b[0;36m1\u001b[0m\u001b[0;34m,\u001b[0m \u001b[0mc\u001b[0m\u001b[0;34m=\u001b[0m\u001b[0;36m5\u001b[0m\u001b[0;34m,\u001b[0m \u001b[0mb\u001b[0m\u001b[0;34m=\u001b[0m\u001b[0;36m15\u001b[0m\u001b[0;34m)\u001b[0m\u001b[0;34m\u001b[0m\u001b[0;34m\u001b[0m\u001b[0m\n\u001b[0m",
            "\u001b[0;31mTypeError\u001b[0m: user_func() got some positional-only arguments passed as keyword arguments: 'b'"
          ]
        }
      ]
    },
    {
      "cell_type": "code",
      "source": [
        "\"\"\"\n",
        "Python ენა იძლევა ფუნქციის ერთხელ განმარტების და შემდეგ პარამეტრების სხვადასხვა რაოდენობის მიმართ გამოყენების საშუალებას. ამ მიზნით გამოიყენება სიმბოლო * ცვლადის სახელთან\n",
        "\n",
        "\"\"\""
      ],
      "metadata": {
        "id": "jYE_f4anCLqY"
      },
      "execution_count": null,
      "outputs": []
    },
    {
      "cell_type": "code",
      "source": [
        "l = [1,2,3,4,5,'d',[1,2],None,print,0]\n",
        "for i in l:\n",
        "  print(i)\n",
        "\n",
        "l[8](1)"
      ],
      "metadata": {
        "id": "TKZJbggw1fiW",
        "outputId": "c8463a71-8525-4b14-9d99-0c2d63d55576",
        "colab": {
          "base_uri": "https://localhost:8080/"
        }
      },
      "execution_count": null,
      "outputs": [
        {
          "output_type": "stream",
          "name": "stdout",
          "text": [
            "1\n",
            "2\n",
            "3\n",
            "4\n",
            "5\n",
            "d\n",
            "[1, 2]\n",
            "None\n",
            "<built-in function print>\n",
            "0\n",
            "1\n"
          ]
        }
      ]
    },
    {
      "cell_type": "code",
      "source": [
        "def Sum(*t):\n",
        "  summ = 0\n",
        "  for i in t:\n",
        "      summ += i\n",
        "  return summ\n",
        "print(f\"Zero parameter: Sum() = { Sum() }\")\n",
        "print(f\"Two parameter: Sum(10, 20) = { Sum(10, 20) }\")\n",
        "print(f\"Three parameter: Sum(10, 20, 30) = { Sum(10, 20, 30) }\")"
      ],
      "metadata": {
        "id": "pFE-pkTRCNiL",
        "outputId": "f76aeb3a-2fed-485b-c785-afb32f2d9edd",
        "colab": {
          "base_uri": "https://localhost:8080/"
        }
      },
      "execution_count": 34,
      "outputs": [
        {
          "output_type": "stream",
          "name": "stdout",
          "text": [
            "Zero parameter: Sum() = 0\n",
            "Two parameter: Sum(10, 20) = 30\n",
            "Three parameter: Sum(10, 20, 30) = 60\n"
          ]
        }
      ]
    },
    {
      "cell_type": "code",
      "source": [
        "\"\"\"\n",
        "ასევე შესაძლებელია ფუნქციის პარამეტრთან ორი * სიმბოლოს გამოყენება, რომელიც იძლევა key=value ფორმით ფუნქციისთვის ნებისმიერი რაოდენობის პარამეტრების გადაცემის საშუალებას\n",
        "\n",
        "\"\"\""
      ],
      "metadata": {
        "id": "iqIZ5vN1Cbgr"
      },
      "execution_count": null,
      "outputs": []
    },
    {
      "cell_type": "code",
      "source": [
        "def Sum(**t):\n",
        "  summ = 0\n",
        "  for i in t.keys():\n",
        "      summ += t[i]\n",
        "  return summ\n",
        "\n",
        "print(f\"Zero parameter: Sum() = { Sum() }\")\n",
        "print(f\"Two parameter: Sum(10, 20) = { Sum(x=10, y=20) }\")\n",
        "print(f\"Three parameter: Sum(10, 20, 30) = { Sum(a=10, b=20, c=30) }\")\n"
      ],
      "metadata": {
        "id": "XbBS2IKFC_pI",
        "outputId": "b653aac6-90bd-4f65-d62d-eddd4aeb3276",
        "colab": {
          "base_uri": "https://localhost:8080/"
        }
      },
      "execution_count": 37,
      "outputs": [
        {
          "output_type": "stream",
          "name": "stdout",
          "text": [
            "Zero parameter: Sum() = 0\n",
            "Two parameter: Sum(10, 20) = 30\n",
            "Three parameter: Sum(10, 20, 30) = 60\n"
          ]
        }
      ]
    },
    {
      "cell_type": "code",
      "source": [
        "def Sum(**t):\n",
        "  summ = 0\n",
        "  for i in t.values():\n",
        "      summ += i\n",
        "  return summ\n",
        "\n",
        "print(f\"Zero parameter: Sum() = { Sum() }\")\n",
        "print(f\"Two parameter: Sum(10, 20) = { Sum(x=10, y=20) }\")\n",
        "print(f\"Three parameter: Sum(10, 20, 30) = { Sum(a=10, b=20, c=30) }\")"
      ],
      "metadata": {
        "id": "QoF4cRNsDJeb"
      },
      "execution_count": null,
      "outputs": []
    },
    {
      "cell_type": "code",
      "source": [
        "def Sum(**t):\n",
        "  summ = 0\n",
        "  for key, value in t.items():\n",
        "      summ += value\n",
        "  return summ\n",
        "\n",
        "print(f\"Zero parameter: Sum() = { Sum() }\")\n",
        "print(f\"Two parameter: Sum(10, 20) = { Sum(x=10, y=20) }\")\n",
        "print(f\"Three parameter: Sum(10, 20, 30) = { Sum(a=10, b=20, c=30) }\")"
      ],
      "metadata": {
        "id": "Ibg9rlGeDVcD"
      },
      "execution_count": null,
      "outputs": []
    },
    {
      "cell_type": "code",
      "source": [
        "\"\"\"\n",
        "Python ენაში შესაძლებელია ერთი ფუნქციისთვის პარამეტრად მეორე ფუნქციის გადაცემა.\n",
        "\n",
        "\"\"\""
      ],
      "metadata": {
        "id": "tYoh-P8eDvAJ"
      },
      "execution_count": null,
      "outputs": []
    },
    {
      "cell_type": "code",
      "source": [
        "# ფუნქცია როგორც სხვა ფუნქციის პარამეტრი\n",
        "\n",
        "def Sum(a, b):\n",
        "  return a + b\n",
        "\n",
        "def Print_Sum(f, a, b):\n",
        "\tprint(f\"{a} + {b} = {f(a, b)}\")\n",
        "\n",
        "Print_Sum(Sum, 1, 2)"
      ],
      "metadata": {
        "id": "vlDeMq28GMxU",
        "outputId": "3b39bc7a-1c72-4d62-acc7-9584470c2d96",
        "colab": {
          "base_uri": "https://localhost:8080/"
        }
      },
      "execution_count": 38,
      "outputs": [
        {
          "output_type": "stream",
          "name": "stdout",
          "text": [
            "1 + 2 = 3\n"
          ]
        }
      ]
    },
    {
      "cell_type": "code",
      "source": [
        "\"\"\"\n",
        "Python ენაში ასევე შესაძლებელია ერთი ფუნქციის შიგნით მეორე ფუნქციის განსაზღვრა.\n",
        "ამ შემთხვევაში გარე ფუნქციაში გამოცხადებული ცვლადები ხელმისაწვდომი იქნება შიდა ფუნქციისთვის, მაგრამ პირიქით არა\n",
        "\n",
        "\"\"\""
      ],
      "metadata": {
        "id": "Md_CKZuiGpf3"
      },
      "execution_count": null,
      "outputs": []
    },
    {
      "cell_type": "code",
      "source": [
        "# ფუნქცია ფუნქციაში\n",
        "\n",
        "def Print_Sum(a, b):\n",
        "  def Sum():\n",
        "    return a + b\n",
        "  print(f\"{a} + {b} = {Sum()}\")\n",
        "  return Sum\n",
        "Print_Sum(1, 2)\n"
      ],
      "metadata": {
        "id": "p9H1VPLLGtEm",
        "outputId": "a714cb7d-820e-4c00-e1b8-f93685aa0b9c",
        "colab": {
          "base_uri": "https://localhost:8080/",
          "height": 120
        }
      },
      "execution_count": 47,
      "outputs": [
        {
          "output_type": "stream",
          "name": "stdout",
          "text": [
            "1 + 2 = 3\n"
          ]
        },
        {
          "output_type": "execute_result",
          "data": {
            "text/plain": [
              "<function __main__.Print_Sum.<locals>.Sum()>"
            ],
            "text/html": [
              "<div style=\"max-width:800px; border: 1px solid var(--colab-border-color);\"><style>\n",
              "      pre.function-repr-contents {\n",
              "        overflow-x: auto;\n",
              "        padding: 8px 12px;\n",
              "        max-height: 500px;\n",
              "      }\n",
              "\n",
              "      pre.function-repr-contents.function-repr-contents-collapsed {\n",
              "        cursor: pointer;\n",
              "        max-height: 100px;\n",
              "      }\n",
              "    </style>\n",
              "    <pre style=\"white-space: initial; background:\n",
              "         var(--colab-secondary-surface-color); padding: 8px 12px;\n",
              "         border-bottom: 1px solid var(--colab-border-color);\"><b>Print_Sum.&lt;locals&gt;.Sum</b><br/>def Sum()</pre><pre class=\"function-repr-contents function-repr-contents-collapsed\" style=\"\"><a class=\"filepath\" style=\"display:none\" href=\"#\">/content/&lt;ipython-input-47-ca611f9d8618&gt;</a>&lt;no docstring&gt;</pre></div>"
            ]
          },
          "metadata": {},
          "execution_count": 47
        }
      ]
    },
    {
      "cell_type": "code",
      "source": [
        "Print_Sum(1,2)()"
      ],
      "metadata": {
        "id": "mkp9ptn73a72",
        "outputId": "d28423b6-ad71-414d-db80-038b2535c679",
        "colab": {
          "base_uri": "https://localhost:8080/"
        }
      },
      "execution_count": 50,
      "outputs": [
        {
          "output_type": "stream",
          "name": "stdout",
          "text": [
            "1 + 2 = 3\n"
          ]
        },
        {
          "output_type": "execute_result",
          "data": {
            "text/plain": [
              "3"
            ]
          },
          "metadata": {},
          "execution_count": 50
        }
      ]
    },
    {
      "cell_type": "code",
      "source": [
        "\"\"\"\n",
        "Python ენა იძლევა სხვადასხვა სახის სპეციფიური ფუნქციების განსაზღვრის საშუალებას. ასეთი ფუნქციებია:\n",
        "  ანონიმური ფუნქციები\n",
        "  ფუნქცია-გენერატორები\n",
        "  ფუნქცია-დეკორატორები\n",
        "  რეკურსიული ფუნქცია\n",
        "\n",
        "\"\"\""
      ],
      "metadata": {
        "id": "0bx37VWqHI1t"
      },
      "execution_count": null,
      "outputs": []
    },
    {
      "cell_type": "markdown",
      "source": [
        "ანონიმური ფუნქციები"
      ],
      "metadata": {
        "id": "XNRTJqlPKsJo"
      }
    },
    {
      "cell_type": "markdown",
      "source": [
        "https://www.w3schools.com/python/python_lambda.asp"
      ],
      "metadata": {
        "id": "Qy3ZErJXZKSv"
      }
    },
    {
      "cell_type": "code",
      "source": [
        "\"\"\"\n",
        "Python ენაში სამომხმარებლო ფუნქციების განმარტების გარდა შესაძლებელია ე.წ. ანონიმური (ე.წ. ლამბდა) ფუნქციის განმარტება.\n",
        "ფუნქცია არ აბრუნებს ჩვეულებრივ მნიშვნელობას. ის აბრუნებს მიმთითებელს ობიექტზე, რომელიც შეიძლება შენახული იქნას ცვლადში.\n",
        "ცვლადში დაბრუნებული მიმთითებელი იძლევა ფუნქციის მსგავსად ცვლადის გამოყენების საშუალებას.\n",
        "\n",
        "\"\"\""
      ],
      "metadata": {
        "id": "xIHpMJngKuo4"
      },
      "execution_count": null,
      "outputs": []
    },
    {
      "cell_type": "code",
      "source": [
        "printInfo = lambda: print(\"This is lambda function!\")\n",
        "summ = lambda x, y: [x + y, x*y]\n",
        "printInfo()\n",
        "print(f\"summ(10) = {summ(10,23)}\")"
      ],
      "metadata": {
        "id": "ISOzc5akNuQc",
        "outputId": "39783b5e-ab03-4211-f092-60b81997f59b",
        "colab": {
          "base_uri": "https://localhost:8080/"
        }
      },
      "execution_count": 54,
      "outputs": [
        {
          "output_type": "stream",
          "name": "stdout",
          "text": [
            "This is lambda function!\n",
            "summ(10) = [33, 230]\n"
          ]
        }
      ]
    },
    {
      "cell_type": "code",
      "source": [
        "sum1 = lambda x, y: x+y\n",
        "def sum2(x,y):\n",
        "  return x+y\n",
        "\n",
        "s = sum2(1,2)\n",
        "import time\n",
        "\n",
        "t1 = time.time()\n",
        "sum1(1,2)\n",
        "t2 = time.time()\n",
        "t3 = time.time()\n",
        "sum2(1,2)\n",
        "t4 = time.time()\n",
        "print(t2-t1)\n",
        "print(t4-t3)"
      ],
      "metadata": {
        "id": "Yt_LtlLxS1-z",
        "outputId": "f91c5e3b-f1dc-4011-a583-6fea09b1e17f",
        "colab": {
          "base_uri": "https://localhost:8080/"
        }
      },
      "execution_count": 77,
      "outputs": [
        {
          "output_type": "stream",
          "name": "stdout",
          "text": [
            "7.915496826171875e-05\n",
            "7.367134094238281e-05\n"
          ]
        }
      ]
    },
    {
      "cell_type": "code",
      "source": [
        "def lam(prin):\n",
        "  prin()\n",
        "  # printInfo()\n",
        "  print(\"lam\")\n",
        "\n",
        "lam(printInfo)"
      ],
      "metadata": {
        "id": "CH8Pxqg7Q9ic",
        "outputId": "2ffee9f1-81f2-406e-cac4-883ae3849346",
        "colab": {
          "base_uri": "https://localhost:8080/"
        }
      },
      "execution_count": 62,
      "outputs": [
        {
          "output_type": "stream",
          "name": "stdout",
          "text": [
            "This is lambda function!\n",
            "lam\n"
          ]
        }
      ]
    },
    {
      "cell_type": "markdown",
      "source": [
        "ფუნქცია გენერატორი"
      ],
      "metadata": {
        "id": "c2fiEDROPqMS"
      }
    },
    {
      "cell_type": "code",
      "source": [
        "\"\"\"\n",
        "ფუნქცია-გენერატორი ეს არის ფუნქცია, რომელსაც ყოველი იტერაციისას რამდენიმე მნიშვნელობიდან შეუძლია დააბრუნოს მხოლოდ ერთი.\n",
        "ფუნქციის საქმიანობის შეჩერების და ფუნქციის გენერატორად გადაქცევის საშუალებას იძლევა გასაღები სიტყვა yield.\n",
        "\n",
        "\"\"\""
      ],
      "metadata": {
        "id": "yuuIl6O2N_2Z"
      },
      "execution_count": null,
      "outputs": []
    },
    {
      "cell_type": "markdown",
      "source": [
        "უპირატესობები\n",
        "\n",
        "1.   მეხსიერების ეფექტურობა: გენერატორები აწარმოებენ მნიშვნელობებს ერთდროულად, ვიდრე ერთდროულად ინახავენ ყველა მნიშვნელობას მეხსიერებაში. ეს განსაკუთრებით სასარგებლოა მონაცემთა დიდ ნაკრებებთან მუშაობისას, რადგან ამცირებს მეხსიერების მოხმარებას.\n",
        "2.   უსასრულო თანმიმდევრობა: გენერატორებს შეუძლიათ წარმოადგინონ უსასრულო მიმდევრობა, რაც შეუძლებელია რეგულარული სიებით. მაგალითად, შეგიძლიათ შექმნათ გენერატორი რიცხვების უსასრულო თანმიმდევრობისთვის მეხსიერების შეზღუდვების გარეშე.\n",
        "3.  ეფექტური გამეორება: გენერატორები მხარს უჭერენ ეფექტურ გამეორებას. თქვენ შეგიძლიათ გაიმეოროთ გენერატორის მიერ წარმოებული მნიშვნელობები for loop-ის ან სხვა გამეორების მექანიზმების გამოყენებით.\n",
        "\n"
      ],
      "metadata": {
        "id": "1hfIllpoT2rO"
      }
    },
    {
      "cell_type": "code",
      "source": [
        "def func_gen(x, y):\n",
        "  for number in range(x+1):\n",
        "      yield number ** y\n",
        "for n in func_gen(10, 2):\n",
        "    print(n, end=\"  \")"
      ],
      "metadata": {
        "id": "PQRGG33ZPvaZ",
        "outputId": "2b21e251-7e66-4b84-c2e2-eb383c3eec34",
        "colab": {
          "base_uri": "https://localhost:8080/"
        }
      },
      "execution_count": 78,
      "outputs": [
        {
          "output_type": "stream",
          "name": "stdout",
          "text": [
            "0  1  4  9  16  25  36  49  64  81  100  "
          ]
        }
      ]
    },
    {
      "cell_type": "markdown",
      "source": [
        "ფუნქცია დეკორატორები"
      ],
      "metadata": {
        "id": "773uXaEYU9SD"
      }
    },
    {
      "cell_type": "markdown",
      "source": [
        "https://www.datacamp.com/tutorial/decorators-python"
      ],
      "metadata": {
        "id": "0w6l7ig8fTzt"
      }
    },
    {
      "cell_type": "code",
      "source": [
        "\"\"\"\n",
        "პითონში დეკორატორი არის დიზაინის ნიმუში, რომელიც საშუალებას გაძლევთ გააფართოვოთ ან შეცვალოთ ფუნქციების ან მეთოდების ქცევა მათი ფაქტობრივი კოდის შეცვლის გარეშე.\n",
        "დეკორატორებს ხშირად იყენებენ არსებული ფუნქციების ფუნქციონირების დასამატებლად სუფთა და მრავალჯერადი გამოყენების გზით.\n",
        "\n",
        "\"\"\""
      ],
      "metadata": {
        "id": "yyYHTjnkSeYU"
      },
      "execution_count": null,
      "outputs": []
    },
    {
      "cell_type": "code",
      "source": [
        "def func_dec(f):\n",
        "  def wraper(x):\n",
        "    print(\"auth\")\n",
        "    f(x)\n",
        "\n",
        "  return wraper\n",
        "\n",
        "@func_dec\n",
        "def func(x):\n",
        "  print(f\"x = { x }\")\n",
        "\n",
        "@func_dec\n",
        "def func1(x):\n",
        "  return f\"y = { x }\"\n",
        "\n",
        "func(1)\n",
        "func1(1)"
      ],
      "metadata": {
        "id": "0bGC9D7JQxYk",
        "outputId": "510c2a45-240d-4580-fcd9-99b035ca00a2",
        "colab": {
          "base_uri": "https://localhost:8080/"
        }
      },
      "execution_count": 96,
      "outputs": [
        {
          "output_type": "stream",
          "name": "stdout",
          "text": [
            "auth\n",
            "x = 1\n",
            "auth\n"
          ]
        }
      ]
    },
    {
      "cell_type": "code",
      "source": [
        "func5(s)"
      ],
      "metadata": {
        "id": "lZR9KwkUV15q",
        "outputId": "e4895371-da63-46f1-8e55-d606c1c7bbed",
        "colab": {
          "base_uri": "https://localhost:8080/",
          "height": 141
        }
      },
      "execution_count": 81,
      "outputs": [
        {
          "output_type": "error",
          "ename": "NameError",
          "evalue": "name 'func5' is not defined",
          "traceback": [
            "\u001b[0;31m---------------------------------------------------------------------------\u001b[0m",
            "\u001b[0;31mNameError\u001b[0m                                 Traceback (most recent call last)",
            "\u001b[0;32m<ipython-input-81-aab42963b25f>\u001b[0m in \u001b[0;36m<cell line: 1>\u001b[0;34m()\u001b[0m\n\u001b[0;32m----> 1\u001b[0;31m \u001b[0mfunc5\u001b[0m\u001b[0;34m(\u001b[0m\u001b[0ms\u001b[0m\u001b[0;34m)\u001b[0m\u001b[0;34m\u001b[0m\u001b[0;34m\u001b[0m\u001b[0m\n\u001b[0m",
            "\u001b[0;31mNameError\u001b[0m: name 'func5' is not defined"
          ]
        }
      ]
    },
    {
      "cell_type": "code",
      "source": [
        "def milk(func):\n",
        "    def wrapper():\n",
        "        print(\"hot milk\")\n",
        "        func()\n",
        "    return wrapper\n",
        "\n",
        "def sugar(func):\n",
        "    def wrapper():\n",
        "        print(\"sugar\")\n",
        "        func()\n",
        "    return wrapper\n",
        "\n",
        "@sugar\n",
        "@milk\n",
        "def coffee(variety=\"arabica\"):\n",
        "    print(variety)\n",
        "\n",
        "coffee()"
      ],
      "metadata": {
        "id": "Lx-HBlOie6rF",
        "outputId": "0e945636-9814-4712-a6ea-a9febc15d45b",
        "colab": {
          "base_uri": "https://localhost:8080/"
        }
      },
      "execution_count": null,
      "outputs": [
        {
          "output_type": "stream",
          "name": "stdout",
          "text": [
            "sugar\n",
            "hot milk\n",
            "arabica\n"
          ]
        }
      ]
    },
    {
      "cell_type": "markdown",
      "source": [
        "რეკურსიული ფუნქციები"
      ],
      "metadata": {
        "id": "UI-OxHhelhyk"
      }
    },
    {
      "cell_type": "code",
      "source": [
        "\"\"\"\n",
        "რეკურსია ეს არის ფუნქციის შესაძლებლობა მიმართოს საკუთარ თავს, ხოლო ფუნქციას, რომელიც მიმართავს საკუთარ თავს რეკურსიული ფუნქცია ეწოდება.\n",
        "\n",
        "\"\"\""
      ],
      "metadata": {
        "id": "rSEF9YhzVtym"
      },
      "execution_count": null,
      "outputs": []
    },
    {
      "cell_type": "code",
      "source": [
        "def func_fact(n):\n",
        "  if n == 0 or n == 1:\n",
        "    return 1\n",
        "  else:\n",
        "    return x * func_fact(n - 1)\n",
        "print(f\"Factorial of {5} is {func_fact(5)}\")"
      ],
      "metadata": {
        "colab": {
          "base_uri": "https://localhost:8080/"
        },
        "id": "wug7-5zvlzHS",
        "outputId": "e769b711-e3ae-4626-910e-62bce1744b27"
      },
      "execution_count": 97,
      "outputs": [
        {
          "output_type": "stream",
          "name": "stdout",
          "text": [
            "Factorial of 5 is 4096\n"
          ]
        }
      ]
    },
    {
      "cell_type": "markdown",
      "source": [
        "#დოკუმენტირების სტრიქონი"
      ],
      "metadata": {
        "id": "td7Gjy7ImjeD"
      }
    },
    {
      "cell_type": "code",
      "source": [
        "\"\"\"\n",
        "Python ენა იძლევა ფუნქციის დოკუმენტირების საშუალებას. ამ მიზნით რეკომენდირებულია სამი ცალი ორმაგი აპოსტროფის (\") სიმბოლოს გამოყენება.\n",
        "შესაბამისი სტრიქონი უნდა მოდიოდეს უშუალოდ ფუნქციის სახელის შემდეგ.\n",
        "\n",
        "\"\"\""
      ],
      "metadata": {
        "id": "qaUNRYgOmipM"
      },
      "execution_count": null,
      "outputs": []
    },
    {
      "cell_type": "code",
      "source": [
        "def func(a, b):\n",
        "  \"\"\" ფუნქცია ითვლის ორი რიცხვის ჯამს და აბრუნებს შედეგს.\n",
        "      ფუნქცია პარამეტრად ღებულობს ორ მთელ მნიშვნელობას.\n",
        "               f(a, b) --> a + b\"\"\"\n",
        "  return a + b\n",
        "print(f\"docstring of func:\\n {func.__doc__}\")\n",
        "func.__dir__"
      ],
      "metadata": {
        "colab": {
          "base_uri": "https://localhost:8080/"
        },
        "id": "FczrCA4omvRd",
        "outputId": "d050ecbe-5499-4879-87dd-c6fb4b1ea69f"
      },
      "execution_count": 99,
      "outputs": [
        {
          "output_type": "stream",
          "name": "stdout",
          "text": [
            "docstring of func:\n",
            "  ფუნქცია ითვლის ორი რიცხვის ჯამს და აბრუნებს შედეგს.\n",
            "      ფუნქცია პარამეტრად ღებულობს ორ მთელ მნიშვნელობას.\n",
            "               f(a, b) --> a + b\n"
          ]
        },
        {
          "output_type": "execute_result",
          "data": {
            "text/plain": [
              "<function function.__dir__()>"
            ]
          },
          "metadata": {},
          "execution_count": 99
        }
      ]
    },
    {
      "cell_type": "markdown",
      "source": [
        "#გლობალური და ლოკალური ცვლადები"
      ],
      "metadata": {
        "id": "c5JpuYBxnPG_"
      }
    },
    {
      "cell_type": "code",
      "source": [
        "\"\"\"\n",
        "Python ენაში ცვლადი არის გლობალური თუ ის გამოყენებულია კოდის ფაილში განმარტებული ნებისმიერი ფუნქციის გარეთ.\n",
        "გლობალურ ცვლადზე მიმართვა შესაძლებელია პროგრამის ნებისმიერი ადგილიდან.\n",
        "\n",
        "ცვლადი არის ლოკალური, თუ მისი გამოცხადება მოხდა ფუნქციის ტანში. ლოკალურ ცვლადზე მიმართვა ფუნქციის განმარტების გარეთ გამოიწვევს შეცდომას.\n",
        "ფუნქციის შიგნით გლობალურ ცვლადზე ცვლილების განსახორციელებლად გამოიყენება გასაღები სიტყვა global.\n",
        "\n",
        "\"\"\""
      ],
      "metadata": {
        "id": "X3-u9Ykwm6vD"
      },
      "execution_count": null,
      "outputs": []
    },
    {
      "cell_type": "code",
      "source": [
        "glob = 10\n",
        "def func():\n",
        "  print(f\"global variable {glob}\")\n",
        "func()"
      ],
      "metadata": {
        "colab": {
          "base_uri": "https://localhost:8080/"
        },
        "id": "OPBTxZ8znh8n",
        "outputId": "3db175ac-1db0-4017-8011-1143927c0d9a"
      },
      "execution_count": 100,
      "outputs": [
        {
          "output_type": "stream",
          "name": "stdout",
          "text": [
            "global variable 10\n"
          ]
        }
      ]
    },
    {
      "cell_type": "code",
      "source": [
        "glob1 = 10\n",
        "def func():\n",
        "  global glob1\n",
        "  glob1+=1\n",
        "  print(f\"global variable {glob1}\")\n",
        "func()\n",
        "glob1"
      ],
      "metadata": {
        "colab": {
          "base_uri": "https://localhost:8080/"
        },
        "id": "yckS3FjwnlIK",
        "outputId": "cfd8cbcf-65e3-442e-b562-0df8f351a2c8"
      },
      "execution_count": 101,
      "outputs": [
        {
          "output_type": "stream",
          "name": "stdout",
          "text": [
            "global variable 11\n"
          ]
        },
        {
          "output_type": "execute_result",
          "data": {
            "text/plain": [
              "11"
            ]
          },
          "metadata": {},
          "execution_count": 101
        }
      ]
    },
    {
      "cell_type": "code",
      "source": [
        "\"\"\"\n",
        "Python ენაში py გაფართოების ფაილი წარმოადგენს ცალკე აღებულ ობიექტს და მასაც სხვა ობიექტების მსგავსად განსაზღვრული აქვს ატრიბუტი __name__,\n",
        "რომელშიც ავტომატურად იწერება სახელი __main__. მკაცრი ტიპიზირების პროგრამირების ენების მსგავსად მთავარი ფუნქციის იმიტირების მიზნით\n",
        "კოდის ფაილში საზღვრავენ მეთოდს main() და მას მიმართავენ კონსტრუქციით:\n",
        "\n",
        "\"\"\""
      ],
      "metadata": {
        "id": "_wIyzbbDn9tw"
      },
      "execution_count": null,
      "outputs": []
    },
    {
      "cell_type": "code",
      "source": [
        "if __name__ == \"__main__\":\n",
        "  # execute only if run as a script\n",
        "  main()\n"
      ],
      "metadata": {
        "colab": {
          "base_uri": "https://localhost:8080/",
          "height": 210
        },
        "id": "0g66iqiPnrp-",
        "outputId": "7f0b7c49-32a3-48d1-f112-33f212f875bd"
      },
      "execution_count": null,
      "outputs": [
        {
          "output_type": "error",
          "ename": "NameError",
          "evalue": "name 'main' is not defined",
          "traceback": [
            "\u001b[0;31m---------------------------------------------------------------------------\u001b[0m",
            "\u001b[0;31mNameError\u001b[0m                                 Traceback (most recent call last)",
            "\u001b[0;32m<ipython-input-72-4d7fa56ea07d>\u001b[0m in \u001b[0;36m<cell line: 1>\u001b[0;34m()\u001b[0m\n\u001b[1;32m      1\u001b[0m \u001b[0;32mif\u001b[0m \u001b[0m__name__\u001b[0m \u001b[0;34m==\u001b[0m \u001b[0;34m\"__main__\"\u001b[0m\u001b[0;34m:\u001b[0m\u001b[0;34m\u001b[0m\u001b[0;34m\u001b[0m\u001b[0m\n\u001b[1;32m      2\u001b[0m   \u001b[0;31m# execute only if run as a script\u001b[0m\u001b[0;34m\u001b[0m\u001b[0;34m\u001b[0m\u001b[0m\n\u001b[0;32m----> 3\u001b[0;31m   \u001b[0mmain\u001b[0m\u001b[0;34m(\u001b[0m\u001b[0;34m)\u001b[0m\u001b[0;34m\u001b[0m\u001b[0;34m\u001b[0m\u001b[0m\n\u001b[0m",
            "\u001b[0;31mNameError\u001b[0m: name 'main' is not defined"
          ]
        }
      ]
    },
    {
      "cell_type": "code",
      "source": [
        "\"\"\"\n",
        "Python ენაში არსებობს მოდული typing, რომელიც ფორმალურად იძლევა ტიპის მითითების საშუალებას.\n",
        "ფუნქციის შემთხვევაში ტიპის მითითება ამარტივებს ფუნქციისთვის გადასაცემი პარამეტრების და დასაბრუნებელი ტიპის დადგენის საშუალებას.\n",
        "\n",
        "\"\"\""
      ],
      "metadata": {
        "id": "aoiiI-6soOfM"
      },
      "execution_count": null,
      "outputs": []
    },
    {
      "cell_type": "markdown",
      "source": [
        "მოდული typing"
      ],
      "metadata": {
        "id": "jVxv73_5ptWy"
      }
    },
    {
      "cell_type": "code",
      "source": [
        "from typing import Type, TypeVar, List\n",
        "x: str = 1   # ცვლადი სტრიქონული ტიპისაა\n",
        "array: List  = list(range(1, 11))\n",
        "def func(string: str, array: List) -> str:\n",
        "  ssum = 0\n",
        "  for numb in array:\n",
        "    ssum += numb\n",
        "  return f\"{string}: {ssum}\"\n",
        "\n",
        "lst = [i for i in range(10)]\n",
        "print(func(f\"მასივის ელემენტების ჯამი არის\", lst))\n",
        "print(type(x))"
      ],
      "metadata": {
        "colab": {
          "base_uri": "https://localhost:8080/"
        },
        "id": "aI7dX2SQonKp",
        "outputId": "da513440-fc10-4124-dc0b-7ca609f724ef"
      },
      "execution_count": 105,
      "outputs": [
        {
          "output_type": "stream",
          "name": "stdout",
          "text": [
            "მასივის ელემენტების ჯამი არის: 45\n",
            "<class 'int'>\n"
          ]
        }
      ]
    },
    {
      "cell_type": "markdown",
      "source": [
        "#სავარჯიშოები"
      ],
      "metadata": {
        "id": "pJKgr30VqCdR"
      }
    },
    {
      "cell_type": "markdown",
      "source": [
        "ფუნქციის სახით გააფორმეთ დავალებები:\n",
        "სავარჯიშო 1: 10-დან 18-ის ჩათვლით\n",
        "სავარჯიშო 2, 3 და 4: ყველა\n",
        "p.s. წინა თავების სავარჯიშოები"
      ],
      "metadata": {
        "id": "QSPCUGsBqHOM"
      }
    },
    {
      "cell_type": "code",
      "source": [
        "print('500' is '500')"
      ],
      "metadata": {
        "id": "4QJ2TK9Tb3zl",
        "outputId": "dd77db03-2ff9-4998-83bc-4df1f76da63c",
        "colab": {
          "base_uri": "https://localhost:8080/"
        }
      },
      "execution_count": 111,
      "outputs": [
        {
          "output_type": "stream",
          "name": "stdout",
          "text": [
            "True\n"
          ]
        },
        {
          "output_type": "stream",
          "name": "stderr",
          "text": [
            "<>:1: SyntaxWarning: \"is\" with a literal. Did you mean \"==\"?\n",
            "<>:1: SyntaxWarning: \"is\" with a literal. Did you mean \"==\"?\n",
            "<ipython-input-111-f961066fad87>:1: SyntaxWarning: \"is\" with a literal. Did you mean \"==\"?\n",
            "  print('500' is '500')\n"
          ]
        }
      ]
    },
    {
      "cell_type": "code",
      "source": [
        "def populateDic(rang, start, end, dic = {}):\n",
        "  for i in range(rang):\n",
        "    rand = random.randint(start,end)\n",
        "    dic[str(rand)] = rand\n",
        "  return dic\n",
        "\n",
        "populateDic(500, 1, 100)"
      ],
      "metadata": {
        "id": "_mxjQYQIqFFu",
        "outputId": "b74e84ca-f7c3-4a8a-bb16-b5ff91788122",
        "colab": {
          "base_uri": "https://localhost:8080/"
        }
      },
      "execution_count": 117,
      "outputs": [
        {
          "output_type": "execute_result",
          "data": {
            "text/plain": [
              "{'93': 93,\n",
              " '17': 17,\n",
              " '12': 12,\n",
              " '30': 30,\n",
              " '6': 6,\n",
              " '57': 57,\n",
              " '97': 97,\n",
              " '3': 3,\n",
              " '73': 73,\n",
              " '26': 26,\n",
              " '5': 5,\n",
              " '32': 32,\n",
              " '34': 34,\n",
              " '13': 13,\n",
              " '70': 70,\n",
              " '53': 53,\n",
              " '42': 42,\n",
              " '4': 4,\n",
              " '79': 79,\n",
              " '23': 23,\n",
              " '67': 67,\n",
              " '41': 41,\n",
              " '49': 49,\n",
              " '99': 99,\n",
              " '98': 98,\n",
              " '89': 89,\n",
              " '60': 60,\n",
              " '14': 14,\n",
              " '61': 61,\n",
              " '10': 10,\n",
              " '80': 80,\n",
              " '38': 38,\n",
              " '71': 71,\n",
              " '48': 48,\n",
              " '66': 66,\n",
              " '11': 11,\n",
              " '94': 94,\n",
              " '27': 27,\n",
              " '63': 63,\n",
              " '16': 16,\n",
              " '21': 21,\n",
              " '77': 77,\n",
              " '91': 91,\n",
              " '45': 45,\n",
              " '8': 8,\n",
              " '22': 22,\n",
              " '83': 83,\n",
              " '72': 72,\n",
              " '68': 68,\n",
              " '86': 86,\n",
              " '88': 88,\n",
              " '50': 50,\n",
              " '44': 44,\n",
              " '85': 85,\n",
              " '15': 15,\n",
              " '51': 51,\n",
              " '43': 43,\n",
              " '36': 36,\n",
              " '35': 35,\n",
              " '52': 52,\n",
              " '28': 28,\n",
              " '65': 65,\n",
              " '47': 47,\n",
              " '37': 37,\n",
              " '46': 46,\n",
              " '76': 76,\n",
              " '1': 1,\n",
              " '82': 82,\n",
              " '84': 84,\n",
              " '20': 20,\n",
              " '87': 87,\n",
              " '29': 29,\n",
              " '7': 7,\n",
              " '100': 100,\n",
              " '18': 18,\n",
              " '24': 24,\n",
              " '39': 39,\n",
              " '54': 54,\n",
              " '75': 75,\n",
              " '81': 81,\n",
              " '25': 25,\n",
              " '90': 90,\n",
              " '96': 96,\n",
              " '78': 78,\n",
              " '56': 56,\n",
              " '2': 2,\n",
              " '92': 92,\n",
              " '62': 62,\n",
              " '58': 58,\n",
              " '40': 40,\n",
              " '74': 74,\n",
              " '31': 31,\n",
              " '69': 69,\n",
              " '33': 33,\n",
              " '95': 95,\n",
              " '64': 64,\n",
              " '55': 55,\n",
              " '9': 9,\n",
              " '19': 19}"
            ]
          },
          "metadata": {},
          "execution_count": 117
        }
      ]
    },
    {
      "cell_type": "code",
      "source": [
        "counter = 0\n",
        "for i in dic.values():\n",
        "  if i == 500:\n",
        "    counter += 1\n",
        "\n",
        "counter"
      ],
      "metadata": {
        "id": "D6JbtXtZbGgL",
        "outputId": "66aba68b-1eeb-458d-e4f2-8ef050d2690e",
        "colab": {
          "base_uri": "https://localhost:8080/"
        }
      },
      "execution_count": 112,
      "outputs": [
        {
          "output_type": "execute_result",
          "data": {
            "text/plain": [
              "1"
            ]
          },
          "metadata": {},
          "execution_count": 112
        }
      ]
    },
    {
      "cell_type": "code",
      "source": [
        "import typing\n",
        "\n",
        "dic2 = populateDic(100000, 100, 9999)\n",
        "\n",
        "def howManyNumsInRange(dic: dict, st: int, end: int) -> int:\n",
        "  counter = 0\n",
        "  for i in dic.values():\n",
        "    if i >= st and i <= end:\n",
        "      counter+=1\n",
        "\n",
        "  return counter\n",
        "\n",
        "howManyNumsInRange(dic2, 150, 250)"
      ],
      "metadata": {
        "id": "McR6OvRPchds",
        "outputId": "8285f032-9b82-4c48-f373-bda5a91380dc",
        "colab": {
          "base_uri": "https://localhost:8080/"
        }
      },
      "execution_count": 118,
      "outputs": [
        {
          "output_type": "execute_result",
          "data": {
            "text/plain": [
              "101"
            ]
          },
          "metadata": {},
          "execution_count": 118
        }
      ]
    },
    {
      "cell_type": "code",
      "source": [
        "random.randint(1,10)"
      ],
      "metadata": {
        "id": "F5tre_EXeSEd",
        "outputId": "8dee5cae-1804-4ed3-b2de-7fe181c762ac",
        "colab": {
          "base_uri": "https://localhost:8080/"
        }
      },
      "execution_count": 121,
      "outputs": [
        {
          "output_type": "execute_result",
          "data": {
            "text/plain": [
              "6"
            ]
          },
          "metadata": {},
          "execution_count": 121
        }
      ]
    },
    {
      "cell_type": "code",
      "source": [
        "def myFunc(dic2):\n",
        "  for i in dic2.values():\n",
        "    str_i = str(i)\n",
        "    sum = 0\n",
        "    counter = 0\n",
        "    flag = False\n",
        "    if(len(str_i) == 3):\n",
        "      if int(str_i[1])**2 == int(str_i[2]):\n",
        "        flag = True\n",
        "    elif len(str_i) > 3:\n",
        "      if(int(str_i[1])**2 == (int(str_i[2])*10 + int(str_i[3]))):\n",
        "        flag = True\n",
        "    if(flag):\n",
        "      sum += i\n",
        "      counter += 1\n",
        "\n",
        "    if counter > 0:\n",
        "      return (sum / counter, counter)\n",
        "\n",
        "print(myFunc(dic2))"
      ],
      "metadata": {
        "id": "QMDasq1Ke2AT",
        "outputId": "56be5405-eca3-4a67-8e5d-6de1f99e9940",
        "colab": {
          "base_uri": "https://localhost:8080/"
        }
      },
      "execution_count": 128,
      "outputs": [
        {
          "output_type": "stream",
          "name": "stdout",
          "text": [
            "(100.0, 1)\n"
          ]
        }
      ]
    },
    {
      "cell_type": "code",
      "source": [
        "def isPalindrome(x):\n",
        "  if x < 0 or (x != 0 and x % 10 == 0):\n",
        "    return False\n",
        "\n",
        "  rev = 0\n",
        "  while(x > rev):\n",
        "    rev = rev*10 + x%10\n",
        "    x //= 10\n",
        "\n",
        "  #print(x,rev)\n",
        "  return(x == rev or x == rev // 10)\n",
        "\n",
        "sum = 0\n",
        "counter = 0\n",
        "for i in dic2.values():\n",
        "  if isPalindrome(i):\n",
        "    sum += i\n",
        "    counter += 1\n",
        "\n",
        "if(counter > 0):\n",
        "  print(sum/counter)\n"
      ],
      "metadata": {
        "id": "eYkmjzltgUWd",
        "outputId": "f8707362-703a-4120-85bc-ec5b4f266985",
        "colab": {
          "base_uri": "https://localhost:8080/"
        }
      },
      "execution_count": 138,
      "outputs": [
        {
          "output_type": "stream",
          "name": "stdout",
          "text": [
            "2752.7272727272725\n"
          ]
        }
      ]
    },
    {
      "cell_type": "markdown",
      "source": [
        "1223221"
      ],
      "metadata": {
        "id": "9qhQix7AiXP1"
      }
    }
  ]
}