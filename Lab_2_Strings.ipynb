{
  "nbformat": 4,
  "nbformat_minor": 0,
  "metadata": {
    "colab": {
      "provenance": [],
      "authorship_tag": "ABX9TyON+EWSshLRdZd+8fySxxs+",
      "include_colab_link": true
    },
    "kernelspec": {
      "name": "python3",
      "display_name": "Python 3"
    },
    "language_info": {
      "name": "python"
    }
  },
  "cells": [
    {
      "cell_type": "markdown",
      "metadata": {
        "id": "view-in-github",
        "colab_type": "text"
      },
      "source": [
        "<a href=\"https://colab.research.google.com/github/RevazRevazashvili/TSU-python-labs/blob/main/Lab_2_Strings.ipynb\" target=\"_parent\"><img src=\"https://colab.research.google.com/assets/colab-badge.svg\" alt=\"Open In Colab\"/></a>"
      ]
    },
    {
      "cell_type": "markdown",
      "source": [
        "# Strings"
      ],
      "metadata": {
        "id": "XFdSb2jedhXJ"
      }
    },
    {
      "cell_type": "markdown",
      "source": [
        "შესავალი"
      ],
      "metadata": {
        "id": "s3-WGJTHdn2q"
      }
    },
    {
      "cell_type": "code",
      "execution_count": null,
      "metadata": {
        "id": "TJt-jTNtJLeA"
      },
      "outputs": [],
      "source": [
        "\"\"\"\n",
        "  სტრიქონი წარმოადგენს სიმბოლოების დალაგებულ მიმდევრობას. Python ენაში სტრიქონის\n",
        "  სიგრძე დამოკიდებულია ოპერატიული მეხსიერების მოცულობაზე. სტრიქონი მიეკუთვნება\n",
        "  მონაცემთა შეუცვლად ტიპს, რაც ნიშნავს, რომ სტრიქონში რომელიმე სიმბოლოს შეცვლის\n",
        "  მცდელობა გამოიწვევს შეცდომას. სტრიქონული მონაცემის შეცვლა გულისხმობს ახალი მონაცემის\n",
        "  შექმნას და მის გადაწერას საწყის მონაცემზე.\n",
        "\n",
        "\"\"\""
      ]
    },
    {
      "cell_type": "markdown",
      "source": [
        "სტრიქონის შექმნა"
      ],
      "metadata": {
        "id": "KBdE7PALdvqE"
      }
    },
    {
      "cell_type": "code",
      "source": [
        "# სტრიქონის შექმნა შესაძლებელია რამდენიმე განსხვავებული მიდგომით:\n",
        "\n",
        " # str() ფუნქცია რომელიც ქმნის სტრიქონს\n",
        "\n",
        "s1 = str() # შეიქმნა ცარიელი სტრიქონის ობიექტი\n",
        "print(type(s1))\n",
        "\n",
        "s2 = str([1,2,3])\n",
        "s2"
      ],
      "metadata": {
        "colab": {
          "base_uri": "https://localhost:8080/",
          "height": 53
        },
        "id": "zkLCrI_od0y7",
        "outputId": "106fda44-a363-4d12-f280-99e26010e9e1"
      },
      "execution_count": 2,
      "outputs": [
        {
          "output_type": "stream",
          "name": "stdout",
          "text": [
            "<class 'str'>\n"
          ]
        },
        {
          "output_type": "execute_result",
          "data": {
            "text/plain": [
              "'[1, 2, 3]'"
            ],
            "application/vnd.google.colaboratory.intrinsic+json": {
              "type": "string"
            }
          },
          "metadata": {},
          "execution_count": 2
        }
      ]
    },
    {
      "cell_type": "code",
      "source": [
        "# სტრიქონის მინიჭება ორმძიმიანი ბრჭყალებით\n",
        "\n",
        "s3 = \"this is a string\"\n",
        "print(type(s2))"
      ],
      "metadata": {
        "id": "TIjssnqbfJe1"
      },
      "execution_count": null,
      "outputs": []
    },
    {
      "cell_type": "code",
      "source": [
        "# სტრიქონის მინიჭება ერთმძიმიანი ბრჭყალებით\n",
        "\n",
        "s4 = 'python'\n",
        "print(type(s3))"
      ],
      "metadata": {
        "id": "vvgPE-fTfPHW"
      },
      "execution_count": null,
      "outputs": []
    },
    {
      "cell_type": "code",
      "source": [
        " # ერთმაგი აპოსტროფით\n",
        "\n",
        "s5 = '''this is string'''\n",
        "print(type(s5))"
      ],
      "metadata": {
        "colab": {
          "base_uri": "https://localhost:8080/"
        },
        "id": "xl_gx0zefZO6",
        "outputId": "22f75173-a6a9-449b-f406-0f35e2ffb006"
      },
      "execution_count": 3,
      "outputs": [
        {
          "output_type": "stream",
          "name": "stdout",
          "text": [
            "type of x:  <class 'str'>\n"
          ]
        }
      ]
    },
    {
      "cell_type": "code",
      "source": [
        " # ორმაგი აპოსტროფით\n",
        "\n",
        "s6 = \"\"\"this is string\"\"\"\n",
        "print(type(s6))"
      ],
      "metadata": {
        "id": "km8bAnB_gL_2"
      },
      "execution_count": null,
      "outputs": []
    },
    {
      "cell_type": "markdown",
      "source": [
        "#მოქმედებები სტრიქონებზე"
      ],
      "metadata": {
        "id": "NTZySbfmgeR9"
      }
    },
    {
      "cell_type": "code",
      "source": [
        "st1, st2, st3 = 'Python', 'Programming', '*'\n",
        "print('length of st1 is : ', len(st1)) # დავბეჭდოთ st1 სტრიქონის ზომა\n",
        "print('substring of st1: ', st2[:4]) # st2-დან მივიღოთ და დავბეჭდოთ ქვესტრიქონი\n",
        "print('st1 + st2: ', st1 + st2) # დავბეჭდოთ სტრიქონების ჯამი\n",
        "print('15 * st3 : ', 15 * st3) # დავბეჭდოთ სტრიქონის ნამრავლი რიცხვზე\n",
        "for i in st2: # დავმარცვლოთ st2 სტრიქონი\n",
        "  print(i, end=' ') # დავბეჭდოთ ერთ ხაზზე\n"
      ],
      "metadata": {
        "colab": {
          "base_uri": "https://localhost:8080/"
        },
        "id": "jl0fpMJnge8N",
        "outputId": "a09a743f-6ddb-4b27-cd5c-6ba4996eccc8"
      },
      "execution_count": 4,
      "outputs": [
        {
          "output_type": "stream",
          "name": "stdout",
          "text": [
            "length of st1 is :  6\n",
            "substring of st1:  Prog\n",
            "st1 + st2:  PythonProgramming\n",
            "15 * st3 :  ***************\n",
            "P r o g r a m m i n g "
          ]
        }
      ]
    },
    {
      "cell_type": "code",
      "source": [
        "# ord() ფუნქცია რომელიც აბრუნებს სიმბოლოს რიცხვით მნიშვნელობას\n",
        "ord('A')"
      ],
      "metadata": {
        "colab": {
          "base_uri": "https://localhost:8080/"
        },
        "id": "ko-A-YQygw6t",
        "outputId": "2d5b020e-b380-43e2-e479-84507f227627"
      },
      "execution_count": 8,
      "outputs": [
        {
          "output_type": "execute_result",
          "data": {
            "text/plain": [
              "65"
            ]
          },
          "metadata": {},
          "execution_count": 8
        }
      ]
    },
    {
      "cell_type": "code",
      "source": [
        "# chr() ფუნქცია რომელიც აბრუნებს გადაცემული რიცხვითი მნიშვნელობის სიმბოლოს\n",
        "chr(65)"
      ],
      "metadata": {
        "colab": {
          "base_uri": "https://localhost:8080/",
          "height": 36
        },
        "id": "dTTNaOjMg8Ap",
        "outputId": "4371be1d-f1e3-4238-c1e6-172c28547de5"
      },
      "execution_count": 12,
      "outputs": [
        {
          "output_type": "execute_result",
          "data": {
            "text/plain": [
              "'A'"
            ],
            "application/vnd.google.colaboratory.intrinsic+json": {
              "type": "string"
            }
          },
          "metadata": {},
          "execution_count": 12
        }
      ]
    },
    {
      "cell_type": "markdown",
      "source": [
        "სპეციალური სიმბოლოები"
      ],
      "metadata": {
        "id": "vXtyk4wukoQ_"
      }
    },
    {
      "cell_type": "code",
      "source": [
        "\"\"\"\n",
        "\n",
        "პროგრამირების სხვა ენების მსგავსად Python ენაში ტექსტური მონაცემების ფორმატირება\n",
        "შეიძლება გამოყენებული იქნას სპეციალური სიმბოლოები, რომლებიც ტექსტის უკეთესი\n",
        "გაფორმების საშუალებას იძლევიან.\n",
        "\n",
        "➢ \\n - ახალი ხაზის სიმბოლო\n",
        "➢ \\t - ტაბულაციის სიმბოლო\n",
        "➢ \\0 - ცარიელი სიმბოლო\n",
        "➢ \\v - ვერტიკალური ტაბულაციის სიმბოლო\n",
        "➢ \\' - ერთმაგი აპოსტროფის სიმბოლო\n",
        "➢ \\\" - ორმაგი აპოსტროფის სიმბოლო\n",
        "➢ \\\\ - შებრუნებული სლეშის სიმბოლო.\n",
        "\n",
        "\"\"\""
      ],
      "metadata": {
        "id": "f0QIM4z7hQ73"
      },
      "execution_count": null,
      "outputs": []
    },
    {
      "cell_type": "code",
      "source": [
        "print('Python\\n')\n",
        "print('\\tPython')\n",
        "print('Python\\0')\n",
        "print('Python\\v')\n",
        "print('Python\\'')\n",
        "print('Python\\\"')\n",
        "print('Python\\\\')"
      ],
      "metadata": {
        "id": "GLBxRBekky60"
      },
      "execution_count": null,
      "outputs": []
    },
    {
      "cell_type": "markdown",
      "source": [
        "მეთოდები სტრიქონებთან მუშაობისთვის"
      ],
      "metadata": {
        "id": "HdPJYhznlopk"
      }
    },
    {
      "cell_type": "code",
      "source": [
        "# split() სიმბოლოების გრძელი მიმდევრობის ცალკეული სიტყვების სიმრავლედ (list-ად) გაყოფის საშუალებას წინასწარ განსაზღვრული გამყოფი სიმბოლოების მიმდევრობის მეშვეობით\n",
        "\n",
        "x = \"this is a string, using for python labs\"\n",
        "print(x.split())  # გაჩუმების პრინციპით split() სტრიქონს ყოფს ცარიელი სიმბოლოების მიხედვით\n",
        "\n",
        "print(x.split(','))  # სტრიქონის დაყოფა ',' სიმბოლოს საშუალებით"
      ],
      "metadata": {
        "colab": {
          "base_uri": "https://localhost:8080/"
        },
        "id": "uPadtCZRlBx3",
        "outputId": "0b56d8ff-f0bf-410d-989c-17fb97432be8"
      },
      "execution_count": 23,
      "outputs": [
        {
          "output_type": "stream",
          "name": "stdout",
          "text": [
            "['this', 'is', 'a', 'string,', 'using', 'for', 'python', 'labs']\n",
            "['this is a string', ' using for python labs']\n"
          ]
        }
      ]
    },
    {
      "cell_type": "code",
      "source": [
        "# join() - მეთოდი იძლევა ცალკეული სიტყვებისგან (სტრიქონი) წინადადების აწყობის საშუალებას წინასწარ განსაზღვრული გამყოფი სიმბოლოს მითითებით.\n",
        "arr = ['this', 'is', 'a', 'string,', 'using', 'for', 'python', 'labs']\n",
        "\n",
        "# სტრიქონების გაერთიანება ' ' სიმბოლოს საშუალებით\n",
        "print(' '.join(arr))\n",
        "\n",
        "# სტრიქონების გაერთიანება '->' სიმბოლოს საშუალებით\n",
        "print(' -> '.join(arr))"
      ],
      "metadata": {
        "colab": {
          "base_uri": "https://localhost:8080/"
        },
        "id": "mzWuAMu6l56F",
        "outputId": "c6b77a71-f321-4a9b-ca77-fd8def4dca40"
      },
      "execution_count": 28,
      "outputs": [
        {
          "output_type": "stream",
          "name": "stdout",
          "text": [
            "this is a string, using for python labs\n",
            "this -> is -> a -> string, -> using -> for -> python -> labs\n"
          ]
        }
      ]
    },
    {
      "cell_type": "code",
      "source": [
        "# strip() - მეთოდი იძლევა სტრიქონიდან, თუ ის იწყება და მთავრდება სიმბოლოთა გარკვეული მიმდევრობით, მაშინ ასეთი მიმდევრობის ჩამოშორების საშუალებას.\n",
        "\n",
        "x = \"***Python programming!*****\"\n",
        "print(f\"Before using strip(): {x}\")\n",
        "print(f\"After using strip(): {x.strip('*')}\")"
      ],
      "metadata": {
        "colab": {
          "base_uri": "https://localhost:8080/"
        },
        "id": "uR8IEHZam6Xj",
        "outputId": "01f7ed86-d809-4c85-a3aa-f264b7fd40c7"
      },
      "execution_count": 31,
      "outputs": [
        {
          "output_type": "stream",
          "name": "stdout",
          "text": [
            "Before using strip(): Python programming!*****\n",
            "After using strip(): Python programming!\n"
          ]
        }
      ]
    },
    {
      "cell_type": "code",
      "source": [
        "#  count(<string>) - მეთოდი ითვლის სტრიქონში რამდენჯერ გვხვდება <string> სტრიქონი.\n",
        "\n",
        "x = \"*****Python programming!*****\"\n",
        "print(f\"Count of '*' symbols in '{x}' is {x.count('*')}\")"
      ],
      "metadata": {
        "colab": {
          "base_uri": "https://localhost:8080/"
        },
        "id": "qneiebZtnrwO",
        "outputId": "775a393e-1e49-4382-8513-829580d1dbbf"
      },
      "execution_count": 33,
      "outputs": [
        {
          "output_type": "stream",
          "name": "stdout",
          "text": [
            "Count of '*' symbols in '*****Python programming!*****' is 10\n"
          ]
        }
      ]
    },
    {
      "cell_type": "code",
      "source": [
        "# upper(), lower() სტრიქონს ერთიანად გარდაქმნიან ალფავიტის ზედა და ქვედა რეგისტრის სიმბოლოებად\n",
        "\n",
        "x = \"This is Python\"\n",
        "print(x.upper())\n",
        "\n",
        "print(x.lower())"
      ],
      "metadata": {
        "colab": {
          "base_uri": "https://localhost:8080/"
        },
        "id": "54Ot8GuVn805",
        "outputId": "1b153df6-18df-4d8c-f92c-aadcbd1b2448"
      },
      "execution_count": 35,
      "outputs": [
        {
          "output_type": "stream",
          "name": "stdout",
          "text": [
            "THIS IS PYTHON\n",
            "this is python\n"
          ]
        }
      ]
    },
    {
      "cell_type": "code",
      "source": [
        "#  capitalize() - მეთოდი იძლევა წინადადებაში პირველი სიმბოლოს ზედა რეგისტრში გადაყვანის საშუალებას.\n",
        "\n",
        "x = \"python programming.\"\n",
        "print(f\"Before: {x}\\n After: {x.capitalize()}\")"
      ],
      "metadata": {
        "colab": {
          "base_uri": "https://localhost:8080/"
        },
        "id": "ZQDRDS2vobK-",
        "outputId": "fe3a8fb2-d8bf-4051-8e56-078b8c9933a4"
      },
      "execution_count": 36,
      "outputs": [
        {
          "output_type": "stream",
          "name": "stdout",
          "text": [
            "Before: python programming.\n",
            " After: Python programming.\n"
          ]
        }
      ]
    },
    {
      "cell_type": "code",
      "source": [
        "# title() - მეთოდი იძლევა წინადადებაში ყველა სიტყვის პირველი სიმბოლოს ზედა რეგისტრში გადაყვანის საშუალებას.\n",
        "\n",
        "x = \"python programming.\"\n",
        "print(f\"Before: {x}\\n After: {x.title()}\")"
      ],
      "metadata": {
        "colab": {
          "base_uri": "https://localhost:8080/"
        },
        "id": "QFYTb8xZon_H",
        "outputId": "66e3629b-63c5-4380-9dad-5803a3ca02b1"
      },
      "execution_count": 37,
      "outputs": [
        {
          "output_type": "stream",
          "name": "stdout",
          "text": [
            "Before: python programming.\n",
            " After: Python Programming.\n"
          ]
        }
      ]
    },
    {
      "cell_type": "code",
      "source": [
        "# find() - მეთოდი სტრიქონში ეძებს ქვესტრიქონს და აბრუნებს პოზიციის ნომერს, საიდანაც იწყება ის. თუ ასეთი პოზიცია არ მოიძებნა აბრუნებს -1 -ს.\n",
        "\n",
        "x = 'python programming'\n",
        "\n",
        "# მოვძებნოთ prog ფრაზის დაწყების ინდექსი\n",
        "print(f\"Substring 'prog' starts at position: {x.find('prog')}\")\n",
        "# მოვძებნოთ სტრიქონში c++ ფრაზის დაწყების პოზიცია\n",
        "print(f\"Substring 'c++' starts at position: {x.find('c++')}\")"
      ],
      "metadata": {
        "colab": {
          "base_uri": "https://localhost:8080/"
        },
        "id": "dVW9R8Dboy24",
        "outputId": "1b407ba6-9c3c-4288-e069-e96f6b6b5734"
      },
      "execution_count": 38,
      "outputs": [
        {
          "output_type": "stream",
          "name": "stdout",
          "text": [
            "Substring 'prog' starts at position: 7\n",
            "Substring 'c++' starts at position: -1\n"
          ]
        }
      ]
    },
    {
      "cell_type": "code",
      "source": [
        "# index() მუშაობს find() მსგავსად. თუ სტრინგი ვერ იპოვა წარმოშობს განსაკუთრებულ შემთხვევას ValueError-ს\n",
        "\n",
        "x = 'python programming'\n",
        "# მოვძებნოთ prog ფრაზის დაწყების ინდექსი\n",
        "print(f\"Substring 'prog' starts at position: {x.index('prog')}\")\n",
        "# მოვძებნოთ სტრიქონში c++ ფრაზის დაწყების პოზიცია\n",
        "print(f\"Substring 'c++' starts at position: {x.index('c++')}\")"
      ],
      "metadata": {
        "id": "fD7xSXX1o8Jg"
      },
      "execution_count": null,
      "outputs": []
    },
    {
      "cell_type": "code",
      "source": [
        "# startswith() - მეთოდი ეძებს ისეთ სტრიქონს, რომელიც წინასწარ დასახელებული პოზიციიდან (ინდექსიდან) იწყება სიმბოლოთა მითითებული მიმდევრობით და აბრუნებს bool ტიპის შედეგს.\n",
        "\n",
        "st, st1, st2 = 'python programming', 'pyth', 'prog'\n",
        "# შევამოწმოთ სტრიქონი იწყება თუ არა ფრაზით pyth\n",
        "print(f\"String starts with substring '{st1}': {st.startswith(st1)} \")\n",
        "# შევამოწმოთ სტრიქონი იწყება თუ არა ფრაზით prog\n",
        "print(f\"String starts with substring '{st2}': {st.startswith(st2)} \")\n",
        "# შევამოწმოთ სტრიქონი მე-7 პოზიციიდან იწყება თუ არა ფრაზით prog\n",
        "print(f\"String starts with substring '{st2}' at position 7: {st.startswith(st2, 7)}\")"
      ],
      "metadata": {
        "colab": {
          "base_uri": "https://localhost:8080/"
        },
        "id": "OhgTRcrupf3E",
        "outputId": "601f70f3-a553-4a07-a1c0-6f45ad81192d"
      },
      "execution_count": 40,
      "outputs": [
        {
          "output_type": "stream",
          "name": "stdout",
          "text": [
            "String starts with substring 'pyth': True \n",
            "String starts with substring 'prog': False \n",
            "String starts with substring 'prog' at position 7: True\n"
          ]
        }
      ]
    },
    {
      "cell_type": "code",
      "source": [
        "# endswith() - მეთოდი ეძებს ქვესტრიქონს, რომელიც წინასწარ დასახელებული პოზიციიდან დაწყებული ბოლოვდება სიმბოლოთა მითითებული მიმდევრობით და აბრუნებს bool ტიპის შედეგს.\n",
        "\n",
        "st, st1, st2 = 'python programming', 'ming', 'thon'\n",
        "# შევამოწმოთ სტრიქონი მთავრდება თუ არა ფრაზით ming\n",
        "print(\"String ends with substring '{st1}': {st.endswith(st1)} \")\n",
        "# შევამოწმოთ სტრიქონი მთავრდება თუ არა ფრაზით thon\n",
        "print(\"String ends with substring '{st2}': {st.endswith(st2)} \" )\n",
        "# შევამოწმოთ ქვესტრიქონი [0, 5] შუალედში მთავრდება თუ არა ფრაზით thon\n",
        "print(\"String ends with substring '{st2}' at part [0,6]: {st.endswith(st2, 0, 6)} \")\n"
      ],
      "metadata": {
        "colab": {
          "base_uri": "https://localhost:8080/"
        },
        "id": "b5N5L5zSpr1s",
        "outputId": "9e526d64-d95e-43b3-ffcc-486a5d7488ef"
      },
      "execution_count": 41,
      "outputs": [
        {
          "output_type": "stream",
          "name": "stdout",
          "text": [
            "String ends with substring '{st1}': {st.endswith(st1)} \n",
            "String ends with substring '{st2}': {st.endswith(st2)} \n",
            "String ends with substring '{st2}' at part [0,6]: {st.endswith(st2, 0, 6)} \n"
          ]
        }
      ]
    },
    {
      "cell_type": "code",
      "source": [
        "# replace() - მეთოდი წინადადებაში ეძებს სიმბოლოთა გარკვეულ მიმდევრობას და ანაცვლებს ყველა ასეთ მიმდევრობას სიმბოლოთა ახალი მიმდევრობით.\n",
        "st = 'python programming'\n",
        "print(\"Before using method replace(): \", st)\n",
        "print(f\" After using method replace(): {st.replace('p', 'P')}\")\n",
        "print(f\" After using method replace(): {st.replace('p', '@')}\")"
      ],
      "metadata": {
        "id": "CqJe8iBUqJ7S"
      },
      "execution_count": null,
      "outputs": []
    },
    {
      "cell_type": "code",
      "source": [
        "# isalpha() - მეთოდი ამოწმებს სტრიქონი შედგება თუ არა მხოლოდ ალფავიტის სიმბოლოებისგან და აბრუნებს bool ტიპის შედეგს.\n",
        "\n",
        "print(f\"'Python3' contains only alphabet symbol: {'Python3'.isalpha()}\")\n",
        "print(f\"'Pyt hon' contains only alphabet symbol: {'Pyt hon'.isalpha()}'\")\n",
        "print(f\"'Python' contains only alphabet symbol: {'Python'.isalpha()}\")\n"
      ],
      "metadata": {
        "colab": {
          "base_uri": "https://localhost:8080/"
        },
        "id": "2Gb9EvpuqVQD",
        "outputId": "cfb5e494-b994-498b-f737-dd153a2c84f8"
      },
      "execution_count": 42,
      "outputs": [
        {
          "output_type": "stream",
          "name": "stdout",
          "text": [
            "'Python3' contains only alphabet symbol: False\n",
            "'Pyt hon' contains only alphabet symbol: False'\n",
            "'Python' contains only alphabet symbol: True\n"
          ]
        }
      ]
    },
    {
      "cell_type": "code",
      "source": [
        "# isdigit() - მეთოდი ამოწმებს სტრიქონი შედგება თუ არა მხოლოდ ციფრებისაგან და აბრუნებს bool ტიპის შედეგს.\n",
        "\n",
        "print(f\"'123abc' contains only alphabet symbol: {'123abc'.isdigit()}\")\n",
        "print(f\"'123456' contains only digits: {'123456'.isdigit()}\")"
      ],
      "metadata": {
        "id": "Vc-A5hPPqtSR"
      },
      "execution_count": null,
      "outputs": []
    },
    {
      "cell_type": "markdown",
      "source": [
        "# მონაცემთა ტიპი bytes და bytearray"
      ],
      "metadata": {
        "id": "SToEYq62s7Kx"
      }
    },
    {
      "cell_type": "code",
      "source": [
        "\"\"\"\n",
        "სტრიქონული ტიპი (str) იძლევა Unicode ტექსტური მონაცემების შენახვის საშუალებას, მაგრამ\n",
        "მას არ შეუძლია გრაფიკული გამოსახულების დამუშავება. გრაფიკული გამოსახულების\n",
        "დამუშავების მიზნით Python 3 -ში შემოღებული იქნა ტიპები bytes და bytearray, რომლებიც\n",
        "იძლევიან [0, 255] შუალედიდან აღებული მთელი რიცხვების მიმდევრობების შენახვის\n",
        "საშუალებას. ყოველი ასეთი რიცხვი შეესაბამება სიმბოლოს კოდს.\n",
        "\"\"\""
      ],
      "metadata": {
        "id": "TKuJtqZMs8Yi"
      },
      "execution_count": null,
      "outputs": []
    }
  ]
}