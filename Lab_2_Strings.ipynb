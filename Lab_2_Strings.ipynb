{
  "nbformat": 4,
  "nbformat_minor": 0,
  "metadata": {
    "colab": {
      "provenance": [],
      "authorship_tag": "ABX9TyMllYV6jwe2ovkojHTGQ9M0",
      "include_colab_link": true
    },
    "kernelspec": {
      "name": "python3",
      "display_name": "Python 3"
    },
    "language_info": {
      "name": "python"
    }
  },
  "cells": [
    {
      "cell_type": "markdown",
      "metadata": {
        "id": "view-in-github",
        "colab_type": "text"
      },
      "source": [
        "<a href=\"https://colab.research.google.com/github/RevazRevazashvili/TSU-python-labs/blob/main/Lab_2_Strings.ipynb\" target=\"_parent\"><img src=\"https://colab.research.google.com/assets/colab-badge.svg\" alt=\"Open In Colab\"/></a>"
      ]
    },
    {
      "cell_type": "markdown",
      "source": [
        "# Strings"
      ],
      "metadata": {
        "id": "XFdSb2jedhXJ"
      }
    },
    {
      "cell_type": "markdown",
      "source": [
        "შესავალი"
      ],
      "metadata": {
        "id": "s3-WGJTHdn2q"
      }
    },
    {
      "cell_type": "code",
      "execution_count": null,
      "metadata": {
        "id": "TJt-jTNtJLeA"
      },
      "outputs": [],
      "source": [
        "\"\"\"\n",
        "  სტრიქონი წარმოადგენს სიმბოლოების დალაგებულ მიმდევრობას. Python ენაში სტრიქონის\n",
        "  სიგრძე დამოკიდებულია ოპერატიული მეხსიერების მოცულობაზე. სტრიქონი მიეკუთვნება\n",
        "  მონაცემთა შეუცვლად ტიპს, რაც ნიშნავს, რომ სტრიქონში რომელიმე სიმბოლოს შეცვლის\n",
        "  მცდელობა გამოიწვევს შეცდომას. სტრიქონული მონაცემის შეცვლა გულისხმობს ახალი მონაცემის\n",
        "  შექმნას და მის გადაწერას საწყის მონაცემზე.\n",
        "\n",
        "\"\"\""
      ]
    },
    {
      "cell_type": "markdown",
      "source": [
        "სტრიქონის შექმნა"
      ],
      "metadata": {
        "id": "KBdE7PALdvqE"
      }
    },
    {
      "cell_type": "code",
      "source": [
        "# სტრიქონის შექმნა შესაძლებელია რამდენიმე განსხვავებული მიდგომით:\n",
        "\n",
        " # str() ფუნქცია რომელიც ქმნის სტრიქონს\n",
        "\n",
        "s1 = str() # შეიქმნა ცარიელი სტრიქონის ობიექტი\n",
        "print(type(s1))\n",
        "\n",
        "s2 = str([1,2,3])\n",
        "s2"
      ],
      "metadata": {
        "colab": {
          "base_uri": "https://localhost:8080/",
          "height": 53
        },
        "id": "zkLCrI_od0y7",
        "outputId": "106fda44-a363-4d12-f280-99e26010e9e1"
      },
      "execution_count": 2,
      "outputs": [
        {
          "output_type": "stream",
          "name": "stdout",
          "text": [
            "<class 'str'>\n"
          ]
        },
        {
          "output_type": "execute_result",
          "data": {
            "text/plain": [
              "'[1, 2, 3]'"
            ],
            "application/vnd.google.colaboratory.intrinsic+json": {
              "type": "string"
            }
          },
          "metadata": {},
          "execution_count": 2
        }
      ]
    },
    {
      "cell_type": "code",
      "source": [
        "# სტრიქონის მინიჭება ორმძიმიანი ბრჭყალებით\n",
        "\n",
        "s3 = \"this is a string\"\n",
        "print(type(s2))"
      ],
      "metadata": {
        "id": "TIjssnqbfJe1"
      },
      "execution_count": null,
      "outputs": []
    },
    {
      "cell_type": "code",
      "source": [
        "# სტრიქონის მინიჭება ერთმძიმიანი ბრჭყალებით\n",
        "\n",
        "s4 = 'python'\n",
        "print(type(s3))"
      ],
      "metadata": {
        "id": "vvgPE-fTfPHW"
      },
      "execution_count": null,
      "outputs": []
    },
    {
      "cell_type": "code",
      "source": [
        " # ერთმაგი აპოსტროფით\n",
        "\n",
        "s5 = '''this is string'''\n",
        "print(type(s5))"
      ],
      "metadata": {
        "colab": {
          "base_uri": "https://localhost:8080/"
        },
        "id": "xl_gx0zefZO6",
        "outputId": "22f75173-a6a9-449b-f406-0f35e2ffb006"
      },
      "execution_count": 3,
      "outputs": [
        {
          "output_type": "stream",
          "name": "stdout",
          "text": [
            "type of x:  <class 'str'>\n"
          ]
        }
      ]
    },
    {
      "cell_type": "code",
      "source": [
        " # ორმაგი აპოსტროფით\n",
        "\n",
        "s6 = \"\"\"this is string\"\"\"\n",
        "print(type(s6))"
      ],
      "metadata": {
        "id": "km8bAnB_gL_2"
      },
      "execution_count": null,
      "outputs": []
    },
    {
      "cell_type": "markdown",
      "source": [
        "#მოქმედებები სტრიქონებზე"
      ],
      "metadata": {
        "id": "NTZySbfmgeR9"
      }
    },
    {
      "cell_type": "code",
      "source": [
        "st1, st2, st3 = 'Python', 'Programming', '*'\n",
        "print('length of st1 is : ', len(st1)) # დავბეჭდოთ st1 სტრიქონის ზომა\n",
        "print('substring of st1: ', st2[:4]) # st2-დან მივიღოთ და დავბეჭდოთ ქვესტრიქონი\n",
        "print('st1 + st2: ', st1 + st2) # დავბეჭდოთ სტრიქონების ჯამი\n",
        "print('15 * st3 : ', 15 * st3) # დავბეჭდოთ სტრიქონის ნამრავლი რიცხვზე\n",
        "for i in st2: # დავმარცვლოთ st2 სტრიქონი\n",
        "  print(i, end=' ') # დავბეჭდოთ ერთ ხაზზე\n"
      ],
      "metadata": {
        "colab": {
          "base_uri": "https://localhost:8080/"
        },
        "id": "jl0fpMJnge8N",
        "outputId": "a09a743f-6ddb-4b27-cd5c-6ba4996eccc8"
      },
      "execution_count": 4,
      "outputs": [
        {
          "output_type": "stream",
          "name": "stdout",
          "text": [
            "length of st1 is :  6\n",
            "substring of st1:  Prog\n",
            "st1 + st2:  PythonProgramming\n",
            "15 * st3 :  ***************\n",
            "P r o g r a m m i n g "
          ]
        }
      ]
    },
    {
      "cell_type": "code",
      "source": [
        "# ord() ფუნქცია რომელიც აბრუნებს სიმბოლოს რიცხვით მნიშვნელობას\n",
        "ord('A')"
      ],
      "metadata": {
        "colab": {
          "base_uri": "https://localhost:8080/"
        },
        "id": "ko-A-YQygw6t",
        "outputId": "2d5b020e-b380-43e2-e479-84507f227627"
      },
      "execution_count": 8,
      "outputs": [
        {
          "output_type": "execute_result",
          "data": {
            "text/plain": [
              "65"
            ]
          },
          "metadata": {},
          "execution_count": 8
        }
      ]
    },
    {
      "cell_type": "code",
      "source": [
        "# chr() ფუნქცია რომელიც აბრუნებს გადაცემული რიცხვითი მნიშვნელობის სიმბოლოს\n",
        "chr(65)"
      ],
      "metadata": {
        "colab": {
          "base_uri": "https://localhost:8080/",
          "height": 36
        },
        "id": "dTTNaOjMg8Ap",
        "outputId": "4371be1d-f1e3-4238-c1e6-172c28547de5"
      },
      "execution_count": 12,
      "outputs": [
        {
          "output_type": "execute_result",
          "data": {
            "text/plain": [
              "'A'"
            ],
            "application/vnd.google.colaboratory.intrinsic+json": {
              "type": "string"
            }
          },
          "metadata": {},
          "execution_count": 12
        }
      ]
    },
    {
      "cell_type": "markdown",
      "source": [
        "სპეციალური სიმბოლოები"
      ],
      "metadata": {
        "id": "vXtyk4wukoQ_"
      }
    },
    {
      "cell_type": "code",
      "source": [
        "\"\"\"\n",
        "\n",
        "პროგრამირების სხვა ენების მსგავსად Python ენაში ტექსტური მონაცემების ფორმატირება\n",
        "შეიძლება გამოყენებული იქნას სპეციალური სიმბოლოები, რომლებიც ტექსტის უკეთესი\n",
        "გაფორმების საშუალებას იძლევიან.\n",
        "\n",
        "➢ \\n - ახალი ხაზის სიმბოლო\n",
        "➢ \\t - ტაბულაციის სიმბოლო\n",
        "➢ \\0 - ცარიელი სიმბოლო\n",
        "➢ \\v - ვერტიკალური ტაბულაციის სიმბოლო\n",
        "➢ \\' - ერთმაგი აპოსტროფის სიმბოლო\n",
        "➢ \\\" - ორმაგი აპოსტროფის სიმბოლო\n",
        "➢ \\\\ - შებრუნებული სლეშის სიმბოლო.\n",
        "\n",
        "\"\"\""
      ],
      "metadata": {
        "id": "f0QIM4z7hQ73"
      },
      "execution_count": null,
      "outputs": []
    },
    {
      "cell_type": "code",
      "source": [
        "print('Python\\n')\n",
        "print('\\tPython')\n",
        "print('Python\\0')\n",
        "print('Python\\v')\n",
        "print('Python\\'')\n",
        "print('Python\\\"')\n",
        "print('Python\\\\')"
      ],
      "metadata": {
        "id": "GLBxRBekky60"
      },
      "execution_count": null,
      "outputs": []
    },
    {
      "cell_type": "markdown",
      "source": [
        "მეთოდები სტრიქონებთან მუშაობისთვის"
      ],
      "metadata": {
        "id": "HdPJYhznlopk"
      }
    },
    {
      "cell_type": "code",
      "source": [
        "# split() სიმბოლოების გრძელი მიმდევრობის ცალკეული სიტყვების სიმრავლედ (list-ად) გაყოფის საშუალებას წინასწარ განსაზღვრული გამყოფი სიმბოლოების მიმდევრობის მეშვეობით\n",
        "\n",
        "x = \"this is a string, using for python labs\"\n",
        "print(x.split())  # გაჩუმების პრინციპით split() სტრიქონს ყოფს ცარიელი სიმბოლოების მიხედვით\n",
        "\n",
        "print(x.split(','))  # სტრიქონის დაყოფა ',' სიმბოლოს საშუალებით"
      ],
      "metadata": {
        "colab": {
          "base_uri": "https://localhost:8080/"
        },
        "id": "uPadtCZRlBx3",
        "outputId": "0b56d8ff-f0bf-410d-989c-17fb97432be8"
      },
      "execution_count": 23,
      "outputs": [
        {
          "output_type": "stream",
          "name": "stdout",
          "text": [
            "['this', 'is', 'a', 'string,', 'using', 'for', 'python', 'labs']\n",
            "['this is a string', ' using for python labs']\n"
          ]
        }
      ]
    },
    {
      "cell_type": "code",
      "source": [
        "# join() - მეთოდი იძლევა ცალკეული სიტყვებისგან (სტრიქონი) წინადადების აწყობის საშუალებას წინასწარ განსაზღვრული გამყოფი სიმბოლოს მითითებით.\n",
        "arr = ['this', 'is', 'a', 'string,', 'using', 'for', 'python', 'labs']\n",
        "\n",
        "# სტრიქონების გაერთიანება ' ' სიმბოლოს საშუალებით\n",
        "print(' '.join(arr))\n",
        "\n",
        "# სტრიქონების გაერთიანება '->' სიმბოლოს საშუალებით\n",
        "print(' -> '.join(arr))"
      ],
      "metadata": {
        "colab": {
          "base_uri": "https://localhost:8080/"
        },
        "id": "mzWuAMu6l56F",
        "outputId": "c6b77a71-f321-4a9b-ca77-fd8def4dca40"
      },
      "execution_count": 28,
      "outputs": [
        {
          "output_type": "stream",
          "name": "stdout",
          "text": [
            "this is a string, using for python labs\n",
            "this -> is -> a -> string, -> using -> for -> python -> labs\n"
          ]
        }
      ]
    },
    {
      "cell_type": "code",
      "source": [
        "# strip() - მეთოდი იძლევა სტრიქონიდან, თუ ის იწყება და მთავრდება სიმბოლოთა გარკვეული მიმდევრობით, მაშინ ასეთი მიმდევრობის ჩამოშორების საშუალებას.\n",
        "\n",
        "x = \"***Python programming!*****\"\n",
        "print(f\"Before using strip(): {x}\")\n",
        "print(f\"After using strip(): {x.strip('*')}\")"
      ],
      "metadata": {
        "colab": {
          "base_uri": "https://localhost:8080/"
        },
        "id": "uR8IEHZam6Xj",
        "outputId": "01f7ed86-d809-4c85-a3aa-f264b7fd40c7"
      },
      "execution_count": 31,
      "outputs": [
        {
          "output_type": "stream",
          "name": "stdout",
          "text": [
            "Before using strip(): Python programming!*****\n",
            "After using strip(): Python programming!\n"
          ]
        }
      ]
    },
    {
      "cell_type": "code",
      "source": [
        "#  count(<string>) - მეთოდი ითვლის სტრიქონში რამდენჯერ გვხვდება <string> სტრიქონი.\n",
        "\n",
        "x = \"*****Python programming!*****\"\n",
        "print(f\"Count of '*' symbols in '{x}' is {x.count('*')}\")"
      ],
      "metadata": {
        "colab": {
          "base_uri": "https://localhost:8080/"
        },
        "id": "qneiebZtnrwO",
        "outputId": "775a393e-1e49-4382-8513-829580d1dbbf"
      },
      "execution_count": 33,
      "outputs": [
        {
          "output_type": "stream",
          "name": "stdout",
          "text": [
            "Count of '*' symbols in '*****Python programming!*****' is 10\n"
          ]
        }
      ]
    },
    {
      "cell_type": "code",
      "source": [
        "# upper(), lower() სტრიქონს ერთიანად გარდაქმნიან ალფავიტის ზედა და ქვედა რეგისტრის სიმბოლოებად\n",
        "\n",
        "x = \"This is Python\"\n",
        "print(x.upper())\n",
        "\n",
        "print(x.lower())"
      ],
      "metadata": {
        "colab": {
          "base_uri": "https://localhost:8080/"
        },
        "id": "54Ot8GuVn805",
        "outputId": "1b153df6-18df-4d8c-f92c-aadcbd1b2448"
      },
      "execution_count": 35,
      "outputs": [
        {
          "output_type": "stream",
          "name": "stdout",
          "text": [
            "THIS IS PYTHON\n",
            "this is python\n"
          ]
        }
      ]
    },
    {
      "cell_type": "code",
      "source": [
        "#  capitalize() - მეთოდი იძლევა წინადადებაში პირველი სიმბოლოს ზედა რეგისტრში გადაყვანის საშუალებას.\n",
        "\n",
        "x = \"python programming.\"\n",
        "print(f\"Before: {x}\\n After: {x.capitalize()}\")"
      ],
      "metadata": {
        "colab": {
          "base_uri": "https://localhost:8080/"
        },
        "id": "ZQDRDS2vobK-",
        "outputId": "fe3a8fb2-d8bf-4051-8e56-078b8c9933a4"
      },
      "execution_count": 36,
      "outputs": [
        {
          "output_type": "stream",
          "name": "stdout",
          "text": [
            "Before: python programming.\n",
            " After: Python programming.\n"
          ]
        }
      ]
    },
    {
      "cell_type": "code",
      "source": [
        "# title() - მეთოდი იძლევა წინადადებაში ყველა სიტყვის პირველი სიმბოლოს ზედა რეგისტრში გადაყვანის საშუალებას.\n",
        "\n",
        "x = \"python programming.\"\n",
        "print(f\"Before: {x}\\n After: {x.title()}\")"
      ],
      "metadata": {
        "colab": {
          "base_uri": "https://localhost:8080/"
        },
        "id": "QFYTb8xZon_H",
        "outputId": "66e3629b-63c5-4380-9dad-5803a3ca02b1"
      },
      "execution_count": 37,
      "outputs": [
        {
          "output_type": "stream",
          "name": "stdout",
          "text": [
            "Before: python programming.\n",
            " After: Python Programming.\n"
          ]
        }
      ]
    },
    {
      "cell_type": "code",
      "source": [
        "# find() - მეთოდი სტრიქონში ეძებს ქვესტრიქონს და აბრუნებს პოზიციის ნომერს, საიდანაც იწყება ის. თუ ასეთი პოზიცია არ მოიძებნა აბრუნებს -1 -ს.\n",
        "\n",
        "x = 'python programming'\n",
        "\n",
        "# მოვძებნოთ prog ფრაზის დაწყების ინდექსი\n",
        "print(f\"Substring 'prog' starts at position: {x.find('prog')}\")\n",
        "# მოვძებნოთ სტრიქონში c++ ფრაზის დაწყების პოზიცია\n",
        "print(f\"Substring 'c++' starts at position: {x.find('c++')}\")"
      ],
      "metadata": {
        "colab": {
          "base_uri": "https://localhost:8080/"
        },
        "id": "dVW9R8Dboy24",
        "outputId": "1b407ba6-9c3c-4288-e069-e96f6b6b5734"
      },
      "execution_count": 38,
      "outputs": [
        {
          "output_type": "stream",
          "name": "stdout",
          "text": [
            "Substring 'prog' starts at position: 7\n",
            "Substring 'c++' starts at position: -1\n"
          ]
        }
      ]
    },
    {
      "cell_type": "code",
      "source": [
        "# index() მუშაობს find() მსგავსად. თუ სტრინგი ვერ იპოვა წარმოშობს განსაკუთრებულ შემთხვევას ValueError-ს\n",
        "\n",
        "x = 'python programming'\n",
        "# მოვძებნოთ prog ფრაზის დაწყების ინდექსი\n",
        "print(f\"Substring 'prog' starts at position: {x.index('prog')}\")\n",
        "# მოვძებნოთ სტრიქონში c++ ფრაზის დაწყების პოზიცია\n",
        "print(f\"Substring 'c++' starts at position: {x.index('c++')}\")"
      ],
      "metadata": {
        "id": "fD7xSXX1o8Jg"
      },
      "execution_count": null,
      "outputs": []
    },
    {
      "cell_type": "code",
      "source": [
        "# startswith() - მეთოდი ეძებს ისეთ სტრიქონს, რომელიც წინასწარ დასახელებული პოზიციიდან (ინდექსიდან) იწყება სიმბოლოთა მითითებული მიმდევრობით და აბრუნებს bool ტიპის შედეგს.\n",
        "\n",
        "st, st1, st2 = 'python programming', 'pyth', 'prog'\n",
        "# შევამოწმოთ სტრიქონი იწყება თუ არა ფრაზით pyth\n",
        "print(f\"String starts with substring '{st1}': {st.startswith(st1)} \")\n",
        "# შევამოწმოთ სტრიქონი იწყება თუ არა ფრაზით prog\n",
        "print(f\"String starts with substring '{st2}': {st.startswith(st2)} \")\n",
        "# შევამოწმოთ სტრიქონი მე-7 პოზიციიდან იწყება თუ არა ფრაზით prog\n",
        "print(f\"String starts with substring '{st2}' at position 7: {st.startswith(st2, 7)}\")"
      ],
      "metadata": {
        "colab": {
          "base_uri": "https://localhost:8080/"
        },
        "id": "OhgTRcrupf3E",
        "outputId": "601f70f3-a553-4a07-a1c0-6f45ad81192d"
      },
      "execution_count": 40,
      "outputs": [
        {
          "output_type": "stream",
          "name": "stdout",
          "text": [
            "String starts with substring 'pyth': True \n",
            "String starts with substring 'prog': False \n",
            "String starts with substring 'prog' at position 7: True\n"
          ]
        }
      ]
    },
    {
      "cell_type": "code",
      "source": [
        "# endswith() - მეთოდი ეძებს ქვესტრიქონს, რომელიც წინასწარ დასახელებული პოზიციიდან დაწყებული ბოლოვდება სიმბოლოთა მითითებული მიმდევრობით და აბრუნებს bool ტიპის შედეგს.\n",
        "\n",
        "st, st1, st2 = 'python programming', 'ming', 'thon'\n",
        "# შევამოწმოთ სტრიქონი მთავრდება თუ არა ფრაზით ming\n",
        "print(\"String ends with substring '{st1}': {st.endswith(st1)} \")\n",
        "# შევამოწმოთ სტრიქონი მთავრდება თუ არა ფრაზით thon\n",
        "print(\"String ends with substring '{st2}': {st.endswith(st2)} \" )\n",
        "# შევამოწმოთ ქვესტრიქონი [0, 5] შუალედში მთავრდება თუ არა ფრაზით thon\n",
        "print(\"String ends with substring '{st2}' at part [0,6]: {st.endswith(st2, 0, 6)} \")\n"
      ],
      "metadata": {
        "colab": {
          "base_uri": "https://localhost:8080/"
        },
        "id": "b5N5L5zSpr1s",
        "outputId": "9e526d64-d95e-43b3-ffcc-486a5d7488ef"
      },
      "execution_count": 41,
      "outputs": [
        {
          "output_type": "stream",
          "name": "stdout",
          "text": [
            "String ends with substring '{st1}': {st.endswith(st1)} \n",
            "String ends with substring '{st2}': {st.endswith(st2)} \n",
            "String ends with substring '{st2}' at part [0,6]: {st.endswith(st2, 0, 6)} \n"
          ]
        }
      ]
    },
    {
      "cell_type": "code",
      "source": [
        "# replace() - მეთოდი წინადადებაში ეძებს სიმბოლოთა გარკვეულ მიმდევრობას და ანაცვლებს ყველა ასეთ მიმდევრობას სიმბოლოთა ახალი მიმდევრობით.\n",
        "st = 'python programming'\n",
        "print(\"Before using method replace(): \", st)\n",
        "print(f\" After using method replace(): {st.replace('p', 'P')}\")\n",
        "print(f\" After using method replace(): {st.replace('p', '@')}\")"
      ],
      "metadata": {
        "id": "CqJe8iBUqJ7S"
      },
      "execution_count": null,
      "outputs": []
    },
    {
      "cell_type": "code",
      "source": [
        "# isalpha() - მეთოდი ამოწმებს სტრიქონი შედგება თუ არა მხოლოდ ალფავიტის სიმბოლოებისგან და აბრუნებს bool ტიპის შედეგს.\n",
        "\n",
        "print(f\"'Python3' contains only alphabet symbol: {'Python3'.isalpha()}\")\n",
        "print(f\"'Pyt hon' contains only alphabet symbol: {'Pyt hon'.isalpha()}'\")\n",
        "print(f\"'Python' contains only alphabet symbol: {'Python'.isalpha()}\")\n"
      ],
      "metadata": {
        "colab": {
          "base_uri": "https://localhost:8080/"
        },
        "id": "2Gb9EvpuqVQD",
        "outputId": "cfb5e494-b994-498b-f737-dd153a2c84f8"
      },
      "execution_count": 42,
      "outputs": [
        {
          "output_type": "stream",
          "name": "stdout",
          "text": [
            "'Python3' contains only alphabet symbol: False\n",
            "'Pyt hon' contains only alphabet symbol: False'\n",
            "'Python' contains only alphabet symbol: True\n"
          ]
        }
      ]
    },
    {
      "cell_type": "code",
      "source": [
        "# isdigit() - მეთოდი ამოწმებს სტრიქონი შედგება თუ არა მხოლოდ ციფრებისაგან და აბრუნებს bool ტიპის შედეგს.\n",
        "\n",
        "print(f\"'123abc' contains only alphabet symbol: {'123abc'.isdigit()}\")\n",
        "print(f\"'123456' contains only digits: {'123456'.isdigit()}\")"
      ],
      "metadata": {
        "id": "Vc-A5hPPqtSR"
      },
      "execution_count": null,
      "outputs": []
    },
    {
      "cell_type": "markdown",
      "source": [
        "# მონაცემთა ტიპი bytes და bytearray"
      ],
      "metadata": {
        "id": "SToEYq62s7Kx"
      }
    },
    {
      "cell_type": "markdown",
      "source": [
        "ტიპი bytes"
      ],
      "metadata": {
        "id": "pongbTPy8jFp"
      }
    },
    {
      "cell_type": "code",
      "source": [
        "\"\"\"\n",
        "სტრიქონული ტიპი (str) იძლევა Unicode ტექსტური მონაცემების შენახვის საშუალებას, მაგრამ\n",
        "მას არ შეუძლია გრაფიკული გამოსახულების დამუშავება. გრაფიკული გამოსახულების\n",
        "დამუშავების მიზნით Python 3 -ში შემოღებული იქნა ტიპები bytes და bytearray, რომლებიც\n",
        "იძლევიან [0, 255] შუალედიდან აღებული მთელი რიცხვების მიმდევრობების შენახვის\n",
        "საშუალებას. ყოველი ასეთი რიცხვი შეესაბამება სიმბოლოს კოდს.\n",
        "\"\"\""
      ],
      "metadata": {
        "id": "TKuJtqZMs8Yi"
      },
      "execution_count": null,
      "outputs": []
    },
    {
      "cell_type": "markdown",
      "source": [
        "შექმნა"
      ],
      "metadata": {
        "id": "QzYJbCys7p7R"
      }
    },
    {
      "cell_type": "code",
      "source": [
        "# bytes() ფუნქციის გამოყენებით. ფუნქციას აქვს შემდეგი სახე: bytes([<string>, <coding>])\n",
        "\n",
        "print(\"Empty object: \", bytes()) # ცარიელი byte ობიექტის შექმნა\n",
        "a = bytes(\"Python\",\"utf-8\") # მოვახდინოთ byte ობიექტის მიღება\n",
        "print(\"Value of a: \", a)\n",
        "print(f\"Type of {a}: {type(a)}\")"
      ],
      "metadata": {
        "id": "nztMl4i57rcx"
      },
      "execution_count": null,
      "outputs": []
    },
    {
      "cell_type": "code",
      "source": [
        "# encode() მეთოდის გამოყენებით.\n",
        "\n",
        "a = \"Python\".encode() # მოვახდინოთ byte ობიექტის მიღება\n",
        "print(\"Sequence of bytes: \", a)\n",
        "print(f\"Type of {a}: {type(a)}\")"
      ],
      "metadata": {
        "colab": {
          "base_uri": "https://localhost:8080/"
        },
        "id": "v9OaB_mC8Dme",
        "outputId": "718a5b0f-57d4-4fd9-b358-1940763a123f"
      },
      "execution_count": 43,
      "outputs": [
        {
          "output_type": "stream",
          "name": "stdout",
          "text": [
            "Sequence of bytes:  b'Python'\n",
            "Type of b'Python': <class 'bytes'>\n"
          ]
        }
      ]
    },
    {
      "cell_type": "code",
      "source": [
        "#  ობიექტის გამოცხადებისას სტრიქონის წინ სიმბოლო b -ს მითითებით.\n",
        "\n",
        "a = b\"Python\" # მოვახდინოთ byte ობიექტის მიღება\n",
        "print(\"Sequence of bytes: \", a)\n",
        "print(f\"Type of {a}: {type(a)}\")"
      ],
      "metadata": {
        "colab": {
          "base_uri": "https://localhost:8080/"
        },
        "id": "4XoYdduT8GqX",
        "outputId": "3d57a1d2-a9fb-4ad8-f335-4e09199e69c1"
      },
      "execution_count": 44,
      "outputs": [
        {
          "output_type": "stream",
          "name": "stdout",
          "text": [
            "Sequence of bytes:  b'Python'\n",
            "Type of b'Python': <class 'bytes'>\n"
          ]
        }
      ]
    },
    {
      "cell_type": "code",
      "source": [
        "# ბაიტების მიმდევრობის სტრიქონად გადაქცევა შესაძლებელია decode() მეთოდის მეშვეობით, რომელსაც აქვს შემდეგი სახე: decode([encoding=\"utf-8\"])\n",
        "\n",
        "x = b'Python' # გამოვაცხადოთ byte ტიპის ობიექტი\n",
        "print(f\"Type of x is: {type(x)}\")\n",
        "print(f\"Type of y is: {type(x.decode())}\")"
      ],
      "metadata": {
        "colab": {
          "base_uri": "https://localhost:8080/"
        },
        "id": "c0tzKve18QQa",
        "outputId": "8f779e7f-5fff-4075-8254-e72ff8820442"
      },
      "execution_count": 45,
      "outputs": [
        {
          "output_type": "stream",
          "name": "stdout",
          "text": [
            "Type of x is: <class 'bytes'>\n",
            "Type of y is: <class 'str'>\n"
          ]
        }
      ]
    },
    {
      "cell_type": "markdown",
      "source": [
        " ტიპი bytearray"
      ],
      "metadata": {
        "id": "9aWtmkbz8l_9"
      }
    },
    {
      "cell_type": "code",
      "source": [
        "# ამ ტიპის ობიექტის შექმნა შესაძლებელია bytearray() მეთოდის გამოყენებით. მეთოდს აქვს შემდეგი სახე: bytearray([<string>, <coding>])\n",
        "\n",
        "print(\"Empty object: \", bytearray()) # ცარიელი bytearray ტიპის ობიექტი\n",
        "a = bytearray(\"Python\",\"utf-8\")\n",
        "print(\" Value of a: \", a)\n",
        "print(f\"Type of a: {type(a)}\")"
      ],
      "metadata": {
        "id": "Xe2ysiip8bfG"
      },
      "execution_count": null,
      "outputs": []
    },
    {
      "cell_type": "markdown",
      "source": [
        "bytearray ტიპთან მუშაობა"
      ],
      "metadata": {
        "id": "ffroLQtt88qR"
      }
    },
    {
      "cell_type": "code",
      "source": [
        "# append() - მეთოდი ობიექტის ბოლოში ამატებს ერთ ახალ მნიშვნელობას\n",
        "\n",
        "barr = bytearray('Python', 'utf-8')\n",
        "print(\"Before using method append: \", barr)\n",
        "barr.append(b'123'[2]) # ობიექტში მივამატოთ მესამე მნიშვნელობა (3)\n",
        "print(\" After using method append: \", barr)"
      ],
      "metadata": {
        "colab": {
          "base_uri": "https://localhost:8080/"
        },
        "id": "Q0DysEz58_V7",
        "outputId": "7d08eb62-c21a-41b2-e868-a0000adb9080"
      },
      "execution_count": 51,
      "outputs": [
        {
          "output_type": "stream",
          "name": "stdout",
          "text": [
            "Before using method append:  bytearray(b'Python')\n",
            " After using method append:  bytearray(b'Python3')\n"
          ]
        }
      ]
    },
    {
      "cell_type": "code",
      "source": [
        "# extend() - მეთოდი ობიექტის ბოლოში ამატებს მნიშვნელობების გარკვეულ მიმდევრობას.\n",
        "\n",
        "barr = bytearray('Python', 'utf-8')\n",
        "print(\"Before using method extend: \", barr)\n",
        "barr.extend(b'123') # ობიექტში მივამატოთ მნიშვნელობები 1, 2, 3\n",
        "print(f\" After using method extend: {barr}\")"
      ],
      "metadata": {
        "colab": {
          "base_uri": "https://localhost:8080/"
        },
        "id": "QYB8LU6K9EuY",
        "outputId": "63b57a8c-0ab9-46c1-fbe8-d757f2400939"
      },
      "execution_count": 52,
      "outputs": [
        {
          "output_type": "stream",
          "name": "stdout",
          "text": [
            "Before using method extend:  bytearray(b'Python')\n",
            " After using method extend: bytearray(b'Python123')\n"
          ]
        }
      ]
    },
    {
      "cell_type": "code",
      "source": [
        "# insert() - ობიექტში ამატებს მნიშვნელობას წინასწარ განსაზღვრულ პოზიციაზე.\n",
        "\n",
        "barr = bytearray('Python', 'utf-8')\n",
        "print(f\"Before using method insert: {barr}\")\n",
        "barr.insert(0, b'123'[1]) # პირველ პოზიციაზე (0) ჩავსვათ მნიშვნელობა 2\n",
        "print(f\" After using method insert: {barr}\")"
      ],
      "metadata": {
        "colab": {
          "base_uri": "https://localhost:8080/"
        },
        "id": "uU05w25k92ZT",
        "outputId": "28f5f946-57ed-49f6-fcfe-61020a4eab7d"
      },
      "execution_count": 53,
      "outputs": [
        {
          "output_type": "stream",
          "name": "stdout",
          "text": [
            "Before using method insert: bytearray(b'Python')\n",
            " After using method insert: bytearray(b'2Python')\n"
          ]
        }
      ]
    },
    {
      "cell_type": "code",
      "source": [
        "# pop() - ობიექტიდან შლის მითითებულ ინდექსზე განთავსებულ მნიშვნელობას და აბრუნებს შესაბამისი სიმბოლოს ASCII კოდს.\n",
        "\n",
        "barr = bytearray('Python', 'utf-8')\n",
        "print(\"Before using method pop: \", barr)\n",
        "print(\"After using method pop: \", barr)\n",
        "x = barr.pop(3) # ობიექტიდან ამოვშალოთ მეოთხე მნიშვნელობა (ინდექსი 3)\n",
        "print(f\"ASCII code: {x}\\nCharacter value: {chr(x)}\")"
      ],
      "metadata": {
        "colab": {
          "base_uri": "https://localhost:8080/"
        },
        "id": "dqQmB5ex96oV",
        "outputId": "10357b76-9abc-4f4e-bb10-732bc117e799"
      },
      "execution_count": 55,
      "outputs": [
        {
          "output_type": "stream",
          "name": "stdout",
          "text": [
            "Before using method pop:  bytearray(b'Python')\n",
            "After using method pop:  bytearray(b'Python')\n",
            "ASCII code: 104\n",
            "Character value: h\n"
          ]
        }
      ]
    },
    {
      "cell_type": "code",
      "source": [
        "# remove() - ობიექტიდან შლის მითითებული მნიშვნელობის მქონე პირველივე ელემენტს. მეთოდი არაფერს არ აბრუნებს.\n",
        "\n",
        "barr = bytearray('Python Programming', 'utf-8')\n",
        "print(\"Before using method remove: \", barr)\n",
        "barr.remove(b'o'[0]) # ობიექტიდან ამოვშალოთ პირველივე ‘o’ სიმბოლო\n",
        "print(\" After using method remove: \", barr)"
      ],
      "metadata": {
        "colab": {
          "base_uri": "https://localhost:8080/"
        },
        "id": "koqeNxaXBf5w",
        "outputId": "6644f76b-8769-4d0e-9606-83749afe4f95"
      },
      "execution_count": 56,
      "outputs": [
        {
          "output_type": "stream",
          "name": "stdout",
          "text": [
            "Before using method remove:  bytearray(b'Python Programming')\n",
            " After using method remove:  bytearray(b'Pythn Programming')\n"
          ]
        }
      ]
    },
    {
      "cell_type": "code",
      "source": [
        "# reverse() - ობიექტში ახდენს მნიშვნელობების შეტრიალებას.\n",
        "\n",
        "barr = bytearray('Python', 'utf-8') # შევქმნათ bytearray ობიექტი\n",
        "print(\"Before using method reverse: \", barr) # დავბეჭდოთ მნიშვნელობა\n",
        "barr.reverse() # შევატრიალოთ მნიშვნელობები ობიექტში\n",
        "print(\" After using method reverse: \", barr) # დავბეჭდოთ შედეგი"
      ],
      "metadata": {
        "colab": {
          "base_uri": "https://localhost:8080/"
        },
        "id": "kLBSZhW3BrKp",
        "outputId": "a2b0a2d3-5a96-4c00-b3a4-b09357724832"
      },
      "execution_count": 57,
      "outputs": [
        {
          "output_type": "stream",
          "name": "stdout",
          "text": [
            "Before using method reverse:  bytearray(b'Python')\n",
            " After using method reverse:  bytearray(b'nohtyP')\n"
          ]
        }
      ]
    },
    {
      "cell_type": "markdown",
      "source": [
        "ობიექტის გარდაქმნა ბაიტების მიმდევრობაში"
      ],
      "metadata": {
        "id": "874UvcdbCQRc"
      }
    },
    {
      "cell_type": "code",
      "source": [
        "\"\"\"\n",
        "ობიექტის ბაიტების მიმდევრობაში გარდაქმნა (სერიალიზაცია) და შემდეგ ბაიტების\n",
        "მიმდევრობიდან უკან ობიექტში გარდაქმნა (დესერიალიზაცია) შესაძლებელია მოდული pickle -ის\n",
        "გამოყენებით.\n",
        "\"\"\""
      ],
      "metadata": {
        "id": "JooE4UHuB0M1"
      },
      "execution_count": null,
      "outputs": []
    },
    {
      "cell_type": "code",
      "source": [
        "import pickle"
      ],
      "metadata": {
        "id": "ie-p9WdGCWSv"
      },
      "execution_count": 58,
      "outputs": []
    },
    {
      "cell_type": "code",
      "source": [
        "\"\"\"\n",
        "dumps() - რომელიც ახდენს ობიექტის სერიალიზაციას და აბრუნებს სპეციალური ფორმატის\n",
        "ბაიტების მიმდევრობას. მეთოდს აქვს შემდეგი ფორმატი:\n",
        "dumps(<object> [, <protocol>])\n",
        "\"\"\"\n",
        "\n",
        "arr = [1, 2, 3, 4, 5] # შევქმნათ სიმრავლე\n",
        "# მოვახდინოთ სიმრავლის სერიალიზაცია გაჩუმებით პროტოკოლით\n",
        "print(f\"using dumps with default protocol number:\\t {pickle.dumps(arr)}\")\n",
        "# მოვახდინოთ სიის სერიალიზაცია პროტოკოლის ნომრით 3\n",
        "print(f\"using dumps with protocol number: \\t\\t {pickle.dumps(arr, 3)}\")\n",
        "# მოვახდინოთ სიის სერიალიზაცია პროტოკოლის ნომრით 4\n",
        "print(f\"using dumps with protocol number:  \\t\\t {pickle.dumps(arr, 4)}\")"
      ],
      "metadata": {
        "colab": {
          "base_uri": "https://localhost:8080/"
        },
        "id": "tKVEJEs6CYlw",
        "outputId": "709d2378-05ef-4c68-aa43-c1333ff0ca18"
      },
      "execution_count": 70,
      "outputs": [
        {
          "output_type": "stream",
          "name": "stdout",
          "text": [
            "using dumps with default protocol number:\t b'\\x80\\x04\\x95\\x0f\\x00\\x00\\x00\\x00\\x00\\x00\\x00]\\x94(K\\x01K\\x02K\\x03K\\x04K\\x05e.'\n",
            "using dumps with protocol number: \t\t b'\\x80\\x03]q\\x00(K\\x01K\\x02K\\x03K\\x04K\\x05e.'\n",
            "using dumps with protocol number:  \t\t b'\\x80\\x04\\x95\\x0f\\x00\\x00\\x00\\x00\\x00\\x00\\x00]\\x94(K\\x01K\\x02K\\x03K\\x04K\\x05e.'\n"
          ]
        }
      ]
    },
    {
      "cell_type": "code",
      "source": [
        "\"\"\"\n",
        " loads() - სპეციალური ფორმატის ბაიტების მიმდევრობა გადაყავს ობიექტში (ახდენს\n",
        "დესერიალიზაციის მოქმედებას). ფუნქციას აქვს შემდეგი ფორმატი:\n",
        "loads(<sequence> [, <encoding='ASCII']>)\n",
        "სადაც <sequence> (აუცილებელი) პარამეტრი მიუთითებს სერიალიზაციის ობიექტს, ხოლო\n",
        "<encoding> (არა აუცილებელი) პარამეტრი კი - მიუთითებს კოდირების წესს.\n",
        "\"\"\"\n",
        "\n",
        "# გამოვაცხადოთ ობიექტი დესერიალიზაციისთვის\n",
        "pick = b'\\x80\\x03]q\\x00(K\\x01K\\x02K\\x03K\\x04K\\x05e.'\n",
        "print(f\"arr = {pickle.loads(pick)}\")"
      ],
      "metadata": {
        "colab": {
          "base_uri": "https://localhost:8080/"
        },
        "id": "ZjkYejWnDfqt",
        "outputId": "f95a1516-e318-4d4d-d85b-379941362279"
      },
      "execution_count": 71,
      "outputs": [
        {
          "output_type": "stream",
          "name": "stdout",
          "text": [
            "arr = [1, 2, 3, 4, 5]\n"
          ]
        }
      ]
    },
    {
      "cell_type": "markdown",
      "source": [
        "# მოდული math"
      ],
      "metadata": {
        "id": "z-WBNu3pETsj"
      }
    },
    {
      "cell_type": "code",
      "source": [
        "import math"
      ],
      "metadata": {
        "id": "NpeENqRADk9J"
      },
      "execution_count": 72,
      "outputs": []
    },
    {
      "cell_type": "code",
      "source": [
        "print(math.pi) # pi მუდმივა"
      ],
      "metadata": {
        "colab": {
          "base_uri": "https://localhost:8080/"
        },
        "id": "-fwQoxA5EYLa",
        "outputId": "57e9e645-e792-4e6c-c853-21bb39bd6822"
      },
      "execution_count": 73,
      "outputs": [
        {
          "output_type": "stream",
          "name": "stdout",
          "text": [
            "3.141592653589793\n"
          ]
        }
      ]
    },
    {
      "cell_type": "code",
      "source": [
        "print(math.e) # ნეპერის რიცხვი"
      ],
      "metadata": {
        "colab": {
          "base_uri": "https://localhost:8080/"
        },
        "id": "1hfEUd0bMNaN",
        "outputId": "ae68f6c8-7570-4291-f552-55d628c407a1"
      },
      "execution_count": 74,
      "outputs": [
        {
          "output_type": "stream",
          "name": "stdout",
          "text": [
            "2.718281828459045\n"
          ]
        }
      ]
    },
    {
      "cell_type": "code",
      "source": [
        "print(math.sin(1)) # სინუსი\n",
        "print(math.cos(1)) # კოსინუსი\n",
        "print(math.tan(1)) # ტანგენსი"
      ],
      "metadata": {
        "colab": {
          "base_uri": "https://localhost:8080/"
        },
        "id": "FJpfpzi-MVjr",
        "outputId": "22d6711e-7793-49ca-c8da-d9fe4d687338"
      },
      "execution_count": 75,
      "outputs": [
        {
          "output_type": "stream",
          "name": "stdout",
          "text": [
            "0.8414709848078965\n",
            "0.5403023058681398\n",
            "1.5574077246549023\n"
          ]
        }
      ]
    },
    {
      "cell_type": "code",
      "source": [
        "print(math.radians(1)) # რადიანი\n",
        "print(math.degrees(1)) # გრადუსი"
      ],
      "metadata": {
        "colab": {
          "base_uri": "https://localhost:8080/"
        },
        "id": "KR-uGErXMdIy",
        "outputId": "0b48df08-3219-4262-d89a-3fd6a5cc9492"
      },
      "execution_count": 76,
      "outputs": [
        {
          "output_type": "stream",
          "name": "stdout",
          "text": [
            "0.017453292519943295\n",
            "57.29577951308232\n"
          ]
        }
      ]
    },
    {
      "cell_type": "code",
      "source": [
        "print(math.exp(3)) # ექსპონენტა"
      ],
      "metadata": {
        "colab": {
          "base_uri": "https://localhost:8080/"
        },
        "id": "U3o2yKZdMjut",
        "outputId": "a5ddf5ac-8a50-4daf-8e78-2c0edf0916e3"
      },
      "execution_count": 78,
      "outputs": [
        {
          "output_type": "stream",
          "name": "stdout",
          "text": [
            "20.085536923187668\n"
          ]
        }
      ]
    },
    {
      "cell_type": "code",
      "source": [
        "print(math.log(50)) # ლოგარითმი\n",
        "print(math.log10(100)) # ლოგარითმი 10-ის ფუძით\n",
        "print(math.log2(128)) # ლოგარითმი 2-ის ფუძით"
      ],
      "metadata": {
        "colab": {
          "base_uri": "https://localhost:8080/"
        },
        "id": "JgFRm21-Mou_",
        "outputId": "ba1aeb13-162d-4fc6-99e5-837d71655c68"
      },
      "execution_count": 82,
      "outputs": [
        {
          "output_type": "stream",
          "name": "stdout",
          "text": [
            "4.605170185988092\n",
            "2.0\n",
            "7.0\n"
          ]
        }
      ]
    },
    {
      "cell_type": "code",
      "source": [
        "print(math.sqrt(10)) # ფესვი"
      ],
      "metadata": {
        "colab": {
          "base_uri": "https://localhost:8080/"
        },
        "id": "HgA5QfiTMy86",
        "outputId": "b808a9e4-d3f3-4126-e33b-f319fe925e13"
      },
      "execution_count": 83,
      "outputs": [
        {
          "output_type": "stream",
          "name": "stdout",
          "text": [
            "3.1622776601683795\n"
          ]
        }
      ]
    },
    {
      "cell_type": "code",
      "source": [
        "print(math.ceil(3.67)) # დამრგვალება მომდევნო მთელ რიცხვამდე\n",
        "print(math.floor(3.67)) # დამრგვალება მიმდინარე მთელ რიცხვამდე"
      ],
      "metadata": {
        "colab": {
          "base_uri": "https://localhost:8080/"
        },
        "id": "HJ5c2xAQNAzQ",
        "outputId": "bb61b7ae-a291-454d-ffbb-4ae6b8a6d204"
      },
      "execution_count": 84,
      "outputs": [
        {
          "output_type": "stream",
          "name": "stdout",
          "text": [
            "4\n",
            "3\n"
          ]
        }
      ]
    },
    {
      "cell_type": "code",
      "source": [
        "print(math.pow(3, 4)) # მთელი ხარისხი"
      ],
      "metadata": {
        "colab": {
          "base_uri": "https://localhost:8080/"
        },
        "id": "dKs8YohdNMEK",
        "outputId": "1814363e-3cb1-4785-e066-30dd5b6a5280"
      },
      "execution_count": 85,
      "outputs": [
        {
          "output_type": "stream",
          "name": "stdout",
          "text": [
            "81.0\n"
          ]
        }
      ]
    },
    {
      "cell_type": "code",
      "source": [
        "print(math.fabs(-10)) # აბსოლუტური მნიშვნელობა"
      ],
      "metadata": {
        "colab": {
          "base_uri": "https://localhost:8080/"
        },
        "id": "YGk7vg4oNRhY",
        "outputId": "168dce6c-1525-458a-d473-ec23b0d82dfd"
      },
      "execution_count": 86,
      "outputs": [
        {
          "output_type": "stream",
          "name": "stdout",
          "text": [
            "10.0\n"
          ]
        }
      ]
    },
    {
      "cell_type": "code",
      "source": [
        "print(math.fmod(11,-5)) # ნაშთითი წევრის აბსოლუტური მნიშვნელობა"
      ],
      "metadata": {
        "colab": {
          "base_uri": "https://localhost:8080/"
        },
        "id": "aKEHnOZuNVLN",
        "outputId": "32103e09-9347-46a7-d038-5da6af0d4178"
      },
      "execution_count": 90,
      "outputs": [
        {
          "output_type": "stream",
          "name": "stdout",
          "text": [
            "1.0\n"
          ]
        }
      ]
    },
    {
      "cell_type": "markdown",
      "source": [
        "# მოდული random"
      ],
      "metadata": {
        "id": "wNBZjEouOlp7"
      }
    },
    {
      "cell_type": "code",
      "source": [
        "import random"
      ],
      "metadata": {
        "id": "leUfjzT5NZQU"
      },
      "execution_count": 91,
      "outputs": []
    },
    {
      "cell_type": "code",
      "source": [
        "# random() აბრუნებს შემთხვევით მნიშვნელობას შუალედიდან [0, 1.0]\n",
        "random.random()"
      ],
      "metadata": {
        "colab": {
          "base_uri": "https://localhost:8080/"
        },
        "id": "OPWww_TZOs_E",
        "outputId": "71ec5dcc-70ba-4915-cac9-3e452b5bd73c"
      },
      "execution_count": 92,
      "outputs": [
        {
          "output_type": "execute_result",
          "data": {
            "text/plain": [
              "0.7564627903722225"
            ]
          },
          "metadata": {},
          "execution_count": 92
        }
      ]
    },
    {
      "cell_type": "code",
      "source": [
        "#uniform() აბრუნებს შემთხვევით ნამდვილ რიცხვს მითითებული შუალედიდან\n",
        "random.uniform(0, 10)"
      ],
      "metadata": {
        "colab": {
          "base_uri": "https://localhost:8080/"
        },
        "id": "j1n3nHRrOxnH",
        "outputId": "e94c6709-cff9-4dcc-d0d0-09d10d6dbcb1"
      },
      "execution_count": 93,
      "outputs": [
        {
          "output_type": "execute_result",
          "data": {
            "text/plain": [
              "4.402267003129529"
            ]
          },
          "metadata": {},
          "execution_count": 93
        }
      ]
    },
    {
      "cell_type": "code",
      "source": [
        "#randint() აბრუნებს შემთხვევით მთელ რიცხვს მითითებული შუალედიდან\n",
        "random.randint(0, 10)"
      ],
      "metadata": {
        "colab": {
          "base_uri": "https://localhost:8080/"
        },
        "id": "cS4fSIB9O2ct",
        "outputId": "5972a118-87ca-498e-8812-e291a46472bf"
      },
      "execution_count": 94,
      "outputs": [
        {
          "output_type": "execute_result",
          "data": {
            "text/plain": [
              "2"
            ]
          },
          "metadata": {},
          "execution_count": 94
        }
      ]
    },
    {
      "cell_type": "code",
      "source": [
        "#choice() მითითებული სიმრავლიდან აბრუნებს შემთხვევით მნიშვნელობას\n",
        "random.choice(\"Python\")"
      ],
      "metadata": {
        "colab": {
          "base_uri": "https://localhost:8080/",
          "height": 36
        },
        "id": "wXPzKZu8O7ae",
        "outputId": "0ca6fef9-dc5b-47a3-c937-4c2445a2511e"
      },
      "execution_count": 95,
      "outputs": [
        {
          "output_type": "execute_result",
          "data": {
            "text/plain": [
              "'n'"
            ],
            "application/vnd.google.colaboratory.intrinsic+json": {
              "type": "string"
            }
          },
          "metadata": {},
          "execution_count": 95
        }
      ]
    },
    {
      "cell_type": "code",
      "source": [
        "#shuffle() ახდენს გადაცემული „დალაგებული“ სიმრავლის შემთხვევითი პრინციპით არევას\n",
        "arr = [1,2,3,4,5,6,7]\n",
        "random.shuffle(arr)\n",
        "arr"
      ],
      "metadata": {
        "colab": {
          "base_uri": "https://localhost:8080/"
        },
        "id": "W_Ti-dz4PACc",
        "outputId": "e5e952f3-dc3d-480c-86c4-db01f9108adf"
      },
      "execution_count": 100,
      "outputs": [
        {
          "output_type": "execute_result",
          "data": {
            "text/plain": [
              "[5, 7, 3, 1, 2, 6, 4]"
            ]
          },
          "metadata": {},
          "execution_count": 100
        }
      ]
    },
    {
      "cell_type": "code",
      "source": [
        "#sample() სიმრავლიდან აბრუნებს გარკვეული რაოდენობის შემთხვევით მნიშვნელობებს\n",
        "arr = [1,2,3,4,5,6,7]\n",
        "random.sample(arr, 3)"
      ],
      "metadata": {
        "colab": {
          "base_uri": "https://localhost:8080/"
        },
        "id": "8b2ExriqPFW-",
        "outputId": "41328df1-99e9-4dec-b8d0-93ad684f89d7"
      },
      "execution_count": 101,
      "outputs": [
        {
          "output_type": "execute_result",
          "data": {
            "text/plain": [
              "[5, 2, 7]"
            ]
          },
          "metadata": {},
          "execution_count": 101
        }
      ]
    },
    {
      "cell_type": "markdown",
      "source": [
        "# სავარჯიშოები"
      ],
      "metadata": {
        "id": "9hPIXkzwP37c"
      }
    },
    {
      "cell_type": "markdown",
      "source": [
        " დაწერეთ პროგრამა, რომელიც დაყოფს სტრიქონს წინადადებებად წერტილი სიმბოლოს\n",
        "გამოყენებით და დაბეჭდავს მიღებული წინადადებების რაოდენობას."
      ],
      "metadata": {
        "id": "0xVkL6aYP7wp"
      }
    },
    {
      "cell_type": "code",
      "source": [],
      "metadata": {
        "id": "kxF1jFX3P6QL"
      },
      "execution_count": null,
      "outputs": []
    },
    {
      "cell_type": "markdown",
      "source": [
        "დაწერეთ პროგრამა, რომელიც პირველი დავალებით დაყოფილ წინადადებებში იპოვის ისეთ\n",
        "წინადადებას, რომელიც შეიცავს ყველაზე მეტ x სიმბოლოს."
      ],
      "metadata": {
        "id": "0K1QsZ4BP_dO"
      }
    },
    {
      "cell_type": "code",
      "source": [],
      "metadata": {
        "id": "-mgGraM5QB1k"
      },
      "execution_count": null,
      "outputs": []
    },
    {
      "cell_type": "markdown",
      "source": [
        "დაწერეთ პროგრამა, რომელიც პირველი დავალებით მიღებული წინადადებების სიმრავლეში\n",
        "თითოეულ წინადადებას დაყოფს სიმბოლოების ‘\\t’, ‘\\n’ და ‘.’ მიხედვით. პროგრამაში დაითვალეთ\n",
        "და დაბეჭდეთ სიტყვების საერთო რაოდენობა."
      ],
      "metadata": {
        "id": "ZVPY03nSQCei"
      }
    },
    {
      "cell_type": "code",
      "source": [],
      "metadata": {
        "id": "p5QvXVE_QFWK"
      },
      "execution_count": null,
      "outputs": []
    },
    {
      "cell_type": "markdown",
      "source": [
        "დაწერეთ პროგრამა, რომელიც მეექვსე დავალებით მიღებულ სიტყვების სიმრავლეში იპოვის\n",
        "მხოლოდ ალფავიტის სიმბოლოებისგან შემდგარი სიტყვების სიმრავლეს. პროგრამამ დაითვალოს\n",
        "და დაბეჭდოს:\n",
        "\n",
        "ა) ac-ზე დაწყებული სიტყვების რაოდენობა;\n",
        "\n",
        "ბ) xy-ზე დამთავრებული სიტყვების რაოდენობა;\n",
        "\n",
        "გ) a, b, c სიმბოლოების შემცველი სიტყვებია მეტი თუ x, y, z სიმბოლოების შემცველი სიტყვები;\n",
        "\n",
        "დ) უნიკალური სიტყვების რაოდენობას (set-ის გამოყენების გარეშე)\n",
        "\n",
        "ე) წინა დავალებით მიღებულ უნიკალურ სიმრავლეში ყველაზე გრძელი სიტყვა და მასში\n",
        "სიმბოლოების რაოდენობა;\n",
        "\n",
        "ვ) ისეთი სიტყვების რაოდენობას, რომელიც მეოთხე პოზიციიდან იწყება სიმბოლოთა\n",
        "მიმდევრობით mn"
      ],
      "metadata": {
        "id": "VUak3s9UQGJr"
      }
    },
    {
      "cell_type": "code",
      "source": [],
      "metadata": {
        "id": "0BlfitGzQaYM"
      },
      "execution_count": null,
      "outputs": []
    }
  ]
}