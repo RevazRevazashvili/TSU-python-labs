{
  "nbformat": 4,
  "nbformat_minor": 0,
  "metadata": {
    "colab": {
      "provenance": [],
      "authorship_tag": "ABX9TyMDbOI1eSWer7Znjw7Blrqk",
      "include_colab_link": true
    },
    "kernelspec": {
      "name": "python3",
      "display_name": "Python 3"
    },
    "language_info": {
      "name": "python"
    }
  },
  "cells": [
    {
      "cell_type": "markdown",
      "metadata": {
        "id": "view-in-github",
        "colab_type": "text"
      },
      "source": [
        "<a href=\"https://colab.research.google.com/github/RevazRevazashvili/TSU-python-labs/blob/main/Lab_2_Strings.ipynb\" target=\"_parent\"><img src=\"https://colab.research.google.com/assets/colab-badge.svg\" alt=\"Open In Colab\"/></a>"
      ]
    },
    {
      "cell_type": "markdown",
      "source": [
        "# Strings"
      ],
      "metadata": {
        "id": "XFdSb2jedhXJ"
      }
    },
    {
      "cell_type": "markdown",
      "source": [
        "შესავალი"
      ],
      "metadata": {
        "id": "s3-WGJTHdn2q"
      }
    },
    {
      "cell_type": "code",
      "execution_count": null,
      "metadata": {
        "id": "TJt-jTNtJLeA"
      },
      "outputs": [],
      "source": [
        "\"\"\"\n",
        "  სტრიქონი წარმოადგენს სიმბოლოების დალაგებულ მიმდევრობას. Python ენაში სტრიქონის\n",
        "  სიგრძე დამოკიდებულია ოპერატიული მეხსიერების მოცულობაზე. სტრიქონი მიეკუთვნება\n",
        "  მონაცემთა შეუცვლად ტიპს, რაც ნიშნავს, რომ სტრიქონში რომელიმე სიმბოლოს შეცვლის\n",
        "  მცდელობა გამოიწვევს შეცდომას. სტრიქონული მონაცემის შეცვლა გულისხმობს ახალი მონაცემის\n",
        "  შექმნას და მის გადაწერას საწყის მონაცემზე.\n",
        "\n",
        "\"\"\""
      ]
    },
    {
      "cell_type": "markdown",
      "source": [
        "სტრიქონის შექმნა"
      ],
      "metadata": {
        "id": "KBdE7PALdvqE"
      }
    },
    {
      "cell_type": "code",
      "source": [
        "# სტრიქონის შექმნა შესაძლებელია რამდენიმე განსხვავებული მიდგომით:\n",
        "\n",
        " # str() ფუნქცია რომელიც ქმნის სტრიქონს\n",
        "\n",
        "s1 = str() # შეიქმნა ცარიელი სტრიქონის ობიექტი\n",
        "print(type(s1))\n",
        "\n",
        "s2 = str([1,2,3])\n",
        "s2"
      ],
      "metadata": {
        "colab": {
          "base_uri": "https://localhost:8080/",
          "height": 52
        },
        "id": "zkLCrI_od0y7",
        "outputId": "594dd2dd-0457-4ee6-ba01-e67277391810"
      },
      "execution_count": 111,
      "outputs": [
        {
          "output_type": "stream",
          "name": "stdout",
          "text": [
            "<class 'str'>\n"
          ]
        },
        {
          "output_type": "execute_result",
          "data": {
            "text/plain": [
              "'[1, 2, 3]'"
            ],
            "application/vnd.google.colaboratory.intrinsic+json": {
              "type": "string"
            }
          },
          "metadata": {},
          "execution_count": 111
        }
      ]
    },
    {
      "cell_type": "code",
      "source": [
        "# სტრიქონის მინიჭება ორმძიმიანი ბრჭყალებით\n",
        "\n",
        "s3 = \"this is a string\"\n",
        "print(type(s2))"
      ],
      "metadata": {
        "id": "TIjssnqbfJe1",
        "outputId": "d04e5097-e89f-4818-fb37-eb1ede12c7d4",
        "colab": {
          "base_uri": "https://localhost:8080/"
        }
      },
      "execution_count": 112,
      "outputs": [
        {
          "output_type": "stream",
          "name": "stdout",
          "text": [
            "<class 'str'>\n"
          ]
        }
      ]
    },
    {
      "cell_type": "code",
      "source": [
        "# სტრიქონის მინიჭება ერთმძიმიანი ბრჭყალებით\n",
        "\n",
        "s4 = 'python'\n",
        "print(type(s3))"
      ],
      "metadata": {
        "id": "vvgPE-fTfPHW"
      },
      "execution_count": null,
      "outputs": []
    },
    {
      "cell_type": "code",
      "source": [
        " # ერთმაგი აპოსტროფით\n",
        "\n",
        "s5 = '''this is string'''\n",
        "print(type(s5))"
      ],
      "metadata": {
        "colab": {
          "base_uri": "https://localhost:8080/"
        },
        "id": "xl_gx0zefZO6",
        "outputId": "22f75173-a6a9-449b-f406-0f35e2ffb006"
      },
      "execution_count": null,
      "outputs": [
        {
          "output_type": "stream",
          "name": "stdout",
          "text": [
            "type of x:  <class 'str'>\n"
          ]
        }
      ]
    },
    {
      "cell_type": "code",
      "source": [
        " # ორმაგი აპოსტროფით\n",
        "\n",
        "s6 = \"\"\"this is string\"\"\"\n",
        "print(type(s6))"
      ],
      "metadata": {
        "id": "km8bAnB_gL_2"
      },
      "execution_count": null,
      "outputs": []
    },
    {
      "cell_type": "markdown",
      "source": [
        "#მოქმედებები სტრიქონებზე"
      ],
      "metadata": {
        "id": "NTZySbfmgeR9"
      }
    },
    {
      "cell_type": "code",
      "source": [
        "st1, st2, st3 = 'Python', 'Programming', '*'\n",
        "print('length of st1 is : ', len(st1)) # დავბეჭდოთ st1 სტრიქონის ზომა\n",
        "print('substring of st1: ', st2[:4]) # st2-დან მივიღოთ და დავბეჭდოთ ქვესტრიქონი\n",
        "print('st1 + st2: ', st1 + st2) # დავბეჭდოთ სტრიქონების ჯამი\n",
        "print('15 * st3 : ', 15 * st3) # დავბეჭდოთ სტრიქონის ნამრავლი რიცხვზე\n",
        "for i in st2: # დავმარცვლოთ st2 სტრიქონი\n",
        "  print(i, end=' ') # დავბეჭდოთ ერთ ხაზზე\n"
      ],
      "metadata": {
        "colab": {
          "base_uri": "https://localhost:8080/"
        },
        "id": "jl0fpMJnge8N",
        "outputId": "151ab13e-8c5f-4a9e-f635-ae4b91e28388"
      },
      "execution_count": 114,
      "outputs": [
        {
          "output_type": "stream",
          "name": "stdout",
          "text": [
            "length of st1 is :  6\n",
            "substring of st1:  Prog\n",
            "st1 + st2:  PythonProgramming\n",
            "15 * st3 :  ***************\n",
            "P r o g r a m m i n g "
          ]
        }
      ]
    },
    {
      "cell_type": "code",
      "source": [
        "# ord() ფუნქცია რომელიც აბრუნებს სიმბოლოს რიცხვით მნიშვნელობას\n",
        "ord('A')"
      ],
      "metadata": {
        "colab": {
          "base_uri": "https://localhost:8080/"
        },
        "id": "ko-A-YQygw6t",
        "outputId": "2d5b020e-b380-43e2-e479-84507f227627"
      },
      "execution_count": null,
      "outputs": [
        {
          "output_type": "execute_result",
          "data": {
            "text/plain": [
              "65"
            ]
          },
          "metadata": {},
          "execution_count": 8
        }
      ]
    },
    {
      "cell_type": "code",
      "source": [
        "# chr() ფუნქცია რომელიც აბრუნებს გადაცემული რიცხვითი მნიშვნელობის სიმბოლოს\n",
        "chr(65)"
      ],
      "metadata": {
        "colab": {
          "base_uri": "https://localhost:8080/",
          "height": 35
        },
        "id": "dTTNaOjMg8Ap",
        "outputId": "0b98c044-29a7-4123-af0c-b61946a64cf2"
      },
      "execution_count": 115,
      "outputs": [
        {
          "output_type": "execute_result",
          "data": {
            "text/plain": [
              "'A'"
            ],
            "application/vnd.google.colaboratory.intrinsic+json": {
              "type": "string"
            }
          },
          "metadata": {},
          "execution_count": 115
        }
      ]
    },
    {
      "cell_type": "markdown",
      "source": [
        "სპეციალური სიმბოლოები"
      ],
      "metadata": {
        "id": "vXtyk4wukoQ_"
      }
    },
    {
      "cell_type": "code",
      "source": [
        "\"\"\"\n",
        "\n",
        "პროგრამირების სხვა ენების მსგავსად Python ენაში ტექსტური მონაცემების ფორმატირება\n",
        "შეიძლება გამოყენებული იქნას სპეციალური სიმბოლოები, რომლებიც ტექსტის უკეთესი\n",
        "გაფორმების საშუალებას იძლევიან.\n",
        "\n",
        "➢ \\n - ახალი ხაზის სიმბოლო\n",
        "➢ \\t - ტაბულაციის სიმბოლო\n",
        "➢ \\0 - ცარიელი სიმბოლო\n",
        "➢ \\v - ვერტიკალური ტაბულაციის სიმბოლო\n",
        "➢ \\' - ერთმაგი აპოსტროფის სიმბოლო\n",
        "➢ \\\" - ორმაგი აპოსტროფის სიმბოლო\n",
        "➢ \\\\ - შებრუნებული სლეშის სიმბოლო.\n",
        "\n",
        "\"\"\""
      ],
      "metadata": {
        "id": "f0QIM4z7hQ73"
      },
      "execution_count": null,
      "outputs": []
    },
    {
      "cell_type": "code",
      "source": [
        "print('Python\\n')\n",
        "print('\\tPython')\n",
        "print('Python\\0')\n",
        "print('Python\\vworld')\n",
        "print('Python\\'')\n",
        "print('Python\\\"')\n",
        "print('Python\\\\')"
      ],
      "metadata": {
        "id": "GLBxRBekky60",
        "outputId": "aba0e7b5-1563-4c32-c6da-d348f54ec317",
        "colab": {
          "base_uri": "https://localhost:8080/"
        }
      },
      "execution_count": 109,
      "outputs": [
        {
          "output_type": "stream",
          "name": "stdout",
          "text": [
            "Python\n",
            "\n",
            "\tPython\n",
            "Python\u0000\n",
            "Python\u000bworld\n",
            "Python'\n",
            "Python\"\n",
            "Python\\\n"
          ]
        }
      ]
    },
    {
      "cell_type": "code",
      "source": [],
      "metadata": {
        "id": "ptgZ8rqcDuXj"
      },
      "execution_count": 110,
      "outputs": []
    },
    {
      "cell_type": "markdown",
      "source": [
        "მეთოდები სტრიქონებთან მუშაობისთვის"
      ],
      "metadata": {
        "id": "HdPJYhznlopk"
      }
    },
    {
      "cell_type": "code",
      "source": [
        "# split() სიმბოლოების გრძელი მიმდევრობის ცალკეული სიტყვების სიმრავლედ (list-ად) გაყოფის საშუალებას წინასწარ განსაზღვრული გამყოფი სიმბოლოების მიმდევრობის მეშვეობით\n",
        "\n",
        "x = \"this is a string, using for python labs\"\n",
        "print(x.split())  # გაჩუმების პრინციპით split() სტრიქონს ყოფს ცარიელი სიმბოლოების მიხედვით\n",
        "\n",
        "print(x.split(','))  # სტრიქონის დაყოფა ',' სიმბოლოს საშუალებით"
      ],
      "metadata": {
        "colab": {
          "base_uri": "https://localhost:8080/"
        },
        "id": "uPadtCZRlBx3",
        "outputId": "0b56d8ff-f0bf-410d-989c-17fb97432be8"
      },
      "execution_count": null,
      "outputs": [
        {
          "output_type": "stream",
          "name": "stdout",
          "text": [
            "['this', 'is', 'a', 'string,', 'using', 'for', 'python', 'labs']\n",
            "['this is a string', ' using for python labs']\n"
          ]
        }
      ]
    },
    {
      "cell_type": "code",
      "source": [
        "# join() - მეთოდი იძლევა ცალკეული სიტყვებისგან (სტრიქონი) წინადადების აწყობის საშუალებას წინასწარ განსაზღვრული გამყოფი სიმბოლოს მითითებით.\n",
        "arr = ['this', 'is', 'a', 'string,', 'using', 'for', 'python', 'labs']\n",
        "\n",
        "# სტრიქონების გაერთიანება ' ' სიმბოლოს საშუალებით\n",
        "print(' '.join(arr))\n",
        "\n",
        "# სტრიქონების გაერთიანება '->' სიმბოლოს საშუალებით\n",
        "print(' -> '.join(arr))"
      ],
      "metadata": {
        "colab": {
          "base_uri": "https://localhost:8080/"
        },
        "id": "mzWuAMu6l56F",
        "outputId": "2b8b7b35-d5fe-4808-f60b-db9f913f63f6"
      },
      "execution_count": 116,
      "outputs": [
        {
          "output_type": "stream",
          "name": "stdout",
          "text": [
            "this is a string, using for python labs\n",
            "this -> is -> a -> string, -> using -> for -> python -> labs\n"
          ]
        }
      ]
    },
    {
      "cell_type": "code",
      "source": [
        "# strip() - მეთოდი იძლევა სტრიქონიდან, თუ ის იწყება და მთავრდება სიმბოლოთა გარკვეული მიმდევრობით, მაშინ ასეთი მიმდევრობის ჩამოშორების საშუალებას.\n",
        "# გაჩუმებით ფუნქცია შლის ცარიელ სივრცეებს (spaces)\n",
        "x = \"*1*Python programming!****7\"\n",
        "print(f\"Before using strip(): {x}\")\n",
        "print(f\"After using strip(): {x.strip('1*7')}\")"
      ],
      "metadata": {
        "colab": {
          "base_uri": "https://localhost:8080/"
        },
        "id": "uR8IEHZam6Xj",
        "outputId": "c30e8de0-fc4e-42c7-c92f-84e47e75028a"
      },
      "execution_count": null,
      "outputs": [
        {
          "output_type": "stream",
          "name": "stdout",
          "text": [
            "Before using strip(): *1*Python programming!****7\n",
            "After using strip(): Python programming!\n"
          ]
        }
      ]
    },
    {
      "cell_type": "code",
      "source": [
        "txt = \",,,,,rrttgg.....banana....rrr\"\n",
        "\n",
        "x = txt.strip(\",.grt\")\n",
        "\n",
        "print(x)"
      ],
      "metadata": {
        "colab": {
          "base_uri": "https://localhost:8080/"
        },
        "id": "9LJdX8mi7BGD",
        "outputId": "9fba0e98-58fa-49e3-ca45-243c086f5978"
      },
      "execution_count": 117,
      "outputs": [
        {
          "output_type": "stream",
          "name": "stdout",
          "text": [
            "banana\n"
          ]
        }
      ]
    },
    {
      "cell_type": "code",
      "source": [
        "#  count(<string>) - მეთოდი ითვლის სტრიქონში რამდენჯერ გვხვდება <string> სტრიქონი.\n",
        "\n",
        "x = \"*****Python programming!*****\"\n",
        "print(f\"Count of '*' symbols in '{x}' is {x.count('*')}\")"
      ],
      "metadata": {
        "colab": {
          "base_uri": "https://localhost:8080/"
        },
        "id": "qneiebZtnrwO",
        "outputId": "34e7c012-f187-4097-864d-0c60ffb18654"
      },
      "execution_count": 118,
      "outputs": [
        {
          "output_type": "stream",
          "name": "stdout",
          "text": [
            "Count of '*' symbols in '*****Python programming!*****' is 10\n"
          ]
        }
      ]
    },
    {
      "cell_type": "code",
      "source": [
        "# upper(), lower() სტრიქონს ერთიანად გარდაქმნიან ალფავიტის ზედა და ქვედა რეგისტრის სიმბოლოებად\n",
        "\n",
        "x = \"This is Python\"\n",
        "print(x.upper())\n",
        "\n",
        "print(x.lower())\n",
        "\n",
        "s = '12'\n",
        "print(s.upper())"
      ],
      "metadata": {
        "colab": {
          "base_uri": "https://localhost:8080/"
        },
        "id": "54Ot8GuVn805",
        "outputId": "f8da9ef3-e346-45f5-d09f-84a06a3f4271"
      },
      "execution_count": 120,
      "outputs": [
        {
          "output_type": "stream",
          "name": "stdout",
          "text": [
            "THIS IS PYTHON\n",
            "this is python\n",
            "12\n"
          ]
        }
      ]
    },
    {
      "cell_type": "code",
      "source": [
        "#  capitalize() - მეთოდი იძლევა წინადადებაში პირველი სიმბოლოს ზედა რეგისტრში გადაყვანის საშუალებას.\n",
        "\n",
        "x = \"python programming.\"\n",
        "print(f\"Before: {x}\\n After: {x.capitalize()}\")"
      ],
      "metadata": {
        "colab": {
          "base_uri": "https://localhost:8080/"
        },
        "id": "ZQDRDS2vobK-",
        "outputId": "0a7b5be1-ce25-4957-d682-fd6ba0589d09"
      },
      "execution_count": 122,
      "outputs": [
        {
          "output_type": "stream",
          "name": "stdout",
          "text": [
            "Before: python programming. dsds\n",
            " After: Python programming. dsds\n"
          ]
        }
      ]
    },
    {
      "cell_type": "code",
      "source": [
        "# title() - მეთოდი იძლევა წინადადებაში ყველა სიტყვის პირველი სიმბოლოს ზედა რეგისტრში გადაყვანის საშუალებას.\n",
        "\n",
        "x = \"python programming.\"\n",
        "print(f\"Before: {x}\\n After: {x.title()}\")"
      ],
      "metadata": {
        "colab": {
          "base_uri": "https://localhost:8080/"
        },
        "id": "QFYTb8xZon_H",
        "outputId": "de1333b7-e557-4709-d193-bcc86c5bca00"
      },
      "execution_count": 123,
      "outputs": [
        {
          "output_type": "stream",
          "name": "stdout",
          "text": [
            "Before: python programming.\n",
            " After: Python Programming.\n"
          ]
        }
      ]
    },
    {
      "cell_type": "code",
      "source": [
        "# find() - მეთოდი სტრიქონში ეძებს ქვესტრიქონს და აბრუნებს პოზიციის ნომერს, საიდანაც იწყება ის. თუ ასეთი პოზიცია არ მოიძებნა აბრუნებს -1 -ს.\n",
        "\n",
        "x = 'python programming'\n",
        "\n",
        "# მოვძებნოთ prog ფრაზის დაწყების ინდექსი\n",
        "print(f\"Substring 'prog' starts at position: {x.find('prog')}\")\n",
        "# მოვძებნოთ სტრიქონში c++ ფრაზის დაწყების პოზიცია\n",
        "print(f\"Substring 'c++' starts at position: {x.find('c++')}\")"
      ],
      "metadata": {
        "colab": {
          "base_uri": "https://localhost:8080/"
        },
        "id": "dVW9R8Dboy24",
        "outputId": "d8552607-0599-4d2d-93e5-261afc913d1c"
      },
      "execution_count": 124,
      "outputs": [
        {
          "output_type": "stream",
          "name": "stdout",
          "text": [
            "Substring 'prog' starts at position: 7\n",
            "Substring 'c++' starts at position: -1\n"
          ]
        }
      ]
    },
    {
      "cell_type": "code",
      "source": [
        "# index() მუშაობს find() მსგავსად. თუ სტრინგი ვერ იპოვა წარმოშობს განსაკუთრებულ შემთხვევას ValueError-ს\n",
        "\n",
        "x = 'python programming'\n",
        "# მოვძებნოთ prog ფრაზის დაწყების ინდექსი\n",
        "print(f\"Substring 'prog' starts at position: {x.index('prog')}\")\n",
        "# მოვძებნოთ სტრიქონში c++ ფრაზის დაწყების პოზიცია\n",
        "print(f\"Substring 'c++' starts at position: {x.index('c++')}\")"
      ],
      "metadata": {
        "id": "fD7xSXX1o8Jg",
        "outputId": "1a853426-728d-456e-bad3-1ae0f5032c5a",
        "colab": {
          "base_uri": "https://localhost:8080/",
          "height": 193
        }
      },
      "execution_count": 125,
      "outputs": [
        {
          "output_type": "stream",
          "name": "stdout",
          "text": [
            "Substring 'prog' starts at position: 7\n"
          ]
        },
        {
          "output_type": "error",
          "ename": "ValueError",
          "evalue": "substring not found",
          "traceback": [
            "\u001b[0;31m---------------------------------------------------------------------------\u001b[0m",
            "\u001b[0;31mValueError\u001b[0m                                Traceback (most recent call last)",
            "\u001b[0;32m<ipython-input-125-589e6d143039>\u001b[0m in \u001b[0;36m<cell line: 7>\u001b[0;34m()\u001b[0m\n\u001b[1;32m      5\u001b[0m \u001b[0mprint\u001b[0m\u001b[0;34m(\u001b[0m\u001b[0;34mf\"Substring 'prog' starts at position: {x.index('prog')}\"\u001b[0m\u001b[0;34m)\u001b[0m\u001b[0;34m\u001b[0m\u001b[0;34m\u001b[0m\u001b[0m\n\u001b[1;32m      6\u001b[0m \u001b[0;31m# მოვძებნოთ სტრიქონში c++ ფრაზის დაწყების პოზიცია\u001b[0m\u001b[0;34m\u001b[0m\u001b[0;34m\u001b[0m\u001b[0m\n\u001b[0;32m----> 7\u001b[0;31m \u001b[0mprint\u001b[0m\u001b[0;34m(\u001b[0m\u001b[0;34mf\"Substring 'c++' starts at position: {x.index('c++')}\"\u001b[0m\u001b[0;34m)\u001b[0m\u001b[0;34m\u001b[0m\u001b[0;34m\u001b[0m\u001b[0m\n\u001b[0m",
            "\u001b[0;31mValueError\u001b[0m: substring not found"
          ]
        }
      ]
    },
    {
      "cell_type": "code",
      "source": [
        "# startswith() - მეთოდი ეძებს ისეთ სტრიქონს, რომელიც წინასწარ დასახელებული პოზიციიდან (ინდექსიდან) იწყება სიმბოლოთა მითითებული მიმდევრობით და აბრუნებს bool ტიპის შედეგს.\n",
        "\n",
        "st, st1, st2 = 'python programming', 'pyth', 'prog'\n",
        "# შევამოწმოთ სტრიქონი იწყება თუ არა ფრაზით pyth\n",
        "print(f\"String starts with substring '{st1}': {st.startswith(st1)} \")\n",
        "# შევამოწმოთ სტრიქონი იწყება თუ არა ფრაზით prog\n",
        "print(f\"String starts with substring '{st2}': {st.startswith(st2)} \")\n",
        "# შევამოწმოთ სტრიქონი მე-7 პოზიციიდან იწყება თუ არა ფრაზით prog\n",
        "print(f\"String starts with substring '{st2}' at position 7: {st.startswith(st2, 7)}\")"
      ],
      "metadata": {
        "colab": {
          "base_uri": "https://localhost:8080/"
        },
        "id": "OhgTRcrupf3E",
        "outputId": "cf8a8abe-7b14-4b8e-aa6c-9957d1b9d44e"
      },
      "execution_count": 126,
      "outputs": [
        {
          "output_type": "stream",
          "name": "stdout",
          "text": [
            "String starts with substring 'pyth': True \n",
            "String starts with substring 'prog': False \n",
            "String starts with substring 'prog' at position 7: True\n"
          ]
        }
      ]
    },
    {
      "cell_type": "code",
      "source": [
        "# endswith() - მეთოდი ეძებს ქვესტრიქონს, რომელიც წინასწარ დასახელებული პოზიციიდან დაწყებული ბოლოვდება სიმბოლოთა მითითებული მიმდევრობით და აბრუნებს bool ტიპის შედეგს.\n",
        "\n",
        "st, st1, st2 = 'python programming', 'ming', 'thon'\n",
        "# შევამოწმოთ სტრიქონი მთავრდება თუ არა ფრაზით ming\n",
        "print(\"String ends with substring '{st1}': {st.endswith(st1)} \")\n",
        "# შევამოწმოთ სტრიქონი მთავრდება თუ არა ფრაზით thon\n",
        "print(\"String ends with substring '{st2}': {st.endswith(st2)} \" )\n",
        "# შევამოწმოთ ქვესტრიქონი [0, 5] შუალედში მთავრდება თუ არა ფრაზით thon\n",
        "print(\"String ends with substring '{st2}' at part [0,6]: {st.endswith(st2, 0, 6)} \")\n"
      ],
      "metadata": {
        "colab": {
          "base_uri": "https://localhost:8080/"
        },
        "id": "b5N5L5zSpr1s",
        "outputId": "865bfda5-7750-4438-f2bd-65c14ef032b8"
      },
      "execution_count": 127,
      "outputs": [
        {
          "output_type": "stream",
          "name": "stdout",
          "text": [
            "String ends with substring '{st1}': {st.endswith(st1)} \n",
            "String ends with substring '{st2}': {st.endswith(st2)} \n",
            "String ends with substring '{st2}' at part [0,6]: {st.endswith(st2, 0, 6)} \n"
          ]
        }
      ]
    },
    {
      "cell_type": "code",
      "source": [
        "# replace() - მეთოდი წინადადებაში ეძებს სიმბოლოთა გარკვეულ მიმდევრობას და ანაცვლებს ყველა ასეთ მიმდევრობას სიმბოლოთა ახალი მიმდევრობით.\n",
        "st = 'python programming'\n",
        "print(\"Before using method replace(): \", st)\n",
        "print(f\" After using method replace(): {st.replace('p', 'P')}\")\n",
        "print(f\" After using method replace(): {st.replace('p', '@')}\")"
      ],
      "metadata": {
        "id": "CqJe8iBUqJ7S"
      },
      "execution_count": null,
      "outputs": []
    },
    {
      "cell_type": "code",
      "source": [
        "# isalpha() - მეთოდი ამოწმებს სტრიქონი შედგება თუ არა მხოლოდ ალფავიტის სიმბოლოებისგან და აბრუნებს bool ტიპის შედეგს.\n",
        "\n",
        "print(f\"'Python3' contains only alphabet symbol: {'Python3'.isalpha()}\")\n",
        "print(f\"'Pyt hon' contains only alphabet symbol: {'Pyt hon'.isalpha()}'\")\n",
        "print(f\"'Python' contains only alphabet symbol: {'Python'.isalpha()}\")\n"
      ],
      "metadata": {
        "colab": {
          "base_uri": "https://localhost:8080/"
        },
        "id": "2Gb9EvpuqVQD",
        "outputId": "b2b3c760-2ab1-4322-c004-4247614d4750"
      },
      "execution_count": 128,
      "outputs": [
        {
          "output_type": "stream",
          "name": "stdout",
          "text": [
            "'Python3' contains only alphabet symbol: False\n",
            "'Pyt hon' contains only alphabet symbol: False'\n",
            "'Python' contains only alphabet symbol: True\n"
          ]
        }
      ]
    },
    {
      "cell_type": "code",
      "source": [
        "# isdigit() - მეთოდი ამოწმებს სტრიქონი შედგება თუ არა მხოლოდ ციფრებისაგან და აბრუნებს bool ტიპის შედეგს.\n",
        "\n",
        "print(f\"'123abc' contains only alphabet symbol: {'123abc'.isdigit()}\")\n",
        "print(f\"'123456' contains only digits: {'123456'.isdigit()}\")"
      ],
      "metadata": {
        "id": "Vc-A5hPPqtSR",
        "outputId": "d5be4f2d-9007-450f-92ba-0f0f1cdcb0c8",
        "colab": {
          "base_uri": "https://localhost:8080/"
        }
      },
      "execution_count": 129,
      "outputs": [
        {
          "output_type": "stream",
          "name": "stdout",
          "text": [
            "'123abc' contains only alphabet symbol: False\n",
            "'123456' contains only digits: True\n"
          ]
        }
      ]
    },
    {
      "cell_type": "markdown",
      "source": [
        "# მონაცემთა ტიპი bytes და bytearray"
      ],
      "metadata": {
        "id": "SToEYq62s7Kx"
      }
    },
    {
      "cell_type": "markdown",
      "source": [
        "https://ioflood.com/blog/python-bytes/"
      ],
      "metadata": {
        "id": "K_FkhO_p9gEH"
      }
    },
    {
      "cell_type": "markdown",
      "source": [
        "ტიპი bytes"
      ],
      "metadata": {
        "id": "pongbTPy8jFp"
      }
    },
    {
      "cell_type": "code",
      "source": [
        "\"\"\"\n",
        "სტრიქონული ტიპი (str) იძლევა Unicode ტექსტური მონაცემების შენახვის საშუალებას, მაგრამ\n",
        "მას არ შეუძლია გრაფიკული გამოსახულების დამუშავება. გრაფიკული გამოსახულების\n",
        "დამუშავების მიზნით Python 3 -ში შემოღებული იქნა ტიპები bytes და bytearray, რომლებიც\n",
        "იძლევიან [0, 255] შუალედიდან აღებული მთელი რიცხვების მიმდევრობების შენახვის\n",
        "საშუალებას. ყოველი ასეთი რიცხვი შეესაბამება სიმბოლოს კოდს.\n",
        "\"\"\""
      ],
      "metadata": {
        "id": "TKuJtqZMs8Yi"
      },
      "execution_count": null,
      "outputs": []
    },
    {
      "cell_type": "markdown",
      "source": [
        "შექმნა"
      ],
      "metadata": {
        "id": "QzYJbCys7p7R"
      }
    },
    {
      "cell_type": "code",
      "source": [
        "# bytes() ფუნქციის გამოყენებით. ფუნქციას აქვს შემდეგი სახე: bytes([<string>, <coding>])\n",
        "\n",
        "print(\"Empty object: \", bytes()) # ცარიელი byte ობიექტის შექმნა\n",
        "a = bytes(\"Python\",\"utf-8\") # მოვახდინოთ byte ობიექტის მიღება\n",
        "print(\"Value of a: \", a)\n",
        "print(f\"Type of {a}: {type(a)}\")"
      ],
      "metadata": {
        "id": "nztMl4i57rcx",
        "colab": {
          "base_uri": "https://localhost:8080/"
        },
        "outputId": "3db07c02-4a4e-449f-93f2-fa5a8fa576cd"
      },
      "execution_count": 130,
      "outputs": [
        {
          "output_type": "stream",
          "name": "stdout",
          "text": [
            "Empty object:  b''\n",
            "Value of a:  b'Python'\n",
            "Type of b'Python': <class 'bytes'>\n"
          ]
        }
      ]
    },
    {
      "cell_type": "code",
      "source": [
        "# encode() მეთოდის გამოყენებით.\n",
        "\n",
        "a = \"Python\".encode() # მოვახდინოთ byte ობიექტის მიღება\n",
        "print(\"Sequence of bytes: \", a)\n",
        "print(f\"Type of {a}: {type(a)}\")"
      ],
      "metadata": {
        "colab": {
          "base_uri": "https://localhost:8080/"
        },
        "id": "v9OaB_mC8Dme",
        "outputId": "718a5b0f-57d4-4fd9-b358-1940763a123f"
      },
      "execution_count": null,
      "outputs": [
        {
          "output_type": "stream",
          "name": "stdout",
          "text": [
            "Sequence of bytes:  b'Python'\n",
            "Type of b'Python': <class 'bytes'>\n"
          ]
        }
      ]
    },
    {
      "cell_type": "code",
      "source": [
        "#  ობიექტის გამოცხადებისას სტრიქონის წინ სიმბოლო b -ს მითითებით.\n",
        "\n",
        "a = b\"Python\" # მოვახდინოთ byte ობიექტის მიღება\n",
        "print(\"Sequence of bytes: \", a)\n",
        "print(f\"Type of {a}: {type(a)}\")"
      ],
      "metadata": {
        "colab": {
          "base_uri": "https://localhost:8080/"
        },
        "id": "4XoYdduT8GqX",
        "outputId": "4102d2ec-3824-4dd1-86d3-93e5274eb2c4"
      },
      "execution_count": 131,
      "outputs": [
        {
          "output_type": "stream",
          "name": "stdout",
          "text": [
            "Sequence of bytes:  b'Python'\n",
            "Type of b'Python': <class 'bytes'>\n"
          ]
        }
      ]
    },
    {
      "cell_type": "code",
      "source": [
        "# ბაიტების მიმდევრობის სტრიქონად გადაქცევა შესაძლებელია decode() მეთოდის მეშვეობით, რომელსაც აქვს შემდეგი სახე: decode([encoding=\"utf-8\"])\n",
        "\n",
        "x = b'Python' # გამოვაცხადოთ byte ტიპის ობიექტი\n",
        "print(f\"Type of x is: {type(x)}\")\n",
        "print(f\"Type of y is: {type(x.decode())}\")"
      ],
      "metadata": {
        "colab": {
          "base_uri": "https://localhost:8080/"
        },
        "id": "c0tzKve18QQa",
        "outputId": "8f779e7f-5fff-4075-8254-e72ff8820442"
      },
      "execution_count": null,
      "outputs": [
        {
          "output_type": "stream",
          "name": "stdout",
          "text": [
            "Type of x is: <class 'bytes'>\n",
            "Type of y is: <class 'str'>\n"
          ]
        }
      ]
    },
    {
      "cell_type": "markdown",
      "source": [
        " ტიპი bytearray"
      ],
      "metadata": {
        "id": "9aWtmkbz8l_9"
      }
    },
    {
      "cell_type": "code",
      "source": [
        "# ამ ტიპის ობიექტის შექმნა შესაძლებელია bytearray() მეთოდის გამოყენებით. მეთოდს აქვს შემდეგი სახე: bytearray([<string>, <coding>])\n",
        "\n",
        "print(\"Empty object: \", bytearray()) # ცარიელი bytearray ტიპის ობიექტი\n",
        "a = bytearray(\"Python\",\"utf-8\")\n",
        "print(\" Value of a: \", a)\n",
        "print(f\"Type of a: {type(a)}\")"
      ],
      "metadata": {
        "id": "Xe2ysiip8bfG",
        "outputId": "c64049fa-1c2f-4472-bdbe-5fd7856a9c60",
        "colab": {
          "base_uri": "https://localhost:8080/"
        }
      },
      "execution_count": 132,
      "outputs": [
        {
          "output_type": "stream",
          "name": "stdout",
          "text": [
            "Empty object:  bytearray(b'')\n",
            " Value of a:  bytearray(b'Python')\n",
            "Type of a: <class 'bytearray'>\n"
          ]
        }
      ]
    },
    {
      "cell_type": "markdown",
      "source": [
        "bytearray ტიპთან მუშაობა"
      ],
      "metadata": {
        "id": "ffroLQtt88qR"
      }
    },
    {
      "cell_type": "code",
      "source": [
        "# append() - მეთოდი ობიექტის ბოლოში ამატებს ერთ ახალ მნიშვნელობას\n",
        "\n",
        "barr = bytearray('Python', 'utf-8')\n",
        "print(\"Before using method append: \", barr)\n",
        "barr.append(b'123'[1]) # ობიექტში მივამატოთ მესამე მნიშვნელობა (3)\n",
        "print(\" After using method append: \", barr)"
      ],
      "metadata": {
        "colab": {
          "base_uri": "https://localhost:8080/"
        },
        "id": "Q0DysEz58_V7",
        "outputId": "ee1d547c-beec-4d70-d35d-691062f6bbee"
      },
      "execution_count": 133,
      "outputs": [
        {
          "output_type": "stream",
          "name": "stdout",
          "text": [
            "Before using method append:  bytearray(b'Python')\n",
            " After using method append:  bytearray(b'Python2')\n"
          ]
        }
      ]
    },
    {
      "cell_type": "code",
      "source": [
        "# extend() - მეთოდი ობიექტის ბოლოში ამატებს მნიშვნელობების გარკვეულ მიმდევრობას.\n",
        "\n",
        "barr = bytearray('Python', 'utf-8')\n",
        "print(\"Before using method extend: \", barr)\n",
        "barr.extend(b'123') # ობიექტში მივამატოთ მნიშვნელობები 1, 2, 3\n",
        "print(f\" After using method extend: {barr}\")"
      ],
      "metadata": {
        "colab": {
          "base_uri": "https://localhost:8080/"
        },
        "id": "QYB8LU6K9EuY",
        "outputId": "b1f9d70a-108a-4293-d90e-518d50401217"
      },
      "execution_count": 134,
      "outputs": [
        {
          "output_type": "stream",
          "name": "stdout",
          "text": [
            "Before using method extend:  bytearray(b'Python')\n",
            " After using method extend: bytearray(b'Python123')\n"
          ]
        }
      ]
    },
    {
      "cell_type": "code",
      "source": [
        "# insert() - ობიექტში ამატებს მნიშვნელობას წინასწარ განსაზღვრულ პოზიციაზე.\n",
        "\n",
        "barr = bytearray('Python', 'utf-8')\n",
        "print(f\"Before using method insert: {barr}\")\n",
        "barr.insert(4, b'123'[1]) # პირველ პოზიციაზე (0) ჩავსვათ მნიშვნელობა 2\n",
        "print(f\" After using method insert: {barr}\")"
      ],
      "metadata": {
        "colab": {
          "base_uri": "https://localhost:8080/"
        },
        "id": "uU05w25k92ZT",
        "outputId": "bb2b9585-af05-4478-e3f7-54f9b442720f"
      },
      "execution_count": 135,
      "outputs": [
        {
          "output_type": "stream",
          "name": "stdout",
          "text": [
            "Before using method insert: bytearray(b'Python')\n",
            " After using method insert: bytearray(b'Pyth2on')\n"
          ]
        }
      ]
    },
    {
      "cell_type": "code",
      "source": [
        "# pop() - ობიექტიდან შლის მითითებულ ინდექსზე განთავსებულ მნიშვნელობას და აბრუნებს შესაბამისი სიმბოლოს ASCII კოდს.\n",
        "\n",
        "barr = bytearray('Python', 'utf-8')\n",
        "print(\"Before using method pop: \", barr)\n",
        "x = barr.pop(3) # ობიექტიდან ამოვშალოთ მეოთხე მნიშვნელობა (ინდექსი 3)\n",
        "print(\"After using method pop: \", barr)\n",
        "print(f\"ASCII code: {x}\\nCharacter value: {chr(x)}\")"
      ],
      "metadata": {
        "colab": {
          "base_uri": "https://localhost:8080/"
        },
        "id": "dqQmB5ex96oV",
        "outputId": "24c0de60-15b9-43c8-cbda-a2881db41c5d"
      },
      "execution_count": null,
      "outputs": [
        {
          "output_type": "stream",
          "name": "stdout",
          "text": [
            "Before using method pop:  bytearray(b'Python')\n",
            "After using method pop:  bytearray(b'Pyton')\n",
            "ASCII code: 104\n",
            "Character value: h\n"
          ]
        }
      ]
    },
    {
      "cell_type": "code",
      "source": [
        "# remove() - ობიექტიდან შლის მითითებული მნიშვნელობის მქონე პირველივე ელემენტს. მეთოდი არაფერს არ აბრუნებს.\n",
        "\n",
        "barr = bytearray('Python Programming', 'utf-8')\n",
        "print(\"Before using method remove: \", barr)\n",
        "barr.remove(b'o'[0]) # ობიექტიდან ამოვშალოთ პირველივე ‘o’ სიმბოლო\n",
        "print(\" After using method remove: \", barr)"
      ],
      "metadata": {
        "colab": {
          "base_uri": "https://localhost:8080/"
        },
        "id": "koqeNxaXBf5w",
        "outputId": "6644f76b-8769-4d0e-9606-83749afe4f95"
      },
      "execution_count": null,
      "outputs": [
        {
          "output_type": "stream",
          "name": "stdout",
          "text": [
            "Before using method remove:  bytearray(b'Python Programming')\n",
            " After using method remove:  bytearray(b'Pythn Programming')\n"
          ]
        }
      ]
    },
    {
      "cell_type": "code",
      "source": [
        "# reverse() - ობიექტში ახდენს მნიშვნელობების შეტრიალებას.\n",
        "\n",
        "barr = bytearray('Python', 'utf-8') # შევქმნათ bytearray ობიექტი\n",
        "print(\"Before using method reverse: \", barr) # დავბეჭდოთ მნიშვნელობა\n",
        "barr.reverse() # შევატრიალოთ მნიშვნელობები ობიექტში\n",
        "print(\" After using method reverse: \", barr) # დავბეჭდოთ შედეგი"
      ],
      "metadata": {
        "colab": {
          "base_uri": "https://localhost:8080/"
        },
        "id": "kLBSZhW3BrKp",
        "outputId": "a2b0a2d3-5a96-4c00-b3a4-b09357724832"
      },
      "execution_count": null,
      "outputs": [
        {
          "output_type": "stream",
          "name": "stdout",
          "text": [
            "Before using method reverse:  bytearray(b'Python')\n",
            " After using method reverse:  bytearray(b'nohtyP')\n"
          ]
        }
      ]
    },
    {
      "cell_type": "markdown",
      "source": [
        "ობიექტის გარდაქმნა ბაიტების მიმდევრობაში"
      ],
      "metadata": {
        "id": "874UvcdbCQRc"
      }
    },
    {
      "cell_type": "code",
      "source": [
        "\"\"\"\n",
        "ობიექტის ბაიტების მიმდევრობაში გარდაქმნა (სერიალიზაცია) და შემდეგ ბაიტების\n",
        "მიმდევრობიდან უკან ობიექტში გარდაქმნა (დესერიალიზაცია) შესაძლებელია მოდული pickle -ის\n",
        "გამოყენებით.\n",
        "\"\"\""
      ],
      "metadata": {
        "id": "JooE4UHuB0M1"
      },
      "execution_count": null,
      "outputs": []
    },
    {
      "cell_type": "code",
      "source": [
        "import pickle"
      ],
      "metadata": {
        "id": "ie-p9WdGCWSv"
      },
      "execution_count": null,
      "outputs": []
    },
    {
      "cell_type": "code",
      "source": [
        "\"\"\"\n",
        "dumps() - რომელიც ახდენს ობიექტის სერიალიზაციას და აბრუნებს სპეციალური ფორმატის\n",
        "ბაიტების მიმდევრობას. მეთოდს აქვს შემდეგი ფორმატი:\n",
        "dumps(<object> [, <protocol>])\n",
        "\"\"\"\n",
        "\n",
        "arr = [1, 2, 3, 4, 5, 'კ'] # შევქმნათ სიმრავლე\n",
        "# მოვახდინოთ სიმრავლის სერიალიზაცია გაჩუმებით პროტოკოლით\n",
        "print(f\"using dumps with default protocol number:\\t {pickle.dumps(arr)}\")\n",
        "# მოვახდინოთ სიის სერიალიზაცია პროტოკოლის ნომრით 3\n",
        "print(f\"using dumps with protocol number: \\t\\t {pickle.dumps(arr, 3)}\")\n",
        "# მოვახდინოთ სიის სერიალიზაცია პროტოკოლის ნომრით 4\n",
        "print(f\"using dumps with protocol number:  \\t\\t {pickle.dumps(arr, 4)}\")"
      ],
      "metadata": {
        "colab": {
          "base_uri": "https://localhost:8080/"
        },
        "id": "tKVEJEs6CYlw",
        "outputId": "651d66fc-ad03-42b2-e18f-7226c4a8cd10"
      },
      "execution_count": null,
      "outputs": [
        {
          "output_type": "stream",
          "name": "stdout",
          "text": [
            "using dumps with default protocol number:\t b'\\x80\\x04\\x95\\x15\\x00\\x00\\x00\\x00\\x00\\x00\\x00]\\x94(K\\x01K\\x02K\\x03K\\x04K\\x05\\x8c\\x03\\xe1\\x83\\x99\\x94e.'\n",
            "using dumps with protocol number: \t\t b'\\x80\\x03]q\\x00(K\\x01K\\x02K\\x03K\\x04K\\x05X\\x03\\x00\\x00\\x00\\xe1\\x83\\x99q\\x01e.'\n",
            "using dumps with protocol number:  \t\t b'\\x80\\x04\\x95\\x15\\x00\\x00\\x00\\x00\\x00\\x00\\x00]\\x94(K\\x01K\\x02K\\x03K\\x04K\\x05\\x8c\\x03\\xe1\\x83\\x99\\x94e.'\n"
          ]
        }
      ]
    },
    {
      "cell_type": "code",
      "source": [
        "\"\"\"\n",
        " loads() - სპეციალური ფორმატის ბაიტების მიმდევრობა გადაყავს ობიექტში (ახდენს\n",
        "დესერიალიზაციის მოქმედებას). ფუნქციას აქვს შემდეგი ფორმატი:\n",
        "loads(<sequence> [, <encoding='ASCII']>)\n",
        "სადაც <sequence> (აუცილებელი) პარამეტრი მიუთითებს სერიალიზაციის ობიექტს, ხოლო\n",
        "<encoding> (არა აუცილებელი) პარამეტრი კი - მიუთითებს კოდირების წესს.\n",
        "\"\"\"\n",
        "\n",
        "# გამოვაცხადოთ ობიექტი დესერიალიზაციისთვის\n",
        "pick = b'\\x80\\x03]q\\x00(K\\x01K\\x02K\\x03K\\x04K\\x05e.'\n",
        "print(f\"arr = {pickle.loads(pick)}\")"
      ],
      "metadata": {
        "colab": {
          "base_uri": "https://localhost:8080/"
        },
        "id": "ZjkYejWnDfqt",
        "outputId": "f95a1516-e318-4d4d-d85b-379941362279"
      },
      "execution_count": null,
      "outputs": [
        {
          "output_type": "stream",
          "name": "stdout",
          "text": [
            "arr = [1, 2, 3, 4, 5]\n"
          ]
        }
      ]
    },
    {
      "cell_type": "code",
      "source": [
        "x = \"კარგად\"\n",
        "byt_word = pickle.dumps(x) # სერიალიზაცია\n",
        "print(byt_word)\n",
        "\n",
        "print(pickle.loads(byt_word)) # დესერიალიზაცია"
      ],
      "metadata": {
        "colab": {
          "base_uri": "https://localhost:8080/"
        },
        "id": "efSegKKN_ibI",
        "outputId": "a2b2b5d1-926d-4808-f9c3-247ef57cd28c"
      },
      "execution_count": 136,
      "outputs": [
        {
          "output_type": "stream",
          "name": "stdout",
          "text": [
            "b'\\x80\\x04\\x95\\x16\\x00\\x00\\x00\\x00\\x00\\x00\\x00\\x8c\\x12\\xe1\\x83\\x99\\xe1\\x83\\x90\\xe1\\x83\\xa0\\xe1\\x83\\x92\\xe1\\x83\\x90\\xe1\\x83\\x93\\x94.'\n",
            "კარგად\n"
          ]
        }
      ]
    },
    {
      "cell_type": "markdown",
      "source": [
        "# მოდული math"
      ],
      "metadata": {
        "id": "z-WBNu3pETsj"
      }
    },
    {
      "cell_type": "code",
      "source": [
        "import math"
      ],
      "metadata": {
        "id": "NpeENqRADk9J"
      },
      "execution_count": null,
      "outputs": []
    },
    {
      "cell_type": "code",
      "source": [
        "print(math.pi) # pi მუდმივა"
      ],
      "metadata": {
        "colab": {
          "base_uri": "https://localhost:8080/"
        },
        "id": "-fwQoxA5EYLa",
        "outputId": "57e9e645-e792-4e6c-c853-21bb39bd6822"
      },
      "execution_count": null,
      "outputs": [
        {
          "output_type": "stream",
          "name": "stdout",
          "text": [
            "3.141592653589793\n"
          ]
        }
      ]
    },
    {
      "cell_type": "code",
      "source": [
        "from math import pi"
      ],
      "metadata": {
        "id": "vLk94FUDKcPO"
      },
      "execution_count": 137,
      "outputs": []
    },
    {
      "cell_type": "code",
      "source": [
        "print(math.e) # ნეპერის რიცხვი"
      ],
      "metadata": {
        "colab": {
          "base_uri": "https://localhost:8080/"
        },
        "id": "1hfEUd0bMNaN",
        "outputId": "ae68f6c8-7570-4291-f552-55d628c407a1"
      },
      "execution_count": null,
      "outputs": [
        {
          "output_type": "stream",
          "name": "stdout",
          "text": [
            "2.718281828459045\n"
          ]
        }
      ]
    },
    {
      "cell_type": "code",
      "source": [
        "print(math.sin(1)) # სინუსი\n",
        "print(math.cos(1)) # კოსინუსი\n",
        "print(math.tan(1)) # ტანგენსი"
      ],
      "metadata": {
        "colab": {
          "base_uri": "https://localhost:8080/"
        },
        "id": "FJpfpzi-MVjr",
        "outputId": "feb592b6-b6ac-47f3-8322-6299a67da10d"
      },
      "execution_count": 138,
      "outputs": [
        {
          "output_type": "stream",
          "name": "stdout",
          "text": [
            "0.8414709848078965\n",
            "0.5403023058681398\n",
            "1.5574077246549023\n"
          ]
        }
      ]
    },
    {
      "cell_type": "code",
      "source": [
        "print(math.radians(1)) # რადიანი\n",
        "print(math.degrees(1)) # გრადუსი"
      ],
      "metadata": {
        "colab": {
          "base_uri": "https://localhost:8080/"
        },
        "id": "KR-uGErXMdIy",
        "outputId": "0b48df08-3219-4262-d89a-3fd6a5cc9492"
      },
      "execution_count": null,
      "outputs": [
        {
          "output_type": "stream",
          "name": "stdout",
          "text": [
            "0.017453292519943295\n",
            "57.29577951308232\n"
          ]
        }
      ]
    },
    {
      "cell_type": "code",
      "source": [
        "print(math.exp(3)) # ექსპონენტა"
      ],
      "metadata": {
        "colab": {
          "base_uri": "https://localhost:8080/"
        },
        "id": "U3o2yKZdMjut",
        "outputId": "a5ddf5ac-8a50-4daf-8e78-2c0edf0916e3"
      },
      "execution_count": null,
      "outputs": [
        {
          "output_type": "stream",
          "name": "stdout",
          "text": [
            "20.085536923187668\n"
          ]
        }
      ]
    },
    {
      "cell_type": "code",
      "source": [
        "print(math.e**3)"
      ],
      "metadata": {
        "id": "XsSWZFDbK0lL",
        "outputId": "b9d89865-b7a0-47ad-cc29-ad7e01325ed8",
        "colab": {
          "base_uri": "https://localhost:8080/"
        }
      },
      "execution_count": 139,
      "outputs": [
        {
          "output_type": "stream",
          "name": "stdout",
          "text": [
            "20.085536923187664\n"
          ]
        }
      ]
    },
    {
      "cell_type": "code",
      "source": [
        "print(math.log(50)) # ლოგარითმი\n",
        "print(math.log10(100)) # ლოგარითმი 10-ის ფუძით\n",
        "print(math.log2(128)) # ლოგარითმი 2-ის ფუძით"
      ],
      "metadata": {
        "colab": {
          "base_uri": "https://localhost:8080/"
        },
        "id": "JgFRm21-Mou_",
        "outputId": "ba1aeb13-162d-4fc6-99e5-837d71655c68"
      },
      "execution_count": null,
      "outputs": [
        {
          "output_type": "stream",
          "name": "stdout",
          "text": [
            "4.605170185988092\n",
            "2.0\n",
            "7.0\n"
          ]
        }
      ]
    },
    {
      "cell_type": "code",
      "source": [
        "print(math.sqrt(10)) # ფესვი"
      ],
      "metadata": {
        "colab": {
          "base_uri": "https://localhost:8080/"
        },
        "id": "HgA5QfiTMy86",
        "outputId": "45b354a6-d1e3-4e1f-adbb-fc3badde0665"
      },
      "execution_count": 140,
      "outputs": [
        {
          "output_type": "stream",
          "name": "stdout",
          "text": [
            "3.1622776601683795\n"
          ]
        }
      ]
    },
    {
      "cell_type": "code",
      "source": [
        "print(math.ceil(3.67)) # დამრგვალება მომდევნო მთელ რიცხვამდე\n",
        "print(math.floor(3.67)) # დამრგვალება მიმდინარე მთელ რიცხვამდე"
      ],
      "metadata": {
        "colab": {
          "base_uri": "https://localhost:8080/"
        },
        "id": "HJ5c2xAQNAzQ",
        "outputId": "bb61b7ae-a291-454d-ffbb-4ae6b8a6d204"
      },
      "execution_count": null,
      "outputs": [
        {
          "output_type": "stream",
          "name": "stdout",
          "text": [
            "4\n",
            "3\n"
          ]
        }
      ]
    },
    {
      "cell_type": "code",
      "source": [
        "print(math.pow(3, 4)) # მთელი ხარისხი"
      ],
      "metadata": {
        "colab": {
          "base_uri": "https://localhost:8080/"
        },
        "id": "dKs8YohdNMEK",
        "outputId": "1814363e-3cb1-4785-e066-30dd5b6a5280"
      },
      "execution_count": null,
      "outputs": [
        {
          "output_type": "stream",
          "name": "stdout",
          "text": [
            "81.0\n"
          ]
        }
      ]
    },
    {
      "cell_type": "code",
      "source": [
        "print(math.fabs(-10)) # აბსოლუტური მნიშვნელობა"
      ],
      "metadata": {
        "colab": {
          "base_uri": "https://localhost:8080/"
        },
        "id": "YGk7vg4oNRhY",
        "outputId": "168dce6c-1525-458a-d473-ec23b0d82dfd"
      },
      "execution_count": null,
      "outputs": [
        {
          "output_type": "stream",
          "name": "stdout",
          "text": [
            "10.0\n"
          ]
        }
      ]
    },
    {
      "cell_type": "code",
      "source": [
        "print(math.fmod(11,-5)) # ნაშთითი წევრის აბსოლუტური მნიშვნელობა"
      ],
      "metadata": {
        "colab": {
          "base_uri": "https://localhost:8080/"
        },
        "id": "aKEHnOZuNVLN",
        "outputId": "32103e09-9347-46a7-d038-5da6af0d4178"
      },
      "execution_count": null,
      "outputs": [
        {
          "output_type": "stream",
          "name": "stdout",
          "text": [
            "1.0\n"
          ]
        }
      ]
    },
    {
      "cell_type": "markdown",
      "source": [
        "# მოდული random"
      ],
      "metadata": {
        "id": "wNBZjEouOlp7"
      }
    },
    {
      "cell_type": "code",
      "source": [
        "import random"
      ],
      "metadata": {
        "id": "leUfjzT5NZQU"
      },
      "execution_count": 141,
      "outputs": []
    },
    {
      "cell_type": "code",
      "source": [
        "# random() აბრუნებს შემთხვევით მნიშვნელობას შუალედიდან [0, 1.0]\n",
        "random.random()"
      ],
      "metadata": {
        "colab": {
          "base_uri": "https://localhost:8080/"
        },
        "id": "OPWww_TZOs_E",
        "outputId": "c1185ef4-0740-46c8-aa7e-201e7393e9d2"
      },
      "execution_count": 144,
      "outputs": [
        {
          "output_type": "execute_result",
          "data": {
            "text/plain": [
              "0.3628290316024144"
            ]
          },
          "metadata": {},
          "execution_count": 144
        }
      ]
    },
    {
      "cell_type": "code",
      "source": [
        "#uniform() აბრუნებს შემთხვევით ნამდვილ რიცხვს მითითებული შუალედიდან\n",
        "random.uniform(0, 10)"
      ],
      "metadata": {
        "colab": {
          "base_uri": "https://localhost:8080/"
        },
        "id": "j1n3nHRrOxnH",
        "outputId": "50e3484d-45a3-4591-e86c-e740193306c5"
      },
      "execution_count": 145,
      "outputs": [
        {
          "output_type": "execute_result",
          "data": {
            "text/plain": [
              "4.773332986717987"
            ]
          },
          "metadata": {},
          "execution_count": 145
        }
      ]
    },
    {
      "cell_type": "code",
      "source": [
        "#randint() აბრუნებს შემთხვევით მთელ რიცხვს მითითებული შუალედიდან\n",
        "random.randint(0, 10)"
      ],
      "metadata": {
        "colab": {
          "base_uri": "https://localhost:8080/"
        },
        "id": "cS4fSIB9O2ct",
        "outputId": "5972a118-87ca-498e-8812-e291a46472bf"
      },
      "execution_count": null,
      "outputs": [
        {
          "output_type": "execute_result",
          "data": {
            "text/plain": [
              "2"
            ]
          },
          "metadata": {},
          "execution_count": 94
        }
      ]
    },
    {
      "cell_type": "code",
      "source": [
        "#choice() მითითებული სიმრავლიდან აბრუნებს შემთხვევით მნიშვნელობას\n",
        "random.choice(\"Python\")"
      ],
      "metadata": {
        "colab": {
          "base_uri": "https://localhost:8080/",
          "height": 35
        },
        "id": "wXPzKZu8O7ae",
        "outputId": "20653d4c-4418-4872-c652-e186f1b12ef0"
      },
      "execution_count": 146,
      "outputs": [
        {
          "output_type": "execute_result",
          "data": {
            "text/plain": [
              "'h'"
            ],
            "application/vnd.google.colaboratory.intrinsic+json": {
              "type": "string"
            }
          },
          "metadata": {},
          "execution_count": 146
        }
      ]
    },
    {
      "cell_type": "code",
      "source": [
        "random.choice([1,2,3,4,5,6])"
      ],
      "metadata": {
        "id": "LBJ738QPLjeK",
        "outputId": "94b645de-5528-4d5d-c7ce-4fa6244010a2",
        "colab": {
          "base_uri": "https://localhost:8080/"
        }
      },
      "execution_count": 147,
      "outputs": [
        {
          "output_type": "execute_result",
          "data": {
            "text/plain": [
              "1"
            ]
          },
          "metadata": {},
          "execution_count": 147
        }
      ]
    },
    {
      "cell_type": "code",
      "source": [
        "#shuffle() ახდენს გადაცემული „დალაგებული“ სიმრავლის შემთხვევითი პრინციპით არევას\n",
        "arr = [1,2,3,4,5,6,7]\n",
        "random.shuffle(arr)\n",
        "arr"
      ],
      "metadata": {
        "colab": {
          "base_uri": "https://localhost:8080/"
        },
        "id": "W_Ti-dz4PACc",
        "outputId": "2c1db669-50cc-4a47-ff9c-9f6a37b366f3"
      },
      "execution_count": 148,
      "outputs": [
        {
          "output_type": "execute_result",
          "data": {
            "text/plain": [
              "[5, 6, 4, 7, 3, 1, 2]"
            ]
          },
          "metadata": {},
          "execution_count": 148
        }
      ]
    },
    {
      "cell_type": "code",
      "source": [
        "#sample() სიმრავლიდან აბრუნებს გარკვეული რაოდენობის შემთხვევით მნიშვნელობებს\n",
        "arr = [1,2,3,4,5,6,7]\n",
        "random.sample(arr, 3)"
      ],
      "metadata": {
        "colab": {
          "base_uri": "https://localhost:8080/"
        },
        "id": "8b2ExriqPFW-",
        "outputId": "41328df1-99e9-4dec-b8d0-93ad684f89d7"
      },
      "execution_count": null,
      "outputs": [
        {
          "output_type": "execute_result",
          "data": {
            "text/plain": [
              "[5, 2, 7]"
            ]
          },
          "metadata": {},
          "execution_count": 101
        }
      ]
    },
    {
      "cell_type": "markdown",
      "source": [
        "# სავარჯიშოები"
      ],
      "metadata": {
        "id": "9hPIXkzwP37c"
      }
    },
    {
      "cell_type": "markdown",
      "source": [
        " დაწერეთ პროგრამა, რომელიც დაყოფს სტრიქონს წინადადებებად წერტილი სიმბოლოს\n",
        "გამოყენებით და დაბეჭდავს მიღებული წინადადებების რაოდენობას."
      ],
      "metadata": {
        "id": "0xVkL6aYP7wp"
      }
    },
    {
      "cell_type": "code",
      "source": [
        "s = \"quick.brown.foxo\"\n",
        "s1 = s.split('.')\n",
        "print(s1, len(s1))"
      ],
      "metadata": {
        "id": "kxF1jFX3P6QL",
        "outputId": "d6970521-1fd5-4049-9b71-d08a7158b774",
        "colab": {
          "base_uri": "https://localhost:8080/"
        }
      },
      "execution_count": 154,
      "outputs": [
        {
          "output_type": "stream",
          "name": "stdout",
          "text": [
            "['quick', 'brown', 'foxo'] 3\n"
          ]
        }
      ]
    },
    {
      "cell_type": "markdown",
      "source": [],
      "metadata": {
        "id": "vUmzU784MAV2"
      }
    },
    {
      "cell_type": "markdown",
      "source": [
        "დაწერეთ პროგრამა, რომელიც პირველი დავალებით დაყოფილ წინადადებებში იპოვის ისეთ\n",
        "წინადადებას, რომელიც შეიცავს ყველაზე მეტ x სიმბოლოს."
      ],
      "metadata": {
        "id": "0K1QsZ4BP_dO"
      }
    },
    {
      "cell_type": "code",
      "source": [
        "maxOcc = 0\n",
        "word = ''\n",
        "counter = 0\n",
        "for x in s1:\n",
        "  for c in x:\n",
        "    if c == 'o':\n",
        "      counter += 1\n",
        "  if(counter > maxOcc):\n",
        "    maxOcc = counter\n",
        "    word = x\n",
        "\n",
        "print(word)"
      ],
      "metadata": {
        "id": "-mgGraM5QB1k",
        "colab": {
          "base_uri": "https://localhost:8080/"
        },
        "outputId": "ed1adaa7-0488-46ec-c271-65305bffe33b"
      },
      "execution_count": 157,
      "outputs": [
        {
          "output_type": "stream",
          "name": "stdout",
          "text": [
            "enter charachtero\n",
            "foxo\n"
          ]
        }
      ]
    },
    {
      "cell_type": "code",
      "source": [
        "import time\n",
        "s = \"hello world. hhelo. hi\"\n",
        "s1 = s.split('.')\n",
        "t1 = time.time()\n",
        "max = 0\n",
        "word = ''\n",
        "temp = 0\n",
        "for i in s1:\n",
        "  temp = i.count('h')\n",
        "  if max < temp:\n",
        "    max = temp\n",
        "    word = i\n",
        "t2 = time.time()\n",
        "t3 = time.time()\n",
        "maxOcc = 0\n",
        "word = ''\n",
        "counter = 0\n",
        "for x in s1:\n",
        "  for c in x:\n",
        "    if c == 'h':\n",
        "      counter += 1\n",
        "  if(counter > maxOcc):\n",
        "    maxOcc = counter\n",
        "    word = x\n",
        "t4 = time.time()\n",
        "\n",
        "print(t2-t1)\n",
        "print(t4-t3)\n",
        "print(word)"
      ],
      "metadata": {
        "id": "J3QeWOZHDKu8",
        "outputId": "55388ce9-f505-4dbe-c83b-84bd1a4b4d9b",
        "colab": {
          "base_uri": "https://localhost:8080/"
        }
      },
      "execution_count": 163,
      "outputs": [
        {
          "output_type": "stream",
          "name": "stdout",
          "text": [
            "0.00025582313537597656\n",
            "0.00023627281188964844\n",
            " hi\n"
          ]
        }
      ]
    }
  ]
}