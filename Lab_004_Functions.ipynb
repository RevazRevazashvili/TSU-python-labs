{
  "nbformat": 4,
  "nbformat_minor": 0,
  "metadata": {
    "colab": {
      "provenance": [],
      "authorship_tag": "ABX9TyO6DjFsmcB/k4Ou+lbAkeGD",
      "include_colab_link": true
    },
    "kernelspec": {
      "name": "python3",
      "display_name": "Python 3"
    },
    "language_info": {
      "name": "python"
    }
  },
  "cells": [
    {
      "cell_type": "markdown",
      "metadata": {
        "id": "view-in-github",
        "colab_type": "text"
      },
      "source": [
        "<a href=\"https://colab.research.google.com/github/RevazRevazashvili/TSU-python-labs/blob/main/Lab_004_Functions.ipynb\" target=\"_parent\"><img src=\"https://colab.research.google.com/assets/colab-badge.svg\" alt=\"Open In Colab\"/></a>"
      ]
    },
    {
      "cell_type": "markdown",
      "source": [
        "# სამომხმარებლო ფუნქციები"
      ],
      "metadata": {
        "id": "R3DHrg2lUhgm"
      }
    },
    {
      "cell_type": "code",
      "source": [
        "\"\"\"\n",
        "ფუნქცია საშუალებაა კოდის ფრაგმენტი შევასრულოთ კოდის სხვადასხვა ადგილას, ფუნქციის სახელით და პარამეტრებით(ასეთის არსებობის შემთხვევაში)\n",
        "\"\"\""
      ],
      "metadata": {
        "id": "9lFX_NSuUllq",
        "colab": {
          "base_uri": "https://localhost:8080/",
          "height": 36
        },
        "outputId": "cfbc2841-7880-409b-9b9c-2513154b8b01"
      },
      "execution_count": null,
      "outputs": [
        {
          "output_type": "execute_result",
          "data": {
            "text/plain": [
              "'\\nფუნქცია საშუალებაა კოდის ფრაგმენტი შევასრულოთ კოდის სხვადასხვა ადგილას, ფუნქციის სახელით და პარამეტრებით(ასეთის არსებობის შემთხვევაში)\\n'"
            ],
            "application/vnd.google.colaboratory.intrinsic+json": {
              "type": "string"
            }
          },
          "metadata": {},
          "execution_count": 51
        }
      ]
    },
    {
      "cell_type": "markdown",
      "source": [
        "უპარამეტრო ფუნქცია"
      ],
      "metadata": {
        "id": "CZM9p360V5qR"
      }
    },
    {
      "cell_type": "code",
      "source": [
        "# ფუნქციის განსაზღვრა ხდება def keyword-ით\n",
        "\n",
        "def my_func():\n",
        "  pass # pass საშუალებაა ფუნქცია შევქმნათ რომელიც არ ასრულებს მოქმედებას"
      ],
      "metadata": {
        "id": "T-zhg48bU8Wl"
      },
      "execution_count": null,
      "outputs": []
    },
    {
      "cell_type": "markdown",
      "source": [
        "პარამეტრიანი ფუნქცია"
      ],
      "metadata": {
        "id": "EqXcfK2XV8DJ"
      }
    },
    {
      "cell_type": "code",
      "source": [
        "# პარამეტრიანი ფუნქცია რომელიც ბეჭდავს არგუმენტად გადაცემულ პარამეტრს\n",
        "\n",
        "def my_func(a):\n",
        "  print(a)"
      ],
      "metadata": {
        "id": "GRW5R4qQVVtl"
      },
      "execution_count": null,
      "outputs": []
    },
    {
      "cell_type": "code",
      "source": [
        "my_func(1)"
      ],
      "metadata": {
        "id": "UEJikDjcXGgO",
        "outputId": "8c0d8a70-b593-4ea3-825d-3e00c05fbabc",
        "colab": {
          "base_uri": "https://localhost:8080/"
        }
      },
      "execution_count": null,
      "outputs": [
        {
          "output_type": "stream",
          "name": "stdout",
          "text": [
            "1\n"
          ]
        }
      ]
    },
    {
      "cell_type": "code",
      "source": [
        "# ფუნქცია რომელიც ადარებს პარამეტრად გადაცემულ ორ მნიშვნელობას\n",
        "\n",
        "def greater(a,b):\n",
        "  return a if a > b else b\n",
        "\n",
        "\n",
        "greater(4,3)"
      ],
      "metadata": {
        "colab": {
          "base_uri": "https://localhost:8080/"
        },
        "id": "cb-6rXbQWQ_F",
        "outputId": "fc00ede3-bda9-43dc-fe66-bdeda7b837b4"
      },
      "execution_count": null,
      "outputs": [
        {
          "output_type": "execute_result",
          "data": {
            "text/plain": [
              "4"
            ]
          },
          "metadata": {},
          "execution_count": 4
        }
      ]
    },
    {
      "cell_type": "code",
      "source": [
        "\"\"\"\n",
        "  პითონში ფუნქციას შეუძლია ერთზე მეტი მნიშვნელობის დაბრუნება return-ის საშუალებით\n",
        "\"\"\""
      ],
      "metadata": {
        "colab": {
          "base_uri": "https://localhost:8080/",
          "height": 36
        },
        "id": "zj83llr4Wej6",
        "outputId": "7f47fb1d-210e-4986-d491-85bc0ba2435e"
      },
      "execution_count": null,
      "outputs": [
        {
          "output_type": "execute_result",
          "data": {
            "text/plain": [
              "'\\n  პითონში ფუნქციას შეუძლია ერთზე მეტი მნიშვნელობის დაბრუნება return-ის საშუალებით\\n'"
            ],
            "application/vnd.google.colaboratory.intrinsic+json": {
              "type": "string"
            }
          },
          "metadata": {},
          "execution_count": 55
        }
      ]
    },
    {
      "cell_type": "code",
      "source": [
        "# ფუნქცია რომელიც აბრუნებს პარამეტრად გადაცემული მნიშვნელობების ჯამსა და ნამრავლს\n",
        "\n",
        "def a_and_b(a, b):\n",
        "  return a+b, a*b\n",
        "\n",
        "x, *y = a_and_b(2, 7)\n",
        "print(f\"x is {x}, y is {y}\")\n",
        "# print(type(y))"
      ],
      "metadata": {
        "colab": {
          "base_uri": "https://localhost:8080/"
        },
        "id": "CLU4ChSeXi5k",
        "outputId": "d7197f5d-aa07-47f0-994e-9a7713e857ca"
      },
      "execution_count": 3,
      "outputs": [
        {
          "output_type": "stream",
          "name": "stdout",
          "text": [
            "x is 9, y is [14]\n"
          ]
        }
      ]
    },
    {
      "cell_type": "code",
      "source": [
        "\"\"\"\n",
        "  ფუნქციას პარამეტრები შეგვიძლია ცხადად გადავცეთ, ცვლადების დასახელებებით\n",
        "\n",
        "\"\"\""
      ],
      "metadata": {
        "id": "mIRhI6z8YfQM",
        "colab": {
          "base_uri": "https://localhost:8080/",
          "height": 36
        },
        "outputId": "58d3ac3a-7272-47d3-f8b4-06b26c25d51b"
      },
      "execution_count": null,
      "outputs": [
        {
          "output_type": "execute_result",
          "data": {
            "text/plain": [
              "'\\n  ფუნქციას პარამეტრები შეგვიძლია ცხადად გადავცეთ, ცვლადების დასახელებებით\\n\\n'"
            ],
            "application/vnd.google.colaboratory.intrinsic+json": {
              "type": "string"
            }
          },
          "metadata": {},
          "execution_count": 57
        }
      ]
    },
    {
      "cell_type": "code",
      "source": [
        "x, y = a_and_b(a=3, b=5)\n",
        "print(f\"x is {x}, y is {y}\")"
      ],
      "metadata": {
        "colab": {
          "base_uri": "https://localhost:8080/"
        },
        "id": "-x4pR3NQZCxB",
        "outputId": "59b12f99-be2d-4bdf-fc74-c262699210a5"
      },
      "execution_count": null,
      "outputs": [
        {
          "output_type": "stream",
          "name": "stdout",
          "text": [
            "x is 8, y is 15\n"
          ]
        }
      ]
    },
    {
      "cell_type": "code",
      "source": [
        "# პარამეტრების მიმდევრობას მნიშვნელობა არ აქვს\n",
        "\n",
        "x, y = a_and_b(b=5, a=3)\n",
        "print(f\"x is {x}, y is {y}\")"
      ],
      "metadata": {
        "colab": {
          "base_uri": "https://localhost:8080/"
        },
        "id": "spKvgHuuZLh4",
        "outputId": "b1bd6e9d-cc4f-4814-f77b-3739e8c489d5"
      },
      "execution_count": null,
      "outputs": [
        {
          "output_type": "stream",
          "name": "stdout",
          "text": [
            "x is 8, y is 15\n"
          ]
        }
      ]
    },
    {
      "cell_type": "code",
      "source": [
        "\"\"\"\n",
        "თუ ფუნქციის გამოძახება ხშირად ხდება პარამეტრების ერთიდაიმავე მნიშვნელობების მიმართ, მაშინ უმჯობესია ასეთ შემთხვევაში პარამეტრებს განესაზღვროთ ე.წ. გაჩუმებით მნიშვნელობები.\n",
        "პარამეტრს, რომელსაც არ აქვს განსაზღვრული გაჩუმებითი მნიშვნელობა აუცილებელი პარამეტრი ეწოდება, ხოლო პარამეტრს გაჩუმებითი მნიშვნელობით კი - არააუცილებელი პარამეტრი.\n",
        "\n",
        "\"\"\""
      ],
      "metadata": {
        "id": "VuQM37b4aD8x",
        "colab": {
          "base_uri": "https://localhost:8080/",
          "height": 53
        },
        "outputId": "28eef740-7be8-4e73-91f7-fdf1537c2bcb"
      },
      "execution_count": null,
      "outputs": [
        {
          "output_type": "execute_result",
          "data": {
            "text/plain": [
              "'\\nთუ ფუნქციის გამოძახება ხშირად ხდება პარამეტრების ერთიდაიმავე მნიშვნელობების მიმართ, მაშინ უმჯობესია ასეთ შემთხვევაში პარამეტრებს განესაზღვროთ ე.წ. გაჩუმებით მნიშვნელობები.\\nპარამეტრს, რომელსაც არ აქვს განსაზღვრული გაჩუმებითი მნიშვნელობა აუცილებელი პარამეტრი ეწოდება, ხოლო პარამეტრს გაჩუმებითი მნიშვნელობით კი - არააუცილებელი პარამეტრი.\\n\\n'"
            ],
            "application/vnd.google.colaboratory.intrinsic+json": {
              "type": "string"
            }
          },
          "metadata": {},
          "execution_count": 60
        }
      ]
    },
    {
      "cell_type": "code",
      "source": [
        "# ფუნქცია გაჩუმებითი მნიშვნელობით\n",
        "\n",
        "def user_func(a, b=2):\n",
        "  return a + b\n",
        "\n",
        "print(user_func(1))\n",
        "print(user_func(1, 9))"
      ],
      "metadata": {
        "colab": {
          "base_uri": "https://localhost:8080/"
        },
        "id": "nIsNbFSLhIjB",
        "outputId": "916d87c3-0b33-4804-aaea-ccde8a946d7d"
      },
      "execution_count": null,
      "outputs": [
        {
          "output_type": "stream",
          "name": "stdout",
          "text": [
            "3\n",
            "10\n"
          ]
        }
      ]
    },
    {
      "cell_type": "code",
      "source": [
        "\"\"\"\n",
        "*-ის გამოყენება პარამეტრების სიამდე მიუთითებს, რომ ყველა შემდეგი პარამეტრი უნდა იყოს მითითებული, როგორც keyword სიტყვების არგუმენტები.\n",
        "\n",
        "\"\"\""
      ],
      "metadata": {
        "colab": {
          "base_uri": "https://localhost:8080/",
          "height": 36
        },
        "id": "m2v4PLDWBCTK",
        "outputId": "553c0f4b-069b-4dad-e28f-c2defa0e7731"
      },
      "execution_count": null,
      "outputs": [
        {
          "output_type": "execute_result",
          "data": {
            "text/plain": [
              "'\\n*-ის გამოყენება პარამეტრების სიამდე მიუთითებს, რომ ყველა შემდეგი პარამეტრი უნდა იყოს მითითებული, როგორც keyword სიტყვების არგუმენტები.\\n\\n'"
            ],
            "application/vnd.google.colaboratory.intrinsic+json": {
              "type": "string"
            }
          },
          "metadata": {},
          "execution_count": 62
        }
      ]
    },
    {
      "cell_type": "code",
      "source": [
        "# ფუნქცია რომელიც მოითხოვს, პარამეტრად გადაცემული არგუმენტების სახელებით დაკონკრეტებას\n",
        "\n",
        "def user_func(*, a, b, c=10):\n",
        "  return a + b + c\n",
        "# c = user_func(1,2,1)\n",
        "c = user_func(a = 1, b = 5)\n"
      ],
      "metadata": {
        "id": "OZrBM-y4hVOn"
      },
      "execution_count": 9,
      "outputs": []
    },
    {
      "cell_type": "code",
      "source": [
        "\"\"\"\n",
        "პარამეტრების სიაში '/' მიუთითებს, რომ ყველა პარამეტრი მანამდე უნდა იყოს მხოლოდ პოზიციური,\n",
        "რაც ნიშნავს, რომ მათი დაზუსტება შესაძლებელია მხოლოდ პოზიციით და არა საკვანძო სიტყვით.\n",
        "\n",
        "\"\"\""
      ],
      "metadata": {
        "id": "SB9NYh1mBhYH"
      },
      "execution_count": null,
      "outputs": []
    },
    {
      "cell_type": "code",
      "source": [
        "# ფუნქცია რომელიც არ მოითხოვს არგუმენტების სახელებით დაკონკრეტებას / ოპერატორამდე\n",
        "\n",
        "def user_func(a, b,/, c=10):\n",
        "  return a + b + c\n",
        "# d = user_func(1, 5, c=9)\n",
        "# d = user_func(1, c=5, 15)\n",
        "d = user_func(1,2,3)\n",
        "d"
      ],
      "metadata": {
        "id": "6Yu4ub6v_C_4",
        "outputId": "cdf75e9b-4149-4093-b30b-adc430ffe813",
        "colab": {
          "base_uri": "https://localhost:8080/"
        }
      },
      "execution_count": 17,
      "outputs": [
        {
          "output_type": "execute_result",
          "data": {
            "text/plain": [
              "6"
            ]
          },
          "metadata": {},
          "execution_count": 17
        }
      ]
    },
    {
      "cell_type": "code",
      "source": [
        "\"\"\"\n",
        "Python ენა იძლევა ფუნქციის ერთხელ განმარტების და შემდეგ პარამეტრების სხვადასხვა რაოდენობის მიმართ გამოყენების საშუალებას. ამ მიზნით გამოიყენება სიმბოლო * ცვლადის სახელთან\n",
        "\n",
        "\"\"\""
      ],
      "metadata": {
        "id": "jYE_f4anCLqY"
      },
      "execution_count": null,
      "outputs": []
    },
    {
      "cell_type": "code",
      "source": [
        "def Sum(*t):\n",
        "  summ = 0\n",
        "  for i in t:\n",
        "      summ += i\n",
        "  return summ\n",
        "print(f\"Zero parameter: Sum() = { Sum() }\")\n",
        "print(f\"Two parameter: Sum(10, 20) = { Sum(10, 20) }\")\n",
        "print(f\"Three parameter: Sum(10, 20, 30) = { Sum(10, 20, 30) }\")"
      ],
      "metadata": {
        "id": "pFE-pkTRCNiL",
        "outputId": "fb3f7855-c8bf-46e3-a411-db804d7c14cc",
        "colab": {
          "base_uri": "https://localhost:8080/"
        }
      },
      "execution_count": 19,
      "outputs": [
        {
          "output_type": "stream",
          "name": "stdout",
          "text": [
            "Zero parameter: Sum() = 0\n",
            "Two parameter: Sum(10, 20) = 30\n",
            "Three parameter: Sum(10, 20, 30) = 60\n"
          ]
        }
      ]
    },
    {
      "cell_type": "code",
      "source": [
        "\"\"\"\n",
        "ასევე შესაძლებელია ფუნქციის პარამეტრთან ორი * სიმბოლოს გამოყენება, რომელიც იძლევა key=value ფორმით ფუნქციისთვის ნებისმიერი რაოდენობის პარამეტრების გადაცემის საშუალებას\n",
        "\n",
        "\"\"\""
      ],
      "metadata": {
        "id": "iqIZ5vN1Cbgr"
      },
      "execution_count": null,
      "outputs": []
    },
    {
      "cell_type": "code",
      "source": [
        "def Sum(**t):\n",
        "  summ = 0\n",
        "  for i in t.keys():\n",
        "      summ += t[i]\n",
        "  return summ\n",
        "\n",
        "print(f\"Zero parameter: Sum() = { Sum() }\")\n",
        "print(f\"Two parameter: Sum(10, 20) = { Sum(x=10, y=20) }\")\n",
        "print(f\"Three parameter: Sum(10, 20, 30) = { Sum(a=10, b=20, c=30) }\")\n"
      ],
      "metadata": {
        "id": "XbBS2IKFC_pI",
        "outputId": "b653aac6-90bd-4f65-d62d-eddd4aeb3276",
        "colab": {
          "base_uri": "https://localhost:8080/"
        }
      },
      "execution_count": null,
      "outputs": [
        {
          "output_type": "stream",
          "name": "stdout",
          "text": [
            "Zero parameter: Sum() = 0\n",
            "Two parameter: Sum(10, 20) = 30\n",
            "Three parameter: Sum(10, 20, 30) = 60\n"
          ]
        }
      ]
    },
    {
      "cell_type": "code",
      "source": [
        "def Sum(**t):\n",
        "  summ = 0\n",
        "  for i in t.values():\n",
        "      summ += i\n",
        "  return summ\n",
        "\n",
        "print(f\"Zero parameter: Sum() = { Sum() }\")\n",
        "print(f\"Two parameter: Sum(10, 20) = { Sum(x=10, y=20) }\")\n",
        "print(f\"Three parameter: Sum(10, 20, 30) = { Sum(a=10, b=20, c=30) }\")"
      ],
      "metadata": {
        "id": "QoF4cRNsDJeb"
      },
      "execution_count": null,
      "outputs": []
    },
    {
      "cell_type": "code",
      "source": [
        "def Sum(**t):\n",
        "  summ = 0\n",
        "  for key, value in t.items():\n",
        "      summ += value\n",
        "  return summ\n",
        "\n",
        "print(f\"Zero parameter: Sum() = { Sum() }\")\n",
        "print(f\"Two parameter: Sum(10, 20) = { Sum(x=10, y=20) }\")\n",
        "print(f\"Three parameter: Sum(10, 20, 30) = { Sum(a=10, b=20, c=30) }\")"
      ],
      "metadata": {
        "id": "Ibg9rlGeDVcD"
      },
      "execution_count": null,
      "outputs": []
    },
    {
      "cell_type": "code",
      "source": [
        "\"\"\"\n",
        "Python ენაში შესაძლებელია ერთი ფუნქციისთვის პარამეტრად მეორე ფუნქციის გადაცემა.\n",
        "\n",
        "\"\"\""
      ],
      "metadata": {
        "id": "tYoh-P8eDvAJ"
      },
      "execution_count": null,
      "outputs": []
    },
    {
      "cell_type": "code",
      "source": [
        "# ფუნქცია როგორც სხვა ფუნქციის პარამეტრი\n",
        "\n",
        "def Sum(a, b):\n",
        "  return a + b\n",
        "\n",
        "def Print_Sum(f, a, b):\n",
        "  print(f\"{a} + {b} = {f(a, b)}\")\n",
        "\n",
        "Print_Sum(Sum, 1, 2)"
      ],
      "metadata": {
        "id": "vlDeMq28GMxU",
        "outputId": "9cdfcd3b-3fc1-4aee-f27b-9ac8fb19bcdf",
        "colab": {
          "base_uri": "https://localhost:8080/"
        }
      },
      "execution_count": 23,
      "outputs": [
        {
          "output_type": "stream",
          "name": "stdout",
          "text": [
            "1 + 2 = 3\n"
          ]
        }
      ]
    },
    {
      "cell_type": "code",
      "source": [
        "\"\"\"\n",
        "Python ენაში ასევე შესაძლებელია ერთი ფუნქციის შიგნით მეორე ფუნქციის განსაზღვრა.\n",
        "ამ შემთხვევაში გარე ფუნქციაში გამოცხადებული ცვლადები ხელმისაწვდომი იქნება შიდა ფუნქციისთვის, მაგრამ პირიქით არა\n",
        "\n",
        "\"\"\""
      ],
      "metadata": {
        "id": "Md_CKZuiGpf3"
      },
      "execution_count": null,
      "outputs": []
    },
    {
      "cell_type": "code",
      "source": [
        "# ფუნქცია ფუნქციაში\n",
        "\n",
        "def Print_Sum(a, b):\n",
        "  def Sum():\n",
        "    return a + b\n",
        "  print(f\"{a} + {b} = {Sum()}\")\n",
        "  return Sum\n",
        "print(Print_Sum(1, 2))\n"
      ],
      "metadata": {
        "id": "p9H1VPLLGtEm",
        "outputId": "068d7f9d-ca4d-4d47-ef96-3763bd760bf4",
        "colab": {
          "base_uri": "https://localhost:8080/"
        }
      },
      "execution_count": 32,
      "outputs": [
        {
          "output_type": "stream",
          "name": "stdout",
          "text": [
            "1 + 2 = 3\n",
            "<function Print_Sum.<locals>.Sum at 0x7c16a4cb7060>\n"
          ]
        }
      ]
    },
    {
      "cell_type": "code",
      "source": [
        "result = Print_Sum(1,2)"
      ],
      "metadata": {
        "id": "QnSIueJTiBwI",
        "outputId": "a2605bfa-ed4c-48d3-efa5-851349b7f671",
        "colab": {
          "base_uri": "https://localhost:8080/"
        }
      },
      "execution_count": null,
      "outputs": [
        {
          "output_type": "stream",
          "name": "stdout",
          "text": [
            "1 + 2 = 3\n"
          ]
        }
      ]
    },
    {
      "cell_type": "code",
      "source": [
        "result()"
      ],
      "metadata": {
        "id": "MhNSTFcXiI7D",
        "outputId": "c7cf9946-3dcb-4748-c655-52a7280e6ce2",
        "colab": {
          "base_uri": "https://localhost:8080/"
        }
      },
      "execution_count": null,
      "outputs": [
        {
          "output_type": "execute_result",
          "data": {
            "text/plain": [
              "3"
            ]
          },
          "metadata": {},
          "execution_count": 11
        }
      ]
    },
    {
      "cell_type": "code",
      "source": [
        "Print_Sum(1,2)()"
      ],
      "metadata": {
        "id": "mkp9ptn73a72",
        "outputId": "949baef5-5917-4ce0-a3ca-78dba1cc3175",
        "colab": {
          "base_uri": "https://localhost:8080/"
        }
      },
      "execution_count": null,
      "outputs": [
        {
          "output_type": "stream",
          "name": "stdout",
          "text": [
            "1 + 2 = 3\n"
          ]
        },
        {
          "output_type": "execute_result",
          "data": {
            "text/plain": [
              "3"
            ]
          },
          "metadata": {},
          "execution_count": 9
        }
      ]
    },
    {
      "cell_type": "code",
      "source": [
        "def bank_account(balance):\n",
        "  def deposit(amount):\n",
        "    nonlocal balance\n",
        "    balance += amount\n",
        "    return balance\n",
        "  def withdraw(amount):\n",
        "    nonlocal balance\n",
        "    balance -= amount\n",
        "    return balance\n",
        "  return deposit, withdraw\n",
        "\n",
        "deposit, withdraw = bank_account(100)\n",
        "print(deposit(50))\n",
        "print(withdraw(25))"
      ],
      "metadata": {
        "id": "_mnX8C0sm6Qd"
      },
      "execution_count": null,
      "outputs": []
    },
    {
      "cell_type": "code",
      "source": [
        "\"\"\"\n",
        "Python ენა იძლევა სხვადასხვა სახის სპეციფიური ფუნქციების განსაზღვრის საშუალებას. ასეთი ფუნქციებია:\n",
        "  ანონიმური ფუნქციები\n",
        "  ფუნქცია-გენერატორები\n",
        "  ფუნქცია-დეკორატორები\n",
        "  რეკურსიული ფუნქცია\n",
        "\n",
        "\"\"\""
      ],
      "metadata": {
        "id": "0bx37VWqHI1t"
      },
      "execution_count": null,
      "outputs": []
    },
    {
      "cell_type": "markdown",
      "source": [
        "ანონიმური ფუნქციები"
      ],
      "metadata": {
        "id": "XNRTJqlPKsJo"
      }
    },
    {
      "cell_type": "markdown",
      "source": [
        "https://www.w3schools.com/python/python_lambda.asp"
      ],
      "metadata": {
        "id": "Qy3ZErJXZKSv"
      }
    },
    {
      "cell_type": "code",
      "source": [
        "\"\"\"\n",
        "Python ენაში სამომხმარებლო ფუნქციების განმარტების გარდა შესაძლებელია ე.წ. ანონიმური (ე.წ. ლამბდა) ფუნქციის განმარტება.\n",
        "ფუნქცია არ აბრუნებს ჩვეულებრივ მნიშვნელობას. ის აბრუნებს მიმთითებელს ობიექტზე, რომელიც შეიძლება შენახული იქნას ცვლადში.\n",
        "ცვლადში დაბრუნებული მიმთითებელი იძლევა ფუნქციის მსგავსად ცვლადის გამოყენების საშუალებას.\n",
        "\n",
        "\"\"\""
      ],
      "metadata": {
        "id": "xIHpMJngKuo4"
      },
      "execution_count": null,
      "outputs": []
    },
    {
      "cell_type": "code",
      "source": [
        "printInfo = lambda: print(\"This is lambda function!\")\n",
        "summ = lambda x, y: [x + y, x*y]\n",
        "printInfo()\n",
        "summ_result = summ(10, 23)\n",
        "print(f\"summ = {summ_result}\")"
      ],
      "metadata": {
        "id": "ISOzc5akNuQc",
        "outputId": "18856504-c8eb-42fe-8139-aff20d4aae6d",
        "colab": {
          "base_uri": "https://localhost:8080/"
        }
      },
      "execution_count": null,
      "outputs": [
        {
          "output_type": "stream",
          "name": "stdout",
          "text": [
            "This is lambda function!\n",
            "summ = [33, 230]\n"
          ]
        }
      ]
    },
    {
      "cell_type": "code",
      "source": [
        "def choose(struct):\n",
        "    return struct[1]\n",
        "\n",
        "people = [(\"Ana\", 24), (\"Nino\", 30), (\"Giorgi\", 20)]\n",
        "sorted_people = sorted(people, key=choose)\n",
        "print(sorted_people)"
      ],
      "metadata": {
        "id": "LlT-XShcit9s",
        "outputId": "9d4a210f-e331-4c65-e159-1225e188632a",
        "colab": {
          "base_uri": "https://localhost:8080/"
        }
      },
      "execution_count": 37,
      "outputs": [
        {
          "output_type": "stream",
          "name": "stdout",
          "text": [
            "[('Giorgi', 20), ('Ana', 24), ('Nino', 30)]\n"
          ]
        }
      ]
    },
    {
      "cell_type": "code",
      "source": [
        "sum1 = lambda x, y: x+y\n",
        "def sum2(x,y):\n",
        "  return x+y\n",
        "\n",
        "import time\n",
        "\n",
        "t1 = time.time()\n",
        "sum1(1,2)\n",
        "t2 = time.time()\n",
        "t3 = time.time()\n",
        "sum2(1,2)\n",
        "t4 = time.time()\n",
        "print(t2-t1)\n",
        "print(t4-t3)"
      ],
      "metadata": {
        "id": "Yt_LtlLxS1-z",
        "outputId": "a29d95c8-b5fa-4fb2-f3d9-00e1d1c4b86e",
        "colab": {
          "base_uri": "https://localhost:8080/"
        }
      },
      "execution_count": 38,
      "outputs": [
        {
          "output_type": "stream",
          "name": "stdout",
          "text": [
            "4.291534423828125e-05\n",
            "3.814697265625e-05\n"
          ]
        }
      ]
    },
    {
      "cell_type": "code",
      "source": [
        "def lam(prin):\n",
        "  prin()\n",
        "  # printInfo()\n",
        "  print(\"lam\")\n",
        "\n",
        "lam(printInfo)"
      ],
      "metadata": {
        "id": "CH8Pxqg7Q9ic",
        "outputId": "2ffee9f1-81f2-406e-cac4-883ae3849346",
        "colab": {
          "base_uri": "https://localhost:8080/"
        }
      },
      "execution_count": null,
      "outputs": [
        {
          "output_type": "stream",
          "name": "stdout",
          "text": [
            "This is lambda function!\n",
            "lam\n"
          ]
        }
      ]
    },
    {
      "cell_type": "markdown",
      "source": [
        "ფუნქცია გენერატორი"
      ],
      "metadata": {
        "id": "c2fiEDROPqMS"
      }
    },
    {
      "cell_type": "code",
      "source": [
        "\"\"\"\n",
        "ფუნქცია-გენერატორი ეს არის ფუნქცია, რომელსაც ყოველი იტერაციისას რამდენიმე მნიშვნელობიდან შეუძლია დააბრუნოს მხოლოდ ერთი.\n",
        "ფუნქციის საქმიანობის შეჩერების და ფუნქციის გენერატორად გადაქცევის საშუალებას იძლევა გასაღები სიტყვა yield.\n",
        "\n",
        "\"\"\""
      ],
      "metadata": {
        "id": "yuuIl6O2N_2Z"
      },
      "execution_count": null,
      "outputs": []
    },
    {
      "cell_type": "markdown",
      "source": [
        "უპირატესობები\n",
        "\n",
        "1.   მეხსიერების ეფექტურობა: გენერატორები აწარმოებენ მნიშვნელობებს ერთდროულად, ვიდრე ერთდროულად ინახავენ ყველა მნიშვნელობას მეხსიერებაში. ეს განსაკუთრებით სასარგებლოა მონაცემთა დიდ ნაკრებებთან მუშაობისას, რადგან ამცირებს მეხსიერების მოხმარებას.\n",
        "2.   უსასრულო თანმიმდევრობა: გენერატორებს შეუძლიათ წარმოადგინონ უსასრულო მიმდევრობა, რაც შეუძლებელია რეგულარული სიებით. მაგალითად, შეგიძლიათ შექმნათ გენერატორი რიცხვების უსასრულო თანმიმდევრობისთვის მეხსიერების შეზღუდვების გარეშე.\n",
        "3.  ეფექტური გამეორება: გენერატორები მხარს უჭერენ ეფექტურ გამეორებას. თქვენ შეგიძლიათ გაიმეოროთ გენერატორის მიერ წარმოებული მნიშვნელობები for loop-ის ან სხვა გამეორების მექანიზმების გამოყენებით.\n",
        "\n"
      ],
      "metadata": {
        "id": "1hfIllpoT2rO"
      }
    },
    {
      "cell_type": "code",
      "source": [
        "def func_gen(x, y):\n",
        "  for number in range(x+1):\n",
        "      yield number ** y\n",
        "numbers = func_gen(10, 2)\n",
        "for n in numbers:\n",
        "    print(n, end=\"  \")"
      ],
      "metadata": {
        "id": "lXD2AAhw3d4M",
        "outputId": "67a699e5-dd40-4951-fcf5-143923bf84d4",
        "colab": {
          "base_uri": "https://localhost:8080/"
        }
      },
      "execution_count": null,
      "outputs": [
        {
          "output_type": "stream",
          "name": "stdout",
          "text": [
            "0  1  4  9  16  25  36  49  64  81  100  "
          ]
        }
      ]
    },
    {
      "cell_type": "code",
      "source": [
        "def func_gen(x, y):\n",
        "  for number in range(x+1):\n",
        "      yield number ** y\n",
        "for n in func_gen(10, 2):\n",
        "    print(n, end=\"  \")"
      ],
      "metadata": {
        "id": "PQRGG33ZPvaZ",
        "outputId": "2b21e251-7e66-4b84-c2e2-eb383c3eec34",
        "colab": {
          "base_uri": "https://localhost:8080/"
        }
      },
      "execution_count": null,
      "outputs": [
        {
          "output_type": "stream",
          "name": "stdout",
          "text": [
            "0  1  4  9  16  25  36  49  64  81  100  "
          ]
        }
      ]
    },
    {
      "cell_type": "markdown",
      "source": [
        "ფუნქცია დეკორატორები"
      ],
      "metadata": {
        "id": "773uXaEYU9SD"
      }
    },
    {
      "cell_type": "markdown",
      "source": [
        "https://www.datacamp.com/tutorial/decorators-python"
      ],
      "metadata": {
        "id": "0w6l7ig8fTzt"
      }
    },
    {
      "cell_type": "code",
      "source": [
        "\"\"\"\n",
        "პითონში დეკორატორი არის დიზაინის ნიმუში, რომელიც საშუალებას გაძლევთ გააფართოვოთ ან შეცვალოთ ფუნქციების ან მეთოდების ქცევა მათი ფაქტობრივი კოდის შეცვლის გარეშე.\n",
        "დეკორატორებს ხშირად იყენებენ არსებული ფუნქციების ფუნქციონირების დასამატებლად სუფთა და მრავალჯერადი გამოყენების გზით.\n",
        "\n",
        "\"\"\""
      ],
      "metadata": {
        "id": "yyYHTjnkSeYU"
      },
      "execution_count": null,
      "outputs": []
    },
    {
      "cell_type": "code",
      "source": [
        "def decorator(func):\n",
        "    def wrapper():\n",
        "        print(\"Something is happening before the function is called.\")\n",
        "        func()\n",
        "        print(\"Something is happening after the function is called.\")\n",
        "    return wrapper\n",
        "\n",
        "def say_whee():\n",
        "    print(\"Whee!\")\n",
        "\n",
        "say_whee = decorator(say_whee)\n",
        "say_whee()"
      ],
      "metadata": {
        "id": "n7villNC68-b",
        "outputId": "b7ec496e-7fab-4c0f-aea1-f98c0923f01c",
        "colab": {
          "base_uri": "https://localhost:8080/"
        }
      },
      "execution_count": 40,
      "outputs": [
        {
          "output_type": "stream",
          "name": "stdout",
          "text": [
            "Something is happening before the function is called.\n",
            "Whee!\n",
            "Something is happening after the function is called.\n"
          ]
        }
      ]
    },
    {
      "cell_type": "code",
      "source": [
        "def func_dec(f):\n",
        "  def wraper(x):\n",
        "    print(\"auth\")\n",
        "    f(x)\n",
        "\n",
        "  return wraper\n",
        "\n",
        "@func_dec\n",
        "def func(x):\n",
        "  print(f\"x = { x }\")\n",
        "\n",
        "# func = func_dec(func)\n",
        "\n",
        "func(1)"
      ],
      "metadata": {
        "id": "0bGC9D7JQxYk",
        "outputId": "b872796b-5aeb-4c9f-9023-ad30411137d7",
        "colab": {
          "base_uri": "https://localhost:8080/"
        }
      },
      "execution_count": 43,
      "outputs": [
        {
          "output_type": "stream",
          "name": "stdout",
          "text": [
            "auth\n",
            "x = 1\n"
          ]
        }
      ]
    },
    {
      "cell_type": "code",
      "source": [
        "def milk(func):\n",
        "    def wrapper():\n",
        "        print(\"hot milk\")\n",
        "        func()\n",
        "    return wrapper\n",
        "\n",
        "def sugar(func):\n",
        "    def wrapper():\n",
        "        print(\"sugar\")\n",
        "        func()\n",
        "    return wrapper\n",
        "\n",
        "@sugar\n",
        "@milk\n",
        "def coffee(variety=\"arabica\"):\n",
        "    print(variety)\n",
        "\n",
        "coffee()"
      ],
      "metadata": {
        "id": "Lx-HBlOie6rF",
        "outputId": "02da7a20-718e-4373-d5b6-d3586858cd45",
        "colab": {
          "base_uri": "https://localhost:8080/"
        }
      },
      "execution_count": 42,
      "outputs": [
        {
          "output_type": "stream",
          "name": "stdout",
          "text": [
            "sugar\n",
            "hot milk\n",
            "arabica\n"
          ]
        }
      ]
    },
    {
      "cell_type": "code",
      "source": [
        "def do_twice(func):\n",
        "    def wrapper_do_twice(*args, **kwargs):\n",
        "        func(*args, **kwargs)\n",
        "        func(*args, **kwargs)\n",
        "    return wrapper_do_twice\n",
        "\n",
        "@do_twice\n",
        "def say_whee():\n",
        "    print(\"Whee!\")\n",
        "\n",
        "say_whee()\n",
        "\n",
        "@do_twice\n",
        "def greet(name):\n",
        "    print(f\"Hello {name}\")\n",
        "\n",
        "greet(\"World\")"
      ],
      "metadata": {
        "id": "lhjqMYMcEAaj",
        "outputId": "799f282f-1694-497e-82d0-c2601c519a0c",
        "colab": {
          "base_uri": "https://localhost:8080/"
        }
      },
      "execution_count": null,
      "outputs": [
        {
          "output_type": "stream",
          "name": "stdout",
          "text": [
            "Whee!\n",
            "Whee!\n",
            "Hello World\n",
            "Hello World\n"
          ]
        }
      ]
    },
    {
      "cell_type": "markdown",
      "source": [
        "რეკურსიული ფუნქციები"
      ],
      "metadata": {
        "id": "UI-OxHhelhyk"
      }
    },
    {
      "cell_type": "code",
      "source": [
        "\"\"\"\n",
        "რეკურსია ეს არის ფუნქციის შესაძლებლობა მიმართოს საკუთარ თავს, ხოლო ფუნქციას, რომელიც მიმართავს საკუთარ თავს რეკურსიული ფუნქცია ეწოდება.\n",
        "\n",
        "\"\"\""
      ],
      "metadata": {
        "id": "rSEF9YhzVtym"
      },
      "execution_count": null,
      "outputs": []
    },
    {
      "cell_type": "code",
      "source": [
        "def func_fact(n):\n",
        "  if n == 0 or n == 1:\n",
        "    return 1\n",
        "  else:\n",
        "    return x * func_fact(n - 1)\n",
        "print(f\"Factorial of {5} is {func_fact(5)}\")"
      ],
      "metadata": {
        "colab": {
          "base_uri": "https://localhost:8080/"
        },
        "id": "wug7-5zvlzHS",
        "outputId": "e769b711-e3ae-4626-910e-62bce1744b27"
      },
      "execution_count": null,
      "outputs": [
        {
          "output_type": "stream",
          "name": "stdout",
          "text": [
            "Factorial of 5 is 4096\n"
          ]
        }
      ]
    },
    {
      "cell_type": "markdown",
      "source": [
        "#დოკუმენტირების სტრიქონი"
      ],
      "metadata": {
        "id": "td7Gjy7ImjeD"
      }
    },
    {
      "cell_type": "code",
      "source": [
        "\"\"\"\n",
        "Python ენა იძლევა ფუნქციის დოკუმენტირების საშუალებას. ამ მიზნით რეკომენდირებულია სამი ცალი ორმაგი აპოსტროფის (\") სიმბოლოს გამოყენება.\n",
        "შესაბამისი სტრიქონი უნდა მოდიოდეს უშუალოდ ფუნქციის სახელის შემდეგ.\n",
        "\n",
        "\"\"\""
      ],
      "metadata": {
        "id": "qaUNRYgOmipM"
      },
      "execution_count": null,
      "outputs": []
    },
    {
      "cell_type": "code",
      "source": [
        "def func(a, b):\n",
        "  \"\"\" ფუნქცია ითვლის ორი რიცხვის ჯამს და აბრუნებს შედეგს.\n",
        "      ფუნქცია პარამეტრად ღებულობს ორ მთელ მნიშვნელობას.\n",
        "               f(a, b) --> a + b\"\"\"\n",
        "  return a + b\n",
        "print(f\"docstring of func:\\n {func.__doc__}\")"
      ],
      "metadata": {
        "colab": {
          "base_uri": "https://localhost:8080/"
        },
        "id": "FczrCA4omvRd",
        "outputId": "6dfc1947-8ef8-4577-90ae-18623c26d05b"
      },
      "execution_count": 48,
      "outputs": [
        {
          "output_type": "stream",
          "name": "stdout",
          "text": [
            "docstring of func:\n",
            "  ფუნქცია ითვლის ორი რიცხვის ჯამს და აბრუნებს შედეგს.\n",
            "      ფუნქცია პარამეტრად ღებულობს ორ მთელ მნიშვნელობას.\n",
            "               f(a, b) --> a + b\n"
          ]
        }
      ]
    },
    {
      "cell_type": "markdown",
      "source": [
        "#გლობალური და ლოკალური ცვლადები"
      ],
      "metadata": {
        "id": "c5JpuYBxnPG_"
      }
    },
    {
      "cell_type": "code",
      "source": [
        "\"\"\"\n",
        "Python ენაში ცვლადი არის გლობალური თუ ის გამოყენებულია კოდის ფაილში განმარტებული ნებისმიერი ფუნქციის გარეთ.\n",
        "გლობალურ ცვლადზე მიმართვა შესაძლებელია პროგრამის ნებისმიერი ადგილიდან.\n",
        "\n",
        "ცვლადი არის ლოკალური, თუ მისი გამოცხადება მოხდა ფუნქციის ტანში. ლოკალურ ცვლადზე მიმართვა ფუნქციის განმარტების გარეთ გამოიწვევს შეცდომას.\n",
        "ფუნქციის შიგნით გლობალურ ცვლადზე ცვლილების განსახორციელებლად გამოიყენება გასაღები სიტყვა global.\n",
        "\n",
        "\"\"\""
      ],
      "metadata": {
        "id": "X3-u9Ykwm6vD"
      },
      "execution_count": null,
      "outputs": []
    },
    {
      "cell_type": "code",
      "source": [
        "glob = 10\n",
        "def func():\n",
        "  print(f\"global variable {glob}\")\n",
        "func()"
      ],
      "metadata": {
        "colab": {
          "base_uri": "https://localhost:8080/"
        },
        "id": "OPBTxZ8znh8n",
        "outputId": "3db175ac-1db0-4017-8011-1143927c0d9a"
      },
      "execution_count": null,
      "outputs": [
        {
          "output_type": "stream",
          "name": "stdout",
          "text": [
            "global variable 10\n"
          ]
        }
      ]
    },
    {
      "cell_type": "code",
      "source": [
        "glob1 = 10\n",
        "def func():\n",
        "  global glob1\n",
        "  glob1+=1\n",
        "  print(f\"global variable {glob1}\")\n",
        "func()\n",
        "glob1"
      ],
      "metadata": {
        "colab": {
          "base_uri": "https://localhost:8080/"
        },
        "id": "yckS3FjwnlIK",
        "outputId": "791513b1-ad7a-4e75-e615-1969922b9271"
      },
      "execution_count": 51,
      "outputs": [
        {
          "output_type": "stream",
          "name": "stdout",
          "text": [
            "global variable 11\n"
          ]
        },
        {
          "output_type": "execute_result",
          "data": {
            "text/plain": [
              "11"
            ]
          },
          "metadata": {},
          "execution_count": 51
        }
      ]
    },
    {
      "cell_type": "code",
      "source": [
        "\"\"\"\n",
        "Python ენაში არსებობს მოდული typing, რომელიც ფორმალურად იძლევა ტიპის მითითების საშუალებას.\n",
        "ფუნქციის შემთხვევაში ტიპის მითითება ამარტივებს ფუნქციისთვის გადასაცემი პარამეტრების და დასაბრუნებელი ტიპის დადგენის საშუალებას.\n",
        "\n",
        "\"\"\""
      ],
      "metadata": {
        "id": "aoiiI-6soOfM"
      },
      "execution_count": null,
      "outputs": []
    },
    {
      "cell_type": "markdown",
      "source": [
        "მოდული typing"
      ],
      "metadata": {
        "id": "jVxv73_5ptWy"
      }
    },
    {
      "cell_type": "code",
      "source": [
        "from typing import List\n",
        "x: int = 1   # ცვლადი int ტიპისაა\n",
        "array: List  = list(range(1, 11))\n",
        "def func(string: str, array: List) -> str:\n",
        "  ssum = 0\n",
        "  for numb in array:\n",
        "    ssum += numb\n",
        "  return f\"{string}: {ssum}\", 1\n",
        "\n",
        "lst = [i for i in range(10)]\n",
        "print(func(f\"მასივის ელემენტების ჯამი არის\", lst))\n",
        "print(type(x))"
      ],
      "metadata": {
        "colab": {
          "base_uri": "https://localhost:8080/"
        },
        "id": "aI7dX2SQonKp",
        "outputId": "53839756-df3d-4b71-d5e4-892b8d40d833"
      },
      "execution_count": 59,
      "outputs": [
        {
          "output_type": "stream",
          "name": "stdout",
          "text": [
            "('მასივის ელემენტების ჯამი არის: 45', 1)\n",
            "<class 'int'>\n"
          ]
        }
      ]
    },
    {
      "cell_type": "markdown",
      "source": [
        "#სავარჯიშოები"
      ],
      "metadata": {
        "id": "pJKgr30VqCdR"
      }
    },
    {
      "cell_type": "markdown",
      "source": [
        "ფუნქციის სახით გააფორმეთ დავალებები:\n",
        "სავარჯიშო 1: 10-დან 18-ის ჩათვლით\n",
        "სავარჯიშო 2, 3 და 4: ყველა\n",
        "p.s. წინა თავების სავარჯიშოები"
      ],
      "metadata": {
        "id": "QSPCUGsBqHOM"
      }
    },
    {
      "cell_type": "code",
      "source": [],
      "metadata": {
        "id": "_mxjQYQIqFFu"
      },
      "execution_count": null,
      "outputs": []
    }
  ]
}