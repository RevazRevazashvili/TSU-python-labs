{
  "cells": [
    {
      "cell_type": "markdown",
      "metadata": {
        "id": "view-in-github",
        "colab_type": "text"
      },
      "source": [
        "<a href=\"https://colab.research.google.com/github/RevazRevazashvili/TSU-python-labs/blob/main/Lab_10_NumPy.ipynb\" target=\"_parent\"><img src=\"https://colab.research.google.com/assets/colab-badge.svg\" alt=\"Open In Colab\"/></a>"
      ]
    },
    {
      "cell_type": "markdown",
      "metadata": {
        "id": "9jyPSjZsukc1"
      },
      "source": [
        "# [NumPy](https://numpy.org/) Tutorial\n",
        "**NumPy**-ის მთავარ ობიექტს წარმოადგენს ერთგვაროვანი(ერთი და იმავე ტიპის) მრავალგანზომილებიანი array."
      ]
    },
    {
      "cell_type": "markdown",
      "metadata": {
        "id": "_Gqw3EaGukc3"
      },
      "source": [
        "## მოდულის ჩატვირთვა"
      ]
    },
    {
      "cell_type": "code",
      "execution_count": 1,
      "metadata": {
        "ExecuteTime": {
          "end_time": "2022-02-18T17:31:59.744478Z",
          "start_time": "2022-02-18T17:31:59.652431Z"
        },
        "id": "zXyZ3q_Iukc3"
      },
      "outputs": [],
      "source": [
        "import numpy as np"
      ]
    },
    {
      "cell_type": "markdown",
      "metadata": {
        "id": "7N0O6bvGukc4"
      },
      "source": [
        "### ვერსია\n",
        "`__version__`\n",
        "\n",
        "**dunder** - Double Underscore"
      ]
    },
    {
      "cell_type": "code",
      "execution_count": 2,
      "metadata": {
        "ExecuteTime": {
          "end_time": "2022-02-18T17:31:59.759894Z",
          "start_time": "2022-02-18T17:31:59.746989Z"
        },
        "colab": {
          "base_uri": "https://localhost:8080/"
        },
        "id": "7YAz6YCCukc5",
        "outputId": "afddc356-a1c7-40bf-9909-cec72899dedd"
      },
      "outputs": [
        {
          "output_type": "stream",
          "name": "stdout",
          "text": [
            "1.25.2\n"
          ]
        }
      ],
      "source": [
        "print(np.__version__)"
      ]
    },
    {
      "cell_type": "markdown",
      "metadata": {
        "id": "VTvXGkZTukc6"
      },
      "source": [
        "### საბაზისო"
      ]
    },
    {
      "cell_type": "code",
      "execution_count": 30,
      "metadata": {
        "ExecuteTime": {
          "end_time": "2022-02-18T17:31:59.775832Z",
          "start_time": "2022-02-18T17:31:59.761116Z"
        },
        "colab": {
          "base_uri": "https://localhost:8080/"
        },
        "id": "SSJy51LEukc6",
        "outputId": "ff6464a9-8b97-4d9f-e34f-52a86138dc5f"
      },
      "outputs": [
        {
          "output_type": "stream",
          "name": "stdout",
          "text": [
            "[1 2 3 4 5 6]\n",
            "<class 'numpy.ndarray'>\n"
          ]
        }
      ],
      "source": [
        "# a = np.array([1,2,3,4,5,6], np.int32)\n",
        "a = np.array([1,2,3,4,5,6])\n",
        "print(a)\n",
        "print(type(a))"
      ]
    },
    {
      "cell_type": "code",
      "execution_count": 10,
      "metadata": {
        "ExecuteTime": {
          "end_time": "2022-02-18T17:31:59.806239Z",
          "start_time": "2022-02-18T17:31:59.792170Z"
        },
        "colab": {
          "base_uri": "https://localhost:8080/"
        },
        "id": "YNk87hwAukc7",
        "outputId": "807b0881-2362-48d4-8c4c-54471216467e"
      },
      "outputs": [
        {
          "output_type": "execute_result",
          "data": {
            "text/plain": [
              "array([1, 2, 3])"
            ]
          },
          "metadata": {},
          "execution_count": 10
        }
      ],
      "source": [
        "# ინტეჯერების მასივის შექმნა\n",
        "\n",
        "np.array((1,2,3), int)"
      ]
    },
    {
      "cell_type": "code",
      "source": [
        "# ნამდვილი რიცხვების მასივის შექმნა\n",
        "\n",
        "np.array((1,2,3), float)"
      ],
      "metadata": {
        "colab": {
          "base_uri": "https://localhost:8080/"
        },
        "id": "5KYbxQN6x7T0",
        "outputId": "204698c2-e8ef-4306-901c-1e335e1dc574"
      },
      "execution_count": 11,
      "outputs": [
        {
          "output_type": "execute_result",
          "data": {
            "text/plain": [
              "array([1., 2., 3.])"
            ]
          },
          "metadata": {},
          "execution_count": 11
        }
      ]
    },
    {
      "cell_type": "code",
      "source": [
        "# სტრიქონების მასივის შექმნა\n",
        "\n",
        "np.array(('1','2','3'), str)"
      ],
      "metadata": {
        "colab": {
          "base_uri": "https://localhost:8080/"
        },
        "id": "Klmy_XWNyBap",
        "outputId": "e5291bfe-81c0-4925-d7fa-7006ff75c0c5"
      },
      "execution_count": 17,
      "outputs": [
        {
          "output_type": "execute_result",
          "data": {
            "text/plain": [
              "array(['1', '2', '3'], dtype='<U1')"
            ]
          },
          "metadata": {},
          "execution_count": 17
        }
      ]
    },
    {
      "cell_type": "code",
      "execution_count": 18,
      "metadata": {
        "ExecuteTime": {
          "end_time": "2022-02-18T17:31:59.821533Z",
          "start_time": "2022-02-18T17:31:59.807551Z"
        },
        "id": "W6PYIbuNukc7"
      },
      "outputs": [],
      "source": [
        "# ინფორმაციის გამოტანა\n",
        "# np.info(np.array)"
      ]
    },
    {
      "cell_type": "markdown",
      "metadata": {
        "id": "b5RALZl9ukc7"
      },
      "source": [
        "#### Inspecting"
      ]
    },
    {
      "cell_type": "code",
      "execution_count": 19,
      "metadata": {
        "ExecuteTime": {
          "end_time": "2022-02-18T17:31:59.836857Z",
          "start_time": "2022-02-18T17:31:59.822715Z"
        },
        "colab": {
          "base_uri": "https://localhost:8080/"
        },
        "id": "i4cMJB4Jukc8",
        "outputId": "d437e69a-148d-43eb-b1cd-b7a0b9def2bf"
      },
      "outputs": [
        {
          "output_type": "execute_result",
          "data": {
            "text/plain": [
              "1"
            ]
          },
          "metadata": {},
          "execution_count": 19
        }
      ],
      "source": [
        "# განზომილება\n",
        "a.ndim"
      ]
    },
    {
      "cell_type": "code",
      "execution_count": 29,
      "metadata": {
        "ExecuteTime": {
          "end_time": "2022-02-18T17:31:59.851954Z",
          "start_time": "2022-02-18T17:31:59.839013Z"
        },
        "colab": {
          "base_uri": "https://localhost:8080/"
        },
        "id": "OAkeBQ2Gukc8",
        "outputId": "2b3c0574-586a-4ce2-a755-5992919e9f04"
      },
      "outputs": [
        {
          "output_type": "execute_result",
          "data": {
            "text/plain": [
              "dtype('int64')"
            ]
          },
          "metadata": {},
          "execution_count": 29
        }
      ],
      "source": [
        "# ტიპი\n",
        "a.dtype"
      ]
    },
    {
      "cell_type": "code",
      "execution_count": 32,
      "metadata": {
        "ExecuteTime": {
          "end_time": "2022-02-18T17:31:59.868101Z",
          "start_time": "2022-02-18T17:31:59.852937Z"
        },
        "colab": {
          "base_uri": "https://localhost:8080/"
        },
        "id": "7CON3d3wukc9",
        "outputId": "59fa627e-2365-4c29-9e59-afcfad659f91"
      },
      "outputs": [
        {
          "output_type": "execute_result",
          "data": {
            "text/plain": [
              "array([1., 2., 3., 4., 5., 6.])"
            ]
          },
          "metadata": {},
          "execution_count": 32
        }
      ],
      "source": [
        "a.astype('float')"
      ]
    },
    {
      "cell_type": "code",
      "execution_count": 34,
      "metadata": {
        "ExecuteTime": {
          "end_time": "2022-02-18T17:31:59.883998Z",
          "start_time": "2022-02-18T17:31:59.870500Z"
        },
        "colab": {
          "base_uri": "https://localhost:8080/"
        },
        "id": "AA9biSWFukc9",
        "outputId": "d6f7d1d0-b47e-4317-9559-0c23e06a30f5"
      },
      "outputs": [
        {
          "output_type": "execute_result",
          "data": {
            "text/plain": [
              "6"
            ]
          },
          "metadata": {},
          "execution_count": 34
        }
      ],
      "source": [
        "# ელემენტების რაოდენობა\n",
        "a.size"
      ]
    },
    {
      "cell_type": "code",
      "execution_count": 36,
      "metadata": {
        "ExecuteTime": {
          "end_time": "2022-02-18T17:31:59.899518Z",
          "start_time": "2022-02-18T17:31:59.884981Z"
        },
        "colab": {
          "base_uri": "https://localhost:8080/"
        },
        "id": "c76BhbiYukc-",
        "outputId": "0ca0b2c8-b518-4b22-8b4c-88ddddd8c0f6"
      },
      "outputs": [
        {
          "output_type": "execute_result",
          "data": {
            "text/plain": [
              "8"
            ]
          },
          "metadata": {},
          "execution_count": 36
        }
      ],
      "source": [
        "# თითოეული ელემენტის ბიტური ზომა\n",
        "a.itemsize"
      ]
    },
    {
      "cell_type": "code",
      "execution_count": 37,
      "metadata": {
        "ExecuteTime": {
          "end_time": "2022-02-18T17:31:59.915121Z",
          "start_time": "2022-02-18T17:31:59.901029Z"
        },
        "colab": {
          "base_uri": "https://localhost:8080/"
        },
        "id": "UdIO2PJzukc-",
        "outputId": "28be54c9-d374-49eb-a9b6-a3ecb23d5c1c"
      },
      "outputs": [
        {
          "output_type": "execute_result",
          "data": {
            "text/plain": [
              "48"
            ]
          },
          "metadata": {},
          "execution_count": 37
        }
      ],
      "source": [
        "# ბაიტების საერთო ზომა( ყველა ელემენტის ბაიტების ჯამი)\n",
        "a.nbytes"
      ]
    },
    {
      "cell_type": "code",
      "execution_count": 38,
      "metadata": {
        "ExecuteTime": {
          "end_time": "2022-02-18T17:31:59.930824Z",
          "start_time": "2022-02-18T17:31:59.916124Z"
        },
        "colab": {
          "base_uri": "https://localhost:8080/"
        },
        "id": "ijWnMGlqukc-",
        "outputId": "68b13f06-516d-40ec-c6d8-15cb09a351b7"
      },
      "outputs": [
        {
          "output_type": "execute_result",
          "data": {
            "text/plain": [
              "(6,)"
            ]
          },
          "metadata": {},
          "execution_count": 38
        }
      ],
      "source": [
        "a.shape"
      ]
    },
    {
      "cell_type": "code",
      "source": [
        "c = set([1,2,3])"
      ],
      "metadata": {
        "id": "D9dHYI5i20XO"
      },
      "execution_count": 40,
      "outputs": []
    },
    {
      "cell_type": "code",
      "source": [
        "set_array = np.array(c)"
      ],
      "metadata": {
        "id": "49yoIKLI251N"
      },
      "execution_count": 41,
      "outputs": []
    },
    {
      "cell_type": "code",
      "execution_count": 42,
      "metadata": {
        "ExecuteTime": {
          "end_time": "2022-02-18T17:31:59.946782Z",
          "start_time": "2022-02-18T17:31:59.932238Z"
        },
        "id": "SG53-jnPukc_"
      },
      "outputs": [],
      "source": [
        "st_array = np.array(['a', 'b'])"
      ]
    },
    {
      "cell_type": "code",
      "execution_count": 44,
      "metadata": {
        "ExecuteTime": {
          "end_time": "2022-02-18T17:31:59.962822Z",
          "start_time": "2022-02-18T17:31:59.947768Z"
        },
        "colab": {
          "base_uri": "https://localhost:8080/",
          "height": 36
        },
        "id": "El--0FPcukc_",
        "outputId": "c14b1f55-d283-4fdc-cd48-bc0f65d3c463"
      },
      "outputs": [
        {
          "output_type": "execute_result",
          "data": {
            "text/plain": [
              "'ab'"
            ],
            "application/vnd.google.colaboratory.intrinsic+json": {
              "type": "string"
            }
          },
          "metadata": {},
          "execution_count": 44
        }
      ],
      "source": [
        "''.join(st_array)"
      ]
    },
    {
      "cell_type": "markdown",
      "metadata": {
        "id": "EBJlFNtnukc_"
      },
      "source": [
        "### მასივის განზომილებები"
      ]
    },
    {
      "cell_type": "code",
      "execution_count": 45,
      "metadata": {
        "ExecuteTime": {
          "end_time": "2022-02-18T17:31:59.979042Z",
          "start_time": "2022-02-18T17:31:59.963390Z"
        },
        "colab": {
          "base_uri": "https://localhost:8080/"
        },
        "id": "DIp_eRWFukc_",
        "outputId": "248e8eed-3495-456b-9e70-90367718a9ba"
      },
      "outputs": [
        {
          "output_type": "stream",
          "name": "stdout",
          "text": [
            "[[9. 8. 7.]\n",
            " [6. 5. 4.]]\n",
            "<class 'numpy.ndarray'>\n"
          ]
        }
      ],
      "source": [
        "b = np.array([\n",
        "    [9.0,8.0,7.0],\n",
        "    [6.0,5.0,4.0]\n",
        "])\n",
        "print(b)\n",
        "print(type(b))"
      ]
    },
    {
      "cell_type": "code",
      "execution_count": 47,
      "metadata": {
        "ExecuteTime": {
          "end_time": "2022-02-18T17:31:59.994520Z",
          "start_time": "2022-02-18T17:31:59.980064Z"
        },
        "colab": {
          "base_uri": "https://localhost:8080/"
        },
        "id": "TxukNvMRukdA",
        "outputId": "4dfac13c-65ef-4a23-a843-759f0271d659"
      },
      "outputs": [
        {
          "output_type": "execute_result",
          "data": {
            "text/plain": [
              "(2, 3)"
            ]
          },
          "metadata": {},
          "execution_count": 47
        }
      ],
      "source": [
        "# მასივის განზომილება\n",
        "b.shape"
      ]
    },
    {
      "cell_type": "code",
      "execution_count": 48,
      "metadata": {
        "ExecuteTime": {
          "end_time": "2022-02-18T17:32:00.009722Z",
          "start_time": "2022-02-18T17:31:59.995764Z"
        },
        "colab": {
          "base_uri": "https://localhost:8080/"
        },
        "id": "rmwj3ugIukdA",
        "outputId": "e16a27a3-93c7-4e47-f631-b211748df32c"
      },
      "outputs": [
        {
          "output_type": "execute_result",
          "data": {
            "text/plain": [
              "6"
            ]
          },
          "metadata": {},
          "execution_count": 48
        }
      ],
      "source": [
        "b.size"
      ]
    },
    {
      "cell_type": "code",
      "source": [
        "b.nbytes"
      ],
      "metadata": {
        "colab": {
          "base_uri": "https://localhost:8080/"
        },
        "id": "VaCuZLdy3iEI",
        "outputId": "64ad7d33-c747-4052-a210-e22a08a1690f"
      },
      "execution_count": 50,
      "outputs": [
        {
          "output_type": "execute_result",
          "data": {
            "text/plain": [
              "48"
            ]
          },
          "metadata": {},
          "execution_count": 50
        }
      ]
    },
    {
      "cell_type": "code",
      "execution_count": 51,
      "metadata": {
        "ExecuteTime": {
          "end_time": "2022-02-18T17:32:00.025745Z",
          "start_time": "2022-02-18T17:32:00.011508Z"
        },
        "colab": {
          "base_uri": "https://localhost:8080/"
        },
        "id": "Azqh6MBjukdA",
        "outputId": "937e2f9e-4591-431d-94cd-58848dfd2a72"
      },
      "outputs": [
        {
          "output_type": "stream",
          "name": "stdout",
          "text": [
            "[[[1 2 3]\n",
            "  [5 3 4]]\n",
            "\n",
            " [[1 5 6]\n",
            "  [5 7 8]]]\n",
            "<class 'numpy.ndarray'>\n"
          ]
        }
      ],
      "source": [
        "c = np.array([\n",
        "    [\n",
        "        [1,2,3],\n",
        "        [5,3,4]\n",
        "    ],\n",
        "    [\n",
        "        [1,5,6],\n",
        "        [5,7,8]]\n",
        "    ]\n",
        ")\n",
        "print(c)\n",
        "print(type(c))"
      ]
    },
    {
      "cell_type": "code",
      "execution_count": 52,
      "metadata": {
        "ExecuteTime": {
          "end_time": "2022-02-18T17:32:00.041020Z",
          "start_time": "2022-02-18T17:32:00.027309Z"
        },
        "colab": {
          "base_uri": "https://localhost:8080/"
        },
        "id": "CIyDlMB6ukdA",
        "outputId": "7135c9b6-b019-438e-a220-f98ca82be6b5"
      },
      "outputs": [
        {
          "output_type": "execute_result",
          "data": {
            "text/plain": [
              "(2, 2, 3)"
            ]
          },
          "metadata": {},
          "execution_count": 52
        }
      ],
      "source": [
        "c.shape"
      ]
    },
    {
      "cell_type": "code",
      "execution_count": 53,
      "metadata": {
        "ExecuteTime": {
          "end_time": "2022-02-18T17:32:00.056903Z",
          "start_time": "2022-02-18T17:32:00.042717Z"
        },
        "colab": {
          "base_uri": "https://localhost:8080/"
        },
        "id": "aemR8SQ3ukdB",
        "outputId": "ffbd7dbe-ba57-4b38-c38e-36ff64cb04a2"
      },
      "outputs": [
        {
          "output_type": "execute_result",
          "data": {
            "text/plain": [
              "12"
            ]
          },
          "metadata": {},
          "execution_count": 53
        }
      ],
      "source": [
        "c.size"
      ]
    },
    {
      "cell_type": "code",
      "source": [
        "c.nbytes"
      ],
      "metadata": {
        "colab": {
          "base_uri": "https://localhost:8080/"
        },
        "id": "FBYPE_9L3vIM",
        "outputId": "4ffc3bca-a5c8-46b3-f479-d3ebff98d993"
      },
      "execution_count": 54,
      "outputs": [
        {
          "output_type": "execute_result",
          "data": {
            "text/plain": [
              "96"
            ]
          },
          "metadata": {},
          "execution_count": 54
        }
      ]
    },
    {
      "cell_type": "markdown",
      "metadata": {
        "id": "AUTnnDsCukdB"
      },
      "source": [
        "### ზოგიერთი მზა სტრუქტურა"
      ]
    },
    {
      "cell_type": "markdown",
      "metadata": {
        "id": "GPemM_tUukdB"
      },
      "source": [
        "#### zeros()\n",
        "`zeros()`"
      ]
    },
    {
      "cell_type": "code",
      "execution_count": 55,
      "metadata": {
        "ExecuteTime": {
          "end_time": "2022-02-18T17:32:00.073004Z",
          "start_time": "2022-02-18T17:32:00.058456Z"
        },
        "colab": {
          "base_uri": "https://localhost:8080/"
        },
        "id": "U1MwkMmxukdB",
        "outputId": "c90dcef2-01bd-4084-c426-314c1badda73"
      },
      "outputs": [
        {
          "output_type": "execute_result",
          "data": {
            "text/plain": [
              "array([[0., 0., 0., 0.],\n",
              "       [0., 0., 0., 0.],\n",
              "       [0., 0., 0., 0.]])"
            ]
          },
          "metadata": {},
          "execution_count": 55
        }
      ],
      "source": [
        "# 0-ების მატრიცა ზომიტ(3,4)\n",
        "np.zeros((3,4))"
      ]
    },
    {
      "cell_type": "markdown",
      "metadata": {
        "id": "6NbU9PuOukdB"
      },
      "source": [
        "#### ones()\n",
        "`ones()`"
      ]
    },
    {
      "cell_type": "code",
      "execution_count": 59,
      "metadata": {
        "ExecuteTime": {
          "end_time": "2022-02-18T17:32:00.087751Z",
          "start_time": "2022-02-18T17:32:00.074010Z"
        },
        "colab": {
          "base_uri": "https://localhost:8080/"
        },
        "id": "vn1W1nfOukdC",
        "outputId": "e426602a-8083-4a72-eea0-cdf975006cc2"
      },
      "outputs": [
        {
          "output_type": "execute_result",
          "data": {
            "text/plain": [
              "array([[[1, 1, 1],\n",
              "        [1, 1, 1]],\n",
              "\n",
              "       [[1, 1, 1],\n",
              "        [1, 1, 1]]], dtype=int32)"
            ]
          },
          "metadata": {},
          "execution_count": 59
        }
      ],
      "source": [
        "# 1-ების სამგანზომილებიანი მატრიცა\n",
        "np.ones([2,2,3], dtype='int32')"
      ]
    },
    {
      "cell_type": "code",
      "source": [
        "# 1-ების სამგანზომილებიანი მატრიცა\n",
        "np.ones((2,3,2), dtype='int32')"
      ],
      "metadata": {
        "colab": {
          "base_uri": "https://localhost:8080/"
        },
        "id": "MDs8orA15wqi",
        "outputId": "69d38a4a-211a-489e-d2a8-717eeb44f1dc"
      },
      "execution_count": 61,
      "outputs": [
        {
          "output_type": "execute_result",
          "data": {
            "text/plain": [
              "array([[[1, 1],\n",
              "        [1, 1],\n",
              "        [1, 1]],\n",
              "\n",
              "       [[1, 1],\n",
              "        [1, 1],\n",
              "        [1, 1]]], dtype=int32)"
            ]
          },
          "metadata": {},
          "execution_count": 61
        }
      ]
    },
    {
      "cell_type": "markdown",
      "metadata": {
        "id": "V2SyD0J6ukdC"
      },
      "source": [
        "#### identity()\n",
        "`identity()`"
      ]
    },
    {
      "cell_type": "code",
      "execution_count": null,
      "metadata": {
        "ExecuteTime": {
          "end_time": "2022-02-18T17:32:00.103061Z",
          "start_time": "2022-02-18T17:32:00.088887Z"
        },
        "id": "vMzp3ZpbukdC",
        "outputId": "98c2e25c-b9c4-4b48-8eac-7a4f74050689"
      },
      "outputs": [
        {
          "data": {
            "text/plain": [
              "array([[1., 0., 0., 0.],\n",
              "       [0., 1., 0., 0.],\n",
              "       [0., 0., 1., 0.],\n",
              "       [0., 0., 0., 1.]])"
            ]
          },
          "execution_count": 24,
          "metadata": {},
          "output_type": "execute_result"
        }
      ],
      "source": [
        "# ერთეულოვანი მატრიცა\n",
        "np.identity(4)"
      ]
    },
    {
      "cell_type": "markdown",
      "metadata": {
        "id": "D-4kh57XukdC"
      },
      "source": [
        "#### full()\n",
        "`full()`"
      ]
    },
    {
      "cell_type": "code",
      "source": [
        "# ერთი და იმავე მნიშვნელობის მატრიცა\n",
        "np.full((3), 81)"
      ],
      "metadata": {
        "colab": {
          "base_uri": "https://localhost:8080/"
        },
        "id": "1oYJ_MuN6JTk",
        "outputId": "11b32be2-37ab-479b-ad6c-a261aa67501f"
      },
      "execution_count": 63,
      "outputs": [
        {
          "output_type": "execute_result",
          "data": {
            "text/plain": [
              "array([81, 81, 81])"
            ]
          },
          "metadata": {},
          "execution_count": 63
        }
      ]
    },
    {
      "cell_type": "code",
      "execution_count": 64,
      "metadata": {
        "ExecuteTime": {
          "end_time": "2022-02-18T17:32:00.119078Z",
          "start_time": "2022-02-18T17:32:00.104043Z"
        },
        "colab": {
          "base_uri": "https://localhost:8080/"
        },
        "id": "r7y58aHkukdD",
        "outputId": "43728c0a-38af-40b0-fcca-adc7e6cd156c"
      },
      "outputs": [
        {
          "output_type": "execute_result",
          "data": {
            "text/plain": [
              "array([[81, 81, 81, 81],\n",
              "       [81, 81, 81, 81],\n",
              "       [81, 81, 81, 81]])"
            ]
          },
          "metadata": {},
          "execution_count": 64
        }
      ],
      "source": [
        "# ერთი და იმავე მნიშვნელობის მატრიცა\n",
        "np.full((3,4), 81)"
      ]
    },
    {
      "cell_type": "code",
      "source": [
        "# ერთი და იმავე მნიშვნელობის მატრიცა\n",
        "np.full((3,4,5), 81)"
      ],
      "metadata": {
        "colab": {
          "base_uri": "https://localhost:8080/"
        },
        "id": "9FqxR_y96NJI",
        "outputId": "590f5136-1ce5-4f52-b9e9-d7e57dafec2f"
      },
      "execution_count": 65,
      "outputs": [
        {
          "output_type": "execute_result",
          "data": {
            "text/plain": [
              "array([[[81, 81, 81, 81, 81],\n",
              "        [81, 81, 81, 81, 81],\n",
              "        [81, 81, 81, 81, 81],\n",
              "        [81, 81, 81, 81, 81]],\n",
              "\n",
              "       [[81, 81, 81, 81, 81],\n",
              "        [81, 81, 81, 81, 81],\n",
              "        [81, 81, 81, 81, 81],\n",
              "        [81, 81, 81, 81, 81]],\n",
              "\n",
              "       [[81, 81, 81, 81, 81],\n",
              "        [81, 81, 81, 81, 81],\n",
              "        [81, 81, 81, 81, 81],\n",
              "        [81, 81, 81, 81, 81]]])"
            ]
          },
          "metadata": {},
          "execution_count": 65
        }
      ]
    },
    {
      "cell_type": "code",
      "execution_count": 66,
      "metadata": {
        "ExecuteTime": {
          "end_time": "2022-02-18T17:32:00.134804Z",
          "start_time": "2022-02-18T17:32:00.119819Z"
        },
        "colab": {
          "base_uri": "https://localhost:8080/"
        },
        "id": "PjxyYeQGukdD",
        "outputId": "8a68b1e3-da57-4b5b-ce98-13b9b6769156"
      },
      "outputs": [
        {
          "output_type": "stream",
          "name": "stdout",
          "text": [
            "[1 2 3 4 5 6]\n"
          ]
        },
        {
          "output_type": "execute_result",
          "data": {
            "text/plain": [
              "array([5, 5, 5, 5, 5, 5])"
            ]
          },
          "metadata": {},
          "execution_count": 66
        }
      ],
      "source": [
        "print(a)\n",
        "np.full(a.shape, 5)"
      ]
    },
    {
      "cell_type": "markdown",
      "metadata": {
        "id": "ZhbkcHgvukdD"
      },
      "source": [
        "#### full_like()\n",
        "`full_like()`"
      ]
    },
    {
      "cell_type": "code",
      "execution_count": 67,
      "metadata": {
        "ExecuteTime": {
          "end_time": "2022-02-18T17:32:00.150087Z",
          "start_time": "2022-02-18T17:32:00.136350Z"
        },
        "colab": {
          "base_uri": "https://localhost:8080/"
        },
        "id": "-mrDhXvWukdQ",
        "outputId": "d2dc237b-b7aa-4005-8034-779b8f042d4f"
      },
      "outputs": [
        {
          "output_type": "stream",
          "name": "stdout",
          "text": [
            "[1 2 3 4 5 6]\n"
          ]
        },
        {
          "output_type": "execute_result",
          "data": {
            "text/plain": [
              "array([5, 5, 5, 5, 5, 5])"
            ]
          },
          "metadata": {},
          "execution_count": 67
        }
      ],
      "source": [
        "# გადაცემული პარამეტრის მსგავსი ახალი მატრიცა შევსებული პარამეტრის მნიშვნელობით\n",
        "print(a)\n",
        "np.full_like(a, 5)"
      ]
    },
    {
      "cell_type": "code",
      "source": [
        "s = 'aba'\n",
        "np.full_like(s, 4)"
      ],
      "metadata": {
        "colab": {
          "base_uri": "https://localhost:8080/"
        },
        "id": "Qfg-cEyp7HFQ",
        "outputId": "b9ac3b12-feaf-4468-913d-61a7108a59b5"
      },
      "execution_count": 68,
      "outputs": [
        {
          "output_type": "execute_result",
          "data": {
            "text/plain": [
              "array('4', dtype='<U3')"
            ]
          },
          "metadata": {},
          "execution_count": 68
        }
      ]
    },
    {
      "cell_type": "markdown",
      "metadata": {
        "id": "2HRjdStyukdQ"
      },
      "source": [
        "#### repeat()\n",
        "`repeat()`"
      ]
    },
    {
      "cell_type": "code",
      "execution_count": 74,
      "metadata": {
        "ExecuteTime": {
          "end_time": "2022-02-18T17:32:00.165574Z",
          "start_time": "2022-02-18T17:32:00.153995Z"
        },
        "colab": {
          "base_uri": "https://localhost:8080/"
        },
        "id": "Bl-1ghvzukdR",
        "outputId": "77042407-6d9d-40b7-9829-c624dadc603a"
      },
      "outputs": [
        {
          "output_type": "stream",
          "name": "stdout",
          "text": [
            "(1, 3)\n",
            "[[1 2 3]\n",
            " [1 2 3]\n",
            " [1 2 3]\n",
            " [1 2 3]\n",
            " [1 2 3]]\n"
          ]
        }
      ],
      "source": [
        "# მასივის გამეორება\n",
        "arr = np.array([\n",
        "    [1,2,3]\n",
        "])\n",
        "print(arr.shape)\n",
        "r1 = np.repeat(arr, 5, axis=0)\n",
        "print(r1)"
      ]
    },
    {
      "cell_type": "code",
      "source": [
        "# მასივის გამეორება\n",
        "arr = np.array([\n",
        "    [1,2,3],\n",
        "    [4,5,6]\n",
        "])\n",
        "print(arr.shape)\n",
        "r1 = np.repeat(arr, 5, axis=1)\n",
        "print(r1)"
      ],
      "metadata": {
        "colab": {
          "base_uri": "https://localhost:8080/"
        },
        "id": "GOtUQ2hx7sJj",
        "outputId": "378d928c-4148-46a3-af53-c345e066da8d"
      },
      "execution_count": 82,
      "outputs": [
        {
          "output_type": "stream",
          "name": "stdout",
          "text": [
            "(2, 3)\n",
            "[[1 1 1 1 1 2 2 2 2 2 3 3 3 3 3]\n",
            " [4 4 4 4 4 5 5 5 5 5 6 6 6 6 6]]\n"
          ]
        }
      ]
    },
    {
      "cell_type": "code",
      "execution_count": 85,
      "metadata": {
        "ExecuteTime": {
          "end_time": "2022-02-18T17:32:00.180808Z",
          "start_time": "2022-02-18T17:32:00.166583Z"
        },
        "colab": {
          "base_uri": "https://localhost:8080/"
        },
        "id": "8dHtcahiukdR",
        "outputId": "b98fd468-e87f-45ce-c3f4-ae58ae07ee61"
      },
      "outputs": [
        {
          "output_type": "stream",
          "name": "stdout",
          "text": [
            "[1 1 1 2 2 2 3 3 3]\n"
          ]
        }
      ],
      "source": [
        "# მასივების გამეორება\n",
        "arr = np.array([1,2,3])\n",
        "r1 = np.repeat(arr, 3, axis=0)\n",
        "print(r1)"
      ]
    },
    {
      "cell_type": "markdown",
      "metadata": {
        "id": "WPeJzixyukdR"
      },
      "source": [
        "#### linspace()\n",
        "`linspace()`"
      ]
    },
    {
      "cell_type": "code",
      "execution_count": 89,
      "metadata": {
        "ExecuteTime": {
          "end_time": "2022-02-18T17:32:00.196018Z",
          "start_time": "2022-02-18T17:32:00.181898Z"
        },
        "colab": {
          "base_uri": "https://localhost:8080/"
        },
        "id": "U9Q_jSHkukdR",
        "outputId": "33dbcf18-ae94-46c9-d39a-d0d79e5cfa3a"
      },
      "outputs": [
        {
          "output_type": "execute_result",
          "data": {
            "text/plain": [
              "array([  0.,  10.,  20.,  30.,  40.,  50.,  60.,  70.,  80.,  90., 100.])"
            ]
          },
          "metadata": {},
          "execution_count": 89
        }
      ],
      "source": [
        "np.linspace(0,100,11) # წერტილების აღება თანაბარი დაშორებებით"
      ]
    },
    {
      "cell_type": "code",
      "execution_count": 90,
      "metadata": {
        "ExecuteTime": {
          "end_time": "2022-02-18T17:32:00.211903Z",
          "start_time": "2022-02-18T17:32:00.196539Z"
        },
        "colab": {
          "base_uri": "https://localhost:8080/"
        },
        "id": "6P0dKFO6ukdR",
        "outputId": "8c85fcc5-2437-40fc-d006-ccf39b6c7040"
      },
      "outputs": [
        {
          "output_type": "execute_result",
          "data": {
            "text/plain": [
              "array([10., 20., 30., 40., 50., 60., 70., 80., 90.])"
            ]
          },
          "metadata": {},
          "execution_count": 90
        }
      ],
      "source": [
        "np.linspace(0,100,11)[1:-1]"
      ]
    },
    {
      "cell_type": "code",
      "execution_count": 91,
      "metadata": {
        "ExecuteTime": {
          "end_time": "2022-02-18T17:32:00.227330Z",
          "start_time": "2022-02-18T17:32:00.213932Z"
        },
        "colab": {
          "base_uri": "https://localhost:8080/"
        },
        "id": "4zF-q03DukdS",
        "outputId": "6d694a02-0519-4366-c09c-d6f747453c55"
      },
      "outputs": [
        {
          "output_type": "execute_result",
          "data": {
            "text/plain": [
              "array([ 0., 10., 20., 30., 40., 50., 60., 70., 80., 90.])"
            ]
          },
          "metadata": {},
          "execution_count": 91
        }
      ],
      "source": [
        "np.linspace(0,100,10,endpoint=False)"
      ]
    },
    {
      "cell_type": "code",
      "execution_count": 92,
      "metadata": {
        "ExecuteTime": {
          "end_time": "2022-02-18T17:32:00.242191Z",
          "start_time": "2022-02-18T17:32:00.228147Z"
        },
        "colab": {
          "base_uri": "https://localhost:8080/"
        },
        "id": "DxU6eDFUukdS",
        "outputId": "de6b5f4b-1e2d-4480-cea7-16f5ebb6f343"
      },
      "outputs": [
        {
          "output_type": "execute_result",
          "data": {
            "text/plain": [
              "array([10., 20., 30., 40., 50., 60., 70., 80., 90.])"
            ]
          },
          "metadata": {},
          "execution_count": 92
        }
      ],
      "source": [
        "np.linspace(0,100,10,endpoint=False)[1:]"
      ]
    },
    {
      "cell_type": "markdown",
      "metadata": {
        "id": "cE0oVya2ukdS"
      },
      "source": [
        "#### arange()\n",
        "პითონის `range()` ფუნქციის მსგავსად, **NumPy**-საც აქვს ფუნქცია `arange()`"
      ]
    },
    {
      "cell_type": "code",
      "execution_count": 97,
      "metadata": {
        "ExecuteTime": {
          "end_time": "2022-02-18T17:32:00.258020Z",
          "start_time": "2022-02-18T17:32:00.243176Z"
        },
        "colab": {
          "base_uri": "https://localhost:8080/"
        },
        "id": "d1KZ7MTTukdS",
        "outputId": "728b9a48-5169-45a8-c14c-47020f653f0e"
      },
      "outputs": [
        {
          "output_type": "execute_result",
          "data": {
            "text/plain": [
              "array([0, 1, 2, 3, 4, 5, 6, 7, 8, 9])"
            ]
          },
          "metadata": {},
          "execution_count": 97
        }
      ],
      "source": [
        "np.arange(10)"
      ]
    },
    {
      "cell_type": "code",
      "execution_count": 98,
      "metadata": {
        "ExecuteTime": {
          "end_time": "2022-02-18T17:32:00.273052Z",
          "start_time": "2022-02-18T17:32:00.258982Z"
        },
        "colab": {
          "base_uri": "https://localhost:8080/"
        },
        "id": "sxzUyhk1ukdS",
        "outputId": "2591cc76-dfd9-4953-a2ba-f1ab00c268e9"
      },
      "outputs": [
        {
          "output_type": "execute_result",
          "data": {
            "text/plain": [
              "array([5, 6, 7, 8, 9])"
            ]
          },
          "metadata": {},
          "execution_count": 98
        }
      ],
      "source": [
        "np.arange(5,10)"
      ]
    },
    {
      "cell_type": "code",
      "execution_count": 99,
      "metadata": {
        "ExecuteTime": {
          "end_time": "2022-02-18T17:32:00.288293Z",
          "start_time": "2022-02-18T17:32:00.274137Z"
        },
        "colab": {
          "base_uri": "https://localhost:8080/"
        },
        "id": "bMrPdlFdukdT",
        "outputId": "fc33e3cd-eb5f-4069-e0e7-33ca8c5616b6"
      },
      "outputs": [
        {
          "output_type": "execute_result",
          "data": {
            "text/plain": [
              "array([0, 3, 6, 9])"
            ]
          },
          "metadata": {},
          "execution_count": 99
        }
      ],
      "source": [
        "np.arange(0,10,3)"
      ]
    },
    {
      "cell_type": "markdown",
      "metadata": {
        "id": "puG3fQAOukdT"
      },
      "source": [
        "### Randomization"
      ]
    },
    {
      "cell_type": "code",
      "execution_count": 100,
      "metadata": {
        "ExecuteTime": {
          "end_time": "2022-02-18T17:32:00.303707Z",
          "start_time": "2022-02-18T17:32:00.289539Z"
        },
        "colab": {
          "base_uri": "https://localhost:8080/"
        },
        "id": "o0AAHWP1ukdT",
        "outputId": "cafcd294-9960-442b-d74a-b529723e135b"
      },
      "outputs": [
        {
          "output_type": "execute_result",
          "data": {
            "text/plain": [
              "array([[0.15330253, 0.6694603 ],\n",
              "       [0.94289064, 0.83683712],\n",
              "       [0.47681657, 0.95054415],\n",
              "       [0.34653164, 0.83223614]])"
            ]
          },
          "metadata": {},
          "execution_count": 100
        }
      ],
      "source": [
        "# შემთხვევითი ათწილადი რიცხვები\n",
        "np.random.rand(4,2)"
      ]
    },
    {
      "cell_type": "code",
      "execution_count": 101,
      "metadata": {
        "ExecuteTime": {
          "end_time": "2022-02-18T17:32:00.319795Z",
          "start_time": "2022-02-18T17:32:00.304769Z"
        },
        "colab": {
          "base_uri": "https://localhost:8080/"
        },
        "id": "c8Tx-uy4ukdT",
        "outputId": "218e0479-618c-4459-eee8-4289c7f74c06"
      },
      "outputs": [
        {
          "output_type": "execute_result",
          "data": {
            "text/plain": [
              "array([[0.5099031 , 0.32291874],\n",
              "       [0.71795629, 0.86541751],\n",
              "       [0.76632797, 0.152279  ],\n",
              "       [0.92707694, 0.17701153]])"
            ]
          },
          "metadata": {},
          "execution_count": 101
        }
      ],
      "source": [
        "np.random.rand(4,2)"
      ]
    },
    {
      "cell_type": "code",
      "execution_count": 104,
      "metadata": {
        "ExecuteTime": {
          "end_time": "2022-02-18T17:32:00.335166Z",
          "start_time": "2022-02-18T17:32:00.320818Z"
        },
        "colab": {
          "base_uri": "https://localhost:8080/"
        },
        "id": "sqjjabnQukdU",
        "outputId": "bb11260b-8a6c-430c-a2de-ba60a62aa7f4"
      },
      "outputs": [
        {
          "output_type": "execute_result",
          "data": {
            "text/plain": [
              "array([[0.5488135 , 0.71518937],\n",
              "       [0.60276338, 0.54488318],\n",
              "       [0.4236548 , 0.64589411],\n",
              "       [0.43758721, 0.891773  ]])"
            ]
          },
          "metadata": {},
          "execution_count": 104
        }
      ],
      "source": [
        "np.random.seed(0)\n",
        "np.random.rand(4,2)"
      ]
    },
    {
      "cell_type": "code",
      "execution_count": 105,
      "metadata": {
        "ExecuteTime": {
          "end_time": "2022-02-18T17:32:00.350385Z",
          "start_time": "2022-02-18T17:32:00.336261Z"
        },
        "colab": {
          "base_uri": "https://localhost:8080/"
        },
        "id": "KaWSIx39ukdU",
        "outputId": "6125b376-923c-4d02-e51a-0eaf8eaa1e05"
      },
      "outputs": [
        {
          "output_type": "execute_result",
          "data": {
            "text/plain": [
              "array([[0.5488135 , 0.71518937],\n",
              "       [0.60276338, 0.54488318],\n",
              "       [0.4236548 , 0.64589411],\n",
              "       [0.43758721, 0.891773  ]])"
            ]
          },
          "metadata": {},
          "execution_count": 105
        }
      ],
      "source": [
        "np.random.seed(0)\n",
        "np.random.rand(4,2)"
      ]
    },
    {
      "cell_type": "code",
      "execution_count": null,
      "metadata": {
        "id": "hX1y6fK9ukdU"
      },
      "outputs": [],
      "source": []
    },
    {
      "cell_type": "code",
      "execution_count": 106,
      "metadata": {
        "ExecuteTime": {
          "end_time": "2022-02-18T17:32:00.366274Z",
          "start_time": "2022-02-18T17:32:00.351837Z"
        },
        "colab": {
          "base_uri": "https://localhost:8080/"
        },
        "id": "j5opc-NZukdV",
        "outputId": "96d2ed4d-f6f3-4cf6-ffba-9de35ab526bf"
      },
      "outputs": [
        {
          "output_type": "execute_result",
          "data": {
            "text/plain": [
              "array([[ 1, -4, -1,  7, -1],\n",
              "       [ 3,  5, -1,  1, -2],\n",
              "       [ 0,  3,  2,  4,  4],\n",
              "       [ 6, -3,  2,  3,  3],\n",
              "       [ 4, -3,  1,  5,  4]])"
            ]
          },
          "metadata": {},
          "execution_count": 106
        }
      ],
      "source": [
        "# შემთხვევითი მთელი რიცხვები\n",
        "np.random.seed(0)\n",
        "np.random.randint(-4,8, size=(5,5))"
      ]
    },
    {
      "cell_type": "markdown",
      "metadata": {
        "id": "vMWGSbo7ukdV"
      },
      "source": [
        "### მასივების კოპირება"
      ]
    },
    {
      "cell_type": "code",
      "execution_count": 111,
      "metadata": {
        "ExecuteTime": {
          "end_time": "2022-02-18T17:32:00.382037Z",
          "start_time": "2022-02-18T17:32:00.368466Z"
        },
        "colab": {
          "base_uri": "https://localhost:8080/"
        },
        "id": "B_fZ0bSEukdV",
        "outputId": "66615756-28a8-41b9-e7d5-7fa8903e1fbe"
      },
      "outputs": [
        {
          "output_type": "stream",
          "name": "stdout",
          "text": [
            "before:\n",
            "a [1 2 3]\n",
            "b [1 2 3]\n",
            "c [1 2 3]\n",
            "after b:\n",
            "a [1 2 3]\n",
            "b [100   2   3]\n",
            "c [1 2 3]\n",
            "after c:\n",
            "a [10  2  3]\n",
            "b [100   2   3]\n",
            "c [10  2  3]\n"
          ]
        }
      ],
      "source": [
        "a = np.array([1,2,3])\n",
        "b = a.copy()\n",
        "c = a\n",
        "\n",
        "print(\"before:\")\n",
        "print(\"a\", a)\n",
        "print(\"b\", b)\n",
        "print(\"c\", c)\n",
        "\n",
        "b[0] = 100\n",
        "print(\"after b:\")\n",
        "print(\"a\", a)\n",
        "print(\"b\", b)\n",
        "print(\"c\", c)\n",
        "\n",
        "c[0] = 10\n",
        "\n",
        "print(\"after c:\")\n",
        "print(\"a\", a)\n",
        "print(\"b\", b)\n",
        "print(\"c\", c)"
      ]
    },
    {
      "cell_type": "code",
      "source": [
        "# a = [1,2,3]\n",
        "# b = a.copy()\n",
        "# c = a\n",
        "# c[0]=4\n",
        "# a,b,c"
      ],
      "metadata": {
        "colab": {
          "base_uri": "https://localhost:8080/"
        },
        "id": "FK1udQxQIg0K",
        "outputId": "343966d2-3768-4635-9a2e-903f5d81eded"
      },
      "execution_count": 109,
      "outputs": [
        {
          "output_type": "execute_result",
          "data": {
            "text/plain": [
              "([4, 2, 3], [1, 2, 3], [4, 2, 3])"
            ]
          },
          "metadata": {},
          "execution_count": 109
        }
      ]
    },
    {
      "cell_type": "markdown",
      "metadata": {
        "id": "EzXXGpvaukdV"
      },
      "source": [
        "#### .tolist()\n",
        "`tolist()`"
      ]
    },
    {
      "cell_type": "code",
      "execution_count": 112,
      "metadata": {
        "ExecuteTime": {
          "end_time": "2022-02-18T17:32:00.397682Z",
          "start_time": "2022-02-18T17:32:00.383136Z"
        },
        "colab": {
          "base_uri": "https://localhost:8080/"
        },
        "id": "1SIbEZtJukdV",
        "outputId": "f406999d-5a81-4bd7-9414-21261aec9a85"
      },
      "outputs": [
        {
          "output_type": "stream",
          "name": "stdout",
          "text": [
            "[10  2  3]\n"
          ]
        },
        {
          "output_type": "execute_result",
          "data": {
            "text/plain": [
              "list"
            ]
          },
          "metadata": {},
          "execution_count": 112
        }
      ],
      "source": [
        "print(c)\n",
        "type(c.tolist())"
      ]
    },
    {
      "cell_type": "markdown",
      "metadata": {
        "id": "rfFkBU8nukdW"
      },
      "source": [
        "## ელემენტებზე წვდომა და ცვლილება"
      ]
    },
    {
      "cell_type": "markdown",
      "metadata": {
        "id": "z9Ib4gKWukdW"
      },
      "source": [
        "### წვდომა"
      ]
    },
    {
      "cell_type": "code",
      "execution_count": null,
      "metadata": {
        "ExecuteTime": {
          "end_time": "2022-02-18T17:32:00.412990Z",
          "start_time": "2022-02-18T17:32:00.399662Z"
        },
        "id": "GRwrMnH3ukdW",
        "outputId": "890b373b-53a4-4050-d54d-5197c8c324c4"
      },
      "outputs": [
        {
          "data": {
            "text/plain": [
              "[2, 3, 4]"
            ]
          },
          "execution_count": 44,
          "metadata": {},
          "output_type": "execute_result"
        }
      ],
      "source": [
        "l = [1,2,3,4,5]\n",
        "l[1:-1]"
      ]
    },
    {
      "cell_type": "code",
      "execution_count": 114,
      "metadata": {
        "ExecuteTime": {
          "end_time": "2022-02-18T17:32:00.428107Z",
          "start_time": "2022-02-18T17:32:00.413490Z"
        },
        "colab": {
          "base_uri": "https://localhost:8080/"
        },
        "id": "mCRZRbFTukdW",
        "outputId": "f0f44e10-2732-42e6-df59-ac7783b922fa"
      },
      "outputs": [
        {
          "output_type": "stream",
          "name": "stdout",
          "text": [
            "[[ 1  2  3  4  5  6  7]\n",
            " [ 8  9 10 11 12 13 14]]\n"
          ]
        }
      ],
      "source": [
        "a = np.array([[1,2,3,4,5,6,7],[8,9,10,11,12,13,14]])\n",
        "print(a)"
      ]
    },
    {
      "cell_type": "code",
      "execution_count": 115,
      "metadata": {
        "ExecuteTime": {
          "end_time": "2022-02-18T17:32:00.443524Z",
          "start_time": "2022-02-18T17:32:00.430107Z"
        },
        "colab": {
          "base_uri": "https://localhost:8080/"
        },
        "id": "LirJYEzaukdW",
        "outputId": "590033d6-f8e4-46aa-c3f2-d74e9b92e94e"
      },
      "outputs": [
        {
          "output_type": "execute_result",
          "data": {
            "text/plain": [
              "13"
            ]
          },
          "metadata": {},
          "execution_count": 115
        }
      ],
      "source": [
        "# ელემენტის დაბრუნება ინდექსით [r, c]\n",
        "a[1, 5]"
      ]
    },
    {
      "cell_type": "code",
      "execution_count": 116,
      "metadata": {
        "ExecuteTime": {
          "end_time": "2022-02-18T17:32:00.459165Z",
          "start_time": "2022-02-18T17:32:00.445565Z"
        },
        "colab": {
          "base_uri": "https://localhost:8080/"
        },
        "id": "egSXrVydukdX",
        "outputId": "07645acc-523f-4a12-c2c6-51e2ed708e41"
      },
      "outputs": [
        {
          "output_type": "execute_result",
          "data": {
            "text/plain": [
              "array([1, 2, 3, 4, 5, 6, 7])"
            ]
          },
          "metadata": {},
          "execution_count": 116
        }
      ],
      "source": [
        "# სტრიქონის დაბრუნება\n",
        "a[0, :]"
      ]
    },
    {
      "cell_type": "code",
      "execution_count": 117,
      "metadata": {
        "ExecuteTime": {
          "end_time": "2022-02-18T17:32:00.475209Z",
          "start_time": "2022-02-18T17:32:00.460950Z"
        },
        "colab": {
          "base_uri": "https://localhost:8080/"
        },
        "id": "cGsfH4YpukdX",
        "outputId": "6f771683-3011-442d-d88b-d112d3bd1bb5"
      },
      "outputs": [
        {
          "output_type": "execute_result",
          "data": {
            "text/plain": [
              "array([1, 2, 3, 4, 5, 6, 7])"
            ]
          },
          "metadata": {},
          "execution_count": 117
        }
      ],
      "source": [
        "a[0]"
      ]
    },
    {
      "cell_type": "code",
      "execution_count": 118,
      "metadata": {
        "ExecuteTime": {
          "end_time": "2022-02-18T17:32:00.490461Z",
          "start_time": "2022-02-18T17:32:00.476346Z"
        },
        "colab": {
          "base_uri": "https://localhost:8080/"
        },
        "id": "nYlVZgSWukdX",
        "outputId": "4b06d623-0e4d-4bbc-9fe6-f9ba614aedec"
      },
      "outputs": [
        {
          "output_type": "execute_result",
          "data": {
            "text/plain": [
              "array([ 3, 10])"
            ]
          },
          "metadata": {},
          "execution_count": 118
        }
      ],
      "source": [
        "# სვეტის დაბრუნება\n",
        "a[:, 2]"
      ]
    },
    {
      "cell_type": "code",
      "execution_count": 119,
      "metadata": {
        "ExecuteTime": {
          "end_time": "2022-02-18T17:32:00.505565Z",
          "start_time": "2022-02-18T17:32:00.491547Z"
        },
        "colab": {
          "base_uri": "https://localhost:8080/"
        },
        "id": "1uTwF8EJukdX",
        "outputId": "c7e5d7cd-01f7-4147-bc6b-581556e13c97"
      },
      "outputs": [
        {
          "output_type": "stream",
          "name": "stdout",
          "text": [
            "[[ 1  2  3  4  5  6  7]\n",
            " [ 8  9 10 11 12 13 14]]\n"
          ]
        },
        {
          "output_type": "execute_result",
          "data": {
            "text/plain": [
              "array([2, 4, 6])"
            ]
          },
          "metadata": {},
          "execution_count": 119
        }
      ],
      "source": [
        "print(a)\n",
        "# [startindex:endindex:stepsize]\n",
        "a[0, 1:-1:2]"
      ]
    },
    {
      "cell_type": "markdown",
      "metadata": {
        "id": "UZxdi8-CukdY"
      },
      "source": [
        "### Changing"
      ]
    },
    {
      "cell_type": "code",
      "source": [
        "a = np.array([[1,2,3,4,5,6,7],[8,9,10,11,12,13,14]])"
      ],
      "metadata": {
        "id": "sdMyuAE5hOi8"
      },
      "execution_count": 122,
      "outputs": []
    },
    {
      "cell_type": "code",
      "execution_count": 123,
      "metadata": {
        "ExecuteTime": {
          "end_time": "2022-02-18T17:32:00.521062Z",
          "start_time": "2022-02-18T17:32:00.506727Z"
        },
        "colab": {
          "base_uri": "https://localhost:8080/"
        },
        "id": "-ojGWCr5ukdY",
        "outputId": "885b3c60-1714-4d55-9d59-c28d768c7fcd"
      },
      "outputs": [
        {
          "output_type": "stream",
          "name": "stdout",
          "text": [
            "before:\n",
            " [[ 1  2  3  4  5  6  7]\n",
            " [ 8  9 10 11 12 13 14]]\n",
            "after:\n",
            " [[ 1  2  3  4  5  6  7]\n",
            " [ 8  9 10 11 12 20 14]]\n"
          ]
        }
      ],
      "source": [
        "print(\"before:\\n\", a)\n",
        "a[1][5] = 20\n",
        "print(\"after:\\n\", a)"
      ]
    },
    {
      "cell_type": "code",
      "source": [
        "a = np.array([[1,2,3,4,5,6,7],[8,9,10,11,12,13,14]])"
      ],
      "metadata": {
        "id": "HkC82iJwhZcM"
      },
      "execution_count": 125,
      "outputs": []
    },
    {
      "cell_type": "code",
      "source": [
        "print(\"before:\\n\", a)\n",
        "a[1,5] = 20\n",
        "print(\"after:\\n\", a)"
      ],
      "metadata": {
        "colab": {
          "base_uri": "https://localhost:8080/"
        },
        "id": "4Upt1NDBhWJQ",
        "outputId": "a2e98fc9-40da-4825-b15b-db1454fb71e5"
      },
      "execution_count": 126,
      "outputs": [
        {
          "output_type": "stream",
          "name": "stdout",
          "text": [
            "before:\n",
            " [[ 1  2  3  4  5  6  7]\n",
            " [ 8  9 10 11 12 13 14]]\n",
            "after:\n",
            " [[ 1  2  3  4  5  6  7]\n",
            " [ 8  9 10 11 12 20 14]]\n"
          ]
        }
      ]
    },
    {
      "cell_type": "code",
      "execution_count": null,
      "metadata": {
        "ExecuteTime": {
          "end_time": "2022-02-18T17:32:00.536834Z",
          "start_time": "2022-02-18T17:32:00.521811Z"
        },
        "id": "Pe0u8x10ukdY",
        "outputId": "0367c4af-e83a-49fc-9160-e4a4d63e4b53"
      },
      "outputs": [
        {
          "name": "stdout",
          "output_type": "stream",
          "text": [
            "before:\n",
            " [[ 1  2  3  4  5  6  7]\n",
            " [ 8  9 10 11 12 20 14]]\n",
            "after:\n",
            " [[ 1  2  3  3  5  6  7]\n",
            " [ 8  9 10  3 12 20 14]]\n"
          ]
        }
      ],
      "source": [
        "print(\"before:\\n\", a)\n",
        "a[:,3] = 3\n",
        "print(\"after:\\n\", a)"
      ]
    },
    {
      "cell_type": "code",
      "execution_count": 129,
      "metadata": {
        "ExecuteTime": {
          "end_time": "2022-02-18T17:32:00.552832Z",
          "start_time": "2022-02-18T17:32:00.537817Z"
        },
        "colab": {
          "base_uri": "https://localhost:8080/"
        },
        "id": "stAfuuA2ukdY",
        "outputId": "07029065-cba5-4b0c-de34-188506f32cd7"
      },
      "outputs": [
        {
          "output_type": "stream",
          "name": "stdout",
          "text": [
            "before:\n",
            " [[   1    2 1000    4    5    6    7]\n",
            " [   8    9 2000   11   12   20   14]]\n",
            "after:\n",
            " [[   1    2 1000    4    5    6    7]\n",
            " [   8    9 2000   11   12   20   14]]\n"
          ]
        }
      ],
      "source": [
        "print(\"before:\\n\", a)\n",
        "a[:,2] = [1000,2000]\n",
        "print(\"after:\\n\", a)"
      ]
    },
    {
      "cell_type": "code",
      "source": [
        "print(\"before:\\n\", a)\n",
        "a[:,2] = (1000,2000)\n",
        "print(\"after:\\n\", a)"
      ],
      "metadata": {
        "colab": {
          "base_uri": "https://localhost:8080/"
        },
        "id": "60CRq9TFkRkY",
        "outputId": "5f71468a-7c93-4279-ab9d-2fa7c5a68214"
      },
      "execution_count": 130,
      "outputs": [
        {
          "output_type": "stream",
          "name": "stdout",
          "text": [
            "before:\n",
            " [[   1    2 1000    4    5    6    7]\n",
            " [   8    9 2000   11   12   20   14]]\n",
            "after:\n",
            " [[   1    2 1000    4    5    6    7]\n",
            " [   8    9 2000   11   12   20   14]]\n"
          ]
        }
      ]
    },
    {
      "cell_type": "markdown",
      "metadata": {
        "id": "rEOVjfiWukdY"
      },
      "source": [
        "*3-d მაგალითი"
      ]
    },
    {
      "cell_type": "code",
      "execution_count": 131,
      "metadata": {
        "ExecuteTime": {
          "end_time": "2022-02-18T17:32:00.568160Z",
          "start_time": "2022-02-18T17:32:00.553662Z"
        },
        "colab": {
          "base_uri": "https://localhost:8080/"
        },
        "id": "UcMJCHoaukdZ",
        "outputId": "e9f48075-26a4-4dc3-c04c-5e2d73d81c9f"
      },
      "outputs": [
        {
          "output_type": "stream",
          "name": "stdout",
          "text": [
            "[[[1 2]\n",
            "  [3 4]]\n",
            "\n",
            " [[5 6]\n",
            "  [7 8]]]\n",
            "shape: (2, 2, 2)\n"
          ]
        }
      ],
      "source": [
        "b = np.array([[[1,2],[3,4]],[[5,6],[7,8]]])\n",
        "print(b)\n",
        "print(\"shape:\", b.shape)"
      ]
    },
    {
      "cell_type": "code",
      "execution_count": 132,
      "metadata": {
        "ExecuteTime": {
          "end_time": "2022-02-18T17:32:00.583624Z",
          "start_time": "2022-02-18T17:32:00.569217Z"
        },
        "colab": {
          "base_uri": "https://localhost:8080/"
        },
        "id": "Br50H3FVukdZ",
        "outputId": "64cd120d-c498-4ca3-f8e6-eb855a82a8d9"
      },
      "outputs": [
        {
          "output_type": "execute_result",
          "data": {
            "text/plain": [
              "4"
            ]
          },
          "metadata": {},
          "execution_count": 132
        }
      ],
      "source": [
        "# ელემენტის მიღება\n",
        "b[0,1,1]"
      ]
    },
    {
      "cell_type": "code",
      "execution_count": 134,
      "metadata": {
        "ExecuteTime": {
          "end_time": "2022-02-18T17:32:00.599209Z",
          "start_time": "2022-02-18T17:32:00.585183Z"
        },
        "colab": {
          "base_uri": "https://localhost:8080/"
        },
        "id": "ZPolGRHfukdZ",
        "outputId": "6bf56bfc-6158-4a07-b783-bdbe1e181b88"
      },
      "outputs": [
        {
          "output_type": "execute_result",
          "data": {
            "text/plain": [
              "array([[5, 6],\n",
              "       [7, 8]])"
            ]
          },
          "metadata": {},
          "execution_count": 134
        }
      ],
      "source": [
        "b[1]"
      ]
    },
    {
      "cell_type": "code",
      "source": [
        "print(\"before:\\n\", b)\n",
        "b[1,1,:]"
      ],
      "metadata": {
        "colab": {
          "base_uri": "https://localhost:8080/"
        },
        "id": "Rxv6hsqVqLfU",
        "outputId": "46fc056d-7e13-4aca-b830-bc429104168c"
      },
      "execution_count": 135,
      "outputs": [
        {
          "output_type": "stream",
          "name": "stdout",
          "text": [
            "before:\n",
            " [[[1 2]\n",
            "  [3 4]]\n",
            "\n",
            " [[5 6]\n",
            "  [7 8]]]\n"
          ]
        },
        {
          "output_type": "execute_result",
          "data": {
            "text/plain": [
              "array([7, 8])"
            ]
          },
          "metadata": {},
          "execution_count": 135
        }
      ]
    },
    {
      "cell_type": "code",
      "execution_count": null,
      "metadata": {
        "ExecuteTime": {
          "end_time": "2022-02-18T17:32:00.615033Z",
          "start_time": "2022-02-18T17:32:00.600158Z"
        },
        "id": "Qsx-OKbpukdZ",
        "outputId": "b3535975-6c7f-404b-92c1-2552ce1aa145"
      },
      "outputs": [
        {
          "name": "stdout",
          "output_type": "stream",
          "text": [
            "before:\n",
            " [[[1 2]\n",
            "  [3 4]]\n",
            "\n",
            " [[5 6]\n",
            "  [7 8]]]\n",
            "after:\n",
            " [[[1 2]\n",
            "  [9 9]]\n",
            "\n",
            " [[5 6]\n",
            "  [8 8]]]\n"
          ]
        }
      ],
      "source": [
        "# ჩანაცვლება\n",
        "print(\"before:\\n\", b)\n",
        "b[:,1,:] = [[9,9],[8,8]]\n",
        "print(\"after:\\n\", b)"
      ]
    },
    {
      "cell_type": "code",
      "execution_count": null,
      "metadata": {
        "ExecuteTime": {
          "end_time": "2022-02-18T17:32:00.631207Z",
          "start_time": "2022-02-18T17:32:00.615640Z"
        },
        "id": "cTjHUZrMukda",
        "outputId": "8ed2c166-4d01-465d-99cf-6d0e50fb5216"
      },
      "outputs": [
        {
          "data": {
            "text/plain": [
              "array([[[1, 2],\n",
              "        [9, 9]],\n",
              "\n",
              "       [[5, 6],\n",
              "        [8, 8]]])"
            ]
          },
          "execution_count": 58,
          "metadata": {},
          "output_type": "execute_result"
        }
      ],
      "source": [
        "b"
      ]
    },
    {
      "cell_type": "markdown",
      "metadata": {
        "id": "8zVjLra-ukda"
      },
      "source": [
        "#### მაგალით\n",
        "შექმენით 5x5-ზე მატრიცა 1-იანების საზღვრებით, შუა წრეზე 0-ები და ცენტრში 9\n",
        "```python\n",
        "[[1. 1. 1. 1. 1.]\n",
        " [1. 0. 0. 0. 1.]\n",
        " [1. 0. 9. 0. 1.]\n",
        " [1. 0. 0. 0. 1.]\n",
        " [1. 1. 1. 1. 1.]]\n",
        "```"
      ]
    },
    {
      "cell_type": "code",
      "execution_count": 139,
      "metadata": {
        "ExecuteTime": {
          "end_time": "2022-02-18T17:32:00.694451Z",
          "start_time": "2022-02-18T17:32:00.680577Z"
        },
        "colab": {
          "base_uri": "https://localhost:8080/"
        },
        "id": "cr0mr68wukdb",
        "outputId": "af3c81b6-df95-4d9c-9499-8b628ce5a652"
      },
      "outputs": [
        {
          "output_type": "stream",
          "name": "stdout",
          "text": [
            "[[1. 1. 1. 1. 1.]\n",
            " [1. 1. 1. 1. 1.]\n",
            " [1. 1. 1. 1. 1.]\n",
            " [1. 1. 1. 1. 1.]\n",
            " [1. 1. 1. 1. 1.]]\n",
            "[[0. 0. 0.]\n",
            " [0. 9. 0.]\n",
            " [0. 0. 0.]]\n",
            "[[1. 1. 1. 1. 1.]\n",
            " [1. 0. 0. 0. 1.]\n",
            " [1. 0. 9. 0. 1.]\n",
            " [1. 0. 0. 0. 1.]\n",
            " [1. 1. 1. 1. 1.]]\n"
          ]
        }
      ],
      "source": [
        "output = np.ones((5,5))\n",
        "print(output)\n",
        "\n",
        "z = np.zeros((3,3))\n",
        "z[1,1] = 9\n",
        "print(z)\n",
        "\n",
        "output[1:-1,1:-1] = z\n",
        "print(output)"
      ]
    },
    {
      "cell_type": "code",
      "execution_count": null,
      "metadata": {
        "id": "xdkbgU1lukdb"
      },
      "outputs": [],
      "source": []
    },
    {
      "cell_type": "markdown",
      "metadata": {
        "id": "6syJGf8Zukdb"
      },
      "source": [
        "### მასივების რეორგანიზაცია"
      ]
    },
    {
      "cell_type": "markdown",
      "metadata": {
        "id": "biDFJoL5ukdb"
      },
      "source": [
        "#### .reshape()\n",
        "`reshape()`"
      ]
    },
    {
      "cell_type": "code",
      "execution_count": 140,
      "metadata": {
        "ExecuteTime": {
          "end_time": "2022-02-18T17:32:00.710274Z",
          "start_time": "2022-02-18T17:32:00.695967Z"
        },
        "colab": {
          "base_uri": "https://localhost:8080/"
        },
        "id": "c7Ypd1YXukdb",
        "outputId": "5c8cf78e-8f4c-446f-c3cd-efd010f8f44a"
      },
      "outputs": [
        {
          "output_type": "stream",
          "name": "stdout",
          "text": [
            "before\n",
            "[[1 2 3 4]\n",
            " [5 6 7 8]]\n",
            "shape: (2, 4)\n",
            "after:\n",
            "[[1 2]\n",
            " [3 4]\n",
            " [5 6]\n",
            " [7 8]]\n",
            "shape: (4, 2)\n",
            "after:\n",
            "[[[1 2]\n",
            "  [3 4]]\n",
            "\n",
            " [[5 6]\n",
            "  [7 8]]]\n",
            "shape: (2, 2, 2)\n"
          ]
        }
      ],
      "source": [
        "before = np.array([[1,2,3,4],[5,6,7,8]])\n",
        "print(\"before\")\n",
        "print(before)\n",
        "print(\"shape:\", before.shape)\n",
        "\n",
        "print('after:')\n",
        "after = before.reshape((4,2))\n",
        "print(after)\n",
        "print(\"shape:\", after.shape)\n",
        "\n",
        "print('after:')\n",
        "after = before.reshape((2,2,2))\n",
        "print(after)\n",
        "print(\"shape:\", after.shape)"
      ]
    },
    {
      "cell_type": "code",
      "execution_count": 141,
      "metadata": {
        "ExecuteTime": {
          "end_time": "2022-02-18T17:32:00.725996Z",
          "start_time": "2022-02-18T17:32:00.711286Z"
        },
        "colab": {
          "base_uri": "https://localhost:8080/"
        },
        "id": "Az-kfsYfukdc",
        "outputId": "9e626591-fea0-4ded-b352-1d5a62a7b099"
      },
      "outputs": [
        {
          "output_type": "stream",
          "name": "stdout",
          "text": [
            "after:\n",
            "[[1 2 3 4 5 6 7 8]]\n",
            "shape: (1, 8)\n"
          ]
        }
      ],
      "source": [
        "print('after:')\n",
        "after = before.reshape((1,-1))\n",
        "print(after)\n",
        "print(\"shape:\", after.shape)"
      ]
    },
    {
      "cell_type": "code",
      "source": [
        "print('after:')\n",
        "after = before.reshape((-1,2))\n",
        "print(after)\n",
        "print(\"shape:\", after.shape)"
      ],
      "metadata": {
        "colab": {
          "base_uri": "https://localhost:8080/"
        },
        "id": "EUGgcarmv8LR",
        "outputId": "d2df08d4-4cf3-4eb9-a718-a15d765221b0"
      },
      "execution_count": 151,
      "outputs": [
        {
          "output_type": "stream",
          "name": "stdout",
          "text": [
            "after:\n",
            "[[1 2]\n",
            " [3 4]\n",
            " [5 6]\n",
            " [7 8]]\n",
            "shape: (4, 2)\n"
          ]
        }
      ]
    },
    {
      "cell_type": "code",
      "source": [
        "arr = np.arange(0,12)"
      ],
      "metadata": {
        "id": "LeurjLx0tiUU"
      },
      "execution_count": 148,
      "outputs": []
    },
    {
      "cell_type": "code",
      "source": [
        "arr.reshape(5,2)"
      ],
      "metadata": {
        "colab": {
          "base_uri": "https://localhost:8080/",
          "height": 141
        },
        "id": "YgDR6BXCtoQJ",
        "outputId": "a562d3d9-1030-4d46-d947-5577bc09bf79"
      },
      "execution_count": 149,
      "outputs": [
        {
          "output_type": "error",
          "ename": "ValueError",
          "evalue": "cannot reshape array of size 12 into shape (5,2)",
          "traceback": [
            "\u001b[0;31m---------------------------------------------------------------------------\u001b[0m",
            "\u001b[0;31mValueError\u001b[0m                                Traceback (most recent call last)",
            "\u001b[0;32m<ipython-input-149-1ba4c05b3d41>\u001b[0m in \u001b[0;36m<cell line: 1>\u001b[0;34m()\u001b[0m\n\u001b[0;32m----> 1\u001b[0;31m \u001b[0marr\u001b[0m\u001b[0;34m.\u001b[0m\u001b[0mreshape\u001b[0m\u001b[0;34m(\u001b[0m\u001b[0;36m5\u001b[0m\u001b[0;34m,\u001b[0m\u001b[0;36m2\u001b[0m\u001b[0;34m)\u001b[0m\u001b[0;34m\u001b[0m\u001b[0;34m\u001b[0m\u001b[0m\n\u001b[0m",
            "\u001b[0;31mValueError\u001b[0m: cannot reshape array of size 12 into shape (5,2)"
          ]
        }
      ]
    },
    {
      "cell_type": "markdown",
      "metadata": {
        "id": "LQl4CEayukdc"
      },
      "source": [
        "#### .vstack()\n",
        "`vstack()`"
      ]
    },
    {
      "cell_type": "code",
      "execution_count": 155,
      "metadata": {
        "ExecuteTime": {
          "end_time": "2022-02-18T17:32:00.741055Z",
          "start_time": "2022-02-18T17:32:00.727522Z"
        },
        "colab": {
          "base_uri": "https://localhost:8080/"
        },
        "id": "7cFw1Ly-ukdc",
        "outputId": "97ca219e-33ca-47c6-ae61-d3b3c18717fc"
      },
      "outputs": [
        {
          "output_type": "execute_result",
          "data": {
            "text/plain": [
              "array([[1, 2, 3, 4],\n",
              "       [5, 6, 7, 8],\n",
              "       [1, 2, 3, 4],\n",
              "       [5, 6, 7, 8]])"
            ]
          },
          "metadata": {},
          "execution_count": 155
        }
      ],
      "source": [
        "# ვექტორების ერთმანეთზე დალაგება\n",
        "# აუცილებელია ზომაში თანაბარი იყოს\n",
        "v1 = np.array([1,2,3,4])\n",
        "v2 = np.array([5,6,7,8])\n",
        "# v3 = np.arange(9,17).reshape(2,4)\n",
        "\n",
        "\n",
        "np.vstack([v1,v2,v1,v2])"
      ]
    },
    {
      "cell_type": "markdown",
      "metadata": {
        "id": "9WLirnPVukdd"
      },
      "source": [
        "#### .hstack()\n",
        "`hstack()`"
      ]
    },
    {
      "cell_type": "code",
      "execution_count": 161,
      "metadata": {
        "ExecuteTime": {
          "end_time": "2022-02-18T17:32:00.787788Z",
          "start_time": "2022-02-18T17:32:00.773419Z"
        },
        "colab": {
          "base_uri": "https://localhost:8080/"
        },
        "id": "tDUo48Pbukdd",
        "outputId": "262dac91-ae42-427c-8eb2-9dc0435a2697"
      },
      "outputs": [
        {
          "output_type": "stream",
          "name": "stdout",
          "text": [
            "[[1. 1. 1. 1.]\n",
            " [1. 1. 1. 1.]]\n",
            "[[0. 0.]\n",
            " [0. 0.]]\n"
          ]
        },
        {
          "output_type": "execute_result",
          "data": {
            "text/plain": [
              "array([[1., 1., 1., 1., 0., 0.],\n",
              "       [1., 1., 1., 1., 0., 0.]])"
            ]
          },
          "metadata": {},
          "execution_count": 161
        }
      ],
      "source": [
        "# ჰორიზონტული მიდგმა\n",
        "h1 = np.ones((2,4))\n",
        "h2 = np.zeros((2,2))\n",
        "print(h1)\n",
        "print(h2)\n",
        "\n",
        "np.hstack((h1,h2))"
      ]
    },
    {
      "cell_type": "code",
      "execution_count": 162,
      "metadata": {
        "ExecuteTime": {
          "end_time": "2022-02-18T17:32:00.803756Z",
          "start_time": "2022-02-18T17:32:00.789721Z"
        },
        "colab": {
          "base_uri": "https://localhost:8080/"
        },
        "id": "xq51qSR8ukdd",
        "outputId": "253baf7f-9359-4706-833c-4b9c8471a7d5"
      },
      "outputs": [
        {
          "output_type": "execute_result",
          "data": {
            "text/plain": [
              "array([[1., 1., 1., 1., 0., 0.],\n",
              "       [1., 1., 1., 1., 0., 0.]])"
            ]
          },
          "metadata": {},
          "execution_count": 162
        }
      ],
      "source": [
        "np.concatenate((h1,h2),axis=1)"
      ]
    },
    {
      "cell_type": "markdown",
      "metadata": {
        "id": "AD5j3hktukdd"
      },
      "source": [
        "#### .resize()\n",
        "`resize()`"
      ]
    },
    {
      "cell_type": "code",
      "execution_count": 166,
      "metadata": {
        "ExecuteTime": {
          "end_time": "2022-02-18T17:32:00.819391Z",
          "start_time": "2022-02-18T17:32:00.805386Z"
        },
        "colab": {
          "base_uri": "https://localhost:8080/"
        },
        "id": "GA_DYYF7ukdd",
        "outputId": "c0bc7c5d-da87-41cf-d15f-fa7ea954a141"
      },
      "outputs": [
        {
          "output_type": "stream",
          "name": "stdout",
          "text": [
            "before:\n",
            " [[0 0 4]\n",
            " [5 5 6]\n",
            " [8 4 1]]\n",
            "after:\n",
            " [[0 0 4 5 5]\n",
            " [6 8 4 1 0]]\n"
          ]
        }
      ],
      "source": [
        "# Changes to new shape, fills new values with 0\n",
        "a = np.random.randint(0,11, size=(3,3))\n",
        "print(\"before:\\n\", a)\n",
        "a.resize((2,5))\n",
        "print(\"after:\\n\", a)"
      ]
    },
    {
      "cell_type": "markdown",
      "metadata": {
        "id": "fDzJ9Nfcukdd"
      },
      "source": [
        "#### .ravel()\n",
        "`ravel()` აბრუნებს გაშლილ მასივს"
      ]
    },
    {
      "cell_type": "code",
      "execution_count": 168,
      "metadata": {
        "ExecuteTime": {
          "end_time": "2022-02-18T17:32:00.834951Z",
          "start_time": "2022-02-18T17:32:00.820925Z"
        },
        "colab": {
          "base_uri": "https://localhost:8080/"
        },
        "id": "jVHLGcJsukde",
        "outputId": "a63a8a9f-a993-46b1-f832-382a38db3975"
      },
      "outputs": [
        {
          "output_type": "stream",
          "name": "stdout",
          "text": [
            "[[0 0 4 5 5]\n",
            " [6 8 4 1 0]]\n"
          ]
        },
        {
          "output_type": "execute_result",
          "data": {
            "text/plain": [
              "array([0, 0, 4, 5, 5, 6, 8, 4, 1, 0])"
            ]
          },
          "metadata": {},
          "execution_count": 168
        }
      ],
      "source": [
        "# მატრიცის გაშლა 1 განზომილებიან მასივად\n",
        "print(a)\n",
        "a.ravel()"
      ]
    },
    {
      "cell_type": "code",
      "execution_count": 169,
      "metadata": {
        "ExecuteTime": {
          "end_time": "2022-02-18T17:32:00.850792Z",
          "start_time": "2022-02-18T17:32:00.837476Z"
        },
        "colab": {
          "base_uri": "https://localhost:8080/"
        },
        "id": "OJykeLs3ukde",
        "outputId": "d2210cf3-85c1-41e0-e956-197534c5c2bc"
      },
      "outputs": [
        {
          "output_type": "stream",
          "name": "stdout",
          "text": [
            "[[0 0 4 5 5]\n",
            " [6 8 4 1 0]]\n"
          ]
        },
        {
          "output_type": "execute_result",
          "data": {
            "text/plain": [
              "array([0, 6, 0, 8, 4, 4, 5, 1, 5, 0])"
            ]
          },
          "metadata": {},
          "execution_count": 169
        }
      ],
      "source": [
        "print(a)\n",
        "a.ravel(order='F')"
      ]
    },
    {
      "cell_type": "markdown",
      "metadata": {
        "id": "uzxlO3J1ukde"
      },
      "source": [
        "#### .append()\n",
        "`append()` - მასივის ბოლოში ამატებს ელემენტებს"
      ]
    },
    {
      "cell_type": "code",
      "execution_count": 184,
      "metadata": {
        "ExecuteTime": {
          "end_time": "2022-02-18T17:32:00.866892Z",
          "start_time": "2022-02-18T17:32:00.852905Z"
        },
        "colab": {
          "base_uri": "https://localhost:8080/"
        },
        "id": "vxP9Eql0ukde",
        "outputId": "06f648b6-1872-4b72-9316-8e68218a345d"
      },
      "outputs": [
        {
          "output_type": "stream",
          "name": "stdout",
          "text": [
            "[[8 3 4 2]\n",
            " [6 3 1 2]\n",
            " [1 7 1 5]]\n",
            "[[ -2  -6  -7  -7]\n",
            " [ -2  -2  -3 -10]\n",
            " [ -7  -2  -3  -3]]\n"
          ]
        },
        {
          "output_type": "execute_result",
          "data": {
            "text/plain": [
              "array([  8,   3,   4,   2,   6,   3,   1,   2,   1,   7,   1,   5,  -2,\n",
              "        -6,  -7,  -7,  -2,  -2,  -3, -10,  -7,  -2,  -3,  -3])"
            ]
          },
          "metadata": {},
          "execution_count": 184
        }
      ],
      "source": [
        "a = np.random.randint(1, 10, size=(3,4))\n",
        "b = np.random.randint(-10, 0, size=(3,4))\n",
        "d = np.random.randint(1,10, size=(3,4))\n",
        "print(a)\n",
        "print(b)\n",
        "c = np.append(a, b)\n",
        "c"
      ]
    },
    {
      "cell_type": "code",
      "execution_count": 180,
      "metadata": {
        "ExecuteTime": {
          "end_time": "2022-02-18T17:32:00.882882Z",
          "start_time": "2022-02-18T17:32:00.868669Z"
        },
        "colab": {
          "base_uri": "https://localhost:8080/"
        },
        "id": "nrWBScITukdf",
        "outputId": "9106850e-c03b-409a-845e-e2d27077bb07"
      },
      "outputs": [
        {
          "output_type": "stream",
          "name": "stdout",
          "text": [
            "[[9 1 5 7]\n",
            " [6 8 9 9]\n",
            " [3 9 7 7]]\n",
            "[[-1 -9 -4 -2]\n",
            " [-2 -7 -8 -7]\n",
            " [-4 -7 -4 -5]]\n"
          ]
        },
        {
          "output_type": "execute_result",
          "data": {
            "text/plain": [
              "array([[ 9,  1,  5,  7],\n",
              "       [ 6,  8,  9,  9],\n",
              "       [ 3,  9,  7,  7],\n",
              "       [-1, -9, -4, -2],\n",
              "       [-2, -7, -8, -7],\n",
              "       [-4, -7, -4, -5]])"
            ]
          },
          "metadata": {},
          "execution_count": 180
        }
      ],
      "source": [
        "print(a)\n",
        "print(b)\n",
        "c1 = np.append(a, b, axis=0)\n",
        "c1"
      ]
    },
    {
      "cell_type": "code",
      "execution_count": 186,
      "metadata": {
        "ExecuteTime": {
          "end_time": "2022-02-18T17:32:00.898816Z",
          "start_time": "2022-02-18T17:32:00.884316Z"
        },
        "colab": {
          "base_uri": "https://localhost:8080/"
        },
        "id": "rylS012Tukdf",
        "outputId": "6517568d-c754-4472-cced-71be1115d19a"
      },
      "outputs": [
        {
          "output_type": "stream",
          "name": "stdout",
          "text": [
            "[[8 3 4 2]\n",
            " [6 3 1 2]\n",
            " [1 7 1 5]]\n",
            "[[ -2  -6  -7  -7]\n",
            " [ -2  -2  -3 -10]\n",
            " [ -7  -2  -3  -3]]\n"
          ]
        },
        {
          "output_type": "execute_result",
          "data": {
            "text/plain": [
              "array([[  8,   3,   4,   2,  -2,  -6,  -7,  -7],\n",
              "       [  6,   3,   1,   2,  -2,  -2,  -3, -10],\n",
              "       [  1,   7,   1,   5,  -7,  -2,  -3,  -3]])"
            ]
          },
          "metadata": {},
          "execution_count": 186
        }
      ],
      "source": [
        "print(a)\n",
        "print(b)\n",
        "c2 = np.append(a, b, axis=1)\n",
        "c2"
      ]
    },
    {
      "cell_type": "markdown",
      "metadata": {
        "id": "2BJr0AqGukdf"
      },
      "source": [
        "#### .insert()\n",
        "`insert()`"
      ]
    },
    {
      "cell_type": "code",
      "execution_count": 187,
      "metadata": {
        "ExecuteTime": {
          "end_time": "2022-02-18T17:32:00.914548Z",
          "start_time": "2022-02-18T17:32:00.900131Z"
        },
        "colab": {
          "base_uri": "https://localhost:8080/"
        },
        "id": "poeDpRB7ukdf",
        "outputId": "be9e2532-ab12-4d64-fd52-203d4f47e77d"
      },
      "outputs": [
        {
          "output_type": "stream",
          "name": "stdout",
          "text": [
            "[[8 3 4 2]\n",
            " [6 3 1 2]\n",
            " [1 7 1 5]]\n"
          ]
        },
        {
          "output_type": "execute_result",
          "data": {
            "text/plain": [
              "array([ 8, -5,  3,  4,  2,  6,  3,  1,  2,  1,  7,  1,  5])"
            ]
          },
          "metadata": {},
          "execution_count": 187
        }
      ],
      "source": [
        "print(a)\n",
        "a2 = np.insert(a, 1, -5)\n",
        "a2"
      ]
    },
    {
      "cell_type": "code",
      "execution_count": 190,
      "metadata": {
        "ExecuteTime": {
          "end_time": "2022-02-18T17:32:00.930560Z",
          "start_time": "2022-02-18T17:32:00.916001Z"
        },
        "colab": {
          "base_uri": "https://localhost:8080/"
        },
        "id": "R4Yn0zJsukdg",
        "outputId": "ea24b846-92ec-4079-e4a6-94f2090912ba"
      },
      "outputs": [
        {
          "output_type": "stream",
          "name": "stdout",
          "text": [
            "[[8 3 4 2]\n",
            " [6 3 1 2]\n",
            " [1 7 1 5]]\n"
          ]
        },
        {
          "output_type": "execute_result",
          "data": {
            "text/plain": [
              "array([[ 8,  3,  4,  2],\n",
              "       [-5, -5, -5, -5],\n",
              "       [ 6,  3,  1,  2],\n",
              "       [ 1,  7,  1,  5]])"
            ]
          },
          "metadata": {},
          "execution_count": 190
        }
      ],
      "source": [
        "print(a)\n",
        "a2_1 = np.insert(a, 1, -5, axis=0)\n",
        "a2_1"
      ]
    },
    {
      "cell_type": "code",
      "execution_count": 192,
      "metadata": {
        "ExecuteTime": {
          "end_time": "2022-02-18T17:32:00.946100Z",
          "start_time": "2022-02-18T17:32:00.932141Z"
        },
        "colab": {
          "base_uri": "https://localhost:8080/"
        },
        "id": "KMTtC54Sukdg",
        "outputId": "f487ce05-3f57-49f9-860a-fe3ff94aac66"
      },
      "outputs": [
        {
          "output_type": "stream",
          "name": "stdout",
          "text": [
            "[[8 3 4 2]\n",
            " [6 3 1 2]\n",
            " [1 7 1 5]]\n"
          ]
        },
        {
          "output_type": "execute_result",
          "data": {
            "text/plain": [
              "array([[ 8,  3,  4,  2],\n",
              "       [-5, -5, -5, -5],\n",
              "       [ 6,  3,  1,  2],\n",
              "       [ 1,  7,  1,  5]])"
            ]
          },
          "metadata": {},
          "execution_count": 192
        }
      ],
      "source": [
        "print(a)\n",
        "a2_2 = np.insert(a, 1, -5, axis=0)\n",
        "a2_2"
      ]
    },
    {
      "cell_type": "markdown",
      "metadata": {
        "id": "nsTV2h8Zukdg"
      },
      "source": [
        "#### .delete()\n",
        "`delete()`"
      ]
    },
    {
      "cell_type": "code",
      "execution_count": 193,
      "metadata": {
        "ExecuteTime": {
          "end_time": "2022-02-18T17:32:00.961160Z",
          "start_time": "2022-02-18T17:32:00.947145Z"
        },
        "colab": {
          "base_uri": "https://localhost:8080/"
        },
        "id": "T5XYJCLhukdg",
        "outputId": "7f361cea-599d-4f9c-945e-f72a60fb2d21"
      },
      "outputs": [
        {
          "output_type": "stream",
          "name": "stdout",
          "text": [
            "[[ -2  -6  -7  -7]\n",
            " [ -2  -2  -3 -10]\n",
            " [ -7  -2  -3  -3]]\n"
          ]
        },
        {
          "output_type": "execute_result",
          "data": {
            "text/plain": [
              "array([ -6,  -7,  -7,  -2,  -2,  -3, -10,  -7,  -2,  -3,  -3])"
            ]
          },
          "metadata": {},
          "execution_count": 193
        }
      ],
      "source": [
        "print(b)\n",
        "b2 = np.delete(b, 0)\n",
        "b2"
      ]
    },
    {
      "cell_type": "code",
      "execution_count": 194,
      "metadata": {
        "ExecuteTime": {
          "end_time": "2022-02-18T17:32:00.977028Z",
          "start_time": "2022-02-18T17:32:00.962946Z"
        },
        "colab": {
          "base_uri": "https://localhost:8080/"
        },
        "id": "yiwBv85Cukdg",
        "outputId": "96731209-1e01-4203-bcf0-2c202f32ef3a"
      },
      "outputs": [
        {
          "output_type": "stream",
          "name": "stdout",
          "text": [
            "[[ -2  -6  -7  -7]\n",
            " [ -2  -2  -3 -10]\n",
            " [ -7  -2  -3  -3]]\n"
          ]
        },
        {
          "output_type": "execute_result",
          "data": {
            "text/plain": [
              "array([[-2, -6, -7, -7],\n",
              "       [-7, -2, -3, -3]])"
            ]
          },
          "metadata": {},
          "execution_count": 194
        }
      ],
      "source": [
        "print(b)\n",
        "b2_1 = np.delete(b, 1, axis=0)\n",
        "b2_1"
      ]
    },
    {
      "cell_type": "code",
      "execution_count": 195,
      "metadata": {
        "ExecuteTime": {
          "end_time": "2022-02-18T17:32:00.992332Z",
          "start_time": "2022-02-18T17:32:00.978065Z"
        },
        "colab": {
          "base_uri": "https://localhost:8080/"
        },
        "id": "dXzKQ2GJukdh",
        "outputId": "f6426858-f03c-419a-f2fa-29d65f0cef40"
      },
      "outputs": [
        {
          "output_type": "stream",
          "name": "stdout",
          "text": [
            "[[ -2  -6  -7  -7]\n",
            " [ -2  -2  -3 -10]\n",
            " [ -7  -2  -3  -3]]\n"
          ]
        },
        {
          "output_type": "execute_result",
          "data": {
            "text/plain": [
              "array([[ -2,  -7,  -7],\n",
              "       [ -2,  -3, -10],\n",
              "       [ -7,  -3,  -3]])"
            ]
          },
          "metadata": {},
          "execution_count": 195
        }
      ],
      "source": [
        "print(b)\n",
        "b2_2 = np.delete(b, 1, axis=1)\n",
        "b2_2"
      ]
    },
    {
      "cell_type": "code",
      "execution_count": null,
      "metadata": {
        "id": "eRot-tBBukdh"
      },
      "outputs": [],
      "source": []
    }
  ],
  "metadata": {
    "kernelspec": {
      "display_name": "Python 3 (ipykernel)",
      "language": "python",
      "name": "python3"
    },
    "language_info": {
      "codemirror_mode": {
        "name": "ipython",
        "version": 3
      },
      "file_extension": ".py",
      "mimetype": "text/x-python",
      "name": "python",
      "nbconvert_exporter": "python",
      "pygments_lexer": "ipython3",
      "version": "3.9.7"
    },
    "toc": {
      "base_numbering": 1,
      "nav_menu": {},
      "number_sections": true,
      "sideBar": true,
      "skip_h1_title": true,
      "title_cell": "Table of Contents",
      "title_sidebar": "Contents",
      "toc_cell": false,
      "toc_position": {
        "height": "calc(100% - 180px)",
        "left": "10px",
        "top": "150px",
        "width": "273.188px"
      },
      "toc_section_display": true,
      "toc_window_display": true
    },
    "colab": {
      "provenance": [],
      "include_colab_link": true
    }
  },
  "nbformat": 4,
  "nbformat_minor": 0
}