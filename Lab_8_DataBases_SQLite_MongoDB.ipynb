{
  "nbformat": 4,
  "nbformat_minor": 0,
  "metadata": {
    "colab": {
      "provenance": [],
      "authorship_tag": "ABX9TyNLe+SJYVl1ZsoMZobYQBFm",
      "include_colab_link": true
    },
    "kernelspec": {
      "name": "python3",
      "display_name": "Python 3"
    },
    "language_info": {
      "name": "python"
    }
  },
  "cells": [
    {
      "cell_type": "markdown",
      "metadata": {
        "id": "view-in-github",
        "colab_type": "text"
      },
      "source": [
        "<a href=\"https://colab.research.google.com/github/RevazRevazashvili/TSU-python-labs/blob/main/Lab_8_DataBases_SQLite_MongoDB.ipynb\" target=\"_parent\"><img src=\"https://colab.research.google.com/assets/colab-badge.svg\" alt=\"Open In Colab\"/></a>"
      ]
    },
    {
      "cell_type": "markdown",
      "source": [
        "#მონაცემების შენახვა : რელაციური და არარელაციური ბაზები. მოდულები: sqlite3, MongoDB."
      ],
      "metadata": {
        "id": "7adiWEmVNTDk"
      }
    },
    {
      "cell_type": "markdown",
      "source": [
        "1. https://www.tutorialspoint.com/sqlite/sqlite_python.htm\n",
        "2. https://docs.python.org/3/library/sqlite3.html"
      ],
      "metadata": {
        "id": "zMcRsbU0zHDE"
      }
    },
    {
      "cell_type": "markdown",
      "source": [
        "SQLite ბაზა"
      ],
      "metadata": {
        "id": "tfhKea2jNdJG"
      }
    },
    {
      "cell_type": "code",
      "execution_count": null,
      "metadata": {
        "id": "vsB83i8eNSCg"
      },
      "outputs": [],
      "source": [
        "\"\"\"\n",
        "SQLite წარმოადგენს C ენაზე შემუშავებულ მონაცემთა შენახვის რელაციურ მონაცემთა ბაზის\n",
        "პროგრამას, რომელიც არ საჭიროებს გამოყოფილ სერვერულ პროცესს და იძლევა მონაცემთა ბაზის\n",
        "მიმართ SQL (structured query language) ენის ბრძანებების გამოყენების საშუალებას. ის მსგავსი\n",
        "პროგრამებისგან განსხვავებით არ ტვირთავს ოპერაციულ სისტემას და შეიძლება გამოყენებული\n",
        "იქნას პროგრამის ლოკალური მონაცემების შესანახად. SQLite -ის მეშვეობით შესაძლებელია\n",
        "დაპროექტირებული იქნას მასშტაბური პროგრამული უზრუნველყოფის მონაცემთა ბაზა, რომელიც\n",
        "მოგვიანებით გადატანილი იქნება მრავალფუნქციურ მონაცემთა ბაზაში, როგორიცაა მაგალითად,\n",
        "PostgreSQL ან Oracle.\n",
        "\"\"\""
      ]
    },
    {
      "cell_type": "markdown",
      "source": [
        "ბაზასთან დაკავშირება"
      ],
      "metadata": {
        "id": "eBlQaYBeNwgI"
      }
    },
    {
      "cell_type": "code",
      "source": [
        "#ბაზასთან სამუშაოდ და ფუნქციონალის გამოსაყენებლად Python-ში გვაქვს sqlite3 მოდული\n",
        "\n",
        "import sqlite3"
      ],
      "metadata": {
        "id": "N_8Q_LbxNYWq"
      },
      "execution_count": null,
      "outputs": []
    },
    {
      "cell_type": "code",
      "source": [
        "# რადგანაც შესაბამის ბაზასთან დაკავშირება შეიძლება დასრულდეს წარუმატებლად, ამიტომ სასურველია ცალკე ინსტრუქციით მოხდეს პროგრამული კოდისთვის sqlite3 მოდულში\n",
        "#განსაზღვრული Error ობიექტის მიერთება ინსტრუქციით:\n",
        "\n",
        "from sqlite3 import Error, connect\n"
      ],
      "metadata": {
        "id": "vGXdLnLTN2QK"
      },
      "execution_count": null,
      "outputs": []
    },
    {
      "cell_type": "code",
      "source": [
        "\"\"\"\n",
        "მონაცემთა ბაზის ფაილთან დაკავშირება შესაძლებელია connect() მეთოდის გამოყენებით.\n",
        "შევნიშნოთ, რომ თუ ფაილური სისტემაში მითითებულ მისამართზე შესაბამისი მონაცემთა ბაზის\n",
        "ფაილი არ არსებობს, მაშინ ის შეიქმნება ავტომატურად.\n",
        "\"\"\""
      ],
      "metadata": {
        "id": "X9iVQA-JOVrU"
      },
      "execution_count": null,
      "outputs": []
    },
    {
      "cell_type": "code",
      "source": [
        "# ბაზასთან დაკავშირების შესაბამის კოდს ექნება სახე:\n",
        "import os\n",
        "\n",
        "db_name = os.getcwd() + '/' + 'sq2.db' # განვსაზღვროთ ბაზის სახელი\n",
        "conn = None # განვსაზღვროთ ცვლადი ბაზასთან დაკავშირებისთვის\n",
        "\n",
        "try:\n",
        "  conn = sqlite3.connect(db_name) # დავუკავშირდეთ ბაზას\n",
        "  print(f'{db_name} ბაზის ფაილთან დაკავშირება დასრულდა წარმატებით!')\n",
        "except Error as err:\n",
        "  print(f'ბაზასთან დაკავშირებისას დაფიქსირდა შეცდომა: {err}')\n",
        "# finally ბლოკის გამოყენება სასურველია იმ შემთხვევაში თუ ბაზის ფაილთან\n",
        "# საქმიანობა უკვე დამთავრებულია და საჭიროა მასთან კავშირის გაწყვეტა\n",
        "finally:\n",
        "  if conn: # თუ ბაზასთან კავშირი ჯერ კიდევ არსებობს\n",
        "    conn.close() # გავწყვიტოთ კავშირი ბაზასთან"
      ],
      "metadata": {
        "colab": {
          "base_uri": "https://localhost:8080/"
        },
        "id": "-koXSzVFOhD8",
        "outputId": "876548a0-d6d3-4f93-e53e-03c179af9d0f"
      },
      "execution_count": 110,
      "outputs": [
        {
          "output_type": "stream",
          "name": "stdout",
          "text": [
            "/content/sq2.db ბაზის ფაილთან დაკავშირება დასრულდა წარმატებით!\n"
          ]
        }
      ]
    },
    {
      "cell_type": "code",
      "source": [
        "with sqlite3.connect('database.db') as conn:\n",
        "  cursor = conn.cursor()"
      ],
      "metadata": {
        "id": "fjw0NU9yS8XD"
      },
      "execution_count": 78,
      "outputs": []
    },
    {
      "cell_type": "code",
      "source": [
        "\"\"\"\n",
        "ბაზასთან დაკავშირების შემდეგ საჭიროა მის მიმართ გარკვეული ინსტრუქციის შესაბამისი\n",
        "მოქმედების შესასრულებელი ბრძანების გადაწოდება. ამის გაკეთების საშუალებას იძლევა Cursor\n",
        "ობიექტი, რომელიც უნდა შეიქმნას ბაზისთვის ბრძანების გადაწოდებამდე.\n",
        "\"\"\""
      ],
      "metadata": {
        "id": "j-EzKQ_FO1Ub"
      },
      "execution_count": null,
      "outputs": []
    },
    {
      "cell_type": "code",
      "source": [
        "# Cursor ობიექტის შექმნა შესაძლებელია შემდეგი ბრძანებით:\n",
        "db_name = os.getcwd() + '/' + 'sq2.db' # განვსაზღვროთ ბაზის სახელი\n",
        "\n",
        "conn = sqlite3.connect(db_name)\n",
        "curs = conn.cursor()"
      ],
      "metadata": {
        "id": "ixNC9rWlUaZR"
      },
      "execution_count": 111,
      "outputs": []
    },
    {
      "cell_type": "code",
      "source": [
        "\"\"\"\n",
        "Cursor ობიექტის შექმნის შემდეგ შესაძლებელია ბაზის მიმართ შევასრულოთ სასურველი\n",
        "ბრძანებები მისთვის განსაზღვრული execute() მეთოდის მეშვეობით.\n",
        "\"\"\""
      ],
      "metadata": {
        "id": "rx5v8Okx5m38"
      },
      "execution_count": null,
      "outputs": []
    },
    {
      "cell_type": "code",
      "source": [
        "# ცხრილის შექმნა\n",
        "\n",
        "comm = \"\"\"\n",
        "  CREATE TABLE IF NOT EXISTS Student (\n",
        "  Id integer primary key,\n",
        "  LName text,\n",
        "  FName text,\n",
        "  Gender text\n",
        "  )\n",
        " \"\"\"\n",
        "curs.execute(comm)\n"
      ],
      "metadata": {
        "colab": {
          "base_uri": "https://localhost:8080/"
        },
        "id": "tTd7QHV55_c8",
        "outputId": "115a6a8e-24d3-4b6b-c22c-5b4ec215b7f2"
      },
      "execution_count": 112,
      "outputs": [
        {
          "output_type": "execute_result",
          "data": {
            "text/plain": [
              "<sqlite3.Cursor at 0x7b2a4ef22d40>"
            ]
          },
          "metadata": {},
          "execution_count": 112
        }
      ]
    },
    {
      "cell_type": "code",
      "source": [
        "comm = \"\"\" select * from Student \"\"\"\n",
        "# Stud_List = curs.execute(comm).fetchall()\n",
        "Stud_List = curs.execute(comm).fetchone()\n",
        "Stud_List"
      ],
      "metadata": {
        "id": "JvP6qr41ivCk"
      },
      "execution_count": 113,
      "outputs": []
    },
    {
      "cell_type": "code",
      "source": [
        "\"\"\"\n",
        "ცხრილის შექმნის შემდეგ საჭიროა მასში მონაცემების შეტანა. ცხრილის მონაცემებით შევსება\n",
        "შესაძლებელია INSERT INTO ბრძანების გამოყენებით.\n",
        "\"\"\""
      ],
      "metadata": {
        "id": "x1AVLUAA6s5l",
        "outputId": "81f33481-8a1d-4c1d-c1b3-af40b138b14a",
        "colab": {
          "base_uri": "https://localhost:8080/",
          "height": 36
        }
      },
      "execution_count": 83,
      "outputs": [
        {
          "output_type": "execute_result",
          "data": {
            "text/plain": [
              "'\\nცხრილის შექმნის შემდეგ საჭიროა მასში მონაცემების შეტანა. ცხრილის მონაცემებით შევსება\\nშესაძლებელია INSERT INTO ბრძანების გამოყენებით.\\n'"
            ],
            "application/vnd.google.colaboratory.intrinsic+json": {
              "type": "string"
            }
          },
          "metadata": {},
          "execution_count": 83
        }
      ]
    },
    {
      "cell_type": "code",
      "source": [
        "comm = \"\"\"\n",
        "  insert into Student\n",
        "  ( LName, FName, Gender)\n",
        "  values\n",
        "  (\"ანთიძე\", \"ანა\", \"მდედრობითი\")\n",
        " \"\"\"\n",
        "curs.execute(comm)"
      ],
      "metadata": {
        "id": "RKQeSDg-6ujz",
        "outputId": "5dc9cc8f-480a-4d7b-f5ee-842a11354e41",
        "colab": {
          "base_uri": "https://localhost:8080/"
        }
      },
      "execution_count": 114,
      "outputs": [
        {
          "output_type": "execute_result",
          "data": {
            "text/plain": [
              "<sqlite3.Cursor at 0x7b2a4ef22d40>"
            ]
          },
          "metadata": {},
          "execution_count": 114
        }
      ]
    },
    {
      "cell_type": "code",
      "source": [
        "comm = \"\"\" select * from Student \"\"\"\n",
        "# Stud_List = curs.execute(comm).fetchall()\n",
        "Stud_List = curs.execute(comm).fetchone()\n",
        "Stud_List"
      ],
      "metadata": {
        "id": "1Cvsy4DOlqYc",
        "outputId": "fc380b25-926a-4819-ecbd-7f0ed41d1335",
        "colab": {
          "base_uri": "https://localhost:8080/"
        }
      },
      "execution_count": 115,
      "outputs": [
        {
          "output_type": "execute_result",
          "data": {
            "text/plain": [
              "(1, 'ანთიძე', 'ანა', 'მდედრობითი')"
            ]
          },
          "metadata": {},
          "execution_count": 115
        }
      ]
    },
    {
      "cell_type": "code",
      "source": [
        "\"\"\"\n",
        "შევნიშნოთ, რომ INSERT INTO ბრძანების გამოყენებით შესაძლებელია ცხრილში\n",
        "ერთდროულად რამდენიმე ჩანაწერის გაკეთება, თუ value გასაღები სიტყვის შემდეგ ჩამოვთვლით\n",
        "შესაბამის მონაცემებს. ასევე, თუ ცხრილში მონაცემები შეგვაქვს ყველა ველის გათვალისწინებით,\n",
        "მაშინ მოყვანილ ბრძანებაში ველების დასახელებების გამოტოვება არის შესაძლებელი.\n",
        "\"\"\""
      ],
      "metadata": {
        "id": "rfNYJArD7C3_"
      },
      "execution_count": null,
      "outputs": []
    },
    {
      "cell_type": "code",
      "source": [
        "comm = \"\"\"\n",
        " insert into Student\n",
        " values\n",
        " (2, \"ბრეგვაძე\", \"გიორგი\", \"მამრობითი\"),\n",
        " (3, \"მალაზონია\", \"შოთა\", \"მამრობითი\")\n",
        " \"\"\"\n",
        "curs.execute(comm)"
      ],
      "metadata": {
        "colab": {
          "base_uri": "https://localhost:8080/"
        },
        "id": "QD5K6lRe7Ect",
        "outputId": "06f82af3-3e3c-4517-f2b2-002185fc0919"
      },
      "execution_count": 116,
      "outputs": [
        {
          "output_type": "execute_result",
          "data": {
            "text/plain": [
              "<sqlite3.Cursor at 0x7b2a4ef22d40>"
            ]
          },
          "metadata": {},
          "execution_count": 116
        }
      ]
    },
    {
      "cell_type": "code",
      "source": [
        "comm = \"\"\" select * from Student \"\"\"\n",
        "Stud_List = curs.execute(comm).fetchall()\n",
        "# Stud_List = curs.execute(comm).fetchone()\n",
        "Stud_List"
      ],
      "metadata": {
        "id": "UqBjfe3KVtUQ"
      },
      "execution_count": null,
      "outputs": []
    },
    {
      "cell_type": "code",
      "source": [
        "comm = \"\"\"\n",
        "  insert into Student\n",
        "  (LName, FName, Gender)\n",
        "  values\n",
        "  (?, ?, ?)\n",
        "\"\"\"\n",
        "stud = [\"Mosia\", \"Iakob\", \"Male\"]\n",
        "curs.execute(comm, stud)\n"
      ],
      "metadata": {
        "id": "JZ28VgJlUSyg",
        "outputId": "67198928-4e65-47d8-bca6-4dbde6d536e9",
        "colab": {
          "base_uri": "https://localhost:8080/"
        }
      },
      "execution_count": 117,
      "outputs": [
        {
          "output_type": "execute_result",
          "data": {
            "text/plain": [
              "<sqlite3.Cursor at 0x7b2a4ef22d40>"
            ]
          },
          "metadata": {},
          "execution_count": 117
        }
      ]
    },
    {
      "cell_type": "code",
      "source": [
        "comm = \"\"\" select * from Student \"\"\"\n",
        "Stud_List = curs.execute(comm).fetchall()\n",
        "# Stud_List = curs.execute(comm).fetchone()\n",
        "Stud_List"
      ],
      "metadata": {
        "id": "TJGEk8-hl9BE",
        "outputId": "912576e2-9726-438e-954e-4978e439188d",
        "colab": {
          "base_uri": "https://localhost:8080/"
        }
      },
      "execution_count": 102,
      "outputs": [
        {
          "output_type": "execute_result",
          "data": {
            "text/plain": [
              "[(1, 'ანთიძე', 'ანა', 'მდედრობითი'),\n",
              " (2, 'ბრეგვაძე', 'გიორგი', 'მამრობითი'),\n",
              " (3, 'მალაზონია', 'შოთა', 'მამრობითი'),\n",
              " (4, 'Mosia', 'Iakob', 'Male'),\n",
              " (5, 'Mosia', 'Iakob', 'Male')]"
            ]
          },
          "metadata": {},
          "execution_count": 102
        }
      ]
    },
    {
      "cell_type": "code",
      "source": [
        "\"\"\"\n",
        "იმ შემთხვევაში, თუ ვაპირებთ ცხრილის შევსებისას რომელიმე ველის მნიშვნელობა\n",
        "გამოვტოვოთ INSERT INTO ბრძანების გამოყენების შემდეგ უნდა ჩამოვთვალოთ დასახელებები იმ\n",
        "ველებისა, რომელთა მონაცემების შეტანასაც ვაპირებთ.\n",
        "\"\"\""
      ],
      "metadata": {
        "id": "jn3lvrKQ7Ufx"
      },
      "execution_count": null,
      "outputs": []
    },
    {
      "cell_type": "code",
      "source": [
        "comm = \"\"\"\n",
        " insert into Student\n",
        " (LName, FName, Gender)\n",
        " values\n",
        " (\"წულაია\", \"ელენე\", \"მდედრობითი\"),\n",
        " (\"მენთეშაშვილი\", \"პავლე\", \"მამრობითი\")\n",
        " \"\"\"\n",
        "curs.execute(comm)"
      ],
      "metadata": {
        "colab": {
          "base_uri": "https://localhost:8080/"
        },
        "id": "uWNAxY3b7WDO",
        "outputId": "5ebdc38d-7094-488f-d587-b6f09af16bb3"
      },
      "execution_count": 118,
      "outputs": [
        {
          "output_type": "execute_result",
          "data": {
            "text/plain": [
              "<sqlite3.Cursor at 0x7b2a4ef22d40>"
            ]
          },
          "metadata": {},
          "execution_count": 118
        }
      ]
    },
    {
      "cell_type": "code",
      "source": [
        "comm = \"\"\" select * from Student \"\"\"\n",
        "Stud_List = curs.execute(comm).fetchall()\n",
        "# Stud_List = curs.execute(comm).fetchone()\n",
        "Stud_List"
      ],
      "metadata": {
        "id": "gXEpTwJxmDFL",
        "outputId": "e705d7a6-48ad-4d83-8606-2853cab88321",
        "colab": {
          "base_uri": "https://localhost:8080/"
        }
      },
      "execution_count": 104,
      "outputs": [
        {
          "output_type": "execute_result",
          "data": {
            "text/plain": [
              "[(1, 'ანთიძე', 'ანა', 'მდედრობითი'),\n",
              " (2, 'ბრეგვაძე', 'გიორგი', 'მამრობითი'),\n",
              " (3, 'მალაზონია', 'შოთა', 'მამრობითი'),\n",
              " (4, 'Mosia', 'Iakob', 'Male'),\n",
              " (5, 'Mosia', 'Iakob', 'Male'),\n",
              " (6, 'წულაია', 'ელენე', 'მდედრობითი'),\n",
              " (7, 'მენთეშაშვილი', 'პავლე', 'მამრობითი')]"
            ]
          },
          "metadata": {},
          "execution_count": 104
        }
      ]
    },
    {
      "cell_type": "code",
      "source": [
        "\"\"\"\n",
        "შევნიშნოთ, რომ რადგანაც Python ენის გამოყენებით შესაძლებელია ბაზასთან დაკავშირება და\n",
        "ბაზის მიმართ შესაბამისი ბრძანებების გამოყენება, ამიტომ INSERT INTO ბრძანების გამოყენება\n",
        "შესაძლებელია განსხვავებული ფორმითაც. კერძოდ, შესაბამისი ბრძანების გამოყენებისას ჩანაწერში\n",
        "ველებზე მნიშვნელობების ნაცვლად გამოყენებული იქნას სიმბოლო ? (კითხვის ნიშანი), ხოლო\n",
        "მოგვიანებით კი execute() მეთოდი გამოყენებული იქნას ორპარამეტრიანი ვარიანტით, რომლის\n",
        "პირველი ბრძანება იქნება ბაზასთან მიმართვის ბრძანება, ხოლო მეორე კი ცხრილში ჩასაწერი\n",
        "მნიშვნელობა.\n",
        "\"\"\""
      ],
      "metadata": {
        "id": "h4aFRj4E7lDj"
      },
      "execution_count": null,
      "outputs": []
    },
    {
      "cell_type": "code",
      "source": [
        "stud = (\"მოსია\", \"იაკობ\", \"მამრობითი\")\n",
        "comm = \"\"\"\n",
        " insert into Student\n",
        " (LName, FName, Gender)\n",
        " values\n",
        " (?, ?, ?)\n",
        " \"\"\"\n",
        "curs.execute(comm, stud)"
      ],
      "metadata": {
        "colab": {
          "base_uri": "https://localhost:8080/"
        },
        "id": "VlccwLnU7mu0",
        "outputId": "ffe36a92-85b8-4db2-fd13-d9e375a019dd"
      },
      "execution_count": 119,
      "outputs": [
        {
          "output_type": "execute_result",
          "data": {
            "text/plain": [
              "<sqlite3.Cursor at 0x7b2a4ef22d40>"
            ]
          },
          "metadata": {},
          "execution_count": 119
        }
      ]
    },
    {
      "cell_type": "code",
      "source": [
        "comm = \"\"\" select * from Student \"\"\"\n",
        "Stud_List = curs.execute(comm).fetchall()\n",
        "# Stud_List = curs.execute(comm).fetchone()\n",
        "Stud_List"
      ],
      "metadata": {
        "id": "kIkHh-OQmH51",
        "outputId": "d7b74ac7-3edf-47af-b4d0-74788094316f",
        "colab": {
          "base_uri": "https://localhost:8080/"
        }
      },
      "execution_count": null,
      "outputs": [
        {
          "output_type": "execute_result",
          "data": {
            "text/plain": [
              "[(1, 'ანთიძე', 'ანა', 'მდედრობითი'),\n",
              " (2, 'ბრეგვაძე', 'გიორგი', 'მამრობითი'),\n",
              " (3, 'მალაზონია', 'შოთა', 'მამრობითი'),\n",
              " (4, 'წულაია', 'ელენე', 'მდედრობითი'),\n",
              " (5, 'მენთეშაშვილი', 'პავლე', 'მამრობითი'),\n",
              " (6, 'მოსია', 'იაკობ', 'მამრობითი')]"
            ]
          },
          "metadata": {},
          "execution_count": 25
        }
      ]
    },
    {
      "cell_type": "code",
      "source": [
        "\"\"\"\n",
        "ჩანაწერის ასეთი სახით გაკეთების შესაძლებლობა იძლევა წინასწარ გამზადებული\n",
        "სიმრავლის გამოყენებით ბაზაში დიდი რაოდენობით ჩანაწერის გაკეთების საშუალებას. ამ\n",
        "შემთხვევაში ბაზაზე შესაბამისი ბრძანებით მიმართვისთვის execute() მეთოდის ნაცვლად ხდება\n",
        "executemany() მეთოდის გამოყენება, რომელიც ღებულობს 2 პარამეტრს. პირველი პარამეტრით\n",
        "ხდება ბაზის შესაბამისი ბრძანების მითითება, ხოლო მეორე პარამეტრით კი შესაბამისი სიმრავლის\n",
        "მითითება.\n",
        "\"\"\""
      ],
      "metadata": {
        "id": "FSBEzTK67yMX"
      },
      "execution_count": null,
      "outputs": []
    },
    {
      "cell_type": "code",
      "source": [
        "Stud_List = [\n",
        " [\"ბერიანიძე\", \"გვანცა\", \"მდედრობითი\"],\n",
        " [\"ლაბაძე\", \"დავითი\", \"მამრობითი\"],\n",
        " [\"დალაქიშვილი\", \"თამარი\", \"მდედრობითი\"],\n",
        " [\"მოსია\", \"იაკობ\", \"მამრობითი\"]\n",
        "]\n",
        "comm = \"\"\"\n",
        " insert into Student\n",
        " (LName, FName, Gender)\n",
        " values\n",
        " (?,?,?)\n",
        " \"\"\"\n",
        "curs.executemany(comm, Stud_List)\n"
      ],
      "metadata": {
        "colab": {
          "base_uri": "https://localhost:8080/"
        },
        "id": "C8oX7oYU7zpE",
        "outputId": "89f7a63a-4acd-4bc3-ab73-27b4ad83ac74"
      },
      "execution_count": 120,
      "outputs": [
        {
          "output_type": "execute_result",
          "data": {
            "text/plain": [
              "<sqlite3.Cursor at 0x7b2a4ef22d40>"
            ]
          },
          "metadata": {},
          "execution_count": 120
        }
      ]
    },
    {
      "cell_type": "code",
      "source": [
        "comm = \"\"\" select * from Student \"\"\"\n",
        "Stud_List = curs.execute(comm).fetchall()\n",
        "# Stud_List = curs.execute(comm).fetchone()\n",
        "Stud_List"
      ],
      "metadata": {
        "id": "n_926gDCmRti",
        "outputId": "e795ceca-a6b0-4215-f1e4-e49aa6e4ad97",
        "colab": {
          "base_uri": "https://localhost:8080/"
        }
      },
      "execution_count": 121,
      "outputs": [
        {
          "output_type": "execute_result",
          "data": {
            "text/plain": [
              "[(1, 'ანთიძე', 'ანა', 'მდედრობითი'),\n",
              " (2, 'ბრეგვაძე', 'გიორგი', 'მამრობითი'),\n",
              " (3, 'მალაზონია', 'შოთა', 'მამრობითი'),\n",
              " (4, 'Mosia', 'Iakob', 'Male'),\n",
              " (5, 'წულაია', 'ელენე', 'მდედრობითი'),\n",
              " (6, 'მენთეშაშვილი', 'პავლე', 'მამრობითი'),\n",
              " (7, 'მოსია', 'იაკობ', 'მამრობითი'),\n",
              " (8, 'ბერიანიძე', 'გვანცა', 'მდედრობითი'),\n",
              " (9, 'ლაბაძე', 'დავითი', 'მამრობითი'),\n",
              " (10, 'დალაქიშვილი', 'თამარი', 'მდედრობითი'),\n",
              " (11, 'მოსია', 'იაკობ', 'მამრობითი')]"
            ]
          },
          "metadata": {},
          "execution_count": 121
        }
      ]
    },
    {
      "cell_type": "code",
      "source": [
        "\"\"\"\n",
        "ცხრილის შექმნიდან გარკვეული პერიოდის გავლის შემდეგ შეიძლება აღმოჩნდეს, რომ\n",
        "ცხრილში საჭიროა ახალი ველის დამატება. ამის გაკეთება შესაძლებელია ბრძანებით ALTER TABLE.\n",
        "ALTER TABLE ბრძანების გამოყენებით ასევე შესაძლებელია ცხრილისთვის სახელის შეცვლა.\n",
        "ბრძანების გამოყენებისას არსებობს გარკვეული შეზღუდვები, რომელთაგან ერთერთი\n",
        "მდგომარეობს იმაში, რომ ALTER TABLE ბრძანების გამოყენებით არ უნდა მოხდეს ისეთი ველის\n",
        "შექმნა, რომელიც გამოყენებული იქნება გასაღების როლში. შევნიშნოთ, რომ თუ ცხრილისთვის\n",
        "ახალი ველის ჩამატების აუცილებლობის შემთხვევაში საჭიროა ასეთ ველს განესაზღვროს\n",
        "მნიშვნელობა NOT NULL, მაშინ უნდა მოხდეს შესაბამისი ველისთვის ე.წ. გაჩუმებითი\n",
        "მნიშვნელობის განსაზღვრა, რისი გაკეთებაც შესაძლებელია ბრძანებაში DEFAULT გასაღების სიტყვის\n",
        "გამოყენებით.\n",
        "\"\"\""
      ],
      "metadata": {
        "colab": {
          "base_uri": "https://localhost:8080/"
        },
        "id": "At7hZ5Mv758b",
        "outputId": "666dd673-7f0b-4523-b153-6412190bed0d"
      },
      "execution_count": null,
      "outputs": [
        {
          "output_type": "stream",
          "name": "stdout",
          "text": [
            "<sqlite3.Cursor object at 0x7dae2ef2e440>\n"
          ]
        }
      ]
    },
    {
      "cell_type": "code",
      "source": [
        "comm = \"\"\"\n",
        " ALTER TABLE Student\n",
        " ADD COLUMN age integer default -1\n",
        " \"\"\"\n",
        "curs.execute(comm)"
      ],
      "metadata": {
        "id": "YGvwr-RR8D9M",
        "outputId": "fb485ba6-aab6-44ec-f9c5-22add83cc0df",
        "colab": {
          "base_uri": "https://localhost:8080/",
          "height": 176
        }
      },
      "execution_count": 127,
      "outputs": [
        {
          "output_type": "error",
          "ename": "OperationalError",
          "evalue": "duplicate column name: age",
          "traceback": [
            "\u001b[0;31m---------------------------------------------------------------------------\u001b[0m",
            "\u001b[0;31mOperationalError\u001b[0m                          Traceback (most recent call last)",
            "\u001b[0;32m<ipython-input-127-6687543cb090>\u001b[0m in \u001b[0;36m<cell line: 5>\u001b[0;34m()\u001b[0m\n\u001b[1;32m      3\u001b[0m  \u001b[0mADD\u001b[0m \u001b[0mCOLUMN\u001b[0m \u001b[0mage\u001b[0m \u001b[0minteger\u001b[0m \u001b[0mdefault\u001b[0m \u001b[0;34m-\u001b[0m\u001b[0;36m1\u001b[0m\u001b[0;34m\u001b[0m\u001b[0;34m\u001b[0m\u001b[0m\n\u001b[1;32m      4\u001b[0m  \"\"\"\n\u001b[0;32m----> 5\u001b[0;31m \u001b[0mcurs\u001b[0m\u001b[0;34m.\u001b[0m\u001b[0mexecute\u001b[0m\u001b[0;34m(\u001b[0m\u001b[0mcomm\u001b[0m\u001b[0;34m)\u001b[0m\u001b[0;34m\u001b[0m\u001b[0;34m\u001b[0m\u001b[0m\n\u001b[0m",
            "\u001b[0;31mOperationalError\u001b[0m: duplicate column name: age"
          ]
        }
      ]
    },
    {
      "cell_type": "code",
      "source": [
        "comm = \"\"\" select * from Student \"\"\"\n",
        "Stud_List = curs.execute(comm).fetchall()\n",
        "# Stud_List = curs.execute(comm).fetchone()\n",
        "Stud_List"
      ],
      "metadata": {
        "id": "dAdp1H48malT",
        "outputId": "c95d21b6-2c91-4fad-9099-d5adbd2f6024",
        "colab": {
          "base_uri": "https://localhost:8080/"
        }
      },
      "execution_count": 128,
      "outputs": [
        {
          "output_type": "execute_result",
          "data": {
            "text/plain": [
              "[(1, 'ანთიძე', 'ანა', 'მდედრობითი', None),\n",
              " (2, 'ბრეგვაძე', 'გიორგი', 'მამრობითი', None),\n",
              " (3, 'მალაზონია', 'შოთა', 'მამრობითი', None),\n",
              " (4, 'Mosia', 'Iakob', 'Male', None),\n",
              " (5, 'წულაია', 'ელენე', 'მდედრობითი', None),\n",
              " (6, 'მენთეშაშვილი', 'პავლე', 'მამრობითი', None),\n",
              " (7, 'მოსია', 'იაკობ', 'მამრობითი', None),\n",
              " (8, 'ბერიანიძე', 'გვანცა', 'მდედრობითი', None),\n",
              " (9, 'ლაბაძე', 'დავითი', 'მამრობითი', None),\n",
              " (10, 'დალაქიშვილი', 'თამარი', 'მდედრობითი', None),\n",
              " (11, 'მოსია', 'იაკობ', 'მამრობითი', None)]"
            ]
          },
          "metadata": {},
          "execution_count": 128
        }
      ]
    },
    {
      "cell_type": "code",
      "source": [
        "# ცხრილის სახელის შეცვლის კოდი\n",
        "\n",
        "comm = \"\"\"\n",
        " alter table Student\n",
        " rename to TSU_Student\n",
        " \"\"\"\n",
        "curs.execute(comm)\n"
      ],
      "metadata": {
        "colab": {
          "base_uri": "https://localhost:8080/"
        },
        "id": "w0MkUrjK8e1-",
        "outputId": "a31e6022-d190-4291-956c-0e48ca22c9f7"
      },
      "execution_count": null,
      "outputs": [
        {
          "output_type": "execute_result",
          "data": {
            "text/plain": [
              "<sqlite3.Cursor at 0x7b2a7074ee40>"
            ]
          },
          "metadata": {},
          "execution_count": 30
        }
      ]
    },
    {
      "cell_type": "code",
      "source": [
        "comm = \"\"\"\n",
        "alter table TSU_Student\n",
        "rename to Student\n",
        "\"\"\"\n",
        "curs.execute(comm)"
      ],
      "metadata": {
        "colab": {
          "base_uri": "https://localhost:8080/"
        },
        "id": "pgxeresa9HGT",
        "outputId": "00d934fc-2e1f-49ed-f722-739f1314c08f"
      },
      "execution_count": null,
      "outputs": [
        {
          "output_type": "execute_result",
          "data": {
            "text/plain": [
              "<sqlite3.Cursor at 0x7b2a7074ee40>"
            ]
          },
          "metadata": {},
          "execution_count": 32
        }
      ]
    },
    {
      "cell_type": "code",
      "source": [
        "\"\"\"\n",
        "ბუნებრივია, რომ ცხრილში ახალი ველის ჩამატების შემთხვევაში აუცილებელი იქნება\n",
        "შესაბამის ველზე მნიშვნელობის განახლება, ან ბაზის შევსებისას დაშვებული შეცდომის აღმოჩენის\n",
        "შემთხვევაში საჭირო იქნება შესაბამისი ჩანაწერის განახლება. ბაზაში გაკეთებული ჩანაწერის\n",
        "განახლების საშუალებას იძლევა ბრძანება UPDATE.\n",
        "\"\"\""
      ],
      "metadata": {
        "id": "oxAiGqYM8pTd"
      },
      "execution_count": null,
      "outputs": []
    },
    {
      "cell_type": "code",
      "source": [
        "comm = \"\"\"\n",
        " UPDATE Student\n",
        " SET age = 20\n",
        " WHERE Id = 1\n",
        " \"\"\"\n",
        "curs.execute(comm)\n"
      ],
      "metadata": {
        "colab": {
          "base_uri": "https://localhost:8080/"
        },
        "id": "J_Q5pxce8xaY",
        "outputId": "82bdaa24-ed2a-4623-e9fe-7def94cc88b5"
      },
      "execution_count": 129,
      "outputs": [
        {
          "output_type": "execute_result",
          "data": {
            "text/plain": [
              "<sqlite3.Cursor at 0x7b2a4ef22d40>"
            ]
          },
          "metadata": {},
          "execution_count": 129
        }
      ]
    },
    {
      "cell_type": "code",
      "source": [
        "comm = \"\"\" select * from Student \"\"\"\n",
        "Stud_List = curs.execute(comm).fetchall()\n",
        "# Stud_List = curs.execute(comm).fetchone()\n",
        "Stud_List"
      ],
      "metadata": {
        "id": "1OZ0aPnJmxJL",
        "outputId": "60fd1094-b3eb-41fe-c1ca-d82f577b1dfb",
        "colab": {
          "base_uri": "https://localhost:8080/"
        }
      },
      "execution_count": 130,
      "outputs": [
        {
          "output_type": "execute_result",
          "data": {
            "text/plain": [
              "[(1, 'ანთიძე', 'ანა', 'მდედრობითი', 20),\n",
              " (2, 'ბრეგვაძე', 'გიორგი', 'მამრობითი', None),\n",
              " (3, 'მალაზონია', 'შოთა', 'მამრობითი', None),\n",
              " (4, 'Mosia', 'Iakob', 'Male', None),\n",
              " (5, 'წულაია', 'ელენე', 'მდედრობითი', None),\n",
              " (6, 'მენთეშაშვილი', 'პავლე', 'მამრობითი', None),\n",
              " (7, 'მოსია', 'იაკობ', 'მამრობითი', None),\n",
              " (8, 'ბერიანიძე', 'გვანცა', 'მდედრობითი', None),\n",
              " (9, 'ლაბაძე', 'დავითი', 'მამრობითი', None),\n",
              " (10, 'დალაქიშვილი', 'თამარი', 'მდედრობითი', None),\n",
              " (11, 'მოსია', 'იაკობ', 'მამრობითი', None)]"
            ]
          },
          "metadata": {},
          "execution_count": 130
        }
      ]
    },
    {
      "cell_type": "code",
      "source": [
        "\"\"\"\n",
        "დროთა განმავლობაში შესაძლებელია ბაზიდან საჭირო გახდეს არსებული ჩანაწერის ამოშლა.\n",
        "ამის გაკეთება შესაძლებელია DELETE ბრძანების გამოყენებით. თუ ბრძანების გამოყენებისას არ\n",
        "ხდება WHERE გასაღები სიტყვის გამოყენება, მაშინ ბაზის შესაბამისი ცხრილიდან იშლება ყველა\n",
        "ჩანაწერი. WHERE გასაღები სიტყვის გამოყენების შემთხვევაში კი იშლება მითითებული პირობის\n",
        "დამაკმაყოფილებელი ერთი ან ყველა ჩანაწერი.\n",
        "\"\"\""
      ],
      "metadata": {
        "id": "52A6Kr728zzm"
      },
      "execution_count": null,
      "outputs": []
    },
    {
      "cell_type": "code",
      "source": [
        "comm = \"\"\"\n",
        " delete from Student\n",
        " where Id = 3\n",
        " \"\"\"\n",
        "curs.execute(comm)"
      ],
      "metadata": {
        "colab": {
          "base_uri": "https://localhost:8080/"
        },
        "id": "5nB-MgwU9ASp",
        "outputId": "f55c9a07-9782-4f9d-be8e-9743dc449dcb"
      },
      "execution_count": 133,
      "outputs": [
        {
          "output_type": "execute_result",
          "data": {
            "text/plain": [
              "<sqlite3.Cursor at 0x7b2a4ef22d40>"
            ]
          },
          "metadata": {},
          "execution_count": 133
        }
      ]
    },
    {
      "cell_type": "code",
      "source": [
        "comm = \"\"\" select * from Student \"\"\"\n",
        "Stud_List = curs.execute(comm).fetchall()\n",
        "# Stud_List = curs.execute(comm).fetchone()\n",
        "Stud_List"
      ],
      "metadata": {
        "id": "GUOKD4Xtm3C_",
        "outputId": "adb06c78-0c47-48ce-c741-de939c8d0f3f",
        "colab": {
          "base_uri": "https://localhost:8080/"
        }
      },
      "execution_count": 134,
      "outputs": [
        {
          "output_type": "execute_result",
          "data": {
            "text/plain": [
              "[(1, 'ანთიძე', 'ანა', 'მდედრობითი', 20),\n",
              " (2, 'ბრეგვაძე', 'გიორგი', 'მამრობითი', None),\n",
              " (4, 'Mosia', 'Iakob', 'Male', None),\n",
              " (5, 'წულაია', 'ელენე', 'მდედრობითი', None),\n",
              " (6, 'მენთეშაშვილი', 'პავლე', 'მამრობითი', None),\n",
              " (7, 'მოსია', 'იაკობ', 'მამრობითი', None),\n",
              " (8, 'ბერიანიძე', 'გვანცა', 'მდედრობითი', None),\n",
              " (9, 'ლაბაძე', 'დავითი', 'მამრობითი', None),\n",
              " (10, 'დალაქიშვილი', 'თამარი', 'მდედრობითი', None),\n",
              " (11, 'მოსია', 'იაკობ', 'მამრობითი', None)]"
            ]
          },
          "metadata": {},
          "execution_count": 134
        }
      ]
    },
    {
      "cell_type": "code",
      "source": [
        "\"\"\"\n",
        "ბაზასთან მუშაობისას ხშირად საჭირო ხდება სხვადასხვა სახის მონაცემების მიღების აუცილებლობა.\n",
        "ბაზიდან მონაცემების მიღება შესაძლებელია SELECT ბრძანების გამოყენებით. ბრძანების გამოყენებით\n",
        "მიიღება ობიექტი, რომლის გამოყენებაც შეუძლებელია. გამოყენებადი მონაცემის მისაღებად საჭიროა\n",
        "მიღებული ობიექტის მიმართ გამოვიყენოთ fetchall() მეთოდი, რომელიც ბაზის ჩანაწერებს აბრუნებს\n",
        "list-ის სახით.\n",
        "\"\"\""
      ],
      "metadata": {
        "id": "oyf8zqbo9Wct"
      },
      "execution_count": null,
      "outputs": []
    },
    {
      "cell_type": "code",
      "source": [
        "comm = \"\"\" select * from Student \"\"\"\n",
        "Stud_List = curs.execute(comm).fetchall()\n",
        "Stud_List"
      ],
      "metadata": {
        "colab": {
          "base_uri": "https://localhost:8080/"
        },
        "id": "O3JTJaCL9wVr",
        "outputId": "e646ef2d-89ce-440f-ead0-dd2a61e65d9d"
      },
      "execution_count": 135,
      "outputs": [
        {
          "output_type": "execute_result",
          "data": {
            "text/plain": [
              "[(1, 'ანთიძე', 'ანა', 'მდედრობითი', 20),\n",
              " (2, 'ბრეგვაძე', 'გიორგი', 'მამრობითი', None),\n",
              " (4, 'Mosia', 'Iakob', 'Male', None),\n",
              " (5, 'წულაია', 'ელენე', 'მდედრობითი', None),\n",
              " (6, 'მენთეშაშვილი', 'პავლე', 'მამრობითი', None),\n",
              " (7, 'მოსია', 'იაკობ', 'მამრობითი', None),\n",
              " (8, 'ბერიანიძე', 'გვანცა', 'მდედრობითი', None),\n",
              " (9, 'ლაბაძე', 'დავითი', 'მამრობითი', None),\n",
              " (10, 'დალაქიშვილი', 'თამარი', 'მდედრობითი', None),\n",
              " (11, 'მოსია', 'იაკობ', 'მამრობითი', None)]"
            ]
          },
          "metadata": {},
          "execution_count": 135
        }
      ]
    },
    {
      "cell_type": "code",
      "source": [
        "\"\"\"\n",
        "ცხრილში განხორციელებული ყოველი ცვლილება უნდა იქნას შენახული. ამის გაკეთება\n",
        "შესაძლებელია ბაზათან დაკავშირების ობიექტისთვის commit() მეთოდის გამოყენებით.\n",
        "\"\"\""
      ],
      "metadata": {
        "id": "cpeTKpEF-LHa"
      },
      "execution_count": null,
      "outputs": []
    },
    {
      "cell_type": "code",
      "source": [
        "conn.commit()"
      ],
      "metadata": {
        "id": "5FJoemeD-P4g"
      },
      "execution_count": null,
      "outputs": []
    },
    {
      "cell_type": "code",
      "source": [
        "\"\"\"\n",
        "მოყვანილ ფრაგმენტში სიმბოლო * ხაზს უსვამს, რომ ხდება ბაზიდან ყველა ველის მნიშვნელობის\n",
        "ამოღება. თუ ბაზიდან საჭიროა მხოლოდ ზოგიერთი ველის მნიშვნელობის ამოღება, მაშინ\n",
        "სიმბოლო * -ის გამოყენების ნაცვლად უნდა მოხდეს იმ ველების ჩამოთვლა, რომელი ველის\n",
        "მნიშვნელობების ამოღებასაც ვაპირებთ.\n",
        "\"\"\""
      ],
      "metadata": {
        "id": "moSbrXFQ-SyS"
      },
      "execution_count": null,
      "outputs": []
    },
    {
      "cell_type": "code",
      "source": [
        "comm = \"\"\"\n",
        "select\n",
        "LName,\n",
        "FName\n",
        "from Student\n",
        "\"\"\"\n",
        "Stud_List = curs.execute(comm).fetchall()\n",
        "Stud_List"
      ],
      "metadata": {
        "id": "snpF1oY0-b9p",
        "outputId": "fae9da63-b4da-4cc0-f9ee-fe7a8115fd28",
        "colab": {
          "base_uri": "https://localhost:8080/"
        }
      },
      "execution_count": 136,
      "outputs": [
        {
          "output_type": "execute_result",
          "data": {
            "text/plain": [
              "[('ანთიძე', 'ანა'),\n",
              " ('ბრეგვაძე', 'გიორგი'),\n",
              " ('Mosia', 'Iakob'),\n",
              " ('წულაია', 'ელენე'),\n",
              " ('მენთეშაშვილი', 'პავლე'),\n",
              " ('მოსია', 'იაკობ'),\n",
              " ('ბერიანიძე', 'გვანცა'),\n",
              " ('ლაბაძე', 'დავითი'),\n",
              " ('დალაქიშვილი', 'თამარი'),\n",
              " ('მოსია', 'იაკობ')]"
            ]
          },
          "metadata": {},
          "execution_count": 136
        }
      ]
    },
    {
      "cell_type": "code",
      "source": [
        "\"\"\"\n",
        "თუ დამატებით საჭიროა ბაზიდან ამოღებული მონაცემი დალაგებული იყოს გვარის ზრდადი\n",
        "(კლებადი) მიმდევრობით, მაშინ ამის გაკეთება შესაძლებელია ბრძანებით ORDER BY, რომელსაც\n",
        "შესაბამისად უნდა მიეთითოს პარამეტრი ASC (DESC).\n",
        "\"\"\""
      ],
      "metadata": {
        "id": "do9_7BP1-iqh"
      },
      "execution_count": null,
      "outputs": []
    },
    {
      "cell_type": "code",
      "source": [
        "comm = \"\"\"\n",
        "select\n",
        "LName,\n",
        "FName\n",
        "from Student\n",
        "order by\n",
        "LName\n",
        "ASC\n",
        "\"\"\"\n",
        "Stud_List = curs.execute(comm).fetchall()\n",
        "Stud_List"
      ],
      "metadata": {
        "id": "jXhcqh8K-kPC",
        "outputId": "22b3946f-6887-4586-c588-98c82436b8d1",
        "colab": {
          "base_uri": "https://localhost:8080/"
        }
      },
      "execution_count": 137,
      "outputs": [
        {
          "output_type": "execute_result",
          "data": {
            "text/plain": [
              "[('Mosia', 'Iakob'),\n",
              " ('ანთიძე', 'ანა'),\n",
              " ('ბერიანიძე', 'გვანცა'),\n",
              " ('ბრეგვაძე', 'გიორგი'),\n",
              " ('დალაქიშვილი', 'თამარი'),\n",
              " ('ლაბაძე', 'დავითი'),\n",
              " ('მენთეშაშვილი', 'პავლე'),\n",
              " ('მოსია', 'იაკობ'),\n",
              " ('მოსია', 'იაკობ'),\n",
              " ('წულაია', 'ელენე')]"
            ]
          },
          "metadata": {},
          "execution_count": 137
        }
      ]
    },
    {
      "cell_type": "code",
      "source": [
        "\"\"\"\n",
        "თუ ბაზასთან მუშაობისას საჭირო გახდა ერთი ან რამდენიმე ცხრილის წაშლა, მაშინ ამის\n",
        "გაკეთება შეიძლება ბრძანებით DROP TABLE. ბრძანების გამოყენების შემთხვევაში თუ ბაზაში\n",
        "შესაბამისი ცხრილი არ არსებობს წარმოიშობა შეცდომა. შეცდომის თავიდან აცილების მიზნით\n",
        "შესაძლებელია წინასწარ მოხდეს შემოწმება ცხრილის არსებობაზე და მხოლოდ ამის შემდეგ\n",
        "მოხდეს მისი წაშლა.\n",
        "\"\"\""
      ],
      "metadata": {
        "id": "HTmAaVwI9ySY"
      },
      "execution_count": null,
      "outputs": []
    },
    {
      "cell_type": "code",
      "source": [
        "comm = \"\"\"\n",
        "drop table if exists Student\n",
        "\"\"\"\n",
        "curs.execute(comm)"
      ],
      "metadata": {
        "colab": {
          "base_uri": "https://localhost:8080/"
        },
        "id": "pKuDBhTh9_XF",
        "outputId": "bdab7c98-80c9-4422-d937-da89c3e5d97c"
      },
      "execution_count": null,
      "outputs": [
        {
          "output_type": "execute_result",
          "data": {
            "text/plain": [
              "<sqlite3.Cursor at 0x7dae2ef2e440>"
            ]
          },
          "metadata": {},
          "execution_count": 25
        }
      ]
    },
    {
      "cell_type": "code",
      "source": [
        "# Create the database\n",
        "!sqlite3 mydb.db\n",
        "\n",
        "# Connect to the database\n",
        "conne = sqlite3.connect(\"sample_data/mydb.db\")\n",
        "\n",
        "# Create the cursor\n",
        "cur = conne.cursor()\n",
        "\n",
        "comm = \"\"\"\n",
        "drop table if exists person\n",
        "\"\"\"\n",
        "\n",
        "cur.execute(comm)\n",
        "# Create the table\n",
        "comm = \"\"\"\n",
        "create table person(\n",
        "  ID INTEGER PRIMARY KEY AUTOINCREMENT,\n",
        "  LastName varchar(255) NOT NULL,\n",
        "  FirstName varchar(255),\n",
        "  Age int\n",
        ")\n",
        "\"\"\"\n",
        "cur.execute(comm)\n",
        "\n",
        "# Commit the changes\n",
        "conne.commit()\n"
      ],
      "metadata": {
        "id": "YzDJ5BW_zc3h",
        "outputId": "99388fea-b850-46cb-8795-3a7b8922b277",
        "colab": {
          "base_uri": "https://localhost:8080/"
        }
      },
      "execution_count": null,
      "outputs": [
        {
          "output_type": "stream",
          "name": "stdout",
          "text": [
            "/bin/bash: line 1: sqlite3: command not found\n"
          ]
        }
      ]
    },
    {
      "cell_type": "code",
      "source": [
        "LNames = ['აბაშიძე', 'გიგაური', 'არჩვაძე', 'ახალაია', 'ბაძაღუა', 'ბერიანიძე',\n",
        "'ბერიშვილი', 'გვენცაძე', 'დალაქიშვილი', 'ანთიძე', 'გიორგაძე', 'გოგალაძე', 'გოცირიძე',\n",
        "'ვარდიძე', 'ზარანდია', 'თადუმაძე', 'ლაბაძე', 'კვარაცხელია', 'კუსრაძე', 'კვესელავა',\n",
        "'კაპანაძე', 'კასრაძე', 'კვინიკაძე']\n",
        "# print(len(LNames))\n",
        "# გოგონების სახელების სიმრავლე: 40 ჩანაწერი\n",
        "GNames = ['ანა', 'ანუკი', 'ბარბარე', 'გვანცა', 'დიანა', 'ეკა', 'ელენე', 'ვერონიკა',\n",
        "'ვიქტორია', 'თათია', 'ლამზირა']\n",
        "# print(len(GNames))\n",
        "# ბიჭების სახელების სიმრავლე: 40 ჩანაწერი\n",
        "BNames = ['ალეკო', 'ალიკა', 'ამირან', 'ანდრია', 'არჩილი', 'ასლანი', 'ბაჩუკი', 'ბექა',\n",
        "'გიგა', 'გიორგი', 'დავითი', 'გიგი', 'გოგა', 'დათა', 'ერეკლე', 'თემური', 'იაკობ',\n",
        "'ილია', 'ირაკლი', 'ლადო']"
      ],
      "metadata": {
        "id": "LnppR33q9iO7"
      },
      "execution_count": null,
      "outputs": []
    },
    {
      "cell_type": "code",
      "source": [
        "import random"
      ],
      "metadata": {
        "id": "BcxpD-C2-XGM"
      },
      "execution_count": null,
      "outputs": []
    },
    {
      "cell_type": "code",
      "source": [
        "for i in range(15):\n",
        "  comm = \"\"\"\n",
        "  insert into person(Lastname, FirstName, Age)\n",
        "  values(?, ?, ?)\n",
        "  \"\"\"\n",
        "\n",
        "  cur.execute(comm, (random.choice(LNames), random.choice([random.choice(GNames), random.choice(BNames)]), random.choice(range(20,80))))\n"
      ],
      "metadata": {
        "id": "Qkm_b43Q90Br"
      },
      "execution_count": null,
      "outputs": []
    },
    {
      "cell_type": "code",
      "source": [
        "comm = \"\"\" select * from person \"\"\"\n",
        "Stud_List = cur.execute(comm).fetchall()\n",
        "# Stud_List = curs.execute(comm).fetchone()\n",
        "Stud_List"
      ],
      "metadata": {
        "id": "V8O9GlQi_PGo",
        "outputId": "2b48c3f2-a521-43a1-d32f-c198c4a9815c",
        "colab": {
          "base_uri": "https://localhost:8080/"
        }
      },
      "execution_count": null,
      "outputs": [
        {
          "output_type": "execute_result",
          "data": {
            "text/plain": [
              "[(1, 'კვარაცხელია', 'ეკა', 56),\n",
              " (2, 'ვარდიძე', 'ლამზირა', 76),\n",
              " (3, 'კაპანაძე', 'ალეკო', 75),\n",
              " (4, 'ბაძაღუა', 'გვანცა', 55),\n",
              " (5, 'აბაშიძე', 'ანუკი', 65),\n",
              " (6, 'ბაძაღუა', 'ბარბარე', 77),\n",
              " (7, 'გოცირიძე', 'ალიკა', 24),\n",
              " (8, 'დალაქიშვილი', 'დიანა', 31),\n",
              " (9, 'კვინიკაძე', 'ალიკა', 67),\n",
              " (10, 'გვენცაძე', 'დიანა', 29),\n",
              " (11, 'აბაშიძე', 'თემური', 62),\n",
              " (12, 'ბერიშვილი', 'ვერონიკა', 79),\n",
              " (13, 'დალაქიშვილი', 'ლადო', 44),\n",
              " (14, 'ანთიძე', 'არჩილი', 27),\n",
              " (15, 'კუსრაძე', 'გვანცა', 24),\n",
              " (16, 'კვარაცხელია', 'ვიქტორია', 72),\n",
              " (17, 'კვარაცხელია', 'თემური', 54),\n",
              " (18, 'ახალაია', 'გიგი', 42),\n",
              " (19, 'გიგაური', 'ანა', 22),\n",
              " (20, 'ზარანდია', 'გიგი', 44),\n",
              " (21, 'დალაქიშვილი', 'იაკობ', 35),\n",
              " (22, 'არჩვაძე', 'ლამზირა', 76),\n",
              " (23, 'კასრაძე', 'თემური', 42),\n",
              " (24, 'ზარანდია', 'ილია', 65),\n",
              " (25, 'გიორგაძე', 'ბექა', 75),\n",
              " (26, 'კუსრაძე', 'თემური', 38),\n",
              " (27, 'გიორგაძე', 'არჩილი', 64),\n",
              " (28, 'ბაძაღუა', 'ალიკა', 28),\n",
              " (29, 'ვარდიძე', 'თათია', 41),\n",
              " (30, 'ლაბაძე', 'თათია', 32)]"
            ]
          },
          "metadata": {},
          "execution_count": 73
        }
      ]
    }
  ]
}