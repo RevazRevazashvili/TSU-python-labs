{
  "nbformat": 4,
  "nbformat_minor": 0,
  "metadata": {
    "colab": {
      "provenance": [],
      "authorship_tag": "ABX9TyOj3ePA3CW+CI6gLJ/j32qh",
      "include_colab_link": true
    },
    "kernelspec": {
      "name": "python3",
      "display_name": "Python 3"
    },
    "language_info": {
      "name": "python"
    }
  },
  "cells": [
    {
      "cell_type": "markdown",
      "metadata": {
        "id": "view-in-github",
        "colab_type": "text"
      },
      "source": [
        "<a href=\"https://colab.research.google.com/github/RevazRevazashvili/TSU-python-labs/blob/main/Lab_8_DataBases_SQLite_MongoDB.ipynb\" target=\"_parent\"><img src=\"https://colab.research.google.com/assets/colab-badge.svg\" alt=\"Open In Colab\"/></a>"
      ]
    },
    {
      "cell_type": "markdown",
      "source": [
        "#მონაცემების შენახვა : რელაციური და არარელაციური ბაზები. მოდულები: sqlite3, MongoDB."
      ],
      "metadata": {
        "id": "7adiWEmVNTDk"
      }
    },
    {
      "cell_type": "markdown",
      "source": [
        "SQLite ბაზა"
      ],
      "metadata": {
        "id": "tfhKea2jNdJG"
      }
    },
    {
      "cell_type": "code",
      "execution_count": null,
      "metadata": {
        "id": "vsB83i8eNSCg"
      },
      "outputs": [],
      "source": [
        "\"\"\"\n",
        "SQLite წარმოადგენს C ენაზე შემუშავებულ მონაცემთა შენახვის რელაციურ მონაცემთა ბაზის\n",
        "პროგრამას, რომელიც არ საჭიროებს გამოყოფილ სერვერულ პროცესს და იძლევა მონაცემთა ბაზის\n",
        "მიმართ SQL (structured query language) ენის ბრძანებების გამოყენების საშუალებას. ის მსგავსი\n",
        "პროგრამებისგან განსხვავებით არ ტვირთავს ოპერაციულ სისტემას და შეიძლება გამოყენებული\n",
        "იქნას პროგრამის ლოკალური მონაცემების შესანახად. SQLite -ის მეშვეობით შესაძლებელია\n",
        "დაპროექტირებული იქნას მასშტაბური პროგრამული უზრუნველყოფის მონაცემთა ბაზა, რომელიც\n",
        "მოგვიანებით გადატანილი იქნება მრავალფუნქციურ მონაცემთა ბაზაში, როგორიცაა მაგალითად,\n",
        "PostgreSQL ან Oracle.\n",
        "\"\"\""
      ]
    },
    {
      "cell_type": "markdown",
      "source": [
        "ბაზასთან დაკავშირება"
      ],
      "metadata": {
        "id": "eBlQaYBeNwgI"
      }
    },
    {
      "cell_type": "code",
      "source": [
        "#ბაზასთან სამუშაოდ და ფუნქციონალის გამოსაყენებლად Python-ში გვაქვს sqlite3 მოდული\n",
        "\n",
        "import sqlite3"
      ],
      "metadata": {
        "id": "N_8Q_LbxNYWq"
      },
      "execution_count": 2,
      "outputs": []
    },
    {
      "cell_type": "code",
      "source": [
        "# რადგანაც შესაბამის ბაზასთან დაკავშირება შეიძლება დასრულდეს წარუმატებლად, ამიტომ სასურველია ცალკე ინსტრუქციით მოხდეს პროგრამული კოდისთვის sqlite3 მოდულში\n",
        "#განსაზღვრული Error ობიექტის მიერთება ინსტრუქციით:\n",
        "\n",
        "from sqlite3 import Error, connect\n"
      ],
      "metadata": {
        "id": "vGXdLnLTN2QK"
      },
      "execution_count": 3,
      "outputs": []
    },
    {
      "cell_type": "code",
      "source": [
        "\"\"\"\n",
        "მონაცემთა ბაზის ფაილთან დაკავშირება შესაძლებელია connect() მეთოდის გამოყენებით.\n",
        "შევნიშნოთ, რომ თუ ფაილური სისტემაში მითითებულ მისამართზე შესაბამისი მონაცემთა ბაზის\n",
        "ფაილი არ არსებობს, მაშინ ის შეიქმნება ავტომატურად.\n",
        "\"\"\""
      ],
      "metadata": {
        "id": "X9iVQA-JOVrU"
      },
      "execution_count": null,
      "outputs": []
    },
    {
      "cell_type": "code",
      "source": [
        "# ბაზასთან დაკავშირების შესაბამის კოდს ექნება სახე:\n",
        "import os\n",
        "\n",
        "db_name = os.getcwd() + '\\\\' + 'sq2.db' # განვსაზღვროთ ბაზის სახელი\n",
        "conn = None # განვსაზღვროთ ცვლადი ბაზასთან დაკავშირებისთვის\n",
        "\n",
        "try:\n",
        "  conn = sqlite3.connect(db_name) # დავუკავშირდეთ ბაზას\n",
        "  print(f'{db_name} ბაზის ფაილთან დაკავშირება დასრულდა წარმატებით!')\n",
        "except Error as err:\n",
        "  print(f'ბაზასთან დაკავშირებისას დაფიქსირდა შეცდომა: {err}')\n",
        "# finally ბლოკის გამოყენება სასურველია იმ შემთხვევაში თუ ბაზის ფაილთან\n",
        "# საქმიანობა უკვე დამთავრებულია და საჭიროა მასთან კავშირის გაწყვეტა\n",
        "finally:\n",
        "  if conn: # თუ ბაზასთან კავშირი ჯერ კიდევ არსებობს\n",
        "    conn.close() # გავწყვიტოთ კავშირი ბაზასთან"
      ],
      "metadata": {
        "colab": {
          "base_uri": "https://localhost:8080/"
        },
        "id": "-koXSzVFOhD8",
        "outputId": "4c2f6b2c-9c79-4617-cb12-c7516be24c72"
      },
      "execution_count": 3,
      "outputs": [
        {
          "output_type": "stream",
          "name": "stdout",
          "text": [
            "/content\\sq2.db ბაზის ფაილთან დაკავშირება დასრულდა წარმატებით!\n"
          ]
        }
      ]
    },
    {
      "cell_type": "code",
      "source": [
        "\"\"\"\n",
        "ბაზასთან დაკავშირების შემდეგ საჭიროა მის მიმართ გარკვეული ინსტრუქციის შესაბამისი\n",
        "მოქმედების შესასრულებელი ბრძანების გადაწოდება. ამის გაკეთების საშუალებას იძლევა Cursor\n",
        "ობიექტი, რომელიც უნდა შეიქმნას ბაზისთვის ბრძანების გადაწოდებამდე.\n",
        "\"\"\""
      ],
      "metadata": {
        "id": "j-EzKQ_FO1Ub"
      },
      "execution_count": null,
      "outputs": []
    },
    {
      "cell_type": "code",
      "source": [
        "# Cursor ობიექტის შექმნა შესაძლებელია შემდეგი ბრძანებით:\n",
        "db_name = os.getcwd() + '\\\\' + 'sq2.db' # განვსაზღვროთ ბაზის სახელი\n",
        "\n",
        "conn = sqlite3.connect(db_name)\n",
        "curs = conn.cursor()"
      ],
      "metadata": {
        "id": "ixNC9rWlUaZR"
      },
      "execution_count": 5,
      "outputs": []
    },
    {
      "cell_type": "code",
      "source": [
        "\"\"\"\n",
        "Cursor ობიექტის შექმნის შემდეგ შესაძლებელია ბაზის მიმართ შევასრულოთ სასურველი\n",
        "ბრძანებები მისთვის განსაზღვრული execute() მეთოდის მეშვეობით.\n",
        "\"\"\""
      ],
      "metadata": {
        "id": "rx5v8Okx5m38"
      },
      "execution_count": null,
      "outputs": []
    },
    {
      "cell_type": "code",
      "source": [
        "# ცხრილის შექმნა\n",
        "\n",
        "comm = \"\"\"\n",
        "  CREATE TABLE IF NOT EXISTS Student (\n",
        "  Id integer primary key,\n",
        "  LName text,\n",
        "  FName text,\n",
        "  Gender text\n",
        "  )\n",
        " \"\"\"\n",
        "curs.execute(comm)\n"
      ],
      "metadata": {
        "colab": {
          "base_uri": "https://localhost:8080/"
        },
        "id": "tTd7QHV55_c8",
        "outputId": "86e959bd-9090-4355-e09d-a065c817a1bb"
      },
      "execution_count": 6,
      "outputs": [
        {
          "output_type": "execute_result",
          "data": {
            "text/plain": [
              "<sqlite3.Cursor at 0x7dae2ef2e440>"
            ]
          },
          "metadata": {},
          "execution_count": 6
        }
      ]
    },
    {
      "cell_type": "code",
      "source": [
        "\"\"\"\n",
        "ცხრილის შექმნის შემდეგ საჭიროა მასში მონაცემების შეტანა. ცხრილის მონაცემებით შევსება\n",
        "შესაძლებელია INSERT INTO ბრძანების გამოყენებით.\n",
        "\"\"\""
      ],
      "metadata": {
        "id": "x1AVLUAA6s5l"
      },
      "execution_count": null,
      "outputs": []
    },
    {
      "cell_type": "code",
      "source": [
        "comm = \"\"\"\n",
        "  insert into Student\n",
        "  (Id, LName, FName, Gender)\n",
        "  values\n",
        "  (1, \"ანთიძე\", \"ანა\", \"მდედრობითი\")\n",
        " \"\"\"\n",
        "curs.execute(comm)"
      ],
      "metadata": {
        "colab": {
          "base_uri": "https://localhost:8080/"
        },
        "id": "RKQeSDg-6ujz",
        "outputId": "6e9efa12-22b2-47d7-8ddf-56d545e517f3"
      },
      "execution_count": 8,
      "outputs": [
        {
          "output_type": "execute_result",
          "data": {
            "text/plain": [
              "<sqlite3.Cursor at 0x7dae2ef2e440>"
            ]
          },
          "metadata": {},
          "execution_count": 8
        }
      ]
    },
    {
      "cell_type": "code",
      "source": [
        "\"\"\"\n",
        "შევნიშნოთ, რომ INSERT INTO ბრძანების გამოყენებით შესაძლებელია ცხრილში\n",
        "ერთდროულად რამდენიმე ჩანაწერის გაკეთება, თუ value გასაღები სიტყვის შემდეგ ჩამოვთვლით\n",
        "შესაბამის მონაცემებს. ასევე, თუ ცხრილში მონაცემები შეგვაქვს ყველა ველის გათვალისწინებით,\n",
        "მაშინ მოყვანილ ბრძანებაში ველების დასახელებების გამოტოვება არის შესაძლებელი.\n",
        "\"\"\""
      ],
      "metadata": {
        "id": "rfNYJArD7C3_"
      },
      "execution_count": null,
      "outputs": []
    },
    {
      "cell_type": "code",
      "source": [
        "comm = \"\"\"\n",
        " insert into Student\n",
        " values\n",
        " (2, \"ბრეგვაძე\", \"გიორგი\", \"მამრობითი\"),\n",
        " (3, \"მალაზონია\", \"შოთა\", \"მამრობითი\")\n",
        " \"\"\"\n",
        "curs.execute(comm)"
      ],
      "metadata": {
        "colab": {
          "base_uri": "https://localhost:8080/"
        },
        "id": "QD5K6lRe7Ect",
        "outputId": "4afb6350-67fc-4d42-ceca-92fa398c7e53"
      },
      "execution_count": 9,
      "outputs": [
        {
          "output_type": "execute_result",
          "data": {
            "text/plain": [
              "<sqlite3.Cursor at 0x7dae2ef2e440>"
            ]
          },
          "metadata": {},
          "execution_count": 9
        }
      ]
    },
    {
      "cell_type": "code",
      "source": [
        "\"\"\"\n",
        "იმ შემთხვევაში, თუ ვაპირებთ ცხრილის შევსებისას როლიმე ველის მნიშვნელობა\n",
        "გამოვტოვოთ INSERT INTO ბრძანების გამოყენების შემდეგ უნდა ჩამოვთვალოთ დასახელებები იმ\n",
        "ველებისა, რომელთა მონაცემების შეტანასაც ვაპირებთ.\n",
        "\"\"\""
      ],
      "metadata": {
        "id": "jn3lvrKQ7Ufx"
      },
      "execution_count": null,
      "outputs": []
    },
    {
      "cell_type": "code",
      "source": [
        "comm = \"\"\"\n",
        " insert into Student\n",
        " (LName, FName, Gender)\n",
        " values\n",
        " (\"წულაია\", \"ელენე\", \"მდედრობითი\"),\n",
        " (\"მენთეშაშვილი\", \"პავლე\", \"მამრობითი\")\n",
        " \"\"\"\n",
        "curs.execute(comm)"
      ],
      "metadata": {
        "colab": {
          "base_uri": "https://localhost:8080/"
        },
        "id": "uWNAxY3b7WDO",
        "outputId": "9dd88250-cc1c-49b5-bbe9-707f65e0728a"
      },
      "execution_count": 10,
      "outputs": [
        {
          "output_type": "execute_result",
          "data": {
            "text/plain": [
              "<sqlite3.Cursor at 0x7dae2ef2e440>"
            ]
          },
          "metadata": {},
          "execution_count": 10
        }
      ]
    },
    {
      "cell_type": "code",
      "source": [
        "\"\"\"\n",
        "შევნიშნოთ, რომ რადგანაც Python ენის გამოყენებით შესაძლებელია ბაზასთან დაკავშირება და\n",
        "ბაზის მიმართ შესაბამისი ბრძანებების გამოყენება, ამიტომ INSERT INTO ბრძანების გამოყენება\n",
        "შესაძლებელია განსხვავებული ფორმითაც. კერძოდ, შესაბამისი ბრძანების გამოყენებისას ჩანაწერში\n",
        "ველებზე მნიშვნელობების ნაცვლად გამოყენებული იქნას სიმბოლო ? (კითხვის ნიშანი), ხოლო\n",
        "მოგვიანებით კი execute() მეთოდი გამოყენებული იქნას ორპარამეტრიანი ვარიანტით, რომლის\n",
        "პირველი ბრძანება იქნება ბაზასთან მიმართვის ბრძანება, ხოლო მეორე კი ცხრილში ჩასაწერი\n",
        "მნიშვნელობა.\n",
        "\"\"\""
      ],
      "metadata": {
        "id": "h4aFRj4E7lDj"
      },
      "execution_count": null,
      "outputs": []
    },
    {
      "cell_type": "code",
      "source": [
        "stud = (\"მოსია\", \"იაკობ\", \"მამრობითი\")\n",
        "comm = \"\"\"\n",
        " insert into Student\n",
        " (LName, FName, Gender)\n",
        " values\n",
        " (?, ?, ?)\n",
        " \"\"\"\n",
        "curs.execute(comm, stud)"
      ],
      "metadata": {
        "colab": {
          "base_uri": "https://localhost:8080/"
        },
        "id": "VlccwLnU7mu0",
        "outputId": "d5b8cf8f-9964-46d0-95f8-9932e3714afa"
      },
      "execution_count": 11,
      "outputs": [
        {
          "output_type": "execute_result",
          "data": {
            "text/plain": [
              "<sqlite3.Cursor at 0x7dae2ef2e440>"
            ]
          },
          "metadata": {},
          "execution_count": 11
        }
      ]
    },
    {
      "cell_type": "code",
      "source": [
        "\"\"\"\n",
        "ჩანაწერის ასეთი სახით გაკეთების შესაძლებლობა იძლევა წინასწარ გამზადებული\n",
        "სიმრავლის გამოყენებით ბაზაში დიდი რაოდენობით ჩანაწერის გაკეთების საშუალებას. ამ\n",
        "შემთხვევაში ბაზაზე შესაბამისი ბრძანებით მიმართვისთვის execute() მეთოდის ნაცვლად ხდება\n",
        "executemany() მეთოდის გამოყენება, რომელიც ღებულობს 2 პარამეტრს. პირველი პარამეტრით\n",
        "ხდება ბაზის შესაბამისი ბრძანების მითითება, ხოლო მეორე პარამეტრით კი შესაბამისი სიმრავლის\n",
        "მითითება.\n",
        "\"\"\""
      ],
      "metadata": {
        "id": "FSBEzTK67yMX"
      },
      "execution_count": null,
      "outputs": []
    },
    {
      "cell_type": "code",
      "source": [
        "Stud_List = [\n",
        " [\"ბერიანიძე\", \"გვანცა\", \"მდედრობითი\"],\n",
        " [\"ლაბაძე\", \"დავითი\", \"მამრობითი\"],\n",
        " [\"დალაქიშვილი\", \"თამარი\", \"მდედრობითი\"],\n",
        " [\"მოსია\", \"იაკობ\", \"მამრობითი\"]\n",
        "]\n",
        "comm = \"\"\"\n",
        " insert into Student\n",
        " (LName, FName, Gender)\n",
        " values\n",
        " (?,?,?)\n",
        " \"\"\"\n",
        "curs.executemany(comm, Stud_List)\n"
      ],
      "metadata": {
        "colab": {
          "base_uri": "https://localhost:8080/"
        },
        "id": "C8oX7oYU7zpE",
        "outputId": "7786066c-456a-4f60-8066-81848bdba7a3"
      },
      "execution_count": 12,
      "outputs": [
        {
          "output_type": "execute_result",
          "data": {
            "text/plain": [
              "<sqlite3.Cursor at 0x7dae2ef2e440>"
            ]
          },
          "metadata": {},
          "execution_count": 12
        }
      ]
    },
    {
      "cell_type": "code",
      "source": [
        "\"\"\"\n",
        "ცხრილის შექმნიდან გარკვეული პერიოდის გავლის შემდეგ შეიძლება აღმოჩნდეს, რომ\n",
        "ცხრილში საჭიროა ახალი ველის დამატება. ამის გაკეთება შესაძლებელია ბრძანებით ALTER TABLE.\n",
        "ALTER TABLE ბრძანების გამოყენებით ასევე შესაძლებელია ცხრილისთვის სახელის შეცვლა.\n",
        "ბრძანების გამოყენებისას არსებობს გარკვეული შეზღუდვები, რომელთაგან ერთერთი\n",
        "მდგომარეობს იმაში, რომ ALTER TABLE ბრძანების გამოყენებით არ უნდა მოხდეს ისეთი ველის\n",
        "შექმნა, რომელიც გამოყენებული იქნება გასაღების როლში. შევნიშნოთ, რომ თუ ცხრილისთვის\n",
        "ახალი ველის ჩამატების აუცილებლობის შემთხვევაში საჭიროა ასეთ ველს განესაზღვროს\n",
        "მნიშვნელობა NOT NULL, მაშინ უნდა მოხდეს შესაბამისი ველისთვის ე.წ. გაჩუმებითი\n",
        "მნიშვნელობის განსაზღვრა, რისი გაკეთებაც შესაძლებელია ბრძანებაში DEFAULT გასაღების სიტყვის\n",
        "გამოყენებით.\n",
        "\"\"\""
      ],
      "metadata": {
        "colab": {
          "base_uri": "https://localhost:8080/"
        },
        "id": "At7hZ5Mv758b",
        "outputId": "666dd673-7f0b-4523-b153-6412190bed0d"
      },
      "execution_count": 14,
      "outputs": [
        {
          "output_type": "stream",
          "name": "stdout",
          "text": [
            "<sqlite3.Cursor object at 0x7dae2ef2e440>\n"
          ]
        }
      ]
    },
    {
      "cell_type": "code",
      "source": [
        "comm = \"\"\"\n",
        " ALTER TABLE Student\n",
        " ADD COLUMN age integer default -1\n",
        " \"\"\"\n",
        "curs.execute(comm)"
      ],
      "metadata": {
        "colab": {
          "base_uri": "https://localhost:8080/"
        },
        "id": "YGvwr-RR8D9M",
        "outputId": "36ccd432-ee78-4e78-e653-e344cda7c723"
      },
      "execution_count": 15,
      "outputs": [
        {
          "output_type": "execute_result",
          "data": {
            "text/plain": [
              "<sqlite3.Cursor at 0x7dae2ef2e440>"
            ]
          },
          "metadata": {},
          "execution_count": 15
        }
      ]
    },
    {
      "cell_type": "code",
      "source": [
        "# ცხრილის სახელის შეცვლის კოდი\n",
        "\n",
        "comm = \"\"\"\n",
        " alter table Student\n",
        " rename to TSU_Student\n",
        " \"\"\"\n",
        "curs.execute(comm)\n"
      ],
      "metadata": {
        "colab": {
          "base_uri": "https://localhost:8080/"
        },
        "id": "w0MkUrjK8e1-",
        "outputId": "3b109185-6b60-4273-b75b-bf81dbb13cbb"
      },
      "execution_count": 16,
      "outputs": [
        {
          "output_type": "execute_result",
          "data": {
            "text/plain": [
              "<sqlite3.Cursor at 0x7dae2ef2e440>"
            ]
          },
          "metadata": {},
          "execution_count": 16
        }
      ]
    },
    {
      "cell_type": "code",
      "source": [
        "comm = \"\"\"\n",
        "alter table TSU_Student\n",
        "rename to Student\n",
        "\"\"\"\n",
        "curs.execute(comm)"
      ],
      "metadata": {
        "colab": {
          "base_uri": "https://localhost:8080/"
        },
        "id": "pgxeresa9HGT",
        "outputId": "2d5afccc-56ee-4233-c6b7-fc498091a88a"
      },
      "execution_count": 20,
      "outputs": [
        {
          "output_type": "execute_result",
          "data": {
            "text/plain": [
              "<sqlite3.Cursor at 0x7dae2ef2e440>"
            ]
          },
          "metadata": {},
          "execution_count": 20
        }
      ]
    },
    {
      "cell_type": "code",
      "source": [
        "\"\"\"\n",
        "ბუნებრივია, რომ ცხრილში ახალი ველის ჩამატების შემთხვევაში აუცილებელი იქნება\n",
        "შესაბამის ველზე მნიშვნელობის განახლება, ან ბაზის შევსებისას დაშვებული შეცდომის აღმოჩენის\n",
        "შემთხვევაში საჭირო იქნება შესაბამისი ჩანაწერის განახლება. ბაზაში გაკეთებული ჩანაწერის\n",
        "განახლების საშუალებას იძლევა ბრძანება UPDATE.\n",
        "\"\"\""
      ],
      "metadata": {
        "id": "oxAiGqYM8pTd"
      },
      "execution_count": null,
      "outputs": []
    },
    {
      "cell_type": "code",
      "source": [
        "comm = \"\"\"\n",
        " UPDATE Student\n",
        " SET age = 20\n",
        " WHERE Id = 1\n",
        " \"\"\"\n",
        "curs.execute(comm)\n"
      ],
      "metadata": {
        "colab": {
          "base_uri": "https://localhost:8080/"
        },
        "id": "J_Q5pxce8xaY",
        "outputId": "8757dd36-1a66-4514-a4fa-6ddf4560ce6b"
      },
      "execution_count": 21,
      "outputs": [
        {
          "output_type": "execute_result",
          "data": {
            "text/plain": [
              "<sqlite3.Cursor at 0x7dae2ef2e440>"
            ]
          },
          "metadata": {},
          "execution_count": 21
        }
      ]
    },
    {
      "cell_type": "code",
      "source": [
        "\"\"\"\n",
        "დროთა განმავლობაში შესაძლებელია ბაზიდან საჭირო გახდეს არსებული ჩანაწერის ამოშლა.\n",
        "ამის გაკეთება შესაძლებელია DELETE ბრძანების გამოყენებით. თუ ბრძანების გამოყენებისას არ\n",
        "ხდება WHERE გასაღები სიტყვის გამოყენება, მაშინ ბაზის შესაბამისი ცხრილიდან იშლება ყველა\n",
        "ჩანაწერი. WHERE გასაღები სიტყვის გამოყენების შემთხვევაში კი იშლება მითითებული პირობის\n",
        "დამაკმაყოფილებელი ერთი ან ყველა ჩანაწერი.\n",
        "\"\"\""
      ],
      "metadata": {
        "id": "52A6Kr728zzm"
      },
      "execution_count": null,
      "outputs": []
    },
    {
      "cell_type": "code",
      "source": [
        "comm = \"\"\"\n",
        " delete from Student\n",
        " where Id = 3\n",
        " \"\"\"\n",
        "curs.execute(comm)"
      ],
      "metadata": {
        "colab": {
          "base_uri": "https://localhost:8080/"
        },
        "id": "5nB-MgwU9ASp",
        "outputId": "523d00fd-4b54-4f01-fe74-9e5ad2085db3"
      },
      "execution_count": 22,
      "outputs": [
        {
          "output_type": "execute_result",
          "data": {
            "text/plain": [
              "<sqlite3.Cursor at 0x7dae2ef2e440>"
            ]
          },
          "metadata": {},
          "execution_count": 22
        }
      ]
    },
    {
      "cell_type": "code",
      "source": [
        "\"\"\"\n",
        "ბაზასთან მუშაობისას ხშირად საჭირო ხდება სხვადასხვა სახის მონაცემების მიღების აუცილებლობა.\n",
        "ბაზიდან მონაცემების მიღება შესაძლებელია SELECT ბრძანების გამოყენებით. ბრძანების გამოყენებით\n",
        "მიიღება ობიექტი, რომლის გამოყენებაც შეუძლებელია. გამოყენებადი მონაცემის მისაღებად საჭიროა\n",
        "მიღებული ობიექტის მიმართ გამოვიყენოთ fetchall() მეთოდი, რომელიც ბაზის ჩანაწერებს აბრუნებს\n",
        "list-ის სახით.\n",
        "\"\"\""
      ],
      "metadata": {
        "id": "oyf8zqbo9Wct"
      },
      "execution_count": null,
      "outputs": []
    },
    {
      "cell_type": "code",
      "source": [
        "comm = \"\"\" select * from Student \"\"\"\n",
        "Stud_List = curs.execute(comm).fetchall()\n",
        "Stud_List"
      ],
      "metadata": {
        "colab": {
          "base_uri": "https://localhost:8080/"
        },
        "id": "O3JTJaCL9wVr",
        "outputId": "c4324acd-e095-4f6c-c960-b8f0b1bdfd4a"
      },
      "execution_count": 24,
      "outputs": [
        {
          "output_type": "execute_result",
          "data": {
            "text/plain": [
              "[(1, 'ანთიძე', 'ანა', 'მდედრობითი', 20),\n",
              " (2, 'ბრეგვაძე', 'გიორგი', 'მამრობითი', -1),\n",
              " (4, 'წულაია', 'ელენე', 'მდედრობითი', -1),\n",
              " (5, 'მენთეშაშვილი', 'პავლე', 'მამრობითი', -1),\n",
              " (6, 'მოსია', 'იაკობ', 'მამრობითი', -1),\n",
              " (7, 'ბერიანიძე', 'გვანცა', 'მდედრობითი', -1),\n",
              " (8, 'ლაბაძე', 'დავითი', 'მამრობითი', -1),\n",
              " (9, 'დალაქიშვილი', 'თამარი', 'მდედრობითი', -1),\n",
              " (10, 'მოსია', 'იაკობ', 'მამრობითი', -1)]"
            ]
          },
          "metadata": {},
          "execution_count": 24
        }
      ]
    },
    {
      "cell_type": "code",
      "source": [
        "\"\"\"\n",
        "ცხრილში განხორციელებული ყოველი ცვლილება უნდა იქნას შენახული. ამის გაკეთება\n",
        "შესაძლებელია ბაზათან დაკავშირების ობიექტისთვის commit() მეთოდის გამოყენებით.\n",
        "\"\"\""
      ],
      "metadata": {
        "id": "cpeTKpEF-LHa"
      },
      "execution_count": null,
      "outputs": []
    },
    {
      "cell_type": "code",
      "source": [
        "conn.commit()"
      ],
      "metadata": {
        "id": "5FJoemeD-P4g"
      },
      "execution_count": 26,
      "outputs": []
    },
    {
      "cell_type": "code",
      "source": [
        "\"\"\"\n",
        "მოყვანილ ფრაგმენტში სიმბოლო * ხაზს უსვამს, რომ ხდება ბაზიდან ყველა ველის მნიშვნელობის\n",
        "ამოღება. თუ ბაზიდან საჭიროა მხოლოდ ზოგიერთი ველის მნიშვნელობის ამოღება, მაშინ\n",
        "სიმბოლო * -ის გამოყენების ნაცვლად უნდა მოხდეს იმ ველების ჩამოთვლა, რომელი ველის\n",
        "მნიშვნელობების ამოღებასაც ვაპირებთ.\n",
        "\"\"\""
      ],
      "metadata": {
        "id": "moSbrXFQ-SyS"
      },
      "execution_count": null,
      "outputs": []
    },
    {
      "cell_type": "code",
      "source": [
        "comm = \"\"\"\n",
        "select\n",
        "LName,\n",
        "FName\n",
        "from Student\n",
        "\"\"\"\n",
        "Stud_List = curs.execute(comm).fetchall()"
      ],
      "metadata": {
        "id": "snpF1oY0-b9p"
      },
      "execution_count": null,
      "outputs": []
    },
    {
      "cell_type": "code",
      "source": [
        "\"\"\"\n",
        "თუ დამატებით საჭიროა ბაზიდან ამოღებული მონაცემი დალაგებული იყოს გვარის ზრდადი\n",
        "(კლებადი) მიმდევრობით, მაშინ ამის გაკეთება შესაძლებელია ბრძანებით ORDER BY, რომელსაც\n",
        "შესაბამისად უნდა მიეთითოს პარამეტრი ASC (DESC).\n",
        "\"\"\""
      ],
      "metadata": {
        "id": "do9_7BP1-iqh"
      },
      "execution_count": null,
      "outputs": []
    },
    {
      "cell_type": "code",
      "source": [
        "comm = \"\"\"\n",
        "select\n",
        "LName,\n",
        "FName\n",
        "from Student\n",
        "order by\n",
        "LName\n",
        "ASC\n",
        "\"\"\"\n",
        "Stud_List = curs.execute(comm).fetchall()\n"
      ],
      "metadata": {
        "id": "jXhcqh8K-kPC"
      },
      "execution_count": null,
      "outputs": []
    },
    {
      "cell_type": "code",
      "source": [
        "\"\"\"\n",
        "თუ ბაზასთან მუშაობისას საჭირო გახდა ერთი ან რამდენიმე ცხრილი წაშლა, მაშინ ამის\n",
        "გაკეთება შეიძლება ბრძანებით DROP TABLE. ბრძანების გამოყენების შემთხვევაში თუ ბაზაში\n",
        "შესაბამისი ცხრილი არ არსებობს წარმოიშობა შეცდომა. შეცდომის თავიდან აცილების მიზნით\n",
        "შესაძლებელია წინასწარ მოხდეს შემოწმება ცხრილის არსებობაზე და მხოლოდ ამის შემდეგ\n",
        "მოხდეს მისი წაშლა.\n",
        "\"\"\""
      ],
      "metadata": {
        "id": "HTmAaVwI9ySY"
      },
      "execution_count": null,
      "outputs": []
    },
    {
      "cell_type": "code",
      "source": [
        "comm = \"\"\"\n",
        "drop table if exists Student\n",
        "\"\"\"\n",
        "curs.execute(comm)"
      ],
      "metadata": {
        "colab": {
          "base_uri": "https://localhost:8080/"
        },
        "id": "pKuDBhTh9_XF",
        "outputId": "bdab7c98-80c9-4422-d937-da89c3e5d97c"
      },
      "execution_count": 25,
      "outputs": [
        {
          "output_type": "execute_result",
          "data": {
            "text/plain": [
              "<sqlite3.Cursor at 0x7dae2ef2e440>"
            ]
          },
          "metadata": {},
          "execution_count": 25
        }
      ]
    },
    {
      "cell_type": "markdown",
      "source": [
        "MongoDB ბაზა"
      ],
      "metadata": {
        "id": "W2T0gSlaoMbX"
      }
    },
    {
      "cell_type": "code",
      "source": [
        "# pymongo არ არის პითონის სტანდარტული ბიბლიოთეკა, ამიტომ მისი დაინსტალირებაა საჭირო\n",
        "\n",
        "!pip install pymongo"
      ],
      "metadata": {
        "colab": {
          "base_uri": "https://localhost:8080/"
        },
        "id": "muxmkyfkoQMD",
        "outputId": "2ed88846-7f2b-46bd-cfb9-a5aca42e573d"
      },
      "execution_count": 2,
      "outputs": [
        {
          "output_type": "stream",
          "name": "stdout",
          "text": [
            "Collecting pymongo\n",
            "  Downloading pymongo-4.6.2-cp310-cp310-manylinux_2_17_x86_64.manylinux2014_x86_64.whl (677 kB)\n",
            "\u001b[2K     \u001b[90m━━━━━━━━━━━━━━━━━━━━━━━━━━━━━━━━━━━━━━━━\u001b[0m \u001b[32m677.2/677.2 kB\u001b[0m \u001b[31m6.9 MB/s\u001b[0m eta \u001b[36m0:00:00\u001b[0m\n",
            "\u001b[?25hCollecting dnspython<3.0.0,>=1.16.0 (from pymongo)\n",
            "  Downloading dnspython-2.6.1-py3-none-any.whl (307 kB)\n",
            "\u001b[2K     \u001b[90m━━━━━━━━━━━━━━━━━━━━━━━━━━━━━━━━━━━━━━━━\u001b[0m \u001b[32m307.7/307.7 kB\u001b[0m \u001b[31m9.7 MB/s\u001b[0m eta \u001b[36m0:00:00\u001b[0m\n",
            "\u001b[?25hInstalling collected packages: dnspython, pymongo\n",
            "Successfully installed dnspython-2.6.1 pymongo-4.6.2\n"
          ]
        }
      ]
    },
    {
      "cell_type": "code",
      "source": [
        "import pymongo"
      ],
      "metadata": {
        "id": "_m3TlcX4oqa1"
      },
      "execution_count": 3,
      "outputs": []
    },
    {
      "cell_type": "code",
      "source": [
        "\"\"\"\n",
        "კოდის ფაილში pymongo მოდულის მიერთების შემდეგ შესაძლებელია MongoDB ბაზასთან\n",
        "სრულფასოვანი საქმიანობის განხორციელება.\n",
        "MongoDB სერვერთან დაკავშირება შესაძლებელია MongoClient() მეთოდის გამოიყენება.\n",
        "მეთოდი იძლევა როგორც ლოკალურ მოწყობილობაზე განთავსებული ისე მოშორებულ (ლოკალურ\n",
        "ან გლობალურ ქსელში განთავსებულ) მოწყობილობაზე გამოყენებულ MongoDB სერვერთან\n",
        "დაკავშირების საშუალებას.\n",
        "\"\"\""
      ],
      "metadata": {
        "id": "88HpgrA4owEd"
      },
      "execution_count": null,
      "outputs": []
    },
    {
      "cell_type": "code",
      "source": [
        "\"\"\"\n",
        "MongoClient მეთოდს გააჩნია გამოყენების რამდენიმე ალტერნატიული ვარიანტი. ქვემოთ\n",
        "მოყვანილი სამივე ვარიანტში ხდება ლოკალურ მოწყობილობაზე განთავსებულ MongoDB\n",
        "სერვერთან დაკავშირება. პირველ შემთხვევაში ხდება პარამეტრების გაჩუმებითი მნიშვნელობების\n",
        "არაცხადი გამოყენება, ხოლო მეორე და მესამე შემთხვევაში კი - გაჩუმებითი მნიშვნელობების\n",
        "ცხადი გამოყენება (localhost-ი აღნიშნავს ლოკალურ კომპიუტერს, მის ნაცვლად შეიძლება\n",
        "გამოყენებული იქნას IP მისამართი 127.0.0.1, ხოლო 27017 კი წარმოადგენს ე.წ. პორტის ნომერს).\n",
        "\"\"\""
      ],
      "metadata": {
        "id": "4sj44gB1p8c4"
      },
      "execution_count": null,
      "outputs": []
    },
    {
      "cell_type": "code",
      "source": [
        "# conn = pymongo.MongoClient()\n",
        "\n",
        "conn = pymongo.MongoClient('localhost', 27017)\n",
        "\n",
        "# conn = pymongo.MongoClient('mongodb://localhost:27017/')\n"
      ],
      "metadata": {
        "id": "MQXJugSrqHQO"
      },
      "execution_count": 16,
      "outputs": []
    },
    {
      "cell_type": "code",
      "source": [
        "# ამის შემდგომ შესაძლებელია მონაცემთა ბაზასთან მანიპულირება( შექმნა, წაშლა და სხვა)\n",
        "# მონაცემთა ბაზის (db) შექმნა შესაძლებელია ორი ალტერნატიული ვარიანტით\n",
        "\n",
        "# MyDB = conn.db\n",
        "\n",
        "MyDB = conn['db']"
      ],
      "metadata": {
        "id": "Kvltd2nOqS4j"
      },
      "execution_count": 17,
      "outputs": []
    },
    {
      "cell_type": "code",
      "source": [
        "\"\"\"\n",
        "ბაზის შექმნამდე სასურველია შემოწმდეს შესაბამისი სახელის მქონე ბაზა ხომ არ ყოფილა\n",
        "ადრე შექმნილი. ამის გაკეთება შესაძლებელია list_database_names() მეთოდის მეშვეობით,\n",
        "რომელიც აბრუნებს MongoDB სერვერზე არსებული ბაზების ჩამონათვალს:\n",
        "\"\"\""
      ],
      "metadata": {
        "id": "J-tf8xjUqfw1"
      },
      "execution_count": null,
      "outputs": []
    },
    {
      "cell_type": "code",
      "source": [
        "# Import necessary modules\n",
        "from pymongo import MongoClient\n",
        "\n",
        "# Connect to the MongoDB server\n",
        "conn = MongoClient('localhost', 27017)\n",
        "\n",
        "# Check if the connection is successful\n",
        "try:\n",
        "    # Send a ping command to the server\n",
        "    conn.admin.command('ping')\n",
        "\n",
        "    # Print a success message\n",
        "    print('Connection successful!')\n",
        "\n",
        "except Exception as e:\n",
        "    # Print the error message\n",
        "    print('Connection failed:', e)"
      ],
      "metadata": {
        "colab": {
          "base_uri": "https://localhost:8080/"
        },
        "id": "xZiTRhAPqwki",
        "outputId": "d2bc0f40-bf08-4005-ed11-571c91eb4af5"
      },
      "execution_count": 20,
      "outputs": [
        {
          "output_type": "stream",
          "name": "stdout",
          "text": [
            "Connection failed: localhost:27017: [Errno 111] Connection refused (configured timeouts: socketTimeoutMS: 20000.0ms, connectTimeoutMS: 20000.0ms), Timeout: 30s, Topology Description: <TopologyDescription id: 65e590a0e43828ebebdb487d, topology_type: Unknown, servers: [<ServerDescription ('localhost', 27017) server_type: Unknown, rtt: None, error=AutoReconnect('localhost:27017: [Errno 111] Connection refused (configured timeouts: socketTimeoutMS: 20000.0ms, connectTimeoutMS: 20000.0ms)')>]>\n"
          ]
        }
      ]
    },
    {
      "cell_type": "code",
      "source": [],
      "metadata": {
        "id": "nVmu_x47q2CX"
      },
      "execution_count": null,
      "outputs": []
    }
  ]
}