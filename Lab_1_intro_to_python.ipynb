{
  "nbformat": 4,
  "nbformat_minor": 0,
  "metadata": {
    "colab": {
      "provenance": [],
      "authorship_tag": "ABX9TyOYMQBFBvHBx69JKH0PqTas",
      "include_colab_link": true
    },
    "kernelspec": {
      "name": "python3",
      "display_name": "Python 3"
    },
    "language_info": {
      "name": "python"
    }
  },
  "cells": [
    {
      "cell_type": "markdown",
      "metadata": {
        "id": "view-in-github",
        "colab_type": "text"
      },
      "source": [
        "<a href=\"https://colab.research.google.com/github/RevazRevazashvili/TSU-python-labs/blob/main/Lab_1_intro_to_python.ipynb\" target=\"_parent\"><img src=\"https://colab.research.google.com/assets/colab-badge.svg\" alt=\"Open In Colab\"/></a>"
      ]
    },
    {
      "cell_type": "markdown",
      "source": [
        "ცარიელი ადგილები"
      ],
      "metadata": {
        "id": "SM38LTNmNH4A"
      }
    },
    {
      "cell_type": "code",
      "source": [
        "x = 5 # სწორი ფორმატი\n",
        " y = 10 # არასწორი ფორმატი - გამოყენებულია ცარიელი სივრცე"
      ],
      "metadata": {
        "id": "tc1ZkHD5NLGd"
      },
      "execution_count": null,
      "outputs": []
    },
    {
      "cell_type": "markdown",
      "source": [
        "ბლოკის(ტანის) გახსნა"
      ],
      "metadata": {
        "id": "Psa7wKLfN88R"
      }
    },
    {
      "cell_type": "code",
      "source": [
        "# სწორი ფორმატი\n",
        " if x == 5:\n",
        "  print(\"True\")\n",
        " else:\n",
        "  print(\"False\")"
      ],
      "metadata": {
        "id": "ZgEWfv2QNSfw"
      },
      "execution_count": null,
      "outputs": []
    },
    {
      "cell_type": "code",
      "source": [
        "# არასწორი ფორმატი (შეცდომა)\n",
        "  if x==5{\n",
        "      print(\"True\")\n",
        "  }"
      ],
      "metadata": {
        "id": "qOh2tkBfOc4y"
      },
      "execution_count": null,
      "outputs": []
    },
    {
      "cell_type": "code",
      "source": [
        "  # არასწორი ფორმატი (შეცდომა)\n",
        "  if x == 5:\n",
        "  print(\"True\")\n",
        "  else:\n",
        "  print(\"False\")"
      ],
      "metadata": {
        "id": "ih46eNmIPCrr"
      },
      "execution_count": null,
      "outputs": []
    },
    {
      "cell_type": "markdown",
      "source": [
        "კომენტარი"
      ],
      "metadata": {
        "id": "WKw_53oMPc8C"
      }
    },
    {
      "cell_type": "code",
      "source": [
        "# ეს არის ერთხაზიანი კომენტარი"
      ],
      "metadata": {
        "id": "vwvtgEhsPfDe"
      },
      "execution_count": null,
      "outputs": []
    },
    {
      "cell_type": "code",
      "source": [
        "\"\"\"\n",
        "პითონის ლაბი 1\n",
        "\n",
        "ეს არის მრავალსტრიქონიანი კომენტარი\n",
        "\n",
        "\"\"\""
      ],
      "metadata": {
        "id": "xKMCNAf1Pisw"
      },
      "execution_count": null,
      "outputs": []
    },
    {
      "cell_type": "markdown",
      "source": [
        "ბრჭყალები"
      ],
      "metadata": {
        "id": "2JgfEsALQCbh"
      }
    },
    {
      "cell_type": "code",
      "source": [
        "# პითონში მიღებულია როგორც ერთმაგი ბრჭყალი ისე ორმაგი\n",
        "\n",
        "s1 = \"hello\"\n",
        "\n",
        "s2 = 'world'"
      ],
      "metadata": {
        "id": "becntjJAQD9v"
      },
      "execution_count": null,
      "outputs": []
    },
    {
      "cell_type": "markdown",
      "source": [
        "# ცვლადები და მონაცემთა ტიპები"
      ],
      "metadata": {
        "id": "vQVysWANQYy1"
      }
    },
    {
      "cell_type": "code",
      "source": [
        "\"\"\"\n",
        "ცვლადში ინახება მონაცემები\n",
        "\n",
        "1. ცვლადის სახელი შეიძლება შეიცავდეს ლათინური ალფავიტის ზედა და ქვედა რეგისტრის\n",
        "სიმბოლოებს, ციფრებს და ქვედა ხაზის სიმბოლოს (MyName, x_1).\n",
        "2. ცვლადის სახელი არ უნდა იწყებოდეს ციფრით (25name, 3x);\n",
        "3. ცვლადის სახელი არ უნდა ემთხვეოდეს Python ენაში გამოყენებულ რეზერვირებულ სიტყვას.\n",
        "\n",
        "\"\"\""
      ],
      "metadata": {
        "id": "GHfz3fjyQcBr"
      },
      "execution_count": null,
      "outputs": []
    },
    {
      "cell_type": "code",
      "source": [
        "x = 10\n",
        "\n",
        "name = \"Python\"\n",
        "\n",
        "tsu_founded = 1918"
      ],
      "metadata": {
        "id": "UYlARKExSAd_"
      },
      "execution_count": null,
      "outputs": []
    },
    {
      "cell_type": "code",
      "source": [
        "# შეცდომა\n",
        "1_first = 1"
      ],
      "metadata": {
        "id": "LsEPaQyTSdld"
      },
      "execution_count": null,
      "outputs": []
    },
    {
      "cell_type": "markdown",
      "source": [
        "ძირითადი მონაცემთა ტიპები"
      ],
      "metadata": {
        "id": "pe75xW2tSu00"
      }
    },
    {
      "cell_type": "code",
      "source": [
        "# bool - ლოგიკური ტიპი\n",
        "\n",
        "t = True\n",
        "f = False\n",
        "print(type(t), type(f))"
      ],
      "metadata": {
        "colab": {
          "base_uri": "https://localhost:8080/"
        },
        "id": "dWV8RS0GSoDt",
        "outputId": "e39ef349-e483-4bab-a33a-5bb82fe30d70"
      },
      "execution_count": null,
      "outputs": [
        {
          "output_type": "stream",
          "name": "stdout",
          "text": [
            "<class 'bool'> <class 'bool'>\n"
          ]
        }
      ]
    },
    {
      "cell_type": "code",
      "source": [
        "\"\"\"\n",
        "NoneType - ობიექტი მნიშვნელობით None (აღნიშნავს მნიშვნელობის არარსებობას). None\n",
        "შეესაბამება ლოგიკურ მნიშვნელობას False -ს.\n",
        "\"\"\"\n",
        "print(type(None), bool(None))\n"
      ],
      "metadata": {
        "colab": {
          "base_uri": "https://localhost:8080/"
        },
        "id": "XYQ_KPHUTAUb",
        "outputId": "3c33223a-4fc3-44f0-a95a-c94b44ce2f35"
      },
      "execution_count": null,
      "outputs": [
        {
          "output_type": "stream",
          "name": "stdout",
          "text": [
            "<class 'NoneType'> False\n"
          ]
        }
      ]
    },
    {
      "cell_type": "code",
      "source": [
        "\"\"\"\n",
        "int - მთელი რიცხვი. რიცხვის მნიშვნელობა შემოსაზღვრულია ოპერატიული მეხსიერების\n",
        "მოცულობით.\n",
        "\"\"\"\n",
        "print(type(123456789), type(99999999999999999999))"
      ],
      "metadata": {
        "colab": {
          "base_uri": "https://localhost:8080/"
        },
        "id": "IPFYvcquTZhz",
        "outputId": "a82c763f-c913-4baa-f64c-8e40d7ce6bb9"
      },
      "execution_count": null,
      "outputs": [
        {
          "output_type": "stream",
          "name": "stdout",
          "text": [
            "<class 'int'> <class 'int'>\n"
          ]
        }
      ]
    },
    {
      "cell_type": "code",
      "source": [
        "\"\"\"\n",
        "\n",
        "float\n",
        "\n",
        "\"\"\"\n",
        "print(type(1.3), type(0.99999999999999999999))"
      ],
      "metadata": {
        "colab": {
          "base_uri": "https://localhost:8080/"
        },
        "id": "p-kefDixTmKY",
        "outputId": "e7b91892-98e0-4df7-9eaa-1613a567d9cc"
      },
      "execution_count": null,
      "outputs": [
        {
          "output_type": "stream",
          "name": "stdout",
          "text": [
            "<class 'float'> <class 'float'>\n"
          ]
        }
      ]
    },
    {
      "cell_type": "code",
      "source": [
        "\"\"\"\n",
        "str - როგორც string\n",
        "\"\"\"\n",
        "\n",
        "s = \"This is Python lab\"\n",
        "\n",
        "s2 = str(\"TSU\")\n",
        "\n",
        "s3 = 'c'\n",
        "\n",
        "print(type(s), type(s2), type(s3))"
      ],
      "metadata": {
        "colab": {
          "base_uri": "https://localhost:8080/"
        },
        "id": "2qKbHFL0TzfS",
        "outputId": "40d48b33-5abc-4b60-a126-5ca2a12b595b"
      },
      "execution_count": null,
      "outputs": [
        {
          "output_type": "stream",
          "name": "stdout",
          "text": [
            "<class 'str'> <class 'str'> <class 'str'>\n"
          ]
        }
      ]
    },
    {
      "cell_type": "code",
      "source": [
        "\"\"\"\n",
        " bytes - ბაიტების არაცვალებადი მნიშვნელობა\n",
        "\"\"\"\n",
        "print(type(bytes('პროგრამირება Python-ზე', 'utf-8')))"
      ],
      "metadata": {
        "colab": {
          "base_uri": "https://localhost:8080/"
        },
        "id": "SISStFjIUbF2",
        "outputId": "65b508ce-bf69-4bef-eb91-962b7aea2e9d"
      },
      "execution_count": null,
      "outputs": [
        {
          "output_type": "stream",
          "name": "stdout",
          "text": [
            "<class 'bytes'>\n"
          ]
        }
      ]
    },
    {
      "cell_type": "code",
      "source": [
        "\"\"\"\n",
        "bytearray - - ბაიტების შეცვლადი მიმდევრობა\n",
        "\"\"\"\n",
        "print(type(bytearray('პროგრამირება Python-ზე', 'utf-8')))"
      ],
      "metadata": {
        "colab": {
          "base_uri": "https://localhost:8080/"
        },
        "id": "6AydFQXDUm3P",
        "outputId": "37ad0cb3-f174-4330-a18e-e212dfe6c780"
      },
      "execution_count": null,
      "outputs": [
        {
          "output_type": "stream",
          "name": "stdout",
          "text": [
            "<class 'bytearray'>\n"
          ]
        }
      ]
    },
    {
      "cell_type": "code",
      "source": [
        "# პითონი არ არის მკაცრად ტიპიზირებული ენა, ცვლაადის გამოცხადება მნიშვნელობის მინიჭების გარეშე არ შეიძლება\n",
        "python"
      ],
      "metadata": {
        "id": "7704Ouz7UxMi"
      },
      "execution_count": null,
      "outputs": []
    },
    {
      "cell_type": "markdown",
      "source": [
        "# მონაცემების შეტანა-გამოტანა"
      ],
      "metadata": {
        "id": "U9TzeHtakF5f"
      }
    },
    {
      "cell_type": "markdown",
      "source": [
        "გამოტანა"
      ],
      "metadata": {
        "id": "ugi-mbSbBxSc"
      }
    },
    {
      "cell_type": "code",
      "source": [
        "\"\"\"\n",
        " მონაცემების გამოსატანად გამოიყენება print() ფუნქცია, რომელსაც აქვს შემდეგი სახე\n",
        "\n",
        "print(*objects, sep=' ', end='\\n', file=sys.stdout, flush=False)\n",
        "\n",
        "* – სიმბოლო ხაზს უსვამს, რომ პარამეტრების რაოდენობა არაა შემოსაზღვრული;\n",
        "objects – აღნიშნავს კონსოლში გამოსატან ობიექტს;\n",
        "sep – აღნიშნავს ობიექტებს შორის გამყოფ სიმბოლოს (მაგალითად, \" \" - ცარიელი სიმბოლო);\n",
        "end – მონაცემების გამოტანის შემდეგ გამოყენებულ სიმბოლოს (მაგალითად, „\\n“)\n",
        "file – აღნიშნავს, რომ სტანდარტულ გამოტანას აქვს ადგილი;\n",
        "flush – აღნიშნავს შერევას. უზრუნვეყოფს დაუყოვნებლივ დაბეჭდვას ან/და ბუფერში შენახვას და გარკვეული დროის შემდგომ დაბეჭდვას\n",
        "\n",
        "\"\"\""
      ],
      "metadata": {
        "id": "h2efp_liYDza"
      },
      "execution_count": null,
      "outputs": []
    },
    {
      "cell_type": "code",
      "source": [
        "# ბეჭდვა\n",
        "print(\"hello world!\")"
      ],
      "metadata": {
        "colab": {
          "base_uri": "https://localhost:8080/"
        },
        "id": "HpnP4jrYkpiZ",
        "outputId": "32bb832a-cd10-43bc-e344-d0ae7d7b8736"
      },
      "execution_count": null,
      "outputs": [
        {
          "output_type": "stream",
          "name": "stdout",
          "text": [
            "hello world!\n"
          ]
        }
      ]
    },
    {
      "cell_type": "code",
      "source": [
        "s1 = \"hello\"\n",
        "s2 = \"python\"\n",
        "\n",
        "print(s1,s2,end='\\n',sep=', ')"
      ],
      "metadata": {
        "colab": {
          "base_uri": "https://localhost:8080/"
        },
        "id": "T0TLRhXqkv7s",
        "outputId": "0f643dce-e9b4-44ba-c249-ce5da5200d2c"
      },
      "execution_count": null,
      "outputs": [
        {
          "output_type": "stream",
          "name": "stdout",
          "text": [
            "hello, python\n"
          ]
        }
      ]
    },
    {
      "cell_type": "markdown",
      "source": [
        "შეტანა"
      ],
      "metadata": {
        "id": "Wrfqz-55B0SC"
      }
    },
    {
      "cell_type": "code",
      "source": [
        "# მონაცემების შესატანად გამოიყენება input() ფუნქცია, რომელსაც აქვს შემდეგი სახე\n",
        "\n",
        "name = input(\"Enter name: \")\n",
        "print(name)"
      ],
      "metadata": {
        "id": "nD0Qypeqk1Cj"
      },
      "execution_count": null,
      "outputs": []
    },
    {
      "cell_type": "code",
      "source": [
        "# გაჩმების პრინციპით input() ფუნქცია სტრინგს აბრუნებს, ამიტომ რიცხვის შემოსატანად საჭიროა დავუკონკრეტოთ\n",
        "\n",
        "a = int(input(\"Enter integer \"))\n",
        "print(a)\n",
        "\n",
        "b = float(input(\"Enter floating number \"))\n",
        "print(b)"
      ],
      "metadata": {
        "colab": {
          "base_uri": "https://localhost:8080/"
        },
        "id": "BykYDxGWoJ99",
        "outputId": "300c079c-caf9-4a65-919f-6eca09ae74c6"
      },
      "execution_count": null,
      "outputs": [
        {
          "output_type": "stream",
          "name": "stdout",
          "text": [
            "Enter integer12\n",
            "12\n",
            "Enter floating number13\n",
            "13.0\n"
          ]
        }
      ]
    },
    {
      "cell_type": "markdown",
      "source": [
        "# ოპერატორები"
      ],
      "metadata": {
        "id": "zT9aAPsCDEiN"
      }
    },
    {
      "cell_type": "code",
      "source": [
        "\"\"\"\n",
        "◆ არითმეტიკული\n",
        "◆ მინიჭების\n",
        "◆ შედარების\n",
        "◆ ლოგიკური\n",
        "◆ ბიტური\n",
        "\n",
        "\"\"\""
      ],
      "metadata": {
        "id": "vvBDiXFLCjJB"
      },
      "execution_count": null,
      "outputs": []
    },
    {
      "cell_type": "markdown",
      "source": [
        "არითმეტიკული ოპერატორები"
      ],
      "metadata": {
        "id": "sLkfFyo4ExTB"
      }
    },
    {
      "cell_type": "code",
      "source": [
        "x = int(input(\"Enter first integer \"))\n",
        "y = int(input(\"Enter second integer \"))\n",
        "\n",
        "print(x+y) # მიმატების ოპერატორი\n",
        "print(x-y) # გამოკლების ოპერატორი\n",
        "print(x*y) # გამრავლების ოპერატორი\n",
        "print(x/y) # გაყოფის ოპერატორი (შედეგი ნამდვილი რიცხვია)\n",
        "print(x//y) # გაყოფის ოპერატორი (x გაიყოფა y-ზე და დამრგვალდება უმცირეს მთელ მნიშვნელობამდე)\n",
        "print(x%y) # შეფარდების ნაშთითი წევრი\n",
        "print(x**y) # ხარისხში აყვანა\n"
      ],
      "metadata": {
        "id": "cv_gz_ZGDNaP",
        "colab": {
          "base_uri": "https://localhost:8080/"
        },
        "outputId": "fdc7e664-39d8-4d4f-db82-0db945573dc8"
      },
      "execution_count": 18,
      "outputs": [
        {
          "output_type": "stream",
          "name": "stdout",
          "text": [
            "Enter first integer 123\n",
            "Enter second integer 10\n",
            "133\n",
            "113\n",
            "1230\n",
            "12.3\n",
            "12\n",
            "3\n",
            "792594609605189126649\n"
          ]
        }
      ]
    },
    {
      "cell_type": "markdown",
      "source": [
        "მინიჭების ოპერატორები"
      ],
      "metadata": {
        "id": "a77oRDURE1BW"
      }
    },
    {
      "cell_type": "code",
      "source": [
        "a = 10\n",
        "print(a)\n",
        "a += 2\n",
        "print(a)\n",
        "a -= 3\n",
        "print(a)\n",
        "a *= 4\n",
        "print(a)\n",
        "a /= 7\n",
        "print(a)\n",
        "a //= 2\n",
        "print(a)\n",
        "a %= 3\n",
        "print(a)\n",
        "a **= 2\n",
        "print(a)"
      ],
      "metadata": {
        "id": "-DcemWagEoEx"
      },
      "execution_count": null,
      "outputs": []
    },
    {
      "cell_type": "markdown",
      "source": [
        "შედარების ოპერატორები"
      ],
      "metadata": {
        "id": "oyMFpzmnH1rX"
      }
    },
    {
      "cell_type": "code",
      "source": [
        "b = 23\n",
        "print(a>b) # შედარება მეტობაზე\n",
        "print(a<b)# შედარება ნაკლებობაზე\n",
        "print(a==b) # შედარება ტოლობაზე\n",
        "print(a!=b) # შედარება სხვაობაზე\n",
        "print(a>=b) # შედარება მეტობა ან ტოლობაზე\n",
        "print(a<=b) # შედარება ნაკლებობა ან ტოლობაზე\n",
        "print(a is b) # შედარება ტოლობაზე\n",
        "print(a is not b) # შედარება განსხვავებაზე"
      ],
      "metadata": {
        "id": "4YVpHzyNFW40"
      },
      "execution_count": null,
      "outputs": []
    },
    {
      "cell_type": "markdown",
      "source": [
        "ლოგიკური ოპერატორები"
      ],
      "metadata": {
        "id": "8uG0iqaJIvKy"
      }
    },
    {
      "cell_type": "code",
      "source": [
        "x, y, z = 5, 7, 7\n",
        "print( x > y and y < z, x < y and y == z )"
      ],
      "metadata": {
        "colab": {
          "base_uri": "https://localhost:8080/"
        },
        "id": "Yb0pM0zqH9Mv",
        "outputId": "b6c5b283-3031-44a8-a581-8cfca5f5425f"
      },
      "execution_count": null,
      "outputs": [
        {
          "output_type": "stream",
          "name": "stdout",
          "text": [
            "False True\n"
          ]
        }
      ]
    },
    {
      "cell_type": "code",
      "source": [
        "x, y, z = 5, 7, 7\n",
        "print( x > y or y < z, x < y or y > z)"
      ],
      "metadata": {
        "colab": {
          "base_uri": "https://localhost:8080/"
        },
        "id": "2FIeynqJI24N",
        "outputId": "082bfb48-130c-4c44-f5cd-02aec832dd27"
      },
      "execution_count": null,
      "outputs": [
        {
          "output_type": "stream",
          "name": "stdout",
          "text": [
            "False True\n"
          ]
        }
      ]
    },
    {
      "cell_type": "markdown",
      "source": [
        "ბიტური ოპერატორები"
      ],
      "metadata": {
        "id": "0tObrHShMTdo"
      }
    },
    {
      "cell_type": "code",
      "source": [
        "c, d = 0b1001, 0b0101 # c-ში და d-ში ჩაწერილია ორობითი რიცხვები"
      ],
      "metadata": {
        "id": "fW2590QjJJc0"
      },
      "execution_count": null,
      "outputs": []
    },
    {
      "cell_type": "code",
      "source": [
        "print(c&d) # (AND) ბიტური „და“\n",
        "print(c|d) # (OR) ბიტური „ან“\n",
        "print(c^d) # (XOR) გამომრიცხავი „ან“\n",
        "print(~d) # (NOT) ბიტური უარყოფა\n",
        "print(c >> 2) # ბიტების მიმდევრობის გადაწევა ბიტების მარჯვნივ მითითებული რაოდენობით\n",
        "print(c << 3) # ბიტების მიმდევრობის გადაწევა ბიტების მარცხნივ მითითებული რაოდენობით"
      ],
      "metadata": {
        "colab": {
          "base_uri": "https://localhost:8080/"
        },
        "id": "2TB7p0GxMa7g",
        "outputId": "690ef23a-7c9c-4862-ee26-dc15e3105350"
      },
      "execution_count": null,
      "outputs": [
        {
          "output_type": "stream",
          "name": "stdout",
          "text": [
            "1\n",
            "13\n",
            "12\n",
            "-6\n",
            "2\n",
            "72\n"
          ]
        }
      ]
    },
    {
      "cell_type": "markdown",
      "source": [
        "პირობითი ოპერატორები"
      ],
      "metadata": {
        "id": "gcLQUuYqN8g6"
      }
    },
    {
      "cell_type": "code",
      "source": [
        "# if ოპერატორი\n",
        "\n",
        "x = int(input('Enter integer number: '))\n",
        "if x % 2 == 0:\n",
        "  print('Entered number is even')"
      ],
      "metadata": {
        "colab": {
          "base_uri": "https://localhost:8080/"
        },
        "id": "sjLr2aJRM69a",
        "outputId": "0c174691-737b-4d3f-acfc-c399162d4c6c"
      },
      "execution_count": null,
      "outputs": [
        {
          "name": "stdout",
          "output_type": "stream",
          "text": [
            "Enter integer number: 1\n"
          ]
        }
      ]
    },
    {
      "cell_type": "code",
      "source": [
        "# elif ოპერატორი\n",
        "\n",
        "x = int(input(\"Enter integer number: \"))\n",
        "\n",
        "if x % 5 == 0:\n",
        "    print(str(x) + \" mod 5 is 0\")\n",
        "elif x % 5 == 1:\n",
        "    print(str(x) + \" mod 5 is 1\")\n",
        "elif x % 5 == 2:\n",
        "    print(str(x) + \" mod 5 is 2\")\n",
        "elif x % 5 == 3:\n",
        "    print(str(x) + \" mod 5 is 3\")\n",
        "elif x % 5 == 4:\n",
        "    print(str(x) + \" mod 5 is 4\")"
      ],
      "metadata": {
        "colab": {
          "base_uri": "https://localhost:8080/"
        },
        "id": "Vuw3FxytRKD1",
        "outputId": "4d976b48-f00b-432e-a80f-c6558ac5f85b"
      },
      "execution_count": null,
      "outputs": [
        {
          "output_type": "stream",
          "name": "stdout",
          "text": [
            "Enter integer number: 20\n",
            "20 mod 5 is 0\n"
          ]
        }
      ]
    },
    {
      "cell_type": "code",
      "source": [
        "# if-else ოპერატორი\n",
        "\n",
        "x = int(input('Enter integer number: '))\n",
        "if x % 2 == 0:\n",
        "  print('Entered number is oven')\n",
        "else:\n",
        "  print('Entered number is odd')"
      ],
      "metadata": {
        "colab": {
          "base_uri": "https://localhost:8080/"
        },
        "id": "L6wFy-FhRb0e",
        "outputId": "b4ddbac3-f37b-4ce8-859e-a36506a63232"
      },
      "execution_count": null,
      "outputs": [
        {
          "output_type": "stream",
          "name": "stdout",
          "text": [
            "Enter integer number: 20\n",
            "Entered number is oven\n"
          ]
        }
      ]
    },
    {
      "cell_type": "code",
      "source": [
        "# if-elif-else ოპერატორი\n",
        "\n",
        "x = int(input('Enter integer number: '))\n",
        "\n",
        "if x % 5 == 0:\n",
        "    print(str(x) + ' mod 5 is 0')\n",
        "elif x % 5 == 1:\n",
        "    print(str(x) + ' mod 5 is 1')\n",
        "elif x % 5 == 2:\n",
        "    print(str(x) + ' mod 5 is 2')\n",
        "elif x % 5 == 3:\n",
        "    print(str(x) + ' mod 5 is 3')\n",
        "else:\n",
        "    print(str(x) + ' mod 5 is 4')\n"
      ],
      "metadata": {
        "id": "Q2BEnsvvRr2B"
      },
      "execution_count": null,
      "outputs": []
    },
    {
      "cell_type": "markdown",
      "source": [
        "ციკლის ოპერატორები"
      ],
      "metadata": {
        "id": "ILTL-3bbTz5e"
      }
    },
    {
      "cell_type": "code",
      "source": [
        "# for ციკლი\n",
        "\n",
        "st = input('Enter string: ')\n",
        "for s in st:\n",
        "  print(s, end=' ')"
      ],
      "metadata": {
        "id": "m06dUx3wT4nH"
      },
      "execution_count": null,
      "outputs": []
    },
    {
      "cell_type": "code",
      "source": [
        "# while ციკლი\n",
        "\n",
        "arr = [1,2,3,4,5,6,7,8]\n",
        "i = 0 # ციკლის მთვლელი\n",
        "while i < len(arr): # ციკლის შეჩერების პირობა\n",
        " print( arr[i], end =' ' )\n",
        " i += 1 # გავზარდოთ მთვლელი 1-ით"
      ],
      "metadata": {
        "colab": {
          "base_uri": "https://localhost:8080/"
        },
        "id": "hST3apP5T6h3",
        "outputId": "3b300016-453c-4f8e-a743-7d9183fb4103"
      },
      "execution_count": null,
      "outputs": [
        {
          "output_type": "stream",
          "name": "stdout",
          "text": [
            "1 2 3 4 5 6 7 8 "
          ]
        }
      ]
    },
    {
      "cell_type": "code",
      "source": [
        "# range() ფუნქციის გამოყენება\n",
        "\n",
        "for x in range(1, 11):\n",
        " print(x ** 2, end=' ')"
      ],
      "metadata": {
        "id": "zs5Q4wVNUju8"
      },
      "execution_count": null,
      "outputs": []
    },
    {
      "cell_type": "code",
      "source": [
        "# enumerate() ფუნქციის გამოყენება\n",
        "\n",
        "arr = [1, 2, 3, 4, 5, 6, 7, 8, 9, 10]\n",
        "for ind, elem in enumerate(arr):\n",
        " if elem % 2 == 0:\n",
        "    arr[ind] **= 2\n",
        "print(arr, end=\" \" )"
      ],
      "metadata": {
        "colab": {
          "base_uri": "https://localhost:8080/"
        },
        "id": "bxP3ux5WUsqj",
        "outputId": "37852a10-c091-45e0-ecea-75ea9bb6915b"
      },
      "execution_count": null,
      "outputs": [
        {
          "output_type": "stream",
          "name": "stdout",
          "text": [
            "[1, 4, 3, 16, 5, 36, 7, 64, 9, 100] "
          ]
        }
      ]
    },
    {
      "cell_type": "code",
      "source": [
        "# ციკლში continue ოპერატორის გამოყენება\n",
        "\n",
        "arr = [10, 11, 12, 13, 14, 15, 16, 17, 18, 19, 20]\n",
        "for i in range(11):\n",
        " if arr[i] % 3 is 0:\n",
        "  continue # გამოვტოვოთ იტერაცია\n",
        " if arr[i] % 3 is 1: # თუ ნაშთი 1-ია\n",
        "  arr[i] *= 2 # გავაორმაგოთ ელემენტი\n",
        "  continue # გამოვტოვოთ იტერაცია\n",
        " if arr[i] % 3 is 2: # თუ ნაშთი 2-ია\n",
        "  arr[i] *= 3 # გავასამმაგოთ ელემენტი\n",
        "print(arr) # დავბეჭდოთ სიმრავლის ელემენტები"
      ],
      "metadata": {
        "id": "yiiA-I_zVau4"
      },
      "execution_count": null,
      "outputs": []
    },
    {
      "cell_type": "code",
      "source": [
        "# ციკლში break ოპერატორის გამოყენება\n",
        "\n",
        "arr = [10, 11, 12, 13, 14, 15, 16, 17, 18, 19, 20]\n",
        "size = len(arr) # გავიგოთ სიმრავლეში ელემენტების რაოდენობა\n",
        "for ind in range(size): # დავატრიალოთ ციკლი\n",
        "  print(ind)\n",
        "  if arr[ind] == 14: # შევამოწმოთ მნიშვნელობის არსებობა\n",
        "    break # შევაჩეროთ ციკლის შესრულება\n",
        "  if size != ind: # თუ ინდექსის მნიშვნელობა არ ემთხვევა ზომას ეს\n",
        "    print(\"Element exist\") # ნიშნავს, რომ ობიექტი გვყავს სიმრავლეში\n",
        "  else: # წინააღმდეგ შემთხვევაში ელემენტი არ იძებნება სიმრავლეში\n",
        "    print(\"Element not exist\")"
      ],
      "metadata": {
        "id": "lA84EIqeVrpF"
      },
      "execution_count": null,
      "outputs": []
    },
    {
      "cell_type": "markdown",
      "source": [
        "# სავარჯიშოები"
      ],
      "metadata": {
        "id": "5PJX6_SmtuzM"
      }
    },
    {
      "cell_type": "markdown",
      "source": [
        "1. დაწერეთ კოდი (კალკულატორი), რომელიც გამოითვლის და დაბეჭდავს კლავიატურიდან\n",
        "შეტანილი ორი მთელი რიცხვისა და არითმეტიკული მოქმედების შესაბამისი სიმბოლოსთვის\n",
        "არითმეტიკული მოქმედების შედეგს."
      ],
      "metadata": {
        "id": "J_aXAvhYxI6t"
      }
    },
    {
      "cell_type": "code",
      "source": [],
      "metadata": {
        "id": "ebcRf5tkty1A"
      },
      "execution_count": null,
      "outputs": []
    },
    {
      "cell_type": "markdown",
      "source": [
        "2. დაწერეთ კოდი, რომელიც გამოითვლის და დაბეჭდავს [20, 50] შუალედიდან აღებული ყველა\n",
        "7-ის ჯერადი მთელი რიცხვის კუბების ნამრავლს."
      ],
      "metadata": {
        "id": "sao4AAiSxLWr"
      }
    },
    {
      "cell_type": "code",
      "source": [],
      "metadata": {
        "id": "RnhlPaycxNea"
      },
      "execution_count": 25,
      "outputs": []
    },
    {
      "cell_type": "markdown",
      "source": [
        "6. დაწერეთ კოდი, რომელიც გამოითვლის და დაბეჭდავს [1000, 10000] შუალედიდან აღებული\n",
        "ისეთი რიცხვების საშუალო არითმეტიკულს, რომელთა ციფრების ჯამი არის 7-ის ჯერადი;"
      ],
      "metadata": {
        "id": "EJKcJIqGxOUf"
      }
    },
    {
      "cell_type": "code",
      "source": [
        "ar_sum = 0\n",
        "counter = 0\n",
        "k = 10\n",
        "\n",
        "for i in range(1000, 10000):\n",
        "    a = i\n",
        "    sum = 0\n",
        "    for j in range(4):\n",
        "        if a == 0:\n",
        "            continue\n",
        "        else:\n",
        "            sum += a % k\n",
        "        a = a // k\n",
        "\n",
        "    if sum % 7 == 0:\n",
        "        ar_sum += sum\n",
        "        counter += 1\n",
        "\n",
        "if counter > 0:\n",
        "    print(ar_sum / counter)\n",
        "else:\n",
        "    print(\"No valid values found.\")\n"
      ],
      "metadata": {
        "colab": {
          "base_uri": "https://localhost:8080/"
        },
        "id": "VbHSyKGBxTB5",
        "outputId": "8cb65328-ca62-4102-bac6-922271edb7bd"
      },
      "execution_count": 25,
      "outputs": [
        {
          "output_type": "stream",
          "name": "stdout",
          "text": [
            "18.48829953198128\n"
          ]
        }
      ]
    },
    {
      "cell_type": "markdown",
      "source": [
        "8. დაწერეთ კოდი, რომელიც გამოითვლის და დაბეჭდავს [500, 5000] შუალედიდან აღებული 17,\n",
        "29, 43 და 97-ის ჯერადი რიცხვების საშუალო არითმეტიკულს"
      ],
      "metadata": {
        "id": "IHf7D3SUHCej"
      }
    },
    {
      "cell_type": "code",
      "source": [],
      "metadata": {
        "id": "nQwyD5uExuIZ"
      },
      "execution_count": null,
      "outputs": []
    },
    {
      "cell_type": "markdown",
      "source": [
        "13. დაწერეთ პროგრამა, რომელიც მომხმარებლის მიერ კლავიატურიდან შეტანილი სამი\n",
        "ნამდვილი მნიშვნელობისთვის დაითვლის და დაბეჭდავს შესაბამისი მართკუთხა\n",
        "სამკუთხედის ფართობს (ასეთის არსებობის შემთხვევაში). პროგრამამ უნდა შეამოწმოს\n",
        "არსებობს თუ არა მომხმარებლის მიერ შეტანილი ნამდვილი მნიშვნელობების შესაბამისი\n",
        "გვერდების მქონე მართკუთხა სამკუთხედი. თუ ასეთი სამკუთხედი არ არსებობს, მაშინ\n",
        "დაბეჭდოს შესაბამისი შეტყობინება"
      ],
      "metadata": {
        "id": "4Lcg7xTgHGJy"
      }
    },
    {
      "cell_type": "code",
      "source": [],
      "metadata": {
        "id": "nNh80P2VHI8i"
      },
      "execution_count": null,
      "outputs": []
    },
    {
      "cell_type": "markdown",
      "source": [
        "16. დაწერეთ პროგრამა, რომელიც დაითვლის მომხმარებლის მიერ კლავიატურიდან შეტანილი\n",
        "სამი ნამდვილი მნიშვნელობისათვის დაითვლის შესაბამისი კოეფიციენტების მქონე\n",
        "კვადრატული განტოლების ფესვებს და მათ რაოდენობას. თუ განტოლებას ფესვი არ გააჩნია,\n",
        "პროგრამამ უნდა დაბეჭდოს შესაბამისი შეტყობინება"
      ],
      "metadata": {
        "id": "_M_yqz6sHOQf"
      }
    },
    {
      "cell_type": "code",
      "source": [],
      "metadata": {
        "id": "ZM3uv8KrKRys"
      },
      "execution_count": null,
      "outputs": []
    }
  ]
}