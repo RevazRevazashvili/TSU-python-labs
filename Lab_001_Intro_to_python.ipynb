{
  "nbformat": 4,
  "nbformat_minor": 0,
  "metadata": {
    "colab": {
      "provenance": [],
      "authorship_tag": "ABX9TyOwtfG+69w7avfQKOPDNWKK",
      "include_colab_link": true
    },
    "kernelspec": {
      "name": "python3",
      "display_name": "Python 3"
    },
    "language_info": {
      "name": "python"
    }
  },
  "cells": [
    {
      "cell_type": "markdown",
      "metadata": {
        "id": "view-in-github",
        "colab_type": "text"
      },
      "source": [
        "<a href=\"https://colab.research.google.com/github/RevazRevazashvili/TSU-python-labs/blob/main/Lab_1_intro_to_python.ipynb\" target=\"_parent\"><img src=\"https://colab.research.google.com/assets/colab-badge.svg\" alt=\"Open In Colab\"/></a>"
      ]
    },
    {
      "cell_type": "markdown",
      "source": [
        "ცარიელი ადგილები"
      ],
      "metadata": {
        "id": "SM38LTNmNH4A"
      }
    },
    {
      "cell_type": "code",
      "source": [
        "x = 5 # სწორი ფორმატი\n",
        " y = 10 # არასწორი ფორმატი - გამოყენებულია ცარიელი სივრცე"
      ],
      "metadata": {
        "id": "tc1ZkHD5NLGd"
      },
      "execution_count": null,
      "outputs": []
    },
    {
      "cell_type": "markdown",
      "source": [
        "ბლოკის(ტანის) გახსნა"
      ],
      "metadata": {
        "id": "Psa7wKLfN88R"
      }
    },
    {
      "cell_type": "code",
      "source": [
        "# სწორი ფორმატი\n",
        " if x == 5:\n",
        "  print(\"True\")\n",
        " else:\n",
        "  print(\"False\")"
      ],
      "metadata": {
        "id": "ZgEWfv2QNSfw"
      },
      "execution_count": null,
      "outputs": []
    },
    {
      "cell_type": "code",
      "source": [
        "# არასწორი ფორმატი (შეცდომა)\n",
        "  if x==5{\n",
        "      print(\"True\")\n",
        "  }"
      ],
      "metadata": {
        "id": "qOh2tkBfOc4y"
      },
      "execution_count": null,
      "outputs": []
    },
    {
      "cell_type": "code",
      "source": [
        "  # არასწორი ფორმატი (შეცდომა)\n",
        "  if x == 5:\n",
        "  print(\"True\")\n",
        "  else:\n",
        "  print(\"False\")"
      ],
      "metadata": {
        "id": "ih46eNmIPCrr"
      },
      "execution_count": null,
      "outputs": []
    },
    {
      "cell_type": "markdown",
      "source": [
        "კომენტარი"
      ],
      "metadata": {
        "id": "WKw_53oMPc8C"
      }
    },
    {
      "cell_type": "code",
      "source": [
        "# ეს არის ერთხაზიანი კომენტარი"
      ],
      "metadata": {
        "id": "vwvtgEhsPfDe"
      },
      "execution_count": null,
      "outputs": []
    },
    {
      "cell_type": "code",
      "source": [
        "\"\"\"\n",
        "პითონის ლაბი 1\n",
        "\n",
        "ეს არის მრავალსტრიქონიანი კომენტარი\n",
        "\n",
        "\"\"\""
      ],
      "metadata": {
        "id": "xKMCNAf1Pisw"
      },
      "execution_count": null,
      "outputs": []
    },
    {
      "cell_type": "markdown",
      "source": [
        "ბრჭყალები"
      ],
      "metadata": {
        "id": "2JgfEsALQCbh"
      }
    },
    {
      "cell_type": "code",
      "source": [
        "# პითონში მიღებულია როგორც ერთმაგი ბრჭყალი ისე ორმაგი\n",
        "\n",
        "s1 = \"hello\"\n",
        "\n",
        "s2 = 'world'"
      ],
      "metadata": {
        "id": "becntjJAQD9v"
      },
      "execution_count": null,
      "outputs": []
    },
    {
      "cell_type": "markdown",
      "source": [
        "# ცვლადები და მონაცემთა ტიპები"
      ],
      "metadata": {
        "id": "vQVysWANQYy1"
      }
    },
    {
      "cell_type": "code",
      "source": [
        "\"\"\"\n",
        "ცვლადში ინახება მონაცემები\n",
        "\n",
        "1. ცვლადის სახელი შეიძლება შეიცავდეს ლათინური ალფავიტის ზედა და ქვედა რეგისტრის\n",
        "სიმბოლოებს, ციფრებს და ქვედა ხაზის სიმბოლოს (MyName, x_1).\n",
        "2. ცვლადის სახელი არ უნდა იწყებოდეს ციფრით (25name, 3x);\n",
        "3. ცვლადის სახელი არ უნდა ემთხვეოდეს Python ენაში გამოყენებულ რეზერვირებულ სიტყვას.\n",
        "\n",
        "\"\"\""
      ],
      "metadata": {
        "id": "GHfz3fjyQcBr"
      },
      "execution_count": null,
      "outputs": []
    },
    {
      "cell_type": "code",
      "source": [
        "x = 10\n",
        "\n",
        "name = \"Python\"\n",
        "\n",
        "tsu_founded = 1918"
      ],
      "metadata": {
        "id": "UYlARKExSAd_"
      },
      "execution_count": null,
      "outputs": []
    },
    {
      "cell_type": "code",
      "source": [
        "# შეცდომა\n",
        "1_first = 1"
      ],
      "metadata": {
        "id": "LsEPaQyTSdld"
      },
      "execution_count": null,
      "outputs": []
    },
    {
      "cell_type": "markdown",
      "source": [
        "ძირითადი მონაცემთა ტიპები"
      ],
      "metadata": {
        "id": "pe75xW2tSu00"
      }
    },
    {
      "cell_type": "code",
      "source": [
        "# bool - ლოგიკური ტიპი\n",
        "\n",
        "t = True\n",
        "f = False\n",
        "print(type(t), type(f))"
      ],
      "metadata": {
        "colab": {
          "base_uri": "https://localhost:8080/"
        },
        "id": "dWV8RS0GSoDt",
        "outputId": "e39ef349-e483-4bab-a33a-5bb82fe30d70"
      },
      "execution_count": null,
      "outputs": [
        {
          "output_type": "stream",
          "name": "stdout",
          "text": [
            "<class 'bool'> <class 'bool'>\n"
          ]
        }
      ]
    },
    {
      "cell_type": "code",
      "source": [
        "\"\"\"\n",
        "NoneType - ობიექტი მნიშვნელობით None (აღნიშნავს მნიშვნელობის არარსებობას). None\n",
        "შეესაბამება ლოგიკურ მნიშვნელობას False -ს.\n",
        "\"\"\"\n",
        "print(type(None), bool(None))\n"
      ],
      "metadata": {
        "colab": {
          "base_uri": "https://localhost:8080/"
        },
        "id": "XYQ_KPHUTAUb",
        "outputId": "3c33223a-4fc3-44f0-a95a-c94b44ce2f35"
      },
      "execution_count": null,
      "outputs": [
        {
          "output_type": "stream",
          "name": "stdout",
          "text": [
            "<class 'NoneType'> False\n"
          ]
        }
      ]
    },
    {
      "cell_type": "code",
      "source": [
        "\"\"\"\n",
        "int - მთელი რიცხვი. რიცხვის მნიშვნელობა შემოსაზღვრულია ოპერატიული მეხსიერების\n",
        "მოცულობით.\n",
        "\"\"\"\n",
        "print(type(123456789), type(99999999999999999999))"
      ],
      "metadata": {
        "colab": {
          "base_uri": "https://localhost:8080/"
        },
        "id": "IPFYvcquTZhz",
        "outputId": "a82c763f-c913-4baa-f64c-8e40d7ce6bb9"
      },
      "execution_count": null,
      "outputs": [
        {
          "output_type": "stream",
          "name": "stdout",
          "text": [
            "<class 'int'> <class 'int'>\n"
          ]
        }
      ]
    },
    {
      "cell_type": "code",
      "source": [
        "\"\"\"\n",
        "\n",
        "float\n",
        "\n",
        "\"\"\"\n",
        "print(type(1.3), type(0.99999999999999999999))"
      ],
      "metadata": {
        "colab": {
          "base_uri": "https://localhost:8080/"
        },
        "id": "p-kefDixTmKY",
        "outputId": "e7b91892-98e0-4df7-9eaa-1613a567d9cc"
      },
      "execution_count": null,
      "outputs": [
        {
          "output_type": "stream",
          "name": "stdout",
          "text": [
            "<class 'float'> <class 'float'>\n"
          ]
        }
      ]
    },
    {
      "cell_type": "code",
      "source": [
        "\"\"\"\n",
        "str - როგორც string\n",
        "\"\"\"\n",
        "\n",
        "s = \"This is Python lab\"\n",
        "\n",
        "s2 = str(\"TSU\")\n",
        "\n",
        "s3 = 'c'\n",
        "\n",
        "print(type(s), type(s2), type(s3))"
      ],
      "metadata": {
        "colab": {
          "base_uri": "https://localhost:8080/"
        },
        "id": "2qKbHFL0TzfS",
        "outputId": "40d48b33-5abc-4b60-a126-5ca2a12b595b"
      },
      "execution_count": null,
      "outputs": [
        {
          "output_type": "stream",
          "name": "stdout",
          "text": [
            "<class 'str'> <class 'str'> <class 'str'>\n"
          ]
        }
      ]
    },
    {
      "cell_type": "code",
      "source": [
        "\"\"\"\n",
        " bytes - ბაიტების არაცვალებადი მნიშვნელობა\n",
        "\"\"\"\n",
        "print(type(bytes('პროგრამირება Python-ზე', 'utf-8')))"
      ],
      "metadata": {
        "colab": {
          "base_uri": "https://localhost:8080/"
        },
        "id": "SISStFjIUbF2",
        "outputId": "65b508ce-bf69-4bef-eb91-962b7aea2e9d"
      },
      "execution_count": null,
      "outputs": [
        {
          "output_type": "stream",
          "name": "stdout",
          "text": [
            "<class 'bytes'>\n"
          ]
        }
      ]
    },
    {
      "cell_type": "code",
      "source": [
        "\"\"\"\n",
        "bytearray - - ბაიტების შეცვლადი მიმდევრობა\n",
        "\"\"\"\n",
        "print(type(bytearray('პროგრამირება Python-ზე', 'utf-8')))"
      ],
      "metadata": {
        "colab": {
          "base_uri": "https://localhost:8080/"
        },
        "id": "6AydFQXDUm3P",
        "outputId": "37ad0cb3-f174-4330-a18e-e212dfe6c780"
      },
      "execution_count": null,
      "outputs": [
        {
          "output_type": "stream",
          "name": "stdout",
          "text": [
            "<class 'bytearray'>\n"
          ]
        }
      ]
    },
    {
      "cell_type": "code",
      "source": [
        "# პითონი არ არის მკაცრად ტიპიზირებული ენა, ცვლაადის გამოცხადება მნიშვნელობის მინიჭების გარეშე არ შეიძლება\n",
        "python"
      ],
      "metadata": {
        "id": "7704Ouz7UxMi",
        "outputId": "90c81d8e-4bd3-4688-a5cf-55a83d8dbe58",
        "colab": {
          "base_uri": "https://localhost:8080/",
          "height": 166
        }
      },
      "execution_count": 10,
      "outputs": [
        {
          "ename": "NameError",
          "evalue": "name 'python' is not defined",
          "output_type": "error",
          "traceback": [
            "\u001b[0;31m---------------------------------------------------------------------------\u001b[0m",
            "\u001b[0;31mNameError\u001b[0m                                 Traceback (most recent call last)",
            "\u001b[0;32m<ipython-input-10-a79d12cb4a2f>\u001b[0m in \u001b[0;36m<cell line: 2>\u001b[0;34m()\u001b[0m\n\u001b[1;32m      1\u001b[0m \u001b[0;31m# პითონი არ არის მკაცრად ტიპიზირებული ენა, ცვლაადის გამოცხადება მნიშვნელობის მინიჭების გარეშე არ შეიძლება\u001b[0m\u001b[0;34m\u001b[0m\u001b[0;34m\u001b[0m\u001b[0m\n\u001b[0;32m----> 2\u001b[0;31m \u001b[0mpython\u001b[0m\u001b[0;34m\u001b[0m\u001b[0;34m\u001b[0m\u001b[0m\n\u001b[0m",
            "\u001b[0;31mNameError\u001b[0m: name 'python' is not defined"
          ]
        }
      ]
    },
    {
      "cell_type": "markdown",
      "source": [
        "# მონაცემების შეტანა-გამოტანა"
      ],
      "metadata": {
        "id": "U9TzeHtakF5f"
      }
    },
    {
      "cell_type": "markdown",
      "source": [
        "გამოტანა"
      ],
      "metadata": {
        "id": "ugi-mbSbBxSc"
      }
    },
    {
      "cell_type": "code",
      "source": [
        "\"\"\"\n",
        " მონაცემების გამოსატანად გამოიყენება print() ფუნქცია, რომელსაც აქვს შემდეგი სახე\n",
        "\n",
        "print(*objects, sep=' ', end='\\n', file=sys.stdout, flush=False)\n",
        "\n",
        "* – სიმბოლო ხაზს უსვამს, რომ პარამეტრების რაოდენობა არაა შემოსაზღვრული;\n",
        "objects – აღნიშნავს კონსოლში გამოსატან ობიექტს;\n",
        "sep – აღნიშნავს ობიექტებს შორის გამყოფ სიმბოლოს (მაგალითად, \" \" - ცარიელი სიმბოლო);\n",
        "end – მონაცემების გამოტანის შემდეგ გამოყენებულ სიმბოლოს (მაგალითად, „\\n“)\n",
        "file – აღნიშნავს, რომ სტანდარტულ გამოტანას აქვს ადგილი;\n",
        "flush – აღნიშნავს შერევას. უზრუნვეყოფს დაუყოვნებლივ დაბეჭდვას ან/და ბუფერში შენახვას და გარკვეული დროის შემდგომ დაბეჭდვას\n",
        "\n",
        "\"\"\""
      ],
      "metadata": {
        "id": "h2efp_liYDza"
      },
      "execution_count": null,
      "outputs": []
    },
    {
      "cell_type": "code",
      "source": [
        "# ბეჭდვა\n",
        "print(\"hello world!\")"
      ],
      "metadata": {
        "colab": {
          "base_uri": "https://localhost:8080/"
        },
        "id": "HpnP4jrYkpiZ",
        "outputId": "32bb832a-cd10-43bc-e344-d0ae7d7b8736"
      },
      "execution_count": null,
      "outputs": [
        {
          "output_type": "stream",
          "name": "stdout",
          "text": [
            "hello world!\n"
          ]
        }
      ]
    },
    {
      "cell_type": "code",
      "source": [
        "s1 = \"hello\"\n",
        "s2 = \"python\"\n",
        "\n",
        "print(s1,s2,end='\\n',sep=', ')"
      ],
      "metadata": {
        "colab": {
          "base_uri": "https://localhost:8080/"
        },
        "id": "T0TLRhXqkv7s",
        "outputId": "0f643dce-e9b4-44ba-c249-ce5da5200d2c"
      },
      "execution_count": null,
      "outputs": [
        {
          "output_type": "stream",
          "name": "stdout",
          "text": [
            "hello, python\n"
          ]
        }
      ]
    },
    {
      "cell_type": "markdown",
      "source": [
        "შეტანა"
      ],
      "metadata": {
        "id": "Wrfqz-55B0SC"
      }
    },
    {
      "cell_type": "code",
      "source": [
        "# მონაცემების შესატანად გამოიყენება input() ფუნქცია, რომელსაც აქვს შემდეგი სახე\n",
        "\n",
        "name = input(\"Enter name: \")\n",
        "print(name)"
      ],
      "metadata": {
        "id": "nD0Qypeqk1Cj"
      },
      "execution_count": null,
      "outputs": []
    },
    {
      "cell_type": "code",
      "source": [
        "# გაჩმების პრინციპით input() ფუნქცია სტრინგს აბრუნებს, ამიტომ რიცხვის შემოსატანად საჭიროა დავუკონკრეტოთ\n",
        "\n",
        "a = int(input(\"Enter integer \"))\n",
        "print(a)\n",
        "\n",
        "b = float(input(\"Enter floating number \"))\n",
        "print(b)"
      ],
      "metadata": {
        "colab": {
          "base_uri": "https://localhost:8080/"
        },
        "id": "BykYDxGWoJ99",
        "outputId": "624ea52d-e0fb-47f6-eb6c-cde67b4d2acc"
      },
      "execution_count": 11,
      "outputs": [
        {
          "output_type": "stream",
          "name": "stdout",
          "text": [
            "Enter integer 12\n",
            "12\n",
            "Enter floating number 45\n",
            "45.0\n"
          ]
        }
      ]
    },
    {
      "cell_type": "markdown",
      "source": [
        "# ოპერატორები"
      ],
      "metadata": {
        "id": "zT9aAPsCDEiN"
      }
    },
    {
      "cell_type": "code",
      "source": [
        "\"\"\"\n",
        "◆ არითმეტიკული\n",
        "◆ მინიჭების\n",
        "◆ შედარების\n",
        "◆ ლოგიკური\n",
        "◆ ბიტური\n",
        "\n",
        "\"\"\""
      ],
      "metadata": {
        "id": "vvBDiXFLCjJB"
      },
      "execution_count": null,
      "outputs": []
    },
    {
      "cell_type": "markdown",
      "source": [
        "არითმეტიკული ოპერატორები"
      ],
      "metadata": {
        "id": "sLkfFyo4ExTB"
      }
    },
    {
      "cell_type": "code",
      "source": [
        "x = int(input(\"Enter first integer \"))\n",
        "y = int(input(\"Enter second integer \"))\n",
        "\n",
        "print(x+y) # მიმატების ოპერატორი\n",
        "print(x-y) # გამოკლების ოპერატორი\n",
        "print(x*y) # გამრავლების ოპერატორი\n",
        "print(x/y) # გაყოფის ოპერატორი (შედეგი ნამდვილი რიცხვია)\n",
        "print(x//y) # გაყოფის ოპერატორი (x გაიყოფა y-ზე და დამრგვალდება უმცირეს მთელ მნიშვნელობამდე)\n",
        "print(x%y) # შეფარდების ნაშთითი წევრი\n",
        "print(x**y) # ხარისხში აყვანა\n"
      ],
      "metadata": {
        "id": "cv_gz_ZGDNaP",
        "colab": {
          "base_uri": "https://localhost:8080/"
        },
        "outputId": "26f98942-fa66-4b35-c4de-0fc6afab8940"
      },
      "execution_count": 12,
      "outputs": [
        {
          "output_type": "stream",
          "name": "stdout",
          "text": [
            "Enter first integer 45\n",
            "Enter second integer 3\n",
            "48\n",
            "42\n",
            "135\n",
            "15.0\n",
            "15\n",
            "0\n",
            "91125\n"
          ]
        }
      ]
    },
    {
      "cell_type": "markdown",
      "source": [
        "მინიჭების ოპერატორები"
      ],
      "metadata": {
        "id": "a77oRDURE1BW"
      }
    },
    {
      "cell_type": "code",
      "source": [
        "a = 10\n",
        "print(a)\n",
        "a += 2\n",
        "print(a)\n",
        "a -= 3\n",
        "print(a)\n",
        "a *= 4\n",
        "print(a)\n",
        "a /= 7\n",
        "print(a)\n",
        "a //= 2\n",
        "print(a)\n",
        "a %= 3\n",
        "print(a)\n",
        "a **= 2\n",
        "print(a)"
      ],
      "metadata": {
        "id": "-DcemWagEoEx",
        "outputId": "f06bdbd6-58fc-4308-e099-f62570b33dea",
        "colab": {
          "base_uri": "https://localhost:8080/"
        }
      },
      "execution_count": 13,
      "outputs": [
        {
          "output_type": "stream",
          "name": "stdout",
          "text": [
            "10\n",
            "12\n",
            "9\n",
            "36\n",
            "5.142857142857143\n",
            "2.0\n",
            "2.0\n",
            "4.0\n"
          ]
        }
      ]
    },
    {
      "cell_type": "markdown",
      "source": [
        "შედარების ოპერატორები"
      ],
      "metadata": {
        "id": "oyMFpzmnH1rX"
      }
    },
    {
      "cell_type": "code",
      "source": [
        "b = 23\n",
        "print(a>b) # შედარება მეტობაზე\n",
        "print(a<b)# შედარება ნაკლებობაზე\n",
        "print(a==b) # შედარება ტოლობაზე\n",
        "print(a!=b) # შედარება სხვაობაზე\n",
        "print(a>=b) # შედარება მეტობა ან ტოლობაზე\n",
        "print(a<=b) # შედარება ნაკლებობა ან ტოლობაზე\n",
        "print(a is b) # შედარება ტოლობაზე\n",
        "print(a is not b) # შედარება განსხვავებაზე"
      ],
      "metadata": {
        "id": "4YVpHzyNFW40"
      },
      "execution_count": null,
      "outputs": []
    },
    {
      "cell_type": "markdown",
      "source": [
        "ლოგიკური ოპერატორები"
      ],
      "metadata": {
        "id": "8uG0iqaJIvKy"
      }
    },
    {
      "cell_type": "code",
      "source": [
        "x, y, z = 5, 7, 7\n",
        "print( x > y and y < z, x < y and y == z )"
      ],
      "metadata": {
        "colab": {
          "base_uri": "https://localhost:8080/"
        },
        "id": "Yb0pM0zqH9Mv",
        "outputId": "b6c5b283-3031-44a8-a581-8cfca5f5425f"
      },
      "execution_count": null,
      "outputs": [
        {
          "output_type": "stream",
          "name": "stdout",
          "text": [
            "False True\n"
          ]
        }
      ]
    },
    {
      "cell_type": "code",
      "source": [
        "x, y, z = 5, 7, 7\n",
        "print( x > y or y < z, x < y or y > z)"
      ],
      "metadata": {
        "colab": {
          "base_uri": "https://localhost:8080/"
        },
        "id": "2FIeynqJI24N",
        "outputId": "082bfb48-130c-4c44-f5cd-02aec832dd27"
      },
      "execution_count": null,
      "outputs": [
        {
          "output_type": "stream",
          "name": "stdout",
          "text": [
            "False True\n"
          ]
        }
      ]
    },
    {
      "cell_type": "markdown",
      "source": [
        "ბიტური ოპერატორები"
      ],
      "metadata": {
        "id": "0tObrHShMTdo"
      }
    },
    {
      "cell_type": "code",
      "source": [
        "c, d = 0b1001, 0b0101 # c-ში და d-ში ჩაწერილია ორობითი რიცხვები"
      ],
      "metadata": {
        "id": "fW2590QjJJc0"
      },
      "execution_count": null,
      "outputs": []
    },
    {
      "cell_type": "code",
      "source": [
        "print(c&d) # (AND) ბიტური „და“\n",
        "print(c|d) # (OR) ბიტური „ან“\n",
        "print(c^d) # (XOR) გამომრიცხავი „ან“\n",
        "print(~d) # (NOT) ბიტური უარყოფა\n",
        "print(c >> 2) # ბიტების მიმდევრობის გადაწევა ბიტების მარჯვნივ მითითებული რაოდენობით\n",
        "print(c << 3) # ბიტების მიმდევრობის გადაწევა ბიტების მარცხნივ მითითებული რაოდენობით"
      ],
      "metadata": {
        "colab": {
          "base_uri": "https://localhost:8080/"
        },
        "id": "2TB7p0GxMa7g",
        "outputId": "690ef23a-7c9c-4862-ee26-dc15e3105350"
      },
      "execution_count": null,
      "outputs": [
        {
          "output_type": "stream",
          "name": "stdout",
          "text": [
            "1\n",
            "13\n",
            "12\n",
            "-6\n",
            "2\n",
            "72\n"
          ]
        }
      ]
    },
    {
      "cell_type": "markdown",
      "source": [
        "პირობითი ოპერატორები"
      ],
      "metadata": {
        "id": "gcLQUuYqN8g6"
      }
    },
    {
      "cell_type": "code",
      "source": [
        "# if ოპერატორი\n",
        "\n",
        "x = int(input('Enter integer number: '))\n",
        "if x % 2 == 0:\n",
        "  print('Entered number is even')"
      ],
      "metadata": {
        "colab": {
          "base_uri": "https://localhost:8080/"
        },
        "id": "sjLr2aJRM69a",
        "outputId": "8e61cd40-5a57-43bb-d5c7-47d7443eecac"
      },
      "execution_count": 14,
      "outputs": [
        {
          "output_type": "stream",
          "name": "stdout",
          "text": [
            "Enter integer number: 8\n",
            "Entered number is even\n"
          ]
        }
      ]
    },
    {
      "cell_type": "code",
      "source": [
        "# elif ოპერატორი\n",
        "\n",
        "x = int(input(\"Enter integer number: \"))\n",
        "\n",
        "if x % 5 == 0:\n",
        "    print(str(x) + \" mod 5 is 0\")\n",
        "elif x % 5 == 1:\n",
        "    print(str(x) + \" mod 5 is 1\")\n",
        "elif x % 5 == 2:\n",
        "    print(str(x) + \" mod 5 is 2\")\n",
        "elif x % 5 == 3:\n",
        "    print(str(x) + \" mod 5 is 3\")\n",
        "elif x % 5 == 4:\n",
        "    print(str(x) + \" mod 5 is 4\")"
      ],
      "metadata": {
        "colab": {
          "base_uri": "https://localhost:8080/"
        },
        "id": "Vuw3FxytRKD1",
        "outputId": "805792ba-6bca-4b0f-ce94-4157e6024b3c"
      },
      "execution_count": 16,
      "outputs": [
        {
          "output_type": "stream",
          "name": "stdout",
          "text": [
            "Enter integer number: 48\n",
            "48 mod 5 is 3\n"
          ]
        }
      ]
    },
    {
      "cell_type": "code",
      "source": [
        "# if-else ოპერატორი\n",
        "\n",
        "x = int(input('Enter integer number: '))\n",
        "if x % 2 == 0:\n",
        "  print('Entered number is oven')\n",
        "else:\n",
        "  print('Entered number is odd')"
      ],
      "metadata": {
        "colab": {
          "base_uri": "https://localhost:8080/"
        },
        "id": "L6wFy-FhRb0e",
        "outputId": "b4ddbac3-f37b-4ce8-859e-a36506a63232"
      },
      "execution_count": null,
      "outputs": [
        {
          "output_type": "stream",
          "name": "stdout",
          "text": [
            "Enter integer number: 20\n",
            "Entered number is oven\n"
          ]
        }
      ]
    },
    {
      "cell_type": "code",
      "source": [
        "# if-elif-else ოპერატორი\n",
        "\n",
        "x = int(input('Enter integer number: '))\n",
        "\n",
        "if x % 5 == 0:\n",
        "    print(str(x) + ' mod 5 is 0')\n",
        "elif x % 5 == 1:\n",
        "    print(str(x) + ' mod 5 is 1')\n",
        "elif x % 5 == 2:\n",
        "    print(str(x) + ' mod 5 is 2')\n",
        "elif x % 5 == 3:\n",
        "    print(str(x) + ' mod 5 is 3')\n",
        "else:\n",
        "    print(str(x) + ' mod 5 is 4')\n"
      ],
      "metadata": {
        "id": "Q2BEnsvvRr2B"
      },
      "execution_count": null,
      "outputs": []
    },
    {
      "cell_type": "markdown",
      "source": [
        "ციკლის ოპერატორები"
      ],
      "metadata": {
        "id": "ILTL-3bbTz5e"
      }
    },
    {
      "cell_type": "code",
      "source": [
        "# for ციკლი\n",
        "\n",
        "st = input('Enter string: ')\n",
        "for s in st:\n",
        "  print(s)"
      ],
      "metadata": {
        "id": "m06dUx3wT4nH",
        "outputId": "bc2f5b52-a519-4807-c2fc-138fe97be35e",
        "colab": {
          "base_uri": "https://localhost:8080/"
        }
      },
      "execution_count": 18,
      "outputs": [
        {
          "output_type": "stream",
          "name": "stdout",
          "text": [
            "Enter string: gvjvhb\n",
            "g\n",
            "v\n",
            "j\n",
            "v\n",
            "h\n",
            "b\n"
          ]
        }
      ]
    },
    {
      "cell_type": "code",
      "source": [
        "# while ციკლი\n",
        "\n",
        "arr = [1,2,3,4,5,6,7,8]\n",
        "i = 0 # ციკლის მთვლელი\n",
        "while i < len(arr): # ციკლის შეჩერების პირობა\n",
        " print( arr[i], end =' ' )\n",
        " i += 1 # გავზარდოთ მთვლელი 1-ით"
      ],
      "metadata": {
        "colab": {
          "base_uri": "https://localhost:8080/"
        },
        "id": "hST3apP5T6h3",
        "outputId": "a76117de-0245-4c4c-df41-0e010231c9c6"
      },
      "execution_count": 19,
      "outputs": [
        {
          "output_type": "stream",
          "name": "stdout",
          "text": [
            "1 2 3 4 5 6 7 8 "
          ]
        }
      ]
    },
    {
      "cell_type": "code",
      "source": [
        "# range() ფუნქციის გამოყენება\n",
        "\n",
        "for x in range(1, 11):\n",
        " print(x ** 2, end=' ')"
      ],
      "metadata": {
        "id": "zs5Q4wVNUju8",
        "outputId": "0262c94e-c93d-451b-f814-b2f7137d52eb",
        "colab": {
          "base_uri": "https://localhost:8080/"
        }
      },
      "execution_count": 21,
      "outputs": [
        {
          "output_type": "stream",
          "name": "stdout",
          "text": [
            "1 4 9 16 25 36 49 64 81 100 "
          ]
        }
      ]
    },
    {
      "cell_type": "code",
      "source": [
        "# enumerate() ფუნქციის გამოყენება\n",
        "\n",
        "arr = [1, 2, 3, 4, 5, 6, 7, 8, 9, 10]\n",
        "for ind, elem in enumerate(arr):\n",
        " if elem % 2 == 0:\n",
        "    arr[ind] **= 2\n",
        "print(arr, end=\" \" )"
      ],
      "metadata": {
        "colab": {
          "base_uri": "https://localhost:8080/"
        },
        "id": "bxP3ux5WUsqj",
        "outputId": "47141bbd-0432-49c8-d494-68b9a3f3762e"
      },
      "execution_count": 22,
      "outputs": [
        {
          "output_type": "stream",
          "name": "stdout",
          "text": [
            "[1, 4, 3, 16, 5, 36, 7, 64, 9, 100] "
          ]
        }
      ]
    },
    {
      "cell_type": "code",
      "source": [
        "# ციკლში continue ოპერატორის გამოყენება\n",
        "\n",
        "arr = [10, 11, 12, 13, 14, 15, 16, 17, 18, 19, 20]\n",
        "for i in range(11):\n",
        " if arr[i] % 3 == 0:\n",
        "  continue # გამოვტოვოთ იტერაცია\n",
        " if arr[i] % 3 == 1: # თუ ნაშთი 1-ია\n",
        "  arr[i] *= 2 # გავაორმაგოთ ელემენტი\n",
        "  continue # გამოვტოვოთ იტერაცია\n",
        " if arr[i] % 3 == 2: # თუ ნაშთი 2-ია\n",
        "  arr[i] *= 3 # გავასამმაგოთ ელემენტი\n",
        "print(arr) # დავბეჭდოთ სიმრავლის ელემენტები"
      ],
      "metadata": {
        "id": "yiiA-I_zVau4",
        "outputId": "31b83407-c068-454c-ba9a-6e5d71f4df22",
        "colab": {
          "base_uri": "https://localhost:8080/"
        }
      },
      "execution_count": 24,
      "outputs": [
        {
          "output_type": "stream",
          "name": "stdout",
          "text": [
            "[20, 33, 12, 26, 42, 15, 32, 51, 18, 38, 60]\n"
          ]
        }
      ]
    },
    {
      "cell_type": "code",
      "source": [
        "# ციკლში break ოპერატორის გამოყენება\n",
        "\n",
        "arr = [10, 11, 12, 13, 14, 15, 16, 17, 18, 19, 20]\n",
        "size = len(arr) # გავიგოთ სიმრავლეში ელემენტების რაოდენობა\n",
        "for ind in range(size): # დავატრიალოთ ციკლი\n",
        "  print(ind)\n",
        "  if arr[ind] == 14: # შევამოწმოთ მნიშვნელობის არსებობა\n",
        "    break # შევაჩეროთ ციკლის შესრულება\n",
        "  if size != ind: # თუ ინდექსის მნიშვნელობა არ ემთხვევა ზომას ეს\n",
        "    print(\"Element exist\") # ნიშნავს, რომ ობიექტი გვყავს სიმრავლეში\n",
        "  else: # წინააღმდეგ შემთხვევაში ელემენტი არ იძებნება სიმრავლეში\n",
        "    print(\"Element not exist\")"
      ],
      "metadata": {
        "id": "lA84EIqeVrpF",
        "outputId": "b6af4e1e-0d18-4c5b-857c-f540c208be3d",
        "colab": {
          "base_uri": "https://localhost:8080/"
        }
      },
      "execution_count": 25,
      "outputs": [
        {
          "output_type": "stream",
          "name": "stdout",
          "text": [
            "0\n",
            "Element exist\n",
            "1\n",
            "Element exist\n",
            "2\n",
            "Element exist\n",
            "3\n",
            "Element exist\n",
            "4\n"
          ]
        }
      ]
    },
    {
      "cell_type": "markdown",
      "source": [
        "# სავარჯიშოები"
      ],
      "metadata": {
        "id": "5PJX6_SmtuzM"
      }
    },
    {
      "cell_type": "markdown",
      "source": [
        "1. დაწერეთ კოდი (კალკულატორი), რომელიც გამოითვლის და დაბეჭდავს კლავიატურიდან\n",
        "შეტანილი ორი მთელი რიცხვისა და არითმეტიკული მოქმედების შესაბამისი სიმბოლოსთვის\n",
        "არითმეტიკული მოქმედების შედეგს."
      ],
      "metadata": {
        "id": "J_aXAvhYxI6t"
      }
    },
    {
      "cell_type": "code",
      "source": [
        "num1: int = int(input(\"Enter first number: \"))\n",
        "num2: int = int(input(\"Enter second number: \"))\n",
        "operation: str = input(\"Enter operation(+ - * / %): \")\n",
        "if operation == \"+\":\n",
        "  print(num1 + num2)\n",
        "elif operation == \"-\":\n",
        "  print(num1 - num2)\n",
        "elif operation == \"*\":\n",
        "  print(num1 * num2)\n",
        "elif operation == \"/\" and num2 != 0:\n",
        "  print(num1 / num2)\n",
        "elif operation == \"%\":\n",
        "  print(num1 % num2)\n",
        "else:\n",
        "  print(\"Invalid operation\")"
      ],
      "metadata": {
        "id": "ebcRf5tkty1A",
        "outputId": "c280dcf9-e212-46a7-846f-43b488cd2b5d",
        "colab": {
          "base_uri": "https://localhost:8080/"
        }
      },
      "execution_count": 34,
      "outputs": [
        {
          "output_type": "stream",
          "name": "stdout",
          "text": [
            "Enter first number: 12\n",
            "Enter second number: 1\n",
            "Enter operation(+ - * / %): -\n",
            "11\n"
          ]
        }
      ]
    },
    {
      "cell_type": "markdown",
      "source": [
        "2. დაწერეთ კოდი, რომელიც გამოითვლის და დაბეჭდავს [20, 50] შუალედიდან აღებული ყველა\n",
        "7-ის ჯერადი მთელი რიცხვის კუბების ნამრავლს."
      ],
      "metadata": {
        "id": "sao4AAiSxLWr"
      }
    },
    {
      "cell_type": "code",
      "source": [
        "multiply: int = 1\n",
        "for i in range(20, 51):\n",
        "  if i % 7 == 0:\n",
        "    print(i, i ** 3)\n",
        "    multiply *= i ** 3\n",
        "  else:\n",
        "    continue\n",
        "print(multiply)"
      ],
      "metadata": {
        "id": "RnhlPaycxNea",
        "outputId": "b483bb05-ba45-4936-abae-dfc17ab930be",
        "colab": {
          "base_uri": "https://localhost:8080/"
        }
      },
      "execution_count": 36,
      "outputs": [
        {
          "output_type": "stream",
          "name": "stdout",
          "text": [
            "21 9261\n",
            "28 21952\n",
            "35 42875\n",
            "42 74088\n",
            "49 117649\n",
            "75975264824109908544000\n"
          ]
        }
      ]
    },
    {
      "cell_type": "markdown",
      "source": [
        "6. დაწერეთ კოდი, რომელიც გამოითვლის და დაბეჭდავს [1000, 10000] შუალედიდან აღებული\n",
        "ისეთი რიცხვების საშუალო არითმეტიკულს, რომელთა ციფრების ჯამი არის 7-ის ჯერადი;"
      ],
      "metadata": {
        "id": "EJKcJIqGxOUf"
      }
    },
    {
      "cell_type": "code",
      "source": [
        "numbers: list[int] = []\n",
        "for i in range(1000, 100001):\n",
        "  num_sum: int = 0\n",
        "  for j in str(i):\n",
        "    num_sum += int(i)\n",
        "  if num_sum % 7 == 0:\n",
        "    numbers.append(num_sum)\n",
        "print(sum(numbers) / len(numbers))\n"
      ],
      "metadata": {
        "colab": {
          "base_uri": "https://localhost:8080/"
        },
        "id": "VbHSyKGBxTB5",
        "outputId": "76a5b505-d1b4-4b0a-baba-443ea2a295c8"
      },
      "execution_count": 37,
      "outputs": [
        {
          "output_type": "stream",
          "name": "stdout",
          "text": [
            "251990.03033302695\n"
          ]
        }
      ]
    },
    {
      "cell_type": "markdown",
      "source": [
        "8. დაწერეთ კოდი, რომელიც გამოითვლის და დაბეჭდავს [500, 5000] შუალედიდან აღებული 17,\n",
        "29, 43 და 97-ის ჯერადი რიცხვების საშუალო არითმეტიკულს"
      ],
      "metadata": {
        "id": "IHf7D3SUHCej"
      }
    },
    {
      "cell_type": "code",
      "source": [
        "numbers: list[int] = []\n",
        "for i in range(500, 50001):\n",
        "  if i % 17 == 0 or i % 29 == 0 or i % 43 == 0 or i % 97 == 0:\n",
        "    numbers.append(i)\n",
        "print(sum(numbers) / len(numbers))"
      ],
      "metadata": {
        "id": "nQwyD5uExuIZ",
        "outputId": "17427c3a-4d0c-49e2-8ea8-d7d679e60f1e",
        "colab": {
          "base_uri": "https://localhost:8080/"
        }
      },
      "execution_count": 38,
      "outputs": [
        {
          "output_type": "stream",
          "name": "stdout",
          "text": [
            "25254.640684726608\n"
          ]
        }
      ]
    },
    {
      "cell_type": "markdown",
      "source": [
        "13. დაწერეთ პროგრამა, რომელიც მომხმარებლის მიერ კლავიატურიდან შეტანილი სამი\n",
        "ნამდვილი მნიშვნელობისთვის დაითვლის და დაბეჭდავს შესაბამისი მართკუთხა\n",
        "სამკუთხედის ფართობს (ასეთის არსებობის შემთხვევაში). პროგრამამ უნდა შეამოწმოს\n",
        "არსებობს თუ არა მომხმარებლის მიერ შეტანილი ნამდვილი მნიშვნელობების შესაბამისი\n",
        "გვერდების მქონე მართკუთხა სამკუთხედი. თუ ასეთი სამკუთხედი არ არსებობს, მაშინ\n",
        "დაბეჭდოს შესაბამისი შეტყობინება"
      ],
      "metadata": {
        "id": "4Lcg7xTgHGJy"
      }
    },
    {
      "cell_type": "code",
      "source": [
        "side1: int = int(input(\"Enter first side: \"))\n",
        "side2: int = int(input(\"Enter second side: \"))\n",
        "hipotenuza: int = int(input(\"Enter third side(hipotenuza): \"))\n",
        "if (side1 ** 2 + side2 ** 2 != hipotenuza ** 2):\n",
        "  print(\"invalid triangle\")\n",
        "else:\n",
        "  s: float = (side1 * side2) / 2\n",
        "  print(f\"Area is {s}\")"
      ],
      "metadata": {
        "id": "nNh80P2VHI8i",
        "outputId": "4b22f4b9-f79a-41a6-a8fe-8a8bedcbd6d3",
        "colab": {
          "base_uri": "https://localhost:8080/"
        }
      },
      "execution_count": 40,
      "outputs": [
        {
          "output_type": "stream",
          "name": "stdout",
          "text": [
            "Enter first side: 3\n",
            "Enter second side: 4\n",
            "Enter third side(hipotenuza): 5\n",
            "Area is 6.0\n"
          ]
        }
      ]
    },
    {
      "cell_type": "markdown",
      "source": [
        "16. დაწერეთ პროგრამა, რომელიც დაითვლის მომხმარებლის მიერ კლავიატურიდან შეტანილი\n",
        "სამი ნამდვილი მნიშვნელობისათვის დაითვლის შესაბამისი კოეფიციენტების მქონე\n",
        "კვადრატული განტოლების ფესვებს და მათ რაოდენობას. თუ განტოლებას ფესვი არ გააჩნია,\n",
        "პროგრამამ უნდა დაბეჭდოს შესაბამისი შეტყობინება"
      ],
      "metadata": {
        "id": "_M_yqz6sHOQf"
      }
    },
    {
      "cell_type": "code",
      "source": [
        "from math import sqrt\n",
        "a: int = int(input(\"Enter a: \"))\n",
        "b: int = int(input(\"Enter b: \"))\n",
        "c: int = int(input(\"Enter c: \"))\n",
        "d: int = b ** 2 - 4 * a * c\n",
        "if d < 0:\n",
        "  print(\"this equation doesn't have solution\")\n",
        "else:\n",
        "  x1: float = (-b + sqrt(d)) / 2 * a\n",
        "  x2: float = (-b - sqrt(d)) / 2 * a\n",
        "  print(f\"x1 = {round(x1,1)}, x2 = {round(x2,1)}\")\n"
      ],
      "metadata": {
        "id": "ZM3uv8KrKRys",
        "outputId": "b6ce402e-fe45-4f15-c8c7-f8e86aa64c16",
        "colab": {
          "base_uri": "https://localhost:8080/"
        }
      },
      "execution_count": 43,
      "outputs": [
        {
          "output_type": "stream",
          "name": "stdout",
          "text": [
            "Enter a: 1\n",
            "Enter b: 6\n",
            "Enter c: 2\n",
            "x1 = -0.4, x2 = -5.6\n"
          ]
        }
      ]
    }
  ]
}
