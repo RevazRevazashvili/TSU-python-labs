{
  "nbformat": 4,
  "nbformat_minor": 0,
  "metadata": {
    "colab": {
      "provenance": [],
      "authorship_tag": "ABX9TyODxztxGIlXN8e4K9WZzhxG",
      "include_colab_link": true
    },
    "kernelspec": {
      "name": "python3",
      "display_name": "Python 3"
    },
    "language_info": {
      "name": "python"
    }
  },
  "cells": [
    {
      "cell_type": "markdown",
      "metadata": {
        "id": "view-in-github",
        "colab_type": "text"
      },
      "source": [
        "<a href=\"https://colab.research.google.com/github/RevazRevazashvili/TSU-python-labs/blob/main/Lab_3_Containers.ipynb\" target=\"_parent\"><img src=\"https://colab.research.google.com/assets/colab-badge.svg\" alt=\"Open In Colab\"/></a>"
      ]
    },
    {
      "cell_type": "markdown",
      "source": [
        "#მონაცემთა შენახვის კონტეინერები"
      ],
      "metadata": {
        "id": "C5psCdxHSXwA"
      }
    },
    {
      "cell_type": "code",
      "execution_count": null,
      "metadata": {
        "id": "ZOuQ03S-jJj0"
      },
      "outputs": [],
      "source": [
        "\"\"\"\n",
        "\n",
        "  list წარმოადგენს ობიექტების ინდექსირებულ მიმდევრობას. მის ელემენტებზე წვდომა\n",
        "  შესაძლებელია ინდექსირების ოპერატორის ([]) მეშვეობით, რომელშიც ინდექსის როლში ეთითება\n",
        "  ობიექტის პოზიცია მიმდევრობაში. პროგრამირების სხვა ენების მსგავსად ინდექსირება იწყება\n",
        "  მნიშვნელობით 0 -ი. თუ კვადრატულ ფრჩხილებში (ინდექსირების ოპერატორში) მითითებული\n",
        "  იქნება სიაში ელემენტების რაოდენობაზე მეტი მნიშვნელობა, მაშინ წარმოიშობა შეცდომა.\n",
        "  list-ი მიეკუთვნება მონაცემთა შეცვლად ტიპს, რაც ნიშნავს, რომ საჭიროების შემთხვევაში\n",
        "  შესაძლებელია როგორც list-ის ნებისმიერი ელემენტის მნიშვნელობის შეცვლა, ისე მასში\n",
        "  ელემენტების რაოდენობის შეცვლა.\n",
        "\n",
        "\"\"\""
      ]
    },
    {
      "cell_type": "code",
      "source": [
        "# სია შეგვიძლია შევქმნათ ორი განსხვავებული გზით:\n",
        "\n",
        "array1 = list()\n",
        "\n",
        "array2 = []"
      ],
      "metadata": {
        "id": "7Tn5mz6UjaHE"
      },
      "execution_count": 1,
      "outputs": []
    },
    {
      "cell_type": "markdown",
      "source": [
        "ოპერაციები list-ზე"
      ],
      "metadata": {
        "id": "4vlkL7BkkXCj"
      }
    },
    {
      "cell_type": "code",
      "source": [
        "# ელემენტის ჩამატება append() მეთოდით\n",
        "\n",
        "array1.append(12) # მთელი რიცხვის ჩამატება\n",
        "array1.append(\"hello\") # სტრიქონის ჩამატება\n",
        "array1.append([13, 14]) # სიის ჩამატება\n",
        "array1.append(None) # None ტიპის ჩამატება\n",
        "\n",
        "print(array1)"
      ],
      "metadata": {
        "colab": {
          "base_uri": "https://localhost:8080/"
        },
        "id": "pBwsLwo9kNB4",
        "outputId": "2c6d5c32-b7be-42a7-b424-59c28740ca43"
      },
      "execution_count": 95,
      "outputs": [
        {
          "output_type": "stream",
          "name": "stdout",
          "text": [
            "[12, 'hello', [13, 14], 5, 12, 'hello', [13, 14], None]\n"
          ]
        }
      ]
    },
    {
      "cell_type": "code",
      "source": [
        "array1[3] = 5\n",
        "print(array1)"
      ],
      "metadata": {
        "id": "QAyI6fHzM7Fr",
        "outputId": "3aae7382-5944-4442-a0c9-58c152897532",
        "colab": {
          "base_uri": "https://localhost:8080/"
        }
      },
      "execution_count": 96,
      "outputs": [
        {
          "output_type": "stream",
          "name": "stdout",
          "text": [
            "[12, 'hello', [13, 14], 5, 12, 'hello', [13, 14], None]\n"
          ]
        }
      ]
    },
    {
      "cell_type": "code",
      "source": [
        "# სიის ელემენტების ცვლადებზე პოზიციური მინიჭება\n",
        "arr = []\n",
        "\n",
        "arr.append(1)\n",
        "arr.append(2)\n",
        "arr.append(3)\n",
        "\n",
        "x, y, z = arr # ცვლადებზე პოზიციური მინჭება. !!! ამ შემთხვევაში აუცილებელია ცვლადების რაოდენობა ტოლი იყოს სიაში ელემენტების რაოდენობის\n",
        "\n",
        "print(x,y,z)"
      ],
      "metadata": {
        "colab": {
          "base_uri": "https://localhost:8080/"
        },
        "id": "bC0E57Cjkvby",
        "outputId": "97ec4230-e04e-478d-e6ec-e790c9ab5831"
      },
      "execution_count": 4,
      "outputs": [
        {
          "output_type": "stream",
          "name": "stdout",
          "text": [
            "1 2 3\n"
          ]
        }
      ]
    },
    {
      "cell_type": "code",
      "source": [
        "# სიის ელემენტების ცვლადებზე პოზიციური მინიჭება\n",
        "array = list([1,2,3,4,5,6])\n",
        "\n",
        "x, *y, z = array # ცვლადებზე პოზიციური მინჭება. !!! ამ შემთხვევაში აუცილებელია აღარაა ცვლადების რაოდენობა ტოლი იყოს სიაში ელემენტების რაოდენობის\n",
        "\n",
        "print(x,y,z)"
      ],
      "metadata": {
        "colab": {
          "base_uri": "https://localhost:8080/"
        },
        "id": "kWs1Zjn7llcy",
        "outputId": "c42ef288-5ef7-4646-cf07-29078be70958"
      },
      "execution_count": 98,
      "outputs": [
        {
          "output_type": "stream",
          "name": "stdout",
          "text": [
            "1 [2, 3, 4, 5] 6\n"
          ]
        }
      ]
    },
    {
      "cell_type": "code",
      "source": [
        "# სიაში ელემენტების რაოდენობა - len() ფუნქცია\n",
        "\n",
        "print(f\"სიაში ელემენტების რაოდენობა ტოლია {len(array)}-ის\")"
      ],
      "metadata": {
        "colab": {
          "base_uri": "https://localhost:8080/"
        },
        "id": "ptvWu-Hwojix",
        "outputId": "d1e9fa7a-9d6e-43f7-d910-e7605da12f12"
      },
      "execution_count": 99,
      "outputs": [
        {
          "output_type": "stream",
          "name": "stdout",
          "text": [
            "სიაში ელემენტების რაოდენობა ტოლია 6-ის\n"
          ]
        }
      ]
    },
    {
      "cell_type": "code",
      "source": [
        "# ელემენტებზე წვდომა\n",
        "\n",
        "print(array[0]) # წვდომა პირველ ელემენტზე\n",
        "print(array[-2]) # წვდომა ბოლოდან მეორე ელემენტზე"
      ],
      "metadata": {
        "colab": {
          "base_uri": "https://localhost:8080/"
        },
        "id": "ibU3Lp5opFHu",
        "outputId": "b287a8e9-9c31-4525-a7b1-2212b49a4224"
      },
      "execution_count": 8,
      "outputs": [
        {
          "output_type": "stream",
          "name": "stdout",
          "text": [
            "1\n",
            "5\n"
          ]
        }
      ]
    },
    {
      "cell_type": "markdown",
      "source": [
        "სიიდან ქვემიმდევრობის მიღება"
      ],
      "metadata": {
        "id": "Oy2jPrjkpt2K"
      }
    },
    {
      "cell_type": "code",
      "source": [
        "arr = []\n",
        "for i in range(15):\n",
        "  arr.append(i)\n",
        "\n",
        "print(arr[:3]) # პირველი სამი ელემენტი\n",
        "print(arr[2:8]) # ელემენტები 2-8 ინდექსებიდან\n",
        "print(arr[5:]) # მე-5 ინდექსიდან დაწყებული ყველა ელემენტი\n",
        "print(arr[::-1]) # ყველა ელემენტი შებრუნებული მიმდევრობით\n",
        "print(arr[::2]) # შუალედი ყოველი ლუწ ინდექსიანი ელემენტით"
      ],
      "metadata": {
        "colab": {
          "base_uri": "https://localhost:8080/"
        },
        "id": "tH1mVvdLpbdM",
        "outputId": "f1560e7e-cfaa-4570-c678-3bf8e6215d1e"
      },
      "execution_count": 100,
      "outputs": [
        {
          "output_type": "stream",
          "name": "stdout",
          "text": [
            "[0, 1, 2]\n",
            "[2, 3, 4, 5, 6, 7]\n",
            "[5, 6, 7, 8, 9, 10, 11, 12, 13, 14]\n",
            "[14, 13, 12, 11, 10, 9, 8, 7, 6, 5, 4, 3, 2, 1, 0]\n",
            "[0, 2, 4, 6, 8, 10, 12, 14]\n"
          ]
        }
      ]
    },
    {
      "cell_type": "markdown",
      "source": [
        "შეკრებისა და გამრავლების ოპერაციები"
      ],
      "metadata": {
        "id": "4ihjObyFrFLp"
      }
    },
    {
      "cell_type": "code",
      "source": [
        "arr1, arr2 = [1,2,3], [1,2,3,4]\n",
        "\n",
        "print(arr1+arr2) # შეკრების ოპერაცია აერთიანებს სიებს\n",
        "print(arr1 * 4) # გამრავლების ოპერაცია აიღებს სიის ელემენტებს იმდენჯერ რა რიცხვზეც ვამრავლებთ\n",
        "# print(arr1*arr2)"
      ],
      "metadata": {
        "colab": {
          "base_uri": "https://localhost:8080/"
        },
        "id": "iuqclpy0p6QM",
        "outputId": "52ce5f39-675b-4d3a-eaf3-3a0b2eb5eab1"
      },
      "execution_count": null,
      "outputs": [
        {
          "output_type": "stream",
          "name": "stdout",
          "text": [
            "[1, 2, 3, 1, 2, 3, 4]\n",
            "[1, 2, 3, 1, 2, 3, 1, 2, 3, 1, 2, 3]\n"
          ]
        }
      ]
    },
    {
      "cell_type": "markdown",
      "source": [
        "in ოპერატორი\n",
        "https://codedamn.com/news/python/understanding-is-in-operator-in-python"
      ],
      "metadata": {
        "id": "f5roB4cAr1Xy"
      }
    },
    {
      "cell_type": "code",
      "source": [
        "# in ამოწმებს მიმდევრობა შეიცავს თუარა კონკრეტულ ელემენტს\n",
        "arr = [1,2,3,4,5,6,7,8]\n",
        "\n",
        "if 3 in arr:\n",
        "  print(\"3 is in arr\")\n",
        "\n",
        "if 10 not in arr:\n",
        "  print(\"10 is not in arr\")"
      ],
      "metadata": {
        "colab": {
          "base_uri": "https://localhost:8080/"
        },
        "id": "n3WIrFJhrNS5",
        "outputId": "848dcda2-613e-460a-f240-858a169b0fb7"
      },
      "execution_count": 101,
      "outputs": [
        {
          "output_type": "stream",
          "name": "stdout",
          "text": [
            "3 is in arr\n",
            "10 is not in arr\n"
          ]
        }
      ]
    },
    {
      "cell_type": "code",
      "source": [
        "import time\n",
        "import random\n",
        "\n",
        "random.shuffle(arr)\n",
        "\n",
        "t1 = time.time()\n",
        "for i in arr:\n",
        "  if i==3:\n",
        "    print(\" hello\")\n",
        "t2 = time.time()\n",
        "t3 = time.time()\n",
        "if 3 in arr:\n",
        "  print(\"hello\")\n",
        "t4 = time.time()\n",
        "\n",
        "print(t2-t1)\n",
        "print(t4-t3)\n",
        "print(t3==t2)"
      ],
      "metadata": {
        "colab": {
          "base_uri": "https://localhost:8080/"
        },
        "id": "o7z-rWYpLhv_",
        "outputId": "de7b6bf5-847f-459d-c109-4a5dec43f595"
      },
      "execution_count": 106,
      "outputs": [
        {
          "output_type": "stream",
          "name": "stdout",
          "text": [
            " hello\n",
            "hello\n",
            "0.00030803680419921875\n",
            "0.0001952648162841797\n",
            "False\n"
          ]
        }
      ]
    },
    {
      "cell_type": "markdown",
      "source": [
        "# მრავალგანზომილებიანი სიები"
      ],
      "metadata": {
        "id": "7_DXaNIusdJq"
      }
    },
    {
      "cell_type": "code",
      "source": [
        "\"\"\"\n",
        "\n",
        "  რადგანაც list-ი შეიძლება შეიცავდეს ნებისმიერი სახის ელემენტებს, ამიტომ მასში შეიძლება\n",
        "  მოვათავსოთ ობიექტები, რომლებიც თვითონ წარმოადგენენ list-ს. ამ სახით მიღებულ ობიექტს\n",
        "  ორგანზომილებიანი სია ეწოდება. ორგანზომილებიანი list-ის ყოველ ელემენტზე წვდომა\n",
        "  შესაძლებელია ინდექსირების ორი ოპერატორის გამოყენებით.\n",
        "  ორგანზომილებიანი სია შეგვიძლია წარმოვიდგინოთ როგორც excel -ის ცხრილი, რომლის\n",
        "  პირველი განზომილება იქნება ცხრილში სტრიქონების რაოდენობა, ხოლო მეორე განზომილება კი\n",
        "  იქნება ცხრილში სვეტების რაოდენობა. შევნიშნოთ, რომ ორგანზომილებიანი list-ის ყველა ელემენტის გადარჩევა შესაძლებელია\n",
        "  ჩადგმული ციკლის ოპერატორის გამოყენებით.\n",
        "\n",
        "\n",
        "\"\"\""
      ],
      "metadata": {
        "id": "8RHCvWnPsDLO"
      },
      "execution_count": null,
      "outputs": []
    },
    {
      "cell_type": "code",
      "source": [
        "import random\n",
        "arr = []\n",
        "\n",
        "# 5x5-ზე ორგანზომილებიანი სიის შექმნა\n",
        "for i in range(5):\n",
        "  a = []\n",
        "  for j in range(5):\n",
        "    x = random.randint(0, 1000)\n",
        "    a.append(x)\n",
        "  arr.append(a)\n",
        "# მაქსიმალური ელემენტის პოვნა\n",
        "MAX = 0\n",
        "for i in range(5):\n",
        "  for j in range(5):\n",
        "    if MAX < arr[i][j]:\n",
        "      MAX = arr[i][j]\n",
        "for i in range(5):\n",
        "  print(arr[i])\n",
        "print(\"\\nmax value in arr is \", MAX)\n",
        "print(type(arr))\n"
      ],
      "metadata": {
        "colab": {
          "base_uri": "https://localhost:8080/"
        },
        "id": "4CCah7huuzo7",
        "outputId": "122ecae9-c9fe-4b04-be6a-04a41d77d4cc"
      },
      "execution_count": 11,
      "outputs": [
        {
          "output_type": "stream",
          "name": "stdout",
          "text": [
            "[558, 539, 655, 945, 556]\n",
            "[910, 610, 986, 615, 565]\n",
            "[507, 963, 669, 271, 468]\n",
            "[52, 862, 721, 364, 336]\n",
            "[40, 336, 371, 598, 305]\n",
            "\n",
            "max value in arr is  986\n",
            "<class 'list'>\n"
          ]
        }
      ]
    },
    {
      "cell_type": "code",
      "source": [
        "c = []\n",
        "a = [1,2,3,4]\n",
        "b = [5,6,7]\n",
        "c.append(a)\n",
        "c.append(b)\n",
        "c.append(3)\n",
        "print(c)\n",
        "print(type(c))"
      ],
      "metadata": {
        "id": "a1oU6CRHOvPK",
        "outputId": "da764b0f-0b66-493f-858b-bae9c5580806",
        "colab": {
          "base_uri": "https://localhost:8080/"
        }
      },
      "execution_count": 12,
      "outputs": [
        {
          "output_type": "stream",
          "name": "stdout",
          "text": [
            "[[1, 2, 3, 4], [5, 6, 7], 3]\n",
            "<class 'list'>\n"
          ]
        }
      ]
    },
    {
      "cell_type": "code",
      "source": [
        "\"\"\"\n",
        "!!!\n",
        "თუ ორგანზომილებიანი list-ის ყოველი ელემენტი თვითონ წარმოადგენს list-ს, მაშინ მიიღება\n",
        "სამგანზომილებიანი სია. სამგანზომილებიანი list-ის ყოველ ელემენტზე მიმართვა შესაძლებელია\n",
        "ინდექსირების სამი ოპერატორის გამოყენებით. ამ პროცესის გაგრძელებით მივიღებთ მრავალ\n",
        "განზომილებიან list-ს.\n",
        "\"\"\""
      ],
      "metadata": {
        "id": "tGFBiVdwvPql"
      },
      "execution_count": null,
      "outputs": []
    },
    {
      "cell_type": "markdown",
      "source": [
        "ფუნქციები სიებთან სამუშაოდ"
      ],
      "metadata": {
        "id": "z6rxp-bCxmDI"
      }
    },
    {
      "cell_type": "markdown",
      "source": [
        "append()"
      ],
      "metadata": {
        "id": "konjzoCvxsJr"
      }
    },
    {
      "cell_type": "code",
      "source": [
        "# append() ამატებს ელემენტს სიის ბოლოში\n",
        "arr = []\n",
        "\n",
        "arr.append(1)\n",
        "arr.append(12)\n",
        "arr.append(4)\n",
        "\n",
        "print(arr)"
      ],
      "metadata": {
        "colab": {
          "base_uri": "https://localhost:8080/"
        },
        "id": "eQA7OsuIwNfY",
        "outputId": "3334ad78-ae71-4606-e2fb-5bb7bd42ef2b"
      },
      "execution_count": null,
      "outputs": [
        {
          "output_type": "stream",
          "name": "stdout",
          "text": [
            "[1, 12, 4]\n"
          ]
        }
      ]
    },
    {
      "cell_type": "markdown",
      "source": [
        "extend()"
      ],
      "metadata": {
        "id": "KmzYmUpqyABs"
      }
    },
    {
      "cell_type": "code",
      "source": [
        "#  extend() - მეთოდი იძლევა არსებული list-ის ბოლოდან გაფართოების (ობიექტების ჩამატების ხარჯზე) საშუალებას ახალი list-ის ელემენტებით\n",
        "arr = [1, 2, 3, 4, 5]\n",
        "print(f\"Before using extend(): {arr}\")\n",
        "arr.extend([6, 7, 8, 9]) # სიაში დავამატოთ ელემენტების სიმრავლე\n",
        "#arr.extend(1)\n",
        "print(f\"After using extend() : {arr}\")"
      ],
      "metadata": {
        "colab": {
          "base_uri": "https://localhost:8080/"
        },
        "id": "RluXujJ4x4DU",
        "outputId": "b44eb78f-6b24-499a-e023-027d8c856984"
      },
      "execution_count": 107,
      "outputs": [
        {
          "output_type": "stream",
          "name": "stdout",
          "text": [
            "Before using extend(): [1, 2, 3, 4, 5]\n",
            "After using extend() : [1, 2, 3, 4, 5, 6, 7, 8, 9]\n"
          ]
        }
      ]
    },
    {
      "cell_type": "markdown",
      "source": [
        "insert()"
      ],
      "metadata": {
        "id": "6G5jdTqJyVnW"
      }
    },
    {
      "cell_type": "code",
      "source": [
        "# insert() - მეთოდი პირველი პარამეტრით მითითებულ ინდექსზე ამატებს მეორე პარამეტრით მითითებულ ობიექტს\n",
        "arr = [1, 2, 3, 4, 5]\n",
        "print(f\"Before using insert(): {arr}\")\n",
        "arr.insert(2, 10) # 2 ინდექსზე ჩავამატოთ ელემენტი\n",
        "print(f\"After using insert() : {arr}\")"
      ],
      "metadata": {
        "colab": {
          "base_uri": "https://localhost:8080/"
        },
        "id": "VOxFgIfPyQD7",
        "outputId": "9db31ad6-921c-4e09-8451-7bc3425710bb"
      },
      "execution_count": 108,
      "outputs": [
        {
          "output_type": "stream",
          "name": "stdout",
          "text": [
            "Before using insert(): [1, 2, 3, 4, 5]\n",
            "After using insert() : [1, 2, 10, 3, 4, 5]\n"
          ]
        }
      ]
    },
    {
      "cell_type": "markdown",
      "source": [
        "pop()"
      ],
      "metadata": {
        "id": "R055rFNMykg6"
      }
    },
    {
      "cell_type": "code",
      "source": [
        "# pop() - მეთოდი list-იდან შლის ბოლო ან ინდექსით მითითებულ ობიექტს და აბრუნებს წაშლილი ობიექტის მნიშვნელობას\n",
        "arr = [1, 2, 3, 4, 5, 6, 7, 8, 9]\n",
        "print(f\"Before using pop(): {arr}\")\n",
        "print(arr.pop()) # ამოვშალოთ list-ის ბოლო ელემენტი\n",
        "print(f\"After using pop() : {arr}\")\n",
        "arr.pop(2) # ამოვშალოთ მესამე ელემენტი\n",
        "print(f\"After using pop() : {arr}\")"
      ],
      "metadata": {
        "colab": {
          "base_uri": "https://localhost:8080/"
        },
        "id": "e_0hF02cybD7",
        "outputId": "36960c40-7e25-47db-e964-7d1800422207"
      },
      "execution_count": 17,
      "outputs": [
        {
          "output_type": "stream",
          "name": "stdout",
          "text": [
            "Before using pop(): [1, 2, 3, 4, 5, 6, 7, 8, 9]\n",
            "9\n",
            "After using pop() : [1, 2, 3, 4, 5, 6, 7, 8]\n",
            "After using pop() : [1, 2, 4, 5, 6, 7, 8]\n"
          ]
        }
      ]
    },
    {
      "cell_type": "code",
      "source": [
        "a = [1,2]\n",
        "b = [3,4]\n",
        "a += b\n",
        "print(a)"
      ],
      "metadata": {
        "colab": {
          "base_uri": "https://localhost:8080/"
        },
        "id": "OXxjlvzZOONF",
        "outputId": "22f6b207-9c87-4798-acf8-59c8c8e22df9"
      },
      "execution_count": 112,
      "outputs": [
        {
          "output_type": "stream",
          "name": "stdout",
          "text": [
            "[1, 2, 3, 4]\n"
          ]
        }
      ]
    },
    {
      "cell_type": "markdown",
      "source": [
        "remove()"
      ],
      "metadata": {
        "id": "pWu6BvL4ywtR"
      }
    },
    {
      "cell_type": "code",
      "source": [
        "# remove() - მეთოდი შლის პარამეტრად გადაცემული მნიშვნელობის ტოლ პირველივე ობიექტს\n",
        "arr = [1, 2, 3, 4, 5, 6, 7, 5, 8, 9]\n",
        "print(f\"Before using remove(): {arr}\")\n",
        "arr.remove(5) # ამოვშალოთ მეექვსე ობიექტი\n",
        "print(f\"After using remove() : {arr}\")"
      ],
      "metadata": {
        "colab": {
          "base_uri": "https://localhost:8080/"
        },
        "id": "LNUpi94-yoTc",
        "outputId": "14354ea3-2e89-43e9-e3e2-a75c6e3f5de9"
      },
      "execution_count": 110,
      "outputs": [
        {
          "output_type": "stream",
          "name": "stdout",
          "text": [
            "Before using remove(): [1, 2, 3, 4, 5, 6, 7, 5, 8, 9]\n",
            "After using remove() : [1, 2, 3, 4, 6, 7, 5, 8, 9]\n"
          ]
        }
      ]
    },
    {
      "cell_type": "markdown",
      "source": [
        "clear()"
      ],
      "metadata": {
        "id": "PfEXAnrEy8q0"
      }
    },
    {
      "cell_type": "code",
      "source": [
        "# clear() - მეთოდი list-იდან შლის ყველა ობიექტს.\n",
        "arr = [1, 2, 3, 4, 5, 6, 7, 8, 9]\n",
        "print(f\"Before using clear(): {arr}\")\n",
        "arr\n",
        "print(f\"After using clear() : {arr}\")"
      ],
      "metadata": {
        "colab": {
          "base_uri": "https://localhost:8080/"
        },
        "id": "f2N7YprDy1jc",
        "outputId": "646068a0-ed6a-4984-e2e8-d23b564fbf7f"
      },
      "execution_count": 154,
      "outputs": [
        {
          "output_type": "stream",
          "name": "stdout",
          "text": [
            "Before using clear(): [1, 2, 3, 4, 5, 6, 7, 8, 9]\n",
            "After using clear() : [1, 2, 3, 4, 5, 6, 7, 8, 9]\n"
          ]
        }
      ]
    },
    {
      "cell_type": "markdown",
      "source": [
        "index()"
      ],
      "metadata": {
        "id": "6oAOJ7w8zSua"
      }
    },
    {
      "cell_type": "code",
      "source": [
        "# https://www.quora.com/What-does-_-in-Python-mean-in-a-for-loop\n",
        "# index() - მეთოდით შეიძლება მივიღოთ სიმრავლეში არსებული ობიექტის ინდექსი\n",
        "arr = [ random.randint(1, 200) for _ in range(100) ]\n",
        "print(f\"arr.index(50) = {arr.index(50)}\") # დავბეჭდოთ 50-ის ინდექსი\n",
        "if 1000 in arr: # შევამოწმოთ სიაში 1000-ის არსებობა\n",
        " print(f\"arr.index(1000) = {arr.index(1000)}\")\n",
        "else:\n",
        " print(\"Object does not exists\")\n"
      ],
      "metadata": {
        "colab": {
          "base_uri": "https://localhost:8080/"
        },
        "id": "vG5Pdy22y9mQ",
        "outputId": "10b23735-f165-45a6-b9b2-11488c3e209f"
      },
      "execution_count": 113,
      "outputs": [
        {
          "output_type": "stream",
          "name": "stdout",
          "text": [
            "arr.index(50) = 75\n",
            "Object does not exists\n"
          ]
        }
      ]
    },
    {
      "cell_type": "code",
      "source": [],
      "metadata": {
        "id": "QMRnCwZ9POS9"
      },
      "execution_count": 117,
      "outputs": []
    },
    {
      "cell_type": "markdown",
      "source": [
        "count()"
      ],
      "metadata": {
        "id": "u0YFjswTzhBs"
      }
    },
    {
      "cell_type": "code",
      "source": [
        "# count() - მეთოდი ითვლის კონკრეტული ობიექტის განმეორებათა რაოდენობას list-ში.\n",
        "arr = [1, 2, 3, 4, 3, 6, 7, 3, 3]\n",
        "print(f\"arr.count(3) = {arr.count(3)}\")\n",
        "print(f\"arr.count(10) = {arr.count(10)}\")"
      ],
      "metadata": {
        "colab": {
          "base_uri": "https://localhost:8080/"
        },
        "id": "fVxbN2e7zWKV",
        "outputId": "f9d55c76-af43-4ca6-906c-44e3a1bffeb1"
      },
      "execution_count": 20,
      "outputs": [
        {
          "output_type": "stream",
          "name": "stdout",
          "text": [
            "arr.count(3) = 4\n",
            "arr.count(10) = 0\n"
          ]
        }
      ]
    },
    {
      "cell_type": "markdown",
      "source": [
        "max(), min()"
      ],
      "metadata": {
        "id": "SWPyFY1ZzpSh"
      }
    },
    {
      "cell_type": "code",
      "source": [
        "#  max() და min() - მეთოდები იძლევიან სიმრავლე list-ში უდიდესი და უმცირესი მნიშვნელობის დადგენის საშუალებას შესაბამისად\n",
        "arr = [1, 2, 3, 4, 5, 6, 7, 8, 9]\n",
        "print(f\"min(arr) = {min(arr)}\")\n",
        "print(f\"max(arr) = {max(arr)}\")"
      ],
      "metadata": {
        "colab": {
          "base_uri": "https://localhost:8080/"
        },
        "id": "aIsi_7a_zka8",
        "outputId": "d8449a02-0524-4ce7-8e75-bcdf84625bcf"
      },
      "execution_count": 119,
      "outputs": [
        {
          "output_type": "stream",
          "name": "stdout",
          "text": [
            "min(arr) = 1\n",
            "max(arr) = 9\n"
          ]
        }
      ]
    },
    {
      "cell_type": "code",
      "source": [
        "# any() და all() - მეთოდები აბრუნებენ True-ს თუ ლოგიკური აზრით list-ში ერთი მაინც ობიექტი აბრუნებს მნიშვნელობას True (შეიცავს ტიპისთვის არანულოვან მნიშვნელობას)\n",
        "# (მეთოდი any()) და ყველა ელემენტი აბრუნებს მნიშვნელობას True (მეთოდი all()).\n",
        "arr = [1, 2, 3, 4, 0, None, 6, 7, 8, 9]\n",
        "print(f\"any(arr) = {any(arr)}\") # დააბრუნებს True, რადგან ერთი მაინც ელემენტი დააბრუნებს True-ს\n",
        "print(f\"all(arr) = {all(arr)}\") # დააბრუნებს False, რადგან სია შეიცავს ელემენტ 0-ს"
      ],
      "metadata": {
        "colab": {
          "base_uri": "https://localhost:8080/"
        },
        "id": "i-cgwOc3zucI",
        "outputId": "08147b3b-1db6-4c32-a84b-8375a55a39fd"
      },
      "execution_count": 122,
      "outputs": [
        {
          "output_type": "stream",
          "name": "stdout",
          "text": [
            "any(arr) = True\n",
            "all(arr) = False\n"
          ]
        }
      ]
    },
    {
      "cell_type": "code",
      "source": [
        "if 0:\n",
        "  print(\"yes\")"
      ],
      "metadata": {
        "id": "v_sdpa110m9S"
      },
      "execution_count": 123,
      "outputs": []
    },
    {
      "cell_type": "markdown",
      "source": [
        "reverse()"
      ],
      "metadata": {
        "id": "2ZVo93ow1HYG"
      }
    },
    {
      "cell_type": "code",
      "source": [
        "# reverse() - მეთოდი ახდენს list-ის ელემენტების თანმიმდევრობის შეტრიალებას.\n",
        "arr = [1, 2, 3, 4, 5, 6, 7, 8, 9]\n",
        "print(f\"Before reverce: {arr}\")\n",
        "arr.reverse()\n",
        "print(f\"After reverce : {arr}\")"
      ],
      "metadata": {
        "colab": {
          "base_uri": "https://localhost:8080/"
        },
        "id": "KaO8c2GH0pTv",
        "outputId": "74fdeefb-32e9-4642-835e-5d171c395dcc"
      },
      "execution_count": 124,
      "outputs": [
        {
          "output_type": "stream",
          "name": "stdout",
          "text": [
            "Before reverce: [1, 2, 3, 4, 5, 6, 7, 8, 9]\n",
            "After reverce : [9, 8, 7, 6, 5, 4, 3, 2, 1]\n"
          ]
        }
      ]
    },
    {
      "cell_type": "markdown",
      "source": [
        "shuffle()"
      ],
      "metadata": {
        "id": "Sdtr66ne1bny"
      }
    },
    {
      "cell_type": "code",
      "source": [
        "# shuffle() - მეთოდი ახდენს list-ის ელემენტების არევას. მისი გამოყენება შეიძლება random მოდულის მიერთების შემდეგ.\n",
        "import random\n",
        "arr = [1, 2, 3, 4, 5, 6, 7, 8, 9]\n",
        "print(f\"Before using method shuffle: {arr}\")\n",
        "random.shuffle(arr) # ავურიოთ ელემენტების თანმიმდევრობა\n",
        "print(f\"After using method shuffle : {arr}\")"
      ],
      "metadata": {
        "colab": {
          "base_uri": "https://localhost:8080/"
        },
        "id": "DRKlGWGk1K9P",
        "outputId": "9462b5ed-745a-4d3c-ba51-db5de8e5050e"
      },
      "execution_count": 25,
      "outputs": [
        {
          "output_type": "stream",
          "name": "stdout",
          "text": [
            "Before using method shuffle: [1, 2, 3, 4, 5, 6, 7, 8, 9]\n",
            "After using method shuffle : [7, 4, 8, 1, 3, 6, 2, 5, 9]\n"
          ]
        }
      ]
    },
    {
      "cell_type": "markdown",
      "source": [
        "choice()"
      ],
      "metadata": {
        "id": "wcGbkRBx1dmW"
      }
    },
    {
      "cell_type": "code",
      "source": [
        "# choice() - მეთოდი list-იდან აბრუნებს შემთხვევითად შერჩეულ ობიექტს. მისი გამოყენება შეიძლება random მოდულის მიერთების შემდეგ.\n",
        "import random\n",
        "arr = [1, 2, 3, 4, 5, 6, 7, 8, 9]\n",
        "print(f\"random.choice(arr) = {random.choice(arr)}\")"
      ],
      "metadata": {
        "colab": {
          "base_uri": "https://localhost:8080/"
        },
        "id": "gGA_jjVa1UHm",
        "outputId": "dd6aae04-2f9a-4e73-f925-f58404b1f0ed"
      },
      "execution_count": null,
      "outputs": [
        {
          "output_type": "stream",
          "name": "stdout",
          "text": [
            "random.choice(arr) = 9\n"
          ]
        }
      ]
    },
    {
      "cell_type": "markdown",
      "source": [
        "sample()"
      ],
      "metadata": {
        "id": "LHS-kHmm66_o"
      }
    },
    {
      "cell_type": "code",
      "source": [
        "# sample() - მეთოდი სიიდან აბრუნებს წინასწარ განსაზღვრული რაოდენობის შემთხვევითი პრინციპით შერჩეული უნიკალური ობიექტების წყვილების list-ს. მისი გამოყენება შეიძლება\n",
        "# random მოდულის მიერთების შემდეგ.\n",
        "\n",
        "import random\n",
        "arr = [1, 2, 3, 4, 5, 6, 7, 8, 9]\n",
        "print(f\"two object from list : {random.sample(arr, 2)}\")\n",
        "print(f\"four object from list : {random.sample(arr, 4)}\")"
      ],
      "metadata": {
        "colab": {
          "base_uri": "https://localhost:8080/"
        },
        "id": "nCt_c3qA1kVD",
        "outputId": "49894365-e052-428c-9594-e78655f030c2"
      },
      "execution_count": 26,
      "outputs": [
        {
          "output_type": "stream",
          "name": "stdout",
          "text": [
            "two object from list : [9, 1]\n",
            "four object from list : [7, 1, 2, 5]\n"
          ]
        }
      ]
    },
    {
      "cell_type": "code",
      "source": [
        "# sort() - მეთოდი ახდენს list-ის დალაგებას ზრდადობით. თუ გადავცემთ არგუმენტს reverse=True, მაშინ დალაგება მოხდება კლებადობით.\n",
        "arr = [1, 5, 7, 8, 2, 9, 4, 3, 6]\n",
        "print(f\"List before sort: {arr}\")\n",
        "arr.sort()\n",
        "print(f\"List after sort : {arr}\")\n",
        "arr.sort(reverse=True) # დავალაგოთ კლებადობით\n",
        "print(f\"After reverse=True : {arr}\")\n"
      ],
      "metadata": {
        "colab": {
          "base_uri": "https://localhost:8080/"
        },
        "id": "qwvYt0L37EbN",
        "outputId": "37d09f98-5dda-4681-fe6f-5a7948b7802c"
      },
      "execution_count": 130,
      "outputs": [
        {
          "output_type": "stream",
          "name": "stdout",
          "text": [
            "List before sort: [1, 5, 7, 8, 2, 9, 4, 3, 6]\n",
            "List after sort : [1, 2, 3, 4, 5, 6, 7, 8, 9]\n",
            "After reverse=True : [9, 8, 7, 6, 5, 4, 3, 2, 1]\n"
          ]
        }
      ]
    },
    {
      "cell_type": "markdown",
      "source": [
        "# dictionary - ლექსიკონი"
      ],
      "metadata": {
        "id": "IFRQ-FCY7Wdh"
      }
    },
    {
      "cell_type": "code",
      "source": [
        "\"\"\"\n",
        "\n",
        "ლექსიკონი – ეს არის კონტეინერი, რომლის ყოველ ელემენტი წარმოადგენს <გასაღები,\n",
        "მნიშვნელობა> (<key, value>) წყვილს. ასეთი კონტეინერის ყოველ ელემენტზე წვდომა\n",
        "შესაძლებელია გასაღების გამოყენებით. გასაღების როლში შეიძლება გამოყენებული იქნას\n",
        "არაშეცვლადი ობიექტი (როგორიცაა, რიცხვი, სტრიქონი ან tuple -ი), ხოლო მნიშვნლობის როლში\n",
        "კი - ნებისმიერი ტიპის ობიექტი.\n",
        "ლექსიკონში ელემენტები განთავსებული არიან დაულაგებელი თანმიმდევრობით.\n",
        "ლექსიკონი მიეკუთვნება ასახვას და არა მიმდევრობას და ამიტომ Python ენაში\n",
        "მიმდევრობებთან სამუშაოდ გამოყენებადი ფუნქციები არ შეიძლება გამოყენებული იქნას\n",
        "ლექსიკონის მიმართ.\n",
        "ლექსიკონი წარმოადგენს მონაცემთა შეცვლად ტიპს.\n",
        "\n",
        "\"\"\""
      ],
      "metadata": {
        "id": "wiTyDqfo7QaN"
      },
      "execution_count": null,
      "outputs": []
    },
    {
      "cell_type": "markdown",
      "source": [
        "შექმნა"
      ],
      "metadata": {
        "id": "gQ6uLx2g7wYd"
      }
    },
    {
      "cell_type": "code",
      "source": [
        "# ლექსიკონი შეგვიძლია შევქმნათ dict() ფუნქციით\n",
        "\n",
        "dict1 = dict() # უპარამეტრო\n",
        "print(type(dict1))\n",
        "\n",
        "dict2 = dict(a=1, b=2) # პარამეტრიანი\n",
        "print(dict2)\n",
        "\n",
        "dict3 = dict([['a',1], ['b',2]]) # ორელემნტიანი სიების თვლადი რაოდენობით\n",
        "dict4 = dict([('a',1), ('b',2)]) # ორელემნტიანი tuple თვლადი რაოდენობით\n",
        "print(dict3, dict4)"
      ],
      "metadata": {
        "colab": {
          "base_uri": "https://localhost:8080/"
        },
        "id": "kBxdulEA7nFf",
        "outputId": "926f815b-6640-4656-8def-68d0fd581ef5"
      },
      "execution_count": 132,
      "outputs": [
        {
          "output_type": "stream",
          "name": "stdout",
          "text": [
            "<class 'dict'>\n",
            "{'a': 1, 'b': 2}\n",
            "{'a': 1, 'b': 2} {'a': 1, 'b': 2}\n"
          ]
        }
      ]
    },
    {
      "cell_type": "code",
      "source": [
        "# ასევე შეგვიძლია შევქმნათ ტიპის მინიჭებით\n",
        "\n",
        "dict2 = {}\n",
        "print(type(dict2))"
      ],
      "metadata": {
        "colab": {
          "base_uri": "https://localhost:8080/"
        },
        "id": "CezfsPUM79FS",
        "outputId": "74595ad5-4cc0-4b06-f891-43b559ef62a6"
      },
      "execution_count": 133,
      "outputs": [
        {
          "output_type": "stream",
          "name": "stdout",
          "text": [
            "<class 'dict'>\n"
          ]
        }
      ]
    },
    {
      "cell_type": "markdown",
      "source": [
        "# მოქმედებები ლექსიკონებზე"
      ],
      "metadata": {
        "id": "GYIpGyWuBF-I"
      }
    },
    {
      "cell_type": "markdown",
      "source": [
        "ელემენტებზე წვდომა"
      ],
      "metadata": {
        "id": "diylFL5HBPIM"
      }
    },
    {
      "cell_type": "code",
      "source": [
        "# ლექსიკონის ელემენტზე წვდომა შესაძლებელია გასაღების მნიშვნელობით, რომელიც ლექსიკონის სახელის შემდეგ კვადრატული ფრჩხილებში ეთითება.\n",
        "\n",
        "d = { 'a':1, 'b': 2 }\n",
        "print(f'''Element by key: 'a': {d[\"a\"]}''')\n",
        "print(f\"Element by key: 'b': {d['b']}\")"
      ],
      "metadata": {
        "colab": {
          "base_uri": "https://localhost:8080/"
        },
        "id": "ocJ4L7AtBQ9Q",
        "outputId": "f15b6b9f-e5ea-46d8-af61-c36c9d52b55f"
      },
      "execution_count": 138,
      "outputs": [
        {
          "output_type": "stream",
          "name": "stdout",
          "text": [
            "Element by key: 'a': 1\n",
            "Element by key: 'b': 2\n"
          ]
        }
      ]
    },
    {
      "cell_type": "code",
      "source": [
        "# თუ გასაღები არ არსებობს წარმოიშვება განსაკუთრებული შემთხვევა KeyError\n",
        "d = { 'a':1, 'b': 2 }\n",
        "if 'a' in d:\n",
        " print(f\"Element by key 'a': d['a']\")\n",
        "else :\n",
        " print('key a does not exists:')\n",
        "if 'c' not in d:\n",
        " print('key c does not exists:')\n",
        "else :\n",
        " print(f\"Element by key 'c': {d['c']}\")"
      ],
      "metadata": {
        "colab": {
          "base_uri": "https://localhost:8080/"
        },
        "id": "jKPgfrBQBTMU",
        "outputId": "ff546dbe-0a51-49fb-811f-8bfbf1e6b474"
      },
      "execution_count": 140,
      "outputs": [
        {
          "output_type": "stream",
          "name": "stdout",
          "text": [
            "Element by key 'a': d['a']\n",
            "key c does not exists:\n"
          ]
        }
      ]
    },
    {
      "cell_type": "markdown",
      "source": [
        "# მეთოდები ლექსიკონთან მუშაობისთვის"
      ],
      "metadata": {
        "id": "oYnyMepiCAjy"
      }
    },
    {
      "cell_type": "markdown",
      "source": [
        "keys()"
      ],
      "metadata": {
        "id": "6ip2x-vrCG0L"
      }
    },
    {
      "cell_type": "code",
      "source": [
        "# keys() - მეთოდი აბრუნებს იტერაციის მხარდაჭერის მქონე dict_keys ობიექტს, რომელიც შეიცავს ლექსიკონის ყველა გასაღებს.\n",
        "d = { 'a': 1, 'b': 2}\n",
        "for key in d:\n",
        " print(f'key= { key }, value= { d[key] }')\n",
        "\n",
        "print(type(d.keys()))"
      ],
      "metadata": {
        "colab": {
          "base_uri": "https://localhost:8080/"
        },
        "id": "TCCzvBpBBi1O",
        "outputId": "4b796712-5932-4a8c-f5b2-2ce46166b6c8"
      },
      "execution_count": 141,
      "outputs": [
        {
          "output_type": "stream",
          "name": "stdout",
          "text": [
            "key= a, value= 1\n",
            "key= b, value= 2\n",
            "<class 'dict_keys'>\n"
          ]
        }
      ]
    },
    {
      "cell_type": "code",
      "source": [
        "d = { 'a': 1, 'a': 1, 'b': 2}\n",
        "for key in d:\n",
        " print(f'key= { key }, value= { d[key] }')\n",
        "len(d.keys())"
      ],
      "metadata": {
        "id": "eO0zyJveViyT",
        "outputId": "75f66445-9b76-4d72-d300-91eedf98de2c",
        "colab": {
          "base_uri": "https://localhost:8080/"
        }
      },
      "execution_count": 31,
      "outputs": [
        {
          "output_type": "stream",
          "name": "stdout",
          "text": [
            "key= a, value= 1\n",
            "key= b, value= 2\n"
          ]
        },
        {
          "output_type": "execute_result",
          "data": {
            "text/plain": [
              "2"
            ]
          },
          "metadata": {},
          "execution_count": 31
        }
      ]
    },
    {
      "cell_type": "markdown",
      "source": [
        "values()"
      ],
      "metadata": {
        "id": "XKFdpRaSCQe6"
      }
    },
    {
      "cell_type": "code",
      "source": [
        "# values() - მეთოდი აბრუნებს იტერაციის მხარდაჭერის მქონე dict_values ობიექტს, რომელიც შეიცავს ლექსიკონის ყველა მნიშვნელობას.\n",
        "d = { 'a':1, 'b': 2 }\n",
        "for v in d.values():\n",
        " print(f'value = { v }')"
      ],
      "metadata": {
        "colab": {
          "base_uri": "https://localhost:8080/"
        },
        "id": "BsNn7qIBCKWt",
        "outputId": "1361cc3d-fcc9-4874-d43a-66b0817d738c"
      },
      "execution_count": 32,
      "outputs": [
        {
          "output_type": "stream",
          "name": "stdout",
          "text": [
            "value = 1\n",
            "value = 2\n"
          ]
        }
      ]
    },
    {
      "cell_type": "markdown",
      "source": [
        "items()"
      ],
      "metadata": {
        "id": "3jWZfU0HCc0b"
      }
    },
    {
      "cell_type": "code",
      "source": [
        "# items() - მეთოდი აბრუნებს იტერაციის მხარდაჭერის მქონე dict_items ობიექტს, რომელიც  შეიცავს ლექსიკონის ყველა გასაღებისა და მნიშვნელობისაგან შემდგარ წყვილების tuple-ს.\n",
        "d = { 'a':1, 'b': 2 }\n",
        "for v in d.items():\n",
        " print(v)"
      ],
      "metadata": {
        "colab": {
          "base_uri": "https://localhost:8080/"
        },
        "id": "aH6v9rbSCW0Z",
        "outputId": "5c463020-aaf1-45f4-99dc-d69b24a186e1"
      },
      "execution_count": 142,
      "outputs": [
        {
          "output_type": "stream",
          "name": "stdout",
          "text": [
            "('a', 1)\n",
            "('b', 2)\n"
          ]
        }
      ]
    },
    {
      "cell_type": "code",
      "source": [
        "d = { 'a':1, 'b': 2, 'c': 3, 'd': 4}\n",
        "for k,v in d.items():\n",
        "  print(k)"
      ],
      "metadata": {
        "colab": {
          "base_uri": "https://localhost:8080/"
        },
        "id": "H7FEZNwMDC9Z",
        "outputId": "c7f66a14-0f4c-4654-8f6e-f569f863539a"
      },
      "execution_count": 143,
      "outputs": [
        {
          "output_type": "stream",
          "name": "stdout",
          "text": [
            "a\n",
            "b\n",
            "c\n",
            "d\n"
          ]
        }
      ]
    },
    {
      "cell_type": "markdown",
      "source": [
        "get()"
      ],
      "metadata": {
        "id": "--zIfDl8DbMx"
      }
    },
    {
      "cell_type": "code",
      "source": [
        "# get() - მეთოდი აბრუნებს პირველი (აუცილებელი) პარამეტრით მითითებული გასაღების შესაბამის მნიშვნელობას. თუ გასაღები ლექსიკონში არ გამოიყენება, მაშინ აბრუნებს\n",
        "# მნიშვნელობას None, ან მეორე (არა აუცილებელი) პარამეტრით მითითებულ მნიშვნელობას.\n",
        "d = { 'a':1, 'b': 2 }\n",
        "print(d.get('e'), d.get('c'))"
      ],
      "metadata": {
        "colab": {
          "base_uri": "https://localhost:8080/"
        },
        "id": "amwmoGjmDSnm",
        "outputId": "f53fa352-f296-4cfd-eadd-c9b2619a1060"
      },
      "execution_count": 146,
      "outputs": [
        {
          "output_type": "stream",
          "name": "stdout",
          "text": [
            "None None\n"
          ]
        }
      ]
    },
    {
      "cell_type": "code",
      "source": [
        "d = { 'a':1, 'b': 2 }\n",
        "print(d.get(1, 'python'), d.get('c'))"
      ],
      "metadata": {
        "id": "_pLr3EZqWomr",
        "outputId": "881c1311-8ca0-4be3-d966-1c8c85480882",
        "colab": {
          "base_uri": "https://localhost:8080/"
        }
      },
      "execution_count": 37,
      "outputs": [
        {
          "output_type": "stream",
          "name": "stdout",
          "text": [
            "python None\n"
          ]
        }
      ]
    },
    {
      "cell_type": "markdown",
      "source": [
        "pop()"
      ],
      "metadata": {
        "id": "uwIiUigzD_yv"
      }
    },
    {
      "cell_type": "code",
      "source": [
        "# pop() - მეთოდი ლექსიკონიდან შლის პირველი (აუცილებელი) პარამეტრით მითითებული გასაღების მქონე ელემენტს და აბრუნებს მის მნიშვნელობას. თუ გასაღები ლექსიკონში არ\n",
        "# გამოიყენება, მაშინ წარმოიშობა განსაკუთრებული შემთხვევა KeyError ან აბრუნებს მეორე (არა აუცილებელი) პარამეტრით მითითებულ მნიშვნელობას.\n",
        "\n",
        "d = { 'a': 1, 'b': 2 }\n",
        "print(d.pop('a'))\n",
        "print(d.pop('a', 'ასეთი გასაღები ლექსიკონში არაა.'))\n",
        "# print(d.pop('a'))\n"
      ],
      "metadata": {
        "id": "sSQ6-UahDhqI",
        "outputId": "f78c36f6-c685-4487-8cff-cca527682bf8",
        "colab": {
          "base_uri": "https://localhost:8080/"
        }
      },
      "execution_count": 150,
      "outputs": [
        {
          "output_type": "stream",
          "name": "stdout",
          "text": [
            "1\n",
            "ასეთი გასაღები ლექსიკონში არაა.\n"
          ]
        }
      ]
    },
    {
      "cell_type": "code",
      "source": [
        "d = { 'a': 1, 'b': 2 }\n",
        "print(d.pop('a'))\n",
        "print(d.pop('a', 'ასეთი გასაღები ლექსიკონში არაა.'))\n",
        "# print(d.pop(1, 'a'))"
      ],
      "metadata": {
        "id": "GcKOODP1XCII"
      },
      "execution_count": null,
      "outputs": []
    },
    {
      "cell_type": "markdown",
      "source": [
        "clear()"
      ],
      "metadata": {
        "id": "P0NvKvhMEcFT"
      }
    },
    {
      "cell_type": "code",
      "source": [
        "# clear() - მეთოდი ლექსიკონიდან შლის ყველა ელემენტს და არაფერს არ აბრუნებს.\n",
        "d = { 'a':1, 'b': 2 }\n",
        "print(d.clear())\n",
        "d"
      ],
      "metadata": {
        "colab": {
          "base_uri": "https://localhost:8080/"
        },
        "id": "JY_wDTySEHHD",
        "outputId": "f4bc9fd9-2a5f-49ca-f829-b0acf89b6ada"
      },
      "execution_count": 155,
      "outputs": [
        {
          "output_type": "stream",
          "name": "stdout",
          "text": [
            "None\n"
          ]
        },
        {
          "output_type": "execute_result",
          "data": {
            "text/plain": [
              "{}"
            ]
          },
          "metadata": {},
          "execution_count": 155
        }
      ]
    },
    {
      "cell_type": "markdown",
      "source": [
        "update()"
      ],
      "metadata": {
        "id": "00OtQ1XlEmed"
      }
    },
    {
      "cell_type": "code",
      "source": [
        "#  update() - მეთოდი ლექსიკონში ამატებს ახალ ელემენტს (ცვლის ლექსიკონს) და არაფერს არ აბრუნებს. თუ მეთოდში მითითებული გასაღების მქონე ელემენტი ლექსიკონში უკვე\n",
        "# არსებობს, მაშინ მოხდება მისი მნიშვნელობის გადაწერა (განახლება).\n",
        "d = { 'a':1, 'b': 2 }\n",
        "d.update({'a':3})\n",
        "for key in d:\n",
        "  d.update({'c':3})\n",
        "  print(f'key= {key}, value= {d[key]}')"
      ],
      "metadata": {
        "colab": {
          "base_uri": "https://localhost:8080/",
          "height": 228
        },
        "id": "_Bbg8rloEfd3",
        "outputId": "3a169e16-2f0d-4833-b194-9bd566463808"
      },
      "execution_count": 161,
      "outputs": [
        {
          "output_type": "stream",
          "name": "stdout",
          "text": [
            "key= a, value= 3\n"
          ]
        },
        {
          "output_type": "error",
          "ename": "RuntimeError",
          "evalue": "dictionary changed size during iteration",
          "traceback": [
            "\u001b[0;31m---------------------------------------------------------------------------\u001b[0m",
            "\u001b[0;31mRuntimeError\u001b[0m                              Traceback (most recent call last)",
            "\u001b[0;32m<ipython-input-161-858df06a4573>\u001b[0m in \u001b[0;36m<cell line: 5>\u001b[0;34m()\u001b[0m\n\u001b[1;32m      3\u001b[0m \u001b[0md\u001b[0m \u001b[0;34m=\u001b[0m \u001b[0;34m{\u001b[0m \u001b[0;34m'a'\u001b[0m\u001b[0;34m:\u001b[0m\u001b[0;36m1\u001b[0m\u001b[0;34m,\u001b[0m \u001b[0;34m'b'\u001b[0m\u001b[0;34m:\u001b[0m \u001b[0;36m2\u001b[0m \u001b[0;34m}\u001b[0m\u001b[0;34m\u001b[0m\u001b[0;34m\u001b[0m\u001b[0m\n\u001b[1;32m      4\u001b[0m \u001b[0md\u001b[0m\u001b[0;34m.\u001b[0m\u001b[0mupdate\u001b[0m\u001b[0;34m(\u001b[0m\u001b[0;34m{\u001b[0m\u001b[0;34m'a'\u001b[0m\u001b[0;34m:\u001b[0m\u001b[0;36m3\u001b[0m\u001b[0;34m}\u001b[0m\u001b[0;34m)\u001b[0m\u001b[0;34m\u001b[0m\u001b[0;34m\u001b[0m\u001b[0m\n\u001b[0;32m----> 5\u001b[0;31m \u001b[0;32mfor\u001b[0m \u001b[0mkey\u001b[0m \u001b[0;32min\u001b[0m \u001b[0md\u001b[0m\u001b[0;34m:\u001b[0m\u001b[0;34m\u001b[0m\u001b[0;34m\u001b[0m\u001b[0m\n\u001b[0m\u001b[1;32m      6\u001b[0m   \u001b[0md\u001b[0m\u001b[0;34m.\u001b[0m\u001b[0mupdate\u001b[0m\u001b[0;34m(\u001b[0m\u001b[0;34m{\u001b[0m\u001b[0;34m'c'\u001b[0m\u001b[0;34m:\u001b[0m\u001b[0;36m3\u001b[0m\u001b[0;34m}\u001b[0m\u001b[0;34m)\u001b[0m\u001b[0;34m\u001b[0m\u001b[0;34m\u001b[0m\u001b[0m\n\u001b[1;32m      7\u001b[0m   \u001b[0mprint\u001b[0m\u001b[0;34m(\u001b[0m\u001b[0;34mf'key= {key}, value= {d[key]}'\u001b[0m\u001b[0;34m)\u001b[0m\u001b[0;34m\u001b[0m\u001b[0;34m\u001b[0m\u001b[0m\n",
            "\u001b[0;31mRuntimeError\u001b[0m: dictionary changed size during iteration"
          ]
        }
      ]
    },
    {
      "cell_type": "code",
      "source": [
        "arr = [1,2,3,4,5]\n",
        "for i in arr:\n",
        "  a = arr[:]\n",
        "  print(i)\n",
        "  if i==3:\n",
        "    arr.remove(i)\n",
        "arr"
      ],
      "metadata": {
        "colab": {
          "base_uri": "https://localhost:8080/"
        },
        "id": "KJvVRTSqVCwk",
        "outputId": "cc4fff1e-8078-48b1-8828-92f43b086916"
      },
      "execution_count": 164,
      "outputs": [
        {
          "output_type": "stream",
          "name": "stdout",
          "text": [
            "1\n",
            "2\n",
            "3\n",
            "5\n"
          ]
        },
        {
          "output_type": "execute_result",
          "data": {
            "text/plain": [
              "[1, 2, 4, 5]"
            ]
          },
          "metadata": {},
          "execution_count": 164
        }
      ]
    },
    {
      "cell_type": "code",
      "source": [
        "d = { 'a':1, 'b': 2 }\n",
        "print(\"before update:\")\n",
        "for key in d:\n",
        "  print(f'key= {key}, value= {d[key]}', end='\\n')\n",
        "print()\n",
        "d.update({'a':3})\n",
        "print(\"after update\")\n",
        "for key in d:\n",
        "  print(f'key= {key}, value= {d[key]}')"
      ],
      "metadata": {
        "id": "XNhQqzHbXMWO",
        "outputId": "9ed99855-60f5-4986-f14f-fd9955801624",
        "colab": {
          "base_uri": "https://localhost:8080/"
        }
      },
      "execution_count": 43,
      "outputs": [
        {
          "output_type": "stream",
          "name": "stdout",
          "text": [
            "before update:\n",
            "key= a, value= 1\n",
            "key= b, value= 2\n",
            "\n",
            "after update\n",
            "key= a, value= 3\n",
            "key= b, value= 2\n"
          ]
        }
      ]
    },
    {
      "cell_type": "markdown",
      "source": [
        "#მონაცემთა შენახვის სხვადასხვა ტიპის ობიექტები"
      ],
      "metadata": {
        "id": "Nhm_r24DE3vH"
      }
    },
    {
      "cell_type": "markdown",
      "source": [
        "tuple"
      ],
      "metadata": {
        "id": "N4LMFcObF_IV"
      }
    },
    {
      "cell_type": "code",
      "source": [
        "\"\"\"\n",
        "list-ის მსგავსად tuple-ი წარმოადგენს ელემენტების დალაგებულ მიმდევრობას. აღნიშნული\n",
        "ორი კონტეინერი ძალიან გავს ერთმანეთს, მაგრამ მათ შორის მაინც არსებობს ერთი მნიშვნელოვანი\n",
        "განსხვავება - tuple-ში წარმოადგენს შეუცვლად კონტეინერს და მასში ელემენტების რაოდენობის\n",
        "შეცვლა შეუძლებელია. სხვა სიტყვებით რომ ვთქვათ, tuple-ი არის list-ი, რომელიც\n",
        "ხელმისაწვდომია მხოლოდ მონაცემების კითხვის შესაძლებლობით.\n",
        "\"\"\""
      ],
      "metadata": {
        "id": "Bvx-2x7cEsPI"
      },
      "execution_count": null,
      "outputs": []
    },
    {
      "cell_type": "code",
      "source": [
        "# შექმნა\n",
        "\n",
        "# tuple() - მეთოდის გამოყენებით. მეთოდი იძლევა ნებისმიერი სახის მიმდევრობის tuple-ად გადაქცევის საშუალებას.\n",
        "\n",
        "tup1 = tuple() # იქმნება ცარიელი tuple-ი\n",
        "print(f'Empty tuple: {tup1}')\n",
        "tup2 = tuple('Python') # სტრიქონისგან შევქმნათ\n",
        "print(f'tuple has values: {tup2}')\n",
        "tup3 = tuple([1, 2, 3, 4, 5]) # list-ისგან შევქმნათ tuple-ი\n",
        "print(f'tuple has values: {tup3}')\n",
        "#tup4 = tuple(1) # ფუნქციით შექმნისას აუცილებლად უნდა გადაეცეს მიმდევრობა\n",
        "#print(f'tuple has values: {tup4}')\n"
      ],
      "metadata": {
        "colab": {
          "base_uri": "https://localhost:8080/"
        },
        "id": "u9dA3PFiGO8Q",
        "outputId": "a485043c-8559-4c55-ff7a-c931fae129dd"
      },
      "execution_count": 46,
      "outputs": [
        {
          "output_type": "stream",
          "name": "stdout",
          "text": [
            "Empty tuple: ()\n",
            "tuple has values: ('P', 'y', 't', 'h', 'o', 'n')\n",
            "tuple has values: (1, 2, 3, 4, 5)\n"
          ]
        }
      ]
    },
    {
      "cell_type": "code",
      "source": [
        "# მრგვალი ფრჩხილების გამოყენებით\n",
        "\n",
        "tup1 = () # ცარიელი tuple-ი\n",
        "tup2 = (1) # ერთ ელემენტიანი tuple-ი\n",
        "# სხვადასხვა ტიპის ობიექტებისგან შემდგარი tuple-ი\n",
        "tup3 = (1, 'str', (1, 2), [1, 2])\n",
        "print(f'Empty tuple: tup1 = {tup1}')\n",
        "print(f'One object tuple: tup2 = {tup2}')\n",
        "print(f'tuple with different type objects: tup3 = {tup3}')"
      ],
      "metadata": {
        "colab": {
          "base_uri": "https://localhost:8080/"
        },
        "id": "4My1jZF8Gazk",
        "outputId": "c06fb6f7-a3d1-498e-9579-719917156e29"
      },
      "execution_count": 47,
      "outputs": [
        {
          "output_type": "stream",
          "name": "stdout",
          "text": [
            "Empty tuple: tup1 = ()\n",
            "One object tuple: tup2 = 1\n",
            "tuple with different type objects: tup3 = (1, 'str', (1, 2), [1, 2])\n"
          ]
        }
      ]
    },
    {
      "cell_type": "code",
      "source": [
        "a = [1,2,3]\n",
        "t = (1, a, 4)\n",
        "print(t)\n",
        "a.append(5)\n",
        "print(t)"
      ],
      "metadata": {
        "id": "HYia1Of9Zd9A",
        "outputId": "e448aa64-1c3f-491e-bff3-c87c4b3b3e9f",
        "colab": {
          "base_uri": "https://localhost:8080/"
        }
      },
      "execution_count": 165,
      "outputs": [
        {
          "output_type": "stream",
          "name": "stdout",
          "text": [
            "(1, [1, 2, 3], 4)\n",
            "(1, [1, 2, 3, 5], 4)\n"
          ]
        }
      ]
    },
    {
      "cell_type": "code",
      "source": [
        "\"\"\"\n",
        "რადგანაც tuple-ი წარმოადგენს list-ს მხოლოდ მონაცემების კითხვის შესაძლებლობით, ამიტომ list-ის მიმართ გამოყენებადი მეთოდები, გარდა იმ მეთოდებისა, რომლებიც გულისხმობს მასში\n",
        "ელემენტის მნიშვნელობის შეცვლას და მისი ზომის შეცვლას, შესაძლებელია გამოყენებული იქნას tuple-ის შემთხვევაშიც.\n",
        "\"\"\""
      ],
      "metadata": {
        "id": "OMcAybdbGqTf"
      },
      "execution_count": null,
      "outputs": []
    },
    {
      "cell_type": "markdown",
      "source": [
        "range"
      ],
      "metadata": {
        "id": "HQYq4WsrHMrN"
      }
    },
    {
      "cell_type": "code",
      "source": [
        "\"\"\"\n",
        "range (შუალედი) წარმოადგენს გარკვეული შუალედიდან აღებული მთელი მნიშვნელობების მიმდევრობას. tuple-ის მსგავსად ისიც წარმოადგენს მონაცემთა შეუცლად ტიპს. შუალედის\n",
        "გამოყენების უპირატესობა სხვა მიმდევრობებთან მიმართებით მდგომარეობს იმაში, რომ მიუხედავად ელემენტების განსხვავებული რაოდენობისა შუალედი ოპერატიულ მეხსიერებაში\n",
        "იკავებს ერთიდაიმავე მოცულობის ადგილს. შუალედი ხშირად გამოიყენება ციკლში დატრიალებათა რაოდენობის განსაზღვრის მიზნით.\n",
        "შუალედის მიღების საშუალებას იძლევა ფუნქცია range(), რომელსაც აქვს შემდეგი სახე: range([<start>, ]<end>[, <step>])\n",
        "სადაც <start> (არააუცილებელი) პარამეტრი განსაზღვრავს შუალედის დასაწყისს, <end> (აუცილებელი) პარამეტრი განსაზღვრავს შუალედის ბოლო მნიშვნელობას (ეს მნიშვნელობა არ\n",
        "მიეკუთვნება მიღებულ შუალედს), ხოლო <step> (არააუცილებელი) პარამეტრი განსაზღვრავს ორ მეზობელ ელემენტს შორის დაშორებას (ბიჯს). გაჩუმებით მისი მნიშვნელობა 1-ის ტოლია.\n",
        "\"\"\""
      ],
      "metadata": {
        "id": "UnmoWkMQHOL0"
      },
      "execution_count": null,
      "outputs": []
    },
    {
      "cell_type": "code",
      "source": [
        "print('Get range by step 10:')\n",
        "print('\\t', end=' ')\n",
        "for i in range(1, 101, 10):\n",
        "  print(i, end=' ') # მონაცემები ამოვწეროთ ერთ ხაზზე\n",
        "print()\n",
        "print('Get list: arr')\n",
        "# list-ში ჩავწეროთ 1-დან 11-მდე რიცხვების კვადრატები\n",
        "arr = [i ** 2 for i in range(1, 11)]\n",
        "print('\\t', arr)\n",
        "print('Get dictionary:')\n",
        "dct = {key : key ** 3 for key in range(1,6)}\n",
        "for key in dct.keys():\n",
        "  print(f'\\tkey = { key },\\tvalue = { dct[key] } ')"
      ],
      "metadata": {
        "colab": {
          "base_uri": "https://localhost:8080/"
        },
        "id": "Gz9wsA9jHZZ7",
        "outputId": "62c868c2-f7a8-4dfc-cf59-55961ae56778"
      },
      "execution_count": 49,
      "outputs": [
        {
          "output_type": "stream",
          "name": "stdout",
          "text": [
            "Get range by step 10:\n",
            "\t 1 11 21 31 41 51 61 71 81 91 \n",
            "Get list: arr\n",
            "\t [1, 4, 9, 16, 25, 36, 49, 64, 81, 100]\n",
            "Get dictionary:\n",
            "\tkey = 1,\tvalue = 1 \n",
            "\tkey = 2,\tvalue = 8 \n",
            "\tkey = 3,\tvalue = 27 \n",
            "\tkey = 4,\tvalue = 64 \n",
            "\tkey = 5,\tvalue = 125 \n"
          ]
        }
      ]
    },
    {
      "cell_type": "markdown",
      "source": [
        "set()"
      ],
      "metadata": {
        "id": "jI3OWGI8H4X2"
      }
    },
    {
      "cell_type": "code",
      "source": [
        "\"\"\"\n",
        "set (სიმრავლე) - წარმოადგენს უნიკალური ელემენტების დაულაგებელ მიმდევრობას.\n",
        "სიმრავლის გამოცხადება შესაძლებელია set() ფუნქციის მეშვეობით. ფუნქციის გამოყენებით\n",
        "ასევე, შესაძლებელია სხვადასხვა სახის მიმდევრობებისგან სიმრავლის ტიპის ობიექტი მიღება.\n",
        "\"\"\""
      ],
      "metadata": {
        "id": "ebRUg4duHaPf"
      },
      "execution_count": null,
      "outputs": []
    },
    {
      "cell_type": "code",
      "source": [
        "s1 = set() # იქმნება ცარიელი სიმრავლე\n",
        "s2 = set('Python Programming') # სიმრავლის შექმნა სტრიქონისგან\n",
        "s3 = set((1, 2, 3, 4, 5)) # სიმრავლის შექმნა tuple-იდან\n",
        "s4 = set([1, 2, 3, 4, 5]) # სიმრავლის შექმნა list-იდან\n",
        "print(f'Empty set: s1 = {s1}')\n",
        "print(f'Set from string:\\ns2 = {s2}')\n",
        "print(f'Set from tuple : s3 = {s3}')\n",
        "print(f'Set from list : s4 = {s4}')\n"
      ],
      "metadata": {
        "colab": {
          "base_uri": "https://localhost:8080/"
        },
        "id": "P67ORlZbH-lK",
        "outputId": "b3ada24b-fee2-4364-85ad-96e9d4799486"
      },
      "execution_count": 166,
      "outputs": [
        {
          "output_type": "stream",
          "name": "stdout",
          "text": [
            "Empty set: s1 = set()\n",
            "Set from string:\n",
            "s2 = {'y', 'h', 'n', ' ', 't', 'i', 'P', 'r', 'a', 'o', 'g', 'm'}\n",
            "Set from tuple : s3 = {1, 2, 3, 4, 5}\n",
            "Set from list : s4 = {1, 2, 3, 4, 5}\n"
          ]
        }
      ]
    },
    {
      "cell_type": "code",
      "source": [
        "# სიმრავლის ელემენტების გადარჩევა შესაძლებელია for ციკლის ოპერატორის გამოყენებით, ხოლო მასში ელემენტების რაოდენობის მიღება კი - len() მეთოდის გამოყენებით:\n",
        "s = set((1, 2, 4, 5, 1, 3, 2, 5, 3, 4, 5))\n",
        "print(f'set has {len(s)} elements.')\n",
        "print('set s has elements: ', end=' ')\n",
        "for i in s:\n",
        "  print(i, end=' ')"
      ],
      "metadata": {
        "colab": {
          "base_uri": "https://localhost:8080/"
        },
        "id": "-QGd7aFsH--P",
        "outputId": "4f28aa2b-4196-485a-e5d9-59a10971da79"
      },
      "execution_count": 52,
      "outputs": [
        {
          "output_type": "stream",
          "name": "stdout",
          "text": [
            "set has 5 elements.\n",
            "set s has elements:  1 2 3 4 5 "
          ]
        }
      ]
    },
    {
      "cell_type": "code",
      "source": [
        "q = set((1,2))\n",
        "e = set(((100,20,1,5), \"1\",(100,20,3), 66, d))\n",
        "e"
      ],
      "metadata": {
        "id": "YKx_aQndawip",
        "outputId": "2ae9c29c-a06e-4808-b3bf-17f9a4bd206e",
        "colab": {
          "base_uri": "https://localhost:8080/",
          "height": 176
        }
      },
      "execution_count": 190,
      "outputs": [
        {
          "output_type": "error",
          "ename": "TypeError",
          "evalue": "unhashable type: 'dict'",
          "traceback": [
            "\u001b[0;31m---------------------------------------------------------------------------\u001b[0m",
            "\u001b[0;31mTypeError\u001b[0m                                 Traceback (most recent call last)",
            "\u001b[0;32m<ipython-input-190-6fbd82a9645a>\u001b[0m in \u001b[0;36m<cell line: 2>\u001b[0;34m()\u001b[0m\n\u001b[1;32m      1\u001b[0m \u001b[0mq\u001b[0m \u001b[0;34m=\u001b[0m \u001b[0mset\u001b[0m\u001b[0;34m(\u001b[0m\u001b[0;34m(\u001b[0m\u001b[0;36m1\u001b[0m\u001b[0;34m,\u001b[0m\u001b[0;36m2\u001b[0m\u001b[0;34m)\u001b[0m\u001b[0;34m)\u001b[0m\u001b[0;34m\u001b[0m\u001b[0;34m\u001b[0m\u001b[0m\n\u001b[0;32m----> 2\u001b[0;31m \u001b[0me\u001b[0m \u001b[0;34m=\u001b[0m \u001b[0mset\u001b[0m\u001b[0;34m(\u001b[0m\u001b[0;34m(\u001b[0m\u001b[0;34m(\u001b[0m\u001b[0;36m100\u001b[0m\u001b[0;34m,\u001b[0m\u001b[0;36m20\u001b[0m\u001b[0;34m,\u001b[0m\u001b[0;36m1\u001b[0m\u001b[0;34m,\u001b[0m\u001b[0;36m5\u001b[0m\u001b[0;34m)\u001b[0m\u001b[0;34m,\u001b[0m \u001b[0;34m\"1\"\u001b[0m\u001b[0;34m,\u001b[0m\u001b[0;34m(\u001b[0m\u001b[0;36m100\u001b[0m\u001b[0;34m,\u001b[0m\u001b[0;36m20\u001b[0m\u001b[0;34m,\u001b[0m\u001b[0;36m3\u001b[0m\u001b[0;34m)\u001b[0m\u001b[0;34m,\u001b[0m \u001b[0;36m66\u001b[0m\u001b[0;34m,\u001b[0m \u001b[0md\u001b[0m\u001b[0;34m)\u001b[0m\u001b[0;34m)\u001b[0m\u001b[0;34m\u001b[0m\u001b[0;34m\u001b[0m\u001b[0m\n\u001b[0m\u001b[1;32m      3\u001b[0m \u001b[0me\u001b[0m\u001b[0;34m\u001b[0m\u001b[0;34m\u001b[0m\u001b[0m\n",
            "\u001b[0;31mTypeError\u001b[0m: unhashable type: 'dict'"
          ]
        }
      ]
    },
    {
      "cell_type": "markdown",
      "source": [
        "# სიმრავლეებზე მოქმედების მეთოდები"
      ],
      "metadata": {
        "id": "snOPuMI3IaqK"
      }
    },
    {
      "cell_type": "markdown",
      "source": [
        "union()"
      ],
      "metadata": {
        "id": "wOAJRAYCIhhI"
      }
    },
    {
      "cell_type": "code",
      "source": [
        "# აერთიანებს ორ სიმრავლეს\n",
        "a = set((1, 2, 4, 5, 1, 3, 2, 5, 3, 4, 5))\n",
        "b = set((1, 4, 9, 16, 25, 36, 49, 64, 81, 100))\n",
        "# a.union(b)\n",
        "print()\n",
        "c = a.union(b)\n",
        "print(c)\n",
        "print(type(c))\n",
        "c.add(500)\n",
        "print(c)\n",
        "print(type(c))"
      ],
      "metadata": {
        "colab": {
          "base_uri": "https://localhost:8080/"
        },
        "id": "qg8b0iQKIN-R",
        "outputId": "b88bd72f-f7ca-43a2-a472-369f743d8851"
      },
      "execution_count": 198,
      "outputs": [
        {
          "output_type": "stream",
          "name": "stdout",
          "text": [
            "\n",
            "{64, 1, 2, 3, 4, 5, 36, 100, 9, 16, 49, 81, 25}\n",
            "<class 'set'>\n",
            "{64, 1, 2, 3, 4, 5, 36, 100, 9, 16, 49, 81, 500, 25}\n",
            "<class 'set'>\n"
          ]
        }
      ]
    },
    {
      "cell_type": "code",
      "source": [
        "a = set((4,6,3,1,9))\n",
        "print(a)\n",
        "a.add(2)\n",
        "print(a)"
      ],
      "metadata": {
        "colab": {
          "base_uri": "https://localhost:8080/"
        },
        "id": "yd5IWgWNbSX0",
        "outputId": "da1e179f-1443-49a3-9897-883d4370cbcd"
      },
      "execution_count": 200,
      "outputs": [
        {
          "output_type": "stream",
          "name": "stdout",
          "text": [
            "{1, 3, 4, 6, 9}\n",
            "{1, 2, 3, 4, 6, 9}\n"
          ]
        }
      ]
    },
    {
      "cell_type": "markdown",
      "source": [
        "update()"
      ],
      "metadata": {
        "id": "zKZ0dwP-J3Nb"
      }
    },
    {
      "cell_type": "code",
      "source": [
        "# ერთი სიმრავლის ელემენტების ამატებს მეორე სიმრავლეში\n",
        "a.update(b)\n",
        "print(a)"
      ],
      "metadata": {
        "colab": {
          "base_uri": "https://localhost:8080/"
        },
        "id": "NLA3FWUFI2Up",
        "outputId": "0cd9aea1-b099-4e5f-86c5-4b0fcad6bbd3"
      },
      "execution_count": 193,
      "outputs": [
        {
          "output_type": "stream",
          "name": "stdout",
          "text": [
            "{64, 1, 2, 3, 4, 5, 36, 100, 9, 16, 49, 81, 25}\n"
          ]
        }
      ]
    },
    {
      "cell_type": "markdown",
      "source": [
        "diffetence()"
      ],
      "metadata": {
        "id": "UxSgu1-sKKV4"
      }
    },
    {
      "cell_type": "code",
      "source": [
        "# ითვლის ორ სიმრავლეს შორის სხვაობას. A\\B\n",
        "print(f\"set a {a}\")\n",
        "print(f\"set b {b}\")\n",
        "a.difference(b)"
      ],
      "metadata": {
        "colab": {
          "base_uri": "https://localhost:8080/"
        },
        "id": "u_rh5hLgJ_kk",
        "outputId": "185ef425-a7b7-48ea-bb6a-b12e6712442f"
      },
      "execution_count": 55,
      "outputs": [
        {
          "output_type": "stream",
          "name": "stdout",
          "text": [
            "set a {64, 1, 2, 3, 4, 5, 36, 100, 9, 16, 49, 81, 25}\n",
            "set b {64, 1, 4, 36, 100, 9, 16, 49, 81, 25}\n"
          ]
        },
        {
          "output_type": "execute_result",
          "data": {
            "text/plain": [
              "{2, 3, 5}"
            ]
          },
          "metadata": {},
          "execution_count": 55
        }
      ]
    },
    {
      "cell_type": "markdown",
      "source": [
        "Intersection()"
      ],
      "metadata": {
        "id": "i1kldQUUKhgy"
      }
    },
    {
      "cell_type": "code",
      "source": [
        "# პოულობს სიმრავლეების თანაკვეთას\n",
        "print(f\"set a {a}\")\n",
        "print(f\"set b {b}\")\n",
        "a.intersection(b)"
      ],
      "metadata": {
        "colab": {
          "base_uri": "https://localhost:8080/"
        },
        "id": "WsyAzQ5BKPaz",
        "outputId": "a9b6460d-7e32-4947-c2f0-6b3f7572ad03"
      },
      "execution_count": null,
      "outputs": [
        {
          "output_type": "stream",
          "name": "stdout",
          "text": [
            "set a {1, 2, 3, 4, 5}\n",
            "set b {64, 1, 4, 36, 100, 9, 16, 49, 81, 25}\n"
          ]
        },
        {
          "output_type": "execute_result",
          "data": {
            "text/plain": [
              "{1, 4}"
            ]
          },
          "metadata": {},
          "execution_count": 86
        }
      ]
    },
    {
      "cell_type": "markdown",
      "source": [
        "symmetric_difference()"
      ],
      "metadata": {
        "id": "DpPw4rgyK6_W"
      }
    },
    {
      "cell_type": "code",
      "source": [
        "# აბრუნებს ორი სიმრავლის იმ ელემენტებს, რომლებიც ერთდროულად ორივე სიმრავლეში არ შედის( ორი სიმრავლის გაერთიანებას გამოკლებული თანაკვეთა )\n",
        "print(f\"set a {a}\")\n",
        "print(f\"set b {b}\")\n",
        "b.symmetric_difference(a)"
      ],
      "metadata": {
        "colab": {
          "base_uri": "https://localhost:8080/"
        },
        "id": "p2nNUyBAKnmp",
        "outputId": "b4a5feaf-81be-42fc-dadd-372da16dcd1b"
      },
      "execution_count": null,
      "outputs": [
        {
          "output_type": "stream",
          "name": "stdout",
          "text": [
            "set a {1, 2, 3, 4, 5}\n",
            "set b {64, 1, 4, 36, 100, 9, 16, 49, 81, 25}\n"
          ]
        },
        {
          "output_type": "execute_result",
          "data": {
            "text/plain": [
              "{2, 3, 5, 9, 16, 25, 36, 49, 64, 81, 100}"
            ]
          },
          "metadata": {},
          "execution_count": 91
        }
      ]
    },
    {
      "cell_type": "markdown",
      "source": [
        "add()"
      ],
      "metadata": {
        "id": "trQXg0KdLwsW"
      }
    },
    {
      "cell_type": "code",
      "source": [
        "# add სიმრავლეში ამატებს ახალ ელემენტს\n",
        "a = set((3,4,6,2,3))\n",
        "a.add(5)\n",
        "print(a)"
      ],
      "metadata": {
        "colab": {
          "base_uri": "https://localhost:8080/"
        },
        "id": "_URfXn9XLCSv",
        "outputId": "fa90eb55-ef78-4e86-ac7c-2c69fb1ec910"
      },
      "execution_count": 56,
      "outputs": [
        {
          "output_type": "stream",
          "name": "stdout",
          "text": [
            "{2, 3, 4, 5, 6}\n"
          ]
        }
      ]
    },
    {
      "cell_type": "markdown",
      "source": [
        "remove()"
      ],
      "metadata": {
        "id": "-Dhb9ADFL92U"
      }
    },
    {
      "cell_type": "code",
      "source": [
        "# სიმრავლიდან შლის მითითებულ ელემენტს. თუ ელემენტი არ მოიძებნა წარმოიშობა განსაკუთრებული შემთხვევა KeyError\n",
        "a.remove(2)\n",
        "print(a)"
      ],
      "metadata": {
        "colab": {
          "base_uri": "https://localhost:8080/"
        },
        "id": "VU0dD22pL2JH",
        "outputId": "e7f06752-b471-46b3-b5ce-d1fead18841c"
      },
      "execution_count": 57,
      "outputs": [
        {
          "output_type": "stream",
          "name": "stdout",
          "text": [
            "{3, 4, 5, 6}\n"
          ]
        }
      ]
    },
    {
      "cell_type": "markdown",
      "source": [
        "pop()"
      ],
      "metadata": {
        "id": "zfAp06aJMF1N"
      }
    },
    {
      "cell_type": "code",
      "source": [
        "# სიმრავლიდან შლის ნებისმიერად ელემნტს და აბრუნებს ამ ელემენტის მნიშვნელობას. თუ სიმრავლე ცარიელია წარმოიშობა განსაკუთრებული შემთხვევა KeyError\n",
        "print(a)\n",
        "print(a.pop())\n",
        "print(a)"
      ],
      "metadata": {
        "colab": {
          "base_uri": "https://localhost:8080/"
        },
        "id": "ko07ZF18MDX-",
        "outputId": "0913830e-6eb8-4c1f-d3a8-429d668a3d41"
      },
      "execution_count": 203,
      "outputs": [
        {
          "output_type": "stream",
          "name": "stdout",
          "text": [
            "{3, 4, 6, 9}\n",
            "3\n",
            "{4, 6, 9}\n"
          ]
        }
      ]
    },
    {
      "cell_type": "markdown",
      "source": [
        "clear()"
      ],
      "metadata": {
        "id": "3A-4aBOkMUEx"
      }
    },
    {
      "cell_type": "code",
      "source": [
        "# clear სიმრავლიდან შლის ყველა ელემენტს\n",
        "a.clear()\n",
        "print(a)"
      ],
      "metadata": {
        "colab": {
          "base_uri": "https://localhost:8080/"
        },
        "id": "BisqhXMQMLAO",
        "outputId": "6a7ae4a3-e477-45e0-a610-f73c624a590c"
      },
      "execution_count": 204,
      "outputs": [
        {
          "output_type": "stream",
          "name": "stdout",
          "text": [
            "set()\n"
          ]
        }
      ]
    },
    {
      "cell_type": "markdown",
      "source": [
        "სიმრავლეებთან მხარდაჭერილი ოპერატორები"
      ],
      "metadata": {
        "id": "FZgt0vkbS4gj"
      }
    },
    {
      "cell_type": "markdown",
      "source": [
        "#![Screenshot 2024-01-16 205532.png](data:image/png;base64,iVBORw0KGgoAAAANSUhEUgAAA0YAAAFfCAYAAABqYtxiAAAAAXNSR0IArs4c6QAAAARnQU1BAACxjwv8YQUAAAAJcEhZcwAAEnQAABJ0Ad5mH3gAAABhaVRYdFNuaXBNZXRhZGF0YQAAAAAAeyJjbGlwUG9pbnRzIjpbeyJ4IjowLCJ5IjowfSx7IngiOjgzOSwieSI6MH0seyJ4Ijo4MzksInkiOjM1MX0seyJ4IjowLCJ5IjozNTF9XX2SNhG8AAD/OElEQVR4XuydB1hURxeGP8pSRCliBSsoCKIoRcUK2LvYW0yssUQTe4v6G01sSTSJxm40scXEGhUTa6JIbJGAiigIFrCCREApu3v+e7bAUpQFsc/rw+Pe2XunnDMz95xpawCApD+BQCAQCAQCgUAgeGdROUabN29WXwneGvr27QuhV4FAIBAIBIKiR9hZbyeGmv8FAoFAIBAIBAKB4J1FOEYCgUAgEAgEAoHgnUc4RgKBQCAQCAQCgeCdRzhGAoFAIBAIBAKB4J1HOEYCgUAgEAgEAoHgnUc4RgKBQCAQCAQCgeCdRzhGAoFAIBAIBAKB4J3nhTpGMTExWLlypeaq6Pjiiy8wbNgwnDhxQhPy+vPZZ5/hww8/RHBwsCbk7UKpVOLXX3/F+++/rzrbf/fu3di/f7/q8wcffIC9e/dq7iwc69evx8CBA1XxCgQCgUAgELwtpKamYufOnRg+fLjKbmJ78bfffoNCodDcIXhZvFDH6MCBA/jzzz+xY8cOXLt2TWU8Pw83btxQGcgXL15EcnIytmzZovnm9YWdwx9++AGXL19GUlLSG5HnwsANmp2WjIwM1fXPP/+MjRs3qj6np6dj69atKr0VlHv37qkcrr/++gtpaWmqeEVHIRAIBAKB4G2AiFQD/r/88gsePXqEYsWKZdqLS5Ys0dwleFm8UMeoUqVKqv/ZsJ0xYwYGDRqETZs2qSpBQbhy5QomTZqEKVOm4I8//lA9X6ZMGXz00UeaOwoOG+tfffWVyjMfMmQIoqKiNN8UDewITZgwAdOmTcPBgwdVYWXLlsWoUaNUn982WC/ssPj7+6sauJbp06ejYsWKKp2xY6svt2/fxty5c/HJJ5+oHGseTSlRooRKfkZGRpq7BAKBQCAQCN5crl69ips3b8LMzAxTp07FmjVrMH/+fBgbGyMsLExlDwleHi/UMWrXrh0mT56Mhg0bwtTUVGU4s5Nw9OhRzR35ExgYiP/973+4desWSpYsiREjRmDZsmUqL9rFxUVzV3YiIyNVMzXP4vfff8e5c+dUnx8/foxvv/1W9bko2LNnj2rpXFxcHGxtbTFy5Eh8//33WLx4MZydnTV3vT48fPhQJYuCOqy68GwOY2NjgwoVKqg+M+zMcIPnuGvVqqUJfTbnz5/H+PHjcenSJVVHMWDAAJXseFlmo0aNNHdlh+tHeHi45kogEAgEAoHg9YftVbahDA0NUaNGDVUYTyywzcy2EztHWmJjY1W2UWGRy+Wq1Tv379/XhAhywkPv/+vWrZv6Kh/Ya923bx9CQ0NVU33sqJw6dQqHDx9WGablypVTOUC6cFi9evXQunVr1VIrVrSdnV2mkcwzAbxM6tixYyqvuXjx4rC2tlZ9x8a6do+SgYGBamaHDWPOBztMFy5cUOXB0tJSdQ8zb9481XKrhISEpxrRTEREhOp5roQPHjxQOTAtW7bUfJsdroi8R4bv57Q4fydPnsSRI0dUzk/58uVhYmKiuvf06dNYu3at6jN7+5xndgxZPry0kCsk55kdBl24knJ8HC/LwdzcXOVkFJbt27dDH72eOXNGNZvHe5/8/PxUetWFl7KxztlZkclkKF26NP79918cOnRIlU++trCwUOmDZ+H4+caNG8PT0xNNmzZVzZKxHHi2UOswPXnyRKVzXmbJTizLwsrKSvUdO1Gff/555rLLXr16oU2bNqpnOB///POPylkqVaqU6nvmp59+wvLlyxESEoIOHTpoQgUCgUAgEAheDPraWfnBdhQP9Ddp0kQ1ccD2Fq+M4X307Bi5urrCyclJZdt+9913Kru7c+fOKrtYCy/B44kHtqWvX7+usrdy2uO8BWXixImqiQFOs3r16ppvsmAnjL9nZ41X+7CzxnGyzZaSkqJy2Hgwne1Zth95yR+npZuX+Ph4lT0bFBSkWvHFNhvbvbqwjcdpcZ65vOwLsL/A/7MMuOxsH/Jz7BfowuU4fvy4Kk9sl7OMeBWZbh6eB46FNm/erL56BmwIr1u3TnOlpnLlyioFaOHCf/rpp3BwcNCEqAvAjgc7Ihs2bFA5EDyLxJWADWueDco5U9GnTx907NhRNTv033//aULVsCL5OS1ceXhzf/PmzVVO13vvvacyxPv3749WrVpp7soNG/H8nC5t27ZFp06dMo10hh2inPLhSsCOjhZ2YmbNmqWqRLxhjsusS155ZoepWbNmqsqxatUqlYJzws/x8kGOv6DwEkF99Lp06VKVM8aVffbs2dkaEofz7JyufhwdHbMtO+Sy8PI2rtw8Y8OOI8tQu7+IZdK9e3d4e3urrrmRsM5zwvriGUaeaeNliLpwHOwwaeHKz7rlgx4YnpHjetKiRQvVAQ0CgUAgEAgELxJ97az8YBuLHZ6///5bE5IFOya9e/dWDfqOGTNG5XTwoDMfQKZ1BHgAm7dt8OonLTxgzdsa2AHSwvYXb1FgW3nOnDnZbHWeSVqwYEG2veBsC7PDoWu/+vj4ZDtEjPNQtWpVVXxcDvYT2CnKCafFeeTBcy4D25vsG+QH2/Ndu3ZFly5dVNd8qJfWvtSFHSge5OfB+OdFrxkjnjHRbgBjo9fLy0vl6bExypnmzPA1e448m8AGrpavv/5aVXE4nOHZo/bt26u8QhYSK6NBgwYqhbOy2ADmaUI2hrmScBg7UVwJ2EPkmSCGnSuuBHfu3FGlzXtb2IHgPLASefaAnTY3N7dsxj7ng5e1cZly7iti75QVyuVjA58PjOCZCKZHjx4qr53zxp45p8X7Z9jTZS+aKxM7TOwhs7NTs2ZN1SwJe73aPPPaUX727t27qnywIc+zHVwurlzsVLFTyDNSXIH5Od6XwzNOBUXfkQyelWIHiNNi55cdH24InE9uQFzR69atqxqdOHv2rGqkgOGyJyYmqsrCsubGwnJnvfKMIsNOE9cRnvnjMnGFZZ2zTrlMo0ePVh3WwE4me/3sPPF+NJYfN2bWMcuP02FYnjw7xyMZrFvWB8/0sbPNemB98f8s+5wjDAKBQCAQCARFRVHNGPHAOK+6YSeInS0e4GcbkycU2DZkO5ZnjHjyge0ptn/4f7Z1eMUN26lsK7LdxJMT7LjwKhtenufh4aFJRb21gW0t7YwOTxCwfc3p8gFZPBPFnz/++GOVDci2GduGPAnCYbzKRzspwIP77u7uKtuX7W57e/vMGSuGbXYuCzssXA62HaOjo1UrudgO5FVSvHqMZ7C4HGxHsm3I8HM9e/ZU+QOcPtvDvA2F02KbmW1EljvnoVq1aiqbkyckeAaLJzi0DmNh0WuPEReWHRhOjEf/OWEtPHLPGWaPjh0QzhwrjQ1kLgw7QQEBAaqCM2xc83Iz/p8Lx3Dh2Klg54Nhg5orCsfBcbKzwBWDhcjwMipWSL9+/VTLuxiOk+FZIDaouVJxGnwAgnbWiRXPHjE7QKx0RrueU7s3hisTL+Xi//lAAa44nAY7BrrlZuePy83h/D1XNHbkOM9sqLNia9eunemts0HPywc5nL9nWXIZ2fDnishy5VEAvo89Y67MXEnY6dM6Iy8CnpX65ptvVOmxg8cjDLw0khsIw7rgmRnOm1bWXC7WJy9zY/1wWbgM2uWEPDLAJ/GtWLFCFcYy5EM3OE52tPhv6NChKnlzufl5drA5XU6P4+Q6w3nTzjQx7EjyyAnLhRs8N1KGl0Byvnkalp0jnmXLb4+ZQCAQCAQCwauGbR+2k9gOZduSnQy2ddiu0oW3O/ChDPw929k82M72rNZG5JmbKlWqqAa42c7Snelh2B7j1U3a1TZ8HDhfs33PjhL/z9sg2O5iG0wL27lsK3PcDNtoPBnBNhkPbrM9xs4PO0Vsz7EN6+vrq7JneTKFJ0TY3udVRey0sf3NTp7WseGBcp4RYxuTw7l8XAZ2xtgmZNmw47ht2zZVHuvUqaNyjDh+3rrBThSXjSdLtAPzz4NejhErgAvFzgZnkpXFhWe0e2XYWeFw/uM9QHwWOy+ZYmeAHR6eYeB7WIg//vijqnCsOI5Hu6+Fp+04nP+0U4KcLs8KMJw+o917w7MQfC/Hqa0Y/JmdJjb2WcBs7PPUHlceXhPJgh87dqxqGRujXbbF14MHD1YpnNNmh4XLzfCUJOeT42NYBhzGcJnYqOc/9poZzpM2z9qy6eaZy8SK5jxxXJwnHg3QpX79+qr0ON4XaeRzXrgs7ECy88Pl5GlKTpPzyPLUlkVbZq3OeVaNn2c9cvn4foYbEMuR7+cKznA87KDy/Vrnh2F58HcsM9YVx8V1SOtQatPU/s/y0OpBOw3Lz/OIxsKFC1WzUtxIeYkgpyUQCAQCgUDwuqKdhdFd9pYXbCfxaiqtc8Q2F9s67IQwPJDOaB2qvGwgjoP3/PO2BbY9efUUn/zLA878nHZ5Hdt37Gywraa1+bQ2OA9CM2yvMRwPTyZo7VnthIMWdoy0/gPP6vAEAqfHjo0WXqnF9h3nj1eCMWx7cj4YHvTWpqGdaNHCA/tsu3K8RXHCtF6OkdYoZQNUCwuPM6xdz8cKYiGxIrgAXOicy5m0QmBvkafvWOh8v268WoeLlcFK4mutwc0eJMepVRyH8z2sCHaqeI0me8IcP9/Hs1mcJ55yZKdIez8LkWc9eJaBl2fxtB57nFrnhO/jZWXacmvTZ3iWg+PWVmD+jtPQOkOcX05D+4w2z+zJMxzO93DZtZWMr7Xl1sJl0oZxRXgRcCPivT3aH1/l2RvOO5eHZ/60stWeXsIzOFwW7THsvMSN7+U/Lp+2seh67FwPGNYzT6FyfBzG8mI4DYbj0C0zOzcMN35Ok0cVtGjrCztj3KBZ5zw7yY2KRxHYcWKnSZy6IhAIBAKB4E1Aay9pYbuIbSS2AdlO4xN6eTkZX7O9xrYODzizPc0/acOTEGzrareu8CQFby9g2KngGRietGDYpmIni21S7QohttPYudDCthb/6dqnuvYqr8rSwrauFt37GbbtGN1nde1khm1+rT2pi9ZGZPtOS17xa2Wlvf950CsG3j/CmWahaX+Lhjda8VIp3h/E8D4VFigbtGyU8r2siJxCZrgA7MjwsjaeCtQKjeEC8/fsgLDyuaLwSWQML5Pjgwq004Da5Xh8HxvJWiVpPUz2cjk+FpTWk+b7tI4GTwvyVCAv02P4Xk6XYQ+ey80ODJeB99IwPCvB6zl5upHhPUX8PSuY9+aw8jj/2jzzVCHnmZf9MZxHLhPnidPm/LNcck7/8dpKjpPvfVFHfPPBClxm3RkhzjuHsfPDZedrdhIZnmnjsvDBGBzOJ6Rw3lkW7Bixs8lwY9Q6PtqZP57R4dk1lh/rXLeSa2Enm+XC9Ua7NJJHNjhNXh7J8Awfp8154+lXPumQ86s98UTrzPI9eaUhEAgEAoFA8LqgdSrYdmLbheHBabZt2I5hG42XkbF9pF19xAPG/L3W1mHniCcBeEUWo12dxD91wnYnO0xsm+vOSnEcDNtTWoeCV0vxczwozU4Ub3vQThrw3ieeTODVVXzgA589wOmzTc6rw9hezcue5VkpDme7kGePtKt+eF+RFo6P4bJobV62rXkAnsP4xD5G1yfQwvFz/vk+3T1VhUUvx4gLwgYnG+psDOeEC6R7mgZ/1o7+8zI2Fgg7GjyTxPA0GAuGHZicU2Ja+Dtew8hCYE9Z18FiOC/a6T/2kjk+dnhYMFwJ2IHj0ytYwWxA63qmz4IrCMPKZseIZ3U4/3mVm5Whq1jeR8PL0Vj5vHYzZ5pchp07d6ryzHuNeOaLHTG+nyut1ong/7X38XpT7bKzokbbAHm0gPdIcRlZXgynq12qyHvMtI6lFnaWeOSC79GeBMcOJsuLZcjy54bNSxz5mk8NZNghfprOuc6wA8l61B4IoQvnlw9n4DyxbrR7zvg5rnPsvLLcWM4sV63DJxAIBAKBQPA6wvtw2E7i7QRsR7JtybYz2zxsD2kdJ7ZvtbYOH/zAg8g8oMyrdfiQMx44ZnuIZ494iR3bZGxH8mA+x802OdvrvFWCD2HgP3YoeP887+VnW5NnoPiAMrYF2RnhbSacLsOTCWzLcX7Y5mZ7jR0vttXZ4eIBck6P9+dzegznUWu38UA371/idHgShff98+wWb1thh45tNy6PdlWYdvCdy8QTCZwX/swrhLRbXTifHA8/yw6cdkXT86DXqXSsGN63w5uz+Hd7OOO6ifNmdy48wwrm351hg5nX+rECdu3apTKuWWDs7fKPd7JQeDaFHSbtrBPDzg4rimcf2DjnmQP2ctnI1vUEeXM/b+TiE9PYi+XZGjbw2RDnzV1suLOgtKdpcPrsqPAfb/LSesc5YWeKl+Kx8Hl5HVcsLjfnk8us3TPD8AwKK5vhjWqsdF7ryfngZVwsE94kpoV/zZg3w3HF4ErIlZTLxI4cV0Z2APl59tJZ2XyoAFc8vq+g6HNaCju7XClZp7yxTbs2kxsVl5O9dj4xj2XGemCnhxsE54f1yzLik+W0szTs9PAMDjdmdkxYBjyCwY2Aj15nz59HH3hUhPdQaeG8csPjOsaNjvXKDZ9lxZsNtbAO+Y87AZY9p8d6YSeMHTc+e5+dKXaqeU+bdn+XQCAQCAQCQVFSVKfSabeksB3Ddg/bOWzbsK3F9jXbnmwT8alufDIy2zpsF/OMD9s6bC+y88M2Ng8a86oefpYdBT7YgZ0LHkhmm4wH3jmMbTu21XiLA5eBnRq2B9mGZseMD7fiwWV+Li8blO06jl8768SwPc42H9uzPDmgtWc5X+w88VJAtr35PrbTOS+86orzwzY+23ZcHrared+7dkCezyvgrTg8qM6HPPAeJH6GVyvxyieWGe9r4me0TtzzwKXV63eMGBYY//ASnzSnncVghfCSOhaq7qltDBeKZ0LY8GaHiBXAf+xp8v4e9lb5tAs+3YzhuHjPC3/P03V82gQLiI12dp50pwC5kvDzLGyt0lj4PNOg3ePEwmdjmxXBy7FY0Rw3G9Xa5XO6cFqcLv/PDgsLmeEKyJWIy62dUeK8skfOitLOhmjhSsh55rLqzlqwMrlSc5514bjYOWJ58ewXVyh+VnsCSGHgGSl99MpeN1dQbaXkGS/tUkSGHSLtUe1cdnZA2RHV/kBvTsaNG6cqJzs+LDd2tvh+rhu8/JKdHm6E2s6E9cTfs17YaeJGzY2VnVF2anX3FnEeWQ8sb60eGF5Dy7NX7AizM8d1hZ02gUAgEAgEgheBvnaWvvBsDp9WzLYOOyQ8Y6Pdi86w48J2Its6vOdbu92DZ1B4awrbkryCh+04LXzNExE8SP/RRx+p7GC20dhG4ud19waxPcaHb7GdzwPiHDcPfPOEB8/WsJ2WH2y/sT3LeeWT9XhihO1Z9hF0YTubD2LgvGsnX9guZ3ueHaa1a9eq7D+2l7X+hhaeGeMlf+wAsv3KcfPzRUWBHKO8YCHk5U3mBxvBPNXGszdcuRh2oNhb5Pj4CEE2jIsKnrlir5OVzd43H8nNytCFPVee1WF4lkl3ticnhS33y6IoGizP7PDsXk64kvKeHnZoefZLVw48HcrOMO/v4lP6uFGz48yNkNel8iyarjPMoyIzZ85UfeZTUrR7vAQCgUAgEAheV4raMSosbN+y/cTOBg86s43FsKPEe/M5nB0MXqWlDzwwrbWFGbbf2M7jGSC22Xm/+NvMcx/fUFjnQLskjb09VhrDHiB/5jh1l6wVBTz7wtNurGA2+L/88stsp5bxXiGuCDzbw+sbtQcJPI3X2SkqKniWj6dKuTHwCATLRTtTwzLkKUw+SIFHN7Sw3Pge7dHlPGKgnb3R7gniWT2tzrVL9XhWT/foRoFAIBAIBALBs+HBfrah2K7i/T3aU315JQ3bqmyT5Vyp9Cx4mZoubBezncZbVHiwnH8OR7sn/m2ErfvnmjEqLLxOcN68eSph814RNoq1vynEHi4ftV3UcKX59ttvVVN8rGiGl+exYa/dI8XGP/9ysD5Thq8zL2okg2fKeKkiL/fjJWwsR55i/fDDD1Xf8xQvzwbylCzDM0jaNZ+8jI6ne1nnvEeJl+5pdc6zSTmXJAoEAoFAIBC8jrwuM0YML3/bsGGDyibj5W9sy2pPh+ODC3ibiL7w4DUv1WOHiu1j3hLB2yp4GR87WmzD8Woh3pbyNqLX4QsvAp6KY8HzUipe78j7UViZvAZSd31kUcIeNa+p5GMNWdk868FeLztMvJaRKw4fiqCd4XiTKapNgTnhRsHL6HgfD+8j4hkfXheqPWmOnSA+SpH3o/G0re76VXZCWc58FLlW57xxjw9w4DWoAoFAIBAIBG8CL8rOKgy8z4YnGHhLCq+G4n347NjwRENB88i/b8T2OE8Q8J5z3tbCpzvzMjr+jvfK80EQfOjY27h66pXNGOmiXVZVFKdJCNS8rJEMdix5H5Fu4+DZItYpN8qnNRqhc4FAIBAIBG8qr9OMkS5sX/H+IrbBXgQcNx/clfNAhbeF595jVBSwcSwM5DcTPhI7p/PDh1rwAQ3PGkkQOhcIBAKBQCAoWti2elFOEcOrr95Wp4h5LRwjgUAgEAgEAoFAIHiVCMdIIBAIBAKBQCAQvPMIx0ggEAgEAoFAIBC88wjHSCAQCAQCgUAgELzzCMdIIBAIBAKBQCAQvPOojutWfxQIBAKBQCAQCASCdxOVYyShvhK8NfBR2UKvAoFAIBAIBEWPsLPeTsRSOoFAIBAIBAKBQPDOIxwjgUAgEAgEAoFA8M4jHCOBQCAQCAQCgUDwziMcI4FAIBAIBAKBQPDOIxwjgUAgEAgEAoFA8M4jHCOBQCAQCAQCgUDwziMcI4FAIBAIBAKBQPDO89Y6RvL7l3Eu/D7kmmvB8yBHcvxd3E8uGmnKkxOQmKrUXPH1Q/yXlnWdRdGmm8njKBzZvBF7Q+ORV6p5Uphn9KKgZVQgPiYK91M1l28a6Ul4qFNW5eNEPExRaK7eLuTJ8bh7P7lQfRC3kYePc9Y0BeQvVFSPEXVkMzbuDUV80VbyvFHEIybqPnSr8uOoI9i8cS9CX0oGXiYvWbYCgUBQGOT3cflcOO4Xsdn1JvF2Okbpf2JCw9rwdvfB+GNpmkBBgVHew58LesKzclV4tQ5Ah4YuqOE7ChvDC2mVyyOxcXBdVHTyga9HHbSbdwgH/ucPd5/m8HasjnaLTkvmg8TzpisPxeIuXqjv3xn9R07H4m1ncU/XoCxmC1noEvTy8cf0ID3jLMwzz6KwZUyJwLpBdVDBdTQOv1FVW4nY7cNRp5oH/Bt6oM0XJ3B+dW941/NFwxpV0WDUL4h+K/wjJe79uQA9PSujqldrBHRoCJcavhi1MTybA/AsHh+fBm87B9Rt4IG69Vui2wcfYviQXmhRtzW+CHmRb6tisJWFYkkvH/hPD9I7v4UlJWIdBtWpANfRh6GtysVsZQhd0gs+/tNR+GYmR+jiLvCq74/O/Udi+uJtOJutAygk+fUrz+TlylYgELwLyHEvZCe+nzsNEyZMwxerD+JKsuarQpGOPyc0RG1vd/iMP5bZL7+L0FtHxmn6n1cJMizuSbNOp2kC3y2KQq8J2/tTeZkTjTqUoAlJptMzvci69lQKTtUEFYCH2/pQaRMvmh2WIUUVRBO9K1Il3xl0Roor4ccAsnYYTUf58/Omq4imr3wdqPuyQ3Ro2yLq7WxBdh1XUIRc872EPHIhNZLJqOGCq6QT/EwK88zTKFgZk+jqgaU0oUdDcqpUjbzaDKTZ28MpRfPtG4HiDi1vZUl+39wgRVoYzfVzJqemH9ORJEmuUYvJr7gtddt4T3PzG0zCdupfXkZOow5RpmZPzyQv69o0Va/Km0Z/T3YlE1VbUNDDsF9p7uB21NCrMfWef4zuKTS35UJByXGX6WLkPdInlacij6SFjWQka7iArj5vJc+LpKt0YOkE6tHQiSpV86I2A2fT9nDdmiynyIWNSCZrSAsKnQEFRX/lSw7dl9GhQ9toUW9nsrDrSCt0O4DCoEe/8kxetGwFAsFL5ZXaz/LrtGOMN9kay8iqYk2q42pPxY0MqXitj+i3O099UeRDBp3+nxeVMCxOnrNOS2+jd5O3c8bI2BuzgmNxP+4k/udtogkUFIx0XDgdActWwzG0mY0mzALu7VvAPmIHfj2XrgnTFzliLoQjsbgz3KoZS1F5opWPJazq+KKWqQJxNx6iUqsWqCkrgnQNy6BSuQTs2x0Jt25jMXtgbdz//RccvJe1hsWobBnYSrVfqdR/JLkwz+SN/mVMv7YLk/w90P7LCFQcsBIno67iTOA6zOxaA8U097wRGFrDvX4N0KNHIJMaaNXEGqmVG6FecUmu9u5wLfUI//x9QXPzm0v6hdOIsGyF4UObIVOz7u3Rwj4CO349pwl5FoSE+P9ApuYwNzCEtVs3TF+zD0FnjmPL5GYonWePLceFJW3h0fJDjA7whM/0k4Uf6TMqizLqSo6incBLx7Vdk+Dv0R5fRlTEgJUnEXX1DALXzUTXGro12Qhly9jCEEoUvpkZokylckjYtxuRkvzGzh6I2vd/xy8H7z3fMlg9+pVn8sJkKxAI3jmMSsCmpDN6rjiN6zcu4PzFGIT90A1Wl1Zi2rfnCrWEWzKe4T0rGLH343Dyf954V63nPF+zbyyKK9g+dxImTJiACVNm44u53yLwZs6Xlhxhm2Zi6qqT+O/uCSz7KADNGjSAf9exWHfuP8097w7K2wcxb9QM7LyR81VtgibzT+Py3rFwl/wYLYZmpjBV3sfduwU1MQxQorgF8DgBCSl8bYoW31xA6GJ/6ROh3AebEby8k2T4FUG6ykTceWAO7+b1JUfGCKVKWqkMLbluT2FoKOVIlzRc2T4L4xYcxu2nJVGYZ/JEvzIqrm/BoNYfI6z9Rpw6+C3GdHCDrc79uVHi9sF5GDVjJ3Kp85VjCp/PjmDzIDtJhlLnO/tvXP+xh+QOShgYwcgIyEgvqLP9+mHSZD5OX96LsdkVC1NTJe7fvasJeBaEDHmG5rO+pCH89FV4zNyL/V91AG7eRkFjyMIQhtkrOdKubMescQtw+JmV/Fl1T4HrWwah9cdhaL/xFA5+OwYd3GylWpA3hrkzgO2zxmHB4dt6OjZKJN55AHPv5qgvOSJGpUrCiv2RbB1AIdCnX1HxNFkUVrYCgUCQExv4zvoJ3w+uAyvVtTGq9OiH5iUVuHLuPB6qwvRFemb7XExi23nCFMz+Yi6+DbyZq7+Vh23CzKmrcPK/uzix7CMENGuABv5dMXbdORTGev4v9FcsHD8QXVs2Rj2vemjcqjc+WXoMcS9yxbgevGWOUQIigo/i2LFjOLJjLRYv3oDjd3KqNh0R+77DV998jgHNOmJ+SDHU8nJAStBSDAsYj73vlG+kQPTG2ZgbbAgHO8kyzYkyAaeWf4gWtZzg7O6NRq0/wIIjsZIZRjzoqSbxDJYPaQqXatI9Nf0w5pdopFz6CSNbesGtemU4NxuKlWdZqEYoX90B1opwhISqx7PTHt7AlSs3kJhuDFv78lkzIHqkq7wfhO+GtoBnrVpwreYIl2YfYMmJ+5qGbIq2S8/j4ITKuLR1Fkb/dBOlLK5g/wapwT3NYYjfjAmDt0DZsAnK69sqnvZMegwOLByCVl61UdvNGVWruKBJn1nYEaHaQaUmvzIq47Bp7MfYGvcEF5f1Rb2aTTFiSyRSY3ZjSicfuDtXgoN3Hyz6S1tmCUU0Ns6ei2BDB+RW52NEbJ+Bno0kedV0RfWq1eHVeRx+/DdJ8z0jOXq/TkYnL1e4uLqh6bCfcDk1FWFrPkADF2fUcPPFR5J+5f+dx2pJ9t7uUtmcGqD3F4eR2cwkxy7ou6Fo4VkLtVyrwdGlGT5YcgL3Vd9boLydDTKu7cH/ejdGbSkfztVc0HjAKvybY110eswBLBzSCl61a8PNuSqquDRBn1k7oCvC3EjOR9B3GNrCE7VquaKaowuafbAEJ9SJq0i78ismd/KCq4sr3JoOw0+XU5EatgYfNHCBcw03+H70C6Ll/+H8aqkM3u5wruqEBr2/wOGsAuaThhIJp5bjwxa14OTsDu9GrfHBgiOIlao8ZTaafOLgBRqKezjx9SC0aeyNWlL9rtVyOFaefpil62xYoNPMObDZNhyDF4WhprsMl2/nvYul4HKNx+YJg7FF2RBNntUwnlH3lHGbMPbjrYh7chHL+tZDzaYjsCUyFTG7p6CTjyTjSg7w7rMIf+noSZf4zRMweIsSDZuU13lhPVuGpm2X4vzBCah8aStmjf4JN0tZ4Mr+DTiWowNIPLMcQ5q6oJqTM2r6jcEv0Sm49NNItPRyQ/XKzmg2dCVU3ZcKPfuVZ7ZDXfSUrUAgEOiDIgMZklNhWrw4zDRB+qFAQkQwjkq287EjO7B28WJsOH4n1/smPWIfvvvqG3w+oBk6zg9BsVpecEgJwtJhARhfYONZjpid3+D7IzdhaFcTPk3ro2rGKaz+uB3azgjS3PPq0Kyqe7t4uKYdmcrcaOrpDE2IlhT6pY81GRiYk9uI3XRLtdZbQXfXdSRL4wo07MBzrdB/bdBXr4pbe2icTxWq1W8pBWfbwCCniKWtyNbCg8YfvitJSLr3YSj9NKwulTCyob6/PpFuuUor2pUh68Zz6EySgp6ELSBfpwDq26o+fXI0gRQZ12hDd3uS2fWiLXEKUlxfQn6mMmo05zdaNbAx1W3gR03cylLxMp40+IcLmj0zeqSbHESfepUi9zGBdJv1J79N+0e5kmk5KZ27mjIknaVvAxzJvtEk2hOdSsmhK6hrZQuqHLCKLvHC2ZQfqbOUlwbzLqv3C2WE0SJfe/JbHPn0/UP6PJMaRkvb21OpRlMo8Ia6LqXFHqKZzWxJVrYtfR/O9TH/MsrDv6AGJgZk4jqKAiW9ZFxbRZ2cu9DAAC8avOsOKRRxtHNQdTKxbUvLI7WpK+jWnnHkU6UW9VsarLMfRU7R67uSvaUnjQ2MJVWLeBRGq3tUIVmZjrQ6ip9X0J0dg8ixmDONCLxHCvkN2tzbmZpPn07t6o+hgw+kPEStoI51BtGs4d7U5utQSV8ZdH1jT7KXlaZeWx5IcSRT0KdeVMp9DAWqFUO3948iV9Ny0veact7YQv2qWJHH2AMUxxnJeECnV/SlGsWMqcKwA1IAi3AptbcvRY2mBJJahGkUe2gmNbOVUdm235NKhHmQHPQpeZVypzGBt1X6kN/eT6NcTalcry3E1UJxZwcNcixGziMCJdnI6cbm3uTcfDpNb1efxhx8INXXKFrRsQ4NmjWcvNt8TaFShcy4vpF62suotBSHPmnII5ZSK1sL8hh/WHUtKZZCfxpGdUsYkU3fX/WI4wntfr8MGRVzpQGrz1I835Bxm/4YW5csSvrTkot5F/5R0BwKeG8efTnQn96bPZt61XWh1jMlGWfWAX3lmkI/djYlWYN5dJnTlnQctsiX7P0WU2Y1y5On173wLxqQiYEJuY5iuWfQtVWdyLnLQArwGky77kj9QtxOGlTdhGzbLlelkfJjZ6nvbkDz1BmQmtki8rX3o8U6GchPD7wv7+y3AeRo34gm7Ymm1ORQWtG1MllUDqBVqg5AeubqCmpXxpoazzlDSZLcwxb4klNAX2pV/xM6msBtbgN1l3RvJ8WZKcf8+hUVT5NFYWUrEAheR14v+1lBcRu7U1ljG+q0Lk71vi0UD9dQO8nOcZt6Wm0r6JDySx+yNjAgc7cRtFttPJPi7jrqaJn1/i4ICkWOXEo25ZdNzMjYaZwm4NXwzjpGxhWG0n6dPb9px8eSk3EJ6rH1jdrS/lQKpNeMWDq6sBu5OvrR1P2xKkOD0oJovJOMSnRcR7pb4jP+nUUeMrXxnnZsDDnKbKnPtkfqL3lzclNLKuE5lU5pjISMM9PITWZKzb6+RvK0UzTZVUYyiyrUeWmY2hGSjNGVHUqToYkLjftTCtEj3QcbupCVmT99F5vVqDLOzyB3mRV125QoXSXSgRHVyKRcD9qkYxkmHhxJ1WQlyG/JVZLndHIk5NFrqLNLO1r2NMs732fkdO27FmRp4kmz/s0ehzxyMflZGFHZ/tv1KmP82vZkblCMWn0fq+ng4mlth5Jk6TSc/tD47vLwz6m+TEZ1ZoZk68AyYo/Swm6u5Og3lfbHSjmVHLjZniZU9r0dpNGUCnnUItVhEg2+uCzdE0IzPWRk2uxritaILPXoaKppV4FaL4jQlPcBrWpfkexrDaY92mbyZAf1lwzrKiMPS19voC5WZuT/nTbPEhnnaYa7jKy6bZK0kkZB451JVqo3bWM1aUn7k8Y4ytQdq/wafdfCkkw8Z1F2EcopcrEfWRiVpf7bdR/W8oA2dLEiM//vKKtaZND5Ge4ks+pGmxIzKGSmB8lMm9HXWQWk0TXtqELrBZkb6B+sak8V7WvR4KwC0o7+klNbZaT0Ob80uHxOJCvRkdZlVyzNkmSrdozyi0PtGMlcJtHfmYa2xIP11Fl6+VT88A9NgFSfz6+nKVPWUVhyPK3vbE+9t6VQyq99yaHfr5QU/QMFlLekOhMPqw+B0FuuOY13CXk0rensQu2Whed6UeYkV93jetvenAyKtaLvtQWOX0sdSlqS0/A/NAdFSM7T5/VJJqtDM0MycjlG/H30ms7k0m6ZxnnLT4aSbA6MoGom5ajHJh0DIfEgjawmtTu/JXRVnkbHxjiSzLYPZXVfX1FTyxLkOfWUZtNxBp2Z5qauM9c4L3r0K5owJrcsnk+2AoHg9eJ1sp9TLy2nDuWNydp3EYXqvjsKSn6OkXEFGprdeKaxTsZUosdWTUAhkWdQRloS7RlYnoztBmsCXw3v7vy9iRnMdZc5GPDib50lYu8Sxnbwnfgz9k0tjrV9e+GrMDmU8ecREkMo7+SsWb+aEyXunA/FTVRE9erm6iBDW5S0SkOqeUmU0sjWuIYLqsnkiLl6DXITNzSqbwtYt8TwIW7qpXPGDujbzxclMq5iz85zSNUj3aQHCUi1sIN9yazqa2hnh7IGj3H3dgLwXyDWbomGTev+6KKzRMWqaT90dniCk7sDs5Z+6WBUpQ+G+vyL6SOX4crTltzlIPsziTgcGITHlRqjeY3sOyiMqnRAG3dDxJ86oYdsFXgYnwi5YTk4u/BGdKYYbKyBJ+alMmVrVMkJDhZKXI+MyrbR0tjOFxN/3oepxdeib6+vEKYwhrm5GSo4VINGUyqMSpeCjRR5SkqylKeTCL6oRHm3OpnLAo3LlUfx+w9gVs4e6iTNYWOZhHsoBzvtrkwD3j9jgOJWJaBMeoCEVAvY2ZfMWvJkaAe7sgZ4fPc2EtJvIujva0AVV7gW13yfk8TDCAx6jEqNmyO7CI1QpUMbuBvG49SJME2YDsokPEhIhYWdPbKqhSHs7MrC4PFd3H5wDyeDL0JZ3g11sgqI8sXv44FZOdhrZGpuY4mke0C5rALCzNQUBsUlTemRxvmQGFB5Jzjnrdj840h4SsUr4Qwne+BO6D+qS8WVlejbfj4et+4BN4vicGvggJOftkDzGf/Cu0VdmFd5D3NHu+LyN2MwPzit8HJljKqgz1Af/Dt9JJbl0zBy1b20h4hPlMOwnDNc+OABppgNrPEE5qVKaeqVESo5OcBCeR2RUXktLpfy2GcofP6djpHLrughwwQErt2CaJvW6N9FZ/mdVVP06+yAJyd3IzAuDudDbwIVqyOr+yoJq7RUmJfU5ssYNVyqQSaPwdVrUr4K2K/kkkWeRdNftgKBQJAX8ugtGNZ5LA5Zvo+1G8eh1gs9NcEEZtmNZ9Xe66yl4vqTFrULM3v6oFqpYpDJTCAzLYFOP9yGUjVn8+rI6t0F7x7KBESEx2qMajY+hqCd6Sls2HQOSE9XhefaCM0YGEuVGDA1k0kNIh1p6doGYY56g+Zj/ig/lNa2G1KC/W8rW2spBTPUb+QJk3shOBuVZQQYW1jATErG2Fiy2PJN1xCVeozGBy7mUOjYEYaS4W8iPaKQK6BIiMWdFANYlSyZfYO36lQoAygfJSIxzzZsiqpV7ZByYjt+0/v0Ap1nYhLxKFkh+QoWMM/ZsoxsYWttCFJIpcu3jEawsbWBTHKQssooQ+2+n2H+uLaokBm3AnKlAaxtbFQdkzIhAuGxam2qDK4h7WB6agM2hThg7Nb9mNO2TLYGnx4ahiuohGbNXYDUVKRJnZFCdye51FGZm5lLjoE2n4ZSx2UuOUKyTLnKr5xBSJIbunZ1h2GlHhj9gQvMsysGZmrFQEFP8IS3vkif5Xl0fIaGRpLN+wjJCskZsTDP1TkZ2drC2pCy51GLYSX0GP0BXMwlmWmCOL/mZiaSbPiHUVORqi6gjhMpg4lUb8zNJMdHE2IoM4W55AjJsgqIMyFJcOvaVY800pGuVmxmfFkYwJgbTb5xcDvQfeloMDSFKctRRQK2/28WDpXugYGN2cM0geeUo7hw9CdsOX4OWz9wkNqaEZx7BsCDLmPTuiN4XFi5ajCtWhV2KSew/bcbmpDsPL3uWcDWRiq3VCcyyyurjb6fzce4thWy8iLpRWlgDRub3JJTYVoVVe1ScGL7b/nLMD0BsXdSYGBVEiVzOIF84p2B8hESE2Uwk0lppachq/uqh0Hz52OUX2npTjUkvaHJ0Epqu0Z69ytPlcVTTtTMT7YCgUDwNOQxP2NY28H4xaAn1u1fga72OXv415TU45jesRfmnymD97/bixP/nEdIyGks71Y61zvqZfOGSFBQ9DzGn5N90XHJhSzjwrgkbKwMkCZZr4ZlXeFcBrgdGQXVIXIalP9Jxr+BHSpVMoFto8ZwM7iBsNBEzSY9Y7h2+QTjenuihOpasjsuXcJVOKNdx1rSt4awbdgQNXEJwSfjMzf2pSUkIMmgDBo2qw2zfNOVYqnYHSuOr0J31ZFmGgwMMiuzUSk7lLVQIi78UvZfmZffxK07QElXN1Q2KY4SFgbISM9Q7XVXo0ByspSqsYXqu1wY5vNMifJwrmYLiovCtSear7XIYxF7l2Dl0UAP2RrDqnEzeJjcw5UIrZyM4Nh2FMYNaJh5ZLM8KhxRafZo1bEeTB//icm+HbHkQpapaFzSBlYGaSpnxNi+EdrWLyvJKAkx54Jw/Pf1mDhlHypMW4fZzYrBsLwH6lQ0wN0LIbipicLIcTyOPkrA1l7aYzHM0PmHOCSdmaU+TS/lHJbNDYbX95sw1ctEkk9FdF9xHKuyKwYGWsUYV4ZLdUsor1/BFV350GMpjwYoVVZy3Mo5o5otIS7qGnKLMBZ3yQoeDWprQnQxRMXuK3B8VXf1SXcaDLSJG5aHR52KMLh7ASFZBcT4o4+QsLVX5sEfZp1/QFzSGcxSFxDnls1FsNf32DTVS7rOL42ycFUrFlHZFYvERwawq1RJusgnDqmVVKhQHoapj/FY13l8ItWpWEJp11pA8mHsPHAfZk414ZRpoRuhhJ0jqtiaaq6lkAq14Spl5975M7hWSl+5GqJ4CQsYZKQjQyd9RXKyJA1jWEjf5eKZdc8KjZt5wOTeFURoG6Mk97ajxmFAQ+0LUI6o8Cik2bdCx3qmUjMrAQuDDKRnzwDUzYx7lnxkaFQKdmUtoIwLx6XsHQBuqjsAuFUti0aN3WBwIwyh2lESY1d0+WQcentm9l64dOkq4NwOHWsZ69evpD9LFoWQrUAgEDwFxfVf8GHbgdiKXlh3YC36OGQbsnmtkV84gD8iCd4jvsK0Pv6oX8cd7u4OsDTQ7VxfDdq38VuBMj4E+37egi1btmDnP3ehVD5CxOGfVdfbjkaKXxvXRZmIC+ev4n7cLTzQ1MOk07txKLYqOnX1lixEPwwf5gnlkbVYe1E70vkQRzcH4k6tbujmZgzjmh9iSs+SCPrxx6csPUvCXz/uQopfO1hsn4UNF+WSTdQIDSqlI+Tvc5ojhdMRLhkf8ird8F4LyTDQI91noVoRWaIN+gfYI/XIYvxvv/aIXwVu7liBnQn18Mn49ihuUg/NfIohfP8OhGlP5Eo5j92/R6G4f1e0LpVH08j3mWJoPnQgaj45jK07sh8tLA/fiX3XvTBuWje9ymhUbSAm9S2HM1s342qesk3Fuc27cL/dbEyR5KZMvIDzV+8j7tYDTbpJOL37EGKrdkJX3d/ykt/A0Q3f47tlq7D3dlnUkQx5My6qSWOMGuuP4qeXY86uuGx5fypm7hj1cyBW9K+R/wk4asWg/chBcHnyO1avj5A0zygRf3gnjia6oUNHVynO5hg6sCaeHN6KHdmOMJYjfOc+XPcah2ndSmrC9IWn+k3QeNRY+Bc/jeVzdiFOvwLCfdTPCFzRHzXyL6D0zwx+w4fBU3kEa9de1JRP0uzRzQi8UwvdurlpQp4Gx2EM14AuqH1/Pzb+rv3dnXRE/LASgY9rYdDQ5lDcv4FbyZL9L+OhhmdgYAkryZGnpEd4ZKKvXE1Qr5kPioXvx46sSo7zu39HVHF/dG1dShOWxbPrnjmqDZyEvuXOYOvmq1mDMLqknsPmXffRbvYUcBdgUq8ZfIqFY/+OMGQ1s934Pao4/Lu21oQ8DZZhCbTpHwD71CNY/L/9mUfpK27uwIqdCaj3yXi0L26Mmh9OQc+SQfjxxyt55yvpL/y4KwV+7SywfdYGvfqVYs+URfECy1YgEAjyJOkwJrR7Hz9ElUTDVo6I3roI8+bNU//N/xI7Lj19BUAulPEI2ae2lbfs/Ad3lUo8ijiMn/l621FEvgDj2cCGB4yUiPprL/65HY+b53bg815NMWpXos7A86tDs93ozSctaAI5G6tkmuvPJHOjrubwBdUvy6seU5F2Yhw5GRenbpt1NpW9wXCZn42C7uwbT962JcjBty8NHtCW3Cq5Ud8VIZSsuYMyrtG2j+pRufJ1qfPAofReKxeqULM/rQ57orlBIvEEfebnTP6LQnL8SrKCYncOIU+3zjRx6VY6GHyJ4lSPJdEvfW3JxGsOXeQNyPJL9Hl9a2q8MDxr43J+6SaG0K7AHJuVk9ZTJ1MTavp1tOpSkXCSvuzqRJYWlcin20Aa1LUBVXNqSTMOZG3GTgv/gfq7WFOZOp3p/cH9qLVrearsN4X2Ze3ozkX+z6TS5U3DqYF7AC3jY80kFAl/0ZweXbOlrZdsH52ihW1cyPfz0+qDKjJR0INDE8m/5Uw6Fq+JUXGH9o33JtsSDuTbdzANaOtGldz60ooQjTaf3KDL0UnqzyoUFH9gBDmZ2FOvzbGaoDjaO9aTrC1r0oCVZynh6WJ4CokUsitQs0FeSxKt72RKJk21hzo8oUvrB1OdMuXJo9P7NLiPHznZuVLflXzKnYbUy7RpeANyD1imOhmO85rw1xzq0XUGHdA9Zi0HiSG7KDDHwRlJ6zuRqUlTzYELCorbO5Y8rS2p5oCVdLbgBdQjjQy6tu0jqleuPNXtPJCGvteKXCrUpP6rw6SSq8k/jhQKW9WPatpVI78+g2lQgBfZla5NA9dfUh1WoLjzPbU0NSCT5kuznTqXi9QDNKyCEcm856rbmr5yTQunH/q7kHWZOtT5/cHUr7Urla/sR1P26RyqoUt+dU/i0amF1MbFlz4/nb0mk+IBHZroTy1nHiNtVZYyQOE/9CcX6zJUp7NUR/q1Jtfylclvyr7MwxbylaEigU5+2ZWcLC2okk83GjioKzWo5kQtZ2Q/qS/xxGfk5+xPi0Jy7FZWxNLOIZ7k1nkiLd16kIIvxamD8+tX8pNFQWUrEAheW/K3s14cihtLyM8kb3sXBsUoYGOOvvZZpAXRBGfjvOMyyTroSn34ggONzm480zgnYyrebbMmQE8Ud2nfJx5kbWSgTsfAjCq3mkGrJtYn0/Kv9vAFKT9vj2MkyEJfvSqSYujM4X2090AQRSRkNzTUKCgp5gwd3r+fDp++RomZ3osOqTcoPFL3vDM1KTHhdC3LNtKgoNsrWpOFZQD99FAyI0P/R97VBtNe6XN2npKuZHhs7mlPtXOemHJvJbU2NacO63QjktOj6LN0ZP9eOnDiEt3L66SWjHiKOPkH7d37B50Mv5fDuXsK+jyTfItCwm6pvkuNi6ZbefZResg2I44uRybkMprSYq9SNj9HhSa+fVJ5gyIoU52KGFrT0Y78FsdkjyftL/qkujGZtVimCWAeUeiPo6mZvSXZ+Qymhbsv6ukgSY725p5kX3sqZT8I8h6tbG1K5h3Wka5mFI+i6bRU7/YdOkVReRacRRhCYbdUEqS46Fs5nMPsKO5spp72tXOdQnlvZWsyNe9AutXiUeiPNLqZPVna+dDghbvpop4OUkHSULer/bT/8Gm6plO+gsQh18roYDBFPtSRUVowTaxhTIa2PWhLvCYsD/h4fF8TI6o47ECmU8boJ9cMio84SX/s3Ut/nAzPu+1k4yl1T4eMuMsUmUvWaRR7NVpyn3OTER9BJ//YS3v/OEnhOhkoqAzPHtkv9W8n6NJTCpF6I5xyd18pFBN+LWuQKBv59Sv5yaKgshUIBK8jwn5+XqS+8HIQHdh7gI5fvKuf/fUSEI7RW8rrrFf5pc+pnrkLTQpOpuDJ9ahljmNun0lqIA21N8l1lGTG2U+ptml1+uQvYWXkgo/ULmlKjRZFZZczH1ftIDlGrZZrAnRI/Jc2Te1OXnYWZO3UkoYt2E7/PniWllIpcKg9mbjlcIwyztKntU2p+id/vdBOLzVwKNmb5DyeP4POflqbTKt/QrmrRSL9u2kqdfeyIwtrJ2o5bAFt//fBM+thwdPITVHEwfeHzq1H5obFqfGCC9naQRZyilriRxYmNWlysM7o3ltA0chQIBAIng9hP7+dvFV7jARvBkaOzdC4YhyuhB3E5nM+mDKkWuYpUPliXB3OjkaIPHZEZ++NAld+P4irZf3Q2uOFnlP5ZmJcARXtlLj451Hc1dlekvL3Lvx+0wJNOrXShGhJR9DiCfj6YDTSrcrB/M4xrJ7cHXWrOqP5sEXYfek/zf4JXYxR3dkRRpHHcERnU5Tiyu84eLUs/Fp74EVqxri6MxyNInHsiM4+FsUV/H7wKsr6tUbOapEetBgTvj6I6HQrlDO/g2OrJ6N73apwbj4Mi3Zfwn+5C1jgNPKiKOJgWdf65FtMaWCM4M8HYeaxhFz6kF/biEmLzsBx1DeY3CDrQIa3gaKRoUAgEAgEeaPxkQRvE6+3XlNo9wd2VNG9CQ1YnWN5lx48PDaNvK2tyWPI97T/ZDD9sWYk1StTlfpsjNF/5umdQkFxu0dQzRJlqPEna+mP4L/p8KYZ1LayNbm8v5Ei855yyEKeRDfOB9IPc0ZQR49yZCYrR/7zgnMvf3p4jKZ5W5O1xxD6fv9JCv5jDY2sV4aq9tlIMS9cMQ/p2DRvsrb2oCHf76eTwX/QmpH1qEzVPrQx38TllHTjPAX+MIdGdPSgcmYyKuc/j4JzF/A50tBSFHGoUcSfoIVdqlFxCwdq88m3tO3QSTp18hD9vOQj8nOoTL68J+etbBBFJ0OBQCAoLMJ+fjvho6L4f3aQBG8RBgYGrFjN1evHw/2zMGxbSUxc8THq5XviV26SL+/BqtW7cOp6MkzL1YR/v2F4z6e8/jNP7xxKJF7YhTXrfsOZ60kwLuUEn87v44N2znjab63mTTrunNqKb5degc/yueiY8+Hky9izajV2nbqOZNNyqOnfD8Pe80H5l6KYZFzeswqrd53C9WRTlKvpj37D3oNPARNPv3MKW79diis+yzE3dwGLII2iyaeaNNwI+hXb9vyF0Jh4PDGygp1zPbTu2RttXKzermNHs1GUMhQIBIKC87rbWYLCIRyjtxTRYAUCgUAgEAheDMLOejsRe4wEAoFAIBAIBALBO49wjAQCgUAgEAgEAsE7j3CMBAKBQCAQCAQCwTuPcIwEAoFAIBAIBALBO49wjAQCgUAgEAgEAsE7j3CMBAKBQCAQCAQCwTuP6rhu9UeBQCAQCAQCgUAgeDcRv2P0liLO1xcIBAKBQCB4MQg76+1ELKUTCAQCgUAgEAgE7zzCMRIIBAKBQCAQCATvPMIxEggEAoFAIBAIBO88wjESCAQCgUAgEAgE7zzCMRIIBAKBQCAQCATvPMIxEggEAoFAIBAIBO88wjHSB/l9XD4XjvtyzbVAIBAIBAKBQCB4CnLcv3wO4W+Y8fx2OkaKRMRcuYkUzeXzkY4/JzREbW93+Iw/hjRN6LuFHMnxd3E/uWgqtzw5AYmpSs0VXz/Ef2lZ11kUbbqZPI7Ckc0bsTc0HnmlmieFeUYvClpGBeJjonA/VXP5ppGehIc6ZVU+TsTDFIXm6u1CnhyPu/eTJQ0XHG4jDx/nrGkKyF+oqB4j6shmbNwbiviireR5o4hHTNR9vLCqnEf8j6OOYPPGvQh9KQV8mbxk3QkEgoKjvIt/D+7Fb7/9lv1v3wlEJmvueaUokBhzBTeLxnhG+p8T0LC2N9x9xuPYG2Q8v32OkfIe1nSqAKd+G3C9SIwIQxSzsYaZgSmsbSxUv4j7ziDJ8s8FPeFZuSq8WgegQ0MX1PAdhY3hhTRl5JHYOLguKjr5wNejDtrNO4QD//OXGk1zeDtWR7tFp6XXu8TzpisPxeIuXqjv3xn9R07H4m1ncU+3LhSzhSx0CXr5+GN6kJ5xFuaZZ1HYMqZEYN2gOqjgOhqH3ygvXYnY7cNRp5oH/Bt6oM0XJ3B+dW941/NFwxpV0WDUL4h+K/wjJe79uQA9PSujqldrBHRoCJcavhi1MVxvB+Dx8WnwtnNA3QYeqFu/Jbp98CGGD+mFFnVb44uQIh4kyEYx2MpCsaSXD/ynB704h0VDSsQ6DKpTAa6jD7+QAae84i9mK0Pokl7w8Z+OwjdjOUIXd4FXfX907j8S0xdvw9lsHUzhkIcuRhev+vDv3B8jpy/GtrP3JDNFX16u7gQCQSFIP4XF/TujU6dO2f8CxuPnm6/6BSi9u9Z0QgWnfthQNMYzDIvZwNrMAKbWNrB4w4xneqtQ3KHvW5iQzGsOXZRrwp6bDHoU/4jSNFdvAkWh14Tt/am8zIlGHUrQhCTT6ZleZF17KgWnaoIKwMNtfai0iRfNDsuQogqiid4VqZLvDDojxZXwYwBZO4ymo/z5edNVRNNXvg7UfdkhOrRtEfV2tiC7jisoQqc+yCMXUiOZjBouuEr6VpPCPPM0ClbGJLp6YClN6NGQnCpVI682A2n29nBK0Xz7RiC1y+WtLMnvmxukSAujuX7O5NT0YzqSJMk1ajH5FbelbhvvaW5+g0nYTv3Ly8hp1CHK1OzpmeRlXZum6lV50+jvya5komoLCnoY9ivNHdyOGno1pt7zj9E9hea2XCgoOe4yXYy8R/qk8lTkkbSwkYxkDRfQ1SLrP3VIukoHlk6gHg2dqFI1L2ozcDZtDy/Cmpxv/HKKXNiIZLKGtKDQBVRQ9Fe+5NB9GR06tI0W9XYmC7uOtEK3gykEiuivyNehOy07dIi2LepNzhZ21HFFhP59zYvWnUAgyEaB7awnu+n9MibkPv1vSkxOpmTtX0qqZGW+ahR05/sWZCLzojlFZzxTxqN4evQmGc8Sr3zGSB62CTOnrsLJ/+7ixLKPENCsARr4d8XYdefwn+YeLanXDmDxmJ5o2ag+6jdtjwHT1iD4rtqzVd49jG8mT8CESXOwO0oJZdwhfD1Jup7AfxMxbf151X36o8CV7XMxSfX8FMz+Yi6+DbyZaxlVQfL/ZpGOC6cjYNlqOIY2s9GEWcC9fQvYR+zAr+fSNWH6IkfMhXAkFneGWzVjKSpPtPKxhFUdX9QyVSDuxkNUatUCNWVFkK5hGVQql4B9uyPh1m0sZg+sjfu//4KD97K0Z1S2DGyl2q9U6j8yUphn8kb/MqZf24VJ/h5o/2UEKg5YiZNRV3EmcB1mdq2BYpp73ggMreFevwbo0SOQSQ20amKN1MqNUK+4JFd7d7iWeoR//r6gufnNJf3CaURYtsLwoc2QqVn39mhhH4Edv57ThDwLQkL8fyBTc5gbGMLarRumr9mHoDPHsWVyM5TOs8eW48KStvBo+SFGB3jCZ/rJws/AGJVFGXUlL8BshT6k49quSfD3aI8vIypiwMqTiLp6BoHrZqJrjaKoyfrGb4SyZWxhKPXkhW/GhihTqRwS9u1GpKSfsbMHovb93/HLwXu53g8FwbBMJZRL2IfdkW7oNnY2Bta+j99/OQidbuvZvDDdCQSCosTQyAwWFhZZf8VMIVlFBUMehk0zp2LVyf9w98QyfBTQDA0a+KPr2HU4l9t4xoHFY9CzZSPUr98U7QdMw5rgu+p+QnkXh7+ZLNm5kzBnd5TUfcTh0NeTNLbzBEyctl4VRUFQXNmOuRr7e8rsLzD320DczG08659/Pfgv9FcsHD8QXVs2Rj2vemjcqjc+WXoMcYVYZJHna/Zlkh6xD9999Q0+H9AMHeeHoFgtLzikBGHpsACM35slndSQr9DBpyOm77mLsnUbwrtiCo5/8yH8mw7HrjtK0OMY/PPnMRw7FoSIh9L1oyicUl3z31H8eeG2JiZ9USAhIhhH+fkjO7B28WJsOH4n14tP3/y/rihvH8S8UTOw80bOV6kJmsw/jct7x8Jdp8UampnCVHkfd+8W1AQwQIniFsDjBCSo1q+aosU3FxC62F/6RCj3wWYEL+8kGX5FkK4yEXcemMO7eX3JkTFCqZJWKkNIrttADA1zLItMkxzhWRi34DBuPy2JwjyTJ/qVUXF9Cwa1/hhh7Tfi1MFvMaaDG2yf2XsqcfvgPIyasRO51PnKMYXPZ0eweZCdJENjeM/+G9d/7CG5gxIGRjAyAjLSC+psv36YNJmP05f3Ymx2xcLUVIn7d+9qAp4FIUOeofmsL2kIP30VHjP3Yv9XHYCbt1HQGLIwhGGOJQ9p0ktu1rgFOPzMSv6suqfA9S2D0PrjMLTfeAoHvx2DDm62BTQEii5+w9wFxPZZ47Dg8O1c/XveKJF45wHMvZujvuSIGJUqCSv2R7J1MAVHmXgHD8y90by+5LgZlUJJdaS596gpb+PgvFGYsfNGDgeosLoTCARvHOkR2PfdV/jm8wFo1nE+QorVgpdDCoKWDkPA+L2amyRSQ/BVBx90nL4Hd8vWRUPvikg5/g0+9G+K4bskm5YeI+afP1W2clDEQ+n6EaJOqa/57+ifBR+wVCREIPgoP38EO9YuxuINxyGZ6dnRN/96IUfMzm/w/ZGbMLSrCZ+m9VE14xRWf9wObWcEae4pGJrJo1dDyi99yNrAgMzdRtDuW+rpO8XdddTR0pgqDDuguiZ5FH3rX5yMq7xP229r15Io6N6+YVRdJqOaU05lLXN7EUvpHq6hdqYycpt6Otd0p175fwXop1f1spJidWdSSF7zuIp4+vv7YdTcrTo51faihq3ep7mLh1BNmQ31/fWJ+p6Hp+n7wU2ohqN0j6svjd52jZIv/kgjWnhSzWqVyKnpEFpxJlF1a8rO96i0rAqNOqJe7JOacJ0iIq7Tw5zTrHqkq7h3gr4d0pw83NzIxdGBajR9nxYfvyfVCv7yAUVevkNpigT6d8tM6tukJtnb2FOrOYcpVlsnUn6kzpJOG8y7rF6q8kDSmVV1+vivZ8z56vtMWjQFLhhMLT1rUa2aTlSlcg1q3Hsmbb+ss6QnvzIqYmlDQGkyKlaaKlZ1pOquTWj45qv0JHoXTe7YgGo7VaSqXr1p4Z+aMjOqpTTFqO7MkDym5VPo8q+fUo+GkrxcXahalWrk2WksbQh5pPmeSaWIXyZRR08XquFSk5oM/ZHCnzyh0NXvU/0aTuRcsxmNkvSbkfgPrZJk71VbKlv1+tTr80OU1Szv0Ylvh1BzDzdyc3EkhxpN6f3Fx7MtAUuN2k2zejWiWlI+nBxrUKNe/ahZWVm29pIWHUgLBrckz1q1qKZTFapcozH1nrmddEWYG6lPOPEtDWnuQW5uLuToUIOavr+YjusknhrxC03q6EkuNVyoZpOh9GP4E3oSuprer1+DnJxrUrNR2+haRiL9s0oqg1dtcqpSner3+pwO6fY7z0xDQfF/f0/DmrtRdafa5NWwFb0/dzENqSkjm76/Zt7z9Die0O73y5DM6QP6ct5Aat3Ii9yk+u3W4kNacSohS9c5SA3fSCO69aN+LRtT/y9305k4TfvMQf5yTaEfO5uSrME8uqyu5LSuoxVV//ivZy8lfkbdU8RuoIDSRlSstFRnpX7Ctclw2nz1CUXvmkwdG0gyrliVvHovpD+fvk6wSONP+bEzmcoa0Dx1AaVm3JGsqn9M2Zvxs3SkoAeRl+lOmoIS/t1CM/s2oZr2NmTfag4dzuxg1Dw8/T0NblKDHKs7kavvaNp2LZku/jiCWnjWpGqVnKjpkBWk6R6lbiuSLt9JI0XCv7RlZl9qUtOebOxb0ZzDsdmW06mW9BarSzNzddqF1J1AICgUBbafVUvpjMjEurz0Xncm93p+1GXo57TjUpLmhgKQ8gv1sTYgA3M3GrH7lrqPUNyV2rwlGVcYprqFbbyob/2puHEVen/77cz3h+LePhpWXUaymlPoVGbn8CKW0j2kNe2kPsltKp3O1V3pk3/9UShyvD/kV+nLJmZk7DROE6A/r4djZFyBhu7XsXjSjtNYJ2Mq0WOr6lIRu5Sam8nIfcb57C/FjDCa7Skpt/4XFK7V46twjPLJ/6tAX70qbu2hcT5VqFa/pRSczTCRU8TSVmRr4UHjD99VNSjFw1D6aVhdKmGkMd6lireiXRmybjyHziQp6EnYAvJ1CqC+rerTJ0clIy7jGm3obk8yu160JU5BiutLyE+SY6M5v9GqgY2pbgM/auJWloqX8aTBP1zQ7JnRI93kIPrUqxS5jwmk26xj+W3aP8qVTMtJ6dzVlCHpLH0b4Ej2jSbRnuhUSg5dQV0rW1DlgFV0iTuCnE6OVJcW+dqT3+JI9XVe6PNMahgtbW9PpRpNocAbagcwLfYQzWxmS7Kyben7cK5B+ZdRHv4FNTAxIBPXURQo6SXj2irq5NyFBgZ40eBdd6ROII52DqpOJrZtaXmkNnUF3dozjnyq1KJ+S4N1nBE5Ra/vSvaWnjQ2MFZdhx+F0eoeVUhWpiOtjuLnpU5xxyByLOZMIwIlZ0t+gzb3dqbm06dTu/pj6OADKQ9RK6hjnUE0a7g3tfk6VNJXBl3f2JPsZaWp15YHUhzJFPSpF5VyH0OBasXQ7f2jyNW0nPS9ppw3tlC/KlbkMfYAxXFGMh7Q6RV9qUaxrIGE1LCl1N6+FDWaEkhqEaZR7KGZ1MxWRmXbfk8qEeZBctCn5FXKncYE3lbpQ357P41yNaVyvbYQVwvFnR00yLEYOY8IlGQjpxube5Nz8+k0vV19GnPwgVRfo2hFxzo0aNZw8m7zNYVKFTLj+kbqaS+j0lIc+qQhj1hKrWwtyGP8YdW1pFgK/WkY1S1hlOkYPTsOtWNkVMyVBqw+S/F8Q8Zt+mNsXbIo6U9LLuZd+EdBcyjgvXn05UB/em/2bOpV14Vaz5RknFkH9JVrTuM6g8IW+ZK932LKrGZ58vS6F/5FAzIxMCHXUSz3DLq2qhM5dxlIAV6DadcdqV+I20mDqpuQbdvlz0ij6OLP6RhlhC0iX3s/WqyTeH565n1/Z78NIEf7RjRpTzSlJofSiq6VyaJyAK1SdTDSM1dXULsy1tR4zhlKkvQatsCXnAL6Uqv6n9DRBG7TG6i7VLfspDi1eko6+y0FONpTo0l7KDo1mUJXdKXKFpUpYNUlncG/W7RnnA9VqdWPlgbrDIwUWncCgaAwFNh+lmym376ZR1988QV9/tmnNPb9luRkaUiGJf3oy38LuDtU5VhI782h+zW2E5NGx8c6kXGJHupLRSwtbW5GMvcZdD7bq0PqG2Z7kkxWn77IMp5fgWOUT/4LizyDMtKSaM/A8mRsN1gTqD+viWPkQKN5172WtBM0TnIsinfbrL48OZFqGJtTlx+TVddZJNPGgGJk7DiGjmnfGq/EMXp2/l8FBdJrRiwdXdiNXB39aOp+zehkWhCNd5JRiY7rSHdLfMa/s8hDM6uRdmwMOcpsqc82zawDH3rQ1JJKeE7NHIXIODON3GSm1OzrayRPO0WTXSVH1qIKdV4apm4MkjG6skNpMjRxoXF/SiF6pPtgQxeyMvOn72KzTIKM8zPIXWZF3Tbx8GsiHRhRjUzK9aBNOpZh4sGRVE1WgvyWXCV5TidHQh69hjq7tKNlT7O8831GTte+a0GWJp4069/sccgjF5OfhRGV7b9drzLGr21P5gbFqNX3sRrDJ57WdihJlk7D6Q9NVZOHf071ZTKqk2MUPSP2KC3s5kqOflNpP49gqwYQTKjseztId35IHrVIdZhEgy8uS/eE0EwPGZk2+5qiNSJLPTqaatpVoNYLtBvAH9Cq9hXJvtZg2qPtyZ7soP6SYV1l5GHp6w3UxcqM/L/T5lki4zzNcJeRVbdNklbSKGi8M8lK9aZtmlFyFWl/0hhHzYyR/Bp918KSTDxnUXYRyilysR9ZGJWl/tt1H9bygDZ0sSIz/+8oq1pk0PkZ7iSz6kabEjMoZKYHyUyb0ddZBaTRNe2oQusFmQdzPFjVnira16LBWQWkHf0lp7bKSOlzfmlw+ZxIVqIjrcuuWJolyVbtGOUXh2bGyGUS/Z1pCUs8WE+dLY2p4od/aAKk+nx+PU2Zso7CkuNpfWd76r0thVJ+7UsO/X6lpOgfKKC8JdWZeFh9CITecs1pXEvIo2lNZxdqtyw8V/+Xk1x1j+tte3MyKNaKvtcWOH4tdShpSU7D/9AcFCE5N5/Xl17SdfKYBclOUcSf0zHi76PXdCaXdss0zmF+OpJkf2AEVTMpRz02xWXV9cSDNLKa1K79ltBVeRodG+NIMts+lNU9fkVNLUuQ51TtCocMOjPNTV0nr0l5STxAI6qZULkem3Qc2kQ6OLKaVKf8aEm2ExUyKPboQurm6kh+U/drZsKfT3cCgaBgFIX9nBQ0kWrJjKj84L3S26YAaBwLh9FHdQ7cSaMT4yTHong3zeVJmljDmMy7/ChZy9lJ3hhAxYwdaUyW8fxKHKNn5r8ApEbupBk9GpCjrTkZGxiodMN/huUL7hi98j1G+mBoYgITAwUep6RkXwOuTEFSihwGFpawfCNK8ppibAffiT9j39TiWNu3F74Kk0MZfx4hMYTyTs6w0tyWHSXunA/FTVRE9erm6iBDW5S0SkOqeUmUMlIHGddwQTWZHDFXr0Fu4oZG9W0B65YYPsRNfXiAsQP69vNFiYyr2LPzHFL1SDfpQQJSLexgXzJL6YZ2dihr8Bh3bycA/wVi7ZZo2LTujy7ls+6xatoPnR2e4OTuwNzrXSWMqvTBUJ9/MX3kMlzRc49O9mcScTgwCI8rNUbzGtl3OBhV6YA27oaIP3VCD9kq8DA+EXLDcnB24Y3iTDHYWANPzEtlytaokhMcLJS4HhmVbR+CsZ0vJv68D1OLr0XfXl8hTGEMc3MzVHCoBo2mVBiVLgUbKfKUlGQpTycRfFGJ8m51oBWZcbnyKH7/AczK2UOdpDlsLJNwD+VgZ6IKAAx4/4wBiluVgDLpARJSLWBnXzJr86KhHezKGuDx3dtISL+JoL+vAVVc4Vpc831OEg8jMOgxKjVujuwiNEKVDm3gbhiPUyfCNGE6KJPwICEVFnb2yKoWhrCzKwuDx3dx+8E9nAy+CGV5N9TJKiDKF7+PB2blYK+RqbmNJZLuAeWyCggzU1MYFJc0pUca50NiQOWd4Jy3YvOPI+EpFa+EM5zsgTuh/6guFVdWom/7+XjcugfcLIrDrYEDTn7aAs1n/AvvFnVhXuU9zB3tisvfjMH84LTCy5UxqoI+Q33w7/SRWJZPw8hV99IeIj5RDsNyznDhgwEYPsIVT2BeqpSmXhmhkpMDLJTXERn17H06LyZ+SQZ9hsLn3+kYueyKHjpKQODaLYi2aY3+Xcpn1XWrpujX2QFPTu5GYFwczofeBCpWR1b3WBJWaakwL6nNlzFquFSDTB6Dq9fkUre1FluibdC6f5fMNihFiqb9OsPhyUnsDtTd42oMO9+J+HnfVBRf2xe9vgrLvReJKYDuBALBy6e4R1N42xIS4m5LvVYRYyjZziYGUDxOQUp24xkpSSmQG1jA8m0wnlOPY3rHXph/pgze/24vTvwj2Vghp7G8W+ms/rkAvBESMa5WE04WCpw/egQPdZSrfHAQh/5RorRXfThrX/aGMhjLDCRBPUaKakJM8FSUCYgIj9W8UNk4GIJ2pqewYdM5ID1dFZ5rozJjYAyZDDA1k0lmYzrS0rVKMUe9QfMxf5QfSmsMTZAS7H9b2VpLKZihfiNPmNwLwdmorJe0sYUFzKRkjI0lJeabriEq9RiND1zModB5zxtKhr/U/qGQK6BIiMWdFANYlSyZfQO26tQmAygfJSIxD8eIDwioWtUOKSe24ze9Ty/QeSYmEY+SFZKvYAHznC3LyBa21oYghVS6fMtoBBtbG8gkBymrjDLU7vsZ5o9riwqZcSsgVxrA2sZGdSiEMiEC4bFqbaoMoiHtYHpqAzaFOGDs1v2Y07ZMtgafHhqGK6iEZs1dpPaSijSpvSh0N5DLTGBuZi45Btp8GkJmai45QlIb04TIr5xBSJIbunZ1h2GlHhj9gQvMsysGZmrFQEFP8IR/YEX6LM+jbRoaGkk26SMkKyRnxMI8V+dkZGsLa0PKnkcthpXQY/QHcDGXZKYJ4vyam5lIsuEfRk1FqrqAOgakDCZSvTE3kxwfTYihzBTmkiMkyyogzoQkwa1rVz3SSEe6WrGZ8WVhIPVLUqPJNw5uB9rGo4OhKUxZjioSsP1/s3CodA8MbMwepgk8pxzFhaM/Ycvxc9j6gYPU1ozg3DMAHnQZm9YdwePCylWDadWqsEs5ge2/3dCEZOfpdc8CtjZSuaU6kVleWW30/Ww+xrWtkJUXSS9KA2vY2OSWHPOi45cKiKp2KTix/bf8dZSegNg7KTCwKomS2TsY1Yl3BspHSEyUwYzfQ+lpyOoe62HQ/PkY5VdaulMNKQlkaCX1DZJWY+8gxcAKJbNHqj4N00CJR4mJkjmjREJEOLJE0QdD2pni1IZNeNqBnfnpTiAQvDrkUSEISzBE5Ro11IcRFSXG1VDTyQKK80dxJLvxjIOH/oGytBfqZxnP0nuPbbpUPH7DjGf5hQP4I5LgPeIrTOvjj/p13OHu7gBLqd8sDDnfka8nVu0wqFdlJO6chA8W7MelOwm4c/E3zBkwGXtSPTD8o1Y6RxcXh0uNyqDLW7FoVRBiEhIRf/MigkNjNd/riTIeIft+xpYtW7Bl5z+4q5ReTBGH8TNfbzuKyDf+F/Qe48/Jvui45ELWy9+4JGysDJAmWa+GZV3hXAa4HRkF3R9BVv4nGf8GdqhUyQS2jRrDzeAGwkL5hc0Yw7XLJxjX2xMlVNeSXXDpEq7CGe061pK+NYRtw4aoiUsIPhmfOfqZlpCAJIMyaNisNszyTVeKpWJ3rDi+Ct11exEDg8zKbFTKDmUtlIgLv5T9V+DlN3HrDlDS1Q2VTYqjhIUBMtIzVPOtahRITpZSNbZQfZcLw3yeKVEeztVsQXFRuJZz6Ecei9i7BCuPBnrI1hhWjZvBw+QerkRo5WQEx7ajMG5Aw8wjm+VR4YhKs0erjvVg+vhPTPbtiCUXskw545I2sDJIUzkjxvaN0LZ+WUlGSYg5F4Tjv6/HxCn7UGHaOsxuVgyG5T1Qp6IB7l4IgfZ35owcx+PoowRs7aVtXWbo/EMcks7MUp+ml3IOy+YGw+v7TZjqZSLJpyK6rziOVdkVAwOtYowrw6W6JZTXr+CKrnzosZRHA5SSDEAe+a9mS4iLupZr9EweG4u7ZAWPBrU1IboYomL3FTi+qnu2l4uBNnHD8vCoUxEGdy8gJKuAGH/0ERK29srsP8w6/4C4pDOYpS4gzi2bi2Cv77Fpqpd0nV8aZeGqViyisisWiY8MYFepknSRTxxSK6lQoTwMUx/jse676YlUp2IJpV1rAcmHsfPAfZg51YRTpg1thBJ2jqhia6q5lkIq1IarlJ1758/gWil95WqI4iUsYJCRjgyd9BXJyZI0jGEhfZeLZ9Y9KzRu5gGTe1cQoW2MktzbjhqHAQ21o3lyRIVHIc2+FTrWy8p/JkUcv2HxErAwyEB69gJC3Yy558pHR0alYFfWAsq4cFzK3sHgprqDgVvVsmjU2A0GN8IQqh2FMXZFl0/GobdnZu+IS5euAs7t0LGWKUrZlYWFMg7hl7L6RkZ+8xbuoCRc3Soj/c/J8O24BFmiMEZJGysYpD2RzJlC6E4gELw8kqJw/nwk4uIT8V/8dZzbvQjv9VyAkNKdMG2MD7TrFIoOK7Qb1AuVE3di0gcLsP/SHSTcuYjf5gzA5D2p8Bj+EVrp/JpBcZcaqEyXsXXRKgTFJCAx/iYuBodqvtUXJeJD9qlt5S078c9dJZSPInD4Z77ehqMvwHg2sOH3gRJRf+3FP7fjcfPcDnzeqylG7UrUsdUKhmZV3atB7z06iafp2541yMpIu3bQgEzsmtL4nTG51k4rbmynEXWsychAvcaQ7zXr8pPmWz1JC6IJzsaa53P8mWTtb3lj9xhpNuVZd1hDtzTr2R8dn0C1LJxp7DHeX5FG/3xWn0pY+dKiC9o1qAl0YLgTFff6TH2KneIO/dK/Elk1WZR1+EU2HtHBkc5Uud0kmjNpCq2/ID2Udky1n8Ru8H7NutI0Cp7kQiaOo+moaoGtHunmRdJ66mSq/vFVvn/XwIpkbFKDhv2m3QPAm+17UQXrRjQvRIpXcYtWt7emYvVn0z/a7STJf9O0OqZk034VxWSu8ddBj2eeBE8jd/NSFLBeZ++BREboZ1SvVEOa+w+XWh/ZPqA9g6uqZJu5XyAbT+jvKe5UMWA9RUvfqw8osaYOa25p0n1ExyfUIgvnsaRSp5aMC7RudF/q0dGHHByb0rit2h+KVR8IUVJWlQb8qrNH6FnwBkfNx6eTROs7mWb+6GTKXxPJzdyGWn57WZICo6AH+4ZRNQsPmnmWY3tCwdPcybxUAK3XPTlASin0s3pUquFcUolQT5LWdyJTzY95qg5GKCmjqgN+1dk78izklJF/AbOlkfbPZ1S/hBX5LrqgKZ+k2QPDyam4F332jP0zunFkhHxG3sUdaNBu9YEVXF8uf9OCbIrVpU//TiX5tS+pscxQtWfpmWvSVXvZjMnYaTwFpekrVwXdWt2erIvVp9lZlZz+nlaHTG3a06o8GkZ+dU/xYA8NrmpFTRZl7c3LxpO/aYp7RanNROf5fVHHr7i1mtpbF6P6s//J3PSb/Pc0qmNqQ+1XxWhCcqOro4RdA6misQnVGPZb5n4g+Y3N1KuCNTWaF6LSveLOL9S/EucrPO98PTpII50rU7tJc2jSlPVSRdlFAysak0mNYfRbVqS0uVcFsm40j0LSFBS7tDmZWXegNVmdNk2oZUHOY49JZSm47gQCQeHJ187KgXofcZYtaWBYghxafEKbLubcAaQHeu/RSaTT3/akGlZGZKBN18SOmo7fSTE5X0mKG7R9RB2yzrSzpXvNumi+1Jc0CprgTMaa57P/mWTtQS7KPUaKu7TvE4+sfBuYUeVWM2jVxPpkWog9RlIcr9YxKhgKehRzlo7s30sHTlyiu1rLIy8Ujyj69GHau2cv/fHXPxT9UA8L5y0if70q6M6+8eRtKzVM3740eEBbcqvkRn1XhGRt0su4Rts+qkflytelzgOH0nutXKhCzf60OkzHHEs8QZ/5OZP/IrUxkIX0Et85hDzdOtPEpVvpYPAlUp8gnES/9LUlE+3hGPJL9Hl9a2q8UMd4yC/dxBDaFZhjM7HKMTKhpl9Hqy4VCSfpy65OZGlRiXy6DaRBXRtQNaeWNONAlsOSFv4D9XexpjJ1OtP7g/tRa9fyVNlvCu17htWc/zOpdHnTcGrgHkDL+FgzCUXCXzSnR9dsaesl20enaGEbF/L9/HSmAadGciYOTST/ljPpWLwmRslJ3Tfem2xLOJBv38E0oK0bVXLrSytCNNp8coMuR+seCaqg+AMjyMnEnnptjtUExdHesZ5kbVmTBqw8SwlPF8NTSKSQXYGaDexa1I6RSVPtoQ5P6NL6wVSnTHny6PQ+De7jR052rtR3JZ9ypyH1Mm0a3oDcA5apTobjvCb8NYd6dJ1BB7IZ9dlJDNlFgTkOzlAZsyZNNQcuKChu71jytLakmgNW0tmCF1CPNDLo2raPqF658lS380Aa+l4rcqlQk/qvDst0YvKPI4XCVvWjmnbVyK/PYBoU4EV2pWvTwPWXVC8QxZ3vqaWpAZk0X5rt1LlcpB6gYRWMSOY9V93W9JVrWjj90N+FrMvUoc7vD6Z+rV2pfGU/mrLvKQ5zfnVP4tGphdTGxZc+P529JvMAwKGJ/tRy5jHSVuVcFHn8aRT+Q39ysS5DdTpLdbBfa3ItX5n8puzLdJjz1ZEigU5+2ZWcLC2okk83GjioKzWo5kQtZ2Q/CTDxxGfk5+xPi3gwRhdFLO0c4klunSfS0q0HKfhSHAdSwskvqauTJVlU8qFuAwdR1wbVyKllln4Ud/bReG9bKuHgS30HD6C2bpXIre8KyhRFQXUnEAgKTYHt59Q4Cj1+mAJ/202/HfiL/r2V/NLapeJRDJ09sp/2HjhBl55tPNOj6NN0eO8e2vvHX/RP9ENN+OtOBsVfDqIDew/Q8Yt3c9ijBeMNc4wE+qKvXhVJMXTm8D6psQRRREJ2Q0CNgpJiztDh/fvp8OlrlJjX0GfqDQqP1D3vTE1KTDhdy7JdNCjo9orWZGEZQD9J7S0j9H/kXW0w7c3V9p6SrmQkbe5pT7VznhB4byW1NjWnDut0I5JLDTzLkb6XV0vJiKeIk3/Q3r1/0Mnwe/o1Jn2eSb5FIWG3VN+lxkXTrRz2mho9ZJsRR5cjc/9+TVrsVcrm56jQxLdPKm9QBGWqUxFDazrakd/imOzxpP1Fn1Q3JrMWyzQBzCMK/XE0NbO3JDufwbRw90U9HSTJ0d7ck+xr5zx95h6tbG1K5h3Wka5mFI+i6bRU7/YdOkVReRacRRhCYbdUEqS46Fs5nMPsKO5spp72tWlqjqNv7q1sTabmHUi3WjwK/ZFGN7MnSzsfGrxwN13U00EqSBrqdrWf9h8+Tdd0yleQOORaGR0MpsiHOjJKC1adNGRo24O2xGvC8oCPx/c1MaKKww5km1nST67SSybiJP2xdy/9cTI877aTjafUPR0y4i5TZC5Zp1Hs1WjJfc6Poo8/Iz6CTv6xV3r5n6RwnQIWVEeZxsZThJR6I5xyd48pFBN+LddJUSrkjyj67BHaL73gT1zKo39RJFHMmcO0T/o+KCIhez+ooqC6EwgEhUHYz28nwjF6S3md9Sq/9DnVM3ehScHJFDy5HrXk47M13+VLaiANtTfJdXR6xtlPqbZpdfrkWT/Q+q7CR2qXNKVGi6Kyy5mPq3aQHKNWyzUBOiT+S5umdicvOwuydmpJwxZsp38fPEtLqRQ41J5Mch7LmXGWPq1tStU/ebE/MpkaOJTsTdxyGLMZdPbT2mRa/ZMcP97JJNK/m6ZSdy87srB2opbDFtD2fx88sx4WPI3cFEUcfH/o3HpkblicGi+4kK0dZCGnqCV+ZGFSkyYHF2DtoaCIdCQQCN52hP38dqLd8SsQvDSMHJuhccU4XAk7iM3nfDBlSLXMU5ryxbg6nB2NEHnsCK5mbkBW4MrvB3G1rB9aexT99sU3HuMKqGinxMU/j+Kuzq7ulL934febFmjSqZUmREs6ghZPwNcHo5FuVQ7md45h9eTuqFvVGc2HLcLuS/9l2xyuxhjVnR1hFHkMR7IUA8WV33Hwaln4tfZ4ARtLszCu7gxHo0gcO3I16zARxRX8fvAqyvq1Rs5qkR60GBO+PojodCuUM7+DY6sno3vdqnBuPgyLdl/Cf7kLWOA08qIo4mBZ1/rkW0xpYIzgzwdh5rGEXPqQX9uISYvOwHHUN5jcII8DDQRPpWh0JBAIBII3FY2PJHibeL31mkK7P7Cjiu5NaMDqHMu79ODhsWnkbW1NHkO+p/0ng+mPNSOpXpmq1GdjjP4zT+8UCorbPYJqlihDjT9ZS38E/02HN82gtpWtyeX9jRSZ95RDFvIkunE+kH6YM4I6epQjM1k58p8XnHt50sNjNM3bmqw9htD3+09S8B9raGS9MlS1z0aKeeGKeUjHpnmTtbUHDfl+P50M/oPWjKxHZar2oY35Ji6npBvnKfCHOTSioweVM5NROf95FJy7gM+RhpaiiEONIv4ELexSjYpbOFCbT76lbYdO0qmTh+jnJR+Rn0Nl8uU9M6JBFIKi05FAIHh7Efbz2wmfScz/s4MkeIswMDBgxWquXj8e7p+FYdtKYuKKj1HPTBNYAJIv78Gq1btw6noyTMvVhH+/YXjPp7z+M0/vHEokXtiFNet+w5nrSTAu5QSfzu/jg3bOeNpvreZNOu6c2opvl16Bz/K56Jjz4eTL2LNqNXaduo5k03Ko6d8Pw97zQfmXophkXN6zCqt3ncL1ZFOUq+mPfsPeg08BE0+/cwpbv12KKz7LMTd3AYsgjaLJp5o03Aj6Fdv2/IXQmHg8MbKCnXM9tO7ZG21crDTHVQsKTlHqSCAQvI287naWoHAIx+gtRTRYgUAgEAgEgheDsLPeTsSAokAgEAgEAoFAIHjnEY6RQCAQCAQCgUAgeOcRjpFAIBAIBAKBQCB45xGOkUAgEAgEAoFAIHjnEY6RQCAQCAQCgUAgeOcRjpFAIBAIBAKBQCB451Ed163+KBAIBAKBQCAQCATvJuJ3jN5SxPn6AoFAIBAIBC8GYWe9nYildAKBQCAQCAQCgeCdRzhGAoFAIBAIBAKB4J1HOEYCgUAgEAgEAoHgnUc4RgKBQCAQCAQCgeCdRzhGAoFAIBAIBAKB4J1HOEYCgUAgEAgEAoHgnUc4RgKBQCAQCAQCgeAl8RjxsTdx+2Ga5vr1QThGAj2QIzn+Lu4nyzXXz4c8OQGJqUrNFV8/xH9pWddZFG26mTyOwpHNG7E3NB55pfpSUMQjJuo+UjWXz8ULK09B5a9AfEwU7hdJoV42jxF1ZDM27g1FvN5CLMwzrwFFWfeeg8dRR7B5416EvlHCEwgEAsFz83g/Rrs5oPGsYLxurpFwjARPR3kPfy7oCc/KVeHVOgAdGrqghu8obAwvpEklj8TGwXVR0ckHvh510G7eIRz4nz/cfZrD27E62i06LZmaEs+brjwUi7t4ob5/Z/QfOR2Lt53FPYXmO6aYLWShS9DLxx/Tg16NeZgSsQ6D6lSA6+jDz98pFHV5Civ/lAisG1QHFVxH4/DrNwiUD8VgKwvFkl4+8J8epKfTUJhnXj1FVvfya2f5UMxWhtAlveDjPx2vqBkKBAKBQJAN4RgJnsrDXePRZ8a/8FkXistnT+JUaAh+anYao3t/hr8LYVEl7pyJcRuNMeKPiwg5swJuOwfhwz8bY8PZf3BqnjuCV2zEaSne507X0BL030NU6j4GA/1scHqmL+oGrMSVTKPNGg2H9kLdjHD8FXQLBbDlno/kSPy+bCJ6NnKGa+dtMO0xHV+O8oGp5uvCU7TlKZj8kxH5+zJM7NkIzq6dsc20B6Z/OQo+z1+ol451w6HoVTcD4X8F4ZaeQizMM6+EF1H38m1n+WDdEEN71UVG+F8Ieq2FJxAIBIJ3BeEYCZ5COi6cjoBlq+EY2sxGE2YB9/YtYB+xA7+eS9eE6YscMRfCkVjcGW7VjKWoPNHKxxJWdXxRy1SBuBuSgdWqBWrKiiBdwzKoVC4B+3ZHwq3bWMweWBv3f/8FB+9lLdkxKlsGtlLtVypfhkGWjmu7JsHfoz2+jKiIAStPIurqGQSum4muNYpp7nk+iq48+ss//douTPL3QPsvI1BxwEqcjLqKM4HrMLNrDRRNqV4yRmVRRi1E/Z3LwjzzUnmBdU+PdvZsjFC2jK30ElLipTRDgUAgeIv4L/RXLBw/EF1bNkY9r3po3Ko3Pll6DHFFvPvgxWEAY2NDPAhagbE9W6ChTzMEjF6JUwmvdnm1cIzecZS3D2LeqBnYeSOnZWKCJvNP4/LesXCX/BgthmamMFXex927Ba24BihR3AJ4nICEFL42RYtvLiB0sb/0iVDug80IXt4JpQ2LIF1lIu48MId38/qSs2CEUiWtVMaXXLezMDSUcqRLGq5sn4VxCw7jdpG2SQWubxmE1h+Hof3GUzj47Rh0cLOFTtGKhiIrj37yV1zfgkGtP0ZY+404dfBbjOngBttnFUp5GwfnjcKMnTdeUweCMYRhdiEi7cp2zBq3AIefKkR9n1Hi9sF5GDVjJ3I1tefiWfG+4LqnTztT8fQ8GuYWHrbPGocFh29LTwkEAoEgb+SI2fkNvj9yE4Z2NeHTtD6qZpzC6o/boe2MIM09rzuE1NMz4df6UxxJqwoPZ+DsqlHoOHA9Yl6hofAWOUZynF/YHu5ubnDL48+9/QKc4xe2/DwWtnfP8x43N3e0X3BOiuldQYHojbMxN9gQDnZGmjAdlAk4tfxDtKjlBGd3bzRq/QEWHImVTG7iAXI1iWewfEhTuFST7qnphzG/RCPl0k8Y2dILbtUrw7nZUKw8+590oxHKV3eAtSIcIaHq9VhpD2/gypUbSEw3hq19+axZBj3SVd4PwndDW8CzVi24VnOES7MPsOTEfY0xZYq2S8/j4ITKuLR1Fkb/dBOlLK5g/4ZjiHtaY4vfjAmDt0DZsAnKP7NVJOLM8iFo6lINTs414TfmF0SnXMJPI1vCy606Kjs3w9CVZ8ElZpRxmzD2462Ie3IRy/rWQ82mI7AlMhUxu6egk487nCs5wLvPIvx1X8cMTI/BgYVD0MqrNmq7OaNqFRc06TMLOyJUO7D04ynlSY85gIVDWsGrdm24OVdFFZcm6DNrB7JFnZ/8lXHYNPZjbI17govL+qJezaYYsSUSqTG7MaWTD9ydK8HBuw8W/aXVh1TTojdi9txgGDrYSTUhB48jsH1GTzSq5YqartVRtboXOo/7Ef8mab5nJIP518md4OXqAle3phj202WkpoZhzQcN4OJcA26+H+GXaDn+O78aQ1t4S3moCqcGvfHF4Ts6BnY6Yg4sxJBWXqhd2w3OVavApUkfzNoRod7blot4bJ4wGFuUDdHk2ZVCh6c8o4jGxtlzEWzogLyaGv4LwY/jOsOnTm3UdHZCndYfYe35RCSGbcGMPv6o51kL1aS6UqftCCw7mSXXZ8VbqLqnd3tm9Gxn+ZVdh/jNEzB4ixINm5R/m15OAoFAUMQYo9aMPxFz/hB+3bAS33z9HX46dBCfNSJc2rFDc49+yM8vRHv3vGxi6c+9PRaojWf9bOwCocDN0zfh+X0QTu9ejaXrf8fPY5zxMHAZNlx6tZY4vR3IKfq3RTR18mSanMff1IV7KFrOt0XTb4um5nnP5MlTaeGeaCmmNx999aq4tYfG+VShWv2WUvA9hSaUkVPE0lZka+FB4w/fJf5G8TCUfhpWl0oY2VDfX59It1ylFe3KkHXjOXQmSUFPwhaQr1MA9W1Vnz45mkCKjGu0obs9yex60ZY4BSmuLyE/Uxk1mvMbrRrYmOo28KMmbmWpeBlPGvzDBUrRN93kIPrUqxS5jwmk2yqd3qb9o1zJtJyUzl1NGZLO0rcBjmTfaBLtiU6l5NAV1LWyBVUOWEWX0qTvU36kzlJeGsy7rNZ3Rhgt8rUnv8WRz9C/nK6uaEdlrBvTnDNJpHgSRgt8nSigbyuq/8lRSlBk0LUN3cleZke9tsRJeZdT+BcNyMTAhFxHBdI9/n5VJ3LuMpACvAbTrjuSTOJ20qDqJmTbdjlFcsKpYbS0vT2VajSFAm+kqlJNiz1EM5vZkqxsW/o+PEMVlgs9ypMatpTa25eiRlMCSR11GsUemknNbGVUtu33pI46f/nLw7+gBiYGZOI6igKlOpNxbRV1cu5CAwO8aPCuO6RQxNHOQdXJxLYtLVcViiO5RXvG+VCVWv1oafA9VbwqpPa4vqs9WXqOpcBYddkeha2mHlVkVKbjaorixxV3aMcgRyrmPEKVnvzGZurt3JymT29H9cccpAeSXKNWdKQ6g2bRcO829HWoVJMyrtPGnlLdKy3ViQccayqFLW1P9qUa0ZTAG9KVRFosHZrZjGxlZant9+GUIdXAHzubkqzBPLqsFiKFLfIle7/Fat3kib7PKOjWnnHkU6UW9VsaLNUFTTCTFEyzG5akClw3uREokih820fk7VCVKpepTSN2xUiakoLjT9FX7cqTcXFPmn4iSfXo0+MtRN0rYHtWkV87U/H0sqf82JlMZQ1onlp4UrVdRL72frT46QIXCASC14LXyn6WZ1BGWhLtGSi9I+wGawL1Qx79Gy2ampdNLP1NXSj17aoXhH42tr6k/EJ9rI2o/Ps7KVETxKQeGUVVjYtR5/W6oS+Xt8gxEuhSIL1mxNLRhd3I1dGPpu6Plaq/RFoQjXeSUYmO6+ie6iY1Gf/OIg+Z2kBOOzaGHGW21GfbI/WXimj6qqkllfCcSqc0RlHGmWnkJjOlZl9fI3naKZrsKiOZRRXqvDRM7QhlRNHKDqXJ0MSFxv0pheiR7oMNXcjKzJ++i82ysDLOzyB3mRV128SNKZEOjKhGJuV60CatASeReHAkVZOVIL8lV0me05GQkEevoc4u7WjZ05yPtGM0xlFGtn22kbrECor+qilZlvCkqVkFpmluMjJt9jVdk8fT2vbmZFCsFX2vzWv8WupQ0pKchv+hNs7ZgP28PslkdWhmSCpd+64FWZp40qx/s+dBHrmY/CyMqGz/7ZqQHORXHvk1+q6FJZl4zqLsUcspcrEfWRiVpf7bJdnpIf/4te3J3KAYtfo+VuPgSOXsUJIsnYbTH+pCSc7T51RfJqM6M0MkV0FLBsUeXUjdXB3Jb+p+ipUymhE2mzxNytJ7OzR1SIWcohY1kmTSgL6QDOaMkJlS2lyHojXppdLR0TXJrkJrWhChKe2DVdS+oj3VGrxH42ATPdnRX3J6qtDIw6lS8b+jFpYm5DnrX538SMgjabGfBRmV7U/bE3M6Ofx9NK3p7ELtlrHjlBcFeyYj9igt7OZKjn5TaT8LQCrr5UVNqJh5U/pK1xnIOEvTa5tQmb6/0ENNEKO4sYLaWhmSZfvVmhA1ueMtaN3LKHh71qedacKY3HnM7RhxnqLXdCaXdss0jrpAIBC8nrxq+zk1cifN6NGAHG3NydjAQJUf/jMsXzDH6JWgcoyMyWH0Uc37SI3KJpCZSO+PG5qQl89btFpBjrNftIRz9eqonsefc4vPcYb3jcvP4ouWznneU726M1p8fgYFPVbgjcfYDr4Tf8a+qcWxtm8vfBUmhzL+PEJiCOWdnGGluS07Stw5H4qbqCjJzVwdZGiLklZpSDUviVKaJTPGNVxQTSZHzNVrkJu4oVF9W8C6JYYPcVMvnTN2QN9+viiRcRV7dp5Dqh7pJj1IQKqFHexLZlVfQzs7lDV4jLu3E4D/ArF2SzRsWvdHF53lTFZN+6GzwxOc3B2IOzqrh7QYVemDoT7/YvrIZXmerKW8cx6hN4GKUl1Rl9gQtiWtkJZqjpJZBYZLNRnkMVdxLe0h4hPlMCznDBfeoM8Us4E1nsC8VCnNkjIjVHJygIXyOiKjHuBwYBAeV2qM5jWy7wQxqtIBbdwNEX/qhCYkf7KVJ/4wAoMeo1Lj5sgetRGqdGgDd8N4nDoRpofeFXgYnwi5YTk4u/DGeaYYbKyBJ+alMvVuVMkJDhZKXI+M0lmaagw734n4ed9UFF/bF72+CoPC2BzmZhXgUE1Th1QYoXQpGynuFKQkKxB/MhgXleXhVke7vMoY5coXx/0HZihnr0nQ3AaWSfeAcnYwUYfAgPdFGRSHVQkjJB4ORNDjSmjcvEb2PTZGVdChjTsM40/hRFgeLV/6vs9QH/w7fSSW6Xvc2jOeMbbzxcSf92Fq8bXo2+srhKXH489DUp9TyRsNKmrKIqG4dhCHwwnV69RFCU0YY2jfEW09jJFy/m9NiJpc8Ra47qUXvD0XsJ3lymOeKyWk+thnKHz+nY6Ry65owgQCgUCQjdTjmN6xF+afKYP3v9uLE/9I7+6Q01jerXSBlyHLz36Bls552cTSn3MLfK42nvWzsZ8TZXIyHktv6eJWum++l0tB5fcaY4Cy3gEYMGBA3n9d66Esv9wNysI7II/vNX9d65XVGA3vAMoERITHagxXNkiGoJ3pKWzYdA5IT1eF59oczRgYQyYDTM1kktTTkZautX7MUW/QfMwf5YfSWiGSEux/W9laSymYoX4jT5jcC8HZqCyD0djCAmZSMsbGksmab7qGqNRjND5wMYdCx+Y0NDeDifSIQq6AIiEWd1IMYFWyZA4jmE8QM4DyUSIS83CMeM9E1ap2SDmxHb/ltUPe1AwyKY30tPTMPR7m9QZh/vxR8MsqMJREMLSyhbWJDWxtJEFJGc2MTVYbfT+bj3FtK2Q1PoXkiBpYw8YqGY8kR8DAzALmOVumkS1srQ1B0r36k1We3RGJSFYYwMzCPFejN7KV8mpIUjakuPOVvxFsbG0gk0qUJX8Zavf9DPPHtUWFrEJBrjSAtY2NVEeUSIgIR6wm6+ywDWlnilMbNiHEYSy27p+DtmV0c5WO0DDJKK7UDM1djJGayrubpPh0ii4zMYeZpHNTbTYNZTA1lxwhmVbjclw5E4Ikt67oKjmUSY+SoTAwg0VuwcJWqpuGxPGrZtBzYVq1KuxSTmD7bzc0IfmT8xllQgTCswSAPkPawfTUBmw6l4iUJ1JtMjLO1u8oEv9DkpSdtLQc56MbWqO0reT6aYT/1HhDLApW92wMCtyeoWc7e3rZn/IWNa2KqnYpOLH9N02AQCAQCHSRXziAPyIJ3iO+wrQ+/qhfxx3u7g6wNMjTuHkmBmW9EZCHPaz+64p6auNZPxv7uVDg5slTiDaoiXrexTVhrwbN5JHgbSJ/vabQsQm1qPqwA1nTmGnHaayTCTmOOUb05AANq2BMVgE/UYLmaybtr4+pmqk7zTifQRmhvAyqOLVbrd6Lkhdpf08mV3M3mqJZiyO/9DnVk1lkeyZxfScqZmRHg35L1ivdPElaT51MZeQz/yrRo83UXbL0i7dZSTorfIhSj9JoBxmVfW8HJT3ZQf1LmpDn7DCd5U5pdGqyK8nM29BK7V4lXTJCabanCRVvt5ry+lpF2t802dWc3KackmKTU8SixmRu3oKW6Sz7y04Ghc7yINPKH9KB5Ce0d1B5Mi7Zi37WXVnGZISp0i7ZfZMmIAf5lef6HhpU3phK9vpZswwwC/VytpLUfVO8XvKXRyyixubm1GKZdildbjJCZ5GHaWX68EAypRybQLWqD6MDWRWNjo91IhPHMXQscx+KxKNoOnviLzrwwxhq7OxPs/+MV8WvWuJlbEKNFmZfmvUsks8uoZ5tPqSfwp+orp/sHUTljUtSr9yCpbDZnmRSsjttin9CO/qXJBPP2RSmU83STkl1WGZObVbe1YToosczKcdoQq3qNCxLAFJTG0tOJo405tgjOjSyMhkXl3SkW1nvraUOxQ3JquNauqMrZHkkLWxkQuZ+S/KJ93EB6x7rrIDtWZ929sw8pqmWO5Y08aTZ2YWnWnJrLsUrEAgEryuv0n6WR0rvYRMjKtt+MZ2Oe0A3zm6nuT1dydrYiIzeoKV0dr1/pBjVazqN4v6aT63Lyah895/o1tNeQi8B4Ri9peSrV0UsLW1uRtYd1mRWwEfHJQPWwpnGHuNdGmn0z2f1qYSVLy26oLVeE+jAcCcq7vUZhbAdo7hDv/SvRFZNFlF4nhbrIzo40pkqt5tEcyZNofUXpIc0+3TsBu/XOGRpFDzJRTKSR9NRTePIN9280DhGDRdIjpF0/66BFcnYpAYN+40PQWDkdGNzL6pg3YjmhUjxKm7R6vbWVKz+bPpHuykl+W+aVseUbNqvopg8G6WC7vzSnypZNaFFeReYHh0cSc6V29GkOZNoyvoLpHiwhwZXtaImi7L2/mTjyd80xb0iBaxXH/rxJHgauZuXkq61+VaTEfoZ1SvVkOb+k2VgZiPf8jyh4GnuZF4qgNZns2Il4/izelSq4VxSR62P3h/QnsFVVXrP3BqSjSf09xR3qhiwnqLlCopd2pzMrDvQmqyKJhnLFuQ89ljmfiAm48I6Gt23B3X0cSDHpuNoa7jmW3kELW1VkmRVB9CvTzXysyPPyFFRngTTNHdzKiXlKXvxQ+mzeqWo4dx/pPqooFur25N1sfo0O0uI9Pe0OmRq055W5Vkp8n9GEbuUmptZU4c1tzQ6fUTHJ9QiC+exxE0tI3Q+NSphSjXHHtXZTxQvybgKyUxcaNSBrMMqHh75mFyLVaXBux/kG29B617B2/O9fNtZvnm8tZraWxej+rP/yawLyX9PozqmNtR+VYwmRCAQCF4/Xqn9rLhL+z7xIGsjzd4iAzOq3GoGrZpYn0zfBMco9U/6tH45Mjc0IEMTS7KxMiVDI0uq0e1LCorXvvFeDcIxekvJX6+Skb9vPHnbliAH3740eEBbcqvkRn1XhEhmnYaMa7Tto3pUrnxd6jxwKL3XyoUq1OxPq8PUo/AqEk/QZ37O5L8oRDKpdZEM4p1DyNOtM01cupUOBl+iONVjSfRLX1sy8ZpDF9n4kl+iz+tbU+OF4VnGW37pJobQrsAcG9tVjpEJNf06WnWpSDhJX3Z1IkuLSuTTbSAN6tqAqjm1pBkHshyOtPAfqL+LNZWp05neH9yPWruWp8p+U2jfM43vRDrxmR85+y8i9q90UcTupCGebtR54lLaejCYLqkLTI9OLaQ2Lr70+Wmt6adBcjAOTfSnljOPUVY/kEqXNw2nBu4BtIxPV5NQJPxFc3p0zZb3vMi3PKmXadPwBuQesIzUUSso4a851KPrDDqg6y3oo/dHp2hhGxfy/fx0NueG43xwaCL5t5xJxzSFUtzZR+O9bamEgy/1HTyA2rpVIre+KyhEU9Ge3LhM0dpD1hhFPB0Y4UQm9r1osybviri9NNbTmixrDqCVZxOeKYenkXp5Ew1v4E4By0LVeVYk0F9zelDXGQeynKW0cPqhvwtZl6lDnd8fTP1au1L5yn40Zd/TZ8fyfUZyOPaN9ybbEg7k23cwDWjrRpXc+tIKrQCkmnx1Q29yNC9DTaf8RtFa3/fRWVrW141sileiRt0H05C+zalGVU8avDZU3UbzjbegdU+igO0533aWbx7TKPyH/uRiXYbqdH6fBvdrTa7lK5PflH2kpw8sEAgEr4RXbz9nUPzlIDqw9wAdv3g3R5/9JiCnR9dDKfhoIO0LPEr/xCQV6t1e1PAKff6fHSTBW4SBgQErVnP1dJTJ1/HP6Yu4m2GN6vXqwckm224BCSWSr/+D05fuA6VqwNOjKqxyriNNu4nLt6xRwzH7ZrnH1y/jrvRMVQtNgAol7qxsh2qTimHF9R3ofXM2Gna9iVln1qC9teYWFU9JV3kXW/p4Yr7jTpz7wjtrb8P9VWhT8RPIlsfht4HaiBRIignB2fA7SLd0gIe3C0prd+ZrkSfgyplzuJoAlHSsA88apTM37z+dNNy8fAvWNRyzbYyXCozLd0uhRvYCq5DfjsB1s+pwtMm+lyYuMg6W1aog12ralFj8Gw24uNmDbsfggVUV2Gf+0NMz0KM8KbH/IhoucLMn3I55AKsq9lm/IZWJHnqX30bEdTNUd+SDErJIj4tEnGU1VNEtlDIZ1/85jYt3M2BdvR7qOdmodKe8vhZdGm6C/8lD+KRyVizpx8fCzX8FKn9zDQdHllcHJoXhp+mjMXXDVVTq8QmmjBuCDq7Z086fFMSqBQt7uo2YB1aokkuwciRcOYNzaiGijmeN3PUmF/k9o5HnxbvIsK6OevWckL2pKRB3aB5GjFiIv4ybY+TM/2FCL3fYGCqRcjMUZy/G4kmxiqjtVRt22bKbX7yFqHsFas9Mfu1MjzwmXMGZc1eRgJJwrOOJGvkLXCAQCF4p+tpZgjcL4Ri9pbzODVYR/gUaem6E75EzCNjlj5nlNyHw42r6HXqRdgDDHDsjeMAJnNdxjOTnZsCz0c/wP3gBi5sIo+pNIXXne7DvE42pl/7EBIesGpB2bAxcW65Gte9i8PvwsppQNf+FbsaCOYuxITASxRv2xODhozC4c23Y6lWBXm+U8Wewfu5MLFh/FImOXTFy4iR81L3OW1E2gUAgeJsQjtHbScEGWwWCIsDIsRkaV4zDlbCD2HzOB1OG6OkUMcbV4exohMhjR3A187gtBa78fhBXy/qhtYdwit4kjCtUhJ3yIv48ehdZZ+mk4O9dv+OmRRN0alVKE6YhPQiLJ3yNg9HpsCpnjjvHVmNy97qo6twcwxbtxqX/Cn4iz2uDIgZrPh6J5cdvQ1a6FNLCfsbsPl5wdG2D0d/+jqhkzX0CgUAgEAheCGLG6C3l9R7JeIw9A6vjo/OO8PvoJ/wwpHKBPPTEP6ejVZfvoej+BeYOqgvjSz/h02mBcPz6KH7qV1l/J0vw6lHexp6PWqL/dhsMnjcTvWoa4dq+LzHtuxj4Lv0Na/o5Zj8KOgeK5JsIO3EYe/fswM6dBxGGhvhs525MafBqj/osEtLjcTn4d+zZvg1btx3ARaPGmPXLTkxr+Op+30EgEAgEasSM0duJcIzeUl73Bvtw/ywM21YSE1d8jHpmmsACkHx5D1at3oVT15NhWq4m/PsNw3s+5YVT9CaiTMSFXWuw7rczuJ5kjFJOPuj8/gdo51xA5yb9Dk5t/RZLr/hg+dyOuffOvMmkxiJoy1KsuNoA333RGdm24wkEAoHgpSMco7cT4Ri9pYgGKxAIBAKBQPBiEHbW24nYYyQQCAQCgUAgEAjeeYRjJBAIBAKBQCAQCN55hGMkEAgEAoFAIBAI3nmEYyQQCAQCgUAgEAjeeYRjJBAIBAKBQCAQCN55hGMkEAgEAoFAIBAI3nlUx3WrPwoEAoFAIBAIBALBu4n4HaO3FHG+vkAgEAgEAsGLQdhZbydiKZ1AIBAIBAKBQCB45xGOkUAgEAgEAoFAIHjnEY6RQCAQCAQCgUAgeOcRjpFAD+RIjr+L+8lyzfXzIU9OQGKqUnPF1w/xX1rWdRZFm24mj6NwZPNG7A2NR16pvnQU8YiJuo9UzeXrx2NEHdmMjXtDEV/EApMnx+Pu/WRJ03ry2svqWbw4OQpeLQWux5lIfVzCQzzOWR8Ucig0H18b0pPwUKcvVj5OxMOU1ymXon3phwLxMVG4/7I6UXky4u/eR1G/xguCIj4GUS+twII3HeEYCZ6O8h7+XNATnpWrwqt1ADo0dEEN31HYGF7IDkYeiY2D66Kikw98Peqg3bxDOPA/f7j7NIe3Y3W0W3RaerVJPG+68lAs7uKF+v6d0X/kdCzedhb3dN/fxWwhC12CXj7+mB706jvLlIh1GFSnAlxHH0aaJuz1ohhsZaFY0ssH/tODisApUeLenwvQ07Myqnq1RkCHhnCp4YtRG8Pzjfv1l9WzKGo5Cl4tha/Hah7j+DRv2DnURQOPuqjfshs++HA4hvRqgbqtv0DIKzQks6NE7PbhqFPNA/4NPdDmixM4v7o3vOv5omGNqmgw6hdEvxb+kWhfepESgXWD6qCC62gcfoGdqPLen1jQ0xOVq3qhdUAHNHSpAd9RG1FY86HwpCBi3SDUqeCK0S+ywIK3Cj6VTvCWURR6Tdjen8rLnGjUoQRNSDKdnulF1rWnUnCqJqgAPNzWh0qbeNHssAwpqiCa6F2RKvnOoDNSXAk/BpC1w2g6yp+fN11FNH3l60Ddlx2iQ9sWUW9nC7LruIIi5JrvJeSRC6mRTEYNF1wlneCXR9JVOrB0AvVo6ESVqnlRm4GzaXt4iubL1xB5JC1sJCNZwwV09XkFlrCd+peXkdOoQ5Sp4dMzycu6Nk3NS8FvmqyeRVHKUfBqKWg9zkna3zTZ1YQcRh+lVMVDCvt1Lg1u15C8Gvem+cfukUJzWy4UyRR3+SJF3tOnMywCFHdoeStL8vvmBinSwmiunzM5Nf2YjiRJ1TlqMfkVt6VuG+9pbn7FiPb1FJLo6oGlNKFHQ3KqVI282gyk2dvD6cX1ogm0vX95kjmNoqzX+Gma6WVNtacG08uouUlXD9DSCT2ooVMlqubVhgbO3k5F/doQ9vPbiZgxEjyFdFw4HQHLVsMxtJmNJswC7u1bwD5iB349l64J0xc5Yi6EI7G4M9yqGUtReaKVjyWs6viilqkCcTceolKrFqgpK4J0DcugUrkE7NsdCbduYzF7YG3c//0XHLyXtb7CqGwZ2Eq1X6l82UOd6bi2axL8Pdrjy4iKGLDyJKKunkHgupnoWqOY5p7XEKOyKKMW2HMv8Um/cBoRlq0wfGgzZGrYvT1a2Edgx6/nNCHMGyqrZ1GEchS8WvSvx0+BEhD/H8HU3BwGhtZSXzUda/YF4czxLZjcrHTeyznkF7CkrQdafjgaAZ4+mH7yJYyAS3lzr18D9OgRyKQGWjWxRmrlRqhXXKrO9u5wLfUI//x9QXPzK0a0r1ykX9uFSf4eaP9lBCoOWImTUVdxJnAdZnatgRfWi6ZfwOkIS7QaPhRZr3F3tG9hj4gdv6LA5kNBSL+GXZP84dH+S0RUHICVJ6Nw9Uwg1s3sijf1tSF4ueTZ9wreHZS3D2LeqBnYeSPna8QETeafxuW9Y+Eu+TFaDM1MYaq8j7t3C7qI2wAlilsAjxOQkMLXpmjxzQWELvaXPhHKfbAZwcs7obRhEaSrTMSdB+bwbl5fcn6MUKqklVTRlZDrLk0xNFT9iFcWabiyfRbGLTiM2y9sfboC17cMQuuPw9B+4ykc/HYMOrjZQqeYrzGGMMwuMKRd2Y5Z4xbgcAEFZtJkPk5f3oux2RUMU1Ml7t+9qwkouKyeXpdfJ4pOjm8eStw+OA+jZuzEa60iPdGvHj8DyoA8Q/NZX9LCcfqqB2bu3Y+vOgA3bxc0gsJgCp/PjmDzIDupzzSG9+y/cf3HHpB6c6lbN4KREZCR/iIt3YLw7rWvZ/V7iutbMKj1xwhrvxGnDn6LMR3cYPvMF04RtVGTJph/+jL2jnXX6bMNYWZqCuX9uyiw+aAviuvYMqg1Pg5rj42nDuLbMR3g9uwCCwS5EI7RO40C0RtnY26wIRzspLdbTpQJOLX8Q7So5QRnd280av0BFhyJlVwI4gE5NYlnsHxIU7hUk+6p6Ycxv0Qj5dJPGNnSC27VK8O52VCsPPufdKMRyld3gLUiHCGh6lHOtIc3cOXKDSSmG8PWvnzW6JUe6SrvB+G7oS3gWasWXKs5wqXZB1hy4r7UrTOmaLv0PA5OqIxLW2dh9E83UcriCvZvOIa4p3X28ZsxYfAWKBs2QflCtwrJIAr6DkNbeKJWLVdUc3RBsw+W4MR9da6UcZsw9uOtiHtyEcv61kPNpiOwJTIVMbunoJOPO5wrOcC7zyL8pbmfUcb/jZWjO6B+ndqo6VgBVeq0w5gfziLyxEqM6+qD2jVroEpFZzQesBBHbmcvXHrMASwc0gpetWvDzbkqqrg0QZ9ZOxCh2sj1vMRj84TB2KJsiCY5BJZ/ukoknFqOD1vUgpOzO7wbtcYHC44gVqoWpFFwwWWVT11+HIHtM3qikaSXmq7VUbW6FzqP+xH/Jmm+l0i78ismd/KCq4sr3JoOw0+XU5EatgYfNHCBcw03+H70C6Ll/+H86qFo4S3loaoTGvT+AofvZOmr4DJ/uhz1R5Ln38vw0Zg1uKRx/tNPTICrpQvG/cUG62NEbJ+Bno2ktlLTFdWrVodX53H4Ubfw+dRd5rnlo4jGxtlzEWzogLxUVDBeQn7zTSP/epxfHLwWR3HvBL4e1AaNvWtJ39dCy+ErcfphVjmyYdEJM+fYYNvwwVgUVhPussu4/ZQ9G0Xb/i1Q3s4GGdf24H+9G0v9jiucq7lI/c4q/JusuUVF/nrBfyH4cVxn+HCf5uyEOq0/wtrziUgM24IZffxRz1OSg9S+67QdgWUntX26hvQYHFg4BK28aqO2mzOqVnFBkz6zsOOphSqK9iWVqhD9cHr0HsweuwxnVK+7/xD8ZVfUqeYAx5ptMfe33ZjVTqpzzo6o4uyLET+FF3LP5DP6PWUcNo39GFvjnuDisr6oV7MpRmyJRGrMbkzp5AN350pw8O6DRX/pyLgI26gy4RSWf9gCtZyc4e7dCK0/WIAj6saRmd6z3+MSetsXjBJxm8bi461xeHJxGfrWq4mmI7YgMjUGu6d0go+7Myo5eKPPor+QVR31qK+CdxLNqjrB24S+elXc2kPjfKpQrX5LKfie7qp2OUUsbUW2Fh40/vBd1Xp3xcNQ+mlYXSphZEN9f30i3XKVVrQrQ9aN59CZJAU9CVtAvk4B1LdVffrkaAIpMq7Rhu72JLPrRVviFKS4voT8TGXUaM5vtGpgY6rbwI+auJWl4mU8afAPFzTrnfVINzmIPvUqRe5jAuk2ryOX36b9o1zJtJyUzl1NGZLO0rcBjmTfaBLtiU6l5NAV1LWyBVUOWEWX0qTvU36kzlJeGsy7rN5jlBFGi3ztyW9xZKH3HCUHfUpepdxpTOBtVRzy2/tplKspleu1he4q5BT+RQMyMTAh11GBdE+RQddWdSLnLgMpwGsw7bojySduJw2qbkK2bZdTJEeQcJgm1LEmx74/0mUWjiKegue3oNJGxmRSuS3NCYwmSRqUcmkNdatoTMXqTqXjyVKARGrYUmpvX4oaTQmkG6oF3WkUe2gmNbOVUdm231N4huq2ApBCP3Y2JVmDeXRZLTAKW+RL9n6L1XnVoE+68oil1MrWgjzGH5bkIt2ieEihPw2juiWMyKbvr1JAIWTF0TytLsujaX1Xe7L0HEuBseqCPwpbTT2qyKhMx9UUJT2vuLODBjkWI+cRnJ6cbmzuTc7Np9P0dvVpzMEHUl2OohUd69CgWcPJu83XFCrpI+P6RuppL6PSkn4Z/WSunxwLQtq/C6mpbXX66EjWAvrUo6PJQVZVFRa9vivZW3rS2MBYKTWJR2G0ukcVkpXpSKu58BLPrrtFIx8pFrq1Zxz5VKlF/ZYGS/FoggvBy8hvfmnkX4/ziSNlN71fxoiKuQ6g1WfjVd9n3P6Dxta1oJL+S+hinm30EQXNCaD35n1JA/3fo9mze1Fdl9Y080Bctj1JRd/+peLd2EL9qliRx9gDFMfPZzyg0yv6Uo1ixlRh2AHVPfnJjJKCaXbDklSB+2FVn5ZE4ds+Im+HqlS5TG0asStGyqkUHH+KvmpXnoyLe9L0E0lSiERqGC1tb0+lGk2hQHWhKC32EM1sZkuysm3pe1Whir59Faof/u8yfdm0BJUbsIu4S5ZfXkhNrBvQ5xfSKH73QKpoZEQV3t9J8YondHqaO8lsetCWh5xYwXlavycP/4IamBiQiesoCpTCM66tok7OXWhggBcN3nWHFIo42jmoOpnYtqXlmcIpojYqj6ClrWzJwmM8HVY3DnoY+hMNq1uCjGz6Er/Gpcry7Pd4Ae0LqcD0RQMTMjBxpVGB91Tfr+rkTF0GBpDX4F10R6GguJ2DqLqJLbVdrn7P51tf80HYz28nwjF6SymQXjNi6ejCbuTq6EdT98eqOghKC6LxTjIq0XEd6W6rzfh3FnnI1A5K2rEx5CizpT7bHqm/5EMPmlpSCc+pdIrfbhIZZ6aRm8yUmn19jeRpp2iyq4xkFlWo89IwtSMkGSgrO5QmQxMXGvenFKJHug82dCErM3/6Ljar58o4P4PcZVbUbVOidJVIB0ZUI5NyPWgTd5gaEg+OpGqyEuS35CrJczpGEvLoNdTZpR0tK4zVQA9oQxcrMvP/jrKylUHnZ0gvPatutCkxnta2NyeDYq3oe+0N8WupQ0lLchr+h2YzquQQfF6fZLI6NDMklS5Kn80s/s/eecBFcXxx/AfccRSRqlRBQI+qKEURLIC9l1ixREWNJSZGY2xR/9FYoiZqoomxm6gxlqixRsVesAVEBVQQNAIWQJR6cHfvP1eAQ1DuFBvu9//5R3Z2b2fmzZs37+3OzLamn++pWGg2WCxqpk86tkPob6W/IBt07q5oR9W1q1OnNffZNbfpp1bVSddnJl0pVRUxxS8OJkMdSxqwQyYnTXjW4WCwgGN1VzfqsDxW4XCrle9DOjNBSHyjzrS2dAPTTG++0qHUVFYqmZWjy4VXvyEfXUsa+JdST+WIKWFhIPu9P82Ny6eoGd7EF7SgHxKV+eUfo7EeNmTX9rviTTvSVnakWrb1KOxvueYy8uivAcwpqz1azbrLZK6GHDUin46OYUGOxUDaKXM2lBQHRocv0zc+umQ58C/mUpcgTlgo33zEf24cO6pIdwtfXT4qFCYfowUfuZNz8BTan1wkBE14E+WtKA+RGnpcwT3uywIjPrl9FSEPBopIW9+VqvNq0SeHiho0kyLXT6bJa69Sdvp66mrbl7bm5ND2UCfqvz2LEtd1J+vqDWhiuHKV+2vp/7L6ujA9Y3mr/lR0gj5z5isDo4pkJqa4hc3IQL85fa8apRReomn1dalm6DZSjQ0kd1dQe2Ntqt5xFTsS0+2fWlF1XR+aWbpSJI5fTMGGOmQ5YAc7quz+JX45O7xiMw1nQXbt0eGshzIZzGhA1YMWKx7CpCyjlrq61GJxkjyYzdnUnQz4TWi+6u5AmlKO3Utf05H0tQyozc/J8nzkdrWTGVUXjqRDCiPKYok51JjZgQYzokrJ5lX7qOjMBBKysbZz6c5BV2ayfqkMjCoaxzX2L9gY0VFfiwza/Fysf+lrOpFZdSGNLKkwzWnMfJAGMyiKBfYv1ldl0gvg/OeqCTeVjgPg2SBo4p/YN6Ua1oT2wfdXxZCmRyIqiWAtdIGx8rLSSHE/Mhr/oRbq1tVXJGmbw8xYhHx9M1goX8PzXN1Qhy9G0q3bEOt6IrCxOWDSGiOHeSqmzvGcENo/CEaFt/D3zsvIVyPfrLQM5BvawNasRH21bWxgqZWLB6kZwJMDWPNHIkzbDkA3lekTxs37o6tTHs7uPgCV2U/F6NTuh+FNrmDa6OW4qen8amkW0jLyYWhji5JiacPGxhJauQ+Q+igN6ZliaFu5wE22OFiGgSlMkAd9CwsoxKUDe6ETDKV3EH/rAU6dvAKxrSfq1VDppjqOaNfaA9oPInD6etG8fm3Ytm0NL50cXL18HcgMx4EzubBv2hKupaZX66B2p3bw0k7H+dNXlWmvgE5t9BveBFemjcZymcDUyffUGURGJYGshXApv4EByWPNZJWgsnisHF3W4ulDX88OTnWUeipHBzUsTJnkcpDzNA1nz12H1NoTDYr0hWcF62qPkKZnBVulLuubVkfWQ8DKRleRAC35nHmtaqwiryLzZ+WoERI8epQBqZbWM2vmiuBBX18Pdk51UKr2NSxgyqqak5Ndse6mPXx1+ajAswnCxD/3YUq1NQjt8z1YE2nGmyivGnlUqMcV3eNx+W1t5CKELe4j+t+77EiCm7+GouP8XLTt5QnDap7wdzqLr1u1xPQrfmjVUB+1B36Lse5xWPrZfJyTzcd6Hf1f8h/ORNwGarvDvZoy7VnUkNmJIxdRYO8H/1rKRmBIbh9GeCyhboOGMFKmydC27Yz23jzkREawo0yEHziDXPumaFm6Uqz7dEI7L22knz+tTHmGV+lf0vSXs8PRhujexRH3/5yK0VM/xWdr8xH65UDUZtXW5vHAY51VW6vofrK+S8zDVh6+DGXsngiP0zMh1raCi5s5K5kMA5iaAHn6FsXjs469EE6GUtyJTyj1Da5X66NSpEdGIYmsIXx+56hgHE/T2L8QPU5HplgbVi5u8o2VZBgoKgyLkgpD6GQI6Z14JBRUoK8ZmtpijqpCiUZyfHhIM3AjNllpENmg2W8YOgjOY8Omy0BBgTxd+9mVrDK0eODzAYEenxn0AogKiqIMfTQaOh/zxwSjRtG4R1Jm8LVhbG7CctBD40Af6D6MwqWEEqPDMzSEHsuGxwaMivPVhn2vsRjspg+Jit3SZs6fLvuJRCyBJCMZ93O0YGxmVnqxvnzHIi1In2Yis9wpxAI4Otog5/QO7NF05am2PXqNHQw3fZa/MknWvfT1dJmMJKxOpjA3ZUJjhS4+z6+P0FnzMb69XUlHlLCgVMsEpqZ5yM1jshOJICo1YGoxI2/K/iuWiaoYbRNjGDGZ8XX5zD95imwJc/IM9ct0cB1zc5hoE8tGo5HuuQgcHWGTcxo79txVM998FCgamNXhWbTAkymWjqayYnd6gS7ruH6BLftno31N1VIVIPrqTcC+BVq6iZEvEzK7X4lU+NBlOqWvxxxlZYo2XwB95jjzi5RKfBMXo7Lg2aPHK8tcVY6aIYCnlxt4mZdx7krRKgUpMv5LhnwFkY4LvtiyH7Pb1yxVroLoq7gJe7Ro6Vax7kryX1k+MqQZNxCbrLyDzFkd1gGC8xuwSdMtqt5EeSvMo6BiPa7wHsxBLrKTKmizMslsmZyMHfjfzCOo0WsImsoCEl0fTD52Dcd+/wOnLm/BYCd2A9bGvbt7g+I2Ye3R/NfT/ykPebK1TDKZluPAa2uzclRY31zkMJsGHR7roSVIMp8gi91TxGxdKbRNUMOcBa0yQ8+CrqfZEmjpGUK/bKVgbqINYmV7Hi/fv3Jf0g6bov1Pp3FuzTA0sGmEr/afwfKOygDFvA9+vXQZawfZlGkfjXmu3YuCqbkp03rWFsWNwUf90FmYP7497IozZu0i1YKJqawulddHCxSdo8xGGDK0eHxWkorHcU39C11TcyiGjZIb8uuHYtb88WhfUmF2bym0TExhyoKkF+urMonjg+OV+yXH+0ouTkwKQucl10qMAs8MpsZaELERUNvSHS41gdT4BMg3kVMifZKJp1o2sLfXhXlgU3hq3cXV6Ezmisngwb3bOIzv61P85K8gJga34IIOneuxs9owDwiAB2Jw7my68jdsQMzIQJZWTQS0qA+9CvNld6nVEytOrURP+bZISrS0ipVZx8IGloZSpMTGlP4Cuvg/3LsPmLl7wkG3GowMtVBYUChfAK1AguxslivPUH5OM7RRq+cKnFrZU7FbkxKt4qeCxmjawpsFhTdxo6hQOs5oP2Y8BgUUbc0rRkJsAkS2bdDZ3wEudS2YICJx6Y6qhZbiXsoDkL4QnsKSsE8cfxv/SU3hF1BP/qaljjkhJeE28pTnixAnJ+MBGcPbv74yRV20Uc3IEFqFBShUcRAk2dmsnXgwZOfUyrdJc7grGhgJpRsYmU+1YGNvzw40lFUjyQt1WaaXtoHt0diS/TIrCZfPnMI/6ydi8j47TF37DVpUs4Z3g1rQenANUf8p78Dym3DsKTK29CneFESv6zqkZF3ETPkuZDm4vPxbnPP9GZum+Gog84rlqBk6cB/zPaY3z8SKfh0xYtIUfDGoHXouuYqi/cp4toFo39iS5ZyFpMtncOqf9Zg4eR/spq7FNy1ktatAd7VfXT7IPYFJQZ2x5FqJLvPMTGGsJVI43BrxBspbYR6WauhxBffQsYOdtTbyc3NVbBCQx3QomWrAvZ49ssN34uAjPQg9hEw7lOgYwca5NswFymOmA3b13VETDxF5MR7S19H/eQ5wq1sd0js3cVP1ppTL2o8FCZZMFmq0S31Pa+DuFVxRMcy6jnXhqCfBrQsRSFO115JU/JdaAF33Buy3VnCpYw5KScDtspVC8gOCsbc/O6jk/iXL9yXtMHRqoEHXYRj76VB0qmfGSqaEBXwOnp6obVpOVKwRLx7DjZu2gLfuQ9y8UTTW6sC5/RiMHxSAopdf4oRYJIhs0aZzIwgqrY9qw9LdheljKuJLdw48yXwKLRt7sGG8gnGc+Qqa+hfGTdHCWxcPb94oHvd1nNtjzPhBCCipMGITRLBt0xmNBBXoK8cHjXJWHUdVosJ2lSTTspZ6ZNJpNRVNnX566kuqZ+hCXxyXzbkX0b+zGpORcRAtvFY0Az6DDo4UUjXfWSRf1iG5T9sG2JNxs4UUW+405Kd0eLQLOXT4imZ/NZnWX2M/Eh2Xz0m3CduvXCsionNfuZGu81g6Jp9Sr0a+5ZG1nroIFB9slV2/a0gt4um60og9RYuSZQuw+5CdSSDNi2L3ldyjVR1NyKDxN/Rv0RKD7Aia2kBAph1XUlLJtOdXImt9FxLwA+i7W2KSpP1NYY7G1GxhybqmUuRF0GSvWtR9faL8fP756eRtwKPaA7cVz4GWpB+gT4QGJPz0EJVMgX5Mh0YJyTRwHkXKRZZH56Z6kb5Fd1qvssZKNn86elYjsgj4lv5VTrlWHwndW9WRTAwa0zclAqOIqQ1IYNqRVsoFpl6+on9nUWMjYwpaeK14bUXGwZEkrOZLs5QNrJGsKtTlEgqvraWxob2ocxMncm4+nrYov/gnX0hvxifHQdtV5pu/CDEVltJFdWWujhxfhmxKithHWzdtob0RdyijePMFlYYuvEZrx4ZSr85NyMm5OY3f8uIPPKrq7qvKR5K8jFrqmVCn1feU/fEpnfqyHhm6fEHPNNFLU5nlfR6qeaijx+VRco98iprlR9WchtLuopXeojha2sqUDBp+TRH5Yrq9qCnxtZWbzrwA+ZoOHo+EE86wsryO/k+Uc3IieeqbUusf45T1lVDavhFUx9CbZlxSp75MxtHzKdBIQB5fHGNWq4h0+jusNvF13WjMwZIP2z4++jm5GzhS2O40+XHeuankpW/B+nzpjSYKo2dRI4sA+lZeqcrvXy9vh9UjZ1MPMuT707ziRVFqUpHdk6QxuTrKx+fyb51HEZO9qFb39ZTIzldqHxX9S7MaG5Fx0EIqGcYP0khhNfKdVXo9UylUx3GN/QsRpf0dRo7GzWjhc2SZFzGZvGqxfiGr8HNQ1deK4PznqgkXGFVRKm5XCd3fN4H8zI3IKSiUwga1J097TwpdESXfRUdO4W3a+mkjsrJuSF2HDKeBbdzIzmMArbqqMkhnnqZZwS4UsjCq2DlQIKHkncPIx7MrTVy2hQ6fi6EU+c+yaFuoOen6zqbrMrsjjqE5jU2o6YLYEge4onwzo2jXgWcW0soNqi41/yFRfijJOEuLegipuqE9NfloCA3t4U91hK1pusruTaLYdTTAzYRqNuhKH4f1p7bu1uQQPJn2qedJlSEzahcdeGbjBrmR1W1evAj86fkF1M4tiOZceGakYYPYkYkh1HrGcUovzl5E8VvGUGPLamTbuAcNDQullm5O1GjEbxRT1ASSh3RmYQ/yb/s1HUhRMeT5cbRppD95dV8u33FL1h4ZJ2dTrx7T6WApZ0kDRLG0boAbmdRsQF0/DqP+bd3J2iGYJu8rWtzLUCvfQrq99VNqZGVNDbsOoeED25CbnQcNWHWVDdUlqC+rinU5724cJRYvkmZI0ukgc2J0bfvQZnl7Syhl7xfkY1KdPAb9SpcyXkJG6spcHTlqSH7KPXqg2vyqgVHeXYorXXlKPziKhLq21GdzsjylYt19RfkwJ2ffBD8yN3KioNAwGtTek+w9Q2lFVLG10YjXXl5GxXlUrMcV3iPnKq3s70E2dYKpX9hQ6u5rQzXqD6H1MQon//7PrUmgpUstl5UOBp4l/+AIstPhk9+31xV29HX0f1armPVh1KCmNXl3+ZjC+gWT0MadQn+NLg6w1ZHZrQ19yVm/JjWfvIcSiwK0p5doeagnmVazp8CeYTQstCW5OvpQ2JrokvGI8ilu00jy9+pOyxWVYnb+JM3u1aOUXa/8/vUKdlgNXjowkulHRWP40/O0oJ0bBc258MxDEBbUHplIIa1n0PGiAaeS+2jh7a30aSMrsm7YlYYMH0ht3OzIY8AqKnYf1BjHNfcvntL5Be3ILWgOlR02jtDEkNY043h6sR5UrK8vhvOfqyZcYFRFUbddJVlJdDF8H+09eIZuZJQ2EAoklJV0kcL376fwC7cpszzbnX+XYuNV97xSkJMUS7fL2FQJpa5oS4bVu9Pvj5nxjP4f+dUJo71ltip9Tr7MeG/ubUv1p1wobVAf/kptBfrUaa3qjcT0NPESHd2/lw6ejqGH5T3FK0ynG2cP0d69h+hs7MNnjK/6SO5vpt629WnKhdIyfPhrWxLodyLVYhWmxFF8GUdNRMm3ElnYWA55KRR94gDtPXCCriSXtvaFKdF09mqq8u1bWbLvRdHVe7Ja5VNK4r0XviFQj0JKv3GWDu3dS4fOxpYvU4Y6+Sp0bz/tD79At8tVLM1k9TxdliStps42wbT4mafFopPjqC5Pj1otT1GmsGE1+jca28KWqts0obAFu+n6SzjU6slcPTmqQ1bEXAppOIoOqihBcWB05Aat7mxDwcodsIoRnaRxdXmk12q5Rrr7avJR9ul9rD+euUHlmhs1eBPl1SSP5+mx+veQ2akLTC77mIMXT49VuoLo3ERy5WmTea8/KF2ZVhYJ3VkSRLo6tWjEQdVHC6+j/7PcnibSBdbP9h05TwkvWd/kw7OpSx0jMnHtRlM3R5GiWSSUfTeSjh/YSwdOXKFnTF0J2fco6uo9ua3OT0mke+VeV3n9q5iXscMZp+m77k1p2NaSN2HPkrWhK+nrNqVFt8u3gRVR4RhemEJx8Rll8hcl3yr9sEhO5fTRYiRZlHQxnPbvD6cLtzNLHn5qMo5r5F/IKKSUuHilTqkgSqZbKhXWpI8/D85/fhVyKO3eXUrJeJ738vbgAqMqyrvcruKYOdRI342+OpdN5yY1otay7bOV5yok/wANt9Ulz2cMauGlr6m+oC6NO1kZI6Dm5B8YTra6ns8Y2UK69HV9EtQdR2+pWByMvL8GkJkgkBYqv9lThDx4YIFRm1/uK1OKyKQrm6ZQT18bMjQRUusR39GOK2nq6+gb5SGt7WxE/Iay7WeVSYz88DFUW6aPp7bRADMBBS5MKF1+2fbVTiwwavPLS+ju25XPmyhvZfTnSrEJhdH0bSN90q7WlL6TTUUuD3ECLQk2JF2PSXTuLfoYmtZXknaB1oxrR0ITAdX06Uf/2xJJae9mJ3tJxHT7++Yk0A2ixXeeFxaJKGKSO/Gth9Ceyoha3xfegXG8Mvon5z+/AjnbqJ8Jj5zGHiv7QOEtw60y43jj6Di3QNNaKbh59TA2X26CycPqlNql6IXw6sLFWQfxx4/iVvEaUQlu/nMYtyyD0da7aOvdNwuvrgucdeJx/OitkoWwkpv45/AtWAa3xVsqFgeDZ1cLNtLrOHHsgXIRr4wcROz6B/8ZNkOXNhbKNAUFZxbjyx8OI7HAGFb693F81ST0bOgIl5YjsHB3DJ6oLhB/20ilKCwUQ/owBSnFm3JJkHzlGh5ZB6JFfQfUspHi+oljeKBS7pyIXfjnP0M069JGY9192/J5E+WtjP5cKTaBVw/jfpwMf945zBk6A8czni2sGLc3foWFF50xZukk+BdvyPDm0ai+kiSs/nw0fjmVCn4NC4iu/olv+vnC2b0dxv74DxKylde912hBh6cDLUkMToTfK5GJCvnXf8X/1t1BvbBP0KpoV5APgXdgHK+U/slRZVHGSFWUwhS6lZD53NfYVZV3u11zaPdgG6rl1YwGrUrSuG0eH59KfiYm5D3sZ9p/9hwdWj2aGtV0pH4bk97iU/3HdHyqH5mYeNOwn/fT2XOHaPXoRlTTsR9tTKpSj0HfPyQptHuUBxnVbErj1hyicxHhtGl6e3IwcaOPN8aXemJZFjFl3Y2kA+tm06jO3mSlxyerkHl0rtw5j28DCT3cM5JcDEyo0dgNdOz8OTqwcgz523nSiJ2yNRUSStk9ijyMalLTcWvo0LkICt80ndo7mJDbxxspXl75V9HdtyGfN1HeyujPlWUTJJR+egF1q1ONDJ3a0bgft9KRs+fp7JE/acmnweTkECRfP/P2rcwr1FeURrHHN9F3Y7tSQ0sB6dq0pDlnyk6fet+QpB2myY3NSEfPnoJHfUcb9p6g85cu0bnwHfTL132oYU1ravLZNkp4/S9I3jne/jj+6v2zavvPhZRyK4EyX5fz/A6/MZLtSSz7VxYgVTmkj89jyeA+mHa5GTZGbsBHqh9oq+JoaWnJGlZ59O7xeP9MjNhqhokrPkcjPWWiBmTH/Y2Vq3bh/J1sCKw8ENJ/BAY2sVb/zdNrIRtxf6/Eql3ncSdbACuPEPQfMRBNrN9uqTgY0kxc27Uaa/dcxJ0sHiyETdD148Ho4PK8r1WWT8H989jy4zLcbPILvu2s2W9fH1KkX/oDK347hKh7uTCo5YNOYSPxUX0T5da3UmRe24XVa/fg4p0s8CyEaNL1Ywzu4IKSGlSO7r45+byJ8lZGHpVoE0R3cWb7Vvx9MhpJ6XnQMbaBS6O26N23HdyM35WxrRLqm5+MM38sw4pb/vhpbleYKJPfW8QPEbV3B/acisKte2nILgR0q9WAvZsfWnb/CK1di/rph8fbH8dfTV/ftp/1JHo7ft2wDxHRt3DvcQF0zZzg22UkvhoZBJuSXeQ1R/oY55cMRp9pl9FsYyR+/6iG8kQlkrsdobahuDzkCI5+FINFS7fj/H+FsPQNxeRvhqOxyod/3zRVNjAS3fwDY3uPxPoHPpj8+ybMbPW2neY3y7seGHFwcHBwcHBwvK+8XT9LjCvfBKPrLgF86zvD1lwXGZF78dfJB6jz1WFcmReovE5DRDfxx9jeGLn+AXwm/45NM1vhZZ7jVIg8MOqHMx6BEERdg37L7mhmehO7/zgDUbuVuPDXUNR+S057FQyMpHhwdBZC+8/FZashWPHnj+grVJl4LY7Egq6D8Vupj7UVoQOHgWuxe5JPycf03lO4wIiDg4ODg4OD4/Xwtv0sqVQKbW2VNyuSeHwfXA+TH4xG4Y3vlYnqI31wFLNC+2PuZSsMWfEnfuwrRIn3LEbkgq4Y/NudctfL6TgMxNrdk+CjrvMsD4x6Y0uOI/qs3o/1g1xYXvk4O9EHLZbq4evL5zGz3tvxxKtYYJSN6JXD0euLXRC3XYAt68bCz1h5qghJEvYuXonTpT6xXYTsa8sjML5z7ff+7RIXGHFwcHBwcHBwvB7eKT9LIoZYko8DI4Xo8U8HFCavVp5Qj+zolRje6wvsErfFgi3rMLas84ykvYux8nSayiZGJWibB2LE+M7qv+WRB0Z9cbzrdsSu74ai3ETHPoVbm3WovzoFuz5+tgxvhioVGGWfGI9GrZcgwXUijp77DoGGyhMfIFxgxMHBwcHBwcHxenjbfpYoYRfmTPkOm49ewZ2MfIiVZdG2DoMkRYPAKPsExjdqjSUJrph49By+exPOs3Iq3fmBhxHzY1DxmynxtVnw956D6gvjcfTzWsrUN0uVWvNXrcU87PptGNzuLEbPzjMRfr+cuFZ8CXNbu6Bu3brl/N8FreZcRIHyUg4ODg4ODg4ODo53ivxTmNa5D+ZfrImPf9qL0/9GIirqAn75qIbmjn21Fpi36zcMc7uDxT07Y2b4/XLeColxaW5ruJTrO9eFS6s5uFgJzrM0Oxu54KGasZEy5c1TJdcYPT6/BIP7TMVh3S74/s81GNVQRcCS/3D4198Qkf6cqXT+A/FJa3tuKh0HBwcHBwcHB0e5vE0/S3xpGrwDFsLo2xic/KroW5Dp2NzLBR+f6YZCTd4YKSnayXnqYV10+f5PrBnVECXeswT/Hf4Vv0WkP2cqnT8GftIa9hpNpXv2jZEECT+EwHNKHqb9exZfe3BrjCoV8X97MaXPYCyJrY1Ra7ZhUQ9HfEjf6+ICIw4ODg4ODg6O18Pb9LMkCYsQ5D4Zt1ovwp5VA2GVcgK/LZiORX/dQFaNwRC/RGAkR/wf9k7pg8FLYlF71BpsW9QDjq/DeVYGRifarcXZdQPhoFeA1FOLMaT3dEQ3XYuLfw6A7Vua01alptKpwqvVCQsPH8MvHbKx4YtvsO9ReTEuBwcHBwcHBwcHx/uDjuMgTBntBdHB8WhkYwF7v/5YlfkRFnzh+2q7KvNqodPCwzj2Swdkb/gC3+x7pDxRyejUhLOLBR5v/RhOxsYwM6kOu+C5uBM4D9t/DX1rQZGMKvvGqBjpY6Q+FMDaykCZ8GHAvTHi4ODg4ODg4Hg9vH0/S4yMGxdwMT4Lho4N0ci9ZiXOjJLicepDCKyt8Pq8Zwmy7sbg+u1kZOTrwdrNF14O1d76G5uqHxh9oFTUYXMTjmLXuVx4tu+A+uaVqYZiZKenI09gjhrV1HluIUF6UhKkVs6ooadMeo8oyHqMAn1TKKoqRW7mE5CRKQzf90VqHBwcHBwcHM+FewBdNamyU+k4XoyBOR/RS/qgScg0nMlXJr4K0oc48V1v+Dg4wrdtd3QKcINr0BhsjK3g5jk3sHZoA9i5j0W4SJn2PiBNxo6RDVDHOwQB3u0w93QkVvX1Q6OgALg6+mPMtkQW8nFwcHBwcHBwcLwvcIHRh4pJAIb3aYjC2JM4c+/VXfjHuyag3/QraLI2GnGXzuJ8dBR+b3EBY/vOQkSZgCcb8f8sx8TegXBx74qtgl6YtmgMmpR8YvmdR/poD1b+YYYvj17Gpc3NcGRYX2y0WoSIqGs4Md4Av42aiC3cujYODg4ODg4OjvcGLjD6YNGBZU1zpgBSSF85LirAtQs3UL3NSAxvYapMM4RXx1awvfEXtl8u2dy+4PYufBXijY6LbqDWoF9xNuEWLh5Yixk9XF/jPNbKR9vEC41dCU+fEnRd26CZST4cAhuhGpOrrZc7LJ7+i4hrhcqrOTg4ODg4ODg43nW4wOgDRltbtsSshPS1nWEi/AKnnv1IV0ESDswfgpbe7nB3qwt7excE9JmOHXG5ygt00WzuQazvEIMv6juhjocP/FsNwoIzafIpdqmpUvnUsw09asLAcwT+uF0I8d1LuJqpC/3//sLEDn7wcLaFvXcvzDv+sGSPfMltLGpqCO+ZURArk0rIRdz2afjI3x0uLi5wcnCCd6dx2BCVpTwvIx9xf05AhwYu7BpXBIStR0x+Pq6uGgQ/YR0I3ZpjzNZEiJ9EYuWwEPh41oG9sx96zw1H0beBpY9OY2lYCBq4u8GltgOEgQOx6CQro6AJZp0/hq89xIjf8zeus5Do/NdeqC30R/+V0ax0hSgolmMBkg7Mx5CW3nBn96lrbw+XgD6YviOOXcfBwcHBwcHBwfGuINt8gaOKoU675vzWlQR8f5oXJ5YfF15dREG2wfTDLcWxnLxoWtbRliwCJ9OBu/nyJFFyOM0MrkF8y/b0c2whSxFT3LI2ZG7oTV+GPyAJS5E8jqbfRzQkIx1TCt2eR+KYudRYV4sEHmPpUJqEChNXUheXbjS4uy+F7bpPEkkK7Rxal/hmbWl5fFH+EkreM4ECHDyoz5LT9KC4WGK6va472Rr70IRDKSQrAWVdozV9HIlfszOtSpBdKKHUHYPJ0cCVRh94SBLxPdoS6kIhU6ZSh8af0WFZGRJWUGevoTTjE19q90M05bA73dnYm2z5NajPH2lE2Wfoa18L8vrsIKXKbilOpf1j3Elg2Zs235fXku5u6kv2snIcvs9KxS5Jv0grB7iRAc+ORhyUySuPopd1JFuLQJp84C7JJShKpvCZwVSDb0ntf45VlJ+Dg4ODg4PjvYHzn6smXGBURXmZwEgWcCSu7kpuHZaTPN5hxwk/taLquj70v+jS7rs4YQkFG+qQ5YAdzNE/QxOEfDLqso5YOFFM4ZWZ5M1XBEbpazqSvpYBtfklRR44EaXTms5mVF04kg4p4i0Sx86hxnw+NZgRWSpYKEw9Qd/39iTn4Cm0P5mVtTCa/uejS5YDd1KW8hoZ4oSF1JT93n9uHLsmimY05JMgaDElKjKk/GNjycPaltp8d0MexBAr7cqOtcimXhj9nSNPYHHMXzTAnE+1R4dT2vquZKzXkpYlK2/AKIycTl786tRjU2ZxvS36bSV2VIzoxGfkzFcERuKEn6hVdV3y+V906QBInEBLgg1Jx3IA7VD9MQcHBwcHB8c7D+c/V024qXQcKuigdr/hCLgyDaOX32THGTi6/wxy7ZsixKX01ts6Dh3Rzksb6edPQ5oeiagkgk1dIYyU50sjweP0TIi1reDiaqacv2kAU2MgT98CFsqtrXXshXAylOJO/O1SU+d4Vs0xfvMeTDFag369F+GqRBcG+nqwc3KG6g7fOjUsYMJunpOTzcp0FudipLD28IK1Ust5VtaolpYOfStbVlMZ+jCtnoVHsIJN0eb/WnoQCLRQzdgQWRmPkW9oA1uzkm6ibWMDS608PEzNgOS/0ziXCNR2c0c15flnyTi6H2dy7dE0xKX0R9d0HNCxnRe008/j9NVn5y5ycHBwcHBwcHC8abjAiKM0AkfUtsnB6R17AGkOnuZIWKxgCP1nNUXHHOYsCiEJC2EKCuSBjGxP/zJo8cDn68DU3BR8FiBJijd64KN+6CzMH98edsX3lkAs1YKJmZn8A1vSjBuITVaGSDq10S+sA/QubMDGKEd8sWU/ZrevWUqBRVeicRP2aNHSDcjPh4jYHcUqIRZfF/p6+tBngY8CbfAF+iwQ4hcHLeKbFxGV5YkePRrCvudYDHYTQKyyOYU2C8h02c8lLJHyWB4sTZaH/N1rKbShrSNFztMcSFiwZVhWgDA3N4E2sTqLy/6ag4ODg4ODg4PjzcIFRh8w2tWMYKhViIJCFcdcko3sHIBnaMQusIJLHXNQSgJu5ynPFyFORvIDgrG3P7Qt3eFiCaQmJID9tBjpk0w81bKBvT0Pxk1bwFv3IW7eSFdurqAD5/ZjMH5QAGootVCcEIsEkS3adPKDIPcEJgV1xpJrJVEJz8wUxloFspgHPNtAtG9syRQ4C0mXz+DUP+swcdI+2E1di29aGEDb2hsNamnhwbUo/Ke8hY7zBBx7moE/+hTtf6eHrutSkHVxJrxkkVHOZSz/9hx8f96EKb660K7VEytOrUJPQ8XVcljwV9RpeA5uEFaX4s7Nm1AVD+XmIV/LApY1+bByqQNzSkFCWQEiOfkByNgb/vXfo33KOTg4ODg4ODiqKFxg9AGj26gFmhjEYt/2qOKAJidyN/5JqIaQHm3ZkR5aDh8Cj7xwbPkrtWS3OIY4dif23fHF+KkfscuCMWqED6RH12DN9aJpYY9xbPMB3K/3ET7y5EGnzhB8FWqFi1s241a524Pn4/LmXXjU4RtMbmUIaeY1RN56hJR7acp8s3Bh9xEkO3XFR35F894Y4rs4tuFn/LR8Ffbdt0R9YQ3oybRatynGfBGCahd+wexdKaXK/lz0vDDmzwNYMcC11BS98pC/HDPqiFFD3ZD3zyqsv6GstzQd4TuPIdOzEzq786DXcjiGeOQhfMtfkG3OV4w4Fjv33YHv+Kn4yEyZxsHBwcHBwcHB8VZRLjfiqEqo164iil03gNxMapJXl48prH9bcrd2oODJ+6hkv4F8its0kvy9utPyaMUOBZKMkzS7Vw+afrBoIwVG4W3a+mkjsrJuSF2HDKeBbdzIzmMArbqap7yA8fQ8LWjnRkFzLlDRXgcKJJR2ZCKFtJ5Bx9OVd5Tcp30T/MjcyImCQsNoUHtPsvcMpRVR2YrzeXcpLlF16wUJpR8cRUJdW+qzOVmZlEJ7v/Ahk+oeNOjXS5RRsoeCemRG0a4Dz+wal7Weugh0qfkPiYrjvBhaH9aAalp7U5ePw6hfsJBs3EPpV6WsZOTHbaKR/l7Ufbls5zuGJINOzu5FPaYfpBRNy8TBwcHBwcHx1uH856qJ7Lm37F9ZgMRRhZCt91G3XcUZN3Hx8i1kwAzODXzgWkPljUwROcm4kgi4edqCUpOQZlwbtmW+yCpF9p1/cSHmEWDhCh9vRxgrN1YoRpyKG3f0UNfZtNTryoKUeKRUr4PapXYxUN7v+gMUmtRFo0ZCmMqmvEnvYE23AGwKOYsj4xxK7lNwCl94hmCFw1LkHR6tTMzC1d+nYeyUDbhl3wvjJo/HsE7uMK3oXan0AbaE+mCe005cnutXsnFC+kq0sx0H/i8p2DPERJkoRVbSZVxk9SZWb18fp7L1Rg6SFQKELaUiKc0YtcsKkIODg4ODg+M9QBM/i+P9gQuMqihVusPm78RA235InBKDE186KXeYY4iO4zP31ljl/BPyDo1UJip5Eo3N383G4g0HEF8tAL3DRmJMWFfUNy8TwSgQHcQI5644N+g0IlUCI3HkdPg0+RMhh69hcbNyAkgODg4ODg6OKg8XGFVNuDVGHO8fPDvUspHi+oljeKCybicnYhf++c8AgZ1bK1OKKMCZxV/ih8OJKDC2gv7941g1qScaOrqg5YiF2B3zpOwaJF4duDjpIP74UZU1URLcOngE8ZbBaOvNBUUcHBwcHBwcHFUJ7o1RFaVqP8mQIvXvT9F6wA6YDV+A//XzBC9hDxZMWopbzZZiz5pBEL4obpFk47+rpxG+92/8tXMnDl8FAmbtwu7JjUt9jyjz2BS06rEC1Gs+5g/3Ae/6b5g6eS8cvz+G3/s7lLyp4uDg4ODg4Pig4N4YVU24wKiKUvU7rBSZ13Zh9do9uHgnCzwLIfw7D8LgTq7P+cjs8yjA/fNb8OOyWwj4ZTY6PfOl1qzY3Vi5ejcu3MmGwMoDIf1HYGATay4o4uDg4ODg+IDhAqOqCRcYVVG4DsvBwcHBwcHB8Xrg/KyqCbfGiIODg4ODg4ODg4Pjg4cLjDg4ODg4ODg4ODg4Pni4wIiDg4ODg4ODg4OD44NHvsZI8ScHBwcHBwcHBwcHB8eHCbf5QhWFWxTIwcHBwcHBwfF64Pysqgk3lY6Dg4ODg4ODg4OD44OHC4w4ODg4ODg4ODg4OD54uMCIg4ODg4ODg4ODg+ODhwuMOCpGKkLm/WSkPhZBqkx6FUSZD/AoW6I8AgoyHyEjt+S4mErOt5jcBBzdvBF7rqRX7n1fFskjJMTdR67y8N0jFwlHN2PjnitIr1SBSZku3Edy6mOI1L3vOy+rF/G65MjxdnkJPS6mAE8ePoKKOVQgLoBY+ee7gjQ/A48yC5RHrIhZj/Aw610qJde/1EOCRwlxuP+GjKhUlIn7yal4rHnnqDQkjxIQ96YqzPHewwVGHM9H+hDH5/dEQ4e6COzWDz1D6sGt6SfYcD1feYGGiG/it4/rwd4jBO0aN0DbOf/gwMwQeAd1QICwLtotvKBweF81X3E0FnfzhV9QR/QdMQkL/ziP+6rjt4E5BNeXom+TIEw9/ZJ1qTSkyIpZi2F+9vAYcwQiZeq7hQHMBdextG8TBE09jVeXmBQPj89Hz4YOqBvYDf16hqCeW1N8suF6Bfd+H2T1Iipbjhxvl5fV4yJycWKSL+xcGqOZrxf8QrphwLBhGPxRMOq3mYer70zMIcV/24bDS9gE7YN80ebbU7j8ay/4BbRHS4/a8P1kC26X81zrzcP1L3WQZsVg7TA/Ng6PwZHXaESlD49jfs+GcKgbiG79eiKknhuafrIBL+s+vDTSLMSsHQY/ew+MeZ0V5qhSyHal46hiVEa7pm8fQNZ8V/rs6GNlSg5dmtmIjOtNorP5yiQNeLy1L1no+tKsa4VE2WfoKz87qhU0g/4VsXO/dycTp7F0jN33lfOVJNL3wU7Uc3k4Hd3xPfVzMSTrTisoTqw8zxAnLKRAPp8CvrtFKslvDElmLO37cQL1ChBSbRd/6jTsW9p1I0959h1EnEALA/nED/iObr2qwNK30wBrPrl+dpSKW/jSTGpkXI8mldPA752sXkRlypHj7aKhHpdBFEGT3HXJaexxEtFTitk5j0Z0aU7+Qf1p4ak0kigvK4PkKd27foViU99QH5Dcp1/aVKfgH++RpPA6zQ12IWGLL+hYNlPnxKUUUs2cevz+QHnxW4brX+UjyaTYfT/ShF4BJKztQv6dhtG3u27Q69OgdNo+wJr4rp9RyTB+iWY2MqZ6k87SS7gPGiKhzNh99OOEXhQgrE0u/p1o2Le7qLKHDc5/rppwb4w4nkMBYi7dhEn7kQhrZqJMM0C9DiGwu7kTOy6XTKlQDzGSrsXhSTUXeDjzAEMftG5iDJMGLeCuK0HynUw4tGsDD34l5KtdE/aWGdj39y24d/scs4bUR9qhbTjysORVvk7NGjBn2i+VvulHnSLEbx+PEJ9u+PG2E4auiUB83DnsWTUNXYV6ymveQXRqooZCYHhViRXEXMJNk/YYGdYMxS1crwNC7G5i547LyhQZ76msXkQlypHj7aK+Hj8HykBaJkGgL9NlI7h1m4xfd5/AuWMb8WVT8/Knc4ivYUl7X7Qf+yX6NWqMyWfewBNwbRN4NXYDPckE8YRoxexyvn0T+BkydbauB7caTxF5/rry4rcM17/KIIrfjvEhPuj24204DV2DiPg4nNuzCtO6CvHarGhBDC7dNEH7kWEoGcbroUOIHW7u3AGN3QdNEMVj+/gQ+HT7EbedhmJNRDzizu3Bqmld8b4OGxxvlnJtL8eHgzT1MOaOmoYdd54dRnTRdN55xOz+HPVZHFOEtp4AAmkaHjzQdL6wFoyqsZE0NwMZObJjAVotvYboxSHsL4L10C2IWN4JNbQrIV9pJu6nG6BxK38W/OjAzMyYKboUYtWpKdra8o94lZCPuK3T8PncI0h5bVOhJUjaOBjtvryBrlvO4+Di0Wjnagod5dl3G21olxYY8uO2Ytrnc3FEQ4HpNp2H8zG78XnpBoZAIEXagwfKBM1l9XxdfpeoPDm+f0iRenguRk3bgXe6idREPT1+AVQIiabT5USxuHDLG1/v2oMFnXSQ+uBNzLcToMmso9gyzJbZTB78vonAnd96gVlzZtZ1oMO8iMKC1+npasKH179eZPckSRsxuN2XuNF1C84fXIzR7Vxh+sIBp5L6qG5TzDsfg92f12caU4Q29AQCSNMeQGP3QV0kSdg4uB2+vNEVW84fxOLR7eD64gpzcJSBC4w+aJjzuekbzDnPg7NtOcZDmoGIn4cjxN0JdTx84N9qEOaHJ0PEAhmp0rBJH0fgp8EBENZ2grNrC4zdloicmN8xqmVDuDraoU7TMKy49IRdqQNboTNMJLGIuqJ4yil6fBc3b97F4wIezKxrljy9UiffR6exNCwEDdzd4FLbAcLAgVh08iEz6zIEaL/sX/wz3h7XN8/A6PV3YWF4E/s3HEfK84x9+mZMHLEN2s2aw+ale4UUj04vRVhIA7i7uaC2gxCBAxfhpPJNlTR5I8aP34aU3Ggs7eUNl4Dh2HgzF4l/TUQHPw/WBvbw7jUPx1XebEkfncXPo9vDt54HXBysYefZBqNXnceNUyvwRbfG8HCtCzsbZwT0/w5HU0tXriDpAOYPaQlvd3e41bWHvUsA+kzfgbhKWYOajs0TR2CbdjM0f0ZgFecrRUbEzxge4g6nOh7w8W+FQfPDkczUgpQNrLmsKtDl3Dhsn/YR/N1d4OLiBAcnb3QatwFRWcrzjPy4PzGhQwN23gWuAWFYH5OP/KurMMhPiDpCNzQfsxWJ4ieIXDkMIT6eqGPvDL/ecxF+v6S9NJf58+WoPkzvzizFyNErcV3pJxecHg8XAyHGnZQ5rLmI2z4NH/m7y+vm5OAE707jsEG18hXoroxXlg9zWjZ9Mwfnec4or4k04w2Ut8I8Ktbjiu4hm4sjvn8cCwa1gr+3GzvvhpBhy3Euo6QepTDsgpmzTbF1VBgWXvWEFz8Oqc9Zs1G5/d8AllYmKIzfiek9/eHBZFqnthD+ob8gUlWN1GgXPInE+nGd4OfJ9NHZGfVbj8Hqy5nIjP4DX/cJgq+XGxztHFCvzSf46UyRTVdSkIQD84egpbc7u39d2Nu7IKDPdOx4bqUqo3+xWr2EHS5I3I1vxi3HRflw9wRnF3RDPUd7OLi0wazdOzGjLbNjzg6oVbcZRmyIeck1ky+we9JkbBw/HttSchG9tBe8WfsP33gTuYl/YWIHP3g428LeuxfmHVeRcSX2UWlGBH4eHgJ3pzrw8PFHq0HzEa7oHMX5vXgcZ+fV9i/kVyN543iM35aC3Oil6OXNdGP4RtzMTcRfEzvAz4PVyd4bveYdR4k6qqGvHB8kyll1HFUJddtVkryHJgQ4kEefJXT6geqkbDHFLWtD5obe9GX4A/l8d8njaPp9REMy0jGl0O157JIb9HO7GmTSdDZdzJJQ3tXvKFjYnULbNKZxxzJIUnibNvS0Jb5NH9qcIiHJ3aUULOBT4Ky/acXHgdSgcTA187Qkwxo+NGR1NOWom2/2Gfra14K8PjtIqbIii1Np/xh3Elj2ps33Zb9gPL1IS7o6kk3gV7QnKZ+yo1dQDwdDcui+kmJE7HzOb9SVlcV/XpxijVHhVVoUZEvBP7z8mqPsM1+Tr4UXfXYwVX4Pcep+GuMuIMvem+m+REwxcxuTrpaAPMYeojRJISWu7EIu3QZTd98w2sXKLUnZSUPr8sms7XKKl90gI5y+bGBCdQZspFuyudGSdDo3vxXV0NEh3dodaM7BJPlc7ZyY1fRRLR4ZNJxCp7JZAiMvehl1tLWgwMkH6K58QreIksNnUnANPlm2/5liC+WXaUAO/dZVQHz/ecq1WoV0dVEQ2Qb/UGouvzr5iuOWURtzQ/L+MpweKBqYon8fQQ2NdMg0dDtLeAlZyW7zPF0W36Z13W3J2GcCHUpRVDzr2hrq48inmp1XUQK7VJK6gwY7GpDr6AP0kLXVvS2h5BIyhaZ2aEyfHU5jupxAKzp70dAZn5Bvux8omilr4Z2N1NuWTzX6/CG/p3oyV0+OmiCKmkdNTevSp0cVPUhG/rGx5MR3lKfdXtedbI19aMKhFJYbI+sarenjSPyanWmVrPKMF+tu5ciH3YWS90ygAAcP6rPkNJUyNxryJspbUR4V63EF98jZTR/X1CED90G06lK6/Hxh6iH6oqEhmQZ/T7KlmGV5Smdmd6eB8xbRkJCB9M03faihW1uacTCl1Jqkyu//rHp3N1Ffe2PymXCY7ssrk04XVw4gNwMe2Y04KL+mIplR1ln6X4AZ2X+0mmJl6irJorhtn1EjRweqVaM+jdqVxErKkjMu0OJOtsSr5kPTTmexFEZeNC3raEsWgZPpgKJSJEoOp5nBNYhv2Z5+lleq8vvXS9nhJ7G0sJkRWQ3aRTKTLI5bQM1Mm9Dc6yJK3z2EarHf2n28k9IleXRhqhfxTXvRH0VrcTTkeXZPHDOXGutqkcBjLB1Kk1Bh4krq4tKNBnf3pbBd90kiSaGdQ+sS36wtLS8yopXVR8VxtKyNORl6f0nhis5Bj6N/pxENjUjHNJRkwzhTlheP4xr6F6zCNLexLmkJPGjsIVkfT6SVXVyo2+Du5Bu2i+mfhFJ2DqW6fDNquzxerp8V6msFcP5z1YQLjKooGrVrYSqd+L43eToH05T9yXIDQaIzNEHIJ6Mu6yhNfpGCwiszyZuvCFBEx2XOlzn12/pUcVK26UGL6mTkM4XOy0Y3RuHFqeTJF1Dz72+TuPA8TfbgE9+gNnVZdlURCDEH5ddONUhb15XGn2ApauSbtr4rGeu1pGXJJZarMHI6efGrU49Nmewokw6OciZdq960SWYwlWQeHk11+EYUvJgFP88GRgxx4mrq6taBlr+M18BKu76rMem1XEYlxSqkyOls0KvegzZlptOajvqkZdCGfikqU/oa6mxWnYQjDykXo4opdk5j4vMb0IzIfLrO/tYzbE0/31Ox0OJbtKiZPunYDKG/lf6CbNC5u6IdVdeuTp3W3GfXJNBPraqTrs//KLpUVcSUsCSYDHUsacAOmZw04VmHgyFOpNVd3ajD8liFw61Wvg/pzAQh8Y260LrSDUwzvflKh1JTWalkVo4uF0b/j3x0LWngzmKBMViZFjZlv/enuXH5FDWjIfEFQbQ4UZlf/jEa62FNtm2+oxvK+qat7Ei1bOpR2N9yzWXk0V8DzIlfe7SadZfJXA05akQ+hY+pTXyLgbRT5mwoKQ6MDl+i//nokuXAnVSq9gkLqSmf6f/cOHZUke4Wvrp8VChMPUHf9/Yk5+AptD+5SAia8CbKW1EeIjX0uIJ73JcFRnxy+ypCHgwUIbNv1Xl2NOJgUYNmUuT6yTR57VXKTl9HXWz70tacHNoe6kT9t2dRIgt8ras3oInhGYrLX0v/V9bXoh9tVf2p6AR95sxXBkYVyYz12QVNyUC/Bf2gDMjlFF6kafV0qWbotuJNLGRI7q2kjsbaVL3jKnbEyv5TK6qu60P/K10pVt0lFGyoQ5YDdrCjyu5f4pezwys203AWZNceHc56KJPBjAZkHLyEbrMySVKWUUtdXWqxOEkezOZs6k4G/CY0v0gxX4Zy7F76mo6kr2VAbX4pCpqZXe1sRtWFI+mQwoiSOHYONWZ2oMGMyFKyedU+KjozgYRsrO1SunPQlZneLAhUBEYVjeMa+xdsjOior0UGbX6hkmGjM5lVF9LIkgrTnMbMB2kwgyILK9JXZdIL4Pznqgk3lY4D4Fmh+fjN2DPFCGv69caiq2JI0yMRlUSwqSuEkfKy0khxP/Iq7qEW6tbVVyRpm8Osugj5+mawUL6G57m5oS5fjDvxtyHmeSKwkTlg2hqjhnnCQH6BE0L7B8GoMB5//3UZ+Wrkm5XxGPmGNrA1K1FfbRsbWGrl4WFqBvDkANb8kQTTdv3RzbrkGuPm/dHVKQ9n/t5f7joindr9MDzgCqaNXo6bms6vlmYh43E+DG1sUVIsbdjYWEIr7yFSH6UhPVMMbSsXuBZdYGAKY+RB38JCuXZGB/ZCJxhK7yA+/gFOnbwCsa0n6tVQ6aY6jmjX2gPaDyNw+nrRvH5t2LZtjQa8HFy9fB3IOIr9Z3Jh3zQELirLH2T3d+jYDl7a6Th/+qoy7RXQqY1+wwNwZdpoLJcJTJ18T51BZFQSyKYuhOU3MCB5rJmsbqussyhHl7V0DaCvZwcnZ9WVtzqoYWHCJJeDnKdpOHsuBlJrD3gV6Qu7j3U11mb6VsVTSvRNqyPrEWBlo6tIgJZ8zrxWNeNXk/mzctQICdIePYZUS+uZNXNF6MJAXw92Ts6lFlrr1LCACatqTk52xbqb9vDV5aMCz6o5xm/egylGa9Cv9yLNt6V+E+VVI48K9biiezwuv62NXFxgiwe4GnWXHUlw89dQdJyfi7a9PGFY3QuBdSPwdauWmH7FD60a6qP2wG8x1j0OSz+bj3Oy+Vivo/9L/sPpc4lAbTe4V1OmPYsaMjsRfgkF9r5obKdsBIbk9hGExxHqNmhYyuZrW3dEOx8eciIj2FEGju4/g1z7pggpXSnoOLDrvLSRfv60MuUZXqV/SdNfzg5HG6JHV0fc/3MqRk/9FJ+tFaH/xIFwYNXW5vHAY51VW6vofrK+S8zDVh6+DGXsngiP0zMh1raCi6sZK5kMA5gy1c7Ttygen3XshXAylCrGZ0WSnFfro1KkR0YhiWxQ9/mdo4JxPE1j/0L0OB2ZYm1YubgW65+BosKwKKkwhE6GkN6Jx+2CCvQ1Q1NbzFFVKNFIjg8PaQZuxCYrDaIOavcLQwe9C9iw8TJQoPjAoBZzuMqgxQOfDwj0+MygF0BUUBRl6KPR0PmYPyYYNYrGPakUUhZ/G5ubsRwM0DjQB7oPo3ApocTo8AwNocey4fHZgFdhvtqw7zkWg90EEKvYLW3m/Omyn0hYoiQjGfdztGBsaqay8JOhY4ma5mwIynqCp+UOQgI41rZBzukd2HNXQ6OobY+eYwfDTSBmrkwR2swh12UykrA6mcLclAlNwsqnPAt+fYTOmo/x7e1KOqKEBaVaJjAzy0NunhQkEkFUqqxazMibsv+KZaIqRtvEGNWYzPi6fEhzniJHwpw8Q/0yHVzH3Jw5xMSy0Wikey4Cx9qwyTmNHXvuqplvPgoUDczq8CxaTAeYjHQ0lRW70wt0WcflC2zZPxvta6qWSoQr0TcB+xZo6SZGvkzI7H4lUuFDl+mUvj5zlJUp2nwB9JnjLFNTOeKbuBiVBc8ePV5Z5qpy1AwBPBu4gpd5GeeUa/fkjsnde5Av/dAR4ost+zG7fc1S5RJdicZN2KNFS7eKdVeS/8rykSHNuIHYZOUdZM5qWAfoXdiAjZpuUfUmylthHgUV63GF92AOcpGdVEFboCu3ZXIydmDmjCOo0WsImsoCEl5DfBV+DSf/2I4z/27BYCd2Ax0X9O7uDYrbhLVH819P/6c8JlP2r0ym5dhObW1Wjgrrmyu3adDhsR5agiTzCbLYPUXM1pVC2wQWZixoZXaAVQpPcyTQ0jOEftlKwZxF+cTK9jxevn8pyqy5HTZFux9P49yaYWhg2xiTWFD3U3tlgGLeF6uirmDDx7Zl2kdjnmv3omBqbsq0ntnQ4sbgo37oLMwf3x52xRmzdpFqwcTMjNWl8vpogaJzyLpHGbR4fFaSisdxTf0LXVNzKIaNkhvy64di1vzxaF9SYXZvKbRMzGDGgqQX66syieOD45X7Jcf7iuzjgkHovORaiVHgmcHUmJmi/HxoW7rDxRJITUiAfBM5JdInmXiqZQN7e12YBzaFp9ZdXI3OZK6YDB7cu43D+L4+xU/+CmJicAsu6NjZQx6kmAUGwAMxOHc2XfkbNiBmZCBLqyYCWtSHXoX58qBdqydWnFqFnvJtkZQwC1ykzDoWNrA0lCI59nrpL6CL/8O9+6wM7vXgwK8GI0MtFBYUyhdAK5AgO5vlyjOUn9MMbdTquQKnVvVU7NakRKv4qaAxmrbwZkHhTdwoKpSOM9qPGY9BATWUZRcjITYBIts26NTYAS51azBBROJSqe2BpLiX8gCkL4SnsCTsE8ffxn9SU/gF1JO/aaljTkhJuI085fkixMnJeEDG8Pavr0xRF21UMzKEVmEBClUcBEl2NmsnHgzZObXybdIc7ooGRkLpBkbmUy3Y2NuzAw1l5Sd5oS7L9NI2sD0aW7JfZiXh8plT+GfdREzaZ4epa79Bi2rW8G5QC1oPriHqP+UdWH4Tjj1Fxh99FG82GXpd1yEl6yJmesnknoPLy7/FOd+fsWmKrwYyr1iOmqED99E/YEaLTKzo1xEjJk3BuIFt0WvpNRQqr+DZBqJ9Y0uWcxaSLp/BqX/WYeKkfbCbuhbftJDVrgLd1X51+SD3BCYFdcaSayW6zDMzhbFWAeRNpBFvoLwV5mGphh5XcA8dO9hZayM/N1fFBgF5zPbdoxpwr2eP7PCd+CdND0IPodx+ytE2hKWDLUyLXnQxHbCr746aeIjIi/GQvo7+z3OAm7A6pHdu4qbqTSkXefksSLCsyQ4qbpf6ntbA3Su4omKYdR3rwlFPglsXIpCmaq8lqbibIoKuewP2Wyu41DEHpSTgdtlKIfkBwdjbnx1Ucv+S5fuSdhg6NdCg6zCMHTMEHeuZspIp0TZGLVdX1JK9sn0lXjyGGzdtAW/dh7h5o2is1YFz+zEYPygARS+/xAmxSBDZok0nPwgqrY9qw9LdBZZIRULpzoEnmU+hZWMPNoxXMI5ra+5fGDdFC29dPLx5o3jc13FujzHjByGgpMKITRDBtk0n+Akq0FeODxrlrDqOqkSF7SpJpmUt9cik02oqmjr99NSXVM9QudaHRBQ5uzEZGQfRwmtFM+Az6OBIIVXznUVRsgnJkvu0bYA9GTdbSLHlTkN+SodHC8mhw1c0+6vJtF62mlh0XD4n3SZsv3KtiIjOfeVGus5j6Zh8Sr0a+ZZH1nrqIlB8sFV2/a4htYin60oj9hTNrxbT3c19yM4kkOZFsftK7tGqjiZk0GgmXZStjpWRHUFTGwjItONKSiqZ9vxKZK3vQgJ+AH13S0yStL8pzNGYmi0sWddUirwImuxVi7qvT5Sfz78wg3wMeFR74LbiOdCS9AP0idCAhJ8eopIp0I/p0CghmQbOo0i5yPLo3FQv0rfoTutV1ljJ5k9Hz2pEFgHf0r/KKdfqI6F7qzqSiUEjmlkiMIqY2oAEph1ppVxg6uUripxNjY2MKWjhteK1FRkHR5Kwmi/NUjawRrKqUJdLKLy2lsaG9qLOTZzIqdk4+iNGcV58Yxm1MeOT46DtKvPNX4SYCkvporoyV0eOL0M2JUXso62bttDeiDuUUbz5gkpDF16jtWNDqVfnJuTk1IzG/RGjWOf3HFR191XlI0leRi31TKjT6nvK/viUTn1Zjwxdx9MzTfTSVGZ5n4dqHurocXmU3COfomb5UTWnobRbvkCdIYqjpa1MyaDh1xSRL6bbi5oSX1uxtvJFyNd08HgknHCGleV19H+inJMTyVPflFr/GKesr4TS9o2gOobeNOOSOvVlMo6eT4FGAvL44hizWkWk099htYmv60ZjDj5U6gezakc/J3cDRwrbrVinknduKnnpW7A+X3qjicLoWdTIIoC+lVeq8vvXy9th9cjZ1IMM+f40L07DtTwV2T1JGpOro3x8Lv/WeRQx2YtqdV9Piex8pfZRUSTNbmxExkELqWQYP0gjhdXId1YU08TnoDqOa+xfiCjt7zByNG5GC58jy7yIyeRVi/ULWYWfg6q+VgTnP1dNuMCoilJxu0ro/r4J5GduRE5BoRQ2qD152ntS6Ioo+S46cgpv09ZPG5GVdUPqOmQ4DWzjRnYeA2jVVZVBOvM0zQp2oZaLooqdAwUSSt45jHw8u9LEZVvo8LkYSpH/LIu2hZqTru9sui6zO+IYmtPYhJouiC1xgCvKNzOKdh14ZiGt3KDqUvMfEuWHkoyztKiHkKob2lOTj4bQ0B7+VEfYmqar7N4kil1HA9xMqKZXF/o4rD+1dbcmh+DJtE89T6oMmVG76MAzGzfIjaxuc/pBuQj86fkF1M4tiOZceGakYYPYkYkh1HrGcUovzl5ECVvHUhMrI7Jt3IOGhoVSSzcnajTiN4opagLJQzqzsAf5t/2aDqSoGPL8ONo00p+8ui+X77gla4+Mk7OpV4/pdLCUs6QBolhaN8CNTGp6UZePw6h/W3eydgimyfuSi2WqXr6FdHvrp9TIypoadh1Cwwe2ITc7Dxqw6iobqktQX1YV63Le3ThKVN19QJJOB5kTo2vbhzbL21tCKXu/IB+T6uQx6Fe6lPESMlJX5urIUUPyU+6V2kGqZFc65izm3aW40pWn9IOjSKhrS302J8tTKtbdV5QPc3L2TfAjcyMnCgoNo0HtPcneM5RWRBVbG4147eVlVJxHxXpc4T1yrtLK/h5kUyeY+oUNpe6+NlSj/hBaH6Nw8u//3JoEWrrUclnpYOBZ8g+OIDsdPvl9e11hR19H/2e1ilkfRg1qWpN3l48prF8wCW3cKfTXoh1F1ZPZrQ19yVm/JjWfvIcSiwK0p5doeagnmVazp8CeYTQstCW5OvpQ2JrokvGI8ilu00jy9+pOyxWVYnb+JM3u1aOUXa/8/vUKdlgNXjowkulHRWP40/O0oJ0bBc258MxDEBbUHplIIa1n0PGiAaeS+2jh7a30aSMrsm7YlYYMH0ht3OzIY8AqKnYf1BjHNfcvntL5Be3ILWgOlR02jtDEkNY043h6sR5UrK8vhvOfqyZcYFRFUbddJVlJdDF8H+09eIZuZJQ2EAoklJV0kcL376fwC7cpszzbnX+XYuOVO8eokJMUS7fL2FQJpa5oS4bVu9Pvj5nxjP4f+dUJo71ltip9Tr7MeP/Rx5bqT7lQ2qCm/UptBfrUaa3qjcT0NPESHd2/lw6ejqGH5T3FK0ynG2cP0d69h+hs7MNnjK/6SO7/QX1s69OUC6VlmPZrWxLodyLVYhWmxFF8GUdNRMm3EkvtHFZMXgpFnzhAew+coCvJpa19YUo0nb2aqnz7Vpbse1F09Z6sVvmUknjvhW8I1KOQ0m+cpUN799Khs7Hly5ShTr4K3dtP+8Mv0O1yFUszWT1PlyVJq6mzTTAtfuZpsejkOKrL06NWy1OUKWxYjf6Nxrawpeo2TShswW66/hIOtXoyV0+O6pAVMZdCGo6igypKUBwYHblBqzvbULByB6xiRCdpXF0e6bVarpHuvpp8lH16H+uPZ25QueZGDd5EeTXJ43l6rP49ZHbqApPLPubgxdNjla4gOjeRXHnaZN7rD0pXppVFQneWBJGujupOdgoqv/+z3J4m0gXWz/YdOU8JL1nf5MOzqUsdIzJx7UZTN0eRolkklH03ko4f2EsHTlyhZ0xdCdn3KOrqPbmtzk9JpHvlXld5/auYl7HDGafpu+5NadjWkjdhz5K1oSvp6zalRbIt616CCsfwwhSKi88ok78o+Vbph0VyKqePFiPJoqSL4bR/fzhduJ1Z8vBTk3FcI/9CRiGlxMUrdUoFUTLdUqmwJn38eXD+s7pk04Ok23Q37XmeyrsFFxhVUd7ldhXHzKFG+m701blsOjepEbVeosG3g/IP0HBbXfJ8xqAW/vs11RfUpXEnK2ME1Jz8A8PJVtfzGSNbSP9+XZ8EdcfRWyoWByPvrwFkJgikhapbBDPkwQMLjFr/cl+ZUkQmXdk0hXr62pChiZBaj/iOdlxJU19H3ygPaW1nI+I3nFFqmml++BiqLdPHU9togJmAAhcmlC6/bPtqJxYYtf7lJXT37crnTZS3MvpzpdiEwmj6tpE+aVdrSt+V/2EjZlATaEmwIfHdv6Kzb9Hv0LS+krQLtGZcOxKaCKimTz/635ZISns3O9lLIqbb3zcngW4QLb7zvLBIRBGT3IlvPYT2VEbU+r7wDozjldE/Of9ZTXK2UT8THjmNPVb24cE7CLfKjOONo+PcAk1rpeDm1cPYfLkJJg+rU2qXohfCqwMXJx3EHz+KW8VrRCW4dfAI4i2D0da7eEXyG4VXxwVOOvE4fvRWyUJYyS0cPBIPy+C2eEvF4mDw7GrBRnodJ449UC7ilZGDiF3/4D+DQHRubaFMU1BwZjG+/OEwEguMYaV/H8dXTULPho5waTkCC3fH4InqAvG3jVSKwkIxpA9TkFK8KZcEKdHX8cg6EC3qO6CWjRTXTxzDA5Vy50Tswj//GSCwc2uNdfdty+dNlLcy+nOl2ARePYz7cTL8eecwZ+gMHM94trASJG76Cgsv1MboJZPRRKBMfgtoVF9JElZ9Ngq/nEoFv4YFRFf/xDf9fOHs3g5jf/wHCdnK695rtKDD04GWJAYnwu+VyESF/Ou/4n/r7qBe2CdoVbQryIfAOzCOV0r/5KiyKGOkD4jCexRz4/FzX21XBd7tds2h3YNtqJZXMxq06pkpPmrw+Ohk8jExIe/hK+jQhYt0dN1Y8rd0pH4bk97iU/3HdHSyD5mYeNPwFYfowsWjtG6sP1k69qONSVXqMej7hySFdo/yIKOazWj8+nC6eOkEbZnZkRxMhDRgw40Kpk+KKetuJB1YN5tGdfYmKz0+WYXMo4hy5zy+DST0cM9IcjEwIf9xm+jUvxfpyNrPKbCWJ43YKVtTIaGU3aPIw6gmNRu/nsIvXqITW2ZSRwcTEg7YQDfklX8V3X0b8nkT5a2M/lxZNkFC6acXULc61ciwTgeasHwHHTv/L104voN++qwlOTs0p6/23H2Ltq+IV6ivKI1ij2+i7z7tQl41dUnXtiXNPVN2+tT7hiTtME1ubEY6evYUMnohbTxwhv69EsXabhetnNGXGta0piafbaOE1/+C5J3j7Y/jr94/Pzz/uZDuxdygx5o6be/ZGyPZnsSyf2UB0geBNOMsvh/YF9OvtMCmyA34SPWjbVUI2XeA3uV2fbx/JkZsNcPEFZ+jkeqXJ9UkK3Y3Vq7ejQt3siGw8kBI/xEY2MRa/TdPr4UsxO5eidW7L+BOtgBWHiHoP2Igmli/3VJxMKSZuLZrNdbuuYg7WTxYCP3RedBgdHJ93gcIy6fg/nls+XEZbgX8gtmdnvelyzeNFOmX/sCK3w4h6l4uDGr5oFPYSHxUX/YBW8X5zGu7sHrtHly8kwWehRD+nQdhcCdXlQ9qVo7uvjn5vInyVkYelWgTRHdxZvtW/H0yGknpedCpbg1ho7bo3bc93F956+fKohLqm3sXJ//4GatuN8GyOV1R+vPA7yHih4jauwN7TkXh1r00ZBcCutVqwN7NDy27f4TWrkX99MPj7Y/jr6av756f9QRXtv6MDfsvIPrWf8jI58OsTmN0G/UVRgbZlGz5/zJIM3D2+4HoO/0KWmyKxO8f1VCeUIPc7Qi1DcXlIYdxuNtVLFyyA+f/K4RV44GYNms4Gqt85Pdd4IMKjPLjNuLTXqPxW3ojTNu0CdODZd/2qJq864ERBwcHBwcHB8f7yjvnZ4mvYFZId+wSeKOeky3MdTMQufcvnHxQB18dPo95gS/xFFpGfhw2ftoLo39LR6Npm7BpejBknwVUG3lg1A+n3QMguBILozbdEWh8A7s3n0Z+u5W48NdQ1H5z0XCFfCCBkQSph/+HfgO+w5Vaw7Hyz8Xo5Vy1J5BygREHBwcHBwcHx+vhXfSzZKsQVWMWSfz3CK43GQ9GH8eN7wOVqeojST2M//UbgO+u1MLwlX9icS9naOw9ywOj3tiS64zQtQewpn8dCJCPiEm+aLZYgK8vn8fMeq/0PqtS+QDe4GYh8pd+aN71eyS3WIKjx5ZX+aCIg4ODg4ODg4Pjw6JUUCQWQ2IlRB1TIPvJE2Wq+mRF/oJ+zbvi++QWWHL0GJa/TFBUjA6sQ7/HL/KgSIYeGrYLQi2KQ+S/OfKUd4UqHxhln5iJ/p9vx906Y7F+3Wg01GxJAQcHBwcHBwcHB8c7jggJu2agd5M6sDDgg6/Lh8CoC9alSqHxe63sE5jZ/3Nsv1sHY9evw+hKcJ71jKqXCqx0atSEmZYYTzOfKlPeDap8YFStxXzs2fgJPO4uRo+O03E4tbxNMzk4ODg4ODg4ODjeT/JPTUPnPvNxsebHWLbvHK5cvYZrkSvRs+ZLuPrVWmD+no34xOMuFvfoiOmHU8vdcv5VkGZnI4d4qGb8br2x+ACm0unCufcvOHpoAQLuLESXZn3xc2SW8hwHBwcHBwcHBwfH+4wY1w4eQjz5YdT3U9E32Bf1PDzgUctQtsz+pdB17o1fjh7CgoA7WNilGfr+HInK854l+O9MBJK0PdDI713Z4VXBBxAYKTBpNA7bTm7H2JrH8HlIMMbuSESB8hwHBwcHBwcHBwfH+4kWTE2NoSWNx8m9/yI1/T9c/msO+jQfg12Zr7BBhEkjjNt2EtvH1sSxz0MQPHYHEl/Sec5/9B/u58v+KkDqqUUYsygCpl0+wxC3d2fjBRkfTGAkg1erExYcPoYVHbLx2/hvsO/Ra/5EOwcHBwcHBwcHB8drRQeOg6ZgtFcBDo5vBBsLe/j1X4XMjxbgC99XDDx4tdBpwWEcW9EB2b+Nxzf7HilPqIlOTTi7WODx1o/hZGwMM5PqsAueizuB87D911DYvmORyAf3gVc50sdIfSiAtZWBMqHqwW3XzcHBwcHBwcHxengn/SxxBm5cuIj4LEM4NmwE95qVuQuzFI9TH0JgbQXNvWcJsu7G4PrtZGTk68HazRdeDtXeybczH2Zg9AFQUYfNTTiKXedy4NG+I7zMK1E1pSJkPkxDnsAClqYCNZRegkcJtyCxdsX7F6dKkZ+RjvxqNWAitz1iZD3KAExrwugtvhmWijLxMC0PAgtLmArUaNvcBBzddQ45Hu3R0cv8rRiqgicP8UTHHDWqqX7lTYwCMQ+6GshSUlAA6Oq+li+nSx4l4JbEGq5V5oFKLhKO7sK5HA+07+iFyjMDUogyHyItTwALS1Ooo4JVT7aa89plUPAED5/owLxGtVL9Q1wgBk+TTvZeUgm6rvHY9hqQPELCLQmsXTV3TF/bmP8Bwz2ArppwveMDxcBcgOtL+6JJ0FScls/5fEWkD3F8fk80dKiLwG790DOkHtyafoIN1198c2lWDNYO84O9xxgcESkT3wek/2HbcC8Im7RHkG8bfHvqMn7t5YeA9i3hUdsXn2y5Xek7uFSE9OFxzO/ZEA51A9GtX0+E1HND0082oIImkCkDBNeXom+TIEytFGXQjNwTk+Br54LGzXzh5ReCbgOGYdjgjxBcvw3mXRUrr1KHDGwZPxZ//qfJb9REmoWYtcPgZ++BMe+Vor4IA5gLrmNp3yYImnoar97yUjw8Ph89GzqgbmA39OsZgnpuTfHJhusvvneVlK2GvG4Z5J7AJF87uDRuBl8vP4R0G4Bhwwbjo+D6aDPvKl5Dj3nHeAVdf8mxrfKRIitmLYb52cNjzBFoqiWVPuZzcFRhZG+MOKoYFbermBIWBhKfH0Df3RIr016e9O0DyJrvSp8dfaxMyaFLMxuRcb1JdDZfmVSEJJNi9/1IE3oFkLC2C/l3Gkbf7rpBecrT7wOS+79Qm+rB9OM9CRVen0vBLkJq8cUxymZyTVwaQtXMe9DvDyTKq98E6bR9gDXxXT+jkia4RDMbGVO9SWfp2SZ4FnHCQgrk8yngu1usBm8SEUVMciddp7F0XET0NGYnzRvRhZr7B1H/hacoTSMR5tOlHzqTsKYVCQM605CvvqftVzLo5VtBQpmx++jHCb0oQFibXPw70bBvd9GN90lRK0KcQAsD+cQP+I5e2Qykb6cB1nxy/ewolajgTGpkXI8mlTUCVV+2FfLmZCCKmETuuk40VtHJaOe8EdSluT8F9V9IpzTrZO8vL6nrGo1trwFJZizt+3EC9QoQUm0Xf+o07Fva9VJKUnljvuTpPbp+JZZSP6j+WhbOf66acG+MPlh0ULOGbNqUFNJXfrVRgJhLN2HSfiTCmpko0wxQr0MI7G7uxI7LJVuYiOK3Y3yID7r9eBtOQ9cgIj4O5/aswrSuQugpr3kf0DbxQmM3wpNMAk/YCs1M8mHfxA+Gsq8713NDjaeROH+9UHn1G6AgBpdumqD9yDBWFmWaQT10CLHDzZ07oNIE5aJTs4Z8eon01ZVBQwgZaZkggb68/Y3cumHyr7tx4twxbPyyqYZTXgTw+eJv3LgbhW3Tu8Dy6k8IbRKEaWde4vGoKB7bx4fAp9uPuO00FGsi4hF3bg9WTesK4fukqBWhUxM1FA3/ym84C2Iu4aZJe4wMa4YSFeyAELub2LnjsjKF8aHI9kW8YRlQRhoySQB9RSdDt8m/YveJczi28Us0/VCmVb2Urqs/tlU+IsRvH48Qn2748bYThq6JQHzcOexZNQ1dX0pJKmfMF19bgva+7TH2y35o1HgyznygL3k5qi4fiEXkKA9tbdkSMxXy47B12ueYeySFmU5N0EXTeecRs/tz1FeZqq6tJ4BAmoYHDxR3kyRtxOB2X+JG1y04f3AxRrdzhekLF4NIkXp4LkZN24E7b9pfrwhBE8w6ugXDbJkMeX74JuIOfutlKD+lpaPDOlYhZMtdKh1pKg7PHYVpO+6UHtx1m2Le+Rjs/rw+SppAG3oCAaRpD6BsAvbzw5g7ahp2PCtQbW35gsMS8hG3dRo+n3sEKZWyeePz2pJQKKnkiTwCS9RvNwzffj8cDQpv4NKVTM30WZKEjYPb4csbXbHl/EEsHt0Ori9W1PcYbZQ1A1sx7fO5OKJhw+s2nYfzMbvxeWkjAIFAirQHDxTHGsv2HbYBL+J5/VTGW9AvKpS85uly70M7vYyuqze2VT4SJG0cjHZf3kDXLedxcPFotHM1feW1k5Ux5otiL+CW99fYtWcBOumk4kHVn4fJ8YHBBUYcxaRvnogR27TRrLlNacUoSMKB+UPQ0tsd7m51YW/vgoA+07EjLld5AUOagYifhyPE3Ql1PHzg32oQ5ocnQ8QcX6nM4kqTsXH8eGxLyUX00l7wdgnA8I03kZv4FyZ28IOHsy3svXth3vGHJQaaORCbvpmD8zxn2JYZEXIRt30aPvJ3h4uLC5wcnODdaRw2RKl+fow5939OQIcGLuwaVwSErUdMfj6urhoEP2EdCN2aY8zWRIifRGLlsBD4eNaBvbMfes8Nx31lIaSPTmNpWAgauLvBpbYDhIEDseiksowGlrAyKUT8zuno6e/B8qiD2kJ/hP7y7EfQCpB0YD6GtPSGO7tPXXt7uAT0wfQdcawWmiFJ2oRv5pwHj8nrWZFIMyLw8/AQuDvVgYePP1oNmo/wZBHziqRKmbLBdtM3mHOeB+eyAi1N+mZMHLEN2s2aw0ZFGaSPzuLn0e3hW4/V18Eadp5tMHrVedw4tQJfdGsMD9e6sLNxRkD/73A0VcVDelFbyiYkiO/j+IJBaOXvDTcmZ7eQYVh+LkPtwboMknSc+2M/Emr1RljnmiX6XKEuS5G8cTzGb0tBbvRS9PJm54dvxM3cRPw1sQP8PFj57b3Ra95xPCwqXG4ctk/7CP7uMj1zgoOTNzqN24BSqih9hNNLwxDSwB1uLrXhIAzEwEUnS+5RCboqoyDpAOYPaQlvd5ZPXXvYs37WZ/oOqHbVF5OOzRNHYJt2MzRXbXi1dFiKjIifMTzEHU51PODj3wqD5odDoYKyQr6EbN8BGyAr96PTSxEW0oDpjAtqOwgROHARTpY0Xhme309fQgbPUJC4G9+MW46L8if1T3B2QTfUc7SHg0sbzNq9EzPaesDZ2QG16jbDiA0xyrUo8k6G+8cXYFArf3i7MR10C8Gw5eeQoZLPk8j1GNfJD55Ml52d66P1mNW4nJmJ6D++Rp8gX3i5OcLOoR7afPITzqgW8IXtVB7q2UTpozNYOnI0Vl5Xet8FpzHexQDCcSfZHdj5xxH4aXAAhLWd4OzaAmO3JSIn5neMatkQro52qNM0DCsuPVH8tgzP0/VnqGhsk1OBjkgfI+KnwQgQ1oaTsytajN2GxJwY/D6qJRq6MpnWaYqwFZdYayovT96I8eO3ISU3Gkt7eTPZDMfGm7lI/GsiOvix9rW1h3eveTheSkk0H2eeO+a/AMMuMzHbdCtGhS3EVU8v8ONSy1mzJcXjiJ8wOECI2k7OcG0xFtsScxDz+yi0bOgKR7s6aBq2AqWahgVpf07ogAasL7u4BiBsfQzy869i1SA/COsI4dZ8DLYmipmOrsSwEB941rGHs19vzA2/z3IrovLGWo4PG+WsOo6qhDrtmvNbVxLw/WlenGK+ceHVRRRkG0w/qM4/zoumZR1tySJwMh24q5hQLUoOp5nBNYhv2Z5+ji1kKWKKW9aGzA296cvwB/I1HZLH0fT7iIZkpGNKodvzSBwzlxrrapHAYywdSpNQYeJK6uLSjQZ396WwXfdJIkmhnUPrEt+sLS2PL8pfQsl7JlCAgwf1WXKaHhQXS0y313UnW2MfmnAohWQloKxrtKaPI/FrdqZVCbILJZS6YzA5GrjS6AMPSSK+R1tCXShkylTq0PgzOiwrQ8IK6uw1lGZ84kvtfoimHHanOxt7ky2/BvX5I40o+wx97WtBXp8dpFTZLcWptH+MOwkse9Pm+/Ja0t1NfcleVo7D9+Vrc8TpF2nlADcy4NnRiIMyeeVR9LKOZGsRSJMP3FWs9RElU/jMYKrBt6T2P8cqyq8ukmTaMyGAHDz60JLTD0rWA4njaFkbczL0/pLC5WubJPQ4+nca0dCIdExDiTWBHEnyHpoQ4EAefZbQ6RKBypSBugr45D8vTnHPwqu0KMiWgn9QWXOUEU5fNjChOgM20i3Z/STpdG5+K6qho0O6tTvQnINJ8vrlxKymj2rxyKDhFDqVLf8l43ltmUe7P65JOgbuNGjVJUqXpRem0qEvGpKhaTB9f00j6cjL/X0nN3KsaUgGdfrS2hiVRQDq6LI4huY21iUtgQeNPZRGksJEWtnFhboN7k6+YbvovkRCKTuHUl2+GbVdHk9i8W1a192WjH0m0KEURVmzrq2hPo58qtl5FclVkbLpzNe+ZOH1GR1UKBKl7h9D7gJL6r2Z6X5l6CojL3oZdbS1oMDJB0hRPRElh8+k4Bp8smz/M8m7ahly6LeuAuL7zyOFGSikq4uCyDb4B5V1GOrpsDhuGbUxNyTvL8NJoYKPKfr3EdTQSIdMQ7drLltZPs/VmzdkAxjZZ74mXwsv+uxgqrxM4tT9NMZdQJa9N7Myyy8py3P76cvIQAVxLC1sZkRWg3YxrWKHcQuomWkTmntdROm7h1At1hftPt5J6ZI8ujDVi/imveiPx6wFd39MNXUMyH3QKrqk6GSUeugLamhoSsHfX5PLL+vs/yjAzJ4+Wh3L5MCqkBVH2z5rRI4OtahG/VG0K0kkS6WMC4upky2PqvlMo9NZLEnO89qpPNS0iaIomtfUlOp+elReHjn5x2isE58cWVq++Ab93K4GmTSdTRezJJR39TsKFnan0DaNadyxDCbb27Shpy3xbfrQ5hRZQ6mj689S8dgm48U6IqYbP7ejGiZNafbFLJLkXaXvgoXUPbQNNR53jDIkhXR7Q0+mczbUZ3MKy0NMMXMbk66WgDzGHqI0dj5xZRdy6TaYuvuG0S6mdJKUnTS0Lp/M2i4nxXCpnkzVGvMr4ukZmt19IM1bNIRCBn5D3/RpSG5tZ9BBuYwViG/8TO1qmFDT2Rcpi+ni1e+CSdg9lNo0HkfHMli/u72BetryyabPZpL/TJJKOwY7koHraDrwkEng3hYKdQmhKVM7UOPPDstlkLCiM3kNnUGf+LajH6KZRhTeoY29WfvW6EOKrlrJY60acP5z1YQLjKooLxMYyQaBxNVdya3DcqUTJaaEn1pRdV0f+l90aZMiTlhCwYY6ZDlgBzM+Z2iCkE9GXdaRwpVQUHhlJnnzFYNH+pqOpK9lQG1+kRl+Gem0prMZVReOpENyC8buGTuHGvP51GBGZCkDVph6gr7v7UnOwVNofzIra2E0/c9HlywH7qTicZkh20CgKfu9/9w4dk0UzWjIJ0HQYkpU2uv8Y2PJw9qW2nx3Qz54ESvtyo61yKZeGP1dNPLm/UUDzPlUe3Q4pa3vSsZ6LWlZconBL4ycTl786tRjU2ZxvS36bSV2VIzoxGfkzFcERuKEn6hVdV3y+V90aaMsTqAlwYakYzmAdqj+WC2YU3Pie+rt6UzBU/aTTCSiMxNIyDeiLutKtQBdmenNnKOSwEgOCzxOfN+bPJ2Dacr+ZIUsng2MGOLE1dTVrQMtVwa/1+c0Jj3D1vTzvRJ5kPgWLWqmTzo2Q+hvFSfp7op2VF27OnVac1+ZpqBMWyoDI77bVxQh87uKSFtPXavzyG7EQWWChogf0tk5IWRp256WRMoqr6Yup6+hjvpaZNDmF8WAzUhf05nMqgtpZImi0pzGfOI3mEEX//0f+eha0sCdpTSREhY2JT7rW3NlfUtWF2M9arksWan7jMJImu7Fp+o9NlFmJeiqTJ9+alWddH3+R6Wrx8qyJJgMdSxpQLmK9qyzyBAn0uqubtRhuTLgUUuHRXRmgpD4Rl2otApeoZnefEVgpKFsI1Uye1s2QHZ+fVdj0mu5jErMQCFFTmdBR/UeJDMDz6dsP30VGcjJP0DDmUMpK1u+rBwzGpBx8BK6ze4tSVlGLXV1qeUAQ1UAALedSURBVMXiJLme5WzqTgb8JjT/hlgRGPHd6KvSnYzVrTrx7EbQwexYWtDUgPRb/KAM5hUUXpxG9XRrUui2oo0HZEjo3sqOZMz6d8dVKco0BWX7d1nUtYn54WOoNt+C9S0V46USGD09Ppac+ObUb+tTxTlJIn3fojoZ+Uyh88pqFl6cSp58ATX//jZr74p1vQxqjG0V6sjD4/Iym7NxQlFSCSV+34KqG/nQlJKC0lRPpqvNv2dtycbGjvqkZdCGfilREupsVp2EIw8pHH5Wm1hmj/n8BjSDKYm6Mq14zH8OmZG0fvJkWns1m9LXdSHbvlspJ2c7hTr1p+1ZibSuuzVVbzCRwjNkF4vo+Fgn4pv3o5Km+Z5aVDcinynn2VkZhXRxqifxBc3pe6a8hVEzqCFrp6DFiUobmU/HxnqQtW0b+o7pr5y0ldSxlg3VC/u7OFDO+2sAmfNr0+jw1zXWvhh1/CyO9w91355yfBDooHa/4Qi4Mg2jl99kxxk4uv8Mcu2bIsSl9HcudBw6op2XNtLPn4Y0PRJRSQSbukIYKc+XRoLH6ZkQa1vBxdVM+creAKbGQJ6+BSyUUy907IVwMpTiTvztUvPheVbNMX7zHkwxWoN+vRfhqkQXBvp6sHNyLrVhg04NC5iwm+fkZLMyncW5GCmsPbxgrdRynpU1qqWlQ9+qaHqLPkyrZ+ERrGBT9A00LdmaCC1UMzZEVsZj5BvawNaspJto29jAUisPD1MzIPnvNM4lArXd3FFNef5ZMo7ux5lcezQNcVFZ+8PQcUDHdl7QTj+P01c1XYzEg1Xz8di8ZwqM1vRD70VX8CAyCklkg7rC8lugFDwrNB+/GXumGGFNv95Y9JwtsXVq98PwgCuYNno5bham49TJKxDbeqJeDRWzoeOIdq09oP0wAqevF9VDG7ZtW6MBLwdXL19Xpiko05bPm59u5AIXW+DB1ShlwouRZpzDyuX7kVo0p0KnBpp8/hnaFh7C9Mnr8Z9UPV2WPE5HplgbVi6uKGp2A4WiwqJEUSF0MoT0TjwSdQygr2cHJ+dSmogaFiZMCjnIySZIszLwON8QNrZFus/QtoGNpRbyHqYi7eGr6ipr84yj2H8mF/ZNQ1C6ejpw6NgOXtrpOH/6qjKtAnRqo9/wAFyZNhrLb0rU0+ErqYiMSgLZ1MXzVFBT2d5W0Y23YwNYRaRZyHicD0Mb2+Iyy/TbxsYSWnkPkZrxogU1z/bTqxC9ggzkCPzRo6sj7v85FaOnforP1orQf+JAOLCfavN44Gmxf7WKCqrF/kfMc1MelsEILopOhn+jjyH8UgHsfRvDTlkMmd2+fSQccVQXDRqqNqo2rJlO+bD+HRlRun+q07/VtYmStEd4LGV1eGZZjAIp7kdexT3UQt26+ookbXOYVRchX9+seEzhubmhLl9cZkwp5hldf5aKxzZGBTqSfOMyrt4DatWty7RNcc7crDpE+fowKyko3OryIZa1uegx0jPF0LZygWuJksAYedC3sFDqrQ7shU4wlN5BPFOSlx9nnh3zy0FyE7+GdsT83Lbo5WmI6l6BqBvxNVq1nI4rfq3QUL82Bn47Fu5xS/HZ/HMQSe8jUlFhlDSNGaqL8qFvVlR+Htzc6oIvlpW/AOlnzyFGag0PL2uljWR9x7oa0tL1YVU0N1PfFNWzHgFWNijpqgIItKrB2EjnNY21HB8ixd2Yg0OOwBG1bXJwesceZvBz8DRHwoyPIfSf1RQdc5gzD4RkC+cLCuSDjuxjZ2XQ4oHP14GpuSn4bKCVFI89fNQPnYX549vDrvjeEojZQGhiZibfCECacQOxycrhTDaAhXWA3oUN2BjliC+27Mfs9iprRxiiK9G4CXu0aOkG5OdDxBwCiVhlOOTrMidWH/rM6VGgDb5AnzlB/GJDKr55EVFZnujRoyHse47FYDcBxCrjpTZzxnTZzyUskfJYHixNlkdZ30Mb2jpS5DzNgYQ5WoZlBQhzc+Y8E6uz+LmeyzNIkXEjFiUi6YewDnq4sGETLufKW6BcJ0KLx2fSZrDg4EZsstJBkA2IYeigdwEbNqrsGFYKARxr2yDn9A7suZuF3DwpSCSSy7UELebQmbL/ikttNqFtYoxqrDB8XXnOz2/LywXg8ZQDnyraAujKBK0WBbi4YBi+2BFf2vkRODBdZuHJlQu4kq+eLuuYmsOUFVlSoqjg1w/FrPnj0b5EUVmbS6FlYoYaLl9gy/7ZaF+zlCbiSjRzMuxboKUbD9r2PTF2sBsEpRUJegpFguSVddWLddWnyJFoQc9Qv4xR1zE3Z8EClb5/BQgca8Mm5zR27ElSU4dFKJDdnrV52VbTAo/P11i2ZuxGb9cGeLHT9ug5djDcBKydlOdlv9HX02W1YvVWadISntdPNyLKUHMZlMYE7X48jXNrhqGBbWNMYsH+T+2VAbd5X6yKuoINH9uW0QHWyZQOqSraEOjK6sHIywXr3tAp1RclyHySxWwb6/OKhUrFaJtYwIx5pxLlxikv6t+lUd8mCjwbwJWXicvnrijXSbFfp9/FPeUSMoEen5W9AKKCoqch+mg0dD7mjwlGjaJqSKWQkjaMmWNejpWRU6Lrd5UpKlQ4trF/K9IRnh747OcFooLitTD6jYZi/vwxCC4pKCsqQduYBXe6pjBXKEnJ/fj1ETprPsa3tytpWyZ7qZYJzMzo1cYZ1TG/HDJ2zMSMIzXQa0hT+QNAXsOvEH7tJP7Yfgb/bhkMJ1YFHZfe6O5NiNu0FkfzBdBTVBglTdMIQ+fPx5jgGsXtIGVtQ9rGLEjUYV1VtmJLVkblSQZfl9lIfdY3i0SvzYdAnwVC/OKeipsXo5Dl2QM9vJidr9SxluNDpoz95Phw0K5mBEOtQhQUqhgLSTayc5jxMzRiF1jBpY45KCUBt/OU54sQJyP5AcHY2x/alu5wsQRSExLAflqM9EkmnmrZwN6eB+OmLeCt+xA3b6QrBwcdOLcfg/GDAlD0AkKcEIsEkS3adPKDQPZBwqDOWHKtZKjhmZnCWKtA5u+AZxuI9o0tmQJnIenyGZz6Zx0mTtoHu6lr8U0LA2hbe6NBLS08uBaF/5S30HGegGNPM/BHn6Jvhuuh67oUZF2cCS+Zrc25jOXfnoPvz5swxVcX2rV6YsWpVeip2GxOARsgizoNz8ENwupS3Ll5E6riodw85GtZwLImH1YudWBOKUgoK0AkJz8AGXvDv75AmfZiZB9CDeq8BCUi4cHM1BhabAAycHOBJVKRkFCqBfAk8ym0bOxhz8vFiUlB6LzkWslgyzODqTFzLWQC1a4GI0MtFBYUqgR5EmQrlAFGRtZwqVuDNXIkLpXadkqKeymsHvpCeAqLBixWu/jb+E9qCr+AeoqPSz63LXmws7OGdn4uclXHrLwEJNwj1HBnv68QKVKYLAvvJSJJdYd0qQj5zDPWrm4KU556uswUFS28dfHw5g2kKwd1Hef2GDN+EAJKFBWxCSLYtukEPwEPtoHt0diSnctKwuUzp/DPuomYtM8OU9d+A6aKTLa10HPFKawqrUgoerBfKbpq5YI65oSUhNuldFGGODkZD8gY3v71lSmqaKOakSG0CgtQ2gxks77Mg6GRkXo63MAe7gojgNIq+ASZT7VgY2+vuWwlb98GyORTq+cKnFrVE6XNQJEVKMvz+2k+8jXWL0VSKXRqoEHXYRg7Zgg61jNlJVTCnMxarq6oJXtl9gw8OztYa+cjt3QnY/biHqiGO7x8GsDTGrh75UpxuWQ7sjnWdYSe5BYuRKQp7bYCSepdpIh04d6gov6tTChG9rZMPZuo4z4aP8xogcwV/dBxxCRMGTcQbXstxTV5H9eGeWBTeGrdxdXool0neXDvNg7j+/oUv90piInBLbigY2cPdrYiXVdtYQXqjG0V6Yi2SQCaemrh7tVoZCqFyHPvhnHj+8KnpKCIuQW4dOwMD54xmrbwhu7Dm7hRoiRoP2Y8BgXUULa3GAmxCRDZtkEnP321ZVrhmF+GbITv/AdpekJ4qNh3bUNLONiaFr+5gY4d6rvXBB5G4uJtYwQ29YTW3auILqkwuo0bj74lFUaMosLo7KELa+8GqKX1ANei/lOOT8w/mHAMTzP+QElX7Yp1KVm4ONOLtZasqy7Ht+d88fOmKfDVVV+vODjUQTmrjqMqoU67Su6too4mBtRo5kX5Ql4Z2RFTqYHAlDquTJIf552bSl76FtR9fdHaIAWF0bOokUUAffuvbMaziCJnNyYj4yBaeK1oDnsGHRwppGq+syhKNuFXkkZ/hzmScbOFJfO7S5FHEZO9qFb39ZTIzkuSl1FLPRPqtPqeMt+ndOrLemToOp5OFE0wllF4jdaODaVenZuQk1MzGvdHjHL+sZhuLGtDZnxHGrRdZW3HixAXlj/PXJWs9dRFoPgQqmx9xsmJnqRv2pp+jFPWm9Vz34g6ZOg9gy7JbpZ3jqZ66ZMFq1fRdHE5hdE0q5EFBXz7r3LOuIhiNk6gwZ/+SpeKNyxQRULJy1qSnkknWl20xufpKfqyniG5jj9BOaJImt3YiIyDFlJJExykkcJq5DsrigolybSspR6ZdFpNJT//kuoZutJ4mUAl92hVRxMyaDSTLpYoA01tICDTjispif0m/8IM8jHgUe2B24rn0kvSD9AnQgMSfnpIZZ3VYzo0SkimgfMokpWlorYsjJpFftWcaOhuxeJmmSzilrYiU4OG9HWETDqFdO2HduQsDKEpB4quUUVC97f0JWteTer4yw3lHHbWVKx+nnxD8vvmkjxNPV2WUNrfYeRo3IwWlq+olBcxmbxqdaf1MkVVofDaWhob2os6N3Eip2bj6I8YVUV9lixa30Wg/NhkZehqHp2b6kX6FqxcpRWNomc1IouAb0levTJI6N6qjmRi0IhmljQ8RUxtQALTjrRS1vBq6rAocjY1NjKmoIXXitsg4+BIElbzpVkKI6CRbN9ZG8DIWt+FBOV+KLOCfqqhDF6FnE09yLBoPUlhFM3yq0ZOQ3crNsZgiOKWUitTA2r4dYR8vVL0/EAyEnjQF8dU1hOl/01htfmk6zaGDj4skuBjOvq5Oxk4htHuNIn67VSE2jZRQXZSBO3buom27I2gOxkqmy9I7tO2AfbyMSW2XFE9pcOjheTQ4Sua/dVkWs8MY4W6XgY1xrbnUKIjBXR/2wCyl7V5+QWlp4dHk9ChA301+yuavP4aG0aY3B2NqdnCkjWfpciLoMletZgtS1ScV1Om6oz5pRDfpkVN+aT97DrVMijWGPJ4QppwRkSS+9togL2s/LHll//pYRotdKAOX82mryavZ/ncoGVtzIjvOIi2q6zpfRHiwmeEr6FeVQac/1w14QKjKop67Sqi2HUDyM2kJnl1+ZjC+rcld2sHCp68T2URaT7FbRpJ/l7dablsJxiGJOMkze7Vg6YfVHEwC2/T1k8bkZV1Q+o6ZDgNbONGdh4DaNVVFWv69DwtaOdGQXMuFC+eVMCchSMTKaT1DDqerrwjG/T2TfAjcyMnCgoNo0HtPcneM5RWRCnNed5diktUXXYtofSDo0ioa0t9Nicrk1Jo7xc+ZFLdgwb9eoky1LO3JWRG0a4DzyzKlQdGutT8h0TFcV4MrQ9rQDWtvanLx2HUL1hINu6h9KtSVjLy4zbRSH8v6r5ctusVQ5JBJ2f3oh7TD5YYcEkiLQ3WJy1dP5r9nJ3YJPf30QQ/czJyCqLQsEHU3tOePENXUJFICm9vpU8bWZF1w640ZPhAauNmRx4DVpGiCVjwsG8C+ZkbkVNQKIUNak+e9p4UuiKqeIAUxa6jAW4mVNOrC30c1p/auluTQ/Bk2lesDCJK2DqWmlgZkW3jHjQ0LJRaujlRoxG/UUxRM0se0pmFPci/7dd0IEU5JFbUlkwqV1f2Jw+bOhTcL4yGdvclmxr1acj6GOVAJqEHxxdT/4YmpN/ml/J3AmMB6Ylv25ODUU1q0GUwDZPVz9aRWn61m5KKxammLjOH6vyCduQWNIculFZUls0RmhjSmmYcTy++Pu9uHJVWxXQ6yAJDXds+tFkuu0yK2nXgmcXNisBIt/kPio0BXlVXZeTH0aaR/uTVfTkpqiehjJOzqVeP6aV2jCqDKJbWDXAjk5pech3u39adrB2CafK+kmBCLR1mPeX21k+pkZU1New6hIYPbENudh40YNVVFrYVoYFs3wUbwMiM2kUHnlmZLnd6dZvTD0W7OqhQUT/VVL9ellKBkez46krq72FDdYL7UdjQ7uRrU4PqD1lPxRs3Ft6iDX2dSb9mc5q8J7HYiXx6aTmFeppSNftA6hk2jEJbupKjTxitiVZWqML+XRb19ImRn0L3VLe4U92VTnaceZpmBbtQy0VRxcG4Ahag7hxGPp5daeKyLXT4XAylyJRQDV0vgxpjW8U6kkmnZwWTS8tFFFW6oCyw3EnDfDyp68RltOXwOYqRF1Q2XC6gdm5BNKesktCRiSHUesZxKhouZagnU3XGfBVY2/7cWsDGpZa07EU2hLXGwRF2pMP3o2+vK9or8/QsCnZpSYvKVph2DvMhz64TadmWw3QuRrGBhyRlL33hY0LVPQbRr5cyXkr/1darSoLzn6smXGBURdGkXQvTb9DZQ3tp76GzFPvwGSNWRPY9irp6Tz745Kck0r1nbLUCCWUlXaTw/fsp/MJtyizvUVFhCsXFlzV6ouRbpZ1LOcr77dtLB8/coIyicUeSRKs721CwcvelYkQnaVxdHum1Wq5MkPGUon8bSy1sq5NNkzBasPu6es4RGxD+6GNL9adcKB0Ypf1KbQX61Glt6V2aniZeYOXcR0fOJ5RfbxZ+3Iu6SvcUAqTEcgQoSomk45cUMn4ukixKuhhO+/YepDM3Mso+3Vae378/nC7czizztE6SlUQXw/fR3oNn6EaxQFUoTKcbZw/R3r2H6Gzsw/LLkpdC0ScO0N4DJ+hKcul6FKZE09mrqcVOVQnPaUsVxE8T6QIr2z7mHMQ/LivEtF/bkVWvP0rtAPgsoocxdPog0+UjEXSrvExkqKXLhZQSF19WV0TJdEtFUSVJq6mzTTAtfuZps+jkOKrL06NWy+/R/T/6kG39KXShtCLRr20FpN9pLZVo0kvq6jNk34uiqwpFo5TEewoHoUIKKf3GWTq0dy8dOhtL5ZuBinVYhkLH9tP+8At0u3wjoJZsFbxFG8CQ3P+D+tjWpymlG4/pYlsS6HeiUmZAlYr6qUYyKIeM0/Rd96Y0bOvD0vVXIWtDV9LXbUqLZFvWFSF+SokXWLn2MYc0/nHZp/niZDo8uwvVMTIh125TaXOU0lZLsulu5HE6sPcAnbiSXI5OVdy/y1KBPmVF0NyQhjRK/tkDJc8GRjLy71JsvHL7MxVykmLpdrmxmTq6/izPH9vU15F8uhsbz7TxGXKSKLb8gjJ7GkfxZZWEkm8lltqNsQT1+qhaY74cEZ2b6Eo8bXPq9Ue6Mq0cJHdoSZAu6ch2OCyJF1nTxFLZpsmhpNjbxQ/kSvE0mn4b24Jsq9tQk7AFtPv6ywRI6smgMuD856oJFxhVUap0u8q20zUTUODChNIDu3zQZE5R61+UCSpkXqFNU3qSr40hmQhb04jvdtCVtPKcNiXybXF1yfOZwKjw36+pvqAujTup1mjKUUnk3PiTxrTtQUujyoZcbxPZdrFmgkBaqLrHMUO2LbQTC4xa/3KHDgy3JV3PZwKjwn/p6/oCqjvuZNngU1Nd/RB5EzaAkX9gONnqej7j9BbSv1/XJ0HdcfR2zICYbn/fnAS6QbT4zvPcRhFFTHInvvUQ2qOxXyihtAtraFw7IZkIapJPv//Rlsi0skHUa+bh2s5kxG9IM1Tnq+WH05jaZe3y2+Td1JHKozD6W2qkr03Vmn5Hz/usnOKTB3xy/+psOQ/FNCfzyiaa0tOXbAxNSNh6BH234wq9iyaQ85+rJmVXaXJwvOvw7FDLRorrJ47hgcqK4JyIXfjnPwMEdm6tTCmiAGcWf4kfDieiwNgK+vePY9Wknmjo6IKWIxZid8yTUguL5fDqwMVJB/HHj+JW8ZpiCW4dPIJ4y2C09S5edsrx2pHi6WNjDFj/Jz7zercWz/LsasFGeh0njj1Q0aEcROz6B/8ZBKJzayvUcXGCTvxxHC1RJEhuHcSReEsEt/UuWcAs5yV09UPkTdgABq+OC5x04nH86K2STUskt3DwSDwsg9vi7ZgBLfnucVqSGJwIv1dSLhXyr/+K/627g3phn6BV0eJ1NZEkrcJno37BqVQ+aliIcPXPb9DP1xnu7cbix38SkK287vUihbSwEGLpQ6SklGxVJkmJxvVH1ghsIdtM4d3g3dSRyoNXbxx+nOwP3rk5GDrjODKe7SiSRGz6aiEu1B6NJZOb4JUtdMEZLP7yBxxOLICxlT7uH1+FST0bwtGlJUYs3I2YJ5wF5Hj9KGMkjqpE1W5XCaXsHkUeRjWp2fj1FH7xEp3YMpM6OpiQcMAGulHREzpxFt2NPEDrZo+izt5WpMe3opB5EWWmJjw+Opl8TEzIe/gKOnThIh1dN5b8LR2p38akN/70lOMdRZJCu0d5kFHNZjR+fThdvHSCtszsSA4mQhqwQbkRxOOjNNnHhEy8h9OKQxfo4tF1NNbfkhz7baSkihRJTV398HgzNkC+0cBkHzIx8abhKw7RhYtHad1Yf7J07EcbK2y814ck7TBNbmxGOnr2FDJ6IW08cIb+vRJFF47vopUz+lLDmtbU5LNtlFAJbytEabF0fNN39GkXL6qpq0u2LefSmbIz1yodycM9NNLFgEz8x9GmU//SxSNr6fPAWuQ5Ymf562HeGu+mjlQqknQ6vaAb1almSHU6TKDlO47R+X8v0PEdP9FnLZ3JoflXtOfu66mrOOsuRR5YR7NHdSZvKz3iW4XQvIh3wwJy/nPVRLZDvOxfWYDEUYWQfXeharerFJnXdmH12j24eCcLPAsh/DsPwuBOrs//EF+5FOD++S34cdktBPwyG52e+VJrVuxurFy9GxfuZENg5YGQ/iMwsIl18bcYODggzcS1Xauxds9F3MniwULoj86DBqOTq4omZsVi98rV2H3hDrIFVvAI6Y8RA5vAWiNFerGufni8GRvAGg+xu1di9e4LuJMtgJVHCPqPGIgmmjVe5SN+iKi9O7DnVBRu3UtDdiGgW60G7N380LL7R2jtaqLc2rnyyL17En/8vAq3myzDnK7GytTXhzT9Ev5Y8RsORd1DrkEt+HQKw8iP6ss/4vtu8Y7qSCUjunsG27f+jZPRSUjP00F1ayEate2Nvu3d30ybFNzH+S0/YtmtAPwyu9NzP6z+pqj6ftaHCRcYVVG4DsvBwcHBwcHB8Xrg/KyqCbfGiIODg4ODg4ODg4Pjg4cLjDg4ODg4ODg4ODg4Pni4wIiDg4ODg4ODg4OD44NHvsZI8ScHBwcHBwcHBwcHB8eHCbf5QhWFWxTIwcHBwcHBwfF64Pysqgk3lY6Dg4ODg4ODg4OD44OHC4w4ODg4ODg4ODg4OD54uMCIg4ODg4ODg4ODg+ODhwuMOCpGKkLm/WSkPhZBqkx6FUSZD/AoW6I8AgoyHyEjt+S4mErOt5jcBBzdvBF7rqRX6n2lokzcT07FY1GlllYjJI8SEHc/V3lUeeQmHMXmjXtwJb1y66axzCSPkBB3H5VfwzdBLhKObsbGPVdQyWLkeGNImf26j+TUx3iZbl7w5GEp26dAjAKx8s+3jDQ/A48yC5RHrGRZj/Aw6x0pnIzXZLvfbyR4lBCH12D2lUhQUFDO+FwpvO6yc3BoDhcYcTwf6UMcn98TDR3qIrBbP/QMqQe3pp9gw/V85QUaIr6J3z6uB3uPELRr3ABt5/yDAzND4B3UAQHCumi38ILC4X3VfMXRWNzNF35BHdF3xCQs/OM87quO7QbmEFxfir5NgjD19EvWRQXpw+OY37MhHOoGolu/ngip54amn2zAy4rppZFmIWbtMPjZe2DMEZEysXIwMBfg+tK+aBI0FZUgspeUmRRZMWsxzM8eHmOOoHJr+CYwgLngOpb2bYKgqafxptWD41WQ4uHx+ejZ0AF1A7uhX88Q1HNrik82XFe7HXNPTIKvnQsaN/OFl18Iug0YhmGDP0Jw/TaYd/VtBx9S/LdtOLyETdA+yBdtvj2Fy7/2gl9Ae7T0qA3fT7bg9uvyjTWhkm13VUCaFYO1w/zYuDoGlWz2FWRswfixf+K/16Cir73sHBwviWxXOo4qRmW0a/r2AWTNd6XPjj5WpuTQpZmNyLjeJDqbr0zSgMdb+5KFri/NulZIlH2GvvKzo1pBM+hfETv3e3cycRpLx9h9XzlfSSJ9H+xEPZeH09Ed31M/F0Oy7rSC4sTK8wxxwkIK5PMp4LtbpJL8EqTT9gHWxHf9jEqKe4lmNjKmepPO0kuISUMklBm7j36c0IsChLXJxb8TDft2F93IU56uNMSUsDCQ+PwA+u7Wq0lMU5lJMmNp348TqFeAkGq7+FOnYd/Srsqv4JtBnEALA/nED/iOXlmMHG+O9O00wJpPrp8dpRKVnUmNjOvRJLWMkogiJrmTLrNxx5m9exqzk+aN6ELN/YOo/8JTlCZRXlYGCT29d52uxKbSa9V4yX36pU11Cv7xHkkKr9PcYBcStviCjmUzlU1cSiHVzKnH7w+UF79dKs92v8dIMil23480oVcACWu7kH+nYfTtrhuvR0fyL9EPnYVU00pIAZ2H0Fffb6crGc9V2Ip5k2V/zXD+c9WEe2PE8RwKEHPpJkzaj0RYMxNlmgHqdQiB3c2d2HG5ZLqFeoiRdC0OT6q5wMOZBxj6oHUTY5g0aAF3XQmS72TCoV0bePArIV/tmrC3zMC+v2/BvdvnmDWkPtIObcORhyWTL3Rq1oA5036p9BUfgxbE4NJNE7QfGYaS4tZDhxA73Ny5AxqLSRNE8dg+PgQ+3X7EbaehWBMRj7hze7BqWlcI9ZTXVBo6qFnDHNqQ4lVFpr7MRIjfPh4hPt3w420nDF0Tgfi4c9izahq6Vn4F3ww6NVFDoXh4Fx7Ac6hHQcwl3DRpj5FhzVCish0QYncTO3dcVqa8CEJGWiZIoA+Z5hq5dcPkX3fjxLlj2PhlU7ktKosY15a0h2/7sfiyXyM0nnzm9b0l1TaBV2M30BNWRp4QrVjHzLdvAj9DprLW9eBW4ykiz19XXvx2qTTb/Z4iit+O8SE+6PbjbTgNXYOI+Dic27MK07oK5bpV6Qh88MXfN3A3ahumd7HE1Z9C0SRoGs68xAu7N152Do6XgAuMPnCkqYcxd9Q07Ljz7CCji6bzziNm9+eoz+KYIrT1BBBI0/DggaYzvLVgVI2NsrkZyMiRHQvQauk1RC8OYX8RrIduQcTyTqihXQn5SjNxP90AjVv5swFUB2ZmxnKHXqw6FUBbW/4RrxLyEbd1Gj6fewQpmlRNtynmnY/B7s/ro6S42tATCCBNewCNxaQukiRsHNwOX97oii3nD2Lx6HZwNdVRnnw9aGuXlhjy47B12ueYeySFSVcD1JKZBEkbB6PdlzfQdct5HFw8Gu1cTVl49gKkqTg8dxSm7bjzDgcd2igrxq2Y9vlcHNFI8d4npEg9PBejpu1AGTPznqDbdB7Ox+zG56WNEgQCKdIePFAmvAhCoUTTuUgixF64Be+vd2HPgk7QSX3AQqXXhQBNZh3FlmG2zC7y4PdNBO781gvMYjPTrQMd5ikUFrzOpzwaUFm2+x3l+WOyzOxvxOB2X+JG1y04f3AxRrdzxYvNfuX1PYFlfbQb9i2+H94AhTcu4UqmZsLWvOwcHG8HLjD6oGHO56ZvMOc8D8625VgoaQYifh6OEHcn1PHwgX+rQZgfnsyGa5I98FZc8jgCPw0OgLC2E5xdW2DstkTkxPyOUS0bwtXRDnWahmHFpSfsSh3YCp1hIolF1BXFc0/R47u4efMuHhfwYGZds+SJkTr5PjqNpWEhaODuBpfaDhAGDsSikw+VDroA7Zf9i3/G2+P65hkYvf4uLAxvYv+G40h53uCQvhkTR2yDdrPmsNGwV0gzIvDz8BC4O9WBh48/Wg2aj/BkVkeSFgcMLy6vJnKUX43kjeMxflsKcqOXope3CwKGb8TN3ET8NbED/DycYWvvjV7zjqPkJZkUj04vRVhIA7i7uaC2gxCBAxfhpMpbNE1J3zwRI7Zpo1lzm1KGpCDpAOYPaQlvd3e41bWHvUsA+kzfgTiVBbYVyUyavBHjx29DSm40lvbyhkvAcGy8mYvEvyaig58H01d7ePeah+Mq5ZckbcI3c86D52xbNoDKjcP2aR/B390FLi5OcHDyRqdxGxCVpTzPyI/7ExM6NGDnXeAaEIb1MfnIv7oKg/yEqCN0Q/MxW5EofoLIlcMQ4uOJOvbO8Os9F+H3VWRYkIQD84egpbc7k3Nd2NuztukzHTtUK1+KdGyeOALbtJuhucaK9whnlo7E6JXXlQ5zAU6Pd4GBcBxOynxYNeosu8fppWEIacDayqU2HISBGLjopIreMKfzzwno0EB2D1cEhK1HTH4+rq4aBD9hHQjdmmPM1kSIn0Ri5bAQ+HjWgb2zH3rPDUexWFgQv+mbOTjPY3r5ko5QRf1HFqT/OaEDGrC2c3ENQNj6GOTnX8WqQX4Q1hHCrfkYbE0U40nkSgwL8YFnHXs4+/XG3PD7JX3whXlIkRHxM4aHuMOpjgd8/Fth0PxwKFS2uBQvvods4o34Po4vGIRW/t5wY+fdQoZh+bmMknqUwhBdZs6G6dZRCFt4FZ5efMSlPucxvcZ6Vx4GsLQyQWH8Tkzv6Q8PJss6tYXwD/0Fkao6w0pboS1h+rB+XCf4ebrDxdkZ9VuPwerLmciM/gNf9wmCr5cbHO0cUK/NJ/jpjEo7MtSxH6V4Bdst0/+zP49Ge996rL4OsLbzRJvRq3D+xims+KIbGnu4oq6dDZwD+uO7o6nKBy4FSNz9DcYtv6h4g/fkLBZ0qwdHewe4tJmF3TtnoC2zwc4OtVC32QhsiFGMd+rxgjFZmoyN48djW0ouopf2gjeTy/CNN5Gb+BcmdvCDB7N79t69MO+4ijwroe+pIkk/hz/2J6BW7zB0rlki7Arb7GXKrob9ehN2gePDRDmrjqMqoW67SpL30IQAB/Los4ROP1CdsS2muGVtyNzQm74Mf0CyGcWSx9H0+4iGZKRjSqHb89glN+jndjXIpOlsupglobyr31GwsDuFtmlM445lkKTwNm3oaUt8mz60OUVCkrtLKVjAp8BZf9OKjwOpQeNgauZpSYY1fGjI6mjKUTff7DP0ta8FeX12kFJlRRan0v4x7iSw7E2b7yvnPj+9SEu6OpJN4Fe0JymfsqNXUA8HQ3LovpJiROx8zm/UlZXFf16cYp564VVaFGRLwT9oOG9dHEfL2piTofeXFP5AXlp6HP07jWhoRDqmoSQrboXl1VCOJI6huY11SUvgQWMPpbHzibSyiwt1G9ydfMN20X2JhFJ2DqW6fDNquzxeXp/sM1+Tr4UXfXYwVX4sTt1PY9wFZNl78//ZOw+4KK6ujT+UZSnSUZqCoIIURcGKFey9xBKxREVN1GiMxppEE40l0cQUNcaevLbPEjXW2HvDBEQFG6JGsASQiEjb3eebLbALoiyKDef//b43cmd25t5zzzn3nJl77wjnCwV6kP5bJ0ol9ThTs1gr59wcNnUN4Xc6i2UyouexnasDG0zYyZuqpRdZTNg3hSFlJXRss4CxOUJRkTKTMWZGXZoYSOk3YjeT5DmMX9SR3p37s0utcG4WKixP3MSBVSS0azWfV3NvL0/g1jHBdPfrye+P3tX2o+wal3dxpXXQGO5OVFaATDu/lD09JCzXYTHjhBPltzeyv4c5qw7byXtyGW+tDaN36EROaluXI/coZRzHhR0COHDy+6zV+jtGC8qac2Mle7hKWLbnGtU1hcZzXjtXOjSYwJ3qxjMrYR+nhJSlxLENF6gan87fOkkpqTdTs+Yth+fmNKVryHfFXHOUxaiZDWlb5UPuVxuOQCYPjPCkxENZVnSbBa3gsc9q0SFgJHepFZO3dwynr9SRPVbfEXpFztsb+9PDvCqH7bxHuewW14Z5M3TiJLatO5J7kuTMiVvIDgEDOfn9Wmz9ndKGc3hjZQ+6Ssqy55ok5U0E5EzYOobB7n7s+f1R5nMz+lCU/chvc2N/D5pXHcad9+SU3VrLMO9QTpzUlnVH7lHpT9zCDgwYOJnv12rN79Sdx5U9BJsq25OqahZxD9nFeWxpb8HAT/ZRrbL3Gf2/IaxpaUTbsA1CgcBTr5HOLe+Vo5G5L/stPsNk5fGc29z9cU1a2IbwW+W6y0J4cGwau/SdyTkDQtn3yy/Zs6YPW03eRaUbyEMvvdMP+c1VfNfNmkFj9vCOqg3JjFjUhz7mxiw/ZJfqnCJ9SdpxfhFsR7d3ljBWqZvyNF5cP5J1PNxZoWx1Dt18XdBeoTjlNOe2d6VxmSB+ejRNKNHTf5SU72YK931SgzaV+3DlFaWjljP5xCw2L2tEI5OKbDt9F4WhQ7hfDJe8U4HG5jU58chDymJns5GlE/ttfigcFMarbxrRtv4MXshK5pYBFWhkVJ7vbUqmPOM0JwVIaNt9Td66NH140pgsi5nBuiYGlPqN4G6l7cUvYkfvzuzfpRbDNwv2Kk/kpoFVKLFrxflap/h8tqch59y3bO/jwXIW5qz87jLGqNVMhT59Vuy66+GzX4pfKAIxfi6diIlRKaVY/SoM0Ie+7UH/SiGcuCNBPbhkHeMYLwktOy6nrn/IOTuFgRJ1gpJ1cAQ9Jfbste6B+qBy04MmVrQMmshTypFPICdiEv0lUjb+9hplOac4wU9CiXlFdpx3Tp0ICQHnL+3L0tCkKkcfEkr0uG/Sik60Nm3GeQna6CAn8nMGSKzYdVWq8Fcqdw2tRBOnHlylE0Gk7hnGyhJLhswVBtCCg6uALH4JO/m05fxiBBJZx8bQS7hmx+X5asuzUwIp0SRGRdW32HJMXsp2ZgY0b/lzXoCUvLQD7ay8+MFuzYgli+X0uoKsa0xmZE4SV3SypmmzedRWIYeRnwdQYtWVKpHpQcHESLgJ45d0ok/b+ZqEJ44/NbeiSdAXjM4nQhnjvg+hhZEj+2wU2lukzJK5tJ0ZDcxb8mdtA9nBzopeH+zWbM4gY+z0upRIanBypO7Ncnj70Lfs4V+JIRN3MEGoak70FwwycWTfTergS41yM4mGwu/rccbFTEZNrkmJtCnnxmvul3mAI/yc6drya17SNDdpUTtWcKnG8D9UmiuQwd/72FNScZjwb+F6PzWnlUkQv8jfeEEs3zPEwoiOfTYKfxVMjARk8VzSyYdt58cKtdeTzH0cXlFCh76bdBYtaxOjPWeKarNw86QV7GRtymbzEoTwSUNOJD8XgjmrrquYmhPFyTUllDadS61YRtDP2ZUtv74kXE1JEhe1q0CXauHUiuV39rGXsOKwfZoCNTm3D/HbHv6sFDKRO5QdoydF2U9O1GTWFGyj6dx4TTuUcvCjs2tLfq3tPLar4MJq4X9oHsAoq9mH9pKKHLYvs4h73OOxMV6UWHZkfpU9yymBQuCrSYyefo07qsRI4jOOJzU2rULZB1bapENJauQKTpiwjOceJnN5R1e+uy6d6RvC6Nl7A9Pil7OLsxVrjN0nhPVK9NU7fchSt9OhF9fp+oSsQxxZSaKpY1G+RLDLbxrS3KwJv1Nn32pyIvhpNROWC1ufL0mQ3xL6xdqQVu0WKyusl/94LDFSnvEMvlt2YTrrmlqwxYJbWv0XrnhlTiOaGblwwB9a25HfXMjWVkI92y/lje2DhcRfrTdKe5lcw5oh3wt+WbhK4rxmNDFpwrnXlVdM56ou5pTUn5XnQ/SmkDE5eWk7mhmYs+XPiZr6Cn6ygx2tvD6g1u0LbZJIWGNyZD5f8qy2VxDZveOcHupI1zbfM1LpePTss+LWPaNIny17KX6hKMT4uXRS3BfPIqURYyc0Hr0aWydaYmmvHphzTgZFciSirhMuVbxgqTktPwrciTyHW6iAKlXM1EWG9rCzykKmmR0cNK/tjX18UEUiw42r1yAz9keDOvaAbQsMHeQPc9UJngjr3RSWOVfxx+9/IVOP+6al3EemhQtc7bTqa+jiAkeDDNy7nQL8txNL11yHbeve6OysPce6cW908szAsT92FDoX3ahiLwwOPotPh83HZb3mYyuQHBmF63RBFa/Ca1t0fZOKLces+8lIlRnCybsqci9pbmsNZJjBIfcHRm7w8rSA4sZVXMtOQ8r9TFi4uOadr5xF6+LiCIOMe7id8qyTz41QsddgBJ/9FMPmXwZS9mPHsUdwaxgKb52lGMrz3Nu1RoBhMk4dPVu0zOT3kZwqg6GTN6pqGwhrZMDMwUEzTc4Ibl6esFDcwNVruisvjOHUeDRWb50Iy6W90GPOOchNzGFmWh6elXSX9xqhrIONIIV0pD9IwvETMVA4+yEgV18Em3Auk4RkM6e8KShmtlZI+xdwcjFRF8BAtS7KoIwge6Rg/45jeOTWEKH5Gw8j93ZoHWCI5FNHNSUFMKqIXoODcfbTYZivn+IJMkrCv/cVMDAosGApl6La/JBQpKXgfqYFXFzttFMhDV3g4miAjHu3kXTvOE7EKODsFwCtWJxRJikZZk650xXNYGuVhn/hBK1YlGtvDFDGOn//Gjs1xujVWzHRcil69ZgD/XaoLtp+ko+fQIzCGX4Bzpp2CDrgXAZJyWZw0nYerNSdB201pZAalIG1pcHT75FwDZFR10GXKniimRdZz/uakgJYesPbFbh7Lkr1p/zyLwhrNwuPWnWHv4UVAhpUwcnPmqPZ52dRu3lNmFXsi69G+OLiDyMx64RyitZz6F1B5P/g6Il4oKIPfMtoygqiKMKXJN3DoX1nkO1WC3XLa2QvIL+2F/suElVq1Mzn1w2dhToGGSM98qSe/uOcpiw/z+S7jxzGWZkr/KuV1eq/cC+P1i3gZ3gPJ49eQO6qKkPXVmhRQ6jnub9wNagrOnncwf9NGoZJH47EsqzeGNvXXfilIYyNjQWvYAiD3Asq7VOIn1WPoIvDY2NyFu4np0Jm6ATvqrn2ag6123fIGyeM3LzgaaFQj7fqIhXPanspJxZh/o7bwr/UGJWtj49GtkLO7s8xYcU/evZZVLHrXqTPfih/CX5Bq78ibxdajRJ5+1Ck4FJsgsaBKoPccLQ1PY1fV/4FZGerygsNvAyMIZEAUlOJMAhkIys7122aoc7AWZg1PARlc32KQgGFkH9b29sJdzBH3QZBMLkXhTNx2tHL2MICpsJtjCWCZy3yvoZw6zYC/X2kkOkMgIZmpjARfiIXCuUpCbiTbgBrWzudxf0CRo4oZ28Apv2HB4WOVFJ4VHRB+tGN2HpTvwA1W/VlRgPV+FcQA2MJJIKJFVXf4srRxNYetoL85XLtBSXVwzB11mi0Ka81ablMCJxt7GAnJEndRvSHj1SmsymBoTDwmAj3leerV7GReqCiSzqObtwKRfoDpMuFZMHC7DHHYmRvDxtDCnWSFS0zI1vYqxuora+kOsKmzsLoNuW115YLCbyBDezslBcSBvFLsUhQK7MqUApva4rTv65ElMfHWLtjGtrozIlXLmw/Gy0kc25N0MxHhswsQSGE62l+LiCBidBHZmZC4qMpMZRIYSYkQko1VSG7jIioNPh37SrcPh0P0uXCoGoBs8cbD3sbQ/Api++lHhXhkn4UG7fe1JQUgdQfNaoaI/WvE9As2RPqkIybt9QT8I28imqzMQzdumFEfx9I8ysmTNWKCXlmJtRi0am3xETQGzNBDnlSgURqJiRCkjxbk12OQFSaP7p2DVD9rUi5hFhtx6BXeFuYnv4VK/XasrFo+8nMVK4+FPQ4XzWFdpgJ9dJ2HqRCX0q1nYfLEVFI8++KrgEmRdwjU/0BVkFhcy+nxUDwW4Ku6lFPY+NCAi1DKUyUJ6hIwcYpk7G3bHcMaKjMTIxRc9w+nD+8BhuO/Y21/T0FH2oE7x5dEMiLWLVsPzKfU+/ywQzBDoT/Ku2gEP9oaCjU37AoX/IIjzIEP2ZkLNRUizz1P6QJ18zKKrDextAGDnZCSCrYur7+o3CK77sfPcoQfGqWUKf8jTVwcICt0CUy3c0mhHpalxH6X9B/iW1r/Hj0BJYOqgHXuuOFxOAntNEE5/bvLkbU2V/xnmvBFujJE8fkKNja2wpeSfCJec2ToHrYVMwa3QZaty/0gcIANnZ2Kl19LtvLjsA3gz7Gxqv5ZS51F3yVYTrOnj6rZ5+x2HU39i7KfxVlsyXhF/JFDyJvEc9ovSJvPo9waHxTdPj+vOA6NBjbwdZaCNGFgMjQ0RfejsDtuDioNpHToPgvFQ8MXODmZgL7Bg3hb3AT56JTNU+UjOHbeRRGvxuU91QwOyYGV+CNdh38VIGTXYNg+CEGJ45rv1yelZKCNINyCG5SHaZF3lcI6Cp0w8Iji9FNtWWSBiFoyVVmIwcXOFookBB7Acm5N1Ei+we37gh18K0Gd0kZWFoYICc7R+dpnhwPHwp3NbZQHSsaQzj6esMRtxEXl6+2+C/1AQxc3CBUt4j6GhZfjtYN0STQBPcuX8prn1GlNhg+uh+Cy2qkIItDbFwWXFu2R22pISp0W4gji7upd5nSYJD3WFM/DMtYwsIgB9k5OoGE/CHUIrNUveGpbE8kxl1DhuZwLrKEBNylNQLr1dBDZtZo2CRQSKAv45K2gWgzfDT6Bec+3ZUhLjYOWa4t0b62VPXxzKYdvsd5rTLDztYaBtmZyBT+7dqgDeo6Cr9Mu46/jh3Bn8vHYvz28pi07Es0KeOMwBoVYHD3PKL+0VxAuN+YAw+Qsqan+s2mgGmn5UhMi8AU1YCZjr/mf4UTtRZg1cRagnCc4F3ZHkyMw7XHG4+Eu4R1YD3hD0OUsbSAQU428ovxoXBFY1gIx/TCyBfDvpuMJqkL0avdEIyfOAp9W3XHD+dzNCcU0WZlowwroNvCI1icXzHznnYbOgeiRgUD3D0fBa1YxuDAgxSs6ZknFXRanoi0iClQi+UvzP/qBGotWIWJtYSA99EhjG/aAd9rO0ZwM7awNsgWAhdNQREUZT/OgTVQweAuzkf9o/FlRqg05gAepKyBtpqdsDwxDRFTAgTJKKs5H1+dqIUFqyZCWc2n3sPQAb5qp4T8KvsfUh8YwMXNTfXn0+tphPLlnWGYKSQOunF4hnDNW0RZwSfh4T5s+jMJpl5+8FJWUoUhLBzd4Wqb+zxbuFL56vAtB9yLjMBVhb56pwfG7vDxsoLixmVc1r0WHyEj0wAOjsJNhfo81ZcYOqO6vzNw8yzO6jhfE48q8DCV48rpk0jS9cny27iZmAUT3xp6+o/qwj1Kxnc7eVdBWcEPRZ7Jv4ul4laicC8zePl7qXRFhewqrv2jgG3tYFQTusKobA10GjQCwwe0QzVbTdsFDK0roGrVCkJCoCkoFk8fk60bNkGgyT1cvpQ7dgp63mY4RvcLhtbtxyIuyxUt29eG9HltT5Eo6E8ObsVfR65XUaLIUj4wMYSVra3efVbsuuvhv16GXxB5e9HMqhMpTRTZr/IEzmtmSpv2S3hLM0X3wZFPWM1Cs9aHWYycVpeW1k05+3zupPgU7vrAi2VqTWWUcj6x/A7X93GjdaPZjC102vID7hnmRfe24zht3ASuUC4wzjqomq/uEr5Ds1YkiyfG+dCk0ggeUC2W0OO+hZG2gh2l6o/+Kc/fPKACjU2qcsjW3DnNMt5c3ZPlbRpwZpRwXfktLm5nQ/M6UxihXEOr5OFJTqohpW27RVRNEdeHrEhOq2tJ66azqa3uLn7gVYa1pkY9ec2Ibn2LLccsJv0RTg/rRpytXCtSCBknJzCgQheuiH/yfPK0FR0pLcYHW+W3FrOdjTnrTImgVmSTWENqy3aLrgt/ZfDEpACaOQj3zbc6PIfRU+vQIfgr/q3sdD1kJk/6g+Ee1mw0W7uOIB8ZJzkhoAK7rIgXjsuZMK8ZTW3ac4lWmflJNQtWHX0ob+64kpzzyzgirDs71PekZ6NRXBOjPiq7NI8t7ST06LdBZ+3E05Axp0DnZpyYxAAzB6FOuTqnJid6Kus4BPMrVePlvLW4HW3M63CKVvF4clINSm3bcZHeiqfh4XWe3L6Oq9Zu48kbKdrNF3Smxz+pzYWTxhUdpZoP0Mp4aV5L2kk82G+DzjqkpyHLyafz8oR5bGZqw/ZLctdxPOCRT6rRoupoqtzMs6JrP7JLnNfSTmh3P27Qr/OEaj7RMrXo3CMrchrrWlqz6ezzgodSk7LrA3qVqcWpT3RKAjrXyImaytplPDlwi3pTGaWvu/hDc9qa1+RnJzMpuzaHDSWGqjVL2nVjhaBah2lMY68xPCZURj+904/0w2Ppb2bLFj9e1LRTzqTtQ1jZIpCTzzy5nbq+JCd6FhtYSun38QGd9UTJ/CO8IiUmPhy+615ePe/v/4i+5h4M36JcvKWn/ygp3515mpODzGlcsS/X5+qNPJk73/eiudeH3K2zzur+7qH0shXGjsjc3teHdK7qapF/PeHTKGpMlicJMvRQjROFXy+DJycEsEKXFVS6/ee2PWFcWvuuM43LtePPl3LbnSZcw58Si9r88oyyTN8+K17ddSmW/3oZfkEHMX4unYiJUSml6H6V8872Maxtb0nPpmEM79eG/m7+DFsYlRf0Muca131Yh07ONdlpwGD2benD8n59uPiczrCdepRTQ7zZbE5UXsCgRghWNw1ikH8njp23lntOxDBR9bM0rg+zp0mtabygdICyGE6va8OG38RqA+Ci7psaxc07CyxUVzlEEzb+Ll71pzzlOOd09aKVhRvrvzOAA7vWY2WvFvx8lzZ4yIpdzj4+NiwX0JHvhfdmK19nuodM4HY9nWguOdfW8cM6TnSu2YkDBvdlS5/y9OuzmHli0qO+xZfjA576pjV9mk7n6QLjhDxpL8eGtuDkg8l5bU2N2sydBRYmq4IZk8b8LndlfZFkMXZ5H/rYlGNAx/cY3rsVfZ3dGTJhuzaZyLzIVR/UY0CX+aqd25T1Tzk8jd27fs5dOgNnkTITeHDqG7b2acrpjzeQe8eGssXkg0zWXFJ+ZzvH1LanpWdThoX3Yxt/N/qHLWSURpkzbl5kvO46XiEA2jXUiyauPblaVXk5E7d9zCAbK/r1+4VnnunL7pm8uOoD1gvowvnqxgt6eJjTunfNp3eC4nF5Hx/alAtgx/fC2buVL53dQzhhu57JRx6ZTLyls/ueanGxNjEqus2pjNq8U71xRh7qxMik8XfqDRfkidz2cRBtrPzY75czLLZYhOBq+5jatLf0ZNOwcPZr4083/zAuzO0YfdDH3hO38eMgG1r59eMvZ1KKKUeBIu+Rw2vrPmQdJ2fW7DSAg/u2pE95P/ZZfE6bxBR5jXSeW9Sbfi6VGdIrnAO71KJL2eocsCJG9ZBIfmcBW0gNaNJsXv5d5wqSuYtDyhtRUvsrtQ/VV+/0IoMxK8JZo5wzA5U23iuEXi6+DPsld9dQfXxJDq/8+i4rmZVj4wlbGZ+blz04w/lh/rQt48YG3cI5KKwZq3oEMXxptHbM0dN/lJTvzopbxxH1nWjpWpddB4YzrJkPPesM4W8xub0q571js9m1Xit+tjOx8Ic0T6SYiZFwryLH5Aen+E1rHzadfjrfAx/lb5P2jmVoi8k8qHWKz2178qRD/KqNOy3L1WDH/oNU13D1aMZxW65r9VzPPitW3QWK9F8vwy8UgRg/l07ExKiUom+/ytOuM2Lfdm7bdYyXUvIPdmrkTLsewX07dnDf6WtMLczBZ95k7FXNjmo6pF+P5bXHfLCctxe2ooVVF/7vvjCERn/B2pXDue2x/UyfcF/B2a/p6crqE0/nd4hJv7CV1Iztl+leSMYH8We4f8c27joaw3uFPezLSeal47u5bdtuHo+9VyApKQbyNF6P2McdO/bx9LVU7QBanPoWS45Kcph48erjwWpWAq/ojCjyO2vY07U6J57O379Jv7Si1Kw984lMD3KSL/H47m3ctvs4YwsVKvnwVhTP3VIeE4L3+FsFBkINT5KZDjmJF3n18QYy4Uq8EMIXQHO97dt28dillDx5y68vYQeXEM1OUVqyDo9iFWNTNp+fqCkRxu7o3ziiiSutXOoz/JstvPAsCdLDW4w6d0ulS5mJ8bxVaONzmHzpOHdv28bdx2ML182nksaTM0JZc+guVVCtRpsY7b1UVJtv8c6annStPpH51SKJv7SS0qz9Mp2n/Q8Y/dsINnG1okv9cH6z5UIxEySNLW8X7PDYJRbqZp5EceznQTR/G9GErlYurB/+Dbdc0DMQKsY91P5yB3fsO81rus6wGNeQPYjnacHnbt9zglfv61wj6wTHVjWmoX13rknWlBWC/Mb3bGpipNolTuc5gp56px/y3DruPcU4nXbq70tkTNgzjR0rW9KmamdOWh2l0Rk5H96M5MGd27jz0FkmPKGOevmPkvLdghQTow9x57adPHQ2If+9chIZffwcb2uNLI+Uo1+zS8NBXHfvSVqWxl87mdGk4RxeK8y5PYEix2ShThevPq7bWQlX8icSKp7D9vLI4r2Yo9wl+Kq9J6888Rr69Zl+dS/SZ/909sX7BT0Q4+fn4SHvXr/Gm0mFGNcrRkyMSimvc7/KYqazjpkPx514yBPj67DF98X4/kTmTg52NaF/AYeY8/dnrC6twlGHn314fCG8BvXN3DmYrib+BYKZHP79WXVKq4zi6yaykka5/aqdtAFn624fLKDcetpTGGRb/HxHU5JLKs+umshutVxoYePFFkO+5sazSfrr6Mvg3jJ2sJSw5mTd6ZqZ3De8Ik38J/LI+qLafIM7B7uqzs2vFn/zs+pSVhl1+PFAM/UsV03sxlouFrTxasEhX2/k2aQXLJVnsJ/Us6s4sVstuljY0KvFEH698SyfWs2SsNESsfMcRn9Vh2aGZdjw6/P5rqNFsw2yxJfjjr/8gKK4vkSedJpLR7Wml42U5YJ68Yu1kU/vizcF2TV+21hKk6ZzeeNJUXbWSY73ldB5wNbCkwSRJ1Kkz/5x9Yv3C3ogxs/PQfp69rIxpueIAzoP914PnmmJoIjI82BUqQkaVkjE5XN7sPqv+pgwqDIK2a+pcIwrw9vTCFcP7seVvDWlclzZtRdXHUPQKvA1WzH5GtTXuLI3PI2u4uD+K9pFvfIr2LX3KhxDWuF1E1lJY1y+AlwUF3DowF3Nwl8l6Ti5+U/8Y94AHVo4aMrUZB+bi0++24P4bGs4md3BwcXj0a2mB7ybDcHsLTH4T3fx+CtCochBjkyBe4mJmh2sBOSJiL7wL5wbNEF196La7ITK3p4wunoQ+7WKKajFLuy96oiQVoF529eqycaxuZ/guz3xyLZ2gtmdg1g8vhtqenij2ZDZ2BLzn859SpDi2k/2Mcz95Dvsic+GtZMZ7hxcjPHdasLDuxmGzN6CmMI6ryRstETs3BjVRv2ICfWMcWL6QEw+mPKYTOXxqzBu9mlUHPY9JtSXakpfHsXyJfLrWDxyKH4+chuSsg7IOvd/+LJXLVTybY0RP/6JuIea895EDIxgbGQAecwh7LultR8tmbjwyxdYfqMawt9vnreBi4h+FOmzBf/0wv2CyFuNJkcqHcjvX2KM6nXu283r3a/p3NLfhRUCGrHf4uvFfq19f/8EBtnYMHDwQu4+HcH9y0ewnqMHe628/no91dfw6ut7n/snBNHGJpCDF+7m6Yj9XD6iHh09enHl9dLw+LYI5IncMtSPluUacfSKfYw4c4hrp7Sju40X+/x6qYgpODKm3YzkzuXTOLRDIJ1MJXQKncmTj01ZecnI73HrB940t6nHUauO8O+IvVz2UQNW8B/CTcr59/q0+f5+TgiyoU3gYC7cfZoR+5dzRD1HevRaySLVQpbGm5E7uXzaUHYIdKKpxImhM08+Pr2xBHge+5Gl3WTkzuWcNrQDA51MKXEK5cxCOq8kbLSk7FyefJTfdK7MMhaV2XbMfG48cIp/nz7IjT+NZLNK7mw8bitvvjKzfQ5fkpXE2IOr+PWHHRlQzoQmrs0449jjU4ffDORM2jOBde2MaOoWymGzV3Lnsb95Nuo0D25exMnv1mQ55/ocuT7uOab4vcXo4b9ehl8oilIVP8vv81KMeiruS+E1fmNkoOlYZYJUCkjBlgE10HOvP75cuxJjG+h8uPAtQ/kdoNe5X+/vmIIh6+wwduFHqKP7DTc9SYvdgkVLtuD0jYeQOvkhtPcQ9K3vrP+bp5fMq69vGmK3LMKSLadx46EUTn6h6D2kL+o7v64SK2EUqTi/eQmWbY3AjTRjOHjVQ4d+/dG+6hO/2Fko2XdOYe2P83Al+GdMa/+kr2C+JBTJOLNmIX7bHYVbj8xRIag9wj94B9Vz9wrWp81psdiyaAm2nL6Bh1In+IX2xpC+9VE8tcjGnVNr8eO8Kwj+eRpehFhKxH6y7+DU2h8x70owfp7WHgWrWRL3KDk7z8LNYxuw7o/DiL6ejAwjKzh71UGrHu+ija/yI5evkhLwJY9u4vCaBVh8rT7mTe8E5SeS30Rk96KwbeNWHIm6gltJD5EDE5Qp6waf2s3Q5Z0WqPps+3aLKNHDf70Mv/A0XnWc9d/ZdVjw6w6cjr6Cf1IyIbGrjLqdh2LcB03hkrfXvH6kbBmAGj33wv/LtVg5toHOB5xfEI82IMw1DH8N2IM9nc9h9vcbceqfHDjV7YtPpw5G3RdegSdTyhIjwZbuHcL03mGYdsoOfeevw099fd7K19ive2IkIiIiIiIiIvKm8mrjLBnOTg1Fl81SBFbzhKu9CVIit+H3w3dRedwenJ3ZQHOeniju4dD03gibdgp2fedj3U994fMig2dVYtQLR32DIT0bC8uWXdDA+hK2rD6KzNaLcPr3gahY/CdKJUKpS4xUZMVh3cfdMWRJAmqMW4k1X7bQPgGVReKbTv3x243C5gUbwb3vMmwZH6T9sNsbipgYiYiIiIiIiIi8GF55nKVcGqX7YkV+Fd+GVMOEu8OQc+lbTWFxyELcuo/RfcgSJNQYh5VrvkQLbfCMyG86of9v+T+InIuRe18s2zIeQfoGz6rEqAfWPqqEsGU7sbR3ZUiRiZPja6HRXCk+++sUplR7NZF46UyMVPyHiB8HoOf4nTBs/y3WLxuGmso3sPLr2DZ3EY7m+/x2LoawbzAEoztUfIapD68XYmIkIiIiIiIiIvJieK3iLLkMMnkmdn7gha5/tkVOwhLNgeLzX8SPGNBzPHYatse365dhmDp4xvVtc7HoaFKhG+0Y2jfAkNEd9H/Lo3ljdKjzRlxc3hG5EySzDnwIn5bLUX1JIja/92om2ZbixEhJJk59FoymM87D46PdOD23abHmj77JiImRiIiIiIiIiMiL4VXHWVlxmzF94tdYvf8sbqRkQqapi6FzOOSJz54YKck89RmCm87AeY+PsPv0XDQt6eBZkxid6rsHMT82Re4em7LzU1EvcDqsZl/F/o8qaEpfLqV3ZaAiGUdndUW32ddQdcj/8McsTVIki8BXoZXh4eFRyP9XRsi0CGSrLiAiIiIiIiIiIiLympF5BJ926IlZEeXw3rztOHH2HM6fj8SibuWeM7BXIPnoLHTtNhvXqg7B//6YpUmKZIj4KhSVC42dPVA5ZBoiSiB4Vjx8iHQao4y1ziZBL5nS+cYo/TyWDe2Bkesy0HzmWqz4qC7yNoeR/4M9v/yGk8lPmEpXry/eb+EmTqUTEREREREREREplFcZZ8nOfIrA4Nmw/CoGh8flfgsyGau7e+O9Y52R80xvjNJxftlQ9Bi5DhnNZ2Ltio9QVxs84589v+C3k8lPmEpXD33fbwG3Yk6ly//GSI64b0PgPykTn/59HJ/5iWuMSgTZzT8woedA/HjFCx+t+D/MbF/hjd9I4VkQEyMRERERERERkRfDq4yz5HFz0NR3Ai63mINti/vCKfEQfvvmc8z5/RLSyvaHrLiJkewm/pjQEwN/vAKvj1bg/2a2R4UXGTznrjFqvQzHl/eFu2k2bh+ZiwE9Pkd0w2WI+L8+cH1Fc9pK2VS6FOycOgqLU1piwYE9mP2WJkUiIiIiIiIiIiKlEyOPfpg4LADZu0ajjosD3Gr3xuLUd/DNx7WeKe5N2TkVoxanoOWCA9gz+wUnRUqMyqGStwPur3sPntbWsLOxQvmQGbjRYCY2/BL2ypIiJaVvKt2jO7idWQ7Or/DjUK8D4hsjEREREREREZEXw6uPs2RIuXQaEVfTYOFRE3V8y8FEc6T4PMKd25ko52z3Et+YyJF2MwYXriUgJdMUzj61EOBe5pW/sSnlu9K9vRRlsI/i9mPziXT4tWmHAPsSVENFFlLvJSFD6gBHW6keCi7Hv3FXIHeuCqc37ku8CmSmJCOzTFnYqLyRDGn/pgC25WApvqoUEREREREptYgPoEsnb/drlbcYc3spLvzwLuo3nYSjmZrC50FxDwdndUNN9ypo0LkXuoVWg0/D9/HrhadfXJEWg2WDasPNbzj2ZmkK3wQU/2D94AB41W+DprVa4qsjf+GX7rUR3KYZ/CrWwvtrrwkpn4iIiIiIiIiIyJuCmBi9rdjUQ3jPmpBdOoLjt54/hE/ZNAZhky+g8W/RuHDyMI5FRmF18yh81OsLnCiY8Cj+w8UdP+GTHg3gU707Npd5F1O+/wgNczeyfwNQ/LsdS9aVxdj9p3FmbQj2Dw7DmgpzcfJMFA6Ps8bqD8dizb3C9m4RERERERERERF5HRETo7cWI5Qray8ogAKK586LshFz5jJs2nyA8EY2mjJzVGsbivKXN2HjX9rN7bOubsDo0CB0/vEaPAcuxcmrF3Fi62J82skLpppz3gQMbQJQ14f4L5Uw9mqORjaZcKtfGxaCXJ2r+aDsg0icupCjOVtEREREREREROR1R0yM3mIMDZVLzHTIvIh1n36EGXsTC92n/smYoOHMU4jZ8hGq66ytMTSVQqpIwt276qvJr69E/9af4FKntTi1ay6Gta4K26fuea/A7T0zMPTTjbjxus1Lk9bH1P1rMchVkKFxbXx58gZ+626hOmRgZCQYVg6yxS8Fi4iIiIiIiIi8MYiJkUgeyavHYsh6QzRq7JJfMbKvY+esAWgW6Atfnypwc/NGcM/PsfHiI80JAooUnFwwGKG+nqjsF4R6zfth1r4EZIFQKPMiRQJWjh6N9YmPEP1DdwR6B2Pwyst4FP87xratDb9KrnAL7I6ZB+9pkzL5daz6cjpOGVeC62MJ1CNc3PAp3qnnC29vb3i6eyKw/Sj8GpWmOa4kExf/bwza1vAWzqmK4PAViMnMxLnF/VDbqzK8fBpj+Lp4yP6LxKJBoQjyrwy3SrXRY8Y+3NFUQvHvUfwQHooavj7wrugOrwZ9Meewpo7mjnCyycHVTZ+jWz0/4R6VUdGrHsJ+joRuLZRv1K7vnIUBzQLhK1ynipsbvIN74vONF4VWiIiIiIiIiIiIvC4od6UTKWXo06/pv3WiVFKPMy/KVH/nnJvDpq4h/O6K+m8VGdGc186VDg0mcOfNTFVRVsI+TgkpS4ljGy6IzRFKZLw4ryXtLQL5yb67lAsl8vvR/N+QmrQ0smXYhgzKYmawrokBpX4juDtJzpz4Rezo3Zn9u9Ri+OY7lMsTuWlgFUrsWnH+1dz7y5mwdQyD3f3Y8/ujvJtXLRmvLe9CV+sgjtmdSGUNmHaeS3t6UFKuAxfHKU+U8/bG/vQwr8phO+9RLrvFtWHeDJ04iW3rjuQeZR3iFrJDwEBOfr8WW38XzXThSjdW9qCrpCx7rkkiHx7jZ7UcGDByF28rLym7zR3DfSl17MHVd1St5M1V79JNWY89d4RaCackR3BRHx+aG5fnkF1KeWUwel47ujo04ISdN6mSYFYC900JYVmJI9ssiFXXX0REREREROSNQYyfSydiYlRKeZbESJlwxC/pRJ+286nKd4S/435qTiuTIH4RnT98l8V9zxALIzr22SgE+sc4xktCy47LKaQTeeScncJAiToxSl7ajmYG5mz5c6IqcSKTubSDHa28PuBudb5FWex01pVIWGNyZL5kIef2IX7bw5+VQiZyR4JQ15xofhFkQse+m5imOUeJLG42Gwq/rzfjonBOFCfXlFDadC7j1Tdk5oER9HN2ZcuvL6mSGAq1XdSuAl2qhfOPdFWBkMf8zj72ElYcto9JKzrR2rQZ5yVoLiCQE/k5AyRW7LoqNa/dDr3WUfgrj6xDI1lJok6MZHE/sbmVCYO+iM6fAMni+H2IBY0c+3Cj7o9FREREREREXnvE+Ll0Ik6lE9HBCBV7DUbw2U8xbP5l4e8U7N9xDI/cGiLUO/+HeYzc26F1gCGSTx2FIjkSUdcJlypesNQcz48c95NTITN0gnfV3I+HmcPWGsgwc4CDZpqckZsXPC0UuHH1GmTqIhXGTo0xevVWTLRcil495uCc3ATmZqYo71kp34YNRmUdYCNcPD39oVCn4zgRo4CzXwCcNVpu7OSMMknJMHNyFVqqxAy2Vmn4F05wyf0qmoEppFIDlLG2QFrKfWRauMBV52PBhi4ucDTIwL3bKZD/cxQn4oGKPr4oozlekJT9O3DskRsahnrn/xq1kTvatQ6AYfIpHD0nLkYSEREREREREXnViImRSH6kHqjoko6jG7cCinQ8SJcLuYIFzApqipE97IUshHIhhcnOViUyyo+dPYaBMSQSI9ja20IiJEjyvE0UJKgeNhWzRrdB+bxryyFTGMDGzk715WFFyiXEJmhSJKOK6BXeFqanf8XKKA98vHYHprUpl0+Bs85G4zLc0KSZD5CZiSwKV5TppFgSE5iZmsFMSHzUGEIiNRMSIUle0iK7HIGoNH907VoTbt1GoL+PFDKdjR8MhYTMRPi5XChkhnAPoUx5D9W713wYwtBIgfQH6ZALyZbF4wKEvb0NDCm0Wfb4r0VERERERERERF4uYmL0FmNYxhIWBjnIztEJzOUP8TAdMLawFE5wgndlezAxDtcyNMdzkSUg4S5hHVgPho6+8HYEbsfFQfhpHor/UvHAwAVubsawbtgEgSb3cPlSsmZzBSNUajMco/sFo6xGC2VxsYjLckXL9rUhfXQI45t2wPfntVmJsZ0trA2ylTkPjF0boE1dR0GB03D9r2M48udyjB2/HeUnLcOXTcxh6ByIGhUMcPd8FP7RXMKo0hgceJCCNT3N1QUwRafliUiLmIIAZWaU/hfmf3UCtRaswsRaJjCs0A0LjyxGN/Vmc2qE5C/XaIzdfeBlpcCNy5ehKx4+ykCmgQMcy0ng5F0Z9kxE3OMCRELCXdA6EPWqv0EfcBIRERERERERKaWIidFbjEmdJqhvHovtG6LyEpr0yC34M64MQru2Ev4yRbPBA+CXsQ9rf7+dbwtvWewmbL9RC6MnvSOcFoKhQ4Kg2L8USy/kTgu7jwOrd+JOtXfwjr8xjCoPwLgwJ0SsXY0rhW69nYm/Vm/Gv22/xITmFlCknkfklX+ReCtJc980nN6yFwmenfBO7dx5bwKymzjw6wL8NH8xtt9xRHWvsjBVarVJQwz/OBRlTv+MaZv13H7cNADD/28nFvapWuQ3lVQvxyzbYehAH2T8uRgrLmnarUjGvk0HkOrfHh18jWHabDAG+GVg39rfcTu/ALFp+w3UGj0J79hpykRERERERERERF4pmuVGIqUJ/fo1i7HL+9DHphwDOr7H8N6t6OvszpAJ26ndbyCTF1d9wHoBXTg/Wr1DgTzlMKd178rPd+VupCCQc43rPqxDJ+ea7DRgMPu29GF5vz5cfC5Dc4LAg1P8prUPm04/zdy9DtTImbR3LENbTObBZM0V5Xe4fUxt2lt6smlYOPu18aebfxgXRj1UH8+4yYvxulsvyJm8ayi9TFzZc3WCpiiR2z4Ooo2VH/v9coYp2j0U9CM1ipt3Ftg1Lm0FO0pN2Pi7ePXfGTFcEV6D5ZwD2fG9cPYK8aKLbxh/0chKSebFVfygXgC7zFfufCcgT+Hhad3Z9fNdTCxunUREREREREReOWL8XDpRPvdW/leZIImUIpTrffTtV1nKZUT8dQUpsEOlGkGoWlbnjUwu6Qk4Gw/4+LuCt68jyboiXHNnpOWhwMMbf+N0zL+AQ1UEBXrAuuD3h2S3cemGKapUss33ujI78SoSrSqjYr5dDDTXu3AXOTZVUKeOF2yVU94UN7C0czBWhR7H3lHu2utkH8HH/qFY6P4DMvYM0xSm4dz/PsWIib/iilt3jJowGoPa+8K2qHelirtYGxaEmZ6b8NeM2tqNE5IXobXrKEh+TsTWATaaQgXSrv+FCKHdFNpdK8jz8XYjHQlqAcKVt3E9yRoVHxegiIiIiIiIyBtAceIskTcHMTEqpZRqg83chL6uvRA/MQaHPvHU7DAnkHUQI31bYHGln5Cx+wNNoYb/orH662mY++tOXC0TjB7hH2B4eCdUt38sg1GTtQtDKnXCiX5HEamTGMkiP0dQ/f9D6J7zmNuokARSREREREREpNQjJkalE3GNkcibh3F5VHBR4MKhA7irs24n/eRm/PmPORp0aKEpySUbx+Z+gu/2xCPb2glmdw5i8fhuqOnhjWZDZmNLzH+Pr0EyrgxvTyNcPbhfZ02UHFd27cVVxxC0ChSTIhERERERERGR0oT4xqiUUrqfZChw+48P0aLPRtgN/gZf9PKHcdxWfDP+B1xp9AO2Lu0Hr6flLfKH+OfcUezb9gd+37QJe84BwVM3Y8uEuvm+R5R6YCKad10Idp+FWYODYHzhN0yasA0e3x7A/3q7a99UiYiIiIiIiLxViG+MSidiYlRKKf0Gq0Dq+c1YsmwrIm6kwdjBC/U69EP/9lWf8JHZJ5GNO6fW4sd5VxD88zS0L/Cl1rTYLVi0ZAtO33gIqZMfQnsPQd/6zmJSJCIiIiIi8hYjJkalEzExKqWIBisiIiIiIiIi8mIQ46zSibjGSERERERERERERETkrUdMjERERERERERERERE3npUU+nU/xQREREREREREREREXk7EdcYlVLEua8iIiIiIiIiIi8GMc4qnYhT6URERERERERERERE3nrExEhERERERERERERE5K1HTIxERERERERERERERN56xMRIREREREREREREROStR0yMRIpGkYXUOwm4fT8LCk3R85CVehf/PpRr/gKyU/9FyiPt33mU8H3zeBSH/atXYuvZ5BK6rkJo0x0k3L6PrBKtaHGQ49+4i7jzSPNnifAIcftXY+XWs0gu0XYVX17yf+NwsWQb9/IocX0TeVkoslJxJ+E27j+LYWf/h3v/PhQsMz+ybJnmX68ORWYK/k3N1vwl1CntX9xLe/X1ykO0GS3yfxF38Y7gjUseeXb2Y/pZUrzRPlvkrUZMjESejOIeDs7qhpruVdCgcy90C60Gn4bv49cLmZoTionsMn57rxrc/ELRum4NtJr+J3ZOCUVg07YI9qqC1rNPq53/895XFo25nWuhdtN2eHfIeMxecwp3dMd8c3tIL/yAd+s3xaSjz9gWFQrcOzgL3Wq6o0qDzujVLRTVfBri/V8v4Hmu+iwo0mKwbFBtQbbDsTdLU/jcmMNeegE/vFsfTScdLYE2PaO8FGmIWTYItd38MLzkGvfyKDF9E3lZKO4dxKxuNeFepQE69+qG0Go+aPj+r9Db9T06hPG1ysO7biPUCqiN0M59MGhQf7wTUh0tZ57Dq0tBFPhn/WAEeNVHm6a10PKrI/jrl+6oHdwGzfwqotb7a3HtRUXKxUG0GQ0KpMUsw6DabvAbvhcl6/1SsHb0CPzfPy9AG990ny3y1qPcrluklFES/Zq8oQ+dJVU5cv99TUk6z0ypQ+tq43k8U1NUDO6ve5cOJrU49XwO+fAYx9UuzwpNJ/PvLOHY/7rQxnMEDwjXfe77yuP5bYgnu83fx/0bv2Uvbws6t1/IizLNcQFZ3Gw2kEgY/PUV6hQXj+QN7OMsYdWR+5lX0zNTWMe6Gsc/i4CKizyVsdt/5JjuwfSq6M167Qfxq82XmKE5XCLI4ji7gYSS4K955ZkFpaFY8pIzNXY7fxzTncFeFeldrz0HfbWZl0q0cS+PEtE3kZdEMjf0caak6khqXdAZTqljzWrjj1Mfy846OZ6+Jp4ccVBwbg9iuGnmEHZsXI9Ne8/mkSS55qzHkT+4xQtnY3n7Rem5/A5/bmnFkB9vUZ5zgTNCvOnV5GMeeCjoaPwPDC1jz67/u6s5+dXyNtuMPDWW238cw+7BXqzoXY/tB33FzSXu/DJ55rsO9CrnRK/gDhww7ltuOJsieN5npXT5bH0Q4+fSifjGSOQJZCPmzGXYtPkA4Y1sNGXmqNY2FOUvb8LGv7TTMPRDhuvnL+K/Mt7wq2QMWAShRX1r2NRoAl8TORJupMK9dUv4SUrgvobl4OaYgu1/XIFv548wdUB1JO1ej733tJMyjMqVhb2g/QrFsz8ezY45g8s2bfBBeCPk1bRaW4SWv4xNG//SlLwYsq5uwOjQIHT+8Ro8By7FyasXcWLrYnzayQummnNKBKNyKKsW1HNPudBbXllXsWF0KII6/4hrngOx9ORVXDyxFYs/7QSvEm3cy6Mk9E3kJZEdgzOXbdDmg3BoXVA1tA0tj8ubNkIfF8SUJKRSCjOlvlr6oPOEX7Dl0AkcWPkJGioVoRBk579Hm1ptMOKTXqhTdwKOvYgH7YY2CKjrA/6XChp7obnQwEy3+qhtIeioczX4lH2AyFMXNCe/Wt5Om8nC1Q2jERrUGT9e88TApSdx9eIJbF38KTqVuPOTIujjP3DpZhTWf94Rjud+Qlj9pvj02DO8oSuFPlvk7aVwDy3y1qC4vQczhn6KjTcKDj4maDjzFGK2fITqQh6Ti6GpFFJFEu7eLe7MbwNYlhFG30cpSElX/i1F8x/OI3puqPAvwnngWpyc3x5lDUvgvopU3Ek2R93m9YSB1Qh2dtaCoisg050xYGio+rqxlkxcXPcpPpqxF4l6Ns2k4UycitmCj/JXFFKpAkl372oKSh759ZXo3/oTXOq0Fqd2zcWw1lVha6Q5WOIYwjC/oJB5cR0+/WgG9uorKA16yUt+HSv7t8Ynlzph7aldmDusNaoW0bgn6/BrRAno25vEG9EnT8KkIWaeisGWj6pDq6mGMJVKoUi6C31cEHPkxZ4ulxV7GlcCP8Pmrd+gvdFt3H0h8+2kqD91P9YOchX00Ri1vzyJG791h+CZBRdtBCMhIsjJLu5DrxdEqbQZBW7vmYGhn27E46Yhx/WV/dH6k0votPYUds0dhtZVbfE071cidiZ1RPXWg/DVt4NRI+cSzpxNFWpZDJ7BZ4uIvM6IidFbjeCIV32J6aeMUcm1EEemSMHJBYMR6uuJyn5BqNe8H2btS0CWkMgoNJ5Tcf8kfuofDK+KnqhUtQlGrI9Hesz/MLRZTVT1KI/KDcOx8Mx/wplGcPWqBBt5LKLOqh+FZt2/icuXb+J+tjHsnMtp33Toc99/j+KH8FDU8PWBd0V3eDXoizmH72kcuhRt5v2NP0e74cLqyRi24iYcLC5jx68Hkfik8SN5NcYOWQ/DRo3hordVKJBycgEGh/rCs7Ifguo1R79Z+5AgNI+5FRXO+ffoDwgPrQFfH29UdPdCg75zcDjv7ZUC90/+hP7BXqjoWQlVm4zA+vh0xPxvKJrVrAqP8pXRMHwhVCJUnZ6AlaNHY33iI0T/0B2B3sEYvPIyHsX/jrFta8OvkivcArtj5sFcWQgo/sXRH8IRWsMXPt4V4e7VAH3nHIbOC7RikIzVY4dgvWEjNM4nqGxc3zkLA5oFwlfokypubvAO7onPN17UWTRclLwUSFg5GqPXJ+JR9A/oHuiN4MErcflRPH4f2xa1/SrB1S0Q3Wce1Kn703X40cUN+PSdevD19oa3pzs8A9tj1K9RSNMcVwVb/zcGbWsIx72rIjh8BWIyM3FucT/U9qoML5/GGL4uHrL/IrFoUCiC/CvDrVJt9JixD3d05Jd9fSdmDWiGQF9BxlXc4Cb0S8/PN+Lik9YeP6O+/XvsB3wwbBEuaILm7KOj4W3uhVGHlcHsI1zc8CneqecrtMUbnu6eCGw/Cr9GaVurusZT9VGZ+P4fxrStobpG1eBwrIjJROa5xehX2wuVvXzQePg6xMv+Q+SiQQgN8kdlt0qo3WMG9uUJpAi/UhRF6WvmRfzfmLaooezTqsEIXxGDzMxzWNyvNrwqe8Gn8XCsi5fhv8hFGBQaBP/KbqhUuwdm7Lujt00oUk5iweBQ+HpWhl9QPTTvNwv71Iqad42n+yDlLBsZ7hz8Bv2a10Ogj3APn1AMmn8CKXmVyI9FxymYZrsOQ8Nn45x/ACQXbxe+9i77OnbOGoBmgb5CH1aBm5tgJz0/x8YnKltBzOHoZIOcq5vwebd68BPkWLmiF+qF/YxIXVXRQ1cEIWPFqPao7S/oXKVKqN5iOJb8lYrU6DX4rGdT1ArwEXyYO6q1fB8/HdPxSQIvx2aU/XQcC4a1Qa1qfvB2d0Z5/5YYtvgULh1ZiI8714Vf1Soo71IJwb2/xv7bmgEiOx5bvhyF+RHqseq/49+gczUPuLl7o+XULdg0uZXgayvBvUIVNBryK2LUpxWNkESs+nI6ThkLvqyAaSgSVmL06PVIfBSNH7oHCv5zMFZefoT438eibW0/wZbcENh9Jg7myf857UwXeTJOrNmBuAo9EN6hnDYwLFLXnsFnP7qIDZ++g3q+Sp/rCXfPQLQf9Svyu6mixqyS8Nv6jFkibyuaWXUipQl9+1WesJVjgt3p1/N7Hr2rO5NbxovzWtLeIpCf7Lurmncsvx/N/w2pSUsjW4ZtyBBOucQFrcvSpuE0RqTJmXHua4Z4dWFYy7ocdSCF8pxr/LWbKyUuPbk6UU75zR8YIpWwwdQ/uPC9BqxRN4SN/B1pUTaIA5ZEM13f+z48xs9qOTBg5C7eVlZZdps7hvtS6tiDq+9oZkg/iOD3nTzo0mAct17P5MPohezqbkH3LosYkyUcT/+NnYS61Jt5UT1/Pecc5zR1Zch3+s9nl12cx5b2Fgz8ZB/vqivK6P8NYU1LI9qGbVCd8/DYZ6zlEMCRu26rriu7vYPDfaV07LGayqrKLi1g67I2bDgtgmnyDJ77OoReXcLYsu4oHkiRM+far+zmKqFLz9UUREhZzAzWNTGg1G8EdycJx+MXsaN3Z/bvUovhm+9QLk/kpoFVKLFrxflXlXd8yGOf1aJDwEjuUguLt3cMp6/UkT1WC+crK/lU0vlbJykl9WZq1mjl8NycpnQN+U5nzVEGo+e1o6tDA07YeVO9BiMrgfumhLCsxJFtFsQKv9JDXrIYzqhrQgOpH0fsThL0J56LOnqzc/8urBW+WZCXnImbBrKKxI6t5l/N66cn6bDs2nJ2cbVm0JjdTFRWgGk8v7QnPSTl2GFxnPB7OW9v7E8P86octvMe5bJbXBvmzdCJk9i27kjuUco3biE7BAzk5PdrsfV3Sh3N4Y2VPegqKcuea5JU98mInsd2rg5sMGEnb6obz4R9UxhSVkLHNgsYq7x3CehbVtRMNrStwg/3qy1FSeaBEfSUeKjKri3vQlfrII7ZnaiSN9POc2lPD0rKdeDiOPVditJH+e2N7O9hzqrDdvKeXMZba8PoHTqRk9rW5cg9yj6J48IOARw4+X3Wav0do4Wq5NxYyR6CjpbtuUZ1DyVP9itFUYS+ym9zY38Pmlcdxp335JTdWssw71BOnNSWdUfuYZI8h3ELOzBg4GS+X6s1v1NXkCt7CH6obE+qu6yIe8gucl5Le1oEfsJ9akXl/ej/cUhNSxrZhlHpgoryQRlb3mM5I3P69lvMM8nKE3J4e/fHrGlhy5Bvz6v7pyAPjnFal76cOWcAQ/t+yS971qRPq8ncpTT8XDKiOa+dKx0aTOBOtbIJpraPU0LKUuLYhgtUylY08pur+K6b0jb28I6q/smMWNSHPubGLD9kl+qconSFacf5RbAd3d5ZwlilSsrTeHH9SNbxcGeFstU5dPN1wRKE4pTTnNvelcZlgvjp0TSh5OXZDFP28ZMaNqzcZyWvKPtNnswTs5qzrJERTSq25fRd11X+Kj1mCd+pYEzzmhN55KGMsbMb0dKpHzc/FA4K+vBNI1vWn3GBWclbOKCCEY3Kv8dNyUI/n57EAIktu6/JXYxWFHImbB3DYHc/9vz+KLWmIWPMjLo0MZDSb8RulR7HL+pI78792aVWODcLApcnbuLAKhLatZpPlWsXeHY70yDI9Nv2PvQoZ0Hzyu9yWYxap1Too2vF9dmya1zexZXWQWO4W+2UBTe1lD09JCzXYTHVbqqoMask/LZ+Y1ZRiPFz6URMjEopxerXnNs89G0P+lcK4cQdCepBJ+sYx3hJaNlxOdXhn5qcs1MYKAwEygQl66AyKLNnr3UP1AeVmx40saJl0ESeUo6IAjkRk+gvkbLxt9coyznFCX4SSswrsuO8c+pESAi0fmlfloYmVTn6kFCix32TVnSitWkzzkvQBgw5kZ8LA5QVu65KFf5K5a6hlWji1IOrdIKK1D3DWFliyZC5wsBacNAVkMUvYSeftpyvV3CRxWNjvCix7Mjl+SvKKYESTWKUxBWdrGnabB61Vc1h5OcBlFh15arULB4c4UmJfS9qRfgtm1hZMmjiKVVQoTw/YpI/JdLG/PaajMlL29HMwJwtf04UhgclyVzawY5WXh9wt2ZMk8VOZ12JhDUmRzInaQU7WZuy2bwEzfkCOZH8PEBCq66rBEkVRcHESEAWzyWdfNh2vibhifuJza1MGPRFdP7BRBbH70MsaOTYhxuFthYpr+SlbGdmQPOWP6uSQCXJSzvQzsqLH2gbx+l1BR2qMZmRujd7TIdzGP1FEE0c+3KTOhZTo9xMoqHw+3ozeDEzipNrSihtOpfxmvspEw0/Z1e2/PqSRi+SuKhdBbpUC+cfKoUVyPidfewlrDhsn+p6PzW3oknQF4zO33jGfR9CCyNH9tkoSPm59S2T+4ZXpMRBaI/OYua8xGjPGX4RZELHvpuE9E+LcgF7Q0EX6s24KPxVlD7mMGpyTUHXmnKuViAc4edM15Zf85Km4kmL2rGCSzWGawXC3/vYU1JxmOZvDYX5laIoQl+ToiazpuBPms6N1xzP5IERfnR2bcmvtRVkuwourBb+h9rHCGT83of2kooctk/QoyLuce/YGHoJfqJjfkXl2SmBlGgSo6J8kCoxkvhw3EmNI1ShlL8VjcsP4a7cPkyN5IoJE7js3EMmL+9I13fXMT19A8M8e3NDWrwQRDrTqsZY7ktRnizo1E/NaWUSxC/yK5vQz98zxMKIjn02akqehsYWHQS/o+sAsg5xZCWJJjEqSleE5OGbhjQ3a8LvNEm3ipwIflrNhOXC1udtsKJEfkvoE2tDWrVbrKzsS7IZGS9Mr0tTixZccEvbT5Rd4ZxGZjRyGcA/8oxFzpsLW9PK0Irtl97gzsFCIi3os1JdciIns4Z1CL8X/K+QnXBeMxOaNJnL68pLpq9iF3MJ68/K9Rf6kXP7EL/t4c9KIRO5I0H5S8GPtzOjgXlL/qx1fuxgZ0WvD3arA3fhDrFCeySSGpys6/yexc4KIrvH49ND6ejaht9HKpVTT10rps+O+PsLBpk4sm9+p8y42Q2FdtXjDOUgU9SYlfP8flu/MUtT9hTE+Ll0UowX0iKlFmMnNB69GlsnWmJprx6Yc04GRXIkoq4TLlW8YKk5LT8K3Ik8h1uogCpVzNRFhvaws8pCppkdHDRv9o19fFBFIsONq9cgM/ZHgzr2gG0LDB3kD3PVCZ4I690UljlX8cfvfyFTj/umpdxHpoULXO206mvo4gJHgwzcu50C/LcTS9dch23r3ujsrD3HunFvdPLMwLE/dhQ6R92oYi8MDj6LT4fNx+WipmwrkhEZdR10qQKvwisqnJOGlPuZsHBxhbaqhnBxcYRBxj3cTkpA5LlbQIUq0IrQDlZZmTCzc9DMLTeGj08VSGQ3cPVaFu4np0Jm6ATvqnaa6Q7msLUGMswc8mRu5OYFTwuFSubZaSm4n2kBF9fc8wUMXeDiaICMe7eR8ixT040qotfgYJz9dBjmC4JK2b8Dxx65oWGot86aDAEjd7RrHQDD5FM4evZ2kfKS309GqswQTt5V8+Rlrm4cHLSNg5enBRQ3ruKa7hqMx3RYDhNzM5iW90Ql3cW/RmXhYCNcPD0dD5KO40SMAs5+AchVE2MnZ5RJSoaZk6tG/mawtUrDv3CCi4mqADBQrosyQBlroSEp+7Hj2CO4NQyFd/7Gw71dawQYJuPU0XOasvwUS98gR9K/96EwMCiw7iIXE5ibmaK8Z6V8m28YlXWAurkP9dDHezh+IgYKZz8EaAUC5zJJSDZzypv6Y2ZrhbR/ASetQFTrbwzKCH2lSyF+pSgUT9XXBMQdPYEYhTP8Apw1x43h5FwGSclmcNJWEFbqCgpSUWOgXKNoUAbWlkZF3uPaX1G4ThdUebJhF+2DCsUS3t6uwN1ziLopdLj8Mn4Ja4dZj1qhu78FrAIaoMrJz9C82ec4W7s5appVRN+vRsD34g8YOesEspCC/TuO4ZFbQ4TmVzbB1NqhdYAhkk8d1ZQ8Bfk/OHoiHqjoA98ymrKC6KErh/adQbZbLdQtr5G7gPzaXuy7SFSpUTOf/zZ0FuoXZIz0yJMvz2YEH33k8FnIXP1Rray2n2DkgdYt/GB47ySOXshdT2UI11YtUMM4Hef+uop6XTvB487/YdKwSfhw5DJk9R6Lvu5COw2NYWwsWKChQZ7uCCapjI41f+mHsVNjjF69FRMtl6JXjzk4l3UfyakyGDp5o6rW+cEaGTBzyB0LjODm5QkLhXIs0LGlZ7GzlBNYNH8HbueOg4JfrP/RSLTK2Y3PJ6zAPwr9dK24PjveyBxmpuXhmd8po6yDjSDPdKQ/ZBH2eRtJ957fb+s1Zp17Tdbaibx08vRO5C1EcH6XYhM0i4SNULFXONqansavK/8CsrNV5QZKr18QA2NIJIDUVCKERNnIys71rmaoM3AWZg0PQdncsVKhgELIv62FgN9ICOLrNgiCyb0onInTjmrGFhYwFW5jLBFcVJH3NYRbtxHo7yOFTGdgNBSCQhPhJ3KhUJ6SgDvpBrC2tSvg9BxRzt4ATPsPDwodx6TwqOiC9KMbsVUZuDyVbKi+01hooGogtEUQkKEbuo3oDx+pTAhrczEUBgYT4Qy5UH8pTCXCr7OzoBVhHQycNQvDQ8pqHLxShArQ0Br2diawtbeFRPitPO+CElQPm4pZo9ugfJ41C9dWGMDGTpC5WzeM6O8DaX5hwVQtLJ16FQ+pR0W4pB/Fxq3Xkf4gHXJh0LEwK+hOjGBvLwx4FOojE9pYhLyMbO1hK4hNrm0cJNXDMHXWaLTRNk6otgIGNnawU17oiTocBe+P12LHtDYop1utrLOIvgy4NWkGH1kmsgQ9kOvuyiExEfrHDGbCAKrGEBKpmTCgSvJ0SXY5AlFp/ujaNQCK9AdIlwuJgYXZY87UyN5eSEqY//r5KI6+SeFfoyqMU//CCc0aPaHxSL55S71eysgLH6/dgWltdNYHCGSdjcZluKFJMx899DETmWqBaOSpRAITwbbMzITER1NiKJEK8pFCaa4qZJcREZUG/65d1X8/za8UgWER+pqRqVxpqNQnzTEBiYlw3EzoI20FIRXqK9VWEJcjopDm3xVdA4yLvEemWlFVAW9BDIwlgkSK9kFC9Jxnv1oMITVRylpNysYpmLy3LLoPaAhlfmJccxz2nT+MNRuO4e+1/eEpXMDIuwe6BBIXVy3D/kdCMp8uF+I7CzxuavawFzJgCvUvEmYI/Sz8V9nPhfhBQ0PhxkXqyiM8yhCcllH+dspT/0OacM2srAKLbgxt4CD4L6Xjenk2o64jhboo1VqLgRC02wr/K1MON3kY2lijjNDpEhMJbFr/KCSPSzGohivqjheC6J/aaAJ/e7y7OApnf30PrgUrrweKlEuITdC0TfmAKbwtTE//ipVRFrBXOz+tvCXVETZ1Fka3Ka+Vk9BnCgMb2Cmd3zPbWTYivhmEjzde1bFzAak7KroI6cnZ0zibqZ+uFddnl/X+GGt3TEOb/E4ZZ9VOGc18irZPeebz+u1qeo5ZhRiHyFtBQa0QeWt4hEPjm6LD9+e1jtjYDrbWQqojOB5DR194OwK34+Kg2kROg+K/VDwwcIGbmwnsGzSEv8FNnIvO3cXGGL6dR2H0u0F5TwuzY2JwBd5o18FP5aDsGgTDDzE4cVz7RfOslBSkGZRDcJPqMC3yvoLjrNANC48sRjfVVkoahAEtV5mNHFzgaKFAQuwFJOfeRInsH9y6I9TBtxrcJWVgaWGAnOwc1TJpNXI8fCjc1dhCdeypGDrCV11RxOWvKFIfGMDFzU34wxAVui3EkcXd1Ls+aTAw0NTU0B4NGvrD4OY5RKdqKmrsi86jRuPdoDwJIibmCuDdDh38jGHdsAkCTe7h8qVc+RmhUpvhGN0vGLkPRWVxsYjLckXL9rUhNayAbguPYHF+YSG3CkVjiDKWFjDIyUaOzjghf/hQ6B9jWFhawsm7MuyZiLhrGZqjuciQkHAXtA5EvRpuRcvLuiGaBJrg3uVLef1mVKkNho/uh2Bt4xAblwXXlu1RW/p0HYaxKxq0qQtH4adp1//CsSN/YvnY8dhefhKWfdkEZZwDUaOCAe6ej8I/mgsYVRqDAw9SsKan6n2mgCk6LU9EWsQUCDE1kP4X5n91ArUWrMLEWiaqJ7yV7YnEuGt4rPUJCbhLawTWqy6I8Tn1Tehn32HfYXKTVCzs1Q5Dxk/EqL6t0P2H88jRnGHs2gBt6joKPZaG638dw5E/l2Ps+O0oP2kZvmyibE9R+uiMwBoVYHD3PKK0AsGYAw+Qsqan+g2vgGmn5UhMi8AUtUDw1/yvcKLWAqyaWEv4u4g+KYqn6qshytasgQoGd3E+6h/N9QX9H3MAD1LWQNtlnbA8MQ0RUwJUPif9r/n46kQtLFg1EUKXFXkPBx9vOOI24vIrKv5LfQADFzcILqhIH2RcvjycDTPx6JFucJUhXPMWWNYX1dwysG/Tn0gy9YKfl7KWagwtHOHuapv3pgtG5VHdtxxwLxIR1xzgXdkeTIzD46aWgIS7hHVgPU3BUzB2h4+XFRQ3LuOy7nX4SEg8haTBUbifHrpS3d8ZuHkWZ3WcrIlHFXiYynHl9Ekk6fpe+W3cTMyCiW+Nl2czyjfrVcoKPicSZ/Lt2qbArUTBL5l5wV9H9rKr1/CPwha1g6sJfxmhbI1OGDRiOAa0qwbb3I4V5GJdoSqqVlC+4Sgmyo/+Nu2A789r62JsZwtrg2xkZlqjYZNAmNy7jEta54c2w0ejX3BZzb1kiIuNQ5ZrS7SvLX8OO1MgUfDLObficT3XeShRZKkejBha2cLWWJCdPrpWbJ9tDNcGbVBX7ZTx17Ej+HP5WIzfXh6Tln0JtZt6+phl+Nx+21S/Mau6VFMm8jainlQnUqoosl/lCZzXzJQ27Zcwd/r1gyOfsJqFZq0Psxg5rS4trZty9vncefIp3PWBF8vUmsoo5cRc+R2u7+NG60azGVvoxOYH3DPMi+5tx3HauAlcofywa9ZB1Tx2l/AdmnnTWTwxzocmlUbwgGrevR73LYy0FewoVX8MUHn+5gEVaGxSlUO25q7FkfHm6p4sb9OAM6OE68pvcXE7G5rXmcII5QJbJQ9PclINKW3bLaJq/ngRZEVOY11LazadfV6zHki4864P6FWmFqc+saLKqnakVBLMr6/IBBGuZx83azaaHVv43PAHezjMy51tx03juAkrhHon8Y9wD5XMLxb6gwyenBDACl1WML7Q40rSuKKjVM+Ptsp5a3E72pjX4RStoHhyUg1KbdtxkVJQGSc4KcCMDsI9ddeJMyeaU+s4MPirv1V9XbS85Ez6I5we1o04u/DGMePkBAZU6MIVysYVqcO55PD8shEM696B9T092WjUGsaoDst4aV5L2kk82G+Dznz2pyHLyT8nXZD3iUkBNHMQ6pS/8YyeWocOwV/xb2XjS0Df1Dzk9ZPbuW7VWm47eYMpeZsvaObzK8k5z2Ujwti9Q316ejbiqDUxeWttCkNXH2WX5rGlnYQe/TborC15GjLm6ApE7z4pDjr6mnWJ81raUeLRjxv0q6DQZU+2RS0693gUyWl1LWnddDa1LmgXP/Aqw1pTowr0vw66PignilNrl6HnwC3qjUYEsi7+wOa25qz52Ulmyq5xTkMJDXM3c3gi6vVAxsZeHHMsSzC1SQwwc2CXFbl+TU1O9FTWcQjmVyplK5r0w2Ppb2bLFj9e1NiiYHvbh7CyRSAnn3myvHR1JSd6FhtYSun38QGd9UTJgn+qSImJD4fvupdXx/v7P6KvuQfDtyjXbb08m8k8PZlB5sas2Hd9nj7Lk3fyfS9zen24W2eN5X3uHupF2wYzGZnb5/qQvopdLfKvg3oS8oR5bGZqw/ZLbmnk8oBHPqlGi6qjqTQNedIfDPdQjgVPuFbGSU4IqCD0fTxlz2Vnct5Z+y6djcux3c+X8nxxmvB7f4kFa395RlWmn64V02frkHN+GUeEdWeH+p70bDSKa9RO+Qnojlkl4Lf1HLOKQoyfSydiYlRKKbpfBee4fQxr21vSs2kYw/u1ob+bP8MWRgmhl4aca1z3YR06OddkpwGD2belD8v79eHiczojeepRTg3xZrM5UXkOVo2cCZsGMci/E8fOW8s9J2KYqPpZGteH2dOk1jReUPpJWQyn17Vhw290EoOi7psaxc07C+waowpKTNj4u3jVn/KU45zT1YtWFm6s/84ADuxaj5W9WvDzXVonnxW7nH18bFguoCPfC+/NVr7OdA+ZwO16BlxCRXlt3Yes4+TMmp0GcHDflvQp78c+i88JQ7+a1KjN3FlgobAquDBpzO80K0dTj05liHczzlEmbLoIg9+mQUH07zSW89bu4YmYRHX5g1P8prUPm04/XSDgFQapvWMZ2mIyDybntiGVUZt3qnd5ykM9yJg0/i5v8epTyYrl8j4+tCkXwI7vhbN3K186u4dwwnbtoJR5cRU/qBfALvM1uwvKU3h4Wnd2/XyXzsBTtLyUwcKpb1rTp+l0ni4wTsqT9nJsaAtOPpisuW9ROpzBmxfjhdZqkSfv4lAvE7r2XK0OlOSJ3PZxEG2s/NjvlzNM0UceBcm8yFUf1GNAl/mqXdqU9Uo5PI3du36eb0ex59c34VaJt3R2slIvOs5LjDJu8mJ8vtYyeddQepm4sufqBFVJ0fooZ+K2jxlkY0W/fr/wTLEFoodfeSpF66s8cRs/DrKhlV8//nLmWb7UX/Q9cq6t44d1nOhcsxMHDO7Llj7l6ddnMfNcnx4+KP3cIvb2c2HlkF4MH9iFtVzKsvqAFVRt/CW/wwUtpDQwacZ5+SKzgmRy15DyNJLU5lcqh5nJi6s+YL2ALpyvVjbB1A5zWveu+Xxb0WQwZkU4a5RzZmDH9xjeK4ReLr4M+yV3d1B9dCWHV359l5XMyrHxhK2Mz40kH5zh/DB/2pZxY4Nu4RwU1oxVPYIYvjRaqwMvzWayGLduBOs7WdK1blcODA9jMx9P1hnyG2Ny+1J+j8dmd2W9Vp9xZ2L+4L1IipEYKft8+5jatLf0ZNOwcPZr4083/zAujNJaxoNT37C1T1NOf9z5ce/YULaYfJBq1/6cdiZc79BXbehuWY41OvbnIOXvXT3YbNwWXs/rcn11rTg+W+mmLjK/m0rmLiEpNXHtydWqftVjzCoBv63fmPV0xPi5dCImRqUUfftVnnadEfu2c9uuY7yUkn8QVCNn2vUI7tuxg/tOX2NqYd4/8yZjr2q2VdMh/Xosrz3mpeW8vbAVLay68H/3haE1+gvWrhzObY/tdvqE+wqDy5qerqw+8XT+oCTpF7aSmrH9Mt0Lyfgg/gz379jGXUdjeK+wJ4E5ybx0fDe3bdvN47H3CiR3+qGW4Q7u2Hea13QEJL+zhj1dq3Pi6fxyTfqlFaVm7alb1cybsXxchOm8Hnut8IEuJ5EXrz4eFGYlXNEZdITBc01PulafyPxVSOIvraQ0a79M50lvUeQw+dJx7t62jbuPxxYuS6Gmt6LO8ZbyWGYi428VGCU1PEleWnKYePHq44NdVgKv5BtR1RSuw3JeX9KBLiFzCzxZzuLhUVVobNqc8/NGvweM/m0Em7ha0aV+OL/ZcuGZBtqHt6J4Tt14JsbfKpC0angOfUs7OYOhNYdyl86jzLzEaO8lLungwpC51/PrRNZhjqpiTNPm84uljw+if+OIJq60cqnP8G+28EIxBVK0XymMYujrg2j+NqIJXa1cWD/8G265oG+CVIx7yNN4PWIfd+zYx9PXUrWBb3F8kOwB40/v4/bte3ji6n2d4DmLJ8ZWpbGhPbuvSdaUFYL8Br9vakIj3Z3slDy8xahzt1T6k5kYzyeYWpHIH8TztNBP2/eeYtwz+S4ZE/ZMY8fKlrSp2pmTVkdpbEfOhzcjeXDnNu48dJYJT6jfi7aZPDISGX1oJ7ftPMSzBSqTkxjN4+duCzUoSAqPft2FDQet470nKVfar+xkZsKGc64VnRip0Ixr24Ux6dglFmYaOYkXefVx58eEK/kf8ih5NjvTknUvhkd3beO2vSd55Um/10vX9PPZ8utL2MElhHMLvO7LOjyKVYxN2Xz+rWKMWSXht/Ubs56EGD/ry0PevX6NN5Met7LXETExKqW8zv0qi5nOOmY+HHfiIU+Mr8MW3xfjuxSZOznY1YT+BYKSnL8/Y3VpFY46/EzD5gshc+dgupr4Fwgucvj3Z9UprTKKL76qmaptZ038CwwyOX/zs+pSVhl1+NmCjDcC5RbSdpQ2mK35NkYuyu2dPYXEqAV/Vn2MRYfUs1w1sRtruVjQxqsFh3y9kWeT9NbMF8w9LutgSUnNyfmmk2buG86KSh07sp597KRsMFv5fSYdlNttewqJUYufn0EfU3l21UR2q+VCCxsvthjyNTeeTdLfVotN8fU19ewqTuxWiy4WNvRqMYRfbzzLp3dZCdhECfmgnOivBD9oyDINv6ZylnFhqLdGltB33PFCAvcXR3F1RZ50mktHtaaXjZTlgnrxi7WRRfTD64/s2rdsLDVh07k3nph0Z50cT1+JMwdsLV5A/bai3DbfTtqAs/M7ZfUDHiExavGzeqv0YtnnK/TbYvysJ+nr2cvGmJ4jDrxUP/asFHv9oIjI82JUqQkaVkjE5XN7sPqv+pgwqDIe38HpCRhXhrenEa4e3I8reatO5biyay+uOoagVWDesuVXjnFlb3gaXcXB/Ve0C2TlV7Br71U4hrTCi6+qMSp7e8Lo6kHs1wpLqMIu7L3qiJBWgdpF3qUOY5Sv4ALFhUM4cFdnFXj6SWz+8x+YN+iAFg667i8bx+Z+gu/2xCPb2glmdw5i8fhuqOnhjWZDZmNLzH95m4W8EhQK5OTIoLiXiMS8zZjkSIy+gH+dG6BJdXdUcFHgwqEDyN/czfjzH3M06NCi2PqYfWwuPvluD+KzreFkdgcHF49Ht5oe8G42BLO3xOC/EhdIMfU1+xjmfvId9sRnw9rJDHcOLsb4bjXh4d0MQ2ZvQUyhFSwBmyghH2RcbRR+nFAPxiemY+Dkg0gpWF15PFaNm43TFYfh+wn18TKXghdLV+TXsXjkUPx85DYkZR2Qde7/8GWvWqjk2xojfvwTcQ81571hGCh33DOQI+bQPtzSqoqWzAv45YvluFEtHO83z130L/I0jMtXgIviAg4duKvjT9NxcvOf+Me8ATq0cCqmfb7mflvkjUWTI5Ve5PcvMUb1rvTt4fXu13Ru6e/CCgGN2G9xgak/enB//wQG2dgwcPBC7j4dwf3LR7Ceowd7rbz+Ap9mPwv3uX9CEG1sAjl44W6ejtjP5SPq0dGjF1def0k1vb+fE4JsaBM4mAt3n2bE/uUcUc+RHr1W8mVV4VUhT9zCoX6WLNdoNFfsi+CZQ2s5pZ07bbz68NdLRfgDWRpvRu7k8mlD2SHQiaYSJ4bOPPnYVJaXh5z3tn5Ab3Mb1hu1ikf+juDeZR+xQQV/DtmkXOslZ+KWofSzLMdGo1dwX8QZHlo7he3cbejV51eqm/s8+ihj2s1I7lw+jUM7BNLJVEKn0Jk8WdICeQ59laXdZOTO5Zw2tAMDnUwpcQrlzMIqWAI2UWI+SJ7Mo990ZuUyFqzcdgznbzzAU3+f5sGNP3Fks0p0bzyOW2++CkN9Dl3JSmLswVX8+sOODChnQhPXZpxx7PGp1q898iTumVCXdkamdAsdxtkrd/LY32cZdfogNy+azHdrlqNz/ZFcH/d2xRbPhTyRW4b60bJcI45esY8RZw5x7ZR2dLfxYp9fNRtBPI99vmS/XerjZ/l9XopRT6N8Lt6wN0bK/S6V/1UmSKWUFGwZUAM99/rjy7UrMbaBzkfDSjHK7wC9zv16f8cUDFlnh7ELP0Id3W+96Ula7BYsWrIFp288hNTJD6G9h6BvfWf93zy9NNIQu2URlmw5jRsPpXDyC0XvIX1R3/kl1jQtFlsWLcGW0zfwUOoEv9DeGNK3Pl5mFV4VitTz2LxkGbZG3ECasQO86nVAv/7tUfVJ3+4slGzcObUWP867guCfp6H9kz6K+cJRIPnMGiz8bTeibj2CeYUgtA//AO9Uz906WIHU85uxZNlWRNxIg7GDF+p16If+7avmbZ9fUvqYfecU1v44D1eCf8a0khZISehr9h2cWvsj5l0Jxs/T2qu+E5SPErhHSfqgrJvHsGHdHzgcfR3JGUawcvZCnVY98G4bX9UHel8NJaArj27i8JoFWHytPuZN74QCnwB+A5DhXtQ2bNx6BFFXbiHpYQ5gUgZl3XxQu1kXvNOi6ivsnzcURSrOb16CZVsjcCPNGA5e9dChX3+013XKJTJmvXi//frFWf/h7LoF+HXHaURf+QcpmRLYVa6LzkPH4YOmLqrPFxSHlC0DUKPnXvh/uRYrxzbQ+dhzMXm0AWGuYfhrwB7s6XwOs7/fiFP/5MCpbl98OnUw6j7zhV8Mb0FiJNjhvUOY3jsM007Zoe/8dfipr0/eNzlKK697YiQiIiIiIiIi8qby2sVZsrOYGtoFm6WBqObpCnuTFERu+x2H71bGuD2nMLNBMZ9CK+7h0PTeCJt2CnZ952PdT33h8yzBsyox6oWjvsGQno2FZcsuaGB9CVtWH0Vm60U4/ftAVHyWJ0oviLciMVKRFYd1H3fHkCUJqDFuJdZ82aJUPzEXEyMRERERERERkRfD6xhnKddU6b5/kV/9FiHVJuDusIO49G0DTWlxyELcuo/RfcgSJNQYh5VrvkSL4gbPqsSoB9Y+qoSwZTuxtHdlSJGJk+NrodFcKT776xSmVCvu+6wXx9vzElhaCT0WHMCeOQ1w89uOaPTuAkSmaY6JiIiIiIiIiIiIvMHkS4pkMsidvFDZFnj433+a0uIiRaUeC3Bgzxw0uPktOjZ6FwueKXg2gnPYt/hZlRQpMUXN1k1RgRcR+Xe6quR14e1JjFRYo/bI1VgzxgcJG0eh9+SDeEM3zBERERERERERERHRkIW4zZPRo35lOJhLIDGRQGrZEctvK/C877Wsa4/E6jVj4JOwEaN6T8bBZwieTS2t8u0qaFS2HOwMZHiQ+kBT8nrwdiVGimQcndUV3WZfQ9Uh/8Mfs5o+vihXRERERERERERE5A0i88in6NBzFiLKvYd520/g7LnzOB+5CN3KPW+or0Dy0Vno2m02rlUdgv/9MQtNSyB4Vjx8iHQao4x1sXZDeuG8PYlR+nks698Irb+IRdCsP3FgQU9UfpkfhhAREREREREREREpcWQ4v2s3rrI2hn47Ce+G1EI1Pz/4VbCA9mNkz0I6zi/rj0atv0Bs0Cz8eWABepZI8CzHP8dO4rqhH+rUfr1eUbwViZHs5h/4pHlTfLDDBkM3HMaGj+uKW2yKiIiIiIiIiIiUAgxga2sNA8VVHN72N24n/4O/fp+Ono2HY3PqM06kk93EH580R9MPdsBm6AYc3vAx6j5H8Jz57z+4k6n8VzZuH5mD4XNOwrbjSAzweX02XlDyFqQHKdg5dRQWp7TEggN7MLt9hWLv5S4iIiIiIiIiIiLyemIEj34TMSwgG7tG14GLgxtq916M1He+wce1ni3qTdk5FaMWp6ClcuOy2e1R4VmDZ6NyqOTtgPvr3oOntTXsbKxQPmQGbjSYiQ2/hMH1NctE3o7tuh/dwe3McnB+zT4i9SIRt+sWEREREREREXkxvJZxliwFl05H4GqaBTxq1oFvOd3tDorLI9y5nYlyznYl8BZFjrSbMbhwLQEpmaZw9qmFAPcyr+XbmbfnO0ZvGUUZ7KO4/dh8Ih1+bdohwL4EVVORhdR7SciQOsDRVqqH0svxb9wVyJ2rwumN++quApkpycgsUxY2Kt8jQ9q/KYBtOVi+wteSiqxU3EvKgNTBEbZSPfr2URz2bz6BdL82aBdg/0ocVfZ/9/CfkT3KltH9PoIM2TJjmBRTlsVu/wtA/m8crsidUfV5lPpF9UuxbbSE2vOG86JlUJI28ObxCHH7N+NEuh/atAtAsYckeTayYQKTF/FtQvm/iLsih3NVpzfzw/CvgX8vrYgPoEsnoo28pZjbS3Hhh3dRv+kkHFXN+XxOFPdwcFY31HSvggade6FbaDX4NHwfv154+sUVaTFYNqg23PyGY2+WpvBNQPEP1g8OgFf9NmhaqyW+OvIXfuleG8FtmsGvYi28v/ba8613fAYU9w5iVreacK/SAJ17dUNoNR80fP9XFNEFSmWA9MIPeLd+U0wqEWUoHo8OjUet8t6o26gWAmqHonOfQRjU/x2EVG+JmedkmrOK5pnbX9Io0hCzbBBqu/lh+PModUn3yzPaaIm1503mBcugpGzgzcUc9tIL+OHd+mg66SiKq+0pa0djxP/9I6SRJY0CaTHLMKi2G/yG78Ubqf2v2L+LiLyJKN8YiZQyiu5XGeNmN6BEEsyvr8g0Zc9O8oY+dJZU5cj99zUl6TwzpQ6tq43n8UxNUS7yVMZu/5FjugfTq6I367UfxK82X2KG5vCbgPzOz2xpFcIfb8mZc2EGQ7y92OTjA3woyDX+h1CWse/K/92Va85+GSRzQx9nSqqOpLYLznBKHWtWG3+cBbugILK42WwgkTD46ytCC14mWTw53pcmniN4MIt8ELOJM4d0ZON6Tdl79hEm6S3C52v/8yNnaux2/jimO4O9KtK7XnsO+mozLz2nUpdkvxTLRl9Qe94sXpYMSsoG3nBkcZzdQEJJ8Ncs7pCUeeY7dvAqRyevYHYYMI7fbjjLlOeQmzw1ltt/HMPuwV6s6F2P7Qd9xc1vsPKXmB+RP+CtC2cZe/utcgRPRIyfSyfiG6O3FiOUK6t8ra6A4rlfbWQj5sxl2LT5AOGNbDRl5qjWNhTlL2/Cxr+yNWVA1tUNGB0ahM4/XoPnwKU4efUiTmxdjE87ecFUc86bgKFNAOr6EP+lEsZezdHIJhNu9WvDQvl152o+KPsgEqcu5GjOfglkx+DMZRu0+SBcqIumzLwa2oaWx+VNG6HTBYViVK6savqK4vmVoZgQKUmpoNRM1f+WPp0x4ZctOHTiAFZ+0lD/KTXP2f7nIusqNowORVDnH3HNcyCWnryKiye2YvGnneD1nEpdcv2iv42+yPa8MbxUGZSQDbzpGJVDWbWyF/ttuzToY/xx6Sai1n+Ojo7n8FNYfTT99Fix3zwpP5B5dcNohAZ1xo/XPDFw6UlcvXgCWxd/ik5vsPKXiB+Rncf3bWqhzYhP0KtOXUw49pa+PRYp9bwtLlekEAwNlUvMdMi8iHWffoQZexOFdKk4mKDhzFOI2fIRquvMhTc0lUKqSMLdu+qrya+vRP/Wn+BSp7U4tWsuhrWuCtunzglX4PaeGRj66UbceNnxelFI62Pq/rUY5CrI0Lg2vjx5A791t1AdMjAyEgwrB9kvIhhX3MaeGUPx6cYb+YMHk4aYeSoGWz6qrrProiFMpVIoku5C0wXCz/dgxtBPsbGgQA0NVQsOtWTi4rpP8dGMvUgsnjI8gSf1JZEjL4EJMHq2v8SRX8fK/q3xyaVOWHtqF+YOa42qT1fq4lFi/aKfjRa/Pa+xjT6NJ9mRkhfdp49RQjbwVN6EfjLE40PSOnz60Qzs1UvZpXCs3hqDvvoWg2vk4NKZs0gtlo3IcX1lf7T+5BI6rT2FXXOHoXVVW7zInn9plIQfyYrF6SuB+GzzVnzT3gi3774NUzxF3kbExEgkj+TVYzFkvSEaNXbJrxjZ17Fz1gA0C/SFr08VuLl5I7jn59h48ZHmBAFFCk4uGIxQX09U9gtCveb9MGtfArKEQV+hdLyKBKwcPRrrEx8h+ofuCPQOxuCVl/Eo/neMbVsbfpVc4RbYHTMP3tMmZUKAsurL6ThlXAmuj41Oj3Bxw6d4p54vvL294enuicD2o/BrVJrmuBLB+f/fGLSt4S2cUxXB4SsQk5mJc4v7obZXZXj5NMbwdfGQ/ReJRYNCEeRfGW6VaqPHjH24o6mE4t+j+CE8FDV8feBd0R1eDfpizmFNHc0d4WSTg6ubPke3en7CPSqjolc9hP0cCd1aKJ/WX985CwOaBcJXuE4VNzd4B/fE5xsvCq0oHvLrq/Dl9FMwFuRVUCSKlJNYMDgUvp6V4RdUD837zcK+hCwh7lJoZCoM/Ku+xPRTxqj0uEDzk7waY4esh2GjxnDRUQbFv8exYFgb1KomtNfdGeX9W2LY4lO4dGQhPu5cF35Vq6C8SyUE9/4a+2/rRGBP60vlhATZHRz8ph+a1wuEjyBnn9BBmH8iRasLelB0+4voT+Xx+yfxU/9geFX0RKWqTTBifTzSY/6Hoc1qoqpHeVRuGI6FZ/7LPRsJK0dj9PpEPIr+Ad0DBbsYvBKXH8Xj97FtUdtPaKtbILrPPIh7eQ1R4N+jPyA8tIZgS96o6O6FBn3n4LD2hKfzhH4pERt9lva8BjYqdCqO/hCO0Bq+8PGuCHevBug757COzB/nyXb0LH2an+z4Lfhy1HxEqB6o/4fj33RGNQ83uHu3xNQtmzC5lR8qVXJHhSqNMOTXGPW6FT1t4L/IFRjVvjb8fb2Fa1RHi+FL8FdqKqLXfIaeTWshwMcD5d2roeX7P+GYbgWf2k+FoY/PEnT52A/4YNgiXNDEyNlHR8Pb3AujDiufCilw/+RP6B/shYqelVC1yQisj09HzP+GolnNqvAoXxkNwxciz5weIxmrxw7BesNGaJxP2Z+GHMkn1mBHXAX0CO+AvA/+62EfioSVGD16PRIfReOH7oFCewdj5eVHiP99LNrWFvrM1Q2B3WfiYJ5c9dHvou098+L/YUzbGqprVA0Ox4qYTGSeW4x+tb1Q2csHjYevQ7zsP0QuGoTQIH9UdquE2j1mYF+eASibtxOzBjRDoK9gA1Xc4CaMrz0/3whd88/Hk/zI07DoiCnTbLFuaDhmn/NHgOQibhf2Sk5xHyd/6o9gr4rwrFQVTUasR3x6DP43tBlqVhX0s3JDhC88I1iGllciAxGRp6CZVSdSmtCnX9N/60SppB5nXlTPOs45N4dNXUP4ne4E74xozmvnSocGE7jzpnohQlbCPk4JKUuJYxsuiM0RSmS8OK8l7S0C+cm+u1RO7Zbfj+b/htSkpZEtwzZkUBYzg3VNDCj1G8HdSXLmxC9iR+/O7N+lFsM336FcnshNA6tQYteK86/m3l/OhK1jGOzux57fH+XdvGrJeG15F7paB3HM7kQqa8C081za04OSch24OE55opy3N/anh3lVDtt5j3LZLa4N82boxElsW3ck9yjrELeQHQIGcvL7tdj6u2imC1e6sbIHXSVl2XNNEvnwGD+r5cCAkbt4W3lJ2W3uGO5LqWMPrr6jaiVvrnqXbsp67LmjmrstS47goj4+NDcuzyG7lPLKYPS8dnR1aMAJO2+q17pkJXDflBCWlTiyzYJYdf31RZ7ArWOC6e7Xk98fvaudLy67yHkt7WkR+An3qdY2yXk/+n8cUtOSRrZhFLpAhTxhK8cEu9Ov5/c8qhWoUhnYSSphvZkX1dfMOcc5TV0Z8p3OnPSUffykhg0r91nJK8rryZN5YlZzljUyoknFtpy+67qqfekxS/hOBWOa15zIIw9VvxR4Ul9mcMt75Whk7st+i88wWVmec5u7P65JC9sQfnteT+no0/6i+lN2iQtal6VNw2mMSJMz49zXDPHqwrCWdTnqQArlOdf4azdXSlx6cnWi8vwYzqhrQgOpH0fsThKOx3NRR2927t+FtcI3845czsRNA1lFYsdW86+q5Pjw2Ges5RDAkbtuq/Xl9g4O95XSscdq4XyhoCD69EsJ2eiztOfJ/fqSbJQPeeyzWnQIGMld6k7l7R3D6St1ZI/Vgl9R3rcwnmhHzyIDHWSxnN3Ikk79Ngs1E/68+A0b2dbnjAtZTN4ygBUEWyn/3iYmyzN4elIAJbbduea+fjaQdvwLBtu58Z0lsYIchCakXeT6kXXo4V6BZasP5ebrWcpSppyey/auxiwT9CmPpql+KvCkfioM/XxWVtRMNrStwg/3K2ujJvPACHpKPISyTMGcFrB1WRs2nBbBNKG9574OoVeXMLasO4oHUoS+vfYru7lK6NJzNZXmpFzz9lsnKSX1ZlI9JOXw3JymdA35To81R8K537anj0c5WphX5rvLYrTrCvW0j5gZdWliIKXfiN1MkucwflFHenfuzy61wrlZME554iYOrCKhXav5vCrTR7+Ltnf57Y3s72HOqsN28p5cxltrw+gdOpGT2tblyD1K/Yvjwg4BHDj5fdZq/R2jBVHn3FjJHoLcyvZco7pHRvQ8tnN1YIMJO6luXhYT9k1hSFkJHdssoKp5+viRInnAY9O6sO/MORwQ2pdfftmTNX1acfKuRB07k/HSgtYsa9OQ0yLSKM84x69DvNglrCXrjjrAFEGu137tJtivC3uuVv/upcngBSDGz6UTMTEqpTxLYqR0avFLOtGn7XyNI5Ex7qfmtDIJ4hfR+T2LLO57hlgY0bHPRsEHHeMYLwktOy6nMlTJJefsFAZK1EFX8tJ2NDMwZ8ufc51oMpd2sKOV1wfcrRnBZLHTWVciYY3JkeqBRkPO7UP8toc/K4VM5I4Eoa450fwiyISOfTcxb9wXUC4wbSj8vt6Mi8I5UZxcU0Jp07mM13ht5aDt5+zKll9f0gwGSVzUrgJdqoXzj9yxPeN39rGXsOKwfUxa0YnWps04L0Hr9nMiP2eAxIpdV6Xmtduh1zoKf+WRdWgkK0nUiZEs7ic2tzJh0BfR+dokHOD3IRY0cuzDjbo/1osc3j70LXv4V2LIxB1UiiTr2Bh6SSzZcXm+HuDZKYFC8KVNjFQIQdehb3vQv1IIJ+5IUMui4MApIItfwk4+bTlfEzhcmF6XphYtuOCWVh6UXeGcRmY0chnAP3SCsJsLW9PK0Irtl97RlKl5rC81iZHEZxxPKuO6XJJWsJOVMcsP2aUpeDr6tL+o/sw6qAzq7Nlr3QP1QXk8v21iRcugiTylqVtOxCT6S6Rs/O01IQleynZmBjRv+bMmsBO0emkH2ll58QOtUnN6XQklNSYzMieJKzpZ07TZPGqrkMPIz4UA2aorlSr1GHr0S0nZqFD5YrZHXaTkVdmoSk+sTdlsXoI2OMuJ5OcBElp1XZXPLh/ncTt6HhmoyNzJwULApqxbprJvJ9egdcj3vCZcW544j81MTNhk7nVVXdNXdaG5pD5nXXpYtA0I9/ymoTnNmnxHTcytIifiU1YzKcew9bkbaiiR89aidrQW7K/d4kRNmZrH7e9x9PNZmdw3vCIlDn25Sce3aBOjBzw4wpMS+17UmtO3bGJlyaCJp4SwVUkOIyb5UyJtzG+VAnosMRKQxXNJJx+2na/vAyQZ7x2fzlBHV7b5PlLwLnrah3I8amdGA/OW/Fnb8exgZ0WvD3ZrkiwZYwUfKJHU4OSIv4vWb0F3n27vOYyaXFNof1PO1RoAR/g507Xl17ykkUGS0JcVXKoxXGsA/L2PPSUVhylvyJ+aW9Ek6Avmb57Q7u9DaGHkyD7KAaZIP/IkUhm5YgInLDvHh8nL2dH1Xa5LT+eGME/23pDGeCE5dLaqwbH7UtSnZx3kCE8J7YUxUd3tcsZ/24RWlkGcqHWinOQv2H3jbwW7eIkyeAGI8XPpRN+XqCJvBUao2Gswgs9+imHzLwt/p2D/jmN45NYQod75P6Rh5N4OrQMMkXzqKBTJkYi6TrhU8YKl5nh+5LifnAqZoRO8q+Z+KMwcttZAhpkDHDRTO4zcvOBpocCNq9fybbtq7NQYo1dvxUTLpejVYw7OyU1gbmaK8p6V8m3YYFTWATbCxdPTHwp1Oo4TMQo4+wXAWaPlxk7OKJOUDDOn3OkzZrC1SsO/cIJL7jfQDEwhlRqgjLUF0lLuI9PCBa46HwY2dHGBo0EG7t1OgfyfozgRD1T08UUZzfGCpOzfgWOP3NAw1Ftn7YuAkTvatQ6AYfIpHD1X3MVIxnBqPBqrt06E5dJe6DHnLO5GRuE6XVDFq/AeyIexExqPXo2tEy2xtFcPzHnCdsBGFXthcPBZfDpsPi7nJOPI4bOQufqjWlkdt2HkgdYt/GB47ySOXshthyFcW7VADeN0nPvrgqZMzWN9+aRp6pbe8HYF7p6L0hQ8DQWSi2y/ooj+TMKdyHO4hQqoUsVMc9AedlZZyDSzy9NRYx8fVJHIVDqadT8ZqTJDOHlXRe4lzdVKDQetUsPL0wKKG1dxLTsNKfczYeHimne+UlYuLo4wyLiH2yn6Lf7I1y/ykrJRwUqL2x6dvns1NmoJRVoK7mdawMVV5wOEhi5wcTRAxr3beLpIC9rRueL3aUH9ldZD104euPN/kzBs0ocYuSwLvcf2hbvwU0NjYxgbCP81yK2pgfB/FCIrzZ8F0bEBRfIh7DuTDbdadVFeUw2lX722dx8usgpq1NTtVUM4t2uNIMH+Ik/mtx997E8/n5WBpH/vQ2GgbEMhKO4g8twtoEIVaM3JDlZZmTCzc9D0rTF8fKpAIruBq48JUoNRRfQaHIyznw7D/MuFdKYiBScWzceO27lTqoxQtv5HGNkqB7s/n4AV/yTpZR+C8iM5VQZDJ29U1XY8rJEBM4fc+hrBzcsTFgqhvvFGReq3cov3p9p70j0cPxEDhbMfArQGAOcySUg2c8qb8mhma4W0fwEnrQGo1k4alBH0MmU/dhx7BLeGocjfPCO4CzoQYJiMU0fPacryk9+PaArzIcflX8LQbtYjtOruDwurADSochKfNW+Gz8/WRvOaZqjY9yuM8L2IH0bOwoksZbdHQt3tVQTLVWIIezsrZGWawU7rROFTRQKZyicmv1IZiIgURp65ioiokHqgoks6jm7cKni5dDxIlwtxiAXMCmqKkT3shRGAykXD2dmqREb5sbPHMDCGRGIEW3tbSARHK89zwBJUD5uKWaPboHzeteWQKQxgY2enGmwVKZcQm6AZMJUDZHhbmJ7+FSujPPDx2h2Y1qZcPgXOOhuNy3BDk2Y+QGYmsoSAQy7TGXAlJjAzNYOZEFSpMYREaiYEWZK8AEB2OQJRaf7o2rUm3LqNQH8fKWQ6g4ahMBiaCD+XC4XMEO4hlCnv8XhsYwhDIwXSH6RDLgRyFo8LEPb2NjCk0GbZkyKjgiiQcikWWpH0QnhbU5z+dRX+eqTqAaEP1Md0MTCWCNIWEIKIS7EJmqRTmQSHo63pafy68i9VyeNI4VHRBelHN2LrzTQ8ylCAWVkquWoxEAJGW+F/Zfk2mzC0sUYZoTISE9Wdn9yXf2XD2Fgz+uliKIWJUtB6kp1dVPsNi+xPqalEuEI2srJzgywz1Bk4C7OGh6BsbhUVCihoCGshyDOxtYet0Dy5VqkhqR6GqbNGo41WqYVrK2BgYwc7IaDuNqI/fKQyQdNzMRR00kS4r6AHOvV6Ojr9cv1BCdmocHpx2yNc6tXaqBCku3XDiP4+kObvVJiqO1VHzro8yY5WIsqi+DLIjw1a/3gUJ5YOQg3XuhgvBOU/tdEkbfbvYnHUWfz6nms+mSgp0gYePYJgfjDKd54cqf+lCb5HsEnVQiUthjYOsBNiSLlmU4en2V9+9PVZJvCvURXGqX/hxNncmyuQfPOWZn2lFKYSoe7ZWdCaUx0MnDULw0PKCldSoxDsiYbWQvBcSPs1SD0qwiX9KDZuvakp0ZId8Q0GfbwRV3VUSHlvd8E+DNPP4nRkqn72YWQLe3XHa3VGUh1hU2dhdJvy2v4SzlUY2MCurHfR+m1YlL1nIlNtADoPAiUwEXySmZkQ9GtKDCVSwR6kkGgNABFRafDv2lUYoh8gXS4kCRZmj+mUkb29kKQxv33lQ9e/F2IpKRsxZfJelO0+AA2VT/6Ma2LcvvM4vGYDjv29Fv09hT4z8kaPLoHgxVVYtj9TuKQp1N2eLWiDGrM6AzFr1nCEaJ2o0O+EobW94BNftQxERB6noB6JvEUYlrGEhUEOsnN0Il35QzxMF3yghaVwghO8K9uDiXG4lqE5nossAQl3CevAejB09IW3I3A7Lg7CT/NQ/CcMSgYucHMzhnXDJgg0uYfLl5I1DtMIldoMx+h+wch9ASGLi0Vclitatq8N6aNDGN+0A74/r3XYxna2sDbIVsZTMHZtgDZ1HQUFTsP1v47hyJ/LMXb8dpSftAxfNjGHoXMgalQwwN3zUfhHcwmjSmNw4EEK1vTM/X65KTotT0RaxBQEKB1u+l+Y/9UJ1FqwChNrmcCwQjcsPLIY3dSbzakRAstcozF294GXlQI3Ll+Grnj4KAOZBg5wLCeBk3dl2DMRcY8LEAkJd0HrQNSrLtWUPR3lRyCbdvgeWpEYw87WGgZC8GHu4w1H3EZcXL4ewH+pD2Dg4gY340c4NL4pOnx/XjtIG9vB1lpIBZQCNSwDSwsD5GTn6CR5cjxUKwMsLZ3hXaWs0MmROJNvWysFbiUK7TDzgr9X7qgltO7qNfyjsEXt4GrKij+lL41RvrwzDDMf4ZGOGiIjDnG3iLK+wu+LxBCOvkW1Xzjrqf1pCPsGDeFvcBPnolM1OmoM386jMPrdoLy3LNkxMbgCb7Tr4Adj64ZoEmiCe5cvIVkTBRhVaoPho/shWKvUiI3LgmvL9qgtNUSFbgtxZHE35K/CU9ywPv1SQjYqGGnx2iN/9TYqdCq6LTyCxfk7FU8T6ZPtSAjSit2n6qJ8GJVFjU6DMGL4ALSrZiu0X4OQAFSoWhUVlK8U8lG0DRg6V4e/M3Dz7Nm8eil3GvSo4gFT+RWcPpmk0Vk18ts3kZhlAt8aRdmfpiAP5dsyfXyWOXyHfYfJTVKxsFc7DBk/EaP6tkL3H85D9ZECQ3s0aOgPg5vnEJ27NZyxLzqPGo13g/KsCTExVwDvdujgp+xcQ5SxtIBBTjbyD0kPBZ01hoVwrCCKxATczbmF+Ou6n0ZQICszS0i4rGBrr599CMqPhk0CYXLvMi5pOx5tho9Gv+Cymj6UIS42DlmuLdFe6Pii9FvZnqfau6EzAmtUgMHd84jSGgDGHHiAlDU9kWcBnZYjMS0CU9QGgL/mf4UTtRZg1cRaqjdcle2JxLhr+cYgJbIEQTa0RmC96sK9ivAjwrGCPNy3CX8mmcLLz0uQvgZDCzi6u8I298WNMI6Xr+6LcriHyIirUNg3QEN/A9w8Fw1tt3fGqNHvQtvtMVB3ewf4mbxEGYiIFAPNrDqR0oQ+/Sq/tZjtbMxZZ0qEaqGwkocnJ7GG1JbtFl1X/Z1xYhIDzBzYZYXuAksyJ3oq6zgE86u/lbOvsxg5rS4trZty9vncSfIp3PWBF8vUmsoo5bxfeRL/CPegdaPZ2vnj+cjgyQkBrNBlBeOF4/KEeWxmasP2S25p7vuARz6pRouqo3kod5qxkpzzXDYijN071KenZyOOWhOjWpisnF98aV5L2kk82G+DzvqDpyHLKXoee9oKdpSqP5SnnBN/eKw/zWxb8MeLmnYL7dw+pDItAifzjPJiGSc4KcCMDkK7cqeuq8iJ5tQ6Dgz+6m/N/PUsxqwcw/4f/sIzeRsW6CJnwrxmNLVpzyW5a3weHOEn1SxYdfQhpmdFclpdS1o3nU1tF+ziB15lWGtqFHPkCZzXzJQ27ZdQ+/NPWM2iKkcrBSq/xcXtbGheZwojtMrASTWktG23iNeF32Senswgc2NW7Ls+b868PHkn3/cyp9eHu3XWc9zn7qFetG0wk5FCXYrqy5yoqaxdxpMDt6g3BVDK4uIPzWlrXpOfnVRKJ4fnv2vNSl6hnLgz95wCFNV+TdFj6Pan/A7X93FT6WhsoTr6gHuGedG97ThOGzeBK4QbJf0RTg/rRpxduFIz4+QEBlTowhVKpX4CaSs6UvqkDy3r0S8lZqPCr4vTntfWRpnGFR2lT/hQaBF2VEwZPA/pq7rSQrPGUx8biJ7VgJZSP358QGc9UfIfDK8ooYnPcO66lyvB+9z/kS/NPcK5JUmufz/lorfPUvKQ109u57pVa7nt5A2m6Gy+IL+znn3crNlodmzeupZ8PNjDYV7ubDtuGsdNWCEUyHlrcTvamNfhFK2y8+SkGpTatuMipbIXQH5nLd91Nma5dj/zUq5apwn96S+hRe0veUYo088+hGslCbL0UNZXuw4nHxknOSGggnCd+PzHn6jfhaNr77JL89jSTkKPfht01iE9DUFX8hlABk9MCqCZg6CP+TuL0VPr0CH4K6qap4cfyY+M1+Y0pMRQs/7wKajWdxob02vMMUFr5byzvg/dlPZTuBMVun0Yvdzbcty0cZyw4vzLk8ELQIyfSydiYlRK0a9fsxi7vA99bMoxoON7DO/dir7O7gyZsF3HQWXy4qoPWC+gC+crt4MRkKcc5rTuXfm57m40Ode47sM6dHKuyU4DBrNvSx+W9+vDxed0nOqDU/ymtQ+bTj9dYOAQgpG9YxnaYjIPJmuuKASp28fUpr2lJ5uGhbNfG3+6+YdxYZTGq2fc5MV43WWvcibvGkovE1f2XJ2gKUrkto+DaGPlx36/nCn+l9BTo7h5Z4FFv6pA2oSNv4tX/50RwxXhNVjOOZAd3wtnrxAvuviG8ReNrJRkXlzFD+oFsMt85a5aAvIUHp7WnV0/36UNPOTx/CHEjAYmtTntCTuxye9s55ja9rT0bMqw8H5s4+9G/7CFzBVJzrV1/LCOE51rduKAwX3Z0qc8/fosproLhAFr+xjWtrekZ9MwhvdrQ383f4YtjMpLirNil7OPjw3LBXTke+G92crXme4hE7g9TxmyGLduBOs7WdK1blcODA9jMx9P1hnyG2Nyu1l+j8dmd2W9Vp9xZ6JmYCyqLwWpnFvUm34ulRnSK5wDu9SiS9nqHLAid2cpOe8enMveNW1o1vLnwndvE3h6+wX06c/Uo5wa4s1mc6KE1uoiBNSbBjHIvxPHzlvLPSdimKi67gOe+qY1fZpO5+kC0ZA8aS/Hhrbg5IPJwq/VpEZt5s4Ci51VgZJJY36Xu/i4AEX3SwnaaHHa8zrYqJCOR23eWWDXKXViZNL4u7xNHXQpyo6K26fPim5iVLQNCORc4a/vVqJZucacsDU+r/zBmfkM87dlGbcG7BY+iGHNqtIjKJxLozUNKtL+HkcvnyWQmXgr3w53urvSKUk9OpUh3s04Jyq/NSl3Bdw0KIj+ncZy3to9PBGj2SQiK5bL+/jQplyAyp/2buVLZ/cQTtj+pMRZGDsOfcU27pYsV6Mj+w9S9qcrPZqN45bruUqhp30IPDj1DVv7NOX0xzuee8eGssXkg8wdovTR76LtXc7EbR8zyMaKfv1+4ZniG4Cys7jqg3oM6DJftWOb8poph6exe9fPuUuns4r2I7oI48WCFpQamLDZvPwyKkjmriEsbyRh7a8uaBLGVB6dGkLvZnP4eLdv4qAgf3YaO49r95xgjMqJvjwZlDRi/Fw6EROjUkpx+jUn+RKP797GbbuPM/ZeAU+Wy8NbjDp3SxUsZibG81aBcUONnGnXI7hvxw7uO32NqYU9MMpJ5MWrKY852qyEK8w3xqjQXG/7Nu46dokpueOL/DqXdHBhiGZ3pzyyDnNUFWOaNp+vKVDygNG/jWATVyu61A/nN1su6Bd8CcHEmp6urD7xdP5AOukXtpKasf2y/LtAPYg/LdRzO/eeiiu83UL6cSvqHG+pBcj4QgSYlRjJg2fUMn4i8jRej9jH7dt28dillPx1U6I5vmPHPp6+lpr/yaaAPO06I/Zt57Zdx3gpT6A65CTz0vHd3LZtN4/H3iu8LhmJjD60k9t2HuLZhPztyEmM5vFzt7XBXB5P6EsdZA/ieVqo23ZhwLx6/3EhJv3Smk7d1zx9p7Entb84/Zl5k7FXNVtp6ZB+PZbXCo0lc5h48erjepWVwCs6Si2/s4Y9Xatz4un8jU/6pRWlZu2ZT6UKok+/lJSN6tkeNa/QRoUr31nTk67VJzK/SJP4Syspzdov4xNFWpQdFUsGhZBylF93achB6+7lb78Oab92oplJQ85R7cimpigboCyBe6Z1ZGVLG1btPImrozS+VP6QNyMPcue2nTx0NqHAgyclRdvf4zzdZ6WdnMHQmkOp+iqBhoKJkZLMm7F83JzSeT32Wt5DmfzkMPnSce7eto27j8fySUNSPrLuMeboLsE+9vLklcL6U0Av+xDunniRVx/veCZcidfuQKeHfhfH3h9E/8YRTVxp5VKf4d9s4QX9DCAfD29F8Zy6s5gYf6sQHRDQx49oyDoxllWNDWkv+NxkTdnjyHnj+6Y0MVLuwqr7gCWTN2OvCpZdgPTrjC3cib48GZQgYvxcOhETo1JKqe5X5Xa9dlI2mB2XP/BXbvPpKQxKLX7WFOiQeparJnZjLRcL2ni14JCvN/JsUqFRoRrVtrsm9C8QSOf8/RmrS6tw1GF9RmuRkiL90v9xeKuu/CHq8ZRLL16D/szcOZiuJv4FAqUc/v1ZdUqrjGKpUqmXYaNC8LNzsCtN/AskRjl/87PqUlYZdfipgd+LQ8Zr3zam1KQp5954UnCXxZPjfSlxHsCtxY7e5Ew6vZSjWnvRRlqOQb2+4NrIpMcegrxY7nFZB0tKak7WTMNUk7lvOCs+puOlED30u/j2nsqzqyayWy0XWth4scWQr7nx7MvuVx1yovlVHTMalmnIr5/0PTnNFu4S33E8/oyuOT+vmQyKQIyfSycFV4GKiLz+GJdHBRcFLhw6gLs6K47TT27Gn/+Yo0GHFpqSXLJxbO4n+G5PPLKtnWB25yAWj++Gmh7eaDZkNrbE/Jdv4bIK48rw9jTC1YP7cSVvzbIcV3btxVXHELQKzFt9KvLCUeDBfWv0WfF/GBmg30YVj/Ea9KdxZW94Gl3Fwf1XhDtrkF/Brr1X4RjSCqVKpV6GjcIYlb09YXT1IPZrO1UQ6S7sveqIkFaBeDUiNVDtHmcgj8Ghfbe0fa1D5oVf8MXyG6gW/j6a564w1xP59cUYOfRnHLktQVmHLJz7vy/Rq1Yl+LYegR//jMNDzXkvFIUCOTkyKO4lIjFvwy85EqMv4F/nBmii2kyhFKOHfhfX3rOPzcUn3+1BfLY1nMzu4ODi8ehW0wPezYZg9pYY/Pe4AbxYjKth1I8TUM/4BKYPnIyDKQUrIEf8qnGYfboihn0/AfWf0TXr8trJQOStRZMjiZQmSne/ypm4ZSj9LMux0egV3BdxhofWTmE7dxt69flVuwj3ScjSeDNyJ5dPG8oOgU40lTgxdObJfB/qU3J//wQG2dgwcPBC7j4dwf3LR7Ceowd7rbz+2j7BEnkyr74/73P/hCDa2ARy8MLdPB2xn8tH1KOjRy+uvF7aNOrl2KjQqZwQZEObwMFcuPs0I/Yv54h6jvTotZKvUqTypD2cUNeORqZuDB02myt3HuPfZ6N4+uBmLpr8LmuWc2b9kesZVwKvtLKSYnlw1df8sGMAy5mY0LXZDB57fCZoCSPnva0f0NvchvVGreKRvyO4d9lHbFDBn0M26bmRxhuNPvr9PPYuY9rNSO5cPo1DOwTSyVRCp9CZPKnHLM6SRc7ko9+wc+UytKjclmPmb+SBU38LeryRP41sxkrujTlu680X5D9fFxk8GTF+Lp0o92hU/leZIImUIpTfKynd/apA6vnNWLJsKyJupMHYwQv1OvRD//ZVn/gBy8LJxp1Ta/HjvCsI/nka2hf4Umta7BYsWrIFp288hNTJD6G9h6Bvfee873CIvFm8+v5MQ+yWRViy5TRuPJTCyS8UvYf0RX3n0qhRL8dGhU7FlkVLsOX0jf9v535eIYqiAI5/S1GSsVEsWMpQNqLGkiSlJk1JyUrJ/yH/gCaUnc1IbLCyHFkoi5ftlDTNQjK7aeRHUsxuLCzeM3rv+1nd7u6e7qlz6t5DraOP0ekV1lcztDyk748E5yecXQaUKk/U3qC9q5fB9AQzizlmh3saY6DDUy8XKezsc5fJs5VNNXaj8kH1psDewQVBpU7nwDgLaxvkxsI/1//0m/sdTr6/PlxzuJ2nNLXLZlMC/IGXMlfHR5wWb7mvPtPW3c/Q5BxLy/OMNI2fj0bLY/CD+NdZyWRjFFMmrCRJUjSss+LJP0aSJEmSEs/GSJIkSVLifT2l+15KkiRJUhLBJ/b2bdcF/ewuAAAAAElFTkSuQmCC)"
      ],
      "metadata": {
        "id": "m37nB2lRjZgu"
      }
    },
    {
      "cell_type": "code",
      "source": [
        "\"\"\"\n",
        "Python ენაში მხარდაჭერილია სიმრავლის კიდევ ერთი ტიპი - frozenset, რომელიც\n",
        "სიმრავლისგან განსხვავდება იმით, რომ მასში ელემენტების ჩამატება ან ამოშლა არის შეუძლებელი.\n",
        "სხვა სიტყვებით, რომ ვთქვათ, წარმოადგენს სიმრავლეს მონაცემების მხოლოდ კითხვის\n",
        "შესაძლებლობით.\n",
        "\"\"\""
      ],
      "metadata": {
        "id": "E4IAmr8FMYP4"
      },
      "execution_count": null,
      "outputs": []
    },
    {
      "cell_type": "markdown",
      "source": [
        "ლინკი frozenset()-ის შესასწავლად\n",
        "https://www.programiz.com/python-programming/methods/built-in/frozenset"
      ],
      "metadata": {
        "id": "K2wMuelZd2DM"
      }
    },
    {
      "cell_type": "code",
      "source": [
        "frozenset()"
      ],
      "metadata": {
        "id": "Nu7Q6fJhdxeF"
      },
      "execution_count": null,
      "outputs": []
    },
    {
      "cell_type": "markdown",
      "source": [
        "# სავარჯიშოები"
      ],
      "metadata": {
        "id": "_1bKBF1HqpTQ"
      }
    },
    {
      "cell_type": "markdown",
      "source": [
        "დაწერეთ პროგრამა, რომელიც list-ს შეავსებს 20 შემთხვევითი მთელი რიცხვით შუალედიდან [1,\n",
        "1000] და დაბეჭდავს."
      ],
      "metadata": {
        "id": "F44-hqIuqwof"
      }
    },
    {
      "cell_type": "code",
      "source": [
        "l = [random.randint(1,1000) for _ in range(20)]\n",
        "print(l)"
      ],
      "metadata": {
        "id": "S5ZxG3qIqqlM",
        "colab": {
          "base_uri": "https://localhost:8080/"
        },
        "outputId": "e8191d2b-5f45-4e20-976c-7463909c2b55"
      },
      "execution_count": 206,
      "outputs": [
        {
          "output_type": "stream",
          "name": "stdout",
          "text": [
            "[374, 562, 241, 12, 945, 417, 522, 706, 336, 556, 826, 637, 102, 200, 922, 551, 192, 41, 842, 8]\n"
          ]
        }
      ]
    },
    {
      "cell_type": "markdown",
      "source": [
        "დაწერეთ პროგრამა, რომელიც list-ს შეავსებს 25 უნიკალური შემთხვევითი მთელი რიცხვით\n",
        "შუალედიდან [15, 75]. იპოვეთ list-ის ელემენტების ნამრავლი და დაბეჭდეთ შედეგი. (უნიკალური\n",
        "ელემენტების მისაღებად არ გამოიყენოთ random.sample() მეთოდი და ტიპი set)."
      ],
      "metadata": {
        "id": "xsz9gMPeqyeK"
      }
    },
    {
      "cell_type": "code",
      "source": [
        "l = []\n",
        "r = 25\n",
        "while(len(l) != 25):\n",
        "  rand_num = random.randint(15,75)\n",
        "  if rand_num not in l:\n",
        "    l.append(rand_num)\n",
        "\n",
        "print(l)"
      ],
      "metadata": {
        "id": "fWiPQQLMq1gs",
        "colab": {
          "base_uri": "https://localhost:8080/"
        },
        "outputId": "8f97aaa5-55e9-4e71-a0b5-c323f4c49898"
      },
      "execution_count": 209,
      "outputs": [
        {
          "output_type": "stream",
          "name": "stdout",
          "text": [
            "[28, 70, 49, 24, 29, 21, 63, 69, 72, 17, 48, 16, 61, 62, 65, 43, 30, 36, 52, 35, 53, 45, 57, 34, 46]\n"
          ]
        }
      ]
    },
    {
      "cell_type": "code",
      "source": [
        "arr1 = []\n",
        "x = 0\n",
        "mult = 1\n",
        "for i in range(25):\n",
        "  x = random.randint(15,75)\n",
        "  if x not in arr1:\n",
        "    arr1.append(x)\n",
        "    mult*=x\n",
        "\n",
        "print(arr1, mult)"
      ],
      "metadata": {
        "colab": {
          "base_uri": "https://localhost:8080/"
        },
        "id": "yZyFE1ke1QdB",
        "outputId": "21d1fc27-1a49-4d12-ae4d-b5b828a45077"
      },
      "execution_count": 72,
      "outputs": [
        {
          "output_type": "stream",
          "name": "stdout",
          "text": [
            "[40, 59, 33, 16, 21, 75, 15, 52, 66, 28, 49, 30, 44, 60, 34, 51, 71, 73, 35, 46] 158854855126814725250211840000000\n"
          ]
        }
      ]
    },
    {
      "cell_type": "markdown",
      "source": [
        "დაწერეთ პროგრამა, რომელიც list-ს შეავსებს 100000 შემთხვევითი რიცხვებით შუალედიდან\n",
        "[100000, 1000000]. დაითვალეთ და დაბეჭდეთ:\n",
        "1. ისეთი 20 რიცხვის კვადრატების ჯამი, რომლიც არის 17-ის ჯერადი, მაგრამ არ ბოლოვდება 5-ით ან 7-ით;\n",
        "2. ისეთი 500 რიცხვის ჯამს, რომლის ციფრთა ჯამი არის ლუწი რიცხვი, მაგრამ არ ბოლობდება 3-\n",
        "ით ან 7-ით;\n",
        "3. ისეთი რიცხვების რაოდენობა, რომლის კენტ პოზიციაზე მდგომი ციფრების ჯამის შეფარდება\n",
        "ლუწ პოზიციაზე მდგომი ციფრების ჯამზე მთელი რიცხვია;\n",
        "4. შემთხვევით (random.choice() მეთოდის გამოყენებით) აღებული 2000 შემთხვევითი მთელი\n",
        "რიცხვიდან ისეთი რიცხვების რაოდენობა, რომელიც არის კენტი და, ამასთან, კენტ ინდექსზე\n",
        "მდგომი ციფრების ჯამი მეტია ლუწ ინდექსზე მდგომი ციფრების ჯამზე;\n",
        "5. ისეთი რიცხვების საშუალო არითმეტიკული, რომლის ციფრები დალაგებულია ზრდადი\n",
        "მიმდევრობით;\n",
        "6. ისეთი რიცხვების საშუალო არითმეტიკული, რომლის ლუწ ინდექსზე მდგომი ციფრები\n",
        "დალაგებულია კლებადი მიმდევრობით;\n",
        "7. ისეთი რიცხვების საშუალო არითმეტიკული, რომლის ლუწ ინდექსზე მდგომი ციფრები\n",
        "დალაგებულია კლებადი მიმდევრობით, ხოლო კენტ ინდექსზე მდგომი ციფრები კი\n",
        "დალაგებულია კლებადი მიმდევრობით;\n",
        "8. ისეთი რიცხვების საშუალო არითმეტიკული, რომლის ციფრების მიმდევრობა ქმნის\n",
        "პალინდრომს (დასაწყისიდან და დასასრულიდან თანაბრად დაშორებულ ინდექსზე მდგომი\n",
        "ციფრები ტოლია);\n"
      ],
      "metadata": {
        "id": "WJh7iNQyq2P1"
      }
    },
    {
      "cell_type": "code",
      "source": [
        "l = [random.randint(100000,1000000) for _ in range(100000)]\n",
        "\n",
        "counter = 0\n",
        "for i in l:\n",
        "  if i % 17 == 0 and i % 10 != 5 and i % 10 != 7:\n",
        "    print(i)\n",
        "    counter += 1\n",
        "  if counter == 19:\n",
        "    break"
      ],
      "metadata": {
        "colab": {
          "base_uri": "https://localhost:8080/"
        },
        "id": "rH1trIX2e8S7",
        "outputId": "3721b6fc-a785-4266-9364-1a8b824e93d0"
      },
      "execution_count": 212,
      "outputs": [
        {
          "output_type": "stream",
          "name": "stdout",
          "text": [
            "948328\n",
            "674033\n",
            "380579\n",
            "900796\n",
            "588812\n",
            "872083\n",
            "963101\n",
            "739483\n",
            "265268\n",
            "228582\n",
            "896563\n",
            "719440\n",
            "321028\n",
            "847484\n",
            "628660\n",
            "311576\n",
            "640951\n",
            "699193\n",
            "685916\n"
          ]
        }
      ]
    },
    {
      "cell_type": "code",
      "source": [
        "sum = 0\n",
        "counter = 0\n",
        "for i in l:\n",
        "  if str(i) == str(i)[::-1]:\n",
        "    #print(i)\n",
        "    sum += i\n",
        "    counter += 1\n",
        "\n",
        "print(sum / counter)"
      ],
      "metadata": {
        "colab": {
          "base_uri": "https://localhost:8080/"
        },
        "id": "SXY7iO92hXFb",
        "outputId": "26edecaf-4dc3-42c8-9967-9fe8fa9f1919"
      },
      "execution_count": 214,
      "outputs": [
        {
          "output_type": "stream",
          "name": "stdout",
          "text": [
            "594501.1441441441\n"
          ]
        }
      ]
    },
    {
      "cell_type": "code",
      "source": [
        "# isinstance(num, float) ფუნქცია ამოწმებს არის თუ არა რიცხვი მოცემული ტიპის"
      ],
      "metadata": {
        "id": "qf7WszFFGa0x"
      },
      "execution_count": 94,
      "outputs": []
    },
    {
      "cell_type": "code",
      "source": [
        "# ისეთი 20 რიცხვის კვადრატების ჯამი, რომლიც არის 17-ის ჯერადი, მაგრამ არ ბოლოვდება 5- ით ან 7-ით;\n",
        "arr1 = []\n",
        "for i in range(100000):\n",
        "  arr1.append(random.randint(100000, 1000000))\n",
        "x = 0\n",
        "sum = 0\n",
        "s = \"\"\n",
        "for i in range(100000):\n",
        "  s = str(i)\n",
        "  if i %17==0 and s[-1]!='5' and s[-1] !=7:\n",
        "    sum += i**2\n",
        "    x += 1\n",
        "  if x == 20:\n",
        "    break\n",
        "sum"
      ],
      "metadata": {
        "id": "K8b-PfI2q5_O",
        "colab": {
          "base_uri": "https://localhost:8080/"
        },
        "outputId": "569e33f1-9914-45b3-da08-c3833a47da03"
      },
      "execution_count": 74,
      "outputs": [
        {
          "output_type": "execute_result",
          "data": {
            "text/plain": [
              "884629"
            ]
          },
          "metadata": {},
          "execution_count": 74
        }
      ]
    },
    {
      "cell_type": "code",
      "source": [
        "# ისეთი 500 რიცხვის ჯამს, რომლის ციფრთა ჯამი არის ლუწი რიცხვი, მაგრამ არ ბოლობდება 3- ით ან 7-ით;\n",
        "\n",
        "sum = 0\n",
        "x = 0\n",
        "num = 0\n",
        "s=\"\"\n",
        "for i in range(len(arr1)):\n",
        "  s = str(i)\n",
        "  for j in s:\n",
        "    num += int(j)\n",
        "  if num %2==0 and s[-1]!='3' and s[-1] != '7':\n",
        "    sum +=num\n",
        "    x +=1\n",
        "  if x==500:\n",
        "    break\n",
        "sum"
      ],
      "metadata": {
        "colab": {
          "base_uri": "https://localhost:8080/"
        },
        "id": "OeIUS4lE3gX1",
        "outputId": "e5b99b75-fdec-45ad-8fcd-caa09c0c8d61"
      },
      "execution_count": 76,
      "outputs": [
        {
          "output_type": "execute_result",
          "data": {
            "text/plain": [
              "3791726"
            ]
          },
          "metadata": {},
          "execution_count": 76
        }
      ]
    },
    {
      "cell_type": "code",
      "source": [
        "\"\"\"\n",
        "შემთხვევით (random.choice() მეთოდის გამოყენებით) აღებული 2000 შემთხვევითი\n",
        "მთელი რიცხვიდან ისეთი რიცხვების რაოდენობა, რომელიც არის კენტი და,\n",
        "ამასთან, კენტ ინდექსზე მდგომი ციფრების ჯამი მეტია ლუწ ინდექსზე მდგომი ციფრების ჯამზე;\n",
        "\"\"\"\n",
        "\n",
        "ar = []\n",
        "for i in range(2000):\n",
        "  ar.append(random.choice(arr1))\n",
        "s = \"\"\n",
        "odd, even = 0, 0\n",
        "count = 0\n",
        "for i in ar:\n",
        "  if i%2==1:\n",
        "    s = str(i)\n",
        "    for st in range(0, len(s), 2):\n",
        "      even += int(st)\n",
        "    for st in range(1, len(s), 2):\n",
        "      odd += int(st)\n",
        "    if odd > even:\n",
        "      count += 1\n",
        "count\n",
        "\n"
      ],
      "metadata": {
        "colab": {
          "base_uri": "https://localhost:8080/"
        },
        "id": "7H20DOqq4oD7",
        "outputId": "8956660c-ce62-42d2-df5b-0943e3d01131"
      },
      "execution_count": 79,
      "outputs": [
        {
          "output_type": "execute_result",
          "data": {
            "text/plain": [
              "1025"
            ]
          },
          "metadata": {},
          "execution_count": 79
        }
      ]
    },
    {
      "cell_type": "code",
      "source": [
        "# ისეთი რიცხვების საშუალო არითმეტიკული, რომლის ციფრები დალაგებულია ზრდადი მიმდევრობით;\n",
        "\n"
      ],
      "metadata": {
        "id": "mx7Obpb_4zah"
      },
      "execution_count": null,
      "outputs": []
    },
    {
      "cell_type": "markdown",
      "source": [
        "შექმენით set ტიპის ორი სიმრავლე (s1 და s2) და შეავსეთ ისინი 1000 შემთხვევითი\n",
        "უნიკალური მთელი მნიშვნელობით შუალედიდან [1, 9999]. იპოვეთ და დაბეჭდეთ:\n",
        "1. სიმრავლეების გაერთიანებით მიღებულ სიმრავლეში ელემენტების რაოდენობა\n",
        "(გამოიყენეთ მეთოდი union());\n",
        "2. სიმრავლეების თანაკვეთაში შემავალი ელემენტების საშუალო არითმეტიკული\n",
        "(გამოიყენეთ მეთოდი intersection());\n",
        "3. სიმრავლეების სიმეტრიული სხვაობა (გამოიყენეთ მეთოდი symmetric_difference());\n",
        "4. s1-s2 სიმრავლეში ელემენტების კვადრატების ჯამიდან ფესვი მეტია თუ s2-s1 სიმრავლეში\n",
        "ელემენტების კუბების ჯამიდან კუბური ფესვი (გამოიყენეთ მეთოდი difference());"
      ],
      "metadata": {
        "id": "aaoHkSiYrdlS"
      }
    },
    {
      "cell_type": "code",
      "source": [
        "s1 = set()\n",
        "s2 = set()\n",
        "\n",
        "for i in range(1000):\n",
        "  s1.add(random.randint(1,9999))\n",
        "for i in range(1000):\n",
        "  s2.add(random.randint(1,9999))"
      ],
      "metadata": {
        "id": "Lpizu_nLrg6Z"
      },
      "execution_count": 81,
      "outputs": []
    },
    {
      "cell_type": "code",
      "source": [
        "len(s1.union(s2))"
      ],
      "metadata": {
        "colab": {
          "base_uri": "https://localhost:8080/"
        },
        "id": "cJyEgb3d78AS",
        "outputId": "ea37d51c-1852-404b-a01e-ac566c1f4115"
      },
      "execution_count": 82,
      "outputs": [
        {
          "output_type": "execute_result",
          "data": {
            "text/plain": [
              "1809"
            ]
          },
          "metadata": {},
          "execution_count": 82
        }
      ]
    },
    {
      "cell_type": "code",
      "source": [
        "av = 0\n",
        "for i in s1.intersection(s2):\n",
        "  av += i\n",
        "\n",
        "print(av/len(s1.intersection(s2)))"
      ],
      "metadata": {
        "colab": {
          "base_uri": "https://localhost:8080/"
        },
        "id": "QU1G6_Tt8JLa",
        "outputId": "831fd181-90b4-4c1d-f792-3b4a23ef511f"
      },
      "execution_count": 90,
      "outputs": [
        {
          "output_type": "stream",
          "name": "stdout",
          "text": [
            "5063.565217391304\n"
          ]
        }
      ]
    },
    {
      "cell_type": "code",
      "source": [],
      "metadata": {
        "id": "yCs-pQ9K8Zed"
      },
      "execution_count": null,
      "outputs": []
    }
  ]
}