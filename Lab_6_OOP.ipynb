{
  "nbformat": 4,
  "nbformat_minor": 0,
  "metadata": {
    "colab": {
      "provenance": [],
      "authorship_tag": "ABX9TyNTmixgE00rbantyGGXIaNr",
      "include_colab_link": true
    },
    "kernelspec": {
      "name": "python3",
      "display_name": "Python 3"
    },
    "language_info": {
      "name": "python"
    }
  },
  "cells": [
    {
      "cell_type": "markdown",
      "metadata": {
        "id": "view-in-github",
        "colab_type": "text"
      },
      "source": [
        "<a href=\"https://colab.research.google.com/github/RevazRevazashvili/TSU-python-labs/blob/main/Lab_6_OOP.ipynb\" target=\"_parent\"><img src=\"https://colab.research.google.com/assets/colab-badge.svg\" alt=\"Open In Colab\"/></a>"
      ]
    },
    {
      "cell_type": "markdown",
      "source": [
        "#გამოსადეგი ბმული\n",
        "https://www.youtube.com/watch?v=H6l0MX81dvg&list=PLhveFGugGa7mVGush-NXL9QEgtNSIdHld&index=12"
      ],
      "metadata": {
        "id": "7crFy9tIdGXM"
      }
    },
    {
      "cell_type": "markdown",
      "source": [
        "ოოპ-ს ცნება"
      ],
      "metadata": {
        "id": "6W7znFhVvwSL"
      }
    },
    {
      "cell_type": "code",
      "execution_count": null,
      "metadata": {
        "id": "ytKkyurQNgsc"
      },
      "outputs": [],
      "source": [
        "\"\"\"\n",
        "ობიექტზე ორიენტირებული პროგრამირება წარმოადგენს პროგრამის ორგანიზაციის მეთოდს,\n",
        "რომელიც იძლევა ერთიდაიმავე კოდის მრავალჯერ გამოყენების საშუალებას. ფუნქციებისა და\n",
        "მოდულებისგან განსხვავებით ოოპ იძლევა არა მხოლოდ პროგრამის ფრაგმენტებად დაყოფის\n",
        "საშუალებას, არამედ იძლევა რეალური სამყაროს სხვადასხვა ობიექტების პროგრამული ობიექტების\n",
        "სახით აღწერის და ასეთ ობიექტებს შორის კავშირის დამყარების საშუალებას.\n",
        "ოოპ-სთვის ერთერთ მნიშვნელოვან ცნებას წარმოადგენს კლასის ცნება. კლასი ეს არის\n",
        "მონაცემთა რთული ტიპი (სამომხმარებლო ტიპი), რომელიც აერთიანებს ცვლადებს (ატრიბუტებს)\n",
        "და ფუნქციებს (მეთოდებს), რომელთა მეშვეობითაც შესაძლებელი ხდება კლასის ატრიბუტებზე\n",
        "მანიპულირება.\n",
        "\"\"\""
      ]
    },
    {
      "cell_type": "markdown",
      "source": [
        "კლასის ცნება, კლასის ეგზემპლარის შექმნა"
      ],
      "metadata": {
        "id": "4DxfKF11wGEC"
      }
    },
    {
      "cell_type": "code",
      "source": [
        "# მოვიყვანოთ კლასის განმარტება\n",
        "class myClass:\n",
        "  '''კლასის დოკუმენტირების სტრიქონი'''\n",
        "  def __init__(self): # კლასის კონსტრუქტორი\n",
        "    self.x = 10 # კლასის ატრიბუტი\n",
        "  def info(self): # კლასის მეთოდი\n",
        "    # კლასის ატრიბუტზე მიმართვა\n",
        "    print(f'Get value of attribute using method: { self.x}')\n",
        "c = myClass() # კლასის ეგზემპლარის შექმნა\n",
        "c.info() # კლასის ეგზემპლარიდან მეთოდზე მიმართვა და\n",
        "print(f'Get value of attribute using object: { c.x }') # ატრიბუტზე მიმართვა\n",
        "print(myClass.__doc__)\n"
      ],
      "metadata": {
        "colab": {
          "base_uri": "https://localhost:8080/"
        },
        "id": "4VBtb1x9vnju",
        "outputId": "7a0b209a-fb7b-4360-c7bc-5d6599ffaba3"
      },
      "execution_count": 66,
      "outputs": [
        {
          "output_type": "stream",
          "name": "stdout",
          "text": [
            "Get value of attribute using method: 10\n",
            "Get value of attribute using object: 10\n",
            "კლასის დოკუმენტირების სტრიქონი\n"
          ]
        }
      ]
    },
    {
      "cell_type": "code",
      "source": [
        "\"\"\"\n",
        "კლასს შეიძლება დამატებით გააჩნდეს კლასის დონის (ე.წ. სტატიკური) ატრიბუტი, რომელიც\n",
        "საერთო იქნება ყველა ეგზემპლარისთვის. ასეთ ატრიბუტზე მიმართვა შესაძლებელია როგორც\n",
        "კლასის ისე, ატრიბუტის დონეზე. ასეთ ატრიბუტში ცვლილება ავტომატურად აისახება კლასის\n",
        "ყველა ეგზემპლარში.\n",
        "\"\"\""
      ],
      "metadata": {
        "id": "kvgxo_Mwwpmu"
      },
      "execution_count": null,
      "outputs": []
    },
    {
      "cell_type": "code",
      "source": [
        "class myClass:\n",
        "  attr_cl = 10 # კლასის დონის (static) ატრიბუტი\n",
        "  def __init__(self):\n",
        "    self.attr_x = 15 # ეგზემპლარის დონის ატრიბუტი\n",
        "\n",
        "c = myClass() # გამოვაცხადოთ კლასის ობიექტი\n",
        "print('Object attribute:')\n",
        "print(f' Before: c.attr_x = { c.attr_x }')\n",
        "\n",
        "c.attr_x = 50 # შეცვალოთ ეგზემპლარის ატრიბუტის მნიშვნელობა\n",
        "print(f' After: c.attr_x = { c.attr_x }') # დავბეჭდოთ ატრიბუტის მნიშვნელობა\n",
        "\n",
        "\n",
        "a = myClass()\n",
        "b = myClass()\n",
        "\n",
        "print(f' obj a attr_cl = { a.attr_cl }')\n",
        "print(f' obj b attr_cl = { b.attr_cl }')\n",
        "print('Class attribute:')\n",
        "# დავბეჭდოთ კლასი ატრიბუტის მნიშვნელობა\n",
        "print(f' Before: myClass.attr_cl = { myClass.attr_cl }')\n",
        "myClass.attr_cl = 20\n",
        "print(f' obj a attr_cl = { a.attr_cl }')\n",
        "print(f' obj b attr_cl = { b.attr_cl }')\n",
        "# დავბეჭდოთ კლასის ატრიბუტის მნიშვნელობა\n",
        "print(f' After: myClass.attr_cl = { myClass.attr_cl }')"
      ],
      "metadata": {
        "colab": {
          "base_uri": "https://localhost:8080/"
        },
        "id": "vN8sd_3Owrn0",
        "outputId": "4c3d8426-6edc-4927-8823-b2f4be9ea98a"
      },
      "execution_count": 68,
      "outputs": [
        {
          "output_type": "stream",
          "name": "stdout",
          "text": [
            "Object attribute:\n",
            " Before: c.attr_x = 15\n",
            " After: c.attr_x = 50\n",
            " obj a attr_cl = 10\n",
            " obj b attr_cl = 10\n",
            "Class attribute:\n",
            " Before: myClass.attr_cl = 10\n",
            " obj a attr_cl = 20\n",
            " obj b attr_cl = 20\n",
            " After: myClass.attr_cl = 20\n"
          ]
        }
      ]
    },
    {
      "cell_type": "code",
      "source": [
        "\"\"\"\n",
        "Python ენაში მხარდაჭერილია ორივე დონის ატრიბუტის დინამიური შექმნის შესაძლებლობა.\n",
        "კლასის დონის დინამიური ატრიბუტი ხელმისაწვდომი იქნება კლასის ყველა ეგზემპლარისთვის,\n",
        "ხოლო ეგზემპლარის დონის ატრიბუტი კი მხოლოდ იმ ეგზემპლარისთვის, რომელშიც მოხდა მისი\n",
        "შექმნა.\n",
        "\"\"\""
      ],
      "metadata": {
        "id": "-cQj2e0N6AMp"
      },
      "execution_count": null,
      "outputs": []
    },
    {
      "cell_type": "code",
      "source": [
        "class myClass:\n",
        "  pass\n",
        "myClass.attr_d = 50 # კლასის დონის დინამიური ატრიბუტი\n",
        "\n",
        "# გამოვაცხადოთ კლასის ორი ეგზემპლარი\n",
        "c1, c2 = myClass(), myClass()\n",
        "c1.attr_d = 30 # c1 -ს განვუსაზღვროთ დინამიური ატრიბუტი\n",
        "\n",
        "# დავბეჭდოთ ორივე ეგზემპლარისთვის დინამიური ატრიბუტის მნიშვნელობა\n",
        "print('Object level dynamic attribute: c1.attr_d =', c1.attr_d)\n",
        "print(' Class level dynamic attribute: c2.attr_d =', c2.attr_d)"
      ],
      "metadata": {
        "colab": {
          "base_uri": "https://localhost:8080/"
        },
        "id": "PjfC211n6Cq1",
        "outputId": "5733fe9c-857c-4b54-a943-245f42531091"
      },
      "execution_count": 69,
      "outputs": [
        {
          "output_type": "stream",
          "name": "stdout",
          "text": [
            "Object level dynamic attribute: c1.attr_d = 30\n",
            " Class level dynamic attribute: c2.attr_d = 50\n"
          ]
        }
      ]
    },
    {
      "cell_type": "code",
      "source": [
        "\"\"\"\n",
        "გაჩუმების წესით Python ენაში კლასის ყოველი ეგზემპლარისთვის განსაზღვრულია\n",
        "ატრიბუტების ლექსიკონი (__dict__). ასეთი ლექსიკონის ქონა დაკავშირებულია მეხსიერების\n",
        "არაეფექტურ გამოყენებასთან. მეხსიერების მოცულობის მოგების მიზნით Python ენაში (ახალ\n",
        "ვერსიებში (3.4.2-დან)) კლასის განმარტებაში შესაძლებელია __slots__ list-ის განსაზღვრა, რომელშიც\n",
        "ჩამოთვლილი იქნება კლასის ატრიბუტები. ატრიბუტი, რომელიც არ იქნება ჩამოთვლილი__slots__list-ში\n",
        "კლასის ეგზემპლარის გამოცხადების შემთხვევაში წარმოშობს AttributeError ტიპის\n",
        "შეცდომას, ანუ ეგზემპლარისთვის შესაძლებელი იქნება მხოლოდ __slots__ list-ში ჩამოთვლილი\n",
        "ატრიბუტების გამოყენება. ასევე, მისი გამოყენებით იკრძალება დინამიური ატრიბუტის შექმნა.\n",
        "\"\"\""
      ],
      "metadata": {
        "id": "YZFxikIf6eZm"
      },
      "execution_count": null,
      "outputs": []
    },
    {
      "cell_type": "code",
      "source": [
        "class myClass:\n",
        " __slots__ = ['attr_x', 'attr_y','attr_z']\n",
        " def __init__(self, x, y): # კონსტრუქტორი\n",
        "    self.attr_x = x\n",
        "    self.attr_y = y\n",
        "c = myClass(10, 20) # გამოვაცხადოთ კლასის ეგზემპლარი\n",
        "try:\n",
        "  c.attr_z = 30 # შევქმნათ დინამიური ატრიბუტი\n",
        "except AttributeError as msg:\n",
        "  print(f'Error message: \\n { msg }')"
      ],
      "metadata": {
        "colab": {
          "base_uri": "https://localhost:8080/",
          "height": 211
        },
        "id": "GKnAB_IL6hPi",
        "outputId": "ae23fc06-7050-46ae-8bab-b503c72ba31e"
      },
      "execution_count": 77,
      "outputs": [
        {
          "output_type": "error",
          "ename": "AttributeError",
          "evalue": "'myClass' object has no attribute 'attr_z'",
          "traceback": [
            "\u001b[0;31m---------------------------------------------------------------------------\u001b[0m",
            "\u001b[0;31mAttributeError\u001b[0m                            Traceback (most recent call last)",
            "\u001b[0;32m<ipython-input-77-2ca29d7b7f1b>\u001b[0m in \u001b[0;36m<cell line: 7>\u001b[0;34m()\u001b[0m\n\u001b[1;32m      5\u001b[0m     \u001b[0mself\u001b[0m\u001b[0;34m.\u001b[0m\u001b[0mattr_y\u001b[0m \u001b[0;34m=\u001b[0m \u001b[0my\u001b[0m\u001b[0;34m\u001b[0m\u001b[0;34m\u001b[0m\u001b[0m\n\u001b[1;32m      6\u001b[0m \u001b[0mc\u001b[0m \u001b[0;34m=\u001b[0m \u001b[0mmyClass\u001b[0m\u001b[0;34m(\u001b[0m\u001b[0;36m10\u001b[0m\u001b[0;34m,\u001b[0m \u001b[0;36m20\u001b[0m\u001b[0;34m)\u001b[0m \u001b[0;31m# გამოვაცხადოთ კლასის ეგზემპლარი\u001b[0m\u001b[0;34m\u001b[0m\u001b[0;34m\u001b[0m\u001b[0m\n\u001b[0;32m----> 7\u001b[0;31m \u001b[0mprint\u001b[0m\u001b[0;34m(\u001b[0m\u001b[0mc\u001b[0m\u001b[0;34m.\u001b[0m\u001b[0mattr_z\u001b[0m\u001b[0;34m)\u001b[0m\u001b[0;34m\u001b[0m\u001b[0;34m\u001b[0m\u001b[0m\n\u001b[0m\u001b[1;32m      8\u001b[0m \u001b[0;32mtry\u001b[0m\u001b[0;34m:\u001b[0m\u001b[0;34m\u001b[0m\u001b[0;34m\u001b[0m\u001b[0m\n\u001b[1;32m      9\u001b[0m   \u001b[0mc\u001b[0m\u001b[0;34m.\u001b[0m\u001b[0mattr_z\u001b[0m \u001b[0;34m=\u001b[0m \u001b[0;36m30\u001b[0m \u001b[0;31m# შევქმნათ დინამიური ატრიბუტი\u001b[0m\u001b[0;34m\u001b[0m\u001b[0;34m\u001b[0m\u001b[0m\n",
            "\u001b[0;31mAttributeError\u001b[0m: 'myClass' object has no attribute 'attr_z'"
          ]
        }
      ]
    },
    {
      "cell_type": "code",
      "source": [
        "\"\"\"\n",
        "Python ენაში კლასის ატრიბუტებზე მანიპულირებისთვის განსაზღვრულია შემდეგი\n",
        "მეთოდები:\n",
        "➢ getattr() - მეთოდი აბრუნებს სტრიქონის სახით გადაცემული ატრიბუტის მნიშვნელობას.\n",
        "თუ მითითებული ატრიბუტი არ არსებობს, მაშინ წარმოიშობა განსაკუთრებული შემთხვევა\n",
        "AttributeError.\n",
        "➢ setattr() - მეთოდი აყენებს (განსაზღვრავს) სტრიქონის სახით გადაცემული ატრიბუტის\n",
        "მნიშვნელობას. თუ მითითებული ატრიბუტი არ არსებობს, მაშინ ის შეიქმნება.\n",
        "➢ delattr() - მეთოდი შლის სტრიქონის სახით გადაცემული ატრიბუტის მნიშვნელობას.\n",
        "➢ hasattr() - მეთოდი ამოწმებს სტრიქონის სახით გადაცემული ატრიბუტის არსებობას. თუ\n",
        "ატრიბუტი არსებობს, მაშინ აბრუნებს მნიშვნელობას True.\n",
        "\"\"\""
      ],
      "metadata": {
        "id": "lfwWlUkX8pvB"
      },
      "execution_count": null,
      "outputs": []
    },
    {
      "cell_type": "code",
      "source": [
        "class myClass:\n",
        "  def __init__(self,):\n",
        "    self.attr_x = 5\n",
        "\n",
        "c = myClass()\n",
        "# შევამოწმოთ attr_x ატრიბუტის არსებობა და დავბეჭდოთ ის\n",
        "if hasattr(c, 'attr_x'):\n",
        "  print('c.attr_x =', getattr(c, 'attr_x'))\n",
        "try:\n",
        " # დავბეჭდოთ არარსებული ატრიბუტის მნიშვნელობა\n",
        "  print('c.attr_y =', getattr(c, 'attr_y'))\n",
        "except AttributeError:\n",
        " # დავამუშაოთ წარმოქმნილი განსაკუთრებული შემთხვევა\n",
        "  print('Object c does not have attribute: attr_y')\n",
        "\n",
        "# დავაყენოთ ატრიბუტი attr_y და დავბეჭდოთ მისი მნიშვნელობა\n",
        "setattr(c, \"attr_y\", 50) # ატრიბუტში ჩავწეროთ მნიშვნელობა 50\n",
        "\n",
        "# დავბეჭდოთ attr_y ატრიბუტის მნიშვნელობა\n",
        "print('c.attr_y =', getattr(c, 'attr_y'))\n",
        "delattr(c, 'attr_y') # წავშალოთ attr_y ატრიბუტი\n",
        "\n",
        "try:\n",
        " # დავბეჭდოთ არარსებული ატრიბუტის მნიშვნელობა\n",
        "  print('c.attr_y = ', getattr(c, 'attr_y'))\n",
        "except AttributeError:\n",
        " # დავამუშაოთ წარმოქმნილი განსაკუთრებული შემთხვევა\n",
        "  print('c object does not have attribute: attr_y')\n"
      ],
      "metadata": {
        "id": "dx-rbNCm8tH7",
        "outputId": "19769722-bfd2-4466-b618-0a80d846bb67",
        "colab": {
          "base_uri": "https://localhost:8080/"
        }
      },
      "execution_count": 78,
      "outputs": [
        {
          "output_type": "stream",
          "name": "stdout",
          "text": [
            "c.attr_x = 5\n",
            "Object c does not have attribute: attr_y\n",
            "c.attr_y = 50\n",
            "c object does not have attribute: attr_y\n"
          ]
        }
      ]
    },
    {
      "cell_type": "markdown",
      "source": [
        "კონსტრუქტორი და დესტრუქტორი"
      ],
      "metadata": {
        "id": "px5fHa59LYDI"
      }
    },
    {
      "cell_type": "code",
      "source": [
        "\"\"\"\n",
        "კლასის ეგზემპლარის შექმნისას ინტერპრეტატორი ავტომატურად იძახებს მეთოდს\n",
        "__init__(), რომელსაც გააჩნია შემდეგი ფორმატი:\n",
        "def __init__(self[, <value1>[,...,<valueN>]]):\n",
        " <Instructions>\n",
        "ასეთ მეთოდს პროგრამირების სხვა ენებში (მაგალითად, C++) უწოდებენ კონსტრუქტორს.\n",
        "__init__() მეთოდის მეშვეობით შესაძლებელია კლასის ეგზემპლარის საწყისი\n",
        "ინიციალიზირება. ეგზემპლარის (გაჩუმებით მნიშვნელობებისგან განსხვავებული\n",
        "მნიშვნელობებით) საწყისი ინიციალიზირების აუცილებლობის შემთხვევაში მრგვალ ფრჩხილებში\n",
        "უნდა მოხდეს შესაბამისი მნიშვნელობების ჩამოთვლა.\n",
        "\"\"\""
      ],
      "metadata": {
        "colab": {
          "base_uri": "https://localhost:8080/"
        },
        "id": "_E3Ch9FISk2k",
        "outputId": "15a1a2d1-f5f1-455f-94ce-a0a9c5ea4d30"
      },
      "execution_count": null,
      "outputs": [
        {
          "output_type": "stream",
          "name": "stdout",
          "text": [
            "Requirement already satisfied: pyperclip in /usr/local/lib/python3.10/dist-packages (1.8.2)\n"
          ]
        }
      ]
    },
    {
      "cell_type": "code",
      "source": [
        "class myClass: # განვსაზღვროთ კლასი ორი ატრიბუტით\n",
        "  def __init__(self, xAttr, yAttr):\n",
        "    self.attr_x = xAttr # პირველი ატრიბუტის ინიციალიზირება\n",
        "    self.attr_y = yAttr # მეორე ატრიბუტის ინიციალიზირება\n",
        "c = myClass(10, 20) # გამოვაცხადოთ კლასის ობიექტი\n",
        "# დავბეჭდოთ კლასის ეგზემპლარის ატრიბუტების მნიშვნელობები\n",
        "print(f'Attributes of c:\\n attr_x = {c.attr_x}\\n attr_y = {c.attr_y}')\n"
      ],
      "metadata": {
        "id": "Di15iOdTRaTc",
        "colab": {
          "base_uri": "https://localhost:8080/"
        },
        "outputId": "5fb465ed-8bd2-43d0-d39b-63ba2a886853"
      },
      "execution_count": 79,
      "outputs": [
        {
          "output_type": "stream",
          "name": "stdout",
          "text": [
            "Attributes of c:\n",
            " attr_x = 10\n",
            " attr_y = 20\n"
          ]
        }
      ]
    },
    {
      "cell_type": "code",
      "source": [
        "\"\"\"\n",
        "კლასის ეგზემპლართან მუშაობის დასრულების შემდეგ საჭიროა ეგზემპლარის განადგურება.\n",
        "ეგზემპლარის განადგურებას უზრუნველყოფს კლასის დესტრუქტორი. Python ენაში კლასის\n",
        "დესტრუქტორის რეალიზება შესაძლებელია __del__() მეთოდის მეშვეობით.\n",
        "შევნიშნოთ, რომ კლასის ეგზემპლარის მიმართ __del__() მეთოდის გამოყენება არ მოხდება თუ\n",
        "კოდში ერთი მაინც ობიექტი მიუთითებს კლასის ეგზემპლარზე.\n",
        "\"\"\""
      ],
      "metadata": {
        "id": "C4bsCFIoRb7k"
      },
      "execution_count": null,
      "outputs": []
    },
    {
      "cell_type": "code",
      "source": [
        "class myClass: # განვსაზღვროთ კლასი\n",
        "  def __init__(self):\n",
        "    print('__init__() method was called')\n",
        "  def __del__(self):\n",
        "    print(f'__del__() method was called for')\n",
        "c1 = myClass() # გამოვაცხადოთ კლასის ეგზემპლარი c1\n",
        "del c1 # წავშალოთ ეგზემპლარი c1\n",
        "\n",
        "c2 = myClass() # გამოვაცხადოთ კლასის ეგზემპლარი c2\n",
        "print('deleting object c2')\n",
        "del c2 # წავშალოთ ეგზემპლარი c2"
      ],
      "metadata": {
        "id": "CF5JO9XWUvwc",
        "colab": {
          "base_uri": "https://localhost:8080/"
        },
        "outputId": "207c159d-8c8a-4316-d07c-bd48545df4ee"
      },
      "execution_count": null,
      "outputs": [
        {
          "output_type": "stream",
          "name": "stdout",
          "text": [
            "__init__() method was called\n",
            "__del__() method was called for\n",
            "__init__() method was called\n",
            "deleting object c2\n",
            "__del__() method was called for\n"
          ]
        }
      ]
    },
    {
      "cell_type": "code",
      "source": [
        "# ობიექტების წაშლის მიმდევრობა\n",
        "\n",
        "class myClass: # განვსაზღვროთ კლასი\n",
        "  def __init__(self):\n",
        "    print(f'__init__() method was called')\n",
        "  def __del__(self):\n",
        "    print(f'__del__() method was called')\n",
        "\n",
        "b = myClass()\n",
        "if 1==1:\n",
        "  a = myClass()"
      ],
      "metadata": {
        "id": "34NXsC-dKinM",
        "outputId": "2d551705-41dc-420a-ae22-89a1ec41014f",
        "colab": {
          "base_uri": "https://localhost:8080/"
        }
      },
      "execution_count": 80,
      "outputs": [
        {
          "output_type": "stream",
          "name": "stdout",
          "text": [
            "__init__() method was called\n",
            "__init__() method was called\n"
          ]
        }
      ]
    },
    {
      "cell_type": "markdown",
      "source": [
        "კლასებთან სამუშაო მეთოდები"
      ],
      "metadata": {
        "id": "W5oFsUoAMVGB"
      }
    },
    {
      "cell_type": "code",
      "source": [
        "#  __call__() - მეთოდი იძლევა კლასის ეგზემპლარზე ფუნქციის მსგავსად მიმართვის საშუალებას;\n",
        "\n",
        "class myClass:\n",
        "  def __init__(self, msg): # კლასის კონსტრუქტორი\n",
        "    self.attr_msg = msg # ატრიბუტი\n",
        "  def __call__(self):\n",
        "    print('method __call__() was called!')\n",
        "c = myClass('some text') # გამოვაცხადოთ კლასის ეგზემპლარი\n",
        "c() # გამოიძახება __call__() მეთოდი"
      ],
      "metadata": {
        "colab": {
          "base_uri": "https://localhost:8080/"
        },
        "id": "pvjQqOepMTgL",
        "outputId": "97ec2324-87cf-4e1f-cf25-6006d89436ff"
      },
      "execution_count": 81,
      "outputs": [
        {
          "output_type": "stream",
          "name": "stdout",
          "text": [
            "method __call__() was called!\n"
          ]
        }
      ]
    },
    {
      "cell_type": "code",
      "source": [
        "class Product:\n",
        "    def __init__(self):\n",
        "        print(\"Instance Created\")\n",
        "\n",
        "    # Defining __call__ method\n",
        "    def __call__(self, a, b):\n",
        "        print(a * b)\n",
        "\n",
        "# Instance created\n",
        "ans = Product()\n",
        "\n",
        "# __call__ method will be called\n",
        "ans(10, 20)"
      ],
      "metadata": {
        "id": "nz3uVE16d745",
        "outputId": "48a040d2-7aa9-47ce-dd66-6985c2a8c3dc",
        "colab": {
          "base_uri": "https://localhost:8080/"
        }
      },
      "execution_count": 82,
      "outputs": [
        {
          "output_type": "stream",
          "name": "stdout",
          "text": [
            "Instance Created\n",
            "200\n"
          ]
        }
      ]
    },
    {
      "cell_type": "code",
      "source": [
        "# __getattr__() - მეთოდის გამოძახება ხდება ატრიბუტზე მიმართვისას. თუ ატრიბუტი არსებობს ბრუნდება მისი მნიშვნელობა, წინააღმდეგ შემთხვევაში წარმოიშობა\n",
        "# განსაკუთრებული შემთხვევა. თუ კლასში განმარტებულია მეთოდი, მაშინ ბრუნდება მეთოდით განსაზღვრული შედეგი;\n",
        "\n",
        "class myClass:\n",
        "  def __init__(self, msg): # კლასის კონსტრუქტორი\n",
        "    self.attr_msg = msg # ატრიბუტი\n",
        "  def __getattr__(self, attr):\n",
        "    print('method __getattr__() was called!')\n",
        "      # თუ ატრიბუტი არ არსებობოს დავაბრუნოთ მნიშვნელობა 0 -ი\n",
        "    return 0\n",
        "\n",
        "c = myClass('some text') # გამოვაცხადოთ კლასის ეგზემპლარი\n",
        "\n",
        "# ხდება __getattr__() მეთოდის გამოძახება არ არსებული ატრიბუტისთვის\n",
        "print('c.attr_x = ', c.attr_x) # დაიბეჭდება 0\n",
        "\n",
        "# ხდება __getattr__() მეთოდის გამოძახება არსებული ატრიბუტისთვის\n",
        "print('c.attr_x = ', c.attr_msg) # დაიბეჭდება შესაბამისი შეტყობინება"
      ],
      "metadata": {
        "colab": {
          "base_uri": "https://localhost:8080/"
        },
        "id": "KYVWKPMSlKAb",
        "outputId": "2eb64eb2-0c97-4c10-e968-926ef036ede8"
      },
      "execution_count": 85,
      "outputs": [
        {
          "output_type": "stream",
          "name": "stdout",
          "text": [
            "method __getattr__() was called!\n",
            "c.attr_x =  0\n",
            "c.attr_x =  some text\n"
          ]
        }
      ]
    },
    {
      "cell_type": "code",
      "source": [
        "# __ setattr__() - მეთოდის გამოძახება ხდება კლასის ატრიბუტისთვის მნიშვნელობის დაყენების მცდელობისას;\n",
        "\n",
        "class myClass:\n",
        "  def __init__(self, msg): # კლასის კონსტრუქტორი\n",
        "    self.attr_msg = msg # ატრიბუტი\n",
        "  def __setattr__(self, attr, value):\n",
        "    print('method __setattr__() was called!')\n",
        "    # დავაყენოთ ატრიბუტის მნიშვნელობა\n",
        "    self.__dict__[attr] = value\n",
        "\n",
        "\n",
        "c = myClass('some text') # გამოვაცხადოთ კლასის ეგზემპლარი\n",
        "\n",
        "# შევცვალოთ attr_msg -ის მნიშვნელობა 'other text' მნიშვნელობით\n",
        "c.attr_msg = 'other text' # გამოიძახება __setattr__() მეთოდი\n",
        "print('c.attr_msg = ', c.attr_msg)\n",
        "\n",
        "# მოვახდინოთ ეგზემპლარისთვის ახალი ატრიბუტის შექმნა attr_new\n",
        "c.attr_new = 'New Attribute text' # გამოიძახება __setattr__() მეთოდი\n",
        "print('c.attr_new = ', c.attr_new)\n"
      ],
      "metadata": {
        "colab": {
          "base_uri": "https://localhost:8080/"
        },
        "id": "wUiuTOcmlhy7",
        "outputId": "592e3dd7-45ba-4d17-e382-447ed13a3f81"
      },
      "execution_count": 87,
      "outputs": [
        {
          "output_type": "stream",
          "name": "stdout",
          "text": [
            "method __setattr__() was called!\n",
            "method __setattr__() was called!\n",
            "c.attr_msg =  other text\n",
            "method __setattr__() was called!\n",
            "c.attr_new =  New Attribute text\n"
          ]
        }
      ]
    },
    {
      "cell_type": "code",
      "source": [
        "#  __del__() - მეთოდის გამოძახება ხდება del ოპერატორის გამოყენებით ობიექტის წაშლის მცდელობისას;\n",
        "\n",
        "class myClass:\n",
        "  def __init__(self, msg): # კლასის კონსტრუქტორი\n",
        "    self.attr_msg = msg # ატრიბუტი\n",
        "  def __del__(self):\n",
        "    print('method __del__() was called!')\n",
        "\n",
        "c = myClass('some text') # გამოვაცხადოთ კლასის ეგზემპლარი\n",
        "del c # გამოიძახება __del__() მეთოდი\n"
      ],
      "metadata": {
        "colab": {
          "base_uri": "https://localhost:8080/"
        },
        "id": "eGFwxEBylvnC",
        "outputId": "57f3d901-171a-41dd-e7c1-a152ac676cfd"
      },
      "execution_count": null,
      "outputs": [
        {
          "output_type": "stream",
          "name": "stdout",
          "text": [
            "method __del__() was called!\n"
          ]
        }
      ]
    },
    {
      "cell_type": "code",
      "source": [
        "# __len__() - მეთოდის გამოძახება ხდება len() ფუნქციის გამოყენების დროს;\n",
        "\n",
        "class myClass:\n",
        "  def __init__(self, msg1, msg2): # კლასის კონსტრუქტორი\n",
        "    self.attr_msg = msg1 # ატრიბუტი\n",
        "    self.attr_msg2 = msg2\n",
        "  def __len__(self):\n",
        "    print('method __len__() was called!')\n",
        "    # დავაბრუნოთ attr_msg ატრიბუტის სიგრძე\n",
        "    return len(str(self.attr_msg))\n",
        "\n",
        "\n",
        "c = myClass('some text', 'other') # გამოვაცხადოთ კლასის ეგზემპლარი\n",
        "\n",
        "# დავბეჭდოთ attr_msg ატრიბუტის სიგრძე\n",
        "print('c.attr_msg length is', len(c)) # გამოიძახება __len__() მეთოდი"
      ],
      "metadata": {
        "colab": {
          "base_uri": "https://localhost:8080/"
        },
        "id": "ADPHkyX1l5jb",
        "outputId": "06613815-0842-4b5c-ad4d-9ac6ba2c7533"
      },
      "execution_count": 89,
      "outputs": [
        {
          "output_type": "stream",
          "name": "stdout",
          "text": [
            "method __len__() was called!\n",
            "c.attr_msg length is 9\n"
          ]
        }
      ]
    },
    {
      "cell_type": "code",
      "source": [
        "# __str__() - მეთოდი გამოიყენება ობიექტის სტრიქონული წარმოდგენის მისაღებად.\n",
        "# ობიექტის მიმართ მეთოდის გამოძახება ხდება როგორც print() ფუნქციის გამოყენების\n",
        "# დროს, ისე str() ფუნქციის გამოყენების დროს.\n",
        "\n",
        "class myClass:\n",
        "  def __init__(self, msg): # კლასის კონსტრუქტორი\n",
        "    self.attr_msg = msg # ატრიბუტი\n",
        "  def __str__(self):\n",
        "    # დავაბრუნოთ კლასის ტექსტური გაფორმება\n",
        "    st = 'method __str__() was called!\\n'\n",
        "    st += f'attr_msg attribute text: { self. attr_msg }'\n",
        "    return st\n",
        "\n",
        "c = myClass('some text') # გამოვაცხადოთ კლასის ეგზემპლარი\n",
        "\n",
        "print(c) # გამოიძახება __str__() მეთოდი"
      ],
      "metadata": {
        "colab": {
          "base_uri": "https://localhost:8080/"
        },
        "id": "zoi3fbP6mEKU",
        "outputId": "2275df93-ab65-4d18-a471-3bd05f8d274a"
      },
      "execution_count": null,
      "outputs": [
        {
          "output_type": "stream",
          "name": "stdout",
          "text": [
            "method __str__() was called!\n",
            "attr_msg attribute text: some text\n"
          ]
        }
      ]
    },
    {
      "cell_type": "code",
      "source": [
        "#  __hash__() - ამ მეთოდის განსაზღვრა აუცილებელია თუ იგეგმება კლასის ეგზემპლარის გამოყენება ლექსიკონში გასაღების როლში.\n",
        "\n",
        "class myClass:\n",
        "  def __init__(self, msg): # კლასის კონსტრუქტორი\n",
        "    self.attr_msg = msg # ატრიბუტი\n",
        "  def __hash__(self):\n",
        "  # დავაბრუნოთ attr_msg ატრიბუტისთვის hash კოდის მნიშვნელობა\n",
        "    return hash(self.attr_msg)\n",
        "\n",
        "c = myClass('some text') # გამოვაცხადოთ კლასის ეგზემპლარი\n",
        "# დავბეჭდოთ attr_msg ატრიბუტის hash მნიშვნელობა\n",
        "print('hash(c) =', hash(c)) # გამოიძახება __hash__() მეთოდი\n"
      ],
      "metadata": {
        "id": "tnyacZ8emPM5",
        "outputId": "6c961d18-6a6a-430f-b058-5242877b24ad",
        "colab": {
          "base_uri": "https://localhost:8080/"
        }
      },
      "execution_count": null,
      "outputs": [
        {
          "output_type": "stream",
          "name": "stdout",
          "text": [
            "hash(c) = 1554729462071058942\n"
          ]
        }
      ]
    },
    {
      "cell_type": "code",
      "source": [
        "\"\"\"\n",
        "კლასიკურ ობიექტზე ორიენტირებულ ენებში, როგორიცაა C++ და JAVA, კლასის ატრიბუტებზე\n",
        "დაშვება იმართება public, protected და private გასაღები სიტყვების მეშვეობით. როგორც ვიცით,\n",
        "public მოდიფიკატორი იძლევა ატრიბუტზე კოდის ნებისმიერი ადგილიდან მიმართვის\n",
        "საშუალებით, protected მოდიფიკატორი იძლევა მემკვიდრე კლასიდან მშობელი კლასის\n",
        "ატრიბუტებზე მიმართვის საშუალებას, ხოლო private მოდიფიკატორი კი იძლევა მხოლოდ კლასის\n",
        "განმარტებისას ასეთ ატრიბუტებზე მიმართვის საშუალებას.\n",
        "Python ენაში არაა განსაზღვრული დაშვების მოდიფიკატორები და ამიტომ კლასის ყველა\n",
        "ატრიბუტი არის ღია (public) წვდომით, რაც ნიშნავს, რომ ისინი ხელმისაწვდომია კოდის ნებისმიერ\n",
        "ადგილას.\n",
        "\"\"\""
      ],
      "metadata": {
        "id": "VEfU7VfvGHu0"
      },
      "execution_count": null,
      "outputs": []
    },
    {
      "cell_type": "code",
      "source": [
        "class myClass:\n",
        "  def __init__(self, msg): # კლასის კონსტრუქტორი\n",
        "    self.msg = msg # public ატრიბუტი\n",
        "\n",
        "c = myClass('some text') # გამოვაცხადოთ კლასის ეგზემპლარი\n",
        "print(f'c.attr_msg = { c.msg }') # დავბეჭდოთ msg ატრიბუტის მნიშვნელობა\n",
        "\n",
        "c.msg = 'new text' # შევცვალოთ ატრიბუტის მნიშვნელობა\n",
        "print(f'c.msg = { c.msg }') # დავბეჭდოთ msg ატრიბუტის მნიშვნელობა"
      ],
      "metadata": {
        "colab": {
          "base_uri": "https://localhost:8080/"
        },
        "id": "QCrbBK_qGeqm",
        "outputId": "f6fda305-254e-4dc9-ed73-4f8aab9cdbb5"
      },
      "execution_count": 90,
      "outputs": [
        {
          "output_type": "stream",
          "name": "stdout",
          "text": [
            "c.attr_msg = some text\n",
            "c.msg = new text\n"
          ]
        }
      ]
    },
    {
      "cell_type": "code",
      "source": [
        "\"\"\"\n",
        "Python ენა იძლევა protected მოდიფიკატორის იმიტირების საშუალებას. ამის გეკეთება ხდება\n",
        "შემდეგი სინტაქსით:\n",
        "._<class_name>__<attribute_name>\n",
        "\"\"\""
      ],
      "metadata": {
        "id": "bvdv9tqoG_ZR"
      },
      "execution_count": null,
      "outputs": []
    },
    {
      "cell_type": "code",
      "source": [
        "class myClass:\n",
        "  def __init__(self, msg): # კლასის კონსტრუქტორი\n",
        "    print('myClass constructor was called')\n",
        "    self._myClass__msg = msg # protected ატრიბუტი\n",
        "\n",
        "class newClass(myClass): # მემკვიდრე კლასი\n",
        "  def __init__(self, msg): # კლასის კონსტრუქტორი\n",
        "    print('newClass constructor was called')\n",
        "    super().__init__(msg) # გამოვიძახოთ მშობელი კლასის კონსტრუქტორი\n",
        "    # b = myClass._myClass__msg\n",
        "\n",
        "c = newClass('some text') # გამოვაცხადოთ კლასის ეგზემპლარი\n",
        "print(f'c._myClass__msg = { c._myClass__msg }') # დავბეჭდოთ _myClass__msg ატრიბუტი\n",
        "\n",
        "c._myClass__msg = 'new text' # შევცვალოთ ატრიბუტის მნიშვნელობა\n",
        "print(f'c._myClass__msg = { c._myClass__msg }') # დავბეჭდოთ _myClass__msg ატრიბუტი\n",
        "\n",
        "# b = myClass._myClass__msg"
      ],
      "metadata": {
        "id": "MipqzRGFHCs3",
        "outputId": "27d8d8bd-4ce9-4256-cb40-c795548be53e",
        "colab": {
          "base_uri": "https://localhost:8080/"
        }
      },
      "execution_count": 91,
      "outputs": [
        {
          "output_type": "stream",
          "name": "stdout",
          "text": [
            "newClass constructor was called\n",
            "myClass constructor was called\n",
            "c._myClass__msg = some text\n",
            "c._myClass__msg = new text\n"
          ]
        }
      ]
    },
    {
      "cell_type": "code",
      "source": [
        "\"\"\"\n",
        "Python ენა იძლევა დახურული (private) ატრიბუტის იმიტირების საშუალებას. ამ მიზნით\n",
        "მიმართავენ ცვლადის დასახელებას, რომელიც იწყება ორი ქვედა ტირე (‘_’) სიმბოლოთი.\n",
        "\"\"\""
      ],
      "metadata": {
        "id": "W7_cqRBXHTNA"
      },
      "execution_count": null,
      "outputs": []
    },
    {
      "cell_type": "code",
      "source": [
        "class myClass:\n",
        "  def __init__(self, msg): # კლასის კონსტრუქტორი\n",
        "    self.__msg = msg # private ატრიბუტი\n",
        "  def setMSG(self, msg): # მეთოდი აყენებს ატრიბუტის მნიშვნელობას\n",
        "    self.__msg = msg\n",
        "  def getMSG(self): # მეთოდი აბრუნებს ატრიბუტის მნიშვნელობას\n",
        "    return self.__msg\n",
        "\n",
        "c = myClass('some text') # გამოვაცხადოთ კლასის ეგზემპლარი\n",
        "# print(myClass.getMSG())\n",
        "\n",
        "# კლასის მეთოდის გამოყენებით მოვახდინოთ ატრიბუტის მნიშვნელობის მიღება\n",
        "print(f'private ატრიბუტის საწყისი მნიშვნელობა: { c.getMSG() }')\n",
        "\n",
        "# ატრიბუტზე პირდაპირი მიმართვა გამოიწვევს AttributeError ტიპის შეცდომას\n",
        "try:\n",
        "  print(f'c.__msg = { c.__msg }') # ეს ფრაგმენტი გამოიწვევს შეცდომას\n",
        "except AttributeError:\n",
        "  print('private ატრიბუტზე დაფიქსირდა არასანქცირებული მიმართვა')\n",
        "\n",
        "c.setMSG('new text') # შევცვალოთ private ატრიბუტის მნიშვნელობა კლასის მეთოდის გამოყენებით\n",
        "print(f'private ატრიბუტის შეცვლილი მნიშვნელობა: { c.getMSG() }')\n",
        "# კლასის private ატრიბუტზე პირდაპირი მიმართვა მნიშვნელობის შეცვლის მიზნით გამოიწვევს\n",
        "# ეგზემპლარისთვის დინამიური ატრიბუტის შექმნას\n",
        "c.__msg = 'other text'\n",
        "# დავბეჭდოთ ატრიბუტის მნიშვნელობა პირდაპირ მიმართვით და კლასის მეთოდის გამოყენებით\n",
        "print(f'დინამიური ატრიბუტი: { c.__msg }')\n",
        "print(f'დახურული ატრიბუტი: { c.getMSG() }')"
      ],
      "metadata": {
        "colab": {
          "base_uri": "https://localhost:8080/"
        },
        "id": "zeA6B1QaHVHi",
        "outputId": "66213064-91b1-4b19-ea7e-38fd846ee712"
      },
      "execution_count": 92,
      "outputs": [
        {
          "output_type": "stream",
          "name": "stdout",
          "text": [
            "private ატრიბუტის საწყისი მნიშვნელობა: some text\n",
            "private ატრიბუტზე დაფიქსირდა არასანქცირებული მიმართვა\n",
            "private ატრიბუტის შეცვლილი მნიშვნელობა: new text\n",
            "დინამიური ატრიბუტი: other text\n",
            "დახურული ატრიბუტი: new text\n"
          ]
        }
      ]
    },
    {
      "cell_type": "markdown",
      "source": [
        "სტატიკური მეთოდები და კლასის მეთოდები"
      ],
      "metadata": {
        "id": "2tQxagF1IBy2"
      }
    },
    {
      "cell_type": "code",
      "source": [
        "\"\"\"\n",
        "კლასში შეიძლება განვსაზღვროთ მეთოდი, რომლის გამოყენება იქნება შესაძლებელი კლასის\n",
        "ეგზემპლარის შექმნის გარეშე. ამისათვის საჭიროა კლასის განმარტებაში მეთოდის წინ\n",
        "გამოყენებული იქნას დეკორატორი @staticmethod. სტატიკური მეთოდის გამოძახება კლასის\n",
        "ეგზემპლარის შექმნის გარეშე შესაძლებელია შემდეგი ფორმით:\n",
        "<class_name>.<method_name>(parameters)\n",
        "\"\"\""
      ],
      "metadata": {
        "id": "3BSNQi3UICQH"
      },
      "execution_count": null,
      "outputs": []
    },
    {
      "cell_type": "code",
      "source": [
        "class myClass:\n",
        " @staticmethod # დეკორატორი\n",
        " def staticMethod(x, y): # სტატიკური მეთოდი\n",
        "  return x + y\n",
        "\n",
        "# გამოვიძახოთ სტატიკური მეთოდის კლასის სახელის მეშვეობით\n",
        "print('calling from class:', myClass.staticMethod(10, 20))\n",
        "\n",
        "c = myClass() # გამოვაცხადოთ კლასის ეგზემპლარი\n",
        "# გამოვიძახოთ სტატიკური მეთოდის კლასის ეგზემპლარიდან\n",
        "print('calling from object:', c.staticMethod(50, 100))"
      ],
      "metadata": {
        "colab": {
          "base_uri": "https://localhost:8080/"
        },
        "id": "nHNJKSIvIHGw",
        "outputId": "25201ea1-661e-432f-be37-90c193646943"
      },
      "execution_count": 18,
      "outputs": [
        {
          "output_type": "stream",
          "name": "stdout",
          "text": [
            "calling from class: 30\n",
            "calling from object: 150\n"
          ]
        }
      ]
    },
    {
      "cell_type": "code",
      "source": [
        "\"\"\"\n",
        "როგორც კოდიდან ვხედავთ სტატიკურ მეთოდის პარამეტრებში არაა გამოყენებული\n",
        "პარამეტრი self. რაც ნიშნავს, რომ სტატიკური მეთოდის შიგნით კლასის ეგზემპლარის\n",
        "ატრიბუტებზე და მეთოდებზე მიმართვა შეუძლებელია.\n",
        "ამ მიზნით კლასის მეთოდების მიმართ შესაძლებელია გამოყენებული იქნას დეკორატორი\n",
        "@classmethod. ასეთ შემთხვევაში კლასის მეთოდის პირველ პარამეტრად უნდა მოხდეს კლასის\n",
        "სახელის გადაცემა და არა კლასის ეგზემპლარის.\n",
        "\"\"\""
      ],
      "metadata": {
        "id": "txUfQiqahG8l"
      },
      "execution_count": null,
      "outputs": []
    },
    {
      "cell_type": "markdown",
      "source": [
        "https://www.programiz.com/python-programming/methods/built-in/classmethod"
      ],
      "metadata": {
        "id": "YyprdY7OmvY5"
      }
    },
    {
      "cell_type": "code",
      "source": [
        "class myClass:\n",
        "  def __init__(self, x):\n",
        "    self.attr_x = x\n",
        "    # self.attr_y = y\n",
        "\n",
        "  @classmethod # დეკორატორი\n",
        "  def classMethod(cls, x): # კლასის მეთოდი\n",
        "    dec = cls(x)\n",
        "    return dec # მეთოდი აბრუნებს ობიექტს\n",
        "\n",
        "# დავბეჭდოთ ატრიბუტის მნიშვნელობა კლასის სახელის გამოყენებით\n",
        "print('getting attr_x attribute from myClass: ', myClass.classMethod(20).attr_x)\n",
        "\n",
        "c = myClass(50)\n",
        "# დავბეჭდოთ ატრიბუტის მნიშვნელობა კლასის ეგზემპლარის გამოყენებით\n",
        "print('getting attr_x attribute from object: ', c.classMethod(30).attr_x)"
      ],
      "metadata": {
        "id": "_RnOjEYohKIt",
        "outputId": "6ee5438f-dfa8-4455-ee8d-e904f364207f",
        "colab": {
          "base_uri": "https://localhost:8080/"
        }
      },
      "execution_count": 19,
      "outputs": [
        {
          "output_type": "stream",
          "name": "stdout",
          "text": [
            "getting attr_x attribute from myClass:  20\n",
            "getting attr_x attribute from object:  30\n"
          ]
        }
      ]
    },
    {
      "cell_type": "markdown",
      "source": [
        "კლასის დეკორატორი"
      ],
      "metadata": {
        "id": "ygmtsgnXiMCw"
      }
    },
    {
      "cell_type": "code",
      "source": [
        "\"\"\"\n",
        "Python ენაში მეთოდების დეკორატორების გარდა მხარდაჭერილია კლასის დეკორატორიც,\n",
        "რომელიც იძლევა კლასის თვისების შეცვლის საშუალებას. პარამეტრის როლში დეკორატორი\n",
        "ღებულობს მიმთითებელს კლასის ობიექტზე და შედეგად აბრუნებს იმავე კლასზე ან სხვა კლასზე\n",
        "მიმთითებელს.\n",
        "\"\"\""
      ],
      "metadata": {
        "id": "HmaubzviiLS5"
      },
      "execution_count": null,
      "outputs": []
    },
    {
      "cell_type": "code",
      "source": [
        "def ClassDecorator(cls): # კლასის დეკორატორი\n",
        "  print('Colling ClassDecorator!')\n",
        "  return cls # დავაბრუნოთ კლასის მიმთითებელი\n",
        "\n",
        "@ClassDecorator\n",
        "class myClass:\n",
        "  print('Colling myClass!')\n",
        "  def __init__(self, x):\n",
        "    self.attr_x = x\n",
        "\n",
        "c = myClass(5) # შევქმნათ კლასის ეგზემპლარი\n",
        "print('c.attr_x = ', c.attr_x)\n"
      ],
      "metadata": {
        "colab": {
          "base_uri": "https://localhost:8080/"
        },
        "id": "tRQRT-_3iTPM",
        "outputId": "76653958-0274-4c44-b9b9-93a68676ec32"
      },
      "execution_count": 20,
      "outputs": [
        {
          "output_type": "stream",
          "name": "stdout",
          "text": [
            "Colling myClass!\n",
            "Colling ClassDecorator!\n",
            "c.attr_x =  5\n"
          ]
        }
      ]
    },
    {
      "cell_type": "markdown",
      "source": [
        "მემკვიდრეობა"
      ],
      "metadata": {
        "id": "LdqrCHVSimgF"
      }
    },
    {
      "cell_type": "code",
      "source": [
        "\"\"\"\n",
        "მემკვიდრეობა წარმოადგენს ობიექტზე ორიენტირებული პროგრამირების ერთერთ\n",
        "მნიშვნელოვან ცნებას. მემკვიდრეობის მეშვეობით შესაძლებელია შეიქმნას ახალი (მემკვიდრე)\n",
        "კლასი, რომელშიც ხელმისაწვდომი იქნება წარმომქმნელი (მშობელი) კლასის ყველა ატრიბუტი და\n",
        "მეთოდი.\n",
        "\"\"\""
      ],
      "metadata": {
        "id": "7VJGabgBimFl"
      },
      "execution_count": null,
      "outputs": []
    },
    {
      "cell_type": "code",
      "source": [
        "class Class1: # ბაზისური კლასი\n",
        "  def func1(self):\n",
        "    print('method func1() of class Class1')\n",
        "  def func2(self):\n",
        "    print('method func2() of class Class1')\n",
        "\n",
        "class Class2(Class1): # მემკვიდრე კლასი\n",
        "  def func3(self):\n",
        "    print('method func3() of class Class2')\n",
        "c = Class2() # შევქმნათ მემკვიდრე კლასის ეგზემპლარი\n",
        "\n",
        "c.func1() # გამოვიძახოთ ბაზისური კლასის ფუნქცია func1()\n",
        "c.func2() # გამოვიძახოთ ბაზისური კლასის ფუნქცია func2()\n",
        "c.func3() # გამოვიძახოთ საკუთარი კლასის ფუნქცია func3()"
      ],
      "metadata": {
        "colab": {
          "base_uri": "https://localhost:8080/"
        },
        "id": "d5NWO2OditY_",
        "outputId": "7decac6b-83fd-46af-f5df-dd4b866cf677"
      },
      "execution_count": null,
      "outputs": [
        {
          "output_type": "stream",
          "name": "stdout",
          "text": [
            "method func1() of class Class1\n",
            "method func2() of class Class1\n",
            "method func3() of class Class2\n"
          ]
        }
      ]
    },
    {
      "cell_type": "code",
      "source": [
        "\"\"\"\n",
        "მშობელ და მემკვიდრე კლასებში შესაძლებელია განსაზღვრული იყოს ერთიდაიმავე სახელის\n",
        "მქონე მეთოდები. ასეთ შემთხვევაში მემკვიდრე კლასიდან შესაბამის მეთოდზე მიმართვისას\n",
        "მოხდება საკუთარი (შვილი) კლასის მეთოდის გამოძახება.\n",
        "\"\"\""
      ],
      "metadata": {
        "id": "X96rH_ZwjSp7"
      },
      "execution_count": null,
      "outputs": []
    },
    {
      "cell_type": "code",
      "source": [
        "class Class1: # ბაზისური კლასი\n",
        "  def __init__(self):\n",
        "    print('method __init__() of class Class1')\n",
        "  def func1(self):\n",
        "    print('method func1() of class Class1')\n",
        "\n",
        "class Class2(Class1): # მემკვიდრე კლასი\n",
        "  def __init__(self):\n",
        "    print('method __init__() of class Class2')\n",
        "  def func1(self):\n",
        "    print('method func1() of class Class2')\n",
        "\n",
        "c = Class2() # შევქმნათ მემკვიდრე კლასის ეგზემპლარი\n",
        "c.func1() # გამოვიძახოთ ფუნქცია func1()"
      ],
      "metadata": {
        "colab": {
          "base_uri": "https://localhost:8080/"
        },
        "id": "T20rlf6BjUJM",
        "outputId": "ef2125a3-7545-47fb-e90e-da79cafd7b70"
      },
      "execution_count": 21,
      "outputs": [
        {
          "output_type": "stream",
          "name": "stdout",
          "text": [
            "method __init__() of class Class2\n",
            "method func1() of class Class2\n"
          ]
        }
      ]
    },
    {
      "cell_type": "code",
      "source": [
        "\"\"\"\n",
        "იმისათვის რომ წარმოქმნილ კლასიდან მოვახდინოთ ბაზისური კლასის იმავე სახელის მქონე\n",
        "მეთოდის გამოძახება საჭიროა გამოვიყენოთ ქვემოთ ჩამოთვლილი რამდენიმე შესაძლებლობიდან\n",
        "ერთერთი:\n",
        "1. მეთოდის წინ ცხადად მივუთითოთ მშობელი კლასის სახელი\n",
        "Class1.func1()\n",
        "2. გამოვიყენოთ ფუნქცია super()\n",
        "super()\n",
        "\"\"\""
      ],
      "metadata": {
        "id": "a4LXqpRTjldc"
      },
      "execution_count": null,
      "outputs": []
    },
    {
      "cell_type": "code",
      "source": [
        "class Class1: # ბაზისური კლასი\n",
        "  def __init__(self): # მშობელი კლასის კონსტრუქტორი\n",
        "    print('method __init__() of class Class1')\n",
        "  def func1(self):\n",
        "    print('method func1() of class Class1')\n",
        "\n",
        "class Class2(Class1): # მემკვიდრე კლასი\n",
        "  def __init__(self): # მემკვიდრე კლასის კონსტრუქტორი\n",
        "    print('method __init__() of class Class2')\n",
        "    Class1.__init__(self) # გამოვიძახოთ მშობელი კლასის კონსტრუქტორი\n",
        "  # super().__init__() # ალტერნატიული ვარიანტი\n",
        "\n",
        "  def func1(self):\n",
        "    print('method func1() of class Class2')\n",
        "    Class1.func1(self) # გამოვიძახოთ მშობელი კლასის მეთოდი\n",
        "    # super().func1() # ალტერნატიული ვარიანტი\n",
        "\n",
        "c = Class2() # შევქმნათ მემკვიდრე კლასის ეგზემპლარი\n",
        "c.func1() # გამოვიძახოთ ფუნქცია func1()"
      ],
      "metadata": {
        "colab": {
          "base_uri": "https://localhost:8080/"
        },
        "id": "dl6F4Rxbjoul",
        "outputId": "f91c224b-5a50-4f5f-e38f-cf44353cc6c3"
      },
      "execution_count": null,
      "outputs": [
        {
          "output_type": "stream",
          "name": "stdout",
          "text": [
            "method __init__() of class Class2\n",
            "method __init__() of class Class1\n",
            "method func1() of class Class2\n",
            "method func1() of class Class1\n"
          ]
        }
      ]
    },
    {
      "cell_type": "markdown",
      "source": [
        "მრავლობითი მემკვიდრეობა"
      ],
      "metadata": {
        "id": "pEbI4gf9kBHT"
      }
    },
    {
      "cell_type": "code",
      "source": [
        "\"\"\"\n",
        "Python ენაში შესაძლებელია მრავლობითი მემკვიდრეობის გამოყენება.\n",
        "ამისათვის საჭიროა კლასის განმარტებისას მრგვალ ფრჩხილებში ჩამოვთვალოთ ის კლასები,\n",
        "რომლებიდანაც საჭიროა მემკვიდრეობის მიღება.\n",
        "\"\"\""
      ],
      "metadata": {
        "id": "KcJpE-axkBfu"
      },
      "execution_count": null,
      "outputs": []
    },
    {
      "cell_type": "code",
      "source": [
        "class Class1:\n",
        "  def func1(self):\n",
        "    print('method funqc1 of class Class1')\n",
        "\n",
        "class Class2(Class1): # Class1 მემკვიდრე კლასი\n",
        "  def func2(self):\n",
        "    print('method funqc2 of class Class2')\n",
        "\n",
        "class Class3(Class1): # Class1 მემკვიდრე კლასი\n",
        "  def func1(self):\n",
        "    print('method funqc1 of class Class3')\n",
        "  def func2(self):\n",
        "    print('method funqc2 of class Class3')\n",
        "  def func3(self):\n",
        "    print('method funqc3 of class Class3')\n",
        "  def func4(self):\n",
        "    print('method funqc2 of class Class3')\n",
        "\n",
        "class Class4(Class2, Class3): # მრავლობითი მემკვიდრეობა\n",
        "  def func4(self):\n",
        "    print('method funqc4 of class Class4')\n",
        "\n",
        "c = Class4() # შევქმნათ Class4 კლასის ეგზემპლარი\n",
        "c.func1() # გამოვიძახოთ func1() მეთოდი\n",
        "c.func2() # გამოვიძახოთ func2() მეთოდი\n",
        "c.func3() # გამოვიძახოთ func3() მეთოდი\n",
        "c.func4() # გამოვიძახოთ func4() მეთოდი"
      ],
      "metadata": {
        "colab": {
          "base_uri": "https://localhost:8080/"
        },
        "id": "LoCs-kP1kLMr",
        "outputId": "cca28dd4-c76f-47eb-859a-8bf6f284d24f"
      },
      "execution_count": null,
      "outputs": [
        {
          "output_type": "stream",
          "name": "stdout",
          "text": [
            "method funqc1 of class Class3\n",
            "method funqc2 of class Class2\n",
            "method funqc3 of class Class3\n",
            "method funqc4 of class Class4\n"
          ]
        }
      ]
    },
    {
      "cell_type": "markdown",
      "source": [
        "აბსტრაქტული მეთოდები"
      ],
      "metadata": {
        "id": "O1wW3pMtkq7H"
      }
    },
    {
      "cell_type": "code",
      "source": [
        "\"\"\"\n",
        "აბსტრაქტული მეთოდი წარმოადგენს მეთოდს რეალიზაციის გარეშე. იგულისხმება, რომ ასეთი\n",
        "მეთოდის საკუთარი რეალიზაცია უნდა განახორციელოს მემკვიდრე კლასმა. იმისათვის, რომ\n",
        "მემკვიდრე კლასში საკუთარი რეალიზაციის გაკეთების აუცილებლობას გაესვას ხაზი საჭიროა\n",
        "მეთოდში ხელოვნურად მოხდეს განსაკუთრებული შემთხვევის პროვოცირება:\n",
        "NotImplementedError.\n",
        "\"\"\""
      ],
      "metadata": {
        "id": "CZxsG4d0lE9V"
      },
      "execution_count": null,
      "outputs": []
    },
    {
      "cell_type": "code",
      "source": [
        "class Class1:\n",
        " def func(self, x): # აბსტრაქტული მეთოდი\n",
        "  # პროვოცირება გავუკეთოთ განსაკუთრებულ შემთხვევას\n",
        "  st = 'method does not redefine!\\n'\n",
        "  st += 'it is necessary to define method'\n",
        "  raise NotImplementedError(st)\n",
        "\n",
        "class Class2(Class1): # მემკვიდრეობით მივიღეთ აბსტრაქტული მეთოდი\n",
        "  def func(self, x): # მოვახდინოთ მეთოდის გადატვირთვა\n",
        "    print('x variable has value:', x)\n",
        "\n",
        "class Class3(Class1): # მემკვიდრეობით მივიღეთ აბსტრაქტული მეთოდი\n",
        "  pass # არ ხდება მეთოდის გადატვირთვა\n",
        "\n",
        "\n",
        "c1 = Class2()\n",
        "c1.func(25) # დაიბეჭდება 25\n",
        "c2 = Class3()\n",
        "try: # დავიჭიროთ განსაკუთრებული შემთხვევა\n",
        "  print('calling Class3 object: c2')\n",
        "  c2.func(25) # შეცდომა. func() მეთოდი არაა გადატვირთული\n",
        "except NotImplementedError as msg:\n",
        "  print(msg) # დავბეჭდოთ შეცდომის აღმნიშვნელი შეტყობინება"
      ],
      "metadata": {
        "colab": {
          "base_uri": "https://localhost:8080/"
        },
        "id": "BgJi2zXTkrr8",
        "outputId": "b0fac28b-681b-4d73-acb2-909121b15a0d"
      },
      "execution_count": 96,
      "outputs": [
        {
          "output_type": "stream",
          "name": "stdout",
          "text": [
            "x variable has value: 25\n",
            "calling Class3 object: c2\n",
            "method does not redefine!\n",
            "it is necessary to define method\n"
          ]
        }
      ]
    },
    {
      "cell_type": "code",
      "source": [
        "\"\"\"\n",
        "კლასში აბსტრაქტული მეთოდის გამოყენების აუცილებლობის შემთხვევისთვის Python ენის\n",
        "მოდული abc -ში განსაზღვრულია დეკორატორი @abstractmethod. მეთოდის გამოყენება უნდა\n",
        "მოხდეს დეკორირების ობიექტის (მეთოდის) წინ. ასეთი კლასიდან მემკვიდრეობის მიღების\n",
        "შემთხვევაში, თუ მემკვიდრე კლასში არ იქნება გადატვირთული შესაბამისი მეთოდი, მაშინ\n",
        "წარმოიშობა განსაკუთრებული შემთხვევა: TypeError.\n",
        "\"\"\""
      ],
      "metadata": {
        "id": "glVB3iEJlRqe"
      },
      "execution_count": null,
      "outputs": []
    },
    {
      "cell_type": "code",
      "source": [
        "from abc import ABCMeta, abstractmethod\n",
        "class Class1(metaclass=ABCMeta):\n",
        "  @abstractmethod\n",
        "  def func(self, x): # აბსტრაქტული მეთოდი\n",
        "    pass\n",
        "\n",
        "# მემკვიდრეობით მივიღეთ აბსტრაქტული მეთოდი\n",
        "class Class2(Class1):\n",
        "  def func(self, x): # მოვახდინოთ მეთოდის გადატვირთვა\n",
        "    print('x')\n",
        "\n",
        "# მემკვიდრეობით მივიღეთ აბსტრაქტული მეთოდი\n",
        "class Class3(Class1):\n",
        "  pass # არ ხდება მეთოდის გადატვირთვა\n",
        "c1 = Class2()\n",
        "c1.func(25) # დაიბეჭდება 25\n",
        "try: # დავიჭიროთ განსაკუთრებული შემთხვევა\n",
        "  c2 = Class3() # შეცდომა. func() მეთოდი არაა გადატვირთული\n",
        "  c.func2() # გამოიწვევს განსაკუთრებული შემთხვევის წარმოშობას\n",
        "except TypeError as msg:\n",
        "  print(msg) # დავბეჭდოთ შეცდომის აღმნიშვნელი შეტყობინება"
      ],
      "metadata": {
        "colab": {
          "base_uri": "https://localhost:8080/"
        },
        "id": "-aanOHfQksar",
        "outputId": "14b64df2-fab0-4984-a8be-995ddedad0f1"
      },
      "execution_count": 97,
      "outputs": [
        {
          "output_type": "stream",
          "name": "stdout",
          "text": [
            "x\n",
            "Can't instantiate abstract class Class3 with abstract method func\n"
          ]
        }
      ]
    },
    {
      "cell_type": "markdown",
      "source": [
        "#პოლიმორფიზმი"
      ],
      "metadata": {
        "id": "ksB37k-4pXSA"
      }
    },
    {
      "cell_type": "markdown",
      "source": [
        "ოპერატორების გადატვირთვა"
      ],
      "metadata": {
        "id": "HyGObnnJprL6"
      }
    },
    {
      "cell_type": "code",
      "source": [
        "\"\"\"\n",
        "ოპერატორების გადატვირთვა იძლევა საშუალებას სტანდარტული ტიპების შემთხვევის\n",
        "მსგავსად გამოვიყენოთ ოპერატორები კლასის ეგზემპლარის მიმართ. ოპერატორების\n",
        "გადატვირთვისთვის საჭიროა კლასის განმარტებაში იყოს განსაზღვრული სპეციალური\n",
        "დანიშნულების მქონე მეთოდები.\n",
        "\"\"\""
      ],
      "metadata": {
        "id": "AUrshGkGpYHF"
      },
      "execution_count": null,
      "outputs": []
    },
    {
      "cell_type": "markdown",
      "source": [
        "#მათემატიკური ოპერატორების გადატვირთვის სპეციალური მეთოდები"
      ],
      "metadata": {
        "id": "V_tmXB5Dp8Ct"
      }
    },
    {
      "cell_type": "markdown",
      "source": [
        "![Screenshot 2024-02-06 130341.png](data:image/png;base64,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)"
      ],
      "metadata": {
        "id": "vAgyrYFzGb__"
      }
    },
    {
      "cell_type": "code",
      "source": [
        "class myClass:\n",
        "  def __init__(self, x): # კონსტრუქტორი\n",
        "    self.x_attr = x\n",
        "  # განვსაზღვროთ შეკრების ოპერატორი\n",
        "\n",
        "  def __add__(self, y):\n",
        "  # თუ ატრიბუტი მარცხენა მხარეს იქნება გამოყენებული\n",
        "    return self.x_attr + y.x_attr\n",
        "\n",
        "  def __radd__(self, y):\n",
        "  # თუ ატრიბუტი მარჯვენა მხარეს იქნება გამოყენებული\n",
        "    return self.x_attr + y.x_attr\n",
        "\n",
        "  def __iadd__(self, y):\n",
        "  # მიმატება მინიჭებით\n",
        "    self.x_attr += y.x_attr\n",
        "    return self\n",
        "\n",
        "  def __ed__(self, y):\n",
        "  # გადავტვირთოთ == ოპერატორი\n",
        "    return self.x_attr == y.x_attr\n",
        "\n",
        "  # განვსაზღვროთ __str__() მეთოდი\n",
        "  def __str__(self):\n",
        "    return f'{self.x_attr}'\n",
        "# გამოვაცხადოთ კლასის ორი ეგზემპლარი\n",
        "c1, c2 = myClass(20), myClass(30)\n",
        "print(f'c1 = { c1 }\\nc2 = { c2 }')\n",
        "print('using addition operation:')\n",
        "print(f' left member: { c1 } + { c2 } = { c1 + c2 }')\n",
        "print(f' right member: { c2 } + { c1 } = { c2 + c1 }')\n",
        "c = c1\n",
        "# შევამოწმოთ არის თუ არა c და c1 ერთიდაიგივე ობიექტი\n",
        "print('after assignment: c = c1')\n",
        "print('using += operation:')\n",
        "print( ' c and c1 are same' if c == c1 else ' c and c1 are different' )\n",
        "print(' Before: c = ', c)\n",
        "c += c2 # გამოიძახება __iadd__() მეთოდი\n",
        "print(' After : c = ', c)"
      ],
      "metadata": {
        "colab": {
          "base_uri": "https://localhost:8080/"
        },
        "id": "NPsIO-CTrSYT",
        "outputId": "a79604b5-d804-40b5-9932-9800f3077a88"
      },
      "execution_count": 25,
      "outputs": [
        {
          "output_type": "stream",
          "name": "stdout",
          "text": [
            "c1 = 20\n",
            "c2 = 30\n",
            "using addition operation:\n",
            " left member: 20 + 30 = 50\n",
            " right member: 30 + 20 = 50\n",
            "after assignment: c = c1\n",
            "using += operation:\n",
            " c and c1 are same\n",
            " Before: c =  20\n",
            " After : c =  50\n"
          ]
        }
      ]
    },
    {
      "cell_type": "code",
      "source": [],
      "metadata": {
        "id": "QOtmzHytqnk-"
      },
      "execution_count": null,
      "outputs": []
    },
    {
      "cell_type": "code",
      "source": [
        "LNames = ['აბაშიძე','ანთიძე','არჩვაძე','ახალაია','ბაძაღუა','ბერიანიძე','ბერიშვილი','გვენცაძე','გიგაური','გიორგაძე','გოგალაძე',\n",
        "          'გოცირიძე','დალაქიშვილი','ვარდიძე','ზარანდია','თადუმაძე','კანკია','კაპანაძე','კასრაძე','კვარაცხელია','კვესელავა',\n",
        "          'კვინიკაძე','კოპაძე','კორძაია','კუსრაძე','ლაბაძე','ლაცაბიძე','მაისურაძე','მარჯანიძე','მაჩალაძე','მაცაბერიძე','მელია',\n",
        "          'მეტრეველი','მიქავა','მიქაძე','მოდებაძე','მონიავა'\n",
        "          ]\n",
        "GNames = ['ანა','ანუკი','ბარბარე','გვანცა','დიანა','ეკა','ელენე','ვერონიკა','ვიქტორია','თათია','თამარი','თეა','თეკლე', 'თინიკო',\n",
        "          'იზაბელა','ია','იამზე','ლია','ლიკა','ლანა','ლამზირა','მარიკა','მანანა','მაია','მაკა','მარიამი','ნანა','ნანი','ნატა','ნატო',\n",
        "          'ნია','ნინო','ნონა','ოლიკო','სალომე','სოფიკო','ქეთევანი','ქრისტინე','შორენა','ხატია']\n",
        "\n",
        "BNames = ['ალეკო','ალიკა','ამირან','ანდრია','არჩილი','ასლანი','ბაჩუკი','ბექა''გიგა','გიგი','გიორგი','გოგა','დავითი','დათა',\n",
        "          'ერეკლე','თემური','იაკობ','ილია','ირაკლი','ლადო','ლაშა','მიხეილ','ნიკა','ოთარი','პაატა','რამაზ','რამინი','რატი',\n",
        "          'რაული','რევაზი','რომა','რომანი','საბა','სანდრო','სერგი','სიმონ','შალვა','შოთა','ცოტნე','ჯაბა','ჯემალ']\n",
        "\n",
        "Subject = ['კომპიუტერული უნარ-ჩვევები', 'ფიზიკის შესავალი','ქიმიის შესავალი','კალკულუსი II',\n",
        "           'პროგრამირების საფუძვლები','ობიექტზე ორიენტირებული პროგრამირება: C++','ალგორითმებიI',\n",
        "           'ალგორითმები II','მონაცემთა სტრუქტურები']"
      ],
      "metadata": {
        "id": "hdrMeXdoAgYu"
      },
      "execution_count": 26,
      "outputs": []
    },
    {
      "cell_type": "code",
      "source": [
        "class students:\n",
        "  def __init__(self, surname, name, sub, deg):\n",
        "    self.surname = surname\n",
        "    self.name = name\n",
        "    self.sub = sub\n",
        "    self.deg = deg\n",
        "\n",
        "  def __str__(self):\n",
        "    return (f\"stud info: surname {self.surname}, name {self.name}, subject {self.sub}, deg {self.deg}\")\n",
        "\n",
        "\n",
        "  def __getattr__(self):\n",
        "    return 0\n",
        "\n",
        "  def __setattr__(self, key, atrr):\n",
        "    self.__dict__[key] = atrr"
      ],
      "metadata": {
        "id": "6kWLZdZ-Amlx"
      },
      "execution_count": 38,
      "outputs": []
    },
    {
      "cell_type": "code",
      "source": [
        "class m:\n",
        "  __pq = 10\n",
        "  def __init__(self, a, b):\n",
        "    self.a = a\n",
        "    self.b = b"
      ],
      "metadata": {
        "id": "oFzUlcX2PRw2"
      },
      "execution_count": 50,
      "outputs": []
    },
    {
      "cell_type": "code",
      "source": [
        "c = m(1,2)\n",
        "print(dir(m))\n",
        "c._m__pq"
      ],
      "metadata": {
        "id": "0klO6olVPZyM",
        "outputId": "5c1ae0cf-8112-4c1c-8868-19a0e6f657ea",
        "colab": {
          "base_uri": "https://localhost:8080/"
        }
      },
      "execution_count": 52,
      "outputs": [
        {
          "output_type": "stream",
          "name": "stdout",
          "text": [
            "['__class__', '__delattr__', '__dict__', '__dir__', '__doc__', '__eq__', '__format__', '__ge__', '__getattribute__', '__gt__', '__hash__', '__init__', '__init_subclass__', '__le__', '__lt__', '__module__', '__ne__', '__new__', '__reduce__', '__reduce_ex__', '__repr__', '__setattr__', '__sizeof__', '__str__', '__subclasshook__', '__weakref__', '_m__pq']\n"
          ]
        },
        {
          "output_type": "execute_result",
          "data": {
            "text/plain": [
              "10"
            ]
          },
          "metadata": {},
          "execution_count": 52
        }
      ]
    },
    {
      "cell_type": "code",
      "source": [
        "import random\n",
        "stud = []\n",
        "\n",
        "for i in range(100):\n",
        "  s = students(random.choice(LNames), random.choice([random.choice(GNames), random.choice(BNames)]),\n",
        "               random.choice(Subject), random.choice(range(1,101)))\n",
        "  stud.append(s)\n",
        "\n",
        "for i in range(len(stud)):\n",
        "  print(stud[i])"
      ],
      "metadata": {
        "id": "YgMim1heB05M",
        "outputId": "3946ab90-57ac-4faf-a1ea-f4c5d6f8d634",
        "colab": {
          "base_uri": "https://localhost:8080/"
        }
      },
      "execution_count": 39,
      "outputs": [
        {
          "output_type": "stream",
          "name": "stdout",
          "text": [
            "stud info: surname ახალაია, name სიმონ, subject მონაცემთა სტრუქტურები, deg 74\n",
            "stud info: surname მოდებაძე, name რატი, subject ალგორითმებიI, deg 73\n",
            "stud info: surname კანკია, name რაული, subject ქიმიის შესავალი, deg 46\n",
            "stud info: surname გვენცაძე, name იაკობ, subject ფიზიკის შესავალი, deg 73\n",
            "stud info: surname მოდებაძე, name ოლიკო, subject ფიზიკის შესავალი, deg 43\n",
            "stud info: surname ზარანდია, name ცოტნე, subject კალკულუსი II, deg 99\n",
            "stud info: surname კანკია, name ანა, subject კალკულუსი II, deg 15\n",
            "stud info: surname მაცაბერიძე, name რატი, subject ფიზიკის შესავალი, deg 89\n",
            "stud info: surname კვესელავა, name ასლანი, subject მონაცემთა სტრუქტურები, deg 23\n",
            "stud info: surname ვარდიძე, name სერგი, subject ფიზიკის შესავალი, deg 98\n",
            "stud info: surname აბაშიძე, name გიგი, subject ქიმიის შესავალი, deg 28\n",
            "stud info: surname ლაცაბიძე, name ბაჩუკი, subject ქიმიის შესავალი, deg 31\n",
            "stud info: surname მიქავა, name მარიამი, subject ფიზიკის შესავალი, deg 12\n",
            "stud info: surname მიქავა, name ირაკლი, subject ქიმიის შესავალი, deg 25\n",
            "stud info: surname ლაცაბიძე, name მიხეილ, subject კომპიუტერული უნარ-ჩვევები, deg 70\n",
            "stud info: surname მიქაძე, name ია, subject კომპიუტერული უნარ-ჩვევები, deg 60\n",
            "stud info: surname მარჯანიძე, name ცოტნე, subject კალკულუსი II, deg 63\n",
            "stud info: surname ბაძაღუა, name გვანცა, subject კომპიუტერული უნარ-ჩვევები, deg 29\n",
            "stud info: surname ბაძაღუა, name ნია, subject ობიექტზე ორიენტირებული პროგრამირება: C++, deg 82\n",
            "stud info: surname კანკია, name ნანა, subject კალკულუსი II, deg 16\n",
            "stud info: surname მაჩალაძე, name ირაკლი, subject მონაცემთა სტრუქტურები, deg 4\n",
            "stud info: surname კუსრაძე, name დიანა, subject ალგორითმებიI, deg 29\n",
            "stud info: surname გოცირიძე, name არჩილი, subject კალკულუსი II, deg 84\n",
            "stud info: surname თადუმაძე, name ნანა, subject მონაცემთა სტრუქტურები, deg 51\n",
            "stud info: surname ვარდიძე, name ანდრია, subject პროგრამირების საფუძვლები, deg 4\n",
            "stud info: surname მოდებაძე, name ქრისტინე, subject პროგრამირების საფუძვლები, deg 76\n",
            "stud info: surname ლაბაძე, name მარიამი, subject პროგრამირების საფუძვლები, deg 79\n",
            "stud info: surname ლაცაბიძე, name სანდრო, subject კომპიუტერული უნარ-ჩვევები, deg 69\n",
            "stud info: surname ბერიანიძე, name ჯაბა, subject ალგორითმებიI, deg 60\n",
            "stud info: surname არჩვაძე, name ჯაბა, subject ფიზიკის შესავალი, deg 39\n",
            "stud info: surname კანკია, name ნატა, subject კომპიუტერული უნარ-ჩვევები, deg 51\n",
            "stud info: surname კასრაძე, name თინიკო, subject ალგორითმებიI, deg 4\n",
            "stud info: surname კორძაია, name მაკა, subject ფიზიკის შესავალი, deg 79\n",
            "stud info: surname მაჩალაძე, name პაატა, subject კალკულუსი II, deg 20\n",
            "stud info: surname თადუმაძე, name დათა, subject კალკულუსი II, deg 28\n",
            "stud info: surname გიორგაძე, name ნანი, subject ობიექტზე ორიენტირებული პროგრამირება: C++, deg 94\n",
            "stud info: surname მიქაძე, name ანა, subject კომპიუტერული უნარ-ჩვევები, deg 28\n",
            "stud info: surname მარჯანიძე, name ნონა, subject ქიმიის შესავალი, deg 66\n",
            "stud info: surname ვარდიძე, name რამინი, subject კომპიუტერული უნარ-ჩვევები, deg 7\n",
            "stud info: surname გიორგაძე, name დავითი, subject ფიზიკის შესავალი, deg 87\n",
            "stud info: surname კვინიკაძე, name ია, subject პროგრამირების საფუძვლები, deg 15\n",
            "stud info: surname მაისურაძე, name თათია, subject კალკულუსი II, deg 15\n",
            "stud info: surname კანკია, name ჯემალ, subject მონაცემთა სტრუქტურები, deg 30\n",
            "stud info: surname კასრაძე, name რომანი, subject პროგრამირების საფუძვლები, deg 99\n",
            "stud info: surname ანთიძე, name ნინო, subject პროგრამირების საფუძვლები, deg 88\n",
            "stud info: surname კვესელავა, name ალიკა, subject ქიმიის შესავალი, deg 97\n",
            "stud info: surname კვესელავა, name ირაკლი, subject ალგორითმები II, deg 100\n",
            "stud info: surname მელია, name შოთა, subject პროგრამირების საფუძვლები, deg 52\n",
            "stud info: surname კორძაია, name რაული, subject კომპიუტერული უნარ-ჩვევები, deg 70\n",
            "stud info: surname კვესელავა, name ბაჩუკი, subject მონაცემთა სტრუქტურები, deg 74\n",
            "stud info: surname მარჯანიძე, name იამზე, subject ალგორითმებიI, deg 32\n",
            "stud info: surname ახალაია, name ასლანი, subject მონაცემთა სტრუქტურები, deg 61\n",
            "stud info: surname ლაბაძე, name ალეკო, subject ფიზიკის შესავალი, deg 44\n",
            "stud info: surname არჩვაძე, name ირაკლი, subject პროგრამირების საფუძვლები, deg 68\n",
            "stud info: surname არჩვაძე, name სერგი, subject პროგრამირების საფუძვლები, deg 73\n",
            "stud info: surname მელია, name რაული, subject პროგრამირების საფუძვლები, deg 78\n",
            "stud info: surname კვარაცხელია, name ანდრია, subject მონაცემთა სტრუქტურები, deg 28\n",
            "stud info: surname კორძაია, name გიორგი, subject ობიექტზე ორიენტირებული პროგრამირება: C++, deg 23\n",
            "stud info: surname აბაშიძე, name რომა, subject ობიექტზე ორიენტირებული პროგრამირება: C++, deg 4\n",
            "stud info: surname მარჯანიძე, name თათია, subject ალგორითმები II, deg 100\n",
            "stud info: surname გოგალაძე, name ლია, subject ფიზიკის შესავალი, deg 40\n",
            "stud info: surname მონიავა, name თეკლე, subject კომპიუტერული უნარ-ჩვევები, deg 41\n",
            "stud info: surname კვესელავა, name ეკა, subject პროგრამირების საფუძვლები, deg 84\n",
            "stud info: surname გიგაური, name ნატო, subject ფიზიკის შესავალი, deg 39\n",
            "stud info: surname ლაბაძე, name თინიკო, subject ობიექტზე ორიენტირებული პროგრამირება: C++, deg 77\n",
            "stud info: surname ზარანდია, name ლაშა, subject ქიმიის შესავალი, deg 56\n",
            "stud info: surname დალაქიშვილი, name ნინო, subject ფიზიკის შესავალი, deg 46\n",
            "stud info: surname ახალაია, name ვერონიკა, subject პროგრამირების საფუძვლები, deg 96\n",
            "stud info: surname კანკია, name შალვა, subject ალგორითმებიI, deg 4\n",
            "stud info: surname მარჯანიძე, name ია, subject ობიექტზე ორიენტირებული პროგრამირება: C++, deg 46\n",
            "stud info: surname კოპაძე, name არჩილი, subject მონაცემთა სტრუქტურები, deg 1\n",
            "stud info: surname კაპანაძე, name ჯაბა, subject ქიმიის შესავალი, deg 84\n",
            "stud info: surname აბაშიძე, name თეკლე, subject მონაცემთა სტრუქტურები, deg 2\n",
            "stud info: surname ზარანდია, name ალიკა, subject ფიზიკის შესავალი, deg 24\n",
            "stud info: surname კანკია, name ირაკლი, subject ალგორითმები II, deg 11\n",
            "stud info: surname ლაცაბიძე, name თამარი, subject კომპიუტერული უნარ-ჩვევები, deg 41\n",
            "stud info: surname კორძაია, name ხატია, subject კომპიუტერული უნარ-ჩვევები, deg 34\n",
            "stud info: surname გიგაური, name ანდრია, subject ფიზიკის შესავალი, deg 27\n",
            "stud info: surname მონიავა, name სერგი, subject ფიზიკის შესავალი, deg 94\n",
            "stud info: surname მოდებაძე, name ალიკა, subject კომპიუტერული უნარ-ჩვევები, deg 96\n",
            "stud info: surname მიქაძე, name ეკა, subject ალგორითმები II, deg 84\n",
            "stud info: surname მოდებაძე, name რამინი, subject ალგორითმები II, deg 38\n",
            "stud info: surname კოპაძე, name ანა, subject კალკულუსი II, deg 1\n",
            "stud info: surname მიქაძე, name რატი, subject ალგორითმებიI, deg 93\n",
            "stud info: surname კორძაია, name იამზე, subject ალგორითმებიI, deg 25\n",
            "stud info: surname მელია, name ლიკა, subject ობიექტზე ორიენტირებული პროგრამირება: C++, deg 44\n",
            "stud info: surname ლაბაძე, name სიმონ, subject ობიექტზე ორიენტირებული პროგრამირება: C++, deg 89\n",
            "stud info: surname კვარაცხელია, name შორენა, subject კალკულუსი II, deg 1\n",
            "stud info: surname ვარდიძე, name სიმონ, subject ქიმიის შესავალი, deg 55\n",
            "stud info: surname მეტრეველი, name სოფიკო, subject ალგორითმებიI, deg 28\n",
            "stud info: surname ზარანდია, name იამზე, subject ალგორითმები II, deg 57\n",
            "stud info: surname ბერიშვილი, name ნატო, subject ალგორითმები II, deg 34\n",
            "stud info: surname მაცაბერიძე, name ვერონიკა, subject კალკულუსი II, deg 36\n",
            "stud info: surname კანკია, name რომანი, subject პროგრამირების საფუძვლები, deg 19\n",
            "stud info: surname გოცირიძე, name მანანა, subject ობიექტზე ორიენტირებული პროგრამირება: C++, deg 41\n",
            "stud info: surname კოპაძე, name გოგა, subject ობიექტზე ორიენტირებული პროგრამირება: C++, deg 11\n",
            "stud info: surname მეტრეველი, name ლაშა, subject ქიმიის შესავალი, deg 98\n",
            "stud info: surname კუსრაძე, name იამზე, subject ობიექტზე ორიენტირებული პროგრამირება: C++, deg 80\n",
            "stud info: surname დალაქიშვილი, name ლიკა, subject ალგორითმებიI, deg 38\n",
            "stud info: surname ბერიშვილი, name ბარბარე, subject პროგრამირების საფუძვლები, deg 36\n"
          ]
        }
      ]
    },
    {
      "cell_type": "code",
      "source": [
        "class students:\n",
        "    # __slots__ = ['sur', 'name', 'subj', 'deg']\n",
        "\n",
        "    # კონსტრუქტორი\n",
        "    def __init__(self, su, n, s, d):\n",
        "        self.sur = su\n",
        "        self.name = n\n",
        "        self.subj = s\n",
        "        self.deg = d\n",
        "\n",
        "    def __str__(self):\n",
        "        return f\"student info: {self.sur}, {self.name}, {self.subj}, {self.deg}\"\n",
        "\n",
        "    # ფუნქცია აბრუნებს ატრიბუტს და თუ არ დახვდა ასეთი ატრიბუტი დააბრუნებს შედეგს\n",
        "    def __getattr__(self, atr):\n",
        "        return f\"object has not attribute {atr} a = {self.a}\"\n",
        "\n",
        "    # ფუნქცია გადაცემულ მნიშვნელობას მიანიჭებს ატრიბუტს\n",
        "    def __setattr__(self, key, value):\n",
        "        self.__dict__[key] = value\n",
        "\n",
        "    def isgreater(self, obj):\n",
        "        if self.deg > obj.deg:\n",
        "            return self\n",
        "        else:\n",
        "            return obj"
      ],
      "metadata": {
        "id": "ovxizGw6DCrJ"
      },
      "execution_count": 31,
      "outputs": []
    },
    {
      "cell_type": "code",
      "source": [
        "studs = []\n",
        "\n",
        "for i in range(100):\n",
        "    stud = students(random.choice(LNames), random.choice([random.choice(GNames), random.choice(BNames)]),\n",
        "                    random.choice(Subject), random.choice(range(100)))\n",
        "    studs.append(stud)\n",
        "\n",
        "print(studs[4])\n",
        "print(studs[69])\n",
        "\n",
        "print(students.isgreater(studs[4], studs[69]))"
      ],
      "metadata": {
        "id": "EORh_cc3DJti",
        "outputId": "b17cbe69-dbe1-4d07-cc3b-82c8f0da9cd7",
        "colab": {
          "base_uri": "https://localhost:8080/"
        }
      },
      "execution_count": 32,
      "outputs": [
        {
          "output_type": "stream",
          "name": "stdout",
          "text": [
            "student info: ანთიძე, ოლიკო, კომპიუტერული უნარ-ჩვევები, 83\n",
            "student info: კუსრაძე, ალიკა, კალკულუსი II, 61\n",
            "student info: ანთიძე, ოლიკო, კომპიუტერული უნარ-ჩვევები, 83\n"
          ]
        }
      ]
    },
    {
      "cell_type": "code",
      "source": [
        "import os"
      ],
      "metadata": {
        "id": "gWFpyU3qScUV"
      },
      "execution_count": 53,
      "outputs": []
    },
    {
      "cell_type": "code",
      "source": [
        "a = os.walk('/content/')\n",
        "print(next(a))\n",
        "print(next(a))\n",
        "print(next(a))\n",
        "print(next(a))\n",
        "print(next(a))\n",
        "print(next(a))"
      ],
      "metadata": {
        "id": "hgZJGauYSdZY",
        "outputId": "1ea27768-ad87-43a5-f9f9-ed3eabf5433a",
        "colab": {
          "base_uri": "https://localhost:8080/"
        }
      },
      "execution_count": 65,
      "outputs": [
        {
          "output_type": "stream",
          "name": "stdout",
          "text": [
            "('/content/', ['.config', 'sample_data'], [])\n",
            "('/content/.config', ['configurations', 'logs'], ['.last_opt_in_prompt.yaml', '.last_survey_prompt.yaml', 'config_sentinel', 'active_config', 'gce', '.last_update_check.json', 'default_configs.db'])\n",
            "('/content/.config/configurations', [], ['config_default'])\n",
            "('/content/.config/logs', ['2024.04.11'], [])\n",
            "('/content/.config/logs/2024.04.11', [], ['13.20.55.387089.log', '13.21.15.072579.log', '13.20.28.090352.log', '13.21.25.919190.log', '13.21.26.545746.log', '13.21.06.258241.log'])\n",
            "('/content/sample_data', [], ['anscombe.json', 'README.md', 'california_housing_train.csv', 'california_housing_test.csv', 'mnist_test.csv', 'mnist_train_small.csv'])\n"
          ]
        }
      ]
    },
    {
      "cell_type": "code",
      "source": [
        "import os\n",
        "#(dir, dir1) = [file1, file2]\n",
        "# (dir, [dir1, dir2], [])\n",
        "# (dir1, [.ipub_mcahdkljjh], [file1, file2])\n",
        "ვალქი = os.walk(\"dir\")\n",
        "ტუპლი = next(ვალქი)\n",
        "პითონის_დირექტორია = {}\n",
        "for დირექტორია in ტუპლი[1]:\n",
        "  temp_tuple = (ტუპლი[0], დირექტორია)\n",
        "  პითონის_დირექტორია[temp_tuple] = []\n",
        "  nxt = next(os.walk(f\"{ტუპლი[0]}/{დირექტორია}\"))\n",
        "  for file in nxt[2]:\n",
        "    პითონის_დირექტორია[temp_tuple].append(f\"{ტუპლი[0]}/{დირექტორია}/{file}\")\n",
        "\n",
        "პითონის_დირექტორია"
      ],
      "metadata": {
        "id": "jDTHOqQddbet",
        "outputId": "b7fa93be-278e-480a-e8c3-cb8d83c6a0d5",
        "colab": {
          "base_uri": "https://localhost:8080/"
        }
      },
      "execution_count": 119,
      "outputs": [
        {
          "output_type": "execute_result",
          "data": {
            "text/plain": [
              "{('dir', '.ipynb_checkpoints'): [],\n",
              " ('dir', 'dir1'): ['dir/dir1/file1', 'dir/dir1/file2'],\n",
              " ('dir', 'dir2'): ['dir/dir2/file1', 'dir/dir2/file2']}"
            ]
          },
          "metadata": {},
          "execution_count": 119
        }
      ]
    },
    {
      "cell_type": "code",
      "source": [
        "import random as rd\n",
        "\n",
        "class Student:\n",
        "  def __init__(self, lname: str, fname: str, subject: list[str], grades: list[int]) -> None:\n",
        "    self.__lname: str = lname\n",
        "    self.__fname: str = fname\n",
        "    self.__subject: list[str] = subject\n",
        "    self.__grades: list[int] = grades\n",
        "\n",
        "  @property\n",
        "  def get_lname(self) -> str:\n",
        "    return self.__lname\n",
        "\n",
        "  @property\n",
        "  def get_fname(self) -> str:\n",
        "    return self.__fname\n",
        "\n",
        "  @property\n",
        "  def get_subject(self) -> list[str]:\n",
        "    return self.__subject\n",
        "\n",
        "  @property\n",
        "  def get_grades(self) -> list[int]:\n",
        "    return self.__grades\n",
        "\n",
        "  def __str__(self) -> str:\n",
        "    return f\"Student(Last name: {self.get_lname}, First name: {self.get_fname}, Subject: {self.get_subject}, Grades: {self.get_grades})\"\n",
        "\n",
        "\n",
        "LNames = ['აბაშიძე','ანთიძე','არჩვაძე','ახალაია','ბაძაღუა','ბერიანიძე','ბერიშვილი','გვენცაძე','გიგაური','გიორგაძე','გოგალაძე',\n",
        "          'გოცირიძე','დალაქიშვილი','ვარდიძე','ზარანდია','თადუმაძე','კანკია','კაპანაძე','კასრაძე','კვარაცხელია','კვესელავა',\n",
        "          'კვინიკაძე','კოპაძე','კორძაია','კუსრაძე','ლაბაძე','ლაცაბიძე','მაისურაძე','მარჯანიძე','მაჩალაძე','მაცაბერიძე','მელია',\n",
        "          'მეტრეველი','მიქავა','მიქაძე','მოდებაძე','მონიავა']\n",
        "GNames = ['ანა','ანუკი','ბარბარე','გვანცა','დიანა','ეკა','ელენე','ვერონიკა','ვიქტორია','თათია','თამარი','თეა','თეკლე', 'თინიკო',\n",
        "          'იზაბელა','ია','იამზე','ლია','ლიკა','ლანა','ლამზირა','მარიკა','მანანა','მაია','მაკა','მარიამი','ნანა','ნანი','ნატა','ნატო',\n",
        "          'ნია','ნინო','ნონა','ოლიკო','სალომე','სოფიკო','ქეთევანი','ქრისტინე','შორენა','ხატია']\n",
        "\n",
        "BNames = ['ალეკო','ალიკა','ამირან','ანდრია','არჩილი','ასლანი','ბაჩუკი','ბექა''გიგა','გიგი','გიორგი','გოგა','დავითი','დათა',\n",
        "          'ერეკლე','თემური','იაკობ','ილია','ირაკლი','ლადო','ლაშა','მიხეილ','ნიკა','ოთარი','პაატა','რამაზ','რამინი','რატი',\n",
        "          'რაული','რევაზი','რომა','რომანი','საბა','სანდრო','სერგი','სიმონ','შალვა','შოთა','ცოტნე','ჯაბა','ჯემალ']\n",
        "\n",
        "Subject = ['კომპიუტერული უნარ-ჩვევები', 'ფიზიკის შესავალი','ქიმიის შესავალი','კალკულუსი II',\n",
        "           'პროგრამირების საფუძვლები','ობიექტზე ორიენტირებული პროგრამირება: C++','ალგორითმებიI',\n",
        "           'ალგორითმები II','მონაცემთა სტრუქტურები']\n",
        "\n",
        "studs: list[Student] = []\n",
        "\n",
        "for i in range(100):\n",
        "    stud = Student(random.choice(LNames), random.choice([random.choice(GNames), random.choice(BNames)]),\n",
        "                    random.sample(Subject, 3), random.sample(range(100), 3))\n",
        "    studs.append(stud)\n",
        "# for i in studs:\n",
        "#   print(i)\n",
        "\n",
        "\n",
        "student_dict: dict[str] = {}\n",
        "student_names: list[str] = []\n",
        "for i in studs:\n",
        "  student_names.append(f\"{i.get_lname} {i.get_fname}\")\n",
        "student_names = tuple(student_names)\n",
        "\n",
        "for i in student_names:\n",
        "  student_dict[i] =\n",
        "\n"
      ],
      "metadata": {
        "id": "jK8HfxjJjspI",
        "outputId": "b532f5f2-a919-4bc5-9752-fe838040dbd6",
        "colab": {
          "base_uri": "https://localhost:8080/"
        }
      },
      "execution_count": 129,
      "outputs": [
        {
          "output_type": "stream",
          "name": "stdout",
          "text": [
            "კოპაძე ვერონიკა\n",
            "გიგაური რამინი\n",
            "ვარდიძე ეკა\n",
            "ბერიშვილი ლიკა\n",
            "დალაქიშვილი შოთა\n",
            "გოგალაძე შოთა\n",
            "კვესელავა ალეკო\n",
            "ბერიშვილი ალეკო\n",
            "თადუმაძე ნია\n",
            "კვინიკაძე ლიკა\n",
            "არჩვაძე რატი\n",
            "კაპანაძე ლადო\n",
            "ბერიშვილი ნატა\n",
            "კოპაძე რამინი\n",
            "მიქავა თინიკო\n",
            "გიორგაძე ანუკი\n",
            "ახალაია რომა\n",
            "თადუმაძე დიანა\n",
            "გოგალაძე დიანა\n",
            "კვინიკაძე სიმონ\n",
            "გოგალაძე თამარი\n",
            "გვენცაძე თინიკო\n",
            "გვენცაძე გიორგი\n",
            "ლაცაბიძე ბარბარე\n",
            "მაცაბერიძე ჯაბა\n",
            "გოცირიძე ბარბარე\n",
            "კვარაცხელია სალომე\n",
            "კუსრაძე ნანა\n",
            "ლაცაბიძე მანანა\n",
            "ბაძაღუა ბაჩუკი\n",
            "კასრაძე ანუკი\n",
            "აბაშიძე ვიქტორია\n",
            "კაპანაძე ნინო\n",
            "ახალაია ნიკა\n",
            "კასრაძე ასლანი\n",
            "კაპანაძე რევაზი\n",
            "კაპანაძე ირაკლი\n",
            "ანთიძე ნანა\n",
            "მეტრეველი ოლიკო\n",
            "მოდებაძე რატი\n",
            "გიორგაძე გიორგი\n",
            "ზარანდია დათა\n",
            "მაჩალაძე მაკა\n",
            "მაცაბერიძე ნატა\n",
            "გოცირიძე ცოტნე\n",
            "კვინიკაძე ეკა\n",
            "ბერიშვილი ელენე\n",
            "კუსრაძე ეკა\n",
            "ლაბაძე ლადო\n",
            "მაისურაძე ასლანი\n",
            "კანკია ირაკლი\n",
            "მაისურაძე საბა\n",
            "კასრაძე ლადო\n",
            "კოპაძე ერეკლე\n",
            "მელია თათია\n",
            "კოპაძე ბარბარე\n",
            "კვესელავა თემური\n",
            "ვარდიძე ლაშა\n",
            "ზარანდია დავითი\n",
            "დალაქიშვილი ჯაბა\n",
            "მიქაძე რომა\n",
            "ბერიანიძე დათა\n",
            "კასრაძე რამინი\n",
            "მაჩალაძე მაია\n",
            "გიორგაძე ჯაბა\n",
            "ბერიშვილი თეა\n",
            "კვესელავა ცოტნე\n",
            "დალაქიშვილი ია\n",
            "გიგაური რამინი\n",
            "კვარაცხელია რაული\n",
            "მაცაბერიძე სალომე\n",
            "ზარანდია ნანი\n",
            "გოგალაძე თემური\n",
            "ბაძაღუა რომანი\n",
            "მაისურაძე გოგა\n",
            "კაპანაძე ილია\n",
            "მაისურაძე სოფიკო\n",
            "ბერიშვილი გიორგი\n",
            "კასრაძე თათია\n",
            "არჩვაძე ნონა\n",
            "მაისურაძე მანანა\n",
            "ზარანდია ნანა\n",
            "ლაბაძე ანა\n",
            "მაისურაძე ჯემალ\n",
            "ლაბაძე გიორგი\n",
            "გოგალაძე თეკლე\n",
            "ახალაია ქეთევანი\n",
            "ახალაია თემური\n",
            "მიქავა ნია\n",
            "კანკია ლია\n",
            "გოგალაძე ერეკლე\n",
            "დალაქიშვილი დავითი\n",
            "თადუმაძე საბა\n",
            "ზარანდია ნანა\n",
            "მაისურაძე რაული\n",
            "ანთიძე ანდრია\n",
            "მაისურაძე გვანცა\n",
            "ლაბაძე დათა\n",
            "გოცირიძე მანანა\n",
            "ანთიძე დათა\n"
          ]
        }
      ]
    }
  ]
}