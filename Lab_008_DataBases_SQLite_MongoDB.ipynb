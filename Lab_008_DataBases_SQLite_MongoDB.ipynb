{
  "nbformat": 4,
  "nbformat_minor": 0,
  "metadata": {
    "colab": {
      "provenance": [],
      "authorship_tag": "ABX9TyOPsK43MhQcVFqB2Y0v8Oam",
      "include_colab_link": true
    },
    "kernelspec": {
      "name": "python3",
      "display_name": "Python 3"
    },
    "language_info": {
      "name": "python"
    }
  },
  "cells": [
    {
      "cell_type": "markdown",
      "metadata": {
        "id": "view-in-github",
        "colab_type": "text"
      },
      "source": [
        "<a href=\"https://colab.research.google.com/github/RevazRevazashvili/TSU-python-labs/blob/main/Lab_8_DataBases_SQLite_MongoDB.ipynb\" target=\"_parent\"><img src=\"https://colab.research.google.com/assets/colab-badge.svg\" alt=\"Open In Colab\"/></a>"
      ]
    },
    {
      "cell_type": "markdown",
      "source": [
        "#მონაცემების შენახვა : რელაციური და არარელაციური ბაზები. მოდულები: sqlite3, MongoDB."
      ],
      "metadata": {
        "id": "7adiWEmVNTDk"
      }
    },
    {
      "cell_type": "markdown",
      "source": [
        "1. https://www.tutorialspoint.com/sqlite/sqlite_python.htm\n",
        "2. https://docs.python.org/3/library/sqlite3.html"
      ],
      "metadata": {
        "id": "zMcRsbU0zHDE"
      }
    },
    {
      "cell_type": "markdown",
      "source": [
        "SQLite ბაზა"
      ],
      "metadata": {
        "id": "tfhKea2jNdJG"
      }
    },
    {
      "cell_type": "code",
      "execution_count": null,
      "metadata": {
        "id": "vsB83i8eNSCg"
      },
      "outputs": [],
      "source": [
        "\"\"\"\n",
        "SQLite წარმოადგენს C ენაზე შემუშავებულ მონაცემთა შენახვის რელაციურ მონაცემთა ბაზის\n",
        "პროგრამას, რომელიც არ საჭიროებს გამოყოფილ სერვერულ პროცესს და იძლევა მონაცემთა ბაზის\n",
        "მიმართ SQL (structured query language) ენის ბრძანებების გამოყენების საშუალებას. ის მსგავსი\n",
        "პროგრამებისგან განსხვავებით არ ტვირთავს ოპერაციულ სისტემას და შეიძლება გამოყენებული\n",
        "იქნას პროგრამის ლოკალური მონაცემების შესანახად. SQLite -ის მეშვეობით შესაძლებელია\n",
        "დაპროექტირებული იქნას მასშტაბური პროგრამული უზრუნველყოფის მონაცემთა ბაზა, რომელიც\n",
        "მოგვიანებით გადატანილი იქნება მრავალფუნქციურ მონაცემთა ბაზაში, როგორიცაა მაგალითად,\n",
        "PostgreSQL ან Oracle.\n",
        "\"\"\""
      ]
    },
    {
      "cell_type": "markdown",
      "source": [
        "ბაზასთან დაკავშირება"
      ],
      "metadata": {
        "id": "eBlQaYBeNwgI"
      }
    },
    {
      "cell_type": "code",
      "source": [
        "#ბაზასთან სამუშაოდ და ფუნქციონალის გამოსაყენებლად Python-ში გვაქვს sqlite3 მოდული\n",
        "\n",
        "import sqlite3"
      ],
      "metadata": {
        "id": "N_8Q_LbxNYWq"
      },
      "execution_count": 1,
      "outputs": []
    },
    {
      "cell_type": "code",
      "source": [
        "# რადგანაც შესაბამის ბაზასთან დაკავშირება შეიძლება დასრულდეს წარუმატებლად, ამიტომ სასურველია ცალკე ინსტრუქციით მოხდეს პროგრამული კოდისთვის sqlite3 მოდულში\n",
        "#განსაზღვრული Error ობიექტის მიერთება ინსტრუქციით:\n",
        "\n",
        "from sqlite3 import Error, connect\n"
      ],
      "metadata": {
        "id": "vGXdLnLTN2QK"
      },
      "execution_count": 2,
      "outputs": []
    },
    {
      "cell_type": "code",
      "source": [
        "\"\"\"\n",
        "მონაცემთა ბაზის ფაილთან დაკავშირება შესაძლებელია connect() მეთოდის გამოყენებით.\n",
        "შევნიშნოთ, რომ თუ ფაილური სისტემაში მითითებულ მისამართზე შესაბამისი მონაცემთა ბაზის\n",
        "ფაილი არ არსებობს, მაშინ ის შეიქმნება ავტომატურად.\n",
        "\"\"\""
      ],
      "metadata": {
        "id": "X9iVQA-JOVrU"
      },
      "execution_count": null,
      "outputs": []
    },
    {
      "cell_type": "code",
      "source": [
        "# ბაზასთან დაკავშირების შესაბამის კოდს ექნება სახე:\n",
        "import os\n",
        "\n",
        "db_name = os.getcwd() + '/' + 'sq2.db' # განვსაზღვროთ ბაზის სახელი\n",
        "conn = None # განვსაზღვროთ ცვლადი ბაზასთან დაკავშირებისთვის\n",
        "\n",
        "try:\n",
        "  conn = sqlite3.connect(db_name) # დავუკავშირდეთ ბაზას\n",
        "  print(f'{db_name} ბაზის ფაილთან დაკავშირება დასრულდა წარმატებით!')\n",
        "except Error as err:\n",
        "  print(f'ბაზასთან დაკავშირებისას დაფიქსირდა შეცდომა: {err}')\n",
        "# finally ბლოკის გამოყენება სასურველია იმ შემთხვევაში თუ ბაზის ფაილთან\n",
        "# საქმიანობა უკვე დამთავრებულია და საჭიროა მასთან კავშირის გაწყვეტა\n",
        "finally:\n",
        "  if conn: # თუ ბაზასთან კავშირი ჯერ კიდევ არსებობს\n",
        "    conn.close() # გავწყვიტოთ კავშირი ბაზასთან"
      ],
      "metadata": {
        "colab": {
          "base_uri": "https://localhost:8080/"
        },
        "id": "-koXSzVFOhD8",
        "outputId": "bf141dcd-a6a9-40e5-b4ef-a7f272a8891e"
      },
      "execution_count": 3,
      "outputs": [
        {
          "output_type": "stream",
          "name": "stdout",
          "text": [
            "/content/sq2.db ბაზის ფაილთან დაკავშირება დასრულდა წარმატებით!\n"
          ]
        }
      ]
    },
    {
      "cell_type": "code",
      "source": [
        "with sqlite3.connect('database.db') as conn:\n",
        "  cursor = conn.cursor()"
      ],
      "metadata": {
        "id": "fjw0NU9yS8XD"
      },
      "execution_count": null,
      "outputs": []
    },
    {
      "cell_type": "code",
      "source": [
        "\"\"\"\n",
        "ბაზასთან დაკავშირების შემდეგ საჭიროა მის მიმართ გარკვეული ინსტრუქციის შესაბამისი\n",
        "მოქმედების შესასრულებელი ბრძანების გადაწოდება. ამის გაკეთების საშუალებას იძლევა Cursor\n",
        "ობიექტი, რომელიც უნდა შეიქმნას ბაზისთვის ბრძანების გადაწოდებამდე.\n",
        "\"\"\""
      ],
      "metadata": {
        "id": "j-EzKQ_FO1Ub"
      },
      "execution_count": null,
      "outputs": []
    },
    {
      "cell_type": "code",
      "source": [
        "# Cursor ობიექტის შექმნა შესაძლებელია შემდეგი ბრძანებით:\n",
        "db_name = os.getcwd() + '/' + 'sq2.db' # განვსაზღვროთ ბაზის სახელი\n",
        "\n",
        "conn = sqlite3.connect(db_name)\n",
        "curs = conn.cursor()"
      ],
      "metadata": {
        "id": "ixNC9rWlUaZR"
      },
      "execution_count": 5,
      "outputs": []
    },
    {
      "cell_type": "code",
      "source": [
        "\"\"\"\n",
        "Cursor ობიექტის შექმნის შემდეგ შესაძლებელია ბაზის მიმართ შევასრულოთ სასურველი\n",
        "ბრძანებები მისთვის განსაზღვრული execute() მეთოდის მეშვეობით.\n",
        "\"\"\""
      ],
      "metadata": {
        "id": "rx5v8Okx5m38"
      },
      "execution_count": null,
      "outputs": []
    },
    {
      "cell_type": "code",
      "source": [
        "# ცხრილის შექმნა\n",
        "\n",
        "comm = \"\"\"\n",
        "  CREATE TABLE IF NOT EXISTS Student (\n",
        "  Id integer primary key,\n",
        "  LName text,\n",
        "  FName text,\n",
        "  Gender text\n",
        "  )\n",
        " \"\"\"\n",
        "curs.execute(comm)\n"
      ],
      "metadata": {
        "colab": {
          "base_uri": "https://localhost:8080/"
        },
        "id": "tTd7QHV55_c8",
        "outputId": "cb5633ef-edbe-4448-bd6d-d83c137a200a"
      },
      "execution_count": 6,
      "outputs": [
        {
          "output_type": "execute_result",
          "data": {
            "text/plain": [
              "<sqlite3.Cursor at 0x78fdcbcc4540>"
            ]
          },
          "metadata": {},
          "execution_count": 6
        }
      ]
    },
    {
      "cell_type": "code",
      "source": [
        "comm = \"\"\" select * from Student \"\"\"\n",
        "# Stud_List = curs.execute(comm).fetchall()\n",
        "Stud_List = curs.execute(comm).fetchone()\n",
        "Stud_List"
      ],
      "metadata": {
        "id": "JvP6qr41ivCk"
      },
      "execution_count": 8,
      "outputs": []
    },
    {
      "cell_type": "code",
      "source": [
        "\"\"\"\n",
        "ცხრილის შექმნის შემდეგ საჭიროა მასში მონაცემების შეტანა. ცხრილის მონაცემებით შევსება\n",
        "შესაძლებელია INSERT INTO ბრძანების გამოყენებით.\n",
        "\"\"\""
      ],
      "metadata": {
        "id": "x1AVLUAA6s5l",
        "outputId": "81f33481-8a1d-4c1d-c1b3-af40b138b14a",
        "colab": {
          "base_uri": "https://localhost:8080/",
          "height": 36
        }
      },
      "execution_count": null,
      "outputs": [
        {
          "output_type": "execute_result",
          "data": {
            "text/plain": [
              "'\\nცხრილის შექმნის შემდეგ საჭიროა მასში მონაცემების შეტანა. ცხრილის მონაცემებით შევსება\\nშესაძლებელია INSERT INTO ბრძანების გამოყენებით.\\n'"
            ],
            "application/vnd.google.colaboratory.intrinsic+json": {
              "type": "string"
            }
          },
          "metadata": {},
          "execution_count": 83
        }
      ]
    },
    {
      "cell_type": "code",
      "source": [
        "comm = \"\"\"\n",
        "  insert into Student\n",
        "  ( LName, FName, Gender)\n",
        "  values\n",
        "  (\"ანთიძე\", \"ანა\", \"მდედრობითი\")\n",
        " \"\"\"\n",
        "curs.execute(comm)"
      ],
      "metadata": {
        "id": "RKQeSDg-6ujz",
        "outputId": "405b0f20-dad6-4829-e6e2-9f41d9786e66",
        "colab": {
          "base_uri": "https://localhost:8080/"
        }
      },
      "execution_count": 9,
      "outputs": [
        {
          "output_type": "execute_result",
          "data": {
            "text/plain": [
              "<sqlite3.Cursor at 0x78fdcbcc4540>"
            ]
          },
          "metadata": {},
          "execution_count": 9
        }
      ]
    },
    {
      "cell_type": "code",
      "source": [
        "comm = \"\"\" select * from Student \"\"\"\n",
        "Stud_List = curs.execute(comm).fetchall()\n",
        "# Stud_List = curs.execute(comm).fetchone()\n",
        "Stud_List"
      ],
      "metadata": {
        "id": "1Cvsy4DOlqYc",
        "outputId": "c7c7bfa4-a237-463c-909d-6d495db85abf",
        "colab": {
          "base_uri": "https://localhost:8080/"
        }
      },
      "execution_count": 11,
      "outputs": [
        {
          "output_type": "execute_result",
          "data": {
            "text/plain": [
              "[(1, 'ანთიძე', 'ანა', 'მდედრობითი')]"
            ]
          },
          "metadata": {},
          "execution_count": 11
        }
      ]
    },
    {
      "cell_type": "code",
      "source": [
        "\"\"\"\n",
        "შევნიშნოთ, რომ INSERT INTO ბრძანების გამოყენებით შესაძლებელია ცხრილში\n",
        "ერთდროულად რამდენიმე ჩანაწერის გაკეთება, თუ value გასაღები სიტყვის შემდეგ ჩამოვთვლით\n",
        "შესაბამის მონაცემებს. ასევე, თუ ცხრილში მონაცემები შეგვაქვს ყველა ველის გათვალისწინებით,\n",
        "მაშინ მოყვანილ ბრძანებაში ველების დასახელებების გამოტოვება არის შესაძლებელი.\n",
        "\"\"\""
      ],
      "metadata": {
        "id": "rfNYJArD7C3_"
      },
      "execution_count": null,
      "outputs": []
    },
    {
      "cell_type": "code",
      "source": [
        "comm = \"\"\"\n",
        " insert into Student\n",
        " values\n",
        " (2, \"ბრეგვაძე\", \"გიორგი\", \"მამრობითი\"),\n",
        " (3, \"მალაზონია\", \"შოთა\", \"მამრობითი\")\n",
        " \"\"\"\n",
        "curs.execute(comm)"
      ],
      "metadata": {
        "colab": {
          "base_uri": "https://localhost:8080/"
        },
        "id": "QD5K6lRe7Ect",
        "outputId": "2b404ca3-0770-407e-9923-7752e99f31e7"
      },
      "execution_count": 12,
      "outputs": [
        {
          "output_type": "execute_result",
          "data": {
            "text/plain": [
              "<sqlite3.Cursor at 0x78fdcbcc4540>"
            ]
          },
          "metadata": {},
          "execution_count": 12
        }
      ]
    },
    {
      "cell_type": "code",
      "source": [
        "comm = \"\"\" select * from Student \"\"\"\n",
        "Stud_List = curs.execute(comm).fetchall()\n",
        "# Stud_List = curs.execute(comm).fetchone()\n",
        "Stud_List"
      ],
      "metadata": {
        "id": "UqBjfe3KVtUQ",
        "outputId": "51cc79ae-3088-4955-87e8-0aacb4223711",
        "colab": {
          "base_uri": "https://localhost:8080/"
        }
      },
      "execution_count": 13,
      "outputs": [
        {
          "output_type": "execute_result",
          "data": {
            "text/plain": [
              "[(1, 'ანთიძე', 'ანა', 'მდედრობითი'),\n",
              " (2, 'ბრეგვაძე', 'გიორგი', 'მამრობითი'),\n",
              " (3, 'მალაზონია', 'შოთა', 'მამრობითი')]"
            ]
          },
          "metadata": {},
          "execution_count": 13
        }
      ]
    },
    {
      "cell_type": "code",
      "source": [
        "comm = \"\"\"\n",
        "  insert into Student\n",
        "  (LName, FName, Gender)\n",
        "  values\n",
        "  (?, ?, ?)\n",
        "\"\"\"\n",
        "stud = [\"Mosia\", \"Iakob\", \"Male\"]\n",
        "curs.execute(comm, stud)\n"
      ],
      "metadata": {
        "id": "JZ28VgJlUSyg",
        "outputId": "9051b356-4ea3-4812-e0ad-a1ce8cb5b220",
        "colab": {
          "base_uri": "https://localhost:8080/"
        }
      },
      "execution_count": 14,
      "outputs": [
        {
          "output_type": "execute_result",
          "data": {
            "text/plain": [
              "<sqlite3.Cursor at 0x78fdcbcc4540>"
            ]
          },
          "metadata": {},
          "execution_count": 14
        }
      ]
    },
    {
      "cell_type": "code",
      "source": [
        "comm = \"\"\" select * from Student \"\"\"\n",
        "Stud_List = curs.execute(comm).fetchall()\n",
        "# Stud_List = curs.execute(comm).fetchone()\n",
        "Stud_List"
      ],
      "metadata": {
        "id": "TJGEk8-hl9BE",
        "outputId": "52762269-b23d-4057-d7cc-79b9b403ce35",
        "colab": {
          "base_uri": "https://localhost:8080/"
        }
      },
      "execution_count": 15,
      "outputs": [
        {
          "output_type": "execute_result",
          "data": {
            "text/plain": [
              "[(1, 'ანთიძე', 'ანა', 'მდედრობითი'),\n",
              " (2, 'ბრეგვაძე', 'გიორგი', 'მამრობითი'),\n",
              " (3, 'მალაზონია', 'შოთა', 'მამრობითი'),\n",
              " (4, 'Mosia', 'Iakob', 'Male')]"
            ]
          },
          "metadata": {},
          "execution_count": 15
        }
      ]
    },
    {
      "cell_type": "code",
      "source": [
        "\"\"\"\n",
        "იმ შემთხვევაში, თუ ვაპირებთ ცხრილის შევსებისას რომელიმე ველის მნიშვნელობა\n",
        "გამოვტოვოთ INSERT INTO ბრძანების გამოყენების შემდეგ უნდა ჩამოვთვალოთ დასახელებები იმ\n",
        "ველებისა, რომელთა მონაცემების შეტანასაც ვაპირებთ.\n",
        "\"\"\""
      ],
      "metadata": {
        "id": "jn3lvrKQ7Ufx"
      },
      "execution_count": null,
      "outputs": []
    },
    {
      "cell_type": "code",
      "source": [
        "comm = \"\"\"\n",
        " insert into Student\n",
        " (LName, FName, Gender)\n",
        " values\n",
        " (\"წულაია\", \"ელენე\", \"მდედრობითი\"),\n",
        " (\"მენთეშაშვილი\", \"პავლე\", \"მამრობითი\")\n",
        " \"\"\"\n",
        "curs.execute(comm)"
      ],
      "metadata": {
        "colab": {
          "base_uri": "https://localhost:8080/"
        },
        "id": "uWNAxY3b7WDO",
        "outputId": "bfede448-d2ec-4b8d-c24a-d29a862ed382"
      },
      "execution_count": 16,
      "outputs": [
        {
          "output_type": "execute_result",
          "data": {
            "text/plain": [
              "<sqlite3.Cursor at 0x78fdcbcc4540>"
            ]
          },
          "metadata": {},
          "execution_count": 16
        }
      ]
    },
    {
      "cell_type": "code",
      "source": [
        "comm = \"\"\" select * from Student \"\"\"\n",
        "Stud_List = curs.execute(comm).fetchall()\n",
        "# Stud_List = curs.execute(comm).fetchone()\n",
        "Stud_List"
      ],
      "metadata": {
        "id": "gXEpTwJxmDFL",
        "outputId": "39394355-d016-4bdf-ff3d-38c0d62be91a",
        "colab": {
          "base_uri": "https://localhost:8080/"
        }
      },
      "execution_count": 17,
      "outputs": [
        {
          "output_type": "execute_result",
          "data": {
            "text/plain": [
              "[(1, 'ანთიძე', 'ანა', 'მდედრობითი'),\n",
              " (2, 'ბრეგვაძე', 'გიორგი', 'მამრობითი'),\n",
              " (3, 'მალაზონია', 'შოთა', 'მამრობითი'),\n",
              " (4, 'Mosia', 'Iakob', 'Male'),\n",
              " (5, 'წულაია', 'ელენე', 'მდედრობითი'),\n",
              " (6, 'მენთეშაშვილი', 'პავლე', 'მამრობითი')]"
            ]
          },
          "metadata": {},
          "execution_count": 17
        }
      ]
    },
    {
      "cell_type": "code",
      "source": [
        "\"\"\"\n",
        "შევნიშნოთ, რომ რადგანაც Python ენის გამოყენებით შესაძლებელია ბაზასთან დაკავშირება და\n",
        "ბაზის მიმართ შესაბამისი ბრძანებების გამოყენება, ამიტომ INSERT INTO ბრძანების გამოყენება\n",
        "შესაძლებელია განსხვავებული ფორმითაც. კერძოდ, შესაბამისი ბრძანების გამოყენებისას ჩანაწერში\n",
        "ველებზე მნიშვნელობების ნაცვლად გამოყენებული იქნას სიმბოლო ? (კითხვის ნიშანი), ხოლო\n",
        "მოგვიანებით კი execute() მეთოდი გამოყენებული იქნას ორპარამეტრიანი ვარიანტით, რომლის\n",
        "პირველი ბრძანება იქნება ბაზასთან მიმართვის ბრძანება, ხოლო მეორე კი ცხრილში ჩასაწერი\n",
        "მნიშვნელობა.\n",
        "\"\"\""
      ],
      "metadata": {
        "id": "h4aFRj4E7lDj"
      },
      "execution_count": null,
      "outputs": []
    },
    {
      "cell_type": "code",
      "source": [
        "stud = (\"მოსია\", \"იაკობ\", \"მამრობითი\")\n",
        "comm = \"\"\"\n",
        " insert into Student\n",
        " (LName, FName, Gender)\n",
        " values\n",
        " (?, ?, ?)\n",
        " \"\"\"\n",
        "curs.execute(comm, stud)"
      ],
      "metadata": {
        "colab": {
          "base_uri": "https://localhost:8080/"
        },
        "id": "VlccwLnU7mu0",
        "outputId": "6b5bceba-fd05-4d08-9004-8dfebc6aa6f0"
      },
      "execution_count": 18,
      "outputs": [
        {
          "output_type": "execute_result",
          "data": {
            "text/plain": [
              "<sqlite3.Cursor at 0x78fdcbcc4540>"
            ]
          },
          "metadata": {},
          "execution_count": 18
        }
      ]
    },
    {
      "cell_type": "code",
      "source": [
        "comm = \"\"\" select * from Student \"\"\"\n",
        "Stud_List = curs.execute(comm).fetchall()\n",
        "# Stud_List = curs.execute(comm).fetchone()\n",
        "Stud_List"
      ],
      "metadata": {
        "id": "kIkHh-OQmH51",
        "outputId": "9ffaaa5b-64ff-48ea-f111-9ee22e6b0365",
        "colab": {
          "base_uri": "https://localhost:8080/"
        }
      },
      "execution_count": 19,
      "outputs": [
        {
          "output_type": "execute_result",
          "data": {
            "text/plain": [
              "[(1, 'ანთიძე', 'ანა', 'მდედრობითი'),\n",
              " (2, 'ბრეგვაძე', 'გიორგი', 'მამრობითი'),\n",
              " (3, 'მალაზონია', 'შოთა', 'მამრობითი'),\n",
              " (4, 'Mosia', 'Iakob', 'Male'),\n",
              " (5, 'წულაია', 'ელენე', 'მდედრობითი'),\n",
              " (6, 'მენთეშაშვილი', 'პავლე', 'მამრობითი'),\n",
              " (7, 'მოსია', 'იაკობ', 'მამრობითი')]"
            ]
          },
          "metadata": {},
          "execution_count": 19
        }
      ]
    },
    {
      "cell_type": "code",
      "source": [
        "\"\"\"\n",
        "ჩანაწერის ასეთი სახით გაკეთების შესაძლებლობა იძლევა წინასწარ გამზადებული\n",
        "სიმრავლის გამოყენებით ბაზაში დიდი რაოდენობით ჩანაწერის გაკეთების საშუალებას. ამ\n",
        "შემთხვევაში ბაზაზე შესაბამისი ბრძანებით მიმართვისთვის execute() მეთოდის ნაცვლად ხდება\n",
        "executemany() მეთოდის გამოყენება, რომელიც ღებულობს 2 პარამეტრს. პირველი პარამეტრით\n",
        "ხდება ბაზის შესაბამისი ბრძანების მითითება, ხოლო მეორე პარამეტრით კი შესაბამისი სიმრავლის\n",
        "მითითება.\n",
        "\"\"\""
      ],
      "metadata": {
        "id": "FSBEzTK67yMX"
      },
      "execution_count": null,
      "outputs": []
    },
    {
      "cell_type": "code",
      "source": [
        "Stud_List = [\n",
        " [\"ბერიანიძე\", \"გვანცა\", \"მდედრობითი\"],\n",
        " [\"ლაბაძე\", \"დავითი\", \"მამრობითი\"],\n",
        " [\"დალაქიშვილი\", \"თამარი\", \"მდედრობითი\"],\n",
        " [\"მოსია\", \"იაკობ\", \"მამრობითი\"]\n",
        "]\n",
        "comm = \"\"\"\n",
        " insert into Student\n",
        " (LName, FName, Gender)\n",
        " values\n",
        " (?,?,?)\n",
        " \"\"\"\n",
        "curs.executemany(comm, Stud_List)\n"
      ],
      "metadata": {
        "colab": {
          "base_uri": "https://localhost:8080/"
        },
        "id": "C8oX7oYU7zpE",
        "outputId": "b744cb50-d7f6-4338-9c50-012a178cfb62"
      },
      "execution_count": 21,
      "outputs": [
        {
          "output_type": "execute_result",
          "data": {
            "text/plain": [
              "<sqlite3.Cursor at 0x78fdcbcc4540>"
            ]
          },
          "metadata": {},
          "execution_count": 21
        }
      ]
    },
    {
      "cell_type": "code",
      "source": [
        "comm = \"\"\" select * from Student \"\"\"\n",
        "Stud_List = curs.execute(comm).fetchall()\n",
        "# Stud_List = curs.execute(comm).fetchone()\n",
        "Stud_List"
      ],
      "metadata": {
        "id": "n_926gDCmRti",
        "outputId": "7ebc66c8-108c-4017-be98-8985e0e9f6d5",
        "colab": {
          "base_uri": "https://localhost:8080/"
        }
      },
      "execution_count": 22,
      "outputs": [
        {
          "output_type": "execute_result",
          "data": {
            "text/plain": [
              "[(1, 'ანთიძე', 'ანა', 'მდედრობითი'),\n",
              " (2, 'ბრეგვაძე', 'გიორგი', 'მამრობითი'),\n",
              " (3, 'მალაზონია', 'შოთა', 'მამრობითი'),\n",
              " (4, 'Mosia', 'Iakob', 'Male'),\n",
              " (5, 'წულაია', 'ელენე', 'მდედრობითი'),\n",
              " (6, 'მენთეშაშვილი', 'პავლე', 'მამრობითი'),\n",
              " (7, 'მოსია', 'იაკობ', 'მამრობითი'),\n",
              " (8, 'ბერიანიძე', 'გვანცა', 'მდედრობითი'),\n",
              " (9, 'ლაბაძე', 'დავითი', 'მამრობითი'),\n",
              " (10, 'დალაქიშვილი', 'თამარი', 'მდედრობითი'),\n",
              " (11, 'მოსია', 'იაკობ', 'მამრობითი')]"
            ]
          },
          "metadata": {},
          "execution_count": 22
        }
      ]
    },
    {
      "cell_type": "code",
      "source": [
        "\"\"\"\n",
        "ცხრილის შექმნიდან გარკვეული პერიოდის გავლის შემდეგ შეიძლება აღმოჩნდეს, რომ\n",
        "ცხრილში საჭიროა ახალი ველის დამატება. ამის გაკეთება შესაძლებელია ბრძანებით ALTER TABLE.\n",
        "ALTER TABLE ბრძანების გამოყენებით ასევე შესაძლებელია ცხრილისთვის სახელის შეცვლა.\n",
        "ბრძანების გამოყენებისას არსებობს გარკვეული შეზღუდვები, რომელთაგან ერთერთი\n",
        "მდგომარეობს იმაში, რომ ALTER TABLE ბრძანების გამოყენებით არ უნდა მოხდეს ისეთი ველის\n",
        "შექმნა, რომელიც გამოყენებული იქნება გასაღების როლში. შევნიშნოთ, რომ თუ ცხრილისთვის\n",
        "ახალი ველის ჩამატების აუცილებლობის შემთხვევაში საჭიროა ასეთ ველს განესაზღვროს\n",
        "მნიშვნელობა NOT NULL, მაშინ უნდა მოხდეს შესაბამისი ველისთვის ე.წ. გაჩუმებითი\n",
        "მნიშვნელობის განსაზღვრა, რისი გაკეთებაც შესაძლებელია ბრძანებაში DEFAULT გასაღების სიტყვის\n",
        "გამოყენებით.\n",
        "\"\"\""
      ],
      "metadata": {
        "colab": {
          "base_uri": "https://localhost:8080/"
        },
        "id": "At7hZ5Mv758b",
        "outputId": "666dd673-7f0b-4523-b153-6412190bed0d"
      },
      "execution_count": null,
      "outputs": [
        {
          "output_type": "stream",
          "name": "stdout",
          "text": [
            "<sqlite3.Cursor object at 0x7dae2ef2e440>\n"
          ]
        }
      ]
    },
    {
      "cell_type": "code",
      "source": [
        "comm = \"\"\"\n",
        " ALTER TABLE Student\n",
        " ADD COLUMN age integer default -1\n",
        " \"\"\"\n",
        "curs.execute(comm)"
      ],
      "metadata": {
        "id": "YGvwr-RR8D9M",
        "outputId": "155ab8a3-f888-4b1c-bd1d-fa0fb946d552",
        "colab": {
          "base_uri": "https://localhost:8080/"
        }
      },
      "execution_count": 23,
      "outputs": [
        {
          "output_type": "execute_result",
          "data": {
            "text/plain": [
              "<sqlite3.Cursor at 0x78fdcbcc4540>"
            ]
          },
          "metadata": {},
          "execution_count": 23
        }
      ]
    },
    {
      "cell_type": "code",
      "source": [
        "comm = \"\"\" select * from Student \"\"\"\n",
        "Stud_List = curs.execute(comm).fetchall()\n",
        "# Stud_List = curs.execute(comm).fetchone()\n",
        "Stud_List"
      ],
      "metadata": {
        "id": "dAdp1H48malT",
        "outputId": "6b18f55f-d3a6-45b1-8927-9704f9cbe596",
        "colab": {
          "base_uri": "https://localhost:8080/"
        }
      },
      "execution_count": 24,
      "outputs": [
        {
          "output_type": "execute_result",
          "data": {
            "text/plain": [
              "[(1, 'ანთიძე', 'ანა', 'მდედრობითი', -1),\n",
              " (2, 'ბრეგვაძე', 'გიორგი', 'მამრობითი', -1),\n",
              " (3, 'მალაზონია', 'შოთა', 'მამრობითი', -1),\n",
              " (4, 'Mosia', 'Iakob', 'Male', -1),\n",
              " (5, 'წულაია', 'ელენე', 'მდედრობითი', -1),\n",
              " (6, 'მენთეშაშვილი', 'პავლე', 'მამრობითი', -1),\n",
              " (7, 'მოსია', 'იაკობ', 'მამრობითი', -1),\n",
              " (8, 'ბერიანიძე', 'გვანცა', 'მდედრობითი', -1),\n",
              " (9, 'ლაბაძე', 'დავითი', 'მამრობითი', -1),\n",
              " (10, 'დალაქიშვილი', 'თამარი', 'მდედრობითი', -1),\n",
              " (11, 'მოსია', 'იაკობ', 'მამრობითი', -1)]"
            ]
          },
          "metadata": {},
          "execution_count": 24
        }
      ]
    },
    {
      "cell_type": "code",
      "source": [
        "# ცხრილის სახელის შეცვლის კოდი\n",
        "\n",
        "comm = \"\"\"\n",
        " alter table Student\n",
        " rename to TSU_Student\n",
        " \"\"\"\n",
        "curs.execute(comm)\n"
      ],
      "metadata": {
        "colab": {
          "base_uri": "https://localhost:8080/"
        },
        "id": "w0MkUrjK8e1-",
        "outputId": "a83c40f7-0d9f-4564-8fb9-3fc3f912cb0b"
      },
      "execution_count": 25,
      "outputs": [
        {
          "output_type": "execute_result",
          "data": {
            "text/plain": [
              "<sqlite3.Cursor at 0x78fdcbcc4540>"
            ]
          },
          "metadata": {},
          "execution_count": 25
        }
      ]
    },
    {
      "cell_type": "code",
      "source": [
        "comm = \"\"\"\n",
        "alter table TSU_Student\n",
        "rename to Student\n",
        "\"\"\"\n",
        "curs.execute(comm)"
      ],
      "metadata": {
        "colab": {
          "base_uri": "https://localhost:8080/"
        },
        "id": "pgxeresa9HGT",
        "outputId": "d2d70a3d-bd03-4c62-9d98-5f4580133b44"
      },
      "execution_count": 26,
      "outputs": [
        {
          "output_type": "execute_result",
          "data": {
            "text/plain": [
              "<sqlite3.Cursor at 0x78fdcbcc4540>"
            ]
          },
          "metadata": {},
          "execution_count": 26
        }
      ]
    },
    {
      "cell_type": "code",
      "source": [
        "\"\"\"\n",
        "ბუნებრივია, რომ ცხრილში ახალი ველის ჩამატების შემთხვევაში აუცილებელი იქნება\n",
        "შესაბამის ველზე მნიშვნელობის განახლება, ან ბაზის შევსებისას დაშვებული შეცდომის აღმოჩენის\n",
        "შემთხვევაში საჭირო იქნება შესაბამისი ჩანაწერის განახლება. ბაზაში გაკეთებული ჩანაწერის\n",
        "განახლების საშუალებას იძლევა ბრძანება UPDATE.\n",
        "\"\"\""
      ],
      "metadata": {
        "id": "oxAiGqYM8pTd"
      },
      "execution_count": null,
      "outputs": []
    },
    {
      "cell_type": "code",
      "source": [
        "comm = \"\"\"\n",
        " UPDATE Student\n",
        " SET age = 20\n",
        " WHERE Id = 1\n",
        " \"\"\"\n",
        "curs.execute(comm)\n"
      ],
      "metadata": {
        "colab": {
          "base_uri": "https://localhost:8080/"
        },
        "id": "J_Q5pxce8xaY",
        "outputId": "b57edc57-c8c9-46c3-ced4-ac57b29fbd20"
      },
      "execution_count": 27,
      "outputs": [
        {
          "output_type": "execute_result",
          "data": {
            "text/plain": [
              "<sqlite3.Cursor at 0x78fdcbcc4540>"
            ]
          },
          "metadata": {},
          "execution_count": 27
        }
      ]
    },
    {
      "cell_type": "code",
      "source": [
        "comm = \"\"\" select * from Student \"\"\"\n",
        "Stud_List = curs.execute(comm).fetchall()\n",
        "# Stud_List = curs.execute(comm).fetchone()\n",
        "Stud_List"
      ],
      "metadata": {
        "id": "1OZ0aPnJmxJL",
        "outputId": "6dc118b8-9606-4207-ab1b-36ba4b21f233",
        "colab": {
          "base_uri": "https://localhost:8080/"
        }
      },
      "execution_count": 28,
      "outputs": [
        {
          "output_type": "execute_result",
          "data": {
            "text/plain": [
              "[(1, 'ანთიძე', 'ანა', 'მდედრობითი', 20),\n",
              " (2, 'ბრეგვაძე', 'გიორგი', 'მამრობითი', -1),\n",
              " (3, 'მალაზონია', 'შოთა', 'მამრობითი', -1),\n",
              " (4, 'Mosia', 'Iakob', 'Male', -1),\n",
              " (5, 'წულაია', 'ელენე', 'მდედრობითი', -1),\n",
              " (6, 'მენთეშაშვილი', 'პავლე', 'მამრობითი', -1),\n",
              " (7, 'მოსია', 'იაკობ', 'მამრობითი', -1),\n",
              " (8, 'ბერიანიძე', 'გვანცა', 'მდედრობითი', -1),\n",
              " (9, 'ლაბაძე', 'დავითი', 'მამრობითი', -1),\n",
              " (10, 'დალაქიშვილი', 'თამარი', 'მდედრობითი', -1),\n",
              " (11, 'მოსია', 'იაკობ', 'მამრობითი', -1)]"
            ]
          },
          "metadata": {},
          "execution_count": 28
        }
      ]
    },
    {
      "cell_type": "code",
      "source": [
        "\"\"\"\n",
        "დროთა განმავლობაში შესაძლებელია ბაზიდან საჭირო გახდეს არსებული ჩანაწერის ამოშლა.\n",
        "ამის გაკეთება შესაძლებელია DELETE ბრძანების გამოყენებით. თუ ბრძანების გამოყენებისას არ\n",
        "ხდება WHERE გასაღები სიტყვის გამოყენება, მაშინ ბაზის შესაბამისი ცხრილიდან იშლება ყველა\n",
        "ჩანაწერი. WHERE გასაღები სიტყვის გამოყენების შემთხვევაში კი იშლება მითითებული პირობის\n",
        "დამაკმაყოფილებელი ერთი ან ყველა ჩანაწერი.\n",
        "\"\"\""
      ],
      "metadata": {
        "id": "52A6Kr728zzm"
      },
      "execution_count": null,
      "outputs": []
    },
    {
      "cell_type": "code",
      "source": [
        "comm = \"\"\"\n",
        " delete from Student\n",
        " where Id = 3\n",
        " \"\"\"\n",
        "curs.execute(comm)"
      ],
      "metadata": {
        "colab": {
          "base_uri": "https://localhost:8080/"
        },
        "id": "5nB-MgwU9ASp",
        "outputId": "71a4833b-243a-40d4-d5d1-0698c2c41c44"
      },
      "execution_count": 29,
      "outputs": [
        {
          "output_type": "execute_result",
          "data": {
            "text/plain": [
              "<sqlite3.Cursor at 0x78fdcbcc4540>"
            ]
          },
          "metadata": {},
          "execution_count": 29
        }
      ]
    },
    {
      "cell_type": "code",
      "source": [
        "comm = \"\"\" select * from Student \"\"\"\n",
        "Stud_List = curs.execute(comm).fetchall()\n",
        "# Stud_List = curs.execute(comm).fetchone()\n",
        "Stud_List"
      ],
      "metadata": {
        "id": "GUOKD4Xtm3C_",
        "outputId": "a436bbb9-6817-44b4-9e0d-f8f532a56324",
        "colab": {
          "base_uri": "https://localhost:8080/"
        }
      },
      "execution_count": 30,
      "outputs": [
        {
          "output_type": "execute_result",
          "data": {
            "text/plain": [
              "[(1, 'ანთიძე', 'ანა', 'მდედრობითი', 20),\n",
              " (2, 'ბრეგვაძე', 'გიორგი', 'მამრობითი', -1),\n",
              " (4, 'Mosia', 'Iakob', 'Male', -1),\n",
              " (5, 'წულაია', 'ელენე', 'მდედრობითი', -1),\n",
              " (6, 'მენთეშაშვილი', 'პავლე', 'მამრობითი', -1),\n",
              " (7, 'მოსია', 'იაკობ', 'მამრობითი', -1),\n",
              " (8, 'ბერიანიძე', 'გვანცა', 'მდედრობითი', -1),\n",
              " (9, 'ლაბაძე', 'დავითი', 'მამრობითი', -1),\n",
              " (10, 'დალაქიშვილი', 'თამარი', 'მდედრობითი', -1),\n",
              " (11, 'მოსია', 'იაკობ', 'მამრობითი', -1)]"
            ]
          },
          "metadata": {},
          "execution_count": 30
        }
      ]
    },
    {
      "cell_type": "code",
      "source": [
        "\"\"\"\n",
        "ბაზასთან მუშაობისას ხშირად საჭირო ხდება სხვადასხვა სახის მონაცემების მიღების აუცილებლობა.\n",
        "ბაზიდან მონაცემების მიღება შესაძლებელია SELECT ბრძანების გამოყენებით. ბრძანების გამოყენებით\n",
        "მიიღება ობიექტი, რომლის გამოყენებაც შეუძლებელია. გამოყენებადი მონაცემის მისაღებად საჭიროა\n",
        "მიღებული ობიექტის მიმართ გამოვიყენოთ fetchall() მეთოდი, რომელიც ბაზის ჩანაწერებს აბრუნებს\n",
        "list-ის სახით.\n",
        "\"\"\""
      ],
      "metadata": {
        "id": "oyf8zqbo9Wct"
      },
      "execution_count": null,
      "outputs": []
    },
    {
      "cell_type": "code",
      "source": [
        "comm = \"\"\" select * from Student \"\"\"\n",
        "Stud_List = curs.execute(comm).fetchall()\n",
        "Stud_List"
      ],
      "metadata": {
        "colab": {
          "base_uri": "https://localhost:8080/"
        },
        "id": "O3JTJaCL9wVr",
        "outputId": "72da4342-bd4d-4b0e-c0d5-e75ada1cf740"
      },
      "execution_count": 31,
      "outputs": [
        {
          "output_type": "execute_result",
          "data": {
            "text/plain": [
              "(1, 'ანთიძე', 'ანა', 'მდედრობითი', 20)"
            ]
          },
          "metadata": {},
          "execution_count": 31
        }
      ]
    },
    {
      "cell_type": "code",
      "source": [
        "\"\"\"\n",
        "ცხრილში განხორციელებული ყოველი ცვლილება უნდა იქნას შენახული. ამის გაკეთება\n",
        "შესაძლებელია ბაზათან დაკავშირების ობიექტისთვის commit() მეთოდის გამოყენებით.\n",
        "\"\"\""
      ],
      "metadata": {
        "id": "cpeTKpEF-LHa"
      },
      "execution_count": null,
      "outputs": []
    },
    {
      "cell_type": "code",
      "source": [
        "conn.commit()"
      ],
      "metadata": {
        "id": "5FJoemeD-P4g"
      },
      "execution_count": 32,
      "outputs": []
    },
    {
      "cell_type": "code",
      "source": [
        "\"\"\"\n",
        "მოყვანილ ფრაგმენტში სიმბოლო * ხაზს უსვამს, რომ ხდება ბაზიდან ყველა ველის მნიშვნელობის\n",
        "ამოღება. თუ ბაზიდან საჭიროა მხოლოდ ზოგიერთი ველის მნიშვნელობის ამოღება, მაშინ\n",
        "სიმბოლო * -ის გამოყენების ნაცვლად უნდა მოხდეს იმ ველების ჩამოთვლა, რომელი ველის\n",
        "მნიშვნელობების ამოღებასაც ვაპირებთ.\n",
        "\"\"\""
      ],
      "metadata": {
        "id": "moSbrXFQ-SyS"
      },
      "execution_count": null,
      "outputs": []
    },
    {
      "cell_type": "code",
      "source": [
        "comm = \"\"\"\n",
        "select\n",
        "LName,\n",
        "FName\n",
        "from Student\n",
        "\"\"\"\n",
        "Stud_List = curs.execute(comm).fetchall()\n",
        "Stud_List"
      ],
      "metadata": {
        "id": "snpF1oY0-b9p",
        "outputId": "16175a0c-d71d-4c64-efe0-f7441110f646",
        "colab": {
          "base_uri": "https://localhost:8080/"
        }
      },
      "execution_count": 33,
      "outputs": [
        {
          "output_type": "execute_result",
          "data": {
            "text/plain": [
              "[('ანთიძე', 'ანა'),\n",
              " ('ბრეგვაძე', 'გიორგი'),\n",
              " ('Mosia', 'Iakob'),\n",
              " ('წულაია', 'ელენე'),\n",
              " ('მენთეშაშვილი', 'პავლე'),\n",
              " ('მოსია', 'იაკობ'),\n",
              " ('ბერიანიძე', 'გვანცა'),\n",
              " ('ლაბაძე', 'დავითი'),\n",
              " ('დალაქიშვილი', 'თამარი'),\n",
              " ('მოსია', 'იაკობ')]"
            ]
          },
          "metadata": {},
          "execution_count": 33
        }
      ]
    },
    {
      "cell_type": "code",
      "source": [
        "\"\"\"\n",
        "თუ დამატებით საჭიროა ბაზიდან ამოღებული მონაცემი დალაგებული იყოს გვარის ზრდადი\n",
        "(კლებადი) მიმდევრობით, მაშინ ამის გაკეთება შესაძლებელია ბრძანებით ORDER BY, რომელსაც\n",
        "შესაბამისად უნდა მიეთითოს პარამეტრი ASC (DESC).\n",
        "\"\"\""
      ],
      "metadata": {
        "id": "do9_7BP1-iqh"
      },
      "execution_count": null,
      "outputs": []
    },
    {
      "cell_type": "code",
      "source": [
        "comm = \"\"\"\n",
        "select\n",
        "LName,\n",
        "FName\n",
        "from Student\n",
        "order by\n",
        "LName\n",
        "ASC\n",
        "\"\"\"\n",
        "Stud_List = curs.execute(comm).fetchall()\n",
        "Stud_List"
      ],
      "metadata": {
        "id": "jXhcqh8K-kPC",
        "outputId": "fd52844d-d9b5-41ab-e862-6c622f0dd756",
        "colab": {
          "base_uri": "https://localhost:8080/"
        }
      },
      "execution_count": 34,
      "outputs": [
        {
          "output_type": "execute_result",
          "data": {
            "text/plain": [
              "[('Mosia', 'Iakob'),\n",
              " ('ანთიძე', 'ანა'),\n",
              " ('ბერიანიძე', 'გვანცა'),\n",
              " ('ბრეგვაძე', 'გიორგი'),\n",
              " ('დალაქიშვილი', 'თამარი'),\n",
              " ('ლაბაძე', 'დავითი'),\n",
              " ('მენთეშაშვილი', 'პავლე'),\n",
              " ('მოსია', 'იაკობ'),\n",
              " ('მოსია', 'იაკობ'),\n",
              " ('წულაია', 'ელენე')]"
            ]
          },
          "metadata": {},
          "execution_count": 34
        }
      ]
    },
    {
      "cell_type": "code",
      "source": [
        "\"\"\"\n",
        "თუ ბაზასთან მუშაობისას საჭირო გახდა ერთი ან რამდენიმე ცხრილის წაშლა, მაშინ ამის\n",
        "გაკეთება შეიძლება ბრძანებით DROP TABLE. ბრძანების გამოყენების შემთხვევაში თუ ბაზაში\n",
        "შესაბამისი ცხრილი არ არსებობს წარმოიშობა შეცდომა. შეცდომის თავიდან აცილების მიზნით\n",
        "შესაძლებელია წინასწარ მოხდეს შემოწმება ცხრილის არსებობაზე და მხოლოდ ამის შემდეგ\n",
        "მოხდეს მისი წაშლა.\n",
        "\"\"\""
      ],
      "metadata": {
        "id": "HTmAaVwI9ySY"
      },
      "execution_count": null,
      "outputs": []
    },
    {
      "cell_type": "code",
      "source": [
        "comm = \"\"\"\n",
        "drop table if exists Student\n",
        "\"\"\"\n",
        "curs.execute(comm)"
      ],
      "metadata": {
        "colab": {
          "base_uri": "https://localhost:8080/"
        },
        "id": "pKuDBhTh9_XF",
        "outputId": "dc72fc1d-8503-4608-f14f-a8619aeabe3c"
      },
      "execution_count": 35,
      "outputs": [
        {
          "output_type": "execute_result",
          "data": {
            "text/plain": [
              "<sqlite3.Cursor at 0x78fdcbcc4540>"
            ]
          },
          "metadata": {},
          "execution_count": 35
        }
      ]
    },
    {
      "cell_type": "code",
      "source": [
        "# Create the database\n",
        "!sqlite3 mydb.db\n",
        "\n",
        "# Connect to the database\n",
        "conne = sqlite3.connect(\"sample_data/mydb.db\")\n",
        "\n",
        "# Create the cursor\n",
        "cur = conne.cursor()\n",
        "\n",
        "comm = \"\"\"\n",
        "drop table if exists person\n",
        "\"\"\"\n",
        "\n",
        "cur.execute(comm)\n",
        "# Create the table\n",
        "comm = \"\"\"\n",
        "create table person(\n",
        "  ID INTEGER PRIMARY KEY AUTOINCREMENT,\n",
        "  LastName varchar(255) NOT NULL,\n",
        "  FirstName varchar(255),\n",
        "  Age int\n",
        ")\n",
        "\"\"\"\n",
        "cur.execute(comm)\n",
        "\n",
        "# Commit the changes\n",
        "conne.commit()\n"
      ],
      "metadata": {
        "id": "YzDJ5BW_zc3h",
        "outputId": "02a83f71-e080-4886-d6ff-0cee0a8cc0e3",
        "colab": {
          "base_uri": "https://localhost:8080/"
        }
      },
      "execution_count": 36,
      "outputs": [
        {
          "output_type": "stream",
          "name": "stdout",
          "text": [
            "/bin/bash: line 1: sqlite3: command not found\n"
          ]
        }
      ]
    },
    {
      "cell_type": "code",
      "source": [
        "LNames = ['აბაშიძე', 'გიგაური', 'არჩვაძე', 'ახალაია', 'ბაძაღუა', 'ბერიანიძე',\n",
        "'ბერიშვილი', 'გვენცაძე', 'დალაქიშვილი', 'ანთიძე', 'გიორგაძე', 'გოგალაძე', 'გოცირიძე',\n",
        "'ვარდიძე', 'ზარანდია', 'თადუმაძე', 'ლაბაძე', 'კვარაცხელია', 'კუსრაძე', 'კვესელავა',\n",
        "'კაპანაძე', 'კასრაძე', 'კვინიკაძე']\n",
        "# print(len(LNames))\n",
        "# გოგონების სახელების სიმრავლე: 40 ჩანაწერი\n",
        "GNames = ['ანა', 'ანუკი', 'ბარბარე', 'გვანცა', 'დიანა', 'ეკა', 'ელენე', 'ვერონიკა',\n",
        "'ვიქტორია', 'თათია', 'ლამზირა']\n",
        "# print(len(GNames))\n",
        "# ბიჭების სახელების სიმრავლე: 40 ჩანაწერი\n",
        "BNames = ['ალეკო', 'ალიკა', 'ამირან', 'ანდრია', 'არჩილი', 'ასლანი', 'ბაჩუკი', 'ბექა',\n",
        "'გიგა', 'გიორგი', 'დავითი', 'გიგი', 'გოგა', 'დათა', 'ერეკლე', 'თემური', 'იაკობ',\n",
        "'ილია', 'ირაკლი', 'ლადო']"
      ],
      "metadata": {
        "id": "LnppR33q9iO7"
      },
      "execution_count": 38,
      "outputs": []
    },
    {
      "cell_type": "code",
      "source": [
        "import random"
      ],
      "metadata": {
        "id": "BcxpD-C2-XGM"
      },
      "execution_count": 39,
      "outputs": []
    },
    {
      "cell_type": "code",
      "source": [
        "for i in range(15):\n",
        "  comm = \"\"\"\n",
        "  insert into person(Lastname, FirstName, Age)\n",
        "  values(?, ?, ?)\n",
        "  \"\"\"\n",
        "\n",
        "  cur.execute(comm, (random.choice(LNames), random.choice([random.choice(GNames), random.choice(BNames)]), random.choice(range(20,80))))\n"
      ],
      "metadata": {
        "id": "Qkm_b43Q90Br"
      },
      "execution_count": 40,
      "outputs": []
    },
    {
      "cell_type": "code",
      "source": [
        "comm = \"\"\" select * from person \"\"\"\n",
        "Stud_List = cur.execute(comm).fetchall()\n",
        "# Stud_List = curs.execute(comm).fetchone()\n",
        "Stud_List"
      ],
      "metadata": {
        "id": "V8O9GlQi_PGo",
        "outputId": "d9c0ef75-2d6e-4c16-f03c-abfea6a4c175",
        "colab": {
          "base_uri": "https://localhost:8080/"
        }
      },
      "execution_count": 41,
      "outputs": [
        {
          "output_type": "execute_result",
          "data": {
            "text/plain": [
              "[(1, 'კვინიკაძე', 'ბაჩუკი', 73),\n",
              " (2, 'გოცირიძე', 'ალიკა', 38),\n",
              " (3, 'კვარაცხელია', 'ვიქტორია', 31),\n",
              " (4, 'აბაშიძე', 'თათია', 61),\n",
              " (5, 'ზარანდია', 'ვერონიკა', 22),\n",
              " (6, 'არჩვაძე', 'ბარბარე', 54),\n",
              " (7, 'თადუმაძე', 'ანა', 74),\n",
              " (8, 'კუსრაძე', 'ანა', 24),\n",
              " (9, 'ბერიანიძე', 'თემური', 22),\n",
              " (10, 'ლაბაძე', 'გიგა', 71),\n",
              " (11, 'კასრაძე', 'ანუკი', 43),\n",
              " (12, 'ახალაია', 'გიგი', 51),\n",
              " (13, 'დალაქიშვილი', 'გიგი', 50),\n",
              " (14, 'გიგაური', 'დიანა', 56),\n",
              " (15, 'კვესელავა', 'ლადო', 67)]"
            ]
          },
          "metadata": {},
          "execution_count": 41
        }
      ]
    },
    {
      "cell_type": "code",
      "source": [
        "def create_file():\n",
        "  with open(\"file.txt\", \"a\") as f:\n",
        "    f.write(random.choice([random.choice(BNames), random.choice(GNames)]))\n",
        "    f.write(\" \" + random.choice(LNames) + \"\\n\")\n",
        "\n",
        "for _ in range(10):\n",
        "  create_file()\n",
        "\n",
        "\n"
      ],
      "metadata": {
        "id": "k9Y0ZL5Dc-hm"
      },
      "execution_count": 50,
      "outputs": []
    },
    {
      "cell_type": "code",
      "source": [
        "command = \"\"\"\n",
        "CREATE TABLE IF NOT EXISTS STUDENT (\n",
        "  id integer primary key autoincrement,\n",
        "  first_name varchar(50),\n",
        "  last_name varchar(50)\n",
        ")\n",
        "\"\"\"\n",
        "cur.execute(command)"
      ],
      "metadata": {
        "id": "P3k9iFPPfYSa",
        "outputId": "eccb05c5-c0a8-44e2-e94f-f7d08d4b6d92",
        "colab": {
          "base_uri": "https://localhost:8080/"
        }
      },
      "execution_count": 51,
      "outputs": [
        {
          "output_type": "execute_result",
          "data": {
            "text/plain": [
              "<sqlite3.Cursor at 0x78fdc876e0c0>"
            ]
          },
          "metadata": {},
          "execution_count": 51
        }
      ]
    },
    {
      "cell_type": "code",
      "source": [
        "add_student_command = \"\"\"\n",
        "INSERT INTO STUDENT (first_name, last_name) VALUES\n",
        "(?, ?)\n",
        "\"\"\"\n",
        "def read_file():\n",
        "  with open(\"file.txt\", \"r\") as f:\n",
        "    students = f.readlines()\n",
        "\n",
        "  return students\n",
        "for _ in range(5):\n",
        "  cur.execute(add_student_command, read_file())"
      ],
      "metadata": {
        "id": "yMJsECvdgEwx"
      },
      "execution_count": 59,
      "outputs": []
    },
    {
      "cell_type": "code",
      "source": [
        "select_command = \"\"\"\n",
        "select * from student\n",
        "\"\"\"\n",
        "cur.execute(select_command).fetchall()"
      ],
      "metadata": {
        "id": "Ofxa92p1hFdJ",
        "outputId": "9b5b9b54-e6c4-493b-a3a2-4d59ab4fe890",
        "colab": {
          "base_uri": "https://localhost:8080/"
        }
      },
      "execution_count": 74,
      "outputs": [
        {
          "output_type": "execute_result",
          "data": {
            "text/plain": [
              "[(7, 'ალიკა', 'გვენცაძე'),\n",
              " (8, 'ვიქტორია', 'გოცირიძე'),\n",
              " (9, 'იაკობ', 'ანთიძე'),\n",
              " (10, 'თათია', 'გიგაური'),\n",
              " (11, 'ანა', 'კაპანაძე'),\n",
              " (12, 'იაკობ', 'კუსრაძე'),\n",
              " (13, 'ალეკო', 'კვინიკაძე'),\n",
              " (14, 'ანუკი', 'ანთიძე'),\n",
              " (15, 'ეკა', 'გოგალაძე'),\n",
              " (16, 'ერეკლე', 'არჩვაძე')]"
            ]
          },
          "metadata": {},
          "execution_count": 74
        }
      ]
    },
    {
      "cell_type": "code",
      "source": [
        "def read_correct():\n",
        "  with open(\"file.txt\", \"r\") as f:\n",
        "    students = f.readlines()\n",
        "    correct_students = []\n",
        "    for student in students:\n",
        "      correct_students.append(student.strip(\"\\n\"))\n",
        "    return correct_students"
      ],
      "metadata": {
        "id": "reqbl5GViPKh"
      },
      "execution_count": 71,
      "outputs": []
    },
    {
      "cell_type": "code",
      "source": [
        "delete_command = \"\"\"\n",
        "delete from student\n",
        "\"\"\"\n",
        "cur.execute(delete_command)"
      ],
      "metadata": {
        "id": "9crCOzVbjCaF",
        "outputId": "c9474e7e-db83-43c4-83d5-65f6c979d8e8",
        "colab": {
          "base_uri": "https://localhost:8080/"
        }
      },
      "execution_count": 68,
      "outputs": [
        {
          "output_type": "execute_result",
          "data": {
            "text/plain": [
              "<sqlite3.Cursor at 0x78fdc876e0c0>"
            ]
          },
          "metadata": {},
          "execution_count": 68
        }
      ]
    },
    {
      "cell_type": "code",
      "source": [
        "add_student_command = \"\"\"\n",
        "INSERT INTO STUDENT (first_name, last_name) VALUES\n",
        "(?, ?)\n",
        "\"\"\"\n",
        "for student in read_correct():\n",
        "  cur.execute(add_student_command, student.split())"
      ],
      "metadata": {
        "id": "xXE_3tiujMLl"
      },
      "execution_count": 73,
      "outputs": []
    }
  ]
}
